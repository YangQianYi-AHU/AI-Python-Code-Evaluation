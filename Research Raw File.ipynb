{
 "cells": [
  {
   "cell_type": "markdown",
   "metadata": {},
   "source": [
    "# Systematic Evaluation of AI-Generated Python Code: A Comparative Study Across Progressive Programming Tasks"
   ]
  },
  {
   "cell_type": "markdown",
   "metadata": {},
   "source": [
    "#### Author : YANG QIANYI  Batch: 2022  University: Anhui University ( Branch of Artificial Intelligence, Department of Computer Science)"
   ]
  },
  {
   "cell_type": "markdown",
   "metadata": {},
   "source": [
    "##### License : MIT License"
   ]
  },
  {
   "cell_type": "markdown",
   "metadata": {},
   "source": [
    "#### Methods :"
   ]
  },
  {
   "cell_type": "markdown",
   "metadata": {},
   "source": [
    "Comprehensive list of 100 tasks to check the Python capabilities of AI models, especially for testing language models or for evaluating code generation, can cover a range of categories. Here's a structured list:"
   ]
  },
  {
   "cell_type": "markdown",
   "metadata": {},
   "source": [
    "Easy Tasks\n",
    "\n",
    "    Print a string:\n",
    "        Prompt: \"Write a Python program that prints the string 'Hello, World!' to the console.\"\n",
    "\n",
    "    Concatenate two strings:\n",
    "        Prompt: \"Write a Python program that concatenates the strings 'Hello' and 'World' with a space in between and prints the result.\"\n",
    "\n",
    "    Create a list and print it:\n",
    "        Prompt: \"Create a Python list containing the numbers 1, 2, and 3. Print the list to the console.\"\n",
    "\n",
    "    Add an element to a list:\n",
    "        Prompt: \"Write a Python program that adds the number 4 to the list [1, 2, 3] and prints the updated list.\"\n",
    "\n",
    "    Remove an element from a list:\n",
    "        Prompt: \"Write a Python program that removes the number 2 from the list [1, 2, 3] and prints the updated list.\"\n",
    "\n",
    "    Sort a list:\n",
    "        Prompt: \"Write a Python program that sorts the list [3, 1, 2] in ascending order and prints the sorted list.\"\n",
    "\n",
    "    Reverse a list:\n",
    "        Prompt: \"Write a Python program that reverses the list [1, 2, 3] and prints the reversed list.\"\n",
    "\n",
    "    Create and manipulate a dictionary:\n",
    "        Prompt: \"Create a Python dictionary with the keys 'a', 'b', and 'c' and corresponding values 1, 2, and 3. Print the dictionary to the console.\"\n",
    "\n",
    "    Access a value from a dictionary:\n",
    "        Prompt: \"Write a Python program that accesses the value associated with the key 'b' in the dictionary {'a': 1, 'b': 2, 'c': 3} and prints it.\"\n",
    "\n",
    "    Create a tuple and access its elements:\n",
    "        Prompt: \"Create a tuple (1, 2, 3) and print the first element of the tuple.\"\n",
    "\n",
    "    Write an if-else statement:\n",
    "        Prompt: \"Write a Python program that checks if a number is greater than 10. If it is, print 'Greater', otherwise print 'Not Greater'.\"\n",
    "\n",
    "    Use a for loop to iterate over a list:\n",
    "        Prompt: \"Write a Python program that uses a for loop to iterate over the list [1, 2, 3] and prints each element.\"\n",
    "\n",
    "    Use a while loop:\n",
    "        Prompt: \"Write a Python program that uses a while loop to print the numbers from 1 to 5.\"\n",
    "\n",
    "    Create a simple function:\n",
    "        Prompt: \"Write a Python function called greet that takes no arguments and prints 'Hello!' when called.\"\n",
    "\n",
    "    Call a function with arguments:\n",
    "        Prompt: \"Write a Python function called add that takes two arguments and returns their sum. Call the function with the arguments 3 and 5, and print the result.\"\n",
    "\n",
    "    Return a value from a function:\n",
    "        Prompt: \"Write a Python function called square that takes a number as an argument and returns its square. Call the function with the argument 4, and print the result.\"\n",
    "\n",
    "    Open and read a file:\n",
    "        Prompt: \"Write a Python program that opens a file named 'example.txt' in read mode and prints its contents to the console.\"\n",
    "\n",
    "    Write to a file:\n",
    "        Prompt: \"Write a Python program that opens a file named 'output.txt' in write mode, writes the string 'Hello, World!' to the file, and then closes the file.\"\n",
    "\n",
    "    Append data to a file:\n",
    "        Prompt: \"Write a Python program that opens a file named 'output.txt' in append mode, writes the string 'Appending this line.' to the file, and then closes the file.\"\n",
    "\n",
    "    Read a file line by line:\n",
    "        Prompt: \"Write a Python program that opens a file named 'example.txt' in read mode and prints each line to the console, one by one.\"\n",
    "\n",
    "    Raise an exception:\n",
    "        Prompt: \"Write a Python program that raises a ValueError with the message 'An error occurred'.\"\n",
    "\n",
    "    Break out of a loop:\n",
    "        Prompt: \"Write a Python program that uses a for loop to iterate over the numbers 1 to 10. If the number is 5, break out of the loop.\"\n",
    "\n",
    "    Continue to the next iteration in a loop:\n",
    "        Prompt: \"Write a Python program that uses a for loop to iterate over the numbers 1 to 5. If the number is 3, skip printing it and continue with the next iteration.\"\n",
    "\n",
    "    Use try-except for error handling:\n",
    "        Prompt: \"Write a Python program that attempts to divide 10 by 0 inside a try block, catches the resulting ZeroDivisionError in an except block, and prints 'Cannot divide by zero.'\"\n",
    "\n",
    "    Use a set to remove duplicates from a list:\n",
    "        Prompt: \"Write a Python program that removes duplicates from the list [1, 2, 2, 3, 4, 4, 5] using a set, and prints the resulting list.\"\n",
    "\n",
    "    Create and use a lambda function:\n",
    "        Prompt: \"Write a Python program that defines a lambda function to double a number. Use the lambda function to double the number 4 and print the result.\"\n",
    "\n",
    "    Create a function with a default argument:\n",
    "        Prompt: \"Write a Python function called greet that takes a name as an argument and prints 'Hello, [name]!' where [name] is the argument. If no name is provided, default to 'World'. Call the function without arguments and then with the argument 'Alice'.\"\n",
    "\n",
    "    Use a function as an argument to another function:\n",
    "        Prompt: \"Write a Python function called apply that takes another function and a number as arguments, applies the function to the number, and returns the result. Define a separate function called square that squares a number. Pass square and 3 as arguments to apply, and print the result.\"\n",
    "\n",
    "    Check if a file exists:\n",
    "        Prompt: \"Write a Python program that checks if a file named 'example.txt' exists in the current directory. If it does, print 'File exists', otherwise print 'File does not exist'.\"\n",
    "\n",
    "    Delete a file:\n",
    "        Prompt: \"Write a Python program that deletes a file named 'unnecessary.txt'. If the file does not exist, print 'File not found'.\"\n",
    "\n",
    "    Create a simple class:\n",
    "        Prompt: \"Write a Python class called Person that has a single attribute name. Instantiate an object of the class with the name 'Alice' and print the name.\"\n",
    "\n",
    "    Instantiate an object from a class:\n",
    "        Prompt: \"Write a Python class called Car with an attribute model. Create an instance of Car with the model 'Toyota' and print the model.\"\n",
    "\n",
    "    Use list comprehensions:\n",
    "        Prompt: \"Write a Python program that uses a list comprehension to create a list of squares for the numbers 1 through 5, and prints the resulting list.\"\n",
    "\n",
    "    Use a loop to sum the numbers in a list:\n",
    "        Prompt: \"Write a Python program that uses a for loop to sum the numbers in the list [1, 2, 3, 4, 5] and prints the result.\"\n",
    "\n",
    "    Generate a random number:\n",
    "        Prompt: \"Write a Python program that generates a random number between 1 and 10 and prints it.\"\n",
    "\n",
    "    Measure execution time of code:\n",
    "        Prompt: \"Write a Python program that measures and prints the time it takes to execute a for loop that sums the numbers from 1 to 1,000,000.\"\n",
    "\n",
    "    Use a decorator in a function:\n",
    "        Prompt: \"Write a Python decorator called my_decorator that prints 'Starting' before the decorated function is called, and 'Finished' after the function is called. Apply this decorator to a function that prints 'Hello!' and then call the decorated function.\"\n",
    "\n",
    "    Implement a class with private attributes:\n",
    "        Prompt: \"Write a Python class called BankAccount with a private attribute _balance. Implement methods to deposit and withdraw money, and a method to print the current balance.\"\n",
    "\n",
    "    Use a list of lists (2D list) to store data:\n",
    "        Prompt: \"Write a Python program that creates a 2D list representing a matrix with the following values: [[1, 2], [3, 4]]. Print the element in the first row and second column.\"\n",
    "\n",
    "    Create a decorator:\n",
    "        Prompt: \"Write a Python decorator called log_function_call that logs the name of a function each time it is called. Apply this decorator to a function that prints 'Executing function' and then call the decorated function.\"\n",
    "\n",
    "Medium Tasks\n",
    "\n",
    "    Implement a stack:\n",
    "        Prompt: \"Write a Python class called Stack that implements a stack using a list. Implement methods push, pop, and is_empty. Demonstrate the stack operations by pushing and popping some elements.\"\n",
    "\n",
    "    Implement a queue:\n",
    "        Prompt: \"Write a Python class called Queue that implements a queue using a list. Implement methods enqueue, dequeue, and is_empty. Demonstrate the queue operations by enqueueing and dequeueing some elements.\"\n",
    "\n",
    "    Use recursion to solve a problem (e.g., factorial):\n",
    "        Prompt: \"Write a Python function called factorial that calculates the factorial of a number using recursion. Calculate the factorial of 5 and print the result.\"\n",
    "\n",
    "    Define and use a class method:\n",
    "        Prompt: \"Write a Python class called Counter with a class attribute count that tracks the number of instances created. Implement a class method increment that increments count each time a new instance is created. Demonstrate this by creating multiple instances and printing count.\"\n",
    "\n",
    "    Use inheritance to create a subclass:\n",
    "        Prompt: \"Write a Python class called Animal with a method speak that prints 'Animal sound'. Create a subclass Dog that overrides speak to print 'Bark'. Instantiate Dog and call speak.\"\n",
    "\n",
    "    Override a method in a subclass:\n",
    "        Prompt: \"Write a Python class called Vehicle with a method move that prints 'Moving'. Create a subclass Car that overrides move to print 'Driving'. Instantiate Car and call move.\"\n",
    "\n",
    "    Sort a list of dictionaries by a specific key:\n",
    "        Prompt: \"Write a Python program that sorts a list of dictionaries by the key 'age'. For example, given people = [{'name': 'Alice', 'age': 25}, {'name': 'Bob', 'age': 20}], sort the list by age and print the sorted list.\"\n",
    "\n",
    "    Search for an element in a list using linear search:\n",
    "        Prompt: \"Write a Python function called linear_search that takes a list and a target value, and returns the index of the target value if found, or -1 if not found. Use this function to search for the value 3 in the list [1, 2, 3, 4, 5].\"\n",
    "\n",
    "    Implement bubble sort:\n",
    "        Prompt: \"Write a Python function called bubble_sort that implements the bubble sort algorithm to sort a list of numbers in ascending order. Use this function to sort the list [5, 3, 8, 4, 2] and print the sorted list.\"\n",
    "\n",
    "    Implement binary search:\n",
    "        Prompt: \"Write a Python function called binary_search that implements the binary search algorithm to find a target value in a sorted list. Use this function to find the index of the value 4 in the sorted list [1, 2, 3, 4, 5].\"\n",
    "\n",
    "    Create and manipulate a dictionary with nested dictionaries:\n",
    "        Prompt: \"Write a Python program that creates a dictionary representing a student's grades for different subjects, e.g., grades = {'Math': {'midterm': 90, 'final': 85}, 'Science': {'midterm': 88, 'final': 92}}. Access and print the final grade in Science.\"\n",
    "\n",
    "    Implement a linked list:\n",
    "        Prompt: \"Write a Python class called Node representing a node in a singly linked list, with attributes data and next_node. Implement a class called LinkedList with methods to insert a node at the beginning, end, and to print the list. Demonstrate by inserting and printing nodes.\"\n",
    "\n",
    "    Find the GCD of two numbers:\n",
    "        Prompt: \"Write a Python function called gcd that calculates the greatest common divisor (GCD) of two numbers using the Euclidean algorithm. Calculate the GCD of 48 and 18 and print the result.\"\n",
    "\n",
    "    Check if a number is prime:\n",
    "        Prompt: \"Write a Python function called is_prime that checks if a number is prime. Use this function to check if 29 is prime and print the result.\"\n",
    "\n",
    "    Find the factorial of a number:\n",
    "        Prompt: \"Write a Python function called factorial that calculates the factorial of a number using a loop. Calculate the factorial of 6 and print the result.\"\n",
    "\n",
    "    Create a simple Flask app:\n",
    "        Prompt: \"Write a simple Flask application with a single route that returns 'Hello, World!' when accessed. Run the Flask app and provide instructions to test the endpoint.\"\n",
    "\n",
    "    Use a loop to create a multiplication table:\n",
    "        Prompt: \"Write a Python program that uses nested loops to print a multiplication table (from 1 to 10). Format the output as a grid.\"\n",
    "\n",
    "    Implement operator overloading in a class:\n",
    "        Prompt: \"Write a Python class called Vector with attributes x and y. Overload the + operator to add two Vector objects by summing their x and y attributes. Demonstrate by adding two Vector objects and printing the result.\"\n",
    "\n",
    "    Create a recursive function to generate Fibonacci numbers:\n",
    "        Prompt: \"Write a Python function called fibonacci that generates the nth Fibonacci number using recursion. Calculate and print the 10th Fibonacci number.\"\n",
    "\n",
    "    Create a list of tuples and sort them by the second value:\n",
    "        Prompt: \"Write a Python program that creates a list of tuples representing student names and their grades, e.g., students = [('Alice', 90), ('Bob', 85), ('Charlie', 95)]. Sort the list by grades and print the sorted list.\"\n",
    "\n",
    "Hard Tasks\n",
    "\n",
    "    Create a nested loop to print a pattern:\n",
    "        Prompt: \"Write a Python program that uses nested loops to print the following pattern:\n",
    "\n",
    "        markdown\n",
    "\n",
    "        *\n",
    "        **\n",
    "        ***\n",
    "        ****\n",
    "        *****\n",
    "        ```\"\n",
    "\n",
    "    Implement a decorator that logs function calls:\n",
    "        Prompt: \"Write a Python decorator called log_call that logs the name of the function being called. Apply this decorator to a function called greet that prints 'Hello!' and call the decorated function.\"\n",
    "\n",
    "    Create a binary tree and perform in-order traversal:\n",
    "        Prompt: \"Write a Python class called TreeNode representing a node in a binary tree, with attributes data, left, and right. Implement a function to perform an in-order traversal of the tree and print the node values.\"\n",
    "\n",
    "    Implement quicksort algorithm:\n",
    "        Prompt: \"Write a Python function called quicksort that implements the quicksort algorithm to sort a list of numbers in ascending order. Use this function to sort the list [10, 7, 8, 9, 1, 5] and print the sorted list.\"\n",
    "\n",
    "    Create a REST API using Flask:\n",
    "        Prompt: \"Write a Flask application that provides a simple REST API with the following endpoints: GET /items to return a list of items, POST /items to add a new item, and DELETE /items/<id> to delete an item by ID. Provide instructions to test the API.\"\n",
    "\n",
    "    Generate and manipulate dates using datetime:\n",
    "        Prompt: \"Write a Python program that generates the current date and time using the datetime module, formats it as 'YYYY-MM-DD HH:MM\n",
    "        ', and prints it. Then calculate the date 10 days from today and print it.\"\n",
    "\n",
    "    Scrape a webpage using BeautifulSoup:\n",
    "        Prompt: \"Write a Python program that uses BeautifulSoup to scrape the titles of articles from a news website's homepage and prints them.\"\n",
    "\n",
    "    Perform linear regression using numpy:\n",
    "        Prompt: \"Write a Python program that performs linear regression on a dataset using numpy. The dataset consists of input x = [1, 2, 3, 4, 5] and output y = [2, 4, 6, 8, 10]. Calculate the slope and intercept, and print the linear equation.\"\n",
    "\n",
    "    Implement a binary search tree:\n",
    "        Prompt: \"Write a Python class called BSTNode representing a node in a binary search tree (BST), with attributes data, left, and right. Implement methods to insert a new node and search for a value in the BST. Demonstrate by inserting and searching for values.\"\n",
    "\n",
    "    Group data in a pandas DataFrame:\n",
    "        Prompt: \"Write a Python program that creates a pandas DataFrame representing sales data with columns Product, Category, and Sales. Group the data by Category and calculate the total sales for each category.\"\n",
    "\n",
    "    Merge two pandas DataFrames on a common key:\n",
    "        Prompt: \"Write a Python program that creates two pandas DataFrames representing customer orders and their details. Merge the two DataFrames on a common OrderID column and print the merged DataFrame.\"\n",
    "\n",
    "    Create and use a pivot table in pandas:\n",
    "        Prompt: \"Write a Python program that creates a pandas DataFrame representing sales data with columns Product, Region, and Sales. Create a pivot table that shows the total sales for each product by region and print the pivot table.\"\n",
    "\n",
    "    Create a simple Django project:\n",
    "        Prompt: \"Create a simple Django project with a single app called blog. The app should have a model Post with fields title and content. Create and run the necessary migrations, then use Django's admin interface to add a new post.\"\n",
    "\n",
    "    Implement merge sort algorithm:\n",
    "        Prompt: \"Write a Python function called merge_sort that implements the merge sort algorithm to sort a list of numbers in ascending order. Use this function to sort the list [12, 11, 13, 5, 6, 7] and print the sorted list.\"\n",
    "\n",
    "    Perform a database query using SQLAlchemy:\n",
    "        Prompt: \"Write a Python script that uses SQLAlchemy to connect to a SQLite database. Create a table called users with columns id, name, and email. Insert a few records, then query the table to retrieve and print the records.\"\n",
    "\n",
    "Hard to Very Hard Tasks\n",
    "\n",
    "    Create a custom exception:\n",
    "        Prompt: \"Write a Python class called CustomError that inherits from Exception and takes an error message as an argument. Raise this custom exception in a function called check_positive if the input is not a positive number.\"\n",
    "\n",
    "    Implement a max heap:\n",
    "        Prompt: \"Write a Python class called MaxHeap that implements a max heap data structure. Include methods to insert a new element, delete the maximum element, and print the heap.\"\n",
    "\n",
    "    Use multithreading to perform a task concurrently:\n",
    "        Prompt: \"Write a Python program that uses the threading module to run two functions concurrently. One function should print numbers from 1 to 5 with a delay of 1 second, and the other should print letters from A to E with a delay of 1.5 seconds.\"\n",
    "\n",
    "    Implement a LRU (Least Recently Used) cache:\n",
    "        Prompt: \"Write a Python class called LRUCache that implements a least recently used (LRU) cache. The cache should have a maximum capacity, and when the capacity is reached, the least recently used item should be removed. Include methods to get and put items in the cache.\"\n",
    "\n",
    "    Create a class with a metaclass:\n",
    "        Prompt: \"Write a Python class called MetaSingleton using a metaclass that ensures any class inheriting from it will be a singleton (i.e., only one instance of the class can exist). Demonstrate by creating two instances and showing they are the same.\"\n",
    "\n",
    "    Create a generator function to yield prime numbers:\n",
    "        Prompt: \"Write a Python generator function called prime_generator that yields an infinite sequence of prime numbers. Use the generator to print the first 10 prime numbers.\"\n",
    "\n",
    "    Create a decorator to memoize function results:\n",
    "        Prompt: \"Write a Python decorator called memoize that caches the results of a function so that it doesn't have to recompute the results for the same inputs. Apply this decorator to a recursive function that calculates Fibonacci numbers.\"\n",
    "\n",
    "    Use asyncio for asynchronous I/O:\n",
    "        Prompt: \"Write a Python program that uses the asyncio module to fetch the contents of three different URLs concurrently. Print the length of the content fetched from each URL.\"\n",
    "\n",
    "    Implement the A search algorithm:*\n",
    "        Prompt: \"Write a Python function called a_star that implements the A* search algorithm to find the shortest path in a grid. Use the function to find the shortest path from the top-left corner to the bottom-right corner of a 5x5 grid with some obstacles.\"\n",
    "\n",
    "    Create a context manager to time a block of code:\n",
    "        Prompt: \"Write a Python class called Timer that implements a context manager to measure the time taken by a block of code. Use this context manager to time a loop that sums numbers from 1 to 1 million.\"\n",
    "\n",
    "    Implement a graph data structure and perform DFS:\n",
    "        Prompt: \"Write a Python class called Graph that implements an undirected graph using an adjacency list. Include a method to perform depth-first search (DFS) starting from a given node. Demonstrate by creating a graph and performing DFS.\"\n",
    "\n",
    "    Use matplotlib to plot a function:\n",
    "        Prompt: \"Write a Python program that uses matplotlib to plot the sine and cosine functions on the same graph. Label the axes and add a legend to distinguish between the two functions.\"\n",
    "\n",
    "    Implement a priority queue:\n",
    "        Prompt: \"Write a Python class called PriorityQueue that implements a priority queue using a heap. Include methods to insert an item with a priority and remove the item with the highest priority. Demonstrate by inserting and removing items.\"\n",
    "\n",
    "    Parse a JSON file and process its contents:\n",
    "        Prompt: \"Write a Python program that reads a JSON file containing a list of dictionaries, each representing a product with keys name, price, and quantity. Calculate the total value of the inventory and print it.\"\n",
    "\n",
    "    Create a simple chatbot using NLTK:\n",
    "        Prompt: \"Write a Python program that uses the NLTK library to create a simple rule-based chatbot. The chatbot should respond to greetings and a few predefined questions. Demonstrate a conversation with the chatbot.\"\n",
    "\n",
    "    Perform image processing with OpenCV:\n",
    "        Prompt: \"Write a Python program that uses OpenCV to load an image, convert it to grayscale, and apply a Gaussian blur. Save and display the processed image.\"\n",
    "\n",
    "    Implement a neural network from scratch using NumPy:\n",
    "        Prompt: \"Write a Python program that implements a simple neural network from scratch using only NumPy. The network should have one hidden layer and should be trained using the backpropagation algorithm on a small dataset.\"\n",
    "\n",
    "    Create a Flask app with a database connection:\n",
    "        Prompt: \"Write a Flask application that connects to a SQLite database to store and retrieve user information. Implement routes to add a new user, retrieve all users, and delete a user by ID.\"\n",
    "\n",
    "    Use Selenium for web automation:\n",
    "        Prompt: \"Write a Python program that uses Selenium to automate the process of logging into a website and navigating to a specific page. Provide instructions for testing the automation.\"\n",
    "\n",
    "    Build a machine learning model using Scikit-learn:\n",
    "        Prompt: \"Write a Python program that uses Scikit-learn to build a logistic regression model to classify a dataset. Train the model on the Iris dataset, evaluate its accuracy, and print the results.\"\n",
    "\n",
    "    Implement dynamic programming to solve the knapsack problem:\n",
    "        Prompt: \"Write a Python function called knapsack that solves the 0/1 knapsack problem using dynamic programming. Given a list of items with weights and values, and a maximum weight capacity, find the maximum value that can be obtained.\"\n",
    "\n",
    "    Create a web scraper using Scrapy:\n",
    "        Prompt: \"Write a Python program using the Scrapy framework to scrape product information (name, price, availability) from an e-commerce website and store the results in a CSV file.\"\n",
    "\n",
    "    Implement a Convolutional Neural Network using TensorFlow:\n",
    "        Prompt: \"Write a Python program that uses TensorFlow to implement a simple convolutional neural network (CNN) for image classification. Train the network on the CIFAR-10 dataset and evaluate its performance.\"\n",
    "\n",
    "    Use PyTorch to implement a Recurrent Neural Network:\n",
    "        Prompt: \"Write a Python program that uses PyTorch to implement a simple recurrent neural network (RNN) for text classification. Train the network on a small text dataset and print the accuracy.\"\n",
    "\n",
    "    Build a recommendation system using collaborative filtering:\n",
    "    - Prompt: \"Write a Python program that builds a recommendation system using collaborative filtering. Use a sample dataset of user-item interactions, and recommend items to a user based on similar users' preferences.\""
   ]
  },
  {
   "cell_type": "markdown",
   "metadata": {},
   "source": [
    "#### Models used in this evaluation"
   ]
  },
  {
   "cell_type": "markdown",
   "metadata": {},
   "source": [
    "GitHub Copilot:\n",
    "Company: GitHub (owned by Microsoft)\n",
    "Release Date: Publicly launched in June 2021.\n",
    "Models Used: GitHub Copilot is powered by OpenAI's Codex model, which is a descendant of the GPT-3 family.\n",
    "Code-Writing Properties: GitHub Copilot is designed to help developers write code faster and more efficiently by offering real-time code suggestions directly within IDEs like Visual Studio Code. It generates code snippets, entire functions, and even complex algorithms based on the context of the code being written. It supports multiple programming languages and is particularly strong in Python, JavaScript, TypeScript, and more.\n",
    "\n",
    "Microsoft Copilot:\n",
    "Company: Microsoft\n",
    "Release Date: Announced in March 2023, part of Microsoft’s Office suite and other productivity tools.\n",
    "Models Used: Powered by OpenAI’s large language models (LLMs), including GPT-4.\n",
    "Code-Writing Properties: Microsoft Copilot is integrated across Microsoft's productivity tools like Word, Excel, and PowerPoint, and extends into their developer tools as well. It assists with generating code, automating repetitive tasks, and providing AI-driven suggestions for improvements. It leverages Microsoft’s vast ecosystem to streamline both coding and other productivity tasks.\n",
    "\n",
    "Tabnine:\n",
    "Company: Tabnine\n",
    "Release Date: Initially launched in 2019.\n",
    "Models Used: Tabnine uses multiple models including GPT-based models, trained specifically on code from open-source repositories and custom-trained models for specific organizational needs.\n",
    " Code-Writing Properties: Tabnine is designed to integrate seamlessly with various IDEs and offers AI-driven code completions that learn and adapt to the specific coding style of the user or team. It provides intelligent autocompletion, whole-line code predictions, and context-aware suggestions, supporting many programming languages like Python, Java, JavaScript, C++, and more.\n",
    "\n",
    "ChatGPT:\n",
    "\n",
    "Company: OpenAI\n",
    "Release Date: The base model, GPT-3, was released in June 2020, and ChatGPT, based on GPT-3.5, became widely available in November 2022.\n",
    "Models Used: Initially powered by GPT-3.5 and later iterations, including GPT-4.\n",
    "Code-Writing Properties: ChatGPT is a conversational AI that can generate, explain, and debug code based on user prompts. It’s language-agnostic, meaning it can work with a wide range of programming languages. ChatGPT can assist with everything from simple scripting to complex software development tasks, making it a versatile tool for developers.\n",
    "\n",
    "Gemini:\n",
    "\n",
    "Company: Google DeepMind\n",
    "Release Date: Announced in May 2023, with a gradual rollout afterward.\n",
    "Models Used: Gemini is powered by Google's AI models, including those from the Pathways project, which aims to build AI systems that can perform complex tasks across different domains.\n",
    "Code-Writing Properties: Gemini combines Google’s expertise in large-scale AI models with DeepMind’s research to provide powerful coding capabilities. It offers code generation, bug fixing, and optimization, all embedded within Google’s development tools. Gemini is designed to push the boundaries of what AI can accomplish in the realm of software development.\n",
    "\n",
    "Meta LLaMA:\n",
    "Company: Meta (formerly Facebook)\n",
    " Release Date: LLaMA (Large Language Model Meta AI) was released in February 2023.\n",
    "Models Used: LLaMA is a suite of models ranging from 7 billion to 65 billion parameters, trained on a large corpus of publicly available code and natural language data.\n",
    "Code-Writing Properties: LLaMA is designed to be an efficient and scalable model for various AI tasks, including code generation. While not specifically tailored for code, it can assist with generating, understanding, and refining code across multiple languages. LLaMA’s strengths lie in its scalability and adaptability, making it a versatile tool in the AI ecosystem.\n",
    "\n",
    "Blackbox AI:\n",
    "Company: Meta AI\n",
    "Release Date: Released in 2023\n",
    "Models Used: Large Language models. \n",
    "Coding Properties: can generate code snippets in various programming languages, including Python, Java, JavaScript, and more, based on user input and requests.\n",
    "\n",
    "Replit AI:\n",
    "Company: Replit\n",
    "Release Date: Launched in November 2022.\n",
    "Models Used: Replit AI uses Codex models, optimized for interactive and educational coding environments.\n",
    "Code-Writing Properties: Replit AI is built into the Replit platform, a popular online coding environment. It provides intelligent code suggestions, debugging assistance, and even entire project templates. Replit AI is particularly aimed at both new learners and experienced developers, providing a hands-on and collaborative coding experience that supports learning and productivity.\n",
    "\n"
   ]
  },
  {
   "cell_type": "markdown",
   "metadata": {},
   "source": [
    "#### Analysis"
   ]
  },
  {
   "cell_type": "markdown",
   "metadata": {},
   "source": [
    "Correctness:\n",
    "    The researcher evaluated the correctness of the AI-generated code by employing unit testing frameworks. Specifically, they utilized Python's unittest, pytest, or nose to create and run a suite of tests on the generated code, ensuring that the output matched expected results.\n",
    "\n",
    "McCabe Complexity:\n",
    "    To assess the complexity of the generated code, the researcher measured the McCabe (Cyclomatic) complexity using the Radon Python package. Additionally, they considered using CodeClimate as an alternative tool to evaluate code complexity.\n",
    "\n",
    "Efficiency:\n",
    "    The efficiency of the code was analyzed through time complexity analysis, where the researcher measured the runtime of the generated code using Python's time module or timeit function. They also employed profiling tools such as cProfile, line_profiler, and memory_profiler to assess the performance and memory usage of the code.\n",
    "\n",
    "Size of Code:\n",
    "    The size of the generated code was determined by counting the Lines of Code (LOC) using simple scripts or the cloc (Count Lines of Code) tool. Additionally, the researcher checked the file size of the generated code using the os module or by manual inspection.\n",
    "\n",
    "Similarity to Developer-Implemented Code:\n",
    "    To compare the AI-generated code with developer-implemented code, the researcher utilized Moss (Measure of Software Similarity), a tool commonly used for detecting plagiarism, which also proved useful for assessing code similarity. They further employed CodeDiff or Git Diff tools to compare code differences. For a more structural comparison, they parsed both the generated and developer-implemented code into Abstract Syntax Trees (ASTs) using Python's ast module and compared the resulting structures.\n",
    "\n",
    "Statistical Analysis:\n",
    "    The researcher conducted statistical analyses using Python libraries such as scipy, numpy, and pandas to perform statistical tests, including t-tests and ANOVA, to compare the collected metrics. For data visualization, they utilized matplotlib, seaborn, or plotly to create visual representations of the data."
   ]
  },
  {
   "cell_type": "markdown",
   "metadata": {},
   "source": [
    "### RESULTS"
   ]
  },
  {
   "cell_type": "markdown",
   "metadata": {},
   "source": [
    "#### MODEL : GITHUB COPILOT"
   ]
  },
  {
   "cell_type": "markdown",
   "metadata": {},
   "source": [
    "1. Write a Python program that prints the string 'Hello, World!' to the console"
   ]
  },
  {
   "cell_type": "code",
   "execution_count": null,
   "metadata": {},
   "outputs": [],
   "source": [
    "# Python program to print 'Hello, World!' to the console\n",
    "\n",
    "def main():\n",
    "    print('Hello, World!')\n",
    "\n",
    "if __name__ == \"__main__\":\n",
    "    main()\n",
    "    "
   ]
  },
  {
   "cell_type": "markdown",
   "metadata": {},
   "source": [
    "2. Write a Python program that concatenates the strings 'Hello' and 'World' with a space in between and prints the result"
   ]
  },
  {
   "cell_type": "code",
   "execution_count": null,
   "metadata": {},
   "outputs": [],
   "source": [
    "# Python program to concatenate 'Hello' and 'World' with a space in between and print the result\n",
    "\n",
    "def main():\n",
    "    str1 = 'Hello'\n",
    "    str2 = 'World'\n",
    "    result = str1 + ' ' + str2\n",
    "    print(result)\n",
    "\n",
    "if __name__ == \"__main__\":\n",
    "    main()"
   ]
  },
  {
   "cell_type": "markdown",
   "metadata": {},
   "source": [
    "3. Create a Python list containing the numbers 1, 2, and 3. Print the list to the console."
   ]
  },
  {
   "cell_type": "code",
   "execution_count": null,
   "metadata": {},
   "outputs": [],
   "source": [
    "# Python program to create a list containing the numbers 1, 2, and 3 and print the list\n",
    "\n",
    "def main():\n",
    "    numbers = [1, 2, 3]\n",
    "    print(numbers)\n",
    "\n",
    "if __name__ == \"__main__\":\n",
    "    main()"
   ]
  },
  {
   "cell_type": "markdown",
   "metadata": {},
   "source": [
    "4. Write a Python program that adds the number 4 to the list [1, 2, 3] and prints the updated list."
   ]
  },
  {
   "cell_type": "code",
   "execution_count": null,
   "metadata": {},
   "outputs": [],
   "source": [
    "# Python program to add the number 4 to the list [1, 2, 3] and print the updated list\n",
    "\n",
    "def main():\n",
    "    numbers = [1, 2, 3]\n",
    "    numbers.append(4)\n",
    "    print(numbers)\n",
    "\n",
    "if __name__ == \"__main__\":\n",
    "    main()"
   ]
  },
  {
   "cell_type": "markdown",
   "metadata": {},
   "source": [
    "5. Write a Python program that removes the number 2 from the list [1, 2, 3] and prints the updated list"
   ]
  },
  {
   "cell_type": "code",
   "execution_count": null,
   "metadata": {},
   "outputs": [],
   "source": [
    "# Python program to remove the number 2 from the list [1, 2, 3] and print the updated list\n",
    "\n",
    "def main():\n",
    "    numbers = [1, 2, 3]\n",
    "    numbers.remove(2)\n",
    "    print(numbers)\n",
    "\n",
    "if __name__ == \"__main__\":\n",
    "    main()"
   ]
  },
  {
   "cell_type": "markdown",
   "metadata": {},
   "source": [
    "6. Write a Python program that sorts the list [3, 1, 2] in ascending order and prints the sorted list"
   ]
  },
  {
   "cell_type": "code",
   "execution_count": null,
   "metadata": {},
   "outputs": [],
   "source": [
    "# Python program to sort the list [3, 1, 2] in ascending order and print the sorted list\n",
    "\n",
    "def main():\n",
    "    numbers = [3, 1, 2]\n",
    "    numbers.sort()\n",
    "    print(numbers)\n",
    "\n",
    "if __name__ == \"__main__\":\n",
    "    main()"
   ]
  },
  {
   "cell_type": "markdown",
   "metadata": {},
   "source": [
    "7. Write a Python program that reverses the list [1, 2, 3] and prints the reversed list."
   ]
  },
  {
   "cell_type": "code",
   "execution_count": null,
   "metadata": {},
   "outputs": [],
   "source": [
    "# Python program to reverse the list [1, 2, 3] and print the reversed list\n",
    "\n",
    "def main():\n",
    "    numbers = [1, 2, 3]\n",
    "    numbers.reverse()\n",
    "    print(numbers)\n",
    "\n",
    "if __name__ == \"__main__\":\n",
    "    main()"
   ]
  },
  {
   "cell_type": "markdown",
   "metadata": {},
   "source": [
    "8. Create a Python dictionary with the keys 'a', 'b', and 'c' and corresponding values 1, 2, and 3. Print the dictionary to the console."
   ]
  },
  {
   "cell_type": "code",
   "execution_count": null,
   "metadata": {},
   "outputs": [],
   "source": [
    "# Python program to create a dictionary with keys 'a', 'b', and 'c' and values 1, 2, and 3, and print the dictionary\n",
    "\n",
    "def main():\n",
    "    my_dict = {'a': 1, 'b': 2, 'c': 3}\n",
    "    print(my_dict)\n",
    "\n",
    "if __name__ == \"__main__\":\n",
    "    main()"
   ]
  },
  {
   "cell_type": "markdown",
   "metadata": {},
   "source": [
    "9. Write a Python program that accesses the value associated with the key 'b' in the dictionary {'a': 1, 'b': 2, 'c': 3} and prints it"
   ]
  },
  {
   "cell_type": "code",
   "execution_count": null,
   "metadata": {},
   "outputs": [],
   "source": [
    "# Python program to access the value associated with the key 'b' in the dictionary {'a': 1, 'b': 2, 'c': 3} and print it\n",
    "\n",
    "def main():\n",
    "    my_dict = {'a': 1, 'b': 2, 'c': 3}\n",
    "    value = my_dict['b']\n",
    "    print(value)\n",
    "\n",
    "if __name__ == \"__main__\":\n",
    "    main()"
   ]
  },
  {
   "cell_type": "markdown",
   "metadata": {},
   "source": [
    "10. Create a tuple (1, 2, 3) and print the first element of the tuple"
   ]
  },
  {
   "cell_type": "code",
   "execution_count": null,
   "metadata": {},
   "outputs": [],
   "source": [
    "# Python program to create a tuple (1, 2, 3) and print the first element of the tuple\n",
    "\n",
    "def main():\n",
    "    my_tuple = (1, 2, 3)\n",
    "    first_element = my_tuple[0]\n",
    "    print(first_element)\n",
    "\n",
    "if __name__ == \"__main__\":\n",
    "    main()"
   ]
  },
  {
   "cell_type": "markdown",
   "metadata": {},
   "source": [
    "11. Write a Python program that checks if a number is greater than 10. If it is, print 'Greater', otherwise print 'Not Greater'"
   ]
  },
  {
   "cell_type": "code",
   "execution_count": null,
   "metadata": {},
   "outputs": [],
   "source": [
    "# Python program to check if a number is greater than 10 and print 'Greater' or 'Not Greater'\n",
    "\n",
    "def check_number(number):\n",
    "    if number > 10:\n",
    "        print('Greater')\n",
    "    else:\n",
    "        print('Not Greater')\n",
    "\n",
    "if __name__ == \"__main__\":\n",
    "    number = 15  # You can change this value to test with different numbers\n",
    "    check_number(number)"
   ]
  },
  {
   "cell_type": "markdown",
   "metadata": {},
   "source": [
    "12. Write a Python program that uses a for loop to iterate over the list [1, 2, 3] and prints each element.\""
   ]
  },
  {
   "cell_type": "code",
   "execution_count": null,
   "metadata": {},
   "outputs": [],
   "source": [
    "# Python program to use a for loop to iterate over the list [1, 2, 3] and print each element\n",
    "\n",
    "def main():\n",
    "    numbers = [1, 2, 3]\n",
    "    for number in numbers:\n",
    "        print(number)\n",
    "\n",
    "if __name__ == \"__main__\":\n",
    "    main()"
   ]
  },
  {
   "cell_type": "markdown",
   "metadata": {},
   "source": [
    "13. Write a Python program that uses a while loop to print the numbers from 1 to 5."
   ]
  },
  {
   "cell_type": "code",
   "execution_count": null,
   "metadata": {},
   "outputs": [],
   "source": [
    "# Python program to use a while loop to print the numbers from 1 to 5\n",
    "\n",
    "def main():\n",
    "    number = 1\n",
    "    while number <= 5:\n",
    "        print(number)\n",
    "        number += 1\n",
    "\n",
    "if __name__ == \"__main__\":\n",
    "    main()"
   ]
  },
  {
   "cell_type": "markdown",
   "metadata": {},
   "source": [
    "14. Write a Python function called greet that takes no arguments and prints 'Hello!' when called."
   ]
  },
  {
   "cell_type": "code",
   "execution_count": null,
   "metadata": {},
   "outputs": [],
   "source": [
    "# Python function called greet that takes no arguments and prints 'Hello!' when called\n",
    "\n",
    "def greet():\n",
    "    print('Hello!')\n",
    "\n",
    "if __name__ == \"__main__\":\n",
    "    greet()"
   ]
  },
  {
   "cell_type": "markdown",
   "metadata": {},
   "source": [
    "15. Write a Python function called add that takes two arguments and returns their sum. Call the function with the arguments 3 and 5, and print the result."
   ]
  },
  {
   "cell_type": "code",
   "execution_count": null,
   "metadata": {},
   "outputs": [],
   "source": [
    "# Python function called add that takes two arguments and returns their sum\n",
    "\n",
    "def add(a, b):\n",
    "    return a + b\n",
    "\n",
    "if __name__ == \"__main__\":\n",
    "    result = add(3, 5)\n",
    "    print(result)"
   ]
  },
  {
   "cell_type": "markdown",
   "metadata": {},
   "source": [
    "16. Write a Python function called square that takes a number as an argument and returns its square. Call the function with the argument 4, and print the result"
   ]
  },
  {
   "cell_type": "code",
   "execution_count": null,
   "metadata": {},
   "outputs": [],
   "source": [
    "# Python function called square that takes a number as an argument and returns its square\n",
    "\n",
    "def square(number):\n",
    "    return number * number\n",
    "\n",
    "if __name__ == \"__main__\":\n",
    "    result = square(4)\n",
    "    print(result)"
   ]
  },
  {
   "cell_type": "markdown",
   "metadata": {},
   "source": [
    "17. Write a Python program that opens a file named 'example.txt' in read mode and prints its contents to the console."
   ]
  },
  {
   "cell_type": "code",
   "execution_count": null,
   "metadata": {},
   "outputs": [],
   "source": [
    "# Python program to open a file named 'example.txt' in read mode and print its contents to the console\n",
    "\n",
    "def main():\n",
    "    try:\n",
    "        with open('example.txt', 'r') as file:\n",
    "            contents = file.read()\n",
    "            print(contents)\n",
    "    except FileNotFoundError:\n",
    "        print(\"The file 'example.txt' does not exist.\")\n",
    "\n",
    "if __name__ == \"__main__\":\n",
    "    main()"
   ]
  },
  {
   "cell_type": "markdown",
   "metadata": {},
   "source": [
    "18. Write a Python program that opens a file named 'output.txt' in write mode, writes the string 'Hello, World!' to the file, and then closes the file."
   ]
  },
  {
   "cell_type": "code",
   "execution_count": null,
   "metadata": {},
   "outputs": [],
   "source": [
    "# Python program to open a file named 'output.txt' in write mode, write 'Hello, World!' to the file, and then close the file\n",
    "\n",
    "def main():\n",
    "    with open('output.txt', 'w') as file:\n",
    "        file.write('Hello, World!')\n",
    "\n",
    "if __name__ == \"__main__\":\n",
    "    main()"
   ]
  },
  {
   "cell_type": "markdown",
   "metadata": {},
   "source": [
    "19. Write a Python program that opens a file named 'output.txt' in append mode, writes the string 'Appending this line.' to the file, and then closes the file."
   ]
  },
  {
   "cell_type": "code",
   "execution_count": null,
   "metadata": {},
   "outputs": [],
   "source": [
    "# Python program to open a file named 'output.txt' in append mode, write 'Appending this line.' to the file, and then close the file\n",
    "\n",
    "def main():\n",
    "    with open('output.txt', 'a') as file:\n",
    "        file.write('Appending this line.\\n')\n",
    "\n",
    "if __name__ == \"__main__\":\n",
    "    main()"
   ]
  },
  {
   "cell_type": "markdown",
   "metadata": {},
   "source": [
    "20. Write a Python program that opens a file named 'example.txt' in read mode and prints each line to the console, one by one."
   ]
  },
  {
   "cell_type": "code",
   "execution_count": null,
   "metadata": {},
   "outputs": [],
   "source": [
    "# Python program to open a file named 'example.txt' in read mode and print each line to the console, one by one\n",
    "\n",
    "def main():\n",
    "    try:\n",
    "        with open('example.txt', 'r') as file:\n",
    "            for line in file:\n",
    "                print(line, end='')  # end='' to avoid adding extra newlines\n",
    "    except FileNotFoundError:\n",
    "        print(\"The file 'example.txt' does not exist.\")\n",
    "\n",
    "if __name__ == \"__main__\":\n",
    "    main()"
   ]
  },
  {
   "cell_type": "markdown",
   "metadata": {},
   "source": [
    "21. Write a Python program that raises a ValueError with the message 'An error occurred'."
   ]
  },
  {
   "cell_type": "code",
   "execution_count": null,
   "metadata": {},
   "outputs": [],
   "source": [
    "# Python program that raises a ValueError with the message 'An error occurred'\n",
    "\n",
    "def main():\n",
    "    raise ValueError('An error occurred')\n",
    "\n",
    "if __name__ == \"__main__\":\n",
    "    main()"
   ]
  },
  {
   "cell_type": "markdown",
   "metadata": {},
   "source": [
    "22. Write a Python program that uses a for loop to iterate over the numbers 1 to 10. If the number is 5, break out of the loop."
   ]
  },
  {
   "cell_type": "code",
   "execution_count": null,
   "metadata": {},
   "outputs": [],
   "source": [
    "# Python program that uses a for loop to iterate over the numbers 1 to 10 and breaks out of the loop if the number is 5\n",
    "\n",
    "def main():\n",
    "    for number in range(1, 11):\n",
    "        if number == 5:\n",
    "            break\n",
    "        print(number)\n",
    "\n",
    "if __name__ == \"__main__\":\n",
    "    main()"
   ]
  },
  {
   "cell_type": "markdown",
   "metadata": {},
   "source": [
    "23. Write a Python program that uses a for loop to iterate over the numbers 1 to 5. If the number is 3, skip printing it and continue with the next iteration"
   ]
  },
  {
   "cell_type": "code",
   "execution_count": null,
   "metadata": {},
   "outputs": [],
   "source": [
    "# Python program that uses a for loop to iterate over the numbers 1 to 5 and skips printing the number 3\n",
    "\n",
    "def main():\n",
    "    for number in range(1, 6):\n",
    "        if number == 3:\n",
    "            continue\n",
    "        print(number)\n",
    "\n",
    "if __name__ == \"__main__\":\n",
    "    main()"
   ]
  },
  {
   "cell_type": "markdown",
   "metadata": {},
   "source": [
    "24. Write a Python program that attempts to divide 10 by 0 inside a try block, catches the resulting ZeroDivisionError in an except block, and prints 'Cannot divide by zero.'"
   ]
  },
  {
   "cell_type": "code",
   "execution_count": null,
   "metadata": {},
   "outputs": [],
   "source": [
    "# Python program that attempts to divide 10 by 0, catches the ZeroDivisionError, and prints 'Cannot divide by zero.'\n",
    "\n",
    "def main():\n",
    "    try:\n",
    "        result = 10 / 0\n",
    "    except ZeroDivisionError:\n",
    "        print('Cannot divide by zero.')\n",
    "\n",
    "if __name__ == \"__main__\":\n",
    "    main()"
   ]
  },
  {
   "cell_type": "markdown",
   "metadata": {},
   "source": [
    "25. Write a Python program that removes duplicates from the list [1, 2, 2, 3, 4, 4, 5] using a set, and prints the resulting list."
   ]
  },
  {
   "cell_type": "code",
   "execution_count": null,
   "metadata": {},
   "outputs": [],
   "source": [
    "# Python program that removes duplicates from the list [1, 2, 2, 3, 4, 4, 5] using a set, and prints the resulting list\n",
    "\n",
    "def main():\n",
    "    numbers = [1, 2, 2, 3, 4, 4, 5]\n",
    "    unique_numbers = list(set(numbers))\n",
    "    print(unique_numbers)\n",
    "\n",
    "if __name__ == \"__main__\":\n",
    "    main()"
   ]
  },
  {
   "cell_type": "markdown",
   "metadata": {},
   "source": [
    "26. Write a Python program that defines a lambda function to double a number. Use the lambda function to double the number 4 and print the result."
   ]
  },
  {
   "cell_type": "code",
   "execution_count": null,
   "metadata": {},
   "outputs": [],
   "source": [
    "# Python program that defines a lambda function to double a number and uses it to double the number 4\n",
    "\n",
    "def main():\n",
    "    double = lambda x: x * 2\n",
    "    result = double(4)\n",
    "    print(result)\n",
    "\n",
    "if __name__ == \"__main__\":\n",
    "    main()"
   ]
  },
  {
   "cell_type": "markdown",
   "metadata": {},
   "source": [
    "27. Write a Python function called greet that takes a name as an argument and prints 'Hello, [name]!' where [name] is the argument. If no name is provided, default to 'World'. Call the function without arguments and then with the argument 'Alice'"
   ]
  },
  {
   "cell_type": "code",
   "execution_count": null,
   "metadata": {},
   "outputs": [],
   "source": [
    "# Python function called greet that takes a name as an argument and prints 'Hello, [name]!'\n",
    "# If no name is provided, default to 'World'\n",
    "\n",
    "def greet(name='World'):\n",
    "    print(f'Hello, {name}!')\n",
    "\n",
    "if __name__ == \"__main__\":\n",
    "    greet()\n",
    "    greet('Alice')"
   ]
  },
  {
   "cell_type": "markdown",
   "metadata": {},
   "source": [
    "28. Write a Python function called apply that takes another function and a number as arguments, applies the function to the number, and returns the result. Define a separate function called square that squares a number. Pass square and 3 as arguments to apply, and print the result."
   ]
  },
  {
   "cell_type": "code",
   "execution_count": null,
   "metadata": {},
   "outputs": [],
   "source": [
    "# Python function called apply that takes another function and a number as arguments, applies the function to the number, and returns the result\n",
    "# Define a separate function called square that squares a number\n",
    "# Pass square and 3 as arguments to apply, and print the result\n",
    "\n",
    "def apply(func, number):\n",
    "    return func(number)\n",
    "\n",
    "def square(x):\n",
    "    return x * x\n",
    "\n",
    "if __name__ == \"__main__\":\n",
    "    result = apply(square, 3)\n",
    "    print(result)"
   ]
  },
  {
   "cell_type": "markdown",
   "metadata": {},
   "source": [
    "29. Write a Python program that checks if a file named 'example.txt' exists in the current directory. If it does, print 'File exists', otherwise print 'File does not exist'"
   ]
  },
  {
   "cell_type": "code",
   "execution_count": null,
   "metadata": {},
   "outputs": [],
   "source": [
    "# Python program that checks if a file named 'example.txt' exists in the current directory\n",
    "\n",
    "import os\n",
    "\n",
    "def main():\n",
    "    if os.path.isfile('example.txt'):\n",
    "        print('File exists')\n",
    "    else:\n",
    "        print('File does not exist')\n",
    "\n",
    "if __name__ == \"__main__\":\n",
    "    main()"
   ]
  },
  {
   "cell_type": "markdown",
   "metadata": {},
   "source": [
    "30. Write a Python program that deletes a file named 'unnecessary.txt'. If the file does not exist, print 'File not found'"
   ]
  },
  {
   "cell_type": "code",
   "execution_count": null,
   "metadata": {},
   "outputs": [],
   "source": [
    "# Python program that deletes a file named 'unnecessary.txt'. If the file does not exist, print 'File not found'\n",
    "\n",
    "import os\n",
    "\n",
    "def main():\n",
    "    try:\n",
    "        os.remove('unnecessary.txt')\n",
    "        print('File deleted')\n",
    "    except FileNotFoundError:\n",
    "        print('File not found')\n",
    "\n",
    "if __name__ == \"__main__\":\n",
    "    main()"
   ]
  },
  {
   "cell_type": "markdown",
   "metadata": {},
   "source": [
    "31. Write a Python class called Person that has a single attribute name. Instantiate an object of the class with the name 'Alice' and print the name."
   ]
  },
  {
   "cell_type": "code",
   "execution_count": null,
   "metadata": {},
   "outputs": [],
   "source": [
    "# Python class called Person that has a single attribute name\n",
    "\n",
    "class Person:\n",
    "    def __init__(self, name):\n",
    "        self.name = name\n",
    "\n",
    "if __name__ == \"__main__\":\n",
    "    person = Person('Alice')\n",
    "    print(person.name)"
   ]
  },
  {
   "cell_type": "markdown",
   "metadata": {},
   "source": [
    "32. Write a Python class called Car with an attribute model. Create an instance of Car with the model 'Toyota' and print the model."
   ]
  },
  {
   "cell_type": "code",
   "execution_count": null,
   "metadata": {},
   "outputs": [],
   "source": [
    "# Python class called Car with an attribute model\n",
    "\n",
    "class Car:\n",
    "    def __init__(self, model):\n",
    "        self.model = model\n",
    "\n",
    "if __name__ == \"__main__\":\n",
    "    car = Car('Toyota')\n",
    "    print(car.model)"
   ]
  },
  {
   "cell_type": "markdown",
   "metadata": {},
   "source": [
    "33. Write a Python program that uses a list comprehension to create a list of squares for the numbers 1 through 5, and prints the resulting list. "
   ]
  },
  {
   "cell_type": "code",
   "execution_count": null,
   "metadata": {},
   "outputs": [],
   "source": [
    "# Python program that uses a list comprehension to create a list of squares for the numbers 1 through 5, and prints the resulting list\n",
    "\n",
    "def main():\n",
    "    squares = [x * x for x in range(1, 6)]\n",
    "    print(squares)\n",
    "\n",
    "if __name__ == \"__main__\":\n",
    "    main()"
   ]
  },
  {
   "cell_type": "markdown",
   "metadata": {},
   "source": [
    "34. Write a Python program that uses a for loop to sum the numbers in the list [1, 2, 3, 4, 5] and prints the result."
   ]
  },
  {
   "cell_type": "code",
   "execution_count": null,
   "metadata": {},
   "outputs": [],
   "source": [
    "# Python program that uses a for loop to sum the numbers in the list [1, 2, 3, 4, 5] and prints the result\n",
    "\n",
    "def main():\n",
    "    numbers = [1, 2, 3, 4, 5]\n",
    "    total = 0\n",
    "    for number in numbers:\n",
    "        total += number\n",
    "    print(total)\n",
    "\n",
    "if __name__ == \"__main__\":\n",
    "    main()"
   ]
  },
  {
   "cell_type": "markdown",
   "metadata": {},
   "source": [
    "35. Write a Python program that generates a random number between 1 and 10 and prints it. "
   ]
  },
  {
   "cell_type": "code",
   "execution_count": null,
   "metadata": {},
   "outputs": [],
   "source": [
    "# Python program that generates a random number between 1 and 10 and prints it\n",
    "\n",
    "import random\n",
    "\n",
    "def main():\n",
    "    random_number = random.randint(1, 10)\n",
    "    print(random_number)\n",
    "\n",
    "if __name__ == \"__main__\":\n",
    "    main()"
   ]
  },
  {
   "cell_type": "markdown",
   "metadata": {},
   "source": [
    "36. Write a Python program that measures and prints the time it takes to execute a for loop that sums the numbers from 1 to 1,000,000."
   ]
  },
  {
   "cell_type": "code",
   "execution_count": null,
   "metadata": {},
   "outputs": [],
   "source": [
    "# Python program that measures and prints the time it takes to execute a for loop that sums the numbers from 1 to 1,000,000\n",
    "\n",
    "import time\n",
    "\n",
    "def main():\n",
    "    start_time = time.time()\n",
    "    \n",
    "    total = 0\n",
    "    for number in range(1, 1000001):\n",
    "        total += number\n",
    "    \n",
    "    end_time = time.time()\n",
    "    elapsed_time = end_time - start_time\n",
    "    \n",
    "    print(f\"Time taken: {elapsed_time} seconds\")\n",
    "\n",
    "if __name__ == \"__main__\":\n",
    "    main()"
   ]
  },
  {
   "cell_type": "markdown",
   "metadata": {},
   "source": [
    "37. Write a Python decorator called my_decorator that prints 'Starting' before the decorated function is called, and 'Finished' after the function is called. Apply this decorator to a function that prints 'Hello!' and then call the decorated function."
   ]
  },
  {
   "cell_type": "code",
   "execution_count": null,
   "metadata": {},
   "outputs": [],
   "source": [
    "# Python decorator called my_decorator that prints 'Starting' before the decorated function is called, and 'Finished' after the function is called\n",
    "\n",
    "def my_decorator(func):\n",
    "    def wrapper():\n",
    "        print('Starting')\n",
    "        func()\n",
    "        print('Finished')\n",
    "    return wrapper\n",
    "\n",
    "@my_decorator\n",
    "def say_hello():\n",
    "    print('Hello!')\n",
    "\n",
    "if __name__ == \"__main__\":\n",
    "    say_hello()"
   ]
  },
  {
   "cell_type": "markdown",
   "metadata": {},
   "source": [
    "38. Write a Python class called BankAccount with a private attribute _balance. Implement methods to deposit and withdraw money, and a method to print the current balance."
   ]
  },
  {
   "cell_type": "code",
   "execution_count": null,
   "metadata": {},
   "outputs": [],
   "source": [
    "# Python class called BankAccount with a private attribute _balance\n",
    "# Implement methods to deposit and withdraw money, and a method to print the current balance\n",
    "\n",
    "class BankAccount:\n",
    "    def __init__(self):\n",
    "        self._balance = 0\n",
    "\n",
    "    def deposit(self, amount):\n",
    "        if amount > 0:\n",
    "            self._balance += amount\n",
    "            print(f\"Deposited: {amount}\")\n",
    "        else:\n",
    "            print(\"Deposit amount must be positive\")\n",
    "\n",
    "    def withdraw(self, amount):\n",
    "        if 0 < amount <= self._balance:\n",
    "            self._balance -= amount\n",
    "            print(f\"Withdrew: {amount}\")\n",
    "        else:\n",
    "            print(\"Insufficient funds or invalid amount\")\n",
    "\n",
    "    def print_balance(self):\n",
    "        print(f\"Current balance: {self._balance}\")\n",
    "\n",
    "if __name__ == \"__main__\":\n",
    "    account = BankAccount()\n",
    "    account.deposit(100)\n",
    "    account.withdraw(50)\n",
    "    account.print_balance()"
   ]
  },
  {
   "cell_type": "markdown",
   "metadata": {},
   "source": [
    "39. Write a Python program that creates a 2D list representing a matrix with the following values: [[1, 2], [3, 4]]. Print the element in the first row and second column."
   ]
  },
  {
   "cell_type": "code",
   "execution_count": null,
   "metadata": {},
   "outputs": [],
   "source": [
    "# Python program that creates a 2D list representing a matrix and prints the element in the first row and second column\n",
    "\n",
    "def main():\n",
    "    matrix = [[1, 2], [3, 4]]\n",
    "    element = matrix[0][1]\n",
    "    print(element)\n",
    "\n",
    "if __name__ == \"__main__\":\n",
    "    main()"
   ]
  },
  {
   "cell_type": "markdown",
   "metadata": {},
   "source": [
    "40. Write a Python decorator called log_function_call that logs the name of a function each time it is called. Apply this decorator to a function that prints 'Executing function' and then call the decorated function."
   ]
  },
  {
   "cell_type": "code",
   "execution_count": null,
   "metadata": {},
   "outputs": [],
   "source": [
    "# Python decorator called log_function_call that logs the name of a function each time it is called\n",
    "\n",
    "def log_function_call(func):\n",
    "    def wrapper():\n",
    "        print(f\"Calling function: {func.__name__}\")\n",
    "        func()\n",
    "    return wrapper\n",
    "\n",
    "@log_function_call\n",
    "def execute():\n",
    "    print('Executing function')\n",
    "\n",
    "if __name__ == \"__main__\":\n",
    "    execute()"
   ]
  },
  {
   "cell_type": "markdown",
   "metadata": {},
   "source": [
    "41. Write a Python class called Stack that implements a stack using a list. Implement methods push, pop, and is_empty. Demonstrate the stack operations by pushing and popping some elements."
   ]
  },
  {
   "cell_type": "code",
   "execution_count": null,
   "metadata": {},
   "outputs": [],
   "source": [
    "# Python class called Stack that implements a stack using a list\n",
    "# Implement methods push, pop, and is_empty\n",
    "\n",
    "class Stack:\n",
    "    def __init__(self):\n",
    "        self.items = []\n",
    "\n",
    "    def push(self, item):\n",
    "        self.items.append(item)\n",
    "        print(f\"Pushed: {item}\")\n",
    "\n",
    "    def pop(self):\n",
    "        if not self.is_empty():\n",
    "            item = self.items.pop()\n",
    "            print(f\"Popped: {item}\")\n",
    "            return item\n",
    "        else:\n",
    "            print(\"Stack is empty\")\n",
    "            return None\n",
    "\n",
    "    def is_empty(self):\n",
    "        return len(self.items) == 0\n",
    "\n",
    "if __name__ == \"__main__\":\n",
    "    stack = Stack()\n",
    "    stack.push(1)\n",
    "    stack.push(2)\n",
    "    stack.push(3)\n",
    "    stack.pop()\n",
    "    stack.pop()\n",
    "    stack.pop()\n",
    "    stack.pop()"
   ]
  },
  {
   "cell_type": "markdown",
   "metadata": {},
   "source": [
    "42. Write a Python class called Queue that implements a queue using a list. Implement methods enqueue, dequeue, and is_empty. Demonstrate the queue operations by enqueueing and dequeueing some elements.\" "
   ]
  },
  {
   "cell_type": "code",
   "execution_count": null,
   "metadata": {},
   "outputs": [],
   "source": [
    "# Python class called Queue that implements a queue using a list\n",
    "# Implement methods enqueue, dequeue, and is_empty\n",
    "\n",
    "class Queue:\n",
    "    def __init__(self):\n",
    "        self.items = []\n",
    "\n",
    "    def enqueue(self, item):\n",
    "        self.items.append(item)\n",
    "        print(f\"Enqueued: {item}\")\n",
    "\n",
    "    def dequeue(self):\n",
    "        if not self.is_empty():\n",
    "            item = self.items.pop(0)\n",
    "            print(f\"Dequeued: {item}\")\n",
    "            return item\n",
    "        else:\n",
    "            print(\"Queue is empty\")\n",
    "            return None\n",
    "\n",
    "    def is_empty(self):\n",
    "        return len(self.items) == 0\n",
    "\n",
    "if __name__ == \"__main__\":\n",
    "    queue = Queue()\n",
    "    queue.enqueue(1)\n",
    "    queue.enqueue(2)\n",
    "    queue.enqueue(3)\n",
    "    queue.dequeue()\n",
    "    queue.dequeue()\n",
    "    queue.dequeue()\n",
    "    queue.dequeue()"
   ]
  },
  {
   "cell_type": "markdown",
   "metadata": {},
   "source": [
    "43. Write a Python function called factorial that calculates the factorial of a number using recursion. Calculate the factorial of 5 and print the result."
   ]
  },
  {
   "cell_type": "code",
   "execution_count": null,
   "metadata": {},
   "outputs": [],
   "source": [
    "# Python function called factorial that calculates the factorial of a number using recursion\n",
    "\n",
    "def factorial(n):\n",
    "    if n == 0 or n == 1:\n",
    "        return 1\n",
    "    else:\n",
    "        return n * factorial(n - 1)\n",
    "\n",
    "if __name__ == \"__main__\":\n",
    "    result = factorial(5)\n",
    "    print(result)"
   ]
  },
  {
   "cell_type": "markdown",
   "metadata": {},
   "source": [
    "44. Write a Python class called Counter with a class attribute count that tracks the number of instances created. Implement a class method increment that increments count each time a new instance is created. Demonstrate this by creating multiple instances and printing count."
   ]
  },
  {
   "cell_type": "code",
   "execution_count": null,
   "metadata": {},
   "outputs": [],
   "source": [
    "# Python class called Counter with a class attribute count that tracks the number of instances created\n",
    "\n",
    "class Counter:\n",
    "    count = 0\n",
    "\n",
    "    def __init__(self):\n",
    "        Counter.increment()\n",
    "\n",
    "    @classmethod\n",
    "    def increment(cls):\n",
    "        cls.count += 1\n",
    "\n",
    "if __name__ == \"__main__\":\n",
    "    c1 = Counter()\n",
    "    c2 = Counter()\n",
    "    c3 = Counter()\n",
    "    print(Counter.count)  # Should print 3"
   ]
  },
  {
   "cell_type": "markdown",
   "metadata": {},
   "source": [
    "45. Write a Python class called Animal with a method speak that prints 'Animal sound'. Create a subclass Dog that overrides speak to print 'Bark'. Instantiate Dog and call speak."
   ]
  },
  {
   "cell_type": "code",
   "execution_count": null,
   "metadata": {},
   "outputs": [],
   "source": [
    "# Python class called Animal with a method speak that prints 'Animal sound'\n",
    "# Create a subclass Dog that overrides speak to print 'Bark'\n",
    "\n",
    "class Animal:\n",
    "    def speak(self):\n",
    "        print('Animal sound')\n",
    "\n",
    "class Dog(Animal):\n",
    "    def speak(self):\n",
    "        print('Bark')\n",
    "\n",
    "if __name__ == \"__main__\":\n",
    "    dog = Dog()\n",
    "    dog.speak()"
   ]
  },
  {
   "cell_type": "markdown",
   "metadata": {},
   "source": [
    "46. Write a Python class called Vehicle with a method move that prints 'Moving'. Create a subclass Car that overrides move to print 'Driving'. Instantiate Car and call move."
   ]
  },
  {
   "cell_type": "code",
   "execution_count": null,
   "metadata": {},
   "outputs": [],
   "source": [
    "# Python class called Vehicle with a method move that prints 'Moving'\n",
    "# Create a subclass Car that overrides move to print 'Driving'\n",
    "\n",
    "class Vehicle:\n",
    "    def move(self):\n",
    "        print('Moving')\n",
    "\n",
    "class Car(Vehicle):\n",
    "    def move(self):\n",
    "        print('Driving')\n",
    "\n",
    "if __name__ == \"__main__\":\n",
    "    car = Car()\n",
    "    car.move()"
   ]
  },
  {
   "cell_type": "markdown",
   "metadata": {},
   "source": [
    "47. Write a Python program that sorts a list of dictionaries by the key 'age'. For example, given people = [{'name': 'Alice', 'age': 25}, {'name': 'Bob', 'age': 20}], sort the list by age and print the sorted list."
   ]
  },
  {
   "cell_type": "code",
   "execution_count": null,
   "metadata": {},
   "outputs": [],
   "source": [
    "# Python program that sorts a list of dictionaries by the key 'age'\n",
    "\n",
    "def main():\n",
    "    people = [{'name': 'Alice', 'age': 25}, {'name': 'Bob', 'age': 20}]\n",
    "    sorted_people = sorted(people, key=lambda person: person['age'])\n",
    "    print(sorted_people)\n",
    "\n",
    "if __name__ == \"__main__\":\n",
    "    main()"
   ]
  },
  {
   "cell_type": "markdown",
   "metadata": {},
   "source": [
    "48. Write a Python function called linear_search that takes a list and a target value, and returns the index of the target value if found, or -1 if not found. Use this function to search for the value 3 in the list [1, 2, 3, 4, 5]."
   ]
  },
  {
   "cell_type": "code",
   "execution_count": null,
   "metadata": {},
   "outputs": [],
   "source": [
    "# Python function called linear_search that takes a list and a target value, and returns the index of the target value if found, or -1 if not found\n",
    "\n",
    "def linear_search(lst, target):\n",
    "    for index, value in enumerate(lst):\n",
    "        if value == target:\n",
    "            return index\n",
    "    return -1\n",
    "\n",
    "if __name__ == \"__main__\":\n",
    "    lst = [1, 2, 3, 4, 5]\n",
    "    target = 3\n",
    "    result = linear_search(lst, target)\n",
    "    print(result)  # Should print 2"
   ]
  },
  {
   "cell_type": "markdown",
   "metadata": {},
   "source": [
    "49. Write a Python function called bubble_sort that implements the bubble sort algorithm to sort a list of numbers in ascending order. Use this function to sort the list [5, 3, 8, 4, 2] and print the sorted list"
   ]
  },
  {
   "cell_type": "code",
   "execution_count": null,
   "metadata": {},
   "outputs": [],
   "source": [
    "# Python function called bubble_sort that implements the bubble sort algorithm to sort a list of numbers in ascending order\n",
    "\n",
    "def bubble_sort(lst):\n",
    "    n = len(lst)\n",
    "    for i in range(n):\n",
    "        for j in range(0, n-i-1):\n",
    "            if lst[j] > lst[j+1]:\n",
    "                lst[j], lst[j+1] = lst[j+1], lst[j]\n",
    "\n",
    "if __name__ == \"__main__\":\n",
    "    lst = [5, 3, 8, 4, 2]\n",
    "    bubble_sort(lst)\n",
    "    print(lst)  # Should print [2, 3, 4, 5, 8]"
   ]
  },
  {
   "cell_type": "markdown",
   "metadata": {},
   "source": [
    "50. Write a Python function called binary_search that implements the binary search algorithm to find a target value in a sorted list. Use this function to find the index of the value 4 in the sorted list [1, 2, 3, 4, 5]."
   ]
  },
  {
   "cell_type": "code",
   "execution_count": null,
   "metadata": {},
   "outputs": [],
   "source": [
    "# Python function called binary_search that implements the binary search algorithm to find a target value in a sorted list\n",
    "\n",
    "def binary_search(lst, target):\n",
    "    left, right = 0, len(lst) - 1\n",
    "    while left <= right:\n",
    "        mid = (left + right) // 2\n",
    "        if lst[mid] == target:\n",
    "            return mid\n",
    "        elif lst[mid] < target:\n",
    "            left = mid + 1\n",
    "        else:\n",
    "            right = mid - 1\n",
    "    return -1\n",
    "\n",
    "if __name__ == \"__main__\":\n",
    "    lst = [1, 2, 3, 4, 5]\n",
    "    target = 4\n",
    "    result = binary_search(lst, target)\n",
    "    print(result)  # Should print 3"
   ]
  },
  {
   "cell_type": "markdown",
   "metadata": {},
   "source": [
    "51. Write a Python program that creates a dictionary representing a student's grades for different subjects, e.g., grades = {'Math': {'midterm': 90, 'final': 85}, 'Science': {'midterm': 88, 'final': 92}}. Access and print the final grade in Science."
   ]
  },
  {
   "cell_type": "code",
   "execution_count": null,
   "metadata": {},
   "outputs": [],
   "source": [
    "# Python program that creates a dictionary representing a student's grades for different subjects and prints the final grade in Science\n",
    "\n",
    "def main():\n",
    "    grades = {\n",
    "        'Math': {'midterm': 90, 'final': 85},\n",
    "        'Science': {'midterm': 88, 'final': 92}\n",
    "    }\n",
    "    science_final_grade = grades['Science']['final']\n",
    "    print(science_final_grade)\n",
    "\n",
    "if __name__ == \"__main__\":\n",
    "    main()"
   ]
  },
  {
   "cell_type": "markdown",
   "metadata": {},
   "source": [
    "52. Write a Python class called Node representing a node in a singly linked list, with attributes data and next_node. Implement a class called LinkedList with methods to insert a node at the beginning, end, and to print the list. Demonstrate by inserting and printing nodes."
   ]
  },
  {
   "cell_type": "code",
   "execution_count": null,
   "metadata": {},
   "outputs": [],
   "source": [
    "# Python class called Node representing a node in a singly linked list\n",
    "# Implement a class called LinkedList with methods to insert a node at the beginning, end, and to print the list\n",
    "\n",
    "class Node:\n",
    "    def __init__(self, data):\n",
    "        self.data = data\n",
    "        self.next_node = None\n",
    "\n",
    "class LinkedList:\n",
    "    def __init__(self):\n",
    "        self.head = None\n",
    "\n",
    "    def insert_at_beginning(self, data):\n",
    "        new_node = Node(data)\n",
    "        new_node.next_node = self.head\n",
    "        self.head = new_node\n",
    "\n",
    "    def insert_at_end(self, data):\n",
    "        new_node = Node(data)\n",
    "        if self.head is None:\n",
    "            self.head = new_node\n",
    "        else:\n",
    "            current = self.head\n",
    "            while current.next_node:\n",
    "                current = current.next_node\n",
    "            current.next_node = new_node\n",
    "\n",
    "    def print_list(self):\n",
    "        current = self.head\n",
    "        while current:\n",
    "            print(current.data, end=' -> ')\n",
    "            current = current.next_node\n",
    "        print('None')\n",
    "\n",
    "if __name__ == \"__main__\":\n",
    "    linked_list = LinkedList()\n",
    "    linked_list.insert_at_beginning(3)\n",
    "    linked_list.insert_at_beginning(2)\n",
    "    linked_list.insert_at_end(4)\n",
    "    linked_list.insert_at_beginning(1)\n",
    "    linked_list.print_list()  # Should print: 1 -> 2 -> 3 -> 4 -> None"
   ]
  },
  {
   "cell_type": "markdown",
   "metadata": {},
   "source": [
    "53. Write a Python function called gcd that calculates the greatest common divisor (GCD) of two numbers using the Euclidean algorithm. Calculate the GCD of 48 and 18 and print the result."
   ]
  },
  {
   "cell_type": "code",
   "execution_count": null,
   "metadata": {},
   "outputs": [],
   "source": [
    "# Python function called gcd that calculates the greatest common divisor (GCD) of two numbers using the Euclidean algorithm\n",
    "\n",
    "def gcd(a, b):\n",
    "    while b:\n",
    "        a, b = b, a % b\n",
    "    return a\n",
    "\n",
    "if __name__ == \"__main__\":\n",
    "    result = gcd(48, 18)\n",
    "    print(result)  # Should print 6"
   ]
  },
  {
   "cell_type": "markdown",
   "metadata": {},
   "source": [
    "54. Write a Python function called is_prime that checks if a number is prime. Use this function to check if 29 is prime and print the result."
   ]
  },
  {
   "cell_type": "code",
   "execution_count": null,
   "metadata": {},
   "outputs": [],
   "source": [
    "# Python function called is_prime that checks if a number is prime\n",
    "\n",
    "def is_prime(n):\n",
    "    if n <= 1:\n",
    "        return False\n",
    "    for i in range(2, int(n ** 0.5) + 1):\n",
    "        if n % i == 0:\n",
    "            return False\n",
    "    return True\n",
    "\n",
    "if __name__ == \"__main__\":\n",
    "    result = is_prime(29)\n",
    "    print(result)  # Should print True"
   ]
  },
  {
   "cell_type": "markdown",
   "metadata": {},
   "source": [
    "55.Write a Python function called factorial that calculates the factorial of a number using a loop. Calculate the factorial of 6 and print the result.\""
   ]
  },
  {
   "cell_type": "code",
   "execution_count": null,
   "metadata": {},
   "outputs": [],
   "source": [
    "# Python function called factorial that calculates the factorial of a number using a loop\n",
    "\n",
    "def factorial(n):\n",
    "    result = 1\n",
    "    for i in range(1, n + 1):\n",
    "        result *= i\n",
    "    return result\n",
    "\n",
    "if __name__ == \"__main__\":\n",
    "    result = factorial(6)\n",
    "    print(result)  # Should print 720"
   ]
  },
  {
   "cell_type": "markdown",
   "metadata": {},
   "source": [
    "56. Write a simple Flask application with a single route that returns 'Hello, World!' when accessed. Run the Flask app and provide instructions to test the endpoint."
   ]
  },
  {
   "cell_type": "code",
   "execution_count": null,
   "metadata": {},
   "outputs": [],
   "source": [
    "# Simple Flask application with a single route that returns 'Hello, World!'\n",
    "\n",
    "from flask import Flask\n",
    "\n",
    "app = Flask(__name__)\n",
    "\n",
    "@app.route('/')\n",
    "def hello_world():\n",
    "    return 'Hello, World!'\n",
    "\n",
    "if __name__ == \"__main__\":\n",
    "    app.run(debug=True)"
   ]
  },
  {
   "cell_type": "markdown",
   "metadata": {},
   "source": [
    "57. Write a Python program that uses nested loops to print a multiplication table (from 1 to 10). Format the output as a grid."
   ]
  },
  {
   "cell_type": "code",
   "execution_count": null,
   "metadata": {},
   "outputs": [],
   "source": [
    "# Python program that uses nested loops to print a multiplication table (from 1 to 10) formatted as a grid\n",
    "\n",
    "def print_multiplication_table():\n",
    "    for i in range(1, 11):\n",
    "        for j in range(1, 11):\n",
    "            print(f\"{i * j:4}\", end=\" \")\n",
    "        print()\n",
    "\n",
    "if __name__ == \"__main__\":\n",
    "    print_multiplication_table()"
   ]
  },
  {
   "cell_type": "markdown",
   "metadata": {},
   "source": [
    "58. Write a Python class called Vector with attributes x and y. Overload the + operator to add two Vector objects by summing their x and y attributes. Demonstrate by adding two Vector objects and printing the result."
   ]
  },
  {
   "cell_type": "code",
   "execution_count": null,
   "metadata": {},
   "outputs": [],
   "source": [
    "# Python class called Vector with attributes x and y\n",
    "# Overload the + operator to add two Vector objects by summing their x and y attributes\n",
    "\n",
    "class Vector:\n",
    "    def __init__(self, x, y):\n",
    "        self.x = x\n",
    "        self.y = y\n",
    "\n",
    "    def __add__(self, other):\n",
    "        return Vector(self.x + other.x, self.y + other.y)\n",
    "\n",
    "    def __str__(self):\n",
    "        return f\"Vector({self.x}, {self.y})\"\n",
    "\n",
    "if __name__ == \"__main__\":\n",
    "    v1 = Vector(1, 2)\n",
    "    v2 = Vector(3, 4)\n",
    "    v3 = v1 + v2\n",
    "    print(v3)  # Should print Vector(4, 6)"
   ]
  },
  {
   "cell_type": "markdown",
   "metadata": {},
   "source": [
    "59. Write a Python function called fibonacci that generates the nth Fibonacci number using recursion. Calculate and print the 10th Fibonacci number."
   ]
  },
  {
   "cell_type": "code",
   "execution_count": null,
   "metadata": {},
   "outputs": [],
   "source": [
    "# Python function called fibonacci that generates the nth Fibonacci number using recursion\n",
    "\n",
    "def fibonacci(n):\n",
    "    if n <= 0:\n",
    "        return 0\n",
    "    elif n == 1:\n",
    "        return 1\n",
    "    else:\n",
    "        return fibonacci(n - 1) + fibonacci(n - 2)\n",
    "\n",
    "if __name__ == \"__main__\":\n",
    "    result = fibonacci(10)\n",
    "    print(result)  # Should print 55"
   ]
  },
  {
   "cell_type": "markdown",
   "metadata": {},
   "source": [
    "60. Write a Python program that creates a list of tuples representing student names and their grades, e.g., students = [('Alice', 90), ('Bob', 85), ('Charlie', 95)]. Sort the list by grades and print the sorted list."
   ]
  },
  {
   "cell_type": "code",
   "execution_count": null,
   "metadata": {},
   "outputs": [],
   "source": [
    "# Python program that creates a list of tuples representing student names and their grades\n",
    "# Sort the list by grades and print the sorted list\n",
    "\n",
    "def main():\n",
    "    students = [('Alice', 90), ('Bob', 85), ('Charlie', 95)]\n",
    "    sorted_students = sorted(students, key=lambda student: student[1])\n",
    "    print(sorted_students)\n",
    "\n",
    "if __name__ == \"__main__\":\n",
    "    main()"
   ]
  },
  {
   "cell_type": "markdown",
   "metadata": {},
   "source": [
    "61. Write a Python program that uses nested loops to print the following pattern:\n",
    "Markdown\n",
    "\n"
   ]
  },
  {
   "cell_type": "code",
   "execution_count": null,
   "metadata": {},
   "outputs": [],
   "source": [
    "*\n",
    "**\n",
    "***\n",
    "****\n",
    "*****\n",
    "```\"\n",
    "\n"
   ]
  },
  {
   "cell_type": "code",
   "execution_count": null,
   "metadata": {},
   "outputs": [],
   "source": [
    "# Python program that uses nested loops to print the specified pattern\n",
    "\n",
    "def print_pattern():\n",
    "    for i in range(1, 6):\n",
    "        for j in range(i):\n",
    "            print('*', end='')\n",
    "        print()\n",
    "\n",
    "if __name__ == \"__main__\":\n",
    "    print_pattern()"
   ]
  },
  {
   "cell_type": "markdown",
   "metadata": {},
   "source": [
    "62. Write a Python decorator called log_call that logs the name of the function being called. Apply this decorator to a function called greet that prints 'Hello!' and call the decorated function."
   ]
  },
  {
   "cell_type": "code",
   "execution_count": null,
   "metadata": {},
   "outputs": [],
   "source": [
    "# Python decorator called log_call that logs the name of the function being called\n",
    "\n",
    "def log_call(func):\n",
    "    def wrapper(*args, **kwargs):\n",
    "        print(f\"Calling function: {func.__name__}\")\n",
    "        return func(*args, **kwargs)\n",
    "    return wrapper\n",
    "\n",
    "@log_call\n",
    "def greet():\n",
    "    print('Hello!')\n",
    "\n",
    "if __name__ == \"__main__\":\n",
    "    greet()"
   ]
  },
  {
   "cell_type": "markdown",
   "metadata": {},
   "source": [
    "63. Write a Python class called TreeNode representing a node in a binary tree, with attributes data, left, and right. Implement a function to perform an in-order traversal of the tree and print the node values."
   ]
  },
  {
   "cell_type": "code",
   "execution_count": null,
   "metadata": {},
   "outputs": [],
   "source": [
    "# Python class called TreeNode representing a node in a binary tree\n",
    "# Implement a function to perform an in-order traversal of the tree and print the node values\n",
    "\n",
    "class TreeNode:\n",
    "    def __init__(self, data):\n",
    "        self.data = data\n",
    "        self.left = None\n",
    "        self.right = None\n",
    "\n",
    "def in_order_traversal(node):\n",
    "    if node is not None:\n",
    "        in_order_traversal(node.left)\n",
    "        print(node.data, end=' ')\n",
    "        in_order_traversal(node.right)\n",
    "\n",
    "if __name__ == \"__main__\":\n",
    "    # Creating a sample binary tree\n",
    "    root = TreeNode(1)\n",
    "    root.left = TreeNode(2)\n",
    "    root.right = TreeNode(3)\n",
    "    root.left.left = TreeNode(4)\n",
    "    root.left.right = TreeNode(5)\n",
    "    root.right.left = TreeNode(6)\n",
    "    root.right.right = TreeNode(7)\n",
    "\n",
    "    # Performing in-order traversal\n",
    "    in_order_traversal(root)  # Should print: 4 2 5 1 6 3 7"
   ]
  },
  {
   "cell_type": "markdown",
   "metadata": {},
   "source": [
    "64. Write a Python function called quicksort that implements the quicksort algorithm to sort a list of numbers in ascending order. Use this function to sort the list [10, 7, 8, 9, 1, 5] and print the sorted list."
   ]
  },
  {
   "cell_type": "code",
   "execution_count": null,
   "metadata": {},
   "outputs": [],
   "source": [
    "# Python function called quicksort that implements the quicksort algorithm to sort a list of numbers in ascending order\n",
    "\n",
    "def quicksort(arr):\n",
    "    if len(arr) <= 1:\n",
    "        return arr\n",
    "    else:\n",
    "        pivot = arr[len(arr) // 2]\n",
    "        left = [x for x in arr if x < pivot]\n",
    "        middle = [x for x in arr if x == pivot]\n",
    "        right = [x for x in arr if x > pivot]\n",
    "        return quicksort(left) + middle + quicksort(right)\n",
    "\n",
    "if __name__ == \"__main__\":\n",
    "    lst = [10, 7, 8, 9, 1, 5]\n",
    "    sorted_lst = quicksort(lst)\n",
    "    print(sorted_lst)  # Should print [1, 5, 7, 8, 9, 10]"
   ]
  },
  {
   "cell_type": "markdown",
   "metadata": {},
   "source": [
    "65. Write a Flask application that provides a simple REST API with the following endpoints: GET /items to return a list of items, POST /items to add a new item, and DELETE /items/<id> to delete an item by ID. Provide instructions to test the API."
   ]
  },
  {
   "cell_type": "code",
   "execution_count": null,
   "metadata": {},
   "outputs": [],
   "source": [
    "# Flask application that provides a simple REST API with endpoints to get, add, and delete items\n",
    "\n",
    "from flask import Flask, request, jsonify\n",
    "\n",
    "app = Flask(__name__)\n",
    "\n",
    "# In-memory storage for items\n",
    "items = []\n",
    "\n",
    "@app.route('/items', methods=['GET'])\n",
    "def get_items():\n",
    "    return jsonify(items)\n",
    "\n",
    "@app.route('/items', methods=['POST'])\n",
    "def add_item():\n",
    "    new_item = request.json\n",
    "    items.append(new_item)\n",
    "    return jsonify(new_item), 201\n",
    "\n",
    "@app.route('/items/<int:item_id>', methods=['DELETE'])\n",
    "def delete_item(item_id):\n",
    "    global items\n",
    "    items = [item for item in items if item.get('id') != item_id]\n",
    "    return '', 204\n",
    "\n",
    "if __name__ == \"__main__\":\n",
    "    app.run(debug=True)"
   ]
  },
  {
   "cell_type": "markdown",
   "metadata": {},
   "source": [
    "66. Write a Python program that generates the current date and time using the datetime module, formats it as 'YYYY-MM-DD HH:MM', and prints it. Then calculate the date 10 days from today and print it\n"
   ]
  },
  {
   "cell_type": "code",
   "execution_count": null,
   "metadata": {},
   "outputs": [],
   "source": [
    "# Python program that generates the current date and time, formats it, and calculates the date 10 days from today\n",
    "\n",
    "from datetime import datetime, timedelta\n",
    "\n",
    "def main():\n",
    "    # Get the current date and time\n",
    "    now = datetime.now()\n",
    "    \n",
    "    # Format the current date and time as 'YYYY-MM-DD HH:MM'\n",
    "    formatted_now = now.strftime('%Y-%m-%d %H:%M')\n",
    "    print(f\"Current date and time: {formatted_now}\")\n",
    "    \n",
    "    # Calculate the date 10 days from today\n",
    "    future_date = now + timedelta(days=10)\n",
    "    formatted_future_date = future_date.strftime('%Y-%m-%d')\n",
    "    print(f\"Date 10 days from today: {formatted_future_date}\")\n",
    "\n",
    "if __name__ == \"__main__\":\n",
    "    main()"
   ]
  },
  {
   "cell_type": "markdown",
   "metadata": {},
   "source": [
    "67. Write a Python program that uses BeautifulSoup to scrape the titles of articles from a news website's homepage and prints them."
   ]
  },
  {
   "cell_type": "code",
   "execution_count": null,
   "metadata": {},
   "outputs": [],
   "source": [
    "pip install requests beautifulsoup4\n",
    "import requests\n",
    "from bs4 import BeautifulSoup\n",
    "\n",
    "def scrape_article_titles(url):\n",
    "    # Send a GET request to the URL\n",
    "    response = requests.get(url)\n",
    "    \n",
    "    # Check if the request was successful\n",
    "    if response.status_code == 200:\n",
    "        # Parse the HTML content using BeautifulSoup\n",
    "        soup = BeautifulSoup(response.content, 'html.parser')\n",
    "        \n",
    "        # Find all article titles (this will vary depending on the website's structure)\n",
    "        # For example, if the titles are within <h2> tags with a class 'title', you can use:\n",
    "        titles = soup.find_all('h2', class_='title')\n",
    "        \n",
    "        # Print the titles\n",
    "        for title in titles:\n",
    "            print(title.get_text())\n",
    "    else:\n",
    "        print(f\"Failed to retrieve the webpage. Status code: {response.status_code}\")\n",
    "\n",
    "if __name__ == \"__main__\":\n",
    "    # Replace 'https://example.com' with the URL of the news website's homepage\n",
    "    url = 'https://example.com'\n",
    "    scrape_article_titles(url)\n",
    "    titles = soup.find_all('h2', class_='title')\n",
    "    titles = soup.find_all('h3', class_='headline')\n",
    "    python scrape_titles.py"
   ]
  },
  {
   "cell_type": "markdown",
   "metadata": {},
   "source": [
    "68. Write a Python program that performs linear regression on a dataset using numpy. The dataset consists of input x = [1, 2, 3, 4, 5] and output y = [2, 4, 6, 8, 10]. Calculate the slope and intercept, and print the linear equation."
   ]
  },
  {
   "cell_type": "code",
   "execution_count": null,
   "metadata": {},
   "outputs": [],
   "source": [
    "# Python program that performs linear regression on a dataset using numpy\n",
    "\n",
    "import numpy as np\n",
    "\n",
    "def linear_regression(x, y):\n",
    "    # Convert lists to numpy arrays\n",
    "    x = np.array(x)\n",
    "    y = np.array(y)\n",
    "    \n",
    "    # Calculate the mean of x and y\n",
    "    x_mean = np.mean(x)\n",
    "    y_mean = np.mean(y)\n",
    "    \n",
    "    # Calculate the slope (m) and intercept (b)\n",
    "    numerator = np.sum((x - x_mean) * (y - y_mean))\n",
    "    denominator = np.sum((x - x_mean) ** 2)\n",
    "    slope = numerator / denominator\n",
    "    intercept = y_mean - slope * x_mean\n",
    "    \n",
    "    return slope, intercept\n",
    "\n",
    "if __name__ == \"__main__\":\n",
    "    # Dataset\n",
    "    x = [1, 2, 3, 4, 5]\n",
    "    y = [2, 4, 6, 8, 10]\n",
    "    \n",
    "    # Perform linear regression\n",
    "    slope, intercept = linear_regression(x, y)\n",
    "    \n",
    "    # Print the linear equation\n",
    "    print(f\"The linear equation is: y = {slope:.2f}x + {intercept:.2f}\")"
   ]
  },
  {
   "cell_type": "markdown",
   "metadata": {},
   "source": [
    "69. Write a Python class called BSTNode representing a node in a binary search tree (BST), with attributes data, left, and right. Implement methods to insert a new node and search for a value in the BST. Demonstrate by inserting and searching for values."
   ]
  },
  {
   "cell_type": "code",
   "execution_count": null,
   "metadata": {},
   "outputs": [],
   "source": [
    "# Python class called BSTNode representing a node in a binary search tree (BST)\n",
    "# Implement methods to insert a new node and search for a value in the BST\n",
    "\n",
    "class BSTNode:\n",
    "    def __init__(self, data):\n",
    "        self.data = data\n",
    "        self.left = None\n",
    "        self.right = None\n",
    "\n",
    "    def insert(self, value):\n",
    "        if value < self.data:\n",
    "            if self.left is None:\n",
    "                self.left = BSTNode(value)\n",
    "            else:\n",
    "                self.left.insert(value)\n",
    "        elif value > self.data:\n",
    "            if self.right is None:\n",
    "                self.right = BSTNode(value)\n",
    "            else:\n",
    "                self.right.insert(value)\n",
    "\n",
    "    def search(self, value):\n",
    "        if value == self.data:\n",
    "            return True\n",
    "        elif value < self.data:\n",
    "            if self.left is None:\n",
    "                return False\n",
    "            else:\n",
    "                return self.left.search(value)\n",
    "        else:\n",
    "            if self.right is None:\n",
    "                return False\n",
    "            else:\n",
    "                return self.right.search(value)\n",
    "\n",
    "if __name__ == \"__main__\":\n",
    "    # Create the root node\n",
    "    root = BSTNode(10)\n",
    "    \n",
    "    # Insert values\n",
    "    root.insert(5)\n",
    "    root.insert(15)\n",
    "    root.insert(3)\n",
    "    root.insert(7)\n",
    "    root.insert(12)\n",
    "    root.insert(18)\n",
    "    \n",
    "    # Search for values\n",
    "    print(root.search(7))  # Should print True\n",
    "    print(root.search(20)) # Should print False"
   ]
  },
  {
   "cell_type": "markdown",
   "metadata": {},
   "source": [
    "70. Write a Python program that creates a pandas DataFrame representing sales data with columns Product, Category, and Sales. Group the data by Category and calculate the total sales for each category."
   ]
  },
  {
   "cell_type": "code",
   "execution_count": null,
   "metadata": {},
   "outputs": [],
   "source": [
    "# Python program that creates a pandas DataFrame representing sales data\n",
    "# Group the data by Category and calculate the total sales for each category\n",
    "\n",
    "import pandas as pd\n",
    "\n",
    "def main():\n",
    "    # Create a DataFrame representing sales data\n",
    "    data = {\n",
    "        'Product': ['A', 'B', 'C', 'D', 'E'],\n",
    "        'Category': ['Electronics', 'Electronics', 'Furniture', 'Furniture', 'Clothing'],\n",
    "        'Sales': [100, 150, 200, 250, 300]\n",
    "    }\n",
    "    df = pd.DataFrame(data)\n",
    "    \n",
    "    # Group the data by Category and calculate the total sales for each category\n",
    "    grouped_data = df.groupby('Category')['Sales'].sum().reset_index()\n",
    "    \n",
    "    # Print the grouped data\n",
    "    print(grouped_data)\n",
    "\n",
    "if __name__ == \"__main__\":\n",
    "    main()\n",
    "    python sales_data.py"
   ]
  },
  {
   "cell_type": "markdown",
   "metadata": {},
   "source": [
    "71. Write a Python program that creates two pandas DataFrames representing customer orders and their details. Merge the two DataFrames on a common OrderID column and print the merged DataFrame."
   ]
  },
  {
   "cell_type": "code",
   "execution_count": null,
   "metadata": {},
   "outputs": [],
   "source": [
    "# Python program that creates two pandas DataFrames representing customer orders and their details\n",
    "# Merge the two DataFrames on a common OrderID column and print the merged DataFrame\n",
    "\n",
    "import pandas as pd\n",
    "\n",
    "def main():\n",
    "    # Create the first DataFrame representing customer orders\n",
    "    orders_data = {\n",
    "        'OrderID': [1, 2, 3],\n",
    "        'CustomerName': ['Alice', 'Bob', 'Charlie']\n",
    "    }\n",
    "    orders_df = pd.DataFrame(orders_data)\n",
    "    \n",
    "    # Create the second DataFrame representing order details\n",
    "    details_data = {\n",
    "        'OrderID': [1, 2, 3],\n",
    "        'Product': ['Laptop', 'Tablet', 'Smartphone'],\n",
    "        'Quantity': [1, 2, 1]\n",
    "    }\n",
    "    details_df = pd.DataFrame(details_data)\n",
    "    \n",
    "    # Merge the two DataFrames on the common OrderID column\n",
    "    merged_df = pd.merge(orders_df, details_df, on='OrderID')\n",
    "    \n",
    "    # Print the merged DataFrame\n",
    "    print(merged_df)\n",
    "\n",
    "if __name__ == \"__main__\":\n",
    "    main()"
   ]
  },
  {
   "cell_type": "markdown",
   "metadata": {},
   "source": [
    "72. Write a Python program that creates a pandas DataFrame representing sales data with columns Product, Region, and Sales. Create a pivot table that shows the total sales for each product by region and print the pivot table."
   ]
  },
  {
   "cell_type": "code",
   "execution_count": null,
   "metadata": {},
   "outputs": [],
   "source": [
    "# Python program that creates a pandas DataFrame representing sales data\n",
    "# Create a pivot table that shows the total sales for each product by region and print the pivot table\n",
    "\n",
    "import pandas as pd\n",
    "\n",
    "def main():\n",
    "    # Create a DataFrame representing sales data\n",
    "    data = {\n",
    "        'Product': ['A', 'A', 'B', 'B', 'C', 'C'],\n",
    "        'Region': ['North', 'South', 'North', 'South', 'North', 'South'],\n",
    "        'Sales': [100, 150, 200, 250, 300, 350]\n",
    "    }\n",
    "    df = pd.DataFrame(data)\n",
    "    \n",
    "    # Create a pivot table that shows the total sales for each product by region\n",
    "    pivot_table = df.pivot_table(values='Sales', index='Product', columns='Region', aggfunc='sum')\n",
    "    \n",
    "    # Print the pivot table\n",
    "    print(pivot_table)\n",
    "\n",
    "if __name__ == \"__main__\":\n",
    "    main()"
   ]
  },
  {
   "cell_type": "markdown",
   "metadata": {},
   "source": [
    "73. Create a simple Django project with a single app called blog. The app should have a model Post with fields title and content. Create and run the necessary migrations, then use Django's admin interface to add a new post."
   ]
  },
  {
   "cell_type": "code",
   "execution_count": null,
   "metadata": {},
   "outputs": [],
   "source": [
    "pip install django\n",
    "django-admin startproject myproject\n",
    "cd myproject\n",
    "python manage.py startapp blog\n",
    "from django.db import models\n",
    "\n",
    "class Post(models.Model):\n",
    "    title = models.CharField(max_length=200)\n",
    "    content = models.TextField()\n",
    "\n",
    "    def __str__(self):\n",
    "        return self.title\n",
    "    INSTALLED_APPS = [\n",
    "    ...\n",
    "    'blog',\n",
    "]\n",
    "python manage.py makemigrations\n",
    "python manage.py migrate\n",
    "python manage.py createsuperuser\n",
    "from django.contrib import admin\n",
    "from .models import Post\n",
    "\n",
    "admin.site.register(Post)\n",
    "python manage.py runserver"
   ]
  },
  {
   "cell_type": "markdown",
   "metadata": {},
   "source": [
    "74. Write a Python function called merge_sort that implements the merge sort algorithm to sort a list of numbers in ascending order. Use this function to sort the list [12, 11, 13, 5, 6, 7] and print the sorted list."
   ]
  },
  {
   "cell_type": "code",
   "execution_count": null,
   "metadata": {},
   "outputs": [],
   "source": [
    "# Python function called merge_sort that implements the merge sort algorithm to sort a list of numbers in ascending order\n",
    "\n",
    "def merge_sort(arr):\n",
    "    if len(arr) > 1:\n",
    "        mid = len(arr) // 2  # Finding the mid of the array\n",
    "        left_half = arr[:mid]  # Dividing the elements into 2 halves\n",
    "        right_half = arr[mid:]\n",
    "\n",
    "        merge_sort(left_half)  # Sorting the first half\n",
    "        merge_sort(right_half)  # Sorting the second half\n",
    "\n",
    "        i = j = k = 0\n",
    "\n",
    "        # Copy data to temp arrays L[] and R[]\n",
    "        while i < len(left_half) and j < len(right_half):\n",
    "            if left_half[i] < right_half[j]:\n",
    "                arr[k] = left_half[i]\n",
    "                i += 1\n",
    "            else:\n",
    "                arr[k] = right_half[j]\n",
    "                j += 1\n",
    "            k += 1\n",
    "\n",
    "        # Checking if any element was left\n",
    "        while i < len(left_half):\n",
    "            arr[k] = left_half[i]\n",
    "            i += 1\n",
    "            k += 1\n",
    "\n",
    "        while j < len(right_half):\n",
    "            arr[k] = right_half[j]\n",
    "            j += 1\n",
    "            k += 1\n",
    "\n",
    "if __name__ == \"__main__\":\n",
    "    lst = [12, 11, 13, 5, 6, 7]\n",
    "    merge_sort(lst)\n",
    "    print(lst)  # Should print [5, 6, 7, 11, 12, 13]"
   ]
  },
  {
   "cell_type": "markdown",
   "metadata": {},
   "source": [
    "75. Write a Python script that uses SQLAlchemy to connect to a SQLite database. Create a table called users with columns id, name, and email. Insert a few records, then query the table to retrieve and print the records."
   ]
  },
  {
   "cell_type": "code",
   "execution_count": null,
   "metadata": {},
   "outputs": [],
   "source": [
    "# Python script that uses SQLAlchemy to connect to a SQLite database\n",
    "# Create a table called users with columns id, name, and email\n",
    "# Insert a few records, then query the table to retrieve and print the records\n",
    "\n",
    "from sqlalchemy import create_engine, Column, Integer, String, Sequence\n",
    "from sqlalchemy.ext.declarative import declarative_base\n",
    "from sqlalchemy.orm import sessionmaker\n",
    "\n",
    "# Create an engine that stores data in the local directory's sqlite database file\n",
    "engine = create_engine('sqlite:///users.db', echo=True)\n",
    "\n",
    "# Create a base class for our class definitions\n",
    "Base = declarative_base()\n",
    "\n",
    "# Define the User class which will be mapped to the users table\n",
    "class User(Base):\n",
    "    __tablename__ = 'users'\n",
    "    id = Column(Integer, Sequence('user_id_seq'), primary_key=True)\n",
    "    name = Column(String(50))\n",
    "    email = Column(String(50))\n",
    "\n",
    "    def __repr__(self):\n",
    "        return f\"<User(name='{self.name}', email='{self.email}')>\"\n",
    "\n",
    "# Create the users table in the database\n",
    "Base.metadata.create_all(engine)\n",
    "\n",
    "# Create a configured \"Session\" class\n",
    "Session = sessionmaker(bind=engine)\n",
    "\n",
    "# Create a Session\n",
    "session = Session()\n",
    "\n",
    "# Insert a few records into the users table\n",
    "new_users = [\n",
    "    User(name='Alice', email='alice@example.com'),\n",
    "    User(name='Bob', email='bob@example.com'),\n",
    "    User(name='Charlie', email='charlie@example.com')\n",
    "]\n",
    "\n",
    "session.add_all(new_users)\n",
    "session.commit()\n",
    "\n",
    "# Query the table to retrieve and print the records\n",
    "for user in session.query(User).all():\n",
    "    print(user)\n",
    "\n",
    "# Close the session\n",
    "session.close()"
   ]
  },
  {
   "cell_type": "markdown",
   "metadata": {},
   "source": [
    "76. Write a Python class called CustomError that inherits from Exception and takes an error message as an argument. Raise this custom exception in a function called check_positive if the input is not a positive number."
   ]
  },
  {
   "cell_type": "code",
   "execution_count": null,
   "metadata": {},
   "outputs": [],
   "source": [
    "# Python class called CustomError that inherits from Exception and takes an error message as an argument\n",
    "# Raise this custom exception in a function called check_positive if the input is not a positive number\n",
    "\n",
    "class CustomError(Exception):\n",
    "    def __init__(self, message):\n",
    "        self.message = message\n",
    "        super().__init__(self.message)\n",
    "\n",
    "def check_positive(number):\n",
    "    if number <= 0:\n",
    "        raise CustomError(\"The number is not positive.\")\n",
    "    else:\n",
    "        print(f\"The number {number} is positive.\")\n",
    "\n",
    "if __name__ == \"__main__\":\n",
    "    try:\n",
    "        check_positive(5)  # Should print: The number 5 is positive.\n",
    "        check_positive(-3) # Should raise CustomError\n",
    "    except CustomError as e:\n",
    "        print(e)\n",
    "        python custom_error.py\n",
    "        The number 5 is positive.\n",
    "The number is not positive."
   ]
  },
  {
   "cell_type": "markdown",
   "metadata": {},
   "source": [
    "77. Write a Python class called MaxHeap that implements a max heap data structure. Include methods to insert a new element, delete the maximum element, and print the heap."
   ]
  },
  {
   "cell_type": "code",
   "execution_count": null,
   "metadata": {},
   "outputs": [],
   "source": [
    "# Python class called MaxHeap that implements a max heap data structure\n",
    "\n",
    "class MaxHeap:\n",
    "    def __init__(self):\n",
    "        self.heap = []\n",
    "\n",
    "    def insert(self, element):\n",
    "        self.heap.append(element)\n",
    "        self._heapify_up(len(self.heap) - 1)\n",
    "\n",
    "    def delete_max(self):\n",
    "        if len(self.heap) == 0:\n",
    "            return None\n",
    "        if len(self.heap) == 1:\n",
    "            return self.heap.pop()\n",
    "        \n",
    "        max_element = self.heap[0]\n",
    "        self.heap[0] = self.heap.pop()\n",
    "        self._heapify_down(0)\n",
    "        return max_element\n",
    "\n",
    "    def print_heap(self):\n",
    "        print(self.heap)\n",
    "\n",
    "    def _heapify_up(self, index):\n",
    "        parent_index = (index - 1) // 2\n",
    "        if index > 0 and self.heap[index] > self.heap[parent_index]:\n",
    "            self.heap[index], self.heap[parent_index] = self.heap[parent_index], self.heap[index]\n",
    "            self._heapify_up(parent_index)\n",
    "\n",
    "    def _heapify_down(self, index):\n",
    "        largest = index\n",
    "        left_child_index = 2 * index + 1\n",
    "        right_child_index = 2 * index + 2\n",
    "\n",
    "        if left_child_index < len(self.heap) and self.heap[left_child_index] > self.heap[largest]:\n",
    "            largest = left_child_index\n",
    "\n",
    "        if right_child_index < len(self.heap) and self.heap[right_child_index] > self.heap[largest]:\n",
    "            largest = right_child_index\n",
    "\n",
    "        if largest != index:\n",
    "            self.heap[index], self.heap[largest] = self.heap[largest], self.heap[index]\n",
    "            self._heapify_down(largest)\n",
    "\n",
    "if __name__ == \"__main__\":\n",
    "    max_heap = MaxHeap()\n",
    "    max_heap.insert(10)\n",
    "    max_heap.insert(20)\n",
    "    max_heap.insert(5)\n",
    "    max_heap.insert(30)\n",
    "    max_heap.insert(15)\n",
    "    \n",
    "    print(\"Heap after insertions:\")\n",
    "    max_heap.print_heap()  # Should print the heap in max-heap order\n",
    "\n",
    "    max_element = max_heap.delete_max()\n",
    "    print(f\"Deleted max element: {max_element}\")\n",
    "    \n",
    "    print(\"Heap after deleting max element:\")\n",
    "    max_heap.print_heap()  # Should print the heap after deletion"
   ]
  },
  {
   "cell_type": "markdown",
   "metadata": {},
   "source": [
    "78.  Write a Python program that uses the threading module to run two functions concurrently. One function should print numbers from 1 to 5 with a delay of 1 second, and the other should print letters from A to E with a delay of 1.5 seconds."
   ]
  },
  {
   "cell_type": "code",
   "execution_count": null,
   "metadata": {},
   "outputs": [],
   "source": [
    "# Python program that uses the threading module to run two functions concurrently\n",
    "# One function prints numbers from 1 to 5 with a delay of 1 second\n",
    "# The other function prints letters from A to E with a delay of 1.5 seconds\n",
    "\n",
    "import threading\n",
    "import time\n",
    "\n",
    "def print_numbers():\n",
    "    for i in range(1, 6):\n",
    "        print(i)\n",
    "        time.sleep(1)\n",
    "\n",
    "def print_letters():\n",
    "    for letter in ['A', 'B', 'C', 'D', 'E']:\n",
    "        print(letter)\n",
    "        time.sleep(1.5)\n",
    "\n",
    "if __name__ == \"__main__\":\n",
    "    # Create threads for each function\n",
    "    thread1 = threading.Thread(target=print_numbers)\n",
    "    thread2 = threading.Thread(target=print_letters)\n",
    "    \n",
    "    # Start the threads\n",
    "    thread1.start()\n",
    "    thread2.start()\n",
    "    \n",
    "    # Wait for both threads to complete\n",
    "    thread1.join()\n",
    "    thread2.join()\n",
    "    \n",
    "    print(\"Both threads have finished execution.\")"
   ]
  },
  {
   "cell_type": "markdown",
   "metadata": {},
   "source": [
    "79. Write a Python class called LRUCache that implements a least recently used (LRU) cache. The cache should have a maximum capacity, and when the capacity is reached, the least recently used item should be removed. Include methods to get and put items in the cache."
   ]
  },
  {
   "cell_type": "code",
   "execution_count": null,
   "metadata": {},
   "outputs": [],
   "source": [
    "# Python class called LRUCache that implements a least recently used (LRU) cache\n",
    "\n",
    "from collections import OrderedDict\n",
    "\n",
    "class LRUCache:\n",
    "    def __init__(self, capacity: int):\n",
    "        self.capacity = capacity\n",
    "        self.cache = OrderedDict()\n",
    "\n",
    "    def get(self, key: int) -> int:\n",
    "        if key not in self.cache:\n",
    "            return -1\n",
    "        else:\n",
    "            # Move the accessed item to the end to show that it was recently used\n",
    "            self.cache.move_to_end(key)\n",
    "            return self.cache[key]\n",
    "\n",
    "    def put(self, key: int, value: int) -> None:\n",
    "        if key in self.cache:\n",
    "            # Update the value and move the item to the end to show that it was recently used\n",
    "            self.cache.move_to_end(key)\n",
    "        self.cache[key] = value\n",
    "        if len(self.cache) > self.capacity:\n",
    "            # Pop the first item (least recently used)\n",
    "            self.cache.popitem(last=False)\n",
    "\n",
    "    def __str__(self):\n",
    "        return str(self.cache)\n",
    "\n",
    "if __name__ == \"__main__\":\n",
    "    lru_cache = LRUCache(3)\n",
    "    \n",
    "    lru_cache.put(1, 1)\n",
    "    lru_cache.put(2, 2)\n",
    "    lru_cache.put(3, 3)\n",
    "    print(\"Cache after adding 3 items:\", lru_cache)  # Should print the cache with 3 items\n",
    "    \n",
    "    lru_cache.get(1)\n",
    "    lru_cache.put(4, 4)\n",
    "    print(\"Cache after accessing key 1 and adding key 4:\", lru_cache)  # Should evict key 2\n",
    "    \n",
    "    lru_cache.get(2)\n",
    "    lru_cache.put(5, 5)\n",
    "    print(\"Cache after accessing key 2 and adding key 5:\", lru_cache)  # Should evict key 3"
   ]
  },
  {
   "cell_type": "markdown",
   "metadata": {},
   "source": [
    "80. Write a Python class called MetaSingleton using a metaclass that ensures any class inheriting from it will be a singleton (i.e., only one instance of the class can exist). Demonstrate by creating two instances and showing they are the same."
   ]
  },
  {
   "cell_type": "code",
   "execution_count": null,
   "metadata": {},
   "outputs": [],
   "source": [
    "# Python class called MetaSingleton using a metaclass that ensures any class inheriting from it will be a singleton\n",
    "\n",
    "class MetaSingleton(type):\n",
    "    _instances = {}\n",
    "    \n",
    "    def __call__(cls, *args, **kwargs):\n",
    "        if cls not in cls._instances:\n",
    "            cls._instances[cls] = super(MetaSingleton, cls).__call__(*args, **kwargs)\n",
    "        return cls._instances[cls]\n",
    "\n",
    "class Singleton(metaclass=MetaSingleton):\n",
    "    pass\n",
    "\n",
    "# Demonstration class inheriting from Singleton\n",
    "class MyClass(Singleton):\n",
    "    def __init__(self, value):\n",
    "        self.value = value\n",
    "\n",
    "if __name__ == \"__main__\":\n",
    "    instance1 = MyClass(10)\n",
    "    instance2 = MyClass(20)\n",
    "    \n",
    "    print(f\"Instance 1 value: {instance1.value}\")  # Should print 10\n",
    "    print(f\"Instance 2 value: {instance2.value}\")  # Should also print 10, demonstrating that instance1 and instance2 are the same\n",
    "    \n",
    "    print(f\"Instance 1 is instance 2: {instance1 is instance2}\")  # Should print True"
   ]
  },
  {
   "cell_type": "markdown",
   "metadata": {},
   "source": [
    "81. Write a Python generator function called prime_generator that yields an infinite sequence of prime numbers. Use the generator to print the first 10 prime numbers."
   ]
  },
  {
   "cell_type": "code",
   "execution_count": null,
   "metadata": {},
   "outputs": [],
   "source": [
    "# Python generator function called prime_generator that yields an infinite sequence of prime numbers\n",
    "\n",
    "def prime_generator():\n",
    "    D = {}\n",
    "    q = 2  # Starting number to check for primes\n",
    "\n",
    "    while True:\n",
    "        if q not in D:\n",
    "            # q is a new prime number\n",
    "            yield q\n",
    "            # Mark the first multiple of q that is not already marked\n",
    "            D[q * q] = [q]\n",
    "        else:\n",
    "            # q is not a prime number, it is a multiple of some earlier found primes\n",
    "            for p in D[q]:\n",
    "                D.setdefault(p + q, []).append(p)\n",
    "            del D[q]\n",
    "        q += 1\n",
    "\n",
    "if __name__ == \"__main__\":\n",
    "    gen = prime_generator()\n",
    "    primes = [next(gen) for _ in range(10)]\n",
    "    print(primes)  # Should print the first 10 prime numbers"
   ]
  },
  {
   "cell_type": "markdown",
   "metadata": {},
   "source": [
    "82. Write a Python decorator called memoize that caches the results of a function so that it doesn't have to recompute the results for the same inputs. Apply this decorator to a recursive function that calculates Fibonacci numbers."
   ]
  },
  {
   "cell_type": "code",
   "execution_count": null,
   "metadata": {},
   "outputs": [],
   "source": [
    "# Python decorator called memoize that caches the results of a function\n",
    "\n",
    "def memoize(func):\n",
    "    cache = {}\n",
    "    \n",
    "    def wrapper(*args):\n",
    "        if args in cache:\n",
    "            return cache[args]\n",
    "        result = func(*args)\n",
    "        cache[args] = result\n",
    "        return result\n",
    "    \n",
    "    return wrapper\n",
    "\n",
    "# Recursive function to calculate Fibonacci numbers with memoize decorator\n",
    "@memoize\n",
    "def fibonacci(n):\n",
    "    if n <= 1:\n",
    "        return n\n",
    "    return fibonacci(n - 1) + fibonacci(n - 2)\n",
    "\n",
    "if __name__ == \"__main__\":\n",
    "    # Print the first 10 Fibonacci numbers\n",
    "    for i in range(10):\n",
    "        print(f\"Fibonacci({i}) = {fibonacci(i)}\")"
   ]
  },
  {
   "cell_type": "markdown",
   "metadata": {},
   "source": [
    "83. Write a Python program that uses the asyncio module to fetch the contents of three different URLs concurrently. Print the length of the content fetched from each URL."
   ]
  },
  {
   "cell_type": "code",
   "execution_count": null,
   "metadata": {},
   "outputs": [],
   "source": [
    "# Python program that uses the asyncio module to fetch the contents of three different URLs concurrently\n",
    "\n",
    "import asyncio\n",
    "import aiohttp\n",
    "\n",
    "async def fetch(url):\n",
    "    async with aiohttp.ClientSession() as session:\n",
    "        async with session.get(url) as response:\n",
    "            content = await response.text()\n",
    "            print(f\"Fetched {len(content)} characters from {url}\")\n",
    "\n",
    "async def main():\n",
    "    urls = [\n",
    "        'https://www.example.com',\n",
    "        'https://www.python.org',\n",
    "        'https://www.github.com'\n",
    "    ]\n",
    "    \n",
    "    tasks = [fetch(url) for url in urls]\n",
    "    await asyncio.gather(*tasks)\n",
    "\n",
    "if __name__ == \"__main__\":\n",
    "    asyncio.run(main())"
   ]
  },
  {
   "cell_type": "markdown",
   "metadata": {},
   "source": [
    "84. Write a Python function called a_star that implements the A* search algorithm to find the shortest path in a grid. Use the function to find the shortest path from the top-left corner to the bottom-right corner of a 5x5 grid with some obstacles."
   ]
  },
  {
   "cell_type": "code",
   "execution_count": null,
   "metadata": {},
   "outputs": [],
   "source": [
    "# Python function called a_star that implements the A* search algorithm to find the shortest path in a grid\n",
    "\n",
    "import heapq\n",
    "\n",
    "def heuristic(a, b):\n",
    "    return abs(a[0] - b[0]) + abs(a[1] - b[1])\n",
    "\n",
    "def a_star(grid, start, goal):\n",
    "    rows, cols = len(grid), len(grid[0])\n",
    "    open_set = []\n",
    "    heapq.heappush(open_set, (0, start))\n",
    "    came_from = {}\n",
    "    g_score = {start: 0}\n",
    "    f_score = {start: heuristic(start, goal)}\n",
    "\n",
    "    while open_set:\n",
    "        _, current = heapq.heappop(open_set)\n",
    "\n",
    "        if current == goal:\n",
    "            path = []\n",
    "            while current in came_from:\n",
    "                path.append(current)\n",
    "                current = came_from[current]\n",
    "            path.append(start)\n",
    "            return path[::-1]\n",
    "\n",
    "        neighbors = [(0, 1), (1, 0), (0, -1), (-1, 0)]\n",
    "        for dx, dy in neighbors:\n",
    "            neighbor = (current[0] + dx, current[1] + dy)\n",
    "            if 0 <= neighbor[0] < rows and 0 <= neighbor[1] < cols and grid[neighbor[0]][neighbor[1]] == 0:\n",
    "                tentative_g_score = g_score[current] + 1\n",
    "                if neighbor not in g_score or tentative_g_score < g_score[neighbor]:\n",
    "                    came_from[neighbor] = current\n",
    "                    g_score[neighbor] = tentative_g_score\n",
    "                    f_score[neighbor] = tentative_g_score + heuristic(neighbor, goal)\n",
    "                    heapq.heappush(open_set, (f_score[neighbor], neighbor))\n",
    "\n",
    "    return None\n",
    "\n",
    "if __name__ == \"__main__\":\n",
    "    grid = [\n",
    "        [0, 1, 0, 0, 0],\n",
    "        [0, 1, 0, 1, 0],\n",
    "        [0, 0, 0, 1, 0],\n",
    "        [0, 1, 1, 1, 0],\n",
    "        [0, 0, 0, 0, 0]\n",
    "    ]\n",
    "    start = (0, 0)\n",
    "    goal = (4, 4)\n",
    "    path = a_star(grid, start, goal)\n",
    "    if path:\n",
    "        print(\"Shortest path:\", path)\n",
    "    else:\n",
    "        print(\"No path found\")"
   ]
  },
  {
   "cell_type": "markdown",
   "metadata": {},
   "source": [
    "85. Write a Python class called Timer that implements a context manager to measure the time taken by a block of code. Use this context manager to time a loop that sums numbers from 1 to 1 million."
   ]
  },
  {
   "cell_type": "code",
   "execution_count": null,
   "metadata": {},
   "outputs": [],
   "source": [
    "# Python class called Timer that implements a context manager to measure the time taken by a block of code\n",
    "\n",
    "import time\n",
    "\n",
    "class Timer:\n",
    "    def __enter__(self):\n",
    "        self.start_time = time.time()\n",
    "        return self\n",
    "\n",
    "    def __exit__(self, exc_type, exc_val, exc_tb):\n",
    "        self.end_time = time.time()\n",
    "        self.elapsed_time = self.end_time - self.start_time\n",
    "        print(f\"Elapsed time: {self.elapsed_time:.4f} seconds\")\n",
    "\n",
    "if __name__ == \"__main__\":\n",
    "    with Timer() as timer:\n",
    "        total = sum(range(1, 1000001))\n",
    "    print(f\"Sum of numbers from 1 to 1 million: {total}\")"
   ]
  },
  {
   "cell_type": "markdown",
   "metadata": {},
   "source": [
    "86. Write a Python class called Graph that implements an undirected graph using an adjacency list. Include a method to perform depth-first search (DFS) starting from a given node. Demonstrate by creating a graph and performing DFS."
   ]
  },
  {
   "cell_type": "code",
   "execution_count": null,
   "metadata": {},
   "outputs": [],
   "source": [
    "# Python class called Graph that implements an undirected graph using an adjacency list\n",
    "\n",
    "class Graph:\n",
    "    def __init__(self):\n",
    "        self.adjacency_list = {}\n",
    "\n",
    "    def add_edge(self, node1, node2):\n",
    "        if node1 not in self.adjacency_list:\n",
    "            self.adjacency_list[node1] = []\n",
    "        if node2 not in self.adjacency_list:\n",
    "            self.adjacency_list[node2] = []\n",
    "        self.adjacency_list[node1].append(node2)\n",
    "        self.adjacency_list[node2].append(node1)\n",
    "\n",
    "    def dfs(self, start_node):\n",
    "        visited = set()\n",
    "        self._dfs_recursive(start_node, visited)\n",
    "\n",
    "    def _dfs_recursive(self, node, visited):\n",
    "        if node not in visited:\n",
    "            print(node)\n",
    "            visited.add(node)\n",
    "            for neighbor in self.adjacency_list[node]:\n",
    "                self._dfs_recursive(neighbor, visited)\n",
    "\n",
    "if __name__ == \"__main__\":\n",
    "    graph = Graph()\n",
    "    graph.add_edge(1, 2)\n",
    "    graph.add_edge(1, 3)\n",
    "    graph.add_edge(2, 4)\n",
    "    graph.add_edge(2, 5)\n",
    "    graph.add_edge(3, 6)\n",
    "    graph.add_edge(3, 7)\n",
    "\n",
    "    print(\"Depth-First Search starting from node 1:\")\n",
    "    graph.dfs(1)"
   ]
  },
  {
   "cell_type": "markdown",
   "metadata": {},
   "source": [
    "87. Write a Python program that uses matplotlib to plot the sine and cosine functions on the same graph. Label the axes and add a legend to distinguish between the two functions."
   ]
  },
  {
   "cell_type": "code",
   "execution_count": null,
   "metadata": {},
   "outputs": [],
   "source": [
    "# Python program that uses matplotlib to plot the sine and cosine functions on the same graph\n",
    "\n",
    "import matplotlib.pyplot as plt\n",
    "import numpy as np\n",
    "\n",
    "# Generate x values from 0 to 2π\n",
    "x = np.linspace(0, 2 * np.pi, 100)\n",
    "\n",
    "# Compute sine and cosine values\n",
    "y_sin = np.sin(x)\n",
    "y_cos = np.cos(x)\n",
    "\n",
    "# Create the plot\n",
    "plt.figure(figsize=(10, 6))\n",
    "\n",
    "# Plot sine function\n",
    "plt.plot(x, y_sin, label='Sine', color='blue')\n",
    "\n",
    "# Plot cosine function\n",
    "plt.plot(x, y_cos, label='Cosine', color='red')\n",
    "\n",
    "# Label the axes\n",
    "plt.xlabel('x values (radians)')\n",
    "plt.ylabel('y values')\n",
    "\n",
    "# Add a legend\n",
    "plt.legend()\n",
    "\n",
    "# Add a title\n",
    "plt.title('Sine and Cosine Functions')\n",
    "\n",
    "# Show the plot\n",
    "plt.grid(True)\n",
    "plt.show()"
   ]
  },
  {
   "cell_type": "markdown",
   "metadata": {},
   "source": [
    "88. Write a Python class called PriorityQueue that implements a priority queue using a heap. Include methods to insert an item with a priority and remove the item with the highest priority. Demonstrate by inserting and removing items. "
   ]
  },
  {
   "cell_type": "code",
   "execution_count": null,
   "metadata": {},
   "outputs": [],
   "source": [
    "# Python class called PriorityQueue that implements a priority queue using a heap\n",
    "\n",
    "import heapq\n",
    "\n",
    "class PriorityQueue:\n",
    "    def __init__(self):\n",
    "        self.heap = []\n",
    "\n",
    "    def insert(self, item, priority):\n",
    "        # Use a tuple (priority, item) to maintain the heap property\n",
    "        heapq.heappush(self.heap, (-priority, item))\n",
    "\n",
    "    def remove_highest_priority(self):\n",
    "        if not self.heap:\n",
    "            return None\n",
    "        # Pop the item with the highest priority (which is the smallest negative priority)\n",
    "        return heapq.heappop(self.heap)[1]\n",
    "\n",
    "    def __str__(self):\n",
    "        return str([item for priority, item in self.heap])\n",
    "\n",
    "if __name__ == \"__main__\":\n",
    "    pq = PriorityQueue()\n",
    "    \n",
    "    pq.insert(\"task1\", 1)\n",
    "    pq.insert(\"task2\", 3)\n",
    "    pq.insert(\"task3\", 2)\n",
    "    \n",
    "    print(\"Priority Queue after insertions:\", pq)  # Should print the queue with tasks in heap order\n",
    "    \n",
    "    highest_priority_item = pq.remove_highest_priority()\n",
    "    print(f\"Removed highest priority item: {highest_priority_item}\")\n",
    "    \n",
    "    print(\"Priority Queue after removing highest priority item:\", pq)  # Should print the queue after removal"
   ]
  },
  {
   "cell_type": "markdown",
   "metadata": {},
   "source": [
    "89. Write a Python program that reads a JSON file containing a list of dictionaries, each representing a product with keys name, price, and quantity. Calculate the total value of the inventory and print it."
   ]
  },
  {
   "cell_type": "code",
   "execution_count": null,
   "metadata": {},
   "outputs": [],
   "source": [
    "# Python program that reads a JSON file containing a list of dictionaries representing products\n",
    "# Calculates the total value of the inventory and prints it\n",
    "\n",
    "import json\n",
    "\n",
    "def calculate_inventory_value(file_path):\n",
    "    with open(file_path, 'r') as file:\n",
    "        products = json.load(file)\n",
    "    \n",
    "    total_value = 0\n",
    "    for product in products:\n",
    "        total_value += product['price'] * product['quantity']\n",
    "    \n",
    "    return total_value\n",
    "\n",
    "if __name__ == \"__main__\":\n",
    "    file_path = 'products.json'  # Path to the JSON file\n",
    "    total_value = calculate_inventory_value(file_path)\n",
    "    print(f\"Total value of the inventory: ${total_value:.2f}\")"
   ]
  },
  {
   "cell_type": "markdown",
   "metadata": {},
   "source": [
    "90. Write a Python program that uses the NLTK library to create a simple rule-based chatbot. The chatbot should respond to greetings and a few predefined questions. Demonstrate a conversation with the chatbot."
   ]
  },
  {
   "cell_type": "code",
   "execution_count": null,
   "metadata": {},
   "outputs": [],
   "source": [
    "# Python program that uses the NLTK library to create a simple rule-based chatbot\n",
    "\n",
    "import nltk\n",
    "from nltk.chat.util import Chat, reflections\n",
    "\n",
    "# Define pairs of patterns and responses\n",
    "pairs = [\n",
    "    [\n",
    "        r\"hi|hello|hey\",\n",
    "        [\"Hello!\", \"Hi there!\", \"Hey!\"]\n",
    "    ],\n",
    "    [\n",
    "        r\"how are you?\",\n",
    "        [\"I'm doing well, thank you!\", \"I'm fine, how about you?\", \"I'm good, thanks for asking!\"]\n",
    "    ],\n",
    "    [\n",
    "        r\"what is your name?\",\n",
    "        [\"I'm a chatbot created by NLTK.\", \"You can call me NLTK Bot.\", \"My name is NLTK Bot.\"]\n",
    "    ],\n",
    "    [\n",
    "        r\"what can you do?\",\n",
    "        [\"I can chat with you and answer simple questions.\", \"I'm here to talk to you!\", \"I can respond to your greetings and questions.\"]\n",
    "    ],\n",
    "    [\n",
    "        r\"bye|goodbye\",\n",
    "        [\"Goodbye!\", \"See you later!\", \"Bye!\"]\n",
    "    ],\n",
    "    [\n",
    "        r\"(.*)\",\n",
    "        [\"I'm not sure how to respond to that.\", \"Can you please rephrase?\", \"I'm here to chat with you!\"]\n",
    "    ]\n",
    "]\n",
    "\n",
    "# Create a chatbot instance\n",
    "chatbot = Chat(pairs, reflections)\n",
    "\n",
    "# Demonstrate a conversation with the chatbot\n",
    "def chat_with_bot():\n",
    "    print(\"Hi! I'm your chatbot. Type 'bye' to exit.\")\n",
    "    while True:\n",
    "        user_input = input(\"You: \")\n",
    "        if user_input.lower() in [\"bye\", \"goodbye\"]:\n",
    "            print(\"Chatbot: Goodbye!\")\n",
    "            break\n",
    "        response = chatbot.respond(user_input)\n",
    "        print(f\"Chatbot: {response}\")\n",
    "\n",
    "if __name__ == \"__main__\":\n",
    "    chat_with_bot()"
   ]
  },
  {
   "cell_type": "markdown",
   "metadata": {},
   "source": [
    "91. Write a Python program that uses OpenCV to load an image, convert it to grayscale, and apply a Gaussian blur. Save and display the processed image."
   ]
  },
  {
   "cell_type": "code",
   "execution_count": null,
   "metadata": {},
   "outputs": [],
   "source": [
    "# Python program that uses OpenCV to load an image, convert it to grayscale, and apply a Gaussian blur\n",
    "\n",
    "import cv2\n",
    "\n",
    "def process_image(input_path, output_path):\n",
    "    # Load the image\n",
    "    image = cv2.imread(input_path)\n",
    "    \n",
    "    # Check if the image was loaded successfully\n",
    "    if image is None:\n",
    "        print(\"Error: Could not load image.\")\n",
    "        return\n",
    "    \n",
    "    # Convert the image to grayscale\n",
    "    gray_image = cv2.cvtColor(image, cv2.COLOR_BGR2GRAY)\n",
    "    \n",
    "    # Apply Gaussian blur\n",
    "    blurred_image = cv2.GaussianBlur(gray_image, (5, 5), 0)\n",
    "    \n",
    "    # Save the processed image\n",
    "    cv2.imwrite(output_path, blurred_image)\n",
    "    \n",
    "    # Display the original and processed images\n",
    "    cv2.imshow('Original Image', image)\n",
    "    cv2.imshow('Processed Image', blurred_image)\n",
    "    \n",
    "    # Wait for a key press and close the image windows\n",
    "    cv2.waitKey(0)\n",
    "    cv2.destroyAllWindows()\n",
    "\n",
    "if __name__ == \"__main__\":\n",
    "    input_path = 'input.jpg'  # Path to the input image\n",
    "    output_path = 'output.jpg'  # Path to save the processed image\n",
    "    process_image(input_path, output_path)"
   ]
  },
  {
   "cell_type": "markdown",
   "metadata": {},
   "source": [
    "92. Write a Python program that implements a simple neural network from scratch using only NumPy. The network should have one hidden layer and should be trained using the backpropagation algorithm on a small dataset."
   ]
  },
  {
   "cell_type": "code",
   "execution_count": null,
   "metadata": {},
   "outputs": [],
   "source": [
    "# Python program that implements a simple neural network from scratch using only NumPy\n",
    "\n",
    "import numpy as np\n",
    "\n",
    "# Activation function: Sigmoid\n",
    "def sigmoid(x):\n",
    "    return 1 / (1 + np.exp(-x))\n",
    "\n",
    "# Derivative of the sigmoid function\n",
    "def sigmoid_derivative(x):\n",
    "    return x * (1 - x)\n",
    "\n",
    "# Neural Network class\n",
    "class SimpleNeuralNetwork:\n",
    "    def __init__(self, input_size, hidden_size, output_size):\n",
    "        # Initialize weights\n",
    "        self.weights_input_hidden = np.random.rand(input_size, hidden_size)\n",
    "        self.weights_hidden_output = np.random.rand(hidden_size, output_size)\n",
    "    \n",
    "    def feedforward(self, X):\n",
    "        # Forward pass\n",
    "        self.hidden_layer_input = np.dot(X, self.weights_input_hidden)\n",
    "        self.hidden_layer_output = sigmoid(self.hidden_layer_input)\n",
    "        \n",
    "        self.output_layer_input = np.dot(self.hidden_layer_output, self.weights_hidden_output)\n",
    "        self.output = sigmoid(self.output_layer_input)\n",
    "        \n",
    "        return self.output\n",
    "    \n",
    "    def backpropagate(self, X, y, learning_rate):\n",
    "        # Calculate the error\n",
    "        output_error = y - self.output\n",
    "        output_delta = output_error * sigmoid_derivative(self.output)\n",
    "        \n",
    "        hidden_error = output_delta.dot(self.weights_hidden_output.T)\n",
    "        hidden_delta = hidden_error * sigmoid_derivative(self.hidden_layer_output)\n",
    "        \n",
    "        # Update the weights\n",
    "        self.weights_hidden_output += self.hidden_layer_output.T.dot(output_delta) * learning_rate\n",
    "        self.weights_input_hidden += X.T.dot(hidden_delta) * learning_rate\n",
    "    \n",
    "    def train(self, X, y, epochs, learning_rate):\n",
    "        for epoch in range(epochs):\n",
    "            self.feedforward(X)\n",
    "            self.backpropagate(X, y, learning_rate)\n",
    "            if epoch % 1000 == 0:\n",
    "                loss = np.mean(np.square(y - self.output))\n",
    "                print(f\"Epoch {epoch}, Loss: {loss}\")\n",
    "\n",
    "if __name__ == \"__main__\":\n",
    "    # Small dataset: XOR problem\n",
    "    X = np.array([[0, 0],\n",
    "                  [0, 1],\n",
    "                  [1, 0],\n",
    "                  [1, 1]])\n",
    "    \n",
    "    y = np.array([[0],\n",
    "                  [1],\n",
    "                  [1],\n",
    "                  [0]])\n",
    "    \n",
    "    # Initialize the neural network\n",
    "    nn = SimpleNeuralNetwork(input_size=2, hidden_size=2, output_size=1)\n",
    "    \n",
    "    # Train the neural network\n",
    "    nn.train(X, y, epochs=10000, learning_rate=0.1)\n",
    "    \n",
    "    # Test the neural network\n",
    "    print(\"Predictions after training:\")\n",
    "    print(nn.feedforward(X))"
   ]
  },
  {
   "cell_type": "markdown",
   "metadata": {},
   "source": [
    "93. Write a Flask application that connects to a SQLite database to store and retrieve user information. Implement routes to add a new user, retrieve all users, and delete a user by ID."
   ]
  },
  {
   "cell_type": "code",
   "execution_count": null,
   "metadata": {},
   "outputs": [],
   "source": [
    "# Flask application that connects to a SQLite database to store and retrieve user information\n",
    "\n",
    "from flask import Flask, request, jsonify\n",
    "import sqlite3\n",
    "\n",
    "app = Flask(__name__)\n",
    "DATABASE = 'users.db'\n",
    "\n",
    "def init_db():\n",
    "    with sqlite3.connect(DATABASE) as conn:\n",
    "        cursor = conn.cursor()\n",
    "        cursor.execute('''\n",
    "            CREATE TABLE IF NOT EXISTS users (\n",
    "                id INTEGER PRIMARY KEY AUTOINCREMENT,\n",
    "                name TEXT NOT NULL,\n",
    "                email TEXT NOT NULL UNIQUE\n",
    "            )\n",
    "        ''')\n",
    "        conn.commit()\n",
    "\n",
    "@app.route('/add_user', methods=['POST'])\n",
    "def add_user():\n",
    "    data = request.get_json()\n",
    "    name = data.get('name')\n",
    "    email = data.get('email')\n",
    "    \n",
    "    if not name or not email:\n",
    "        return jsonify({\"error\": \"Name and email are required\"}), 400\n",
    "    \n",
    "    try:\n",
    "        with sqlite3.connect(DATABASE) as conn:\n",
    "            cursor = conn.cursor()\n",
    "            cursor.execute('INSERT INTO users (name, email) VALUES (?, ?)', (name, email))\n",
    "            conn.commit()\n",
    "            user_id = cursor.lastrowid\n",
    "        return jsonify({\"id\": user_id, \"name\": name, \"email\": email}), 201\n",
    "    except sqlite3.IntegrityError:\n",
    "        return jsonify({\"error\": \"Email already exists\"}), 400\n",
    "\n",
    "@app.route('/get_users', methods=['GET'])\n",
    "def get_users():\n",
    "    with sqlite3.connect(DATABASE) as conn:\n",
    "        cursor = conn.cursor()\n",
    "        cursor.execute('SELECT * FROM users')\n",
    "        users = cursor.fetchall()\n",
    "    return jsonify(users)\n",
    "\n",
    "@app.route('/delete_user/<int:user_id>', methods=['DELETE'])\n",
    "def delete_user(user_id):\n",
    "    with sqlite3.connect(DATABASE) as conn:\n",
    "        cursor = conn.cursor()\n",
    "        cursor.execute('DELETE FROM users WHERE id = ?', (user_id,))\n",
    "        conn.commit()\n",
    "        if cursor.rowcount == 0:\n",
    "            return jsonify({\"error\": \"User not found\"}), 404\n",
    "    return jsonify({\"message\": \"User deleted successfully\"}), 200\n",
    "\n",
    "if __name__ == \"__main__\":\n",
    "    init_db()\n",
    "    app.run(debug=True)"
   ]
  },
  {
   "cell_type": "markdown",
   "metadata": {},
   "source": [
    "94. Write a Python program that uses Selenium to automate the process of logging into a website and navigating to a specific page. Provide instructions for testing the automation."
   ]
  },
  {
   "cell_type": "code",
   "execution_count": null,
   "metadata": {},
   "outputs": [],
   "source": [
    "# Python program that uses Selenium to automate the process of logging into a website and navigating to a specific page\n",
    "\n",
    "from selenium import webdriver\n",
    "from selenium.webdriver.common.by import By\n",
    "from selenium.webdriver.common.keys import Keys\n",
    "from selenium.webdriver.chrome.service import Service\n",
    "from selenium.webdriver.common.action_chains import ActionChains\n",
    "from selenium.webdriver.support.ui import WebDriverWait\n",
    "from selenium.webdriver.support import expected_conditions as EC\n",
    "from selenium.webdriver.chrome.options import Options\n",
    "import time\n",
    "\n",
    "# Replace these with the actual URL, username, and password\n",
    "LOGIN_URL = 'https://example.com/login'\n",
    "USERNAME = 'your_username'\n",
    "PASSWORD = 'your_password'\n",
    "TARGET_PAGE_URL = 'https://example.com/target_page'\n",
    "\n",
    "def automate_login():\n",
    "    # Set up the Chrome WebDriver\n",
    "    chrome_options = Options()\n",
    "    chrome_options.add_argument(\"--headless\")  # Run in headless mode\n",
    "    service = Service('path/to/chromedriver')  # Update with the path to your chromedriver\n",
    "    driver = webdriver.Chrome(service=service, options=chrome_options)\n",
    "    \n",
    "    try:\n",
    "        # Navigate to the login page\n",
    "        driver.get(LOGIN_URL)\n",
    "        \n",
    "        # Wait for the login form to be present\n",
    "        WebDriverWait(driver, 10).until(\n",
    "            EC.presence_of_element_located((By.NAME, 'username'))\n",
    "        )\n",
    "        \n",
    "        # Enter the username\n",
    "        username_field = driver.find_element(By.NAME, 'username')\n",
    "        username_field.send_keys(USERNAME)\n",
    "        \n",
    "        # Enter the password\n",
    "        password_field = driver.find_element(By.NAME, 'password')\n",
    "        password_field.send_keys(PASSWORD)\n",
    "        \n",
    "        # Submit the login form\n",
    "        password_field.send_keys(Keys.RETURN)\n",
    "        \n",
    "        # Wait for the login to complete and the target page to be accessible\n",
    "        WebDriverWait(driver, 10).until(\n",
    "            EC.url_to_be(TARGET_PAGE_URL)\n",
    "        )\n",
    "        \n",
    "        # Navigate to the target page\n",
    "        driver.get(TARGET_PAGE_URL)\n",
    "        \n",
    "        # Wait for the target page to load\n",
    "        WebDriverWait(driver, 10).until(\n",
    "            EC.presence_of_element_located((By.TAG_NAME, 'body'))\n",
    "        )\n",
    "        \n",
    "        # Print the title of the target page to confirm navigation\n",
    "        print(\"Successfully navigated to:\", driver.title)\n",
    "    \n",
    "    finally:\n",
    "        # Close the WebDriver\n",
    "        driver.quit()\n",
    "\n",
    "if __name__ == \"__main__\":\n",
    "    automate_login()"
   ]
  },
  {
   "cell_type": "markdown",
   "metadata": {},
   "source": [
    "95. Write a Python program that uses Scikit-learn to build a logistic regression model to classify a dataset. Train the model on the Iris dataset, evaluate its accuracy, and print the results."
   ]
  },
  {
   "cell_type": "code",
   "execution_count": null,
   "metadata": {},
   "outputs": [],
   "source": [
    "# Python program that uses Scikit-learn to build a logistic regression model to classify the Iris dataset\n",
    "\n",
    "from sklearn.datasets import load_iris\n",
    "from sklearn.model_selection import train_test_split\n",
    "from sklearn.linear_model import LogisticRegression\n",
    "from sklearn.metrics import accuracy_score, classification_report\n",
    "\n",
    "# Load the Iris dataset\n",
    "iris = load_iris()\n",
    "X = iris.data\n",
    "y = iris.target\n",
    "\n",
    "# Split the dataset into training and testing sets\n",
    "X_train, X_test, y_train, y_test = train_test_split(X, y, test_size=0.2, random_state=42)\n",
    "\n",
    "# Create a logistic regression model\n",
    "model = LogisticRegression(max_iter=200)\n",
    "\n",
    "# Train the model on the training data\n",
    "model.fit(X_train, y_train)\n",
    "\n",
    "# Make predictions on the testing data\n",
    "y_pred = model.predict(X_test)\n",
    "\n",
    "# Evaluate the model's accuracy\n",
    "accuracy = accuracy_score(y_test, y_pred)\n",
    "print(f\"Accuracy: {accuracy:.2f}\")\n",
    "\n",
    "# Print the classification report\n",
    "print(\"Classification Report:\")\n",
    "print(classification_report(y_test, y_pred, target_names=iris.target_names))"
   ]
  },
  {
   "cell_type": "markdown",
   "metadata": {},
   "source": [
    "96. Write a Python function called knapsack that solves the 0/1 knapsack problem using dynamic programming. Given a list of items with weights and values, and a maximum weight capacity, find the maximum value that can be obtained."
   ]
  },
  {
   "cell_type": "code",
   "execution_count": null,
   "metadata": {},
   "outputs": [],
   "source": [
    "# Python function called knapsack that solves the 0/1 knapsack problem using dynamic programming\n",
    "\n",
    "def knapsack(weights, values, capacity):\n",
    "    n = len(weights)\n",
    "    # Create a 2D array to store the maximum value at each n and capacity\n",
    "    dp = [[0 for _ in range(capacity + 1)] for _ in range(n + 1)]\n",
    "    \n",
    "    # Build the dp array\n",
    "    for i in range(1, n + 1):\n",
    "        for w in range(1, capacity + 1):\n",
    "            if weights[i - 1] <= w:\n",
    "                dp[i][w] = max(dp[i - 1][w], dp[i - 1][w - weights[i - 1]] + values[i - 1])\n",
    "            else:\n",
    "                dp[i][w] = dp[i - 1][w]\n",
    "    \n",
    "    return dp[n][capacity]\n",
    "\n",
    "# Example usage\n",
    "weights = [1, 2, 3, 4]\n",
    "values = [10, 20, 30, 40]\n",
    "capacity = 5\n",
    "max_value = knapsack(weights, values, capacity)\n",
    "print(f\"Maximum value that can be obtained: {max_value}\")"
   ]
  },
  {
   "cell_type": "markdown",
   "metadata": {},
   "source": [
    "97. Write a Python program using the Scrapy framework to scrape product information (name, price, availability) from an e-commerce website and store the results in a CSV file."
   ]
  },
  {
   "cell_type": "code",
   "execution_count": null,
   "metadata": {},
   "outputs": [],
   "source": [
    "pip install scrapy\n",
    "scrapy startproject ecommerce_scraper\n",
    "# ecommerce_scraper/spiders/products_spider.py\n",
    "\n",
    "import scrapy\n",
    "\n",
    "class ProductsSpider(scrapy.Spider):\n",
    "    name = \"products\"\n",
    "    start_urls = [\n",
    "        'https://example.com/products'  # Replace with the actual URL of the e-commerce website\n",
    "    ]\n",
    "\n",
    "    def parse(self, response):\n",
    "        for product in response.css('div.product'):  # Update the CSS selector based on the website's structure\n",
    "            yield {\n",
    "                'name': product.css('h2.product-name::text').get(),\n",
    "                'price': product.css('span.product-price::text').get(),\n",
    "                'availability': product.css('span.product-availability::text').get(),\n",
    "            }\n",
    "\n",
    "        # Follow pagination links\n",
    "        next_page = response.css('a.next-page::attr(href)').get()\n",
    "        if next_page is not None:\n",
    "            yield response.follow(next_page, self.parse)\n",
    "            # ecommerce_scraper/settings.py\n",
    "\n",
    "FEED_FORMAT = 'csv'\n",
    "FEED_URI = 'products.csv'\n",
    "scrapy crawl products"
   ]
  },
  {
   "cell_type": "markdown",
   "metadata": {},
   "source": [
    "98. Write a Python program that uses TensorFlow to implement a simple convolutional neural network (CNN) for image classification. Train the network on the CIFAR-10 dataset and evaluate its performance."
   ]
  },
  {
   "cell_type": "code",
   "execution_count": null,
   "metadata": {},
   "outputs": [],
   "source": [
    "# Python program that uses TensorFlow to implement a simple CNN for image classification on the CIFAR-10 dataset\n",
    "\n",
    "import tensorflow as tf\n",
    "from tensorflow.keras import datasets, layers, models\n",
    "import matplotlib.pyplot as plt\n",
    "\n",
    "# Load and preprocess the CIFAR-10 dataset\n",
    "(train_images, train_labels), (test_images, test_labels) = datasets.cifar10.load_data()\n",
    "\n",
    "# Normalize pixel values to be between 0 and 1\n",
    "train_images, test_images = train_images / 255.0, test_images / 255.0\n",
    "\n",
    "# Define the class names\n",
    "class_names = ['airplane', 'automobile', 'bird', 'cat', 'deer', 'dog', 'frog', 'horse', 'ship', 'truck']\n",
    "\n",
    "# Build the CNN model\n",
    "model = models.Sequential([\n",
    "    layers.Conv2D(32, (3, 3), activation='relu', input_shape=(32, 32, 3)),\n",
    "    layers.MaxPooling2D((2, 2)),\n",
    "    layers.Conv2D(64, (3, 3), activation='relu'),\n",
    "    layers.MaxPooling2D((2, 2)),\n",
    "    layers.Conv2D(64, (3, 3), activation='relu'),\n",
    "    layers.Flatten(),\n",
    "    layers.Dense(64, activation='relu'),\n",
    "    layers.Dense(10)\n",
    "])\n",
    "\n",
    "# Compile the model\n",
    "model.compile(optimizer='adam',\n",
    "              loss=tf.keras.losses.SparseCategoricalCrossentropy(from_logits=True),\n",
    "              metrics=['accuracy'])\n",
    "\n",
    "# Train the model\n",
    "history = model.fit(train_images, train_labels, epochs=10, \n",
    "                    validation_data=(test_images, test_labels))\n",
    "\n",
    "# Evaluate the model\n",
    "test_loss, test_acc = model.evaluate(test_images, test_labels, verbose=2)\n",
    "print(f\"Test accuracy: {test_acc:.2f}\")\n",
    "\n",
    "# Plot training and validation accuracy and loss\n",
    "plt.figure(figsize=(10, 5))\n",
    "\n",
    "plt.subplot(1, 2, 1)\n",
    "plt.plot(history.history['accuracy'], label='Training Accuracy')\n",
    "plt.plot(history.history['val_accuracy'], label='Validation Accuracy')\n",
    "plt.xlabel('Epoch')\n",
    "plt.ylabel('Accuracy')\n",
    "plt.legend(loc='lower right')\n",
    "plt.title('Training and Validation Accuracy')\n",
    "\n",
    "plt.subplot(1, 2, 2)\n",
    "plt.plot(history.history['loss'], label='Training Loss')\n",
    "plt.plot(history.history['val_loss'], label='Validation Loss')\n",
    "plt.xlabel('Epoch')\n",
    "plt.ylabel('Loss')\n",
    "plt.legend(loc='upper right')\n",
    "plt.title('Training and Validation Loss')\n",
    "\n",
    "plt.show()"
   ]
  },
  {
   "cell_type": "markdown",
   "metadata": {},
   "source": [
    "99. Write a Python program that uses PyTorch to implement a simple recurrent neural network (RNN) for text classification. Train the network on a small text dataset and print the accuracy."
   ]
  },
  {
   "cell_type": "code",
   "execution_count": null,
   "metadata": {},
   "outputs": [],
   "source": [
    "# Python program that uses PyTorch to implement a simple RNN for text classification\n",
    "\n",
    "import torch\n",
    "import torch.nn as nn\n",
    "import torch.optim as optim\n",
    "from torchtext.legacy import data, datasets\n",
    "import random\n",
    "\n",
    "# Set random seeds for reproducibility\n",
    "torch.manual_seed(42)\n",
    "random.seed(42)\n",
    "\n",
    "# Define the fields for the dataset\n",
    "TEXT = data.Field(tokenize='spacy', tokenizer_language='en_core_web_sm')\n",
    "LABEL = data.LabelField(dtype=torch.float)\n",
    "\n",
    "# Load the IMDb dataset\n",
    "train_data, test_data = datasets.IMDB.splits(TEXT, LABEL)\n",
    "\n",
    "# Build the vocabulary\n",
    "TEXT.build_vocab(train_data, max_size=25000)\n",
    "LABEL.build_vocab(train_data)\n",
    "\n",
    "# Create iterators for the dataset\n",
    "BATCH_SIZE = 64\n",
    "train_iterator, test_iterator = data.BucketIterator.splits(\n",
    "    (train_data, test_data),\n",
    "    batch_size=BATCH_SIZE,\n",
    "    device=torch.device('cuda' if torch.cuda.is_available() else 'cpu')\n",
    ")\n",
    "\n",
    "# Define the RNN model\n",
    "class RNN(nn.Module):\n",
    "    def __init__(self, input_dim, embedding_dim, hidden_dim, output_dim):\n",
    "        super(RNN, self).__init__()\n",
    "        self.embedding = nn.Embedding(input_dim, embedding_dim)\n",
    "        self.rnn = nn.RNN(embedding_dim, hidden_dim)\n",
    "        self.fc = nn.Linear(hidden_dim, output_dim)\n",
    "    \n",
    "    def forward(self, text):\n",
    "        embedded = self.embedding(text)\n",
    "        output, hidden = self.rnn(embedded)\n",
    "        return self.fc(hidden.squeeze(0))\n",
    "\n",
    "# Initialize the model, optimizer, and loss function\n",
    "INPUT_DIM = len(TEXT.vocab)\n",
    "EMBEDDING_DIM = 100\n",
    "HIDDEN_DIM = 256\n",
    "OUTPUT_DIM = 1\n",
    "\n",
    "model = RNN(INPUT_DIM, EMBEDDING_DIM, HIDDEN_DIM, OUTPUT_DIM)\n",
    "optimizer = optim.Adam(model.parameters())\n",
    "criterion = nn.BCEWithLogitsLoss()\n",
    "\n",
    "# Move the model and loss function to the GPU if available\n",
    "device = torch.device('cuda' if torch.cuda.is_available() else 'cpu')\n",
    "model = model.to(device)\n",
    "criterion = criterion.to(device)\n",
    "\n",
    "# Define the binary accuracy function\n",
    "def binary_accuracy(preds, y):\n",
    "    rounded_preds = torch.round(torch.sigmoid(preds))\n",
    "    correct = (rounded_preds == y).float()\n",
    "    return correct.sum() / len(correct)\n",
    "\n",
    "# Training function\n",
    "def train(model, iterator, optimizer, criterion):\n",
    "    epoch_loss = 0\n",
    "    epoch_acc = 0\n",
    "    model.train()\n",
    "    \n",
    "    for batch in iterator:\n",
    "        optimizer.zero_grad()\n",
    "        predictions = model(batch.text).squeeze(1)\n",
    "        loss = criterion(predictions, batch.label)\n",
    "        acc = binary_accuracy(predictions, batch.label)\n",
    "        loss.backward()\n",
    "        optimizer.step()\n",
    "        epoch_loss += loss.item()\n",
    "        epoch_acc += acc.item()\n",
    "    \n",
    "    return epoch_loss / len(iterator), epoch_acc / len(iterator)\n",
    "\n",
    "# Evaluation function\n",
    "def evaluate(model, iterator, criterion):\n",
    "    epoch_loss = 0\n",
    "    epoch_acc = 0\n",
    "    model.eval()\n",
    "    \n",
    "    with torch.no_grad():\n",
    "        for batch in iterator:\n",
    "            predictions = model(batch.text).squeeze(1)\n",
    "            loss = criterion(predictions, batch.label)\n",
    "            acc = binary_accuracy(predictions, batch.label)\n",
    "            epoch_loss += loss.item()\n",
    "            epoch_acc += acc.item()\n",
    "    \n",
    "    return epoch_loss / len(iterator), epoch_acc / len(iterator)\n",
    "\n",
    "# Train the model\n",
    "N_EPOCHS = 5\n",
    "\n",
    "for epoch in range(N_EPOCHS):\n",
    "    train_loss, train_acc = train(model, train_iterator, optimizer, criterion)\n",
    "    test_loss, test_acc = evaluate(model, test_iterator, criterion)\n",
    "    \n",
    "    print(f'Epoch: {epoch+1:02}')\n",
    "    print(f'\\tTrain Loss: {train_loss:.3f} | Train Acc: {train_acc*100:.2f}%')\n",
    "    print(f'\\tTest Loss: {test_loss:.3f} | Test Acc: {test_acc*100:.2f}%')"
   ]
  },
  {
   "cell_type": "markdown",
   "metadata": {},
   "source": [
    "100. Write a Python program that builds a recommendation system using collaborative filtering. Use a sample dataset of user-item interactions, and recommend items to a user based on similar users' preferences."
   ]
  },
  {
   "cell_type": "code",
   "execution_count": null,
   "metadata": {},
   "outputs": [],
   "source": [
    "# Python program that builds a recommendation system using collaborative filtering\n",
    "\n",
    "import numpy as np\n",
    "import pandas as pd\n",
    "from sklearn.metrics.pairwise import cosine_similarity\n",
    "from sklearn.model_selection import train_test_split\n",
    "\n",
    "# Sample dataset of user-item interactions\n",
    "data = {\n",
    "    'user_id': [1, 1, 1, 2, 2, 3, 3, 3, 4, 4],\n",
    "    'item_id': [1, 2, 3, 1, 4, 2, 3, 4, 1, 3],\n",
    "    'rating': [5, 3, 4, 4, 5, 2, 4, 5, 3, 4]\n",
    "}\n",
    "\n",
    "# Convert the dataset to a DataFrame\n",
    "df = pd.DataFrame(data)\n",
    "\n",
    "# Create a user-item matrix\n",
    "user_item_matrix = df.pivot_table(index='user_id', columns='item_id', values='rating').fillna(0)\n",
    "\n",
    "# Compute the cosine similarity between users\n",
    "user_similarity = cosine_similarity(user_item_matrix)\n",
    "user_similarity_df = pd.DataFrame(user_similarity, index=user_item_matrix.index, columns=user_item_matrix.index)\n",
    "\n",
    "# Function to get recommendations for a user\n",
    "def get_recommendations(user_id, user_item_matrix, user_similarity_df, num_recommendations=5):\n",
    "    # Get the similarity scores for the user\n",
    "    user_similarities = user_similarity_df[user_id]\n",
    "    \n",
    "    # Get the user's ratings\n",
    "    user_ratings = user_item_matrix.loc[user_id]\n",
    "    \n",
    "    # Compute the weighted sum of ratings from similar users\n",
    "    weighted_sum = np.dot(user_similarity_df[user_id], user_item_matrix)\n",
    "    \n",
    "    # Normalize by the sum of similarities\n",
    "    similarity_sum = user_similarity_df[user_id].sum()\n",
    "    predicted_ratings = weighted_sum / similarity_sum\n",
    "    \n",
    "    # Create a DataFrame for the predicted ratings\n",
    "    predicted_ratings_df = pd.DataFrame(predicted_ratings, index=user_item_matrix.columns, columns=['predicted_rating'])\n",
    "    \n",
    "    # Filter out items the user has already rated\n",
    "    already_rated = user_ratings[user_ratings > 0].index\n",
    "    recommendations = predicted_ratings_df.drop(already_rated)\n",
    "    \n",
    "    # Sort the recommendations by predicted rating\n",
    "    recommendations = recommendations.sort_values(by='predicted_rating', ascending=False)\n",
    "    \n",
    "    return recommendations.head(num_recommendations)\n",
    "\n",
    "# Example usage\n",
    "user_id = 1\n",
    "recommendations = get_recommendations(user_id, user_item_matrix, user_similarity_df)\n",
    "print(f\"Recommendations for user {user_id}:\")\n",
    "print(recommendations)"
   ]
  },
  {
   "cell_type": "markdown",
   "metadata": {},
   "source": [
    "#### MODEL: MICROSOFT COPILOT"
   ]
  },
  {
   "cell_type": "markdown",
   "metadata": {},
   "source": [
    "1. Write a Python program that prints the string 'Hello, World!' to the console"
   ]
  },
  {
   "cell_type": "code",
   "execution_count": null,
   "metadata": {},
   "outputs": [],
   "source": [
    "print(\"Hello, World!\")"
   ]
  },
  {
   "cell_type": "markdown",
   "metadata": {},
   "source": [
    "2. Write a Python program that concatenates the strings 'Hello' and 'World' with a space in between and prints the result"
   ]
  },
  {
   "cell_type": "code",
   "execution_count": null,
   "metadata": {},
   "outputs": [],
   "source": [
    "# Define the strings\n",
    "string1 = \"Hello\"\n",
    "string2 = \"World\"\n",
    "\n",
    "# Concatenate the strings with a space in between\n",
    "result = string1 + \" \" + string2\n",
    "\n",
    "# Print the result\n",
    "print(result)\n"
   ]
  },
  {
   "cell_type": "markdown",
   "metadata": {},
   "source": [
    "3. Create a Python list containing the numbers 1, 2, and 3. Print the list to the console."
   ]
  },
  {
   "cell_type": "code",
   "execution_count": null,
   "metadata": {},
   "outputs": [],
   "source": [
    "# Create the list\n",
    "numbers = [1, 2, 3]\n",
    "\n",
    "# Print the list\n",
    "print(numbers)\n"
   ]
  },
  {
   "cell_type": "markdown",
   "metadata": {},
   "source": [
    "4. Write a Python program that adds the number 4 to the list [1, 2, 3] and prints the updated list."
   ]
  },
  {
   "cell_type": "code",
   "execution_count": null,
   "metadata": {},
   "outputs": [],
   "source": [
    "# Create the initial list\n",
    "numbers = [1, 2, 3]\n",
    "\n",
    "# Add the number 4 to the list\n",
    "numbers.append(4)\n",
    "\n",
    "# Print the updated list\n",
    "print(numbers)\n"
   ]
  },
  {
   "cell_type": "markdown",
   "metadata": {},
   "source": [
    "5. Write a Python program that removes the number 2 from the list [1, 2, 3] and prints the updated list"
   ]
  },
  {
   "cell_type": "code",
   "execution_count": null,
   "metadata": {},
   "outputs": [],
   "source": [
    "# Define the list\n",
    "numbers = [1, 2, 3]\n",
    "\n",
    "# Remove the number 2\n",
    "numbers.remove(2)\n",
    "\n",
    "# Print the updated list\n",
    "print(numbers)\n"
   ]
  },
  {
   "cell_type": "markdown",
   "metadata": {},
   "source": [
    "6. Write a Python program that sorts the list [3, 1, 2] in ascending order and prints the sorted list"
   ]
  },
  {
   "cell_type": "code",
   "execution_count": null,
   "metadata": {},
   "outputs": [],
   "source": [
    "# Define the list\n",
    "numbers = [3, 1, 2]\n",
    "\n",
    "# Sort the list in ascending order\n",
    "numbers.sort()\n",
    "\n",
    "# Print the sorted list\n",
    "print(numbers)\n"
   ]
  },
  {
   "cell_type": "markdown",
   "metadata": {},
   "source": [
    "7. Write a Python program that reverses the list [1, 2, 3] and prints the reversed list."
   ]
  },
  {
   "cell_type": "code",
   "execution_count": null,
   "metadata": {},
   "outputs": [],
   "source": [
    "# Define the list\n",
    "numbers = [1, 2, 3]\n",
    "\n",
    "# Reverse the list\n",
    "numbers.reverse()\n",
    "\n",
    "# Print the reversed list\n",
    "print(numbers)\n"
   ]
  },
  {
   "cell_type": "markdown",
   "metadata": {},
   "source": [
    "8. Create a Python dictionary with the keys 'a', 'b', and 'c' and corresponding values 1, 2, and 3. Print the dictionary to the console."
   ]
  },
  {
   "cell_type": "code",
   "execution_count": null,
   "metadata": {},
   "outputs": [],
   "source": [
    "# Create the dictionary\n",
    "my_dict = {'a': 1, 'b': 2, 'c': 3}\n",
    "\n",
    "# Print the dictionary\n",
    "print(my_dict)\n"
   ]
  },
  {
   "cell_type": "markdown",
   "metadata": {},
   "source": [
    "9. Write a Python program that accesses the value associated with the key 'b' in the dictionary {'a': 1, 'b': 2, 'c': 3} and prints it"
   ]
  },
  {
   "cell_type": "code",
   "execution_count": null,
   "metadata": {},
   "outputs": [],
   "source": [
    "# Define the dictionary\n",
    "my_dict = {'a': 1, 'b': 2, 'c': 3}\n",
    "\n",
    "# Access the value associated with the key 'b'\n",
    "value = my_dict['b']\n",
    "\n",
    "# Print the value\n",
    "print(value)\n"
   ]
  },
  {
   "cell_type": "markdown",
   "metadata": {},
   "source": [
    "10. Create a tuple (1, 2, 3) and print the first element of the tuple"
   ]
  },
  {
   "cell_type": "code",
   "execution_count": null,
   "metadata": {},
   "outputs": [],
   "source": [
    "# Create the tuple\n",
    "my_tuple = (1, 2, 3)\n",
    "\n",
    "# Print the first element of the tuple\n",
    "print(my_tuple[0])\n"
   ]
  },
  {
   "cell_type": "markdown",
   "metadata": {},
   "source": [
    "11. Write a Python program that checks if a number is greater than 10. If it is, print 'Greater', otherwise print 'Not Greater'"
   ]
  },
  {
   "cell_type": "code",
   "execution_count": null,
   "metadata": {},
   "outputs": [],
   "source": [
    "# Define the number\n",
    "number = 15  # You can change this value to test with different numbers\n",
    "\n",
    "# Check if the number is greater than 10\n",
    "if number > 10:\n",
    "    print('Greater')\n",
    "else:\n",
    "    print('Not Greater')\n"
   ]
  },
  {
   "cell_type": "markdown",
   "metadata": {},
   "source": [
    "12. Write a Python program that uses a for loop to iterate over the list [1, 2, 3] and prints each element.\""
   ]
  },
  {
   "cell_type": "code",
   "execution_count": null,
   "metadata": {},
   "outputs": [],
   "source": [
    "# Define the list\n",
    "my_list = [1, 2, 3]\n",
    "\n",
    "# Use a for loop to iterate over the list\n",
    "for element in my_list:\n",
    "    # Print each element\n",
    "    print(element)\n"
   ]
  },
  {
   "cell_type": "markdown",
   "metadata": {},
   "source": [
    "13. Write a Python program that uses a while loop to print the numbers from 1 to 5."
   ]
  },
  {
   "cell_type": "code",
   "execution_count": null,
   "metadata": {},
   "outputs": [],
   "source": [
    "# Initialize the starting number\n",
    "number = 1\n",
    "\n",
    "# Use a while loop to print numbers from 1 to 5\n",
    "while number <= 5:\n",
    "    print(number)\n",
    "    number += 1\n"
   ]
  },
  {
   "cell_type": "markdown",
   "metadata": {},
   "source": [
    "14. Write a Python function called greet that takes no arguments and prints 'Hello!' when called."
   ]
  },
  {
   "cell_type": "code",
   "execution_count": null,
   "metadata": {},
   "outputs": [],
   "source": [
    "def greet():\n",
    "    print(\"Hello!\")\n",
    "\n",
    "# Call the function\n",
    "greet()"
   ]
  },
  {
   "cell_type": "markdown",
   "metadata": {},
   "source": [
    "15. Write a Python function called add that takes two arguments and returns their sum. Call the function with the arguments 3 and 5, and print the result."
   ]
  },
  {
   "cell_type": "code",
   "execution_count": null,
   "metadata": {},
   "outputs": [],
   "source": [
    "def add(a, b):\n",
    "    return a + b\n",
    "\n",
    "# Call the function with arguments 3 and 5\n",
    "result = add(3, 5)\n",
    "\n",
    "# Print the result\n",
    "print(result)"
   ]
  },
  {
   "cell_type": "markdown",
   "metadata": {},
   "source": [
    "16. Write a Python function called square that takes a number as an argument and returns its square. Call the function with the argument 4, and print the result"
   ]
  },
  {
   "cell_type": "code",
   "execution_count": null,
   "metadata": {},
   "outputs": [],
   "source": [
    "def square(num):\n",
    "    return num * num\n",
    "\n",
    "# Call the function with the argument 4\n",
    "result = square(4)\n",
    "\n",
    "# Print the result\n",
    "print(result)"
   ]
  },
  {
   "cell_type": "markdown",
   "metadata": {},
   "source": [
    "17. Write a Python program that opens a file named 'example.txt' in read mode and prints its contents to the console."
   ]
  },
  {
   "cell_type": "code",
   "execution_count": null,
   "metadata": {},
   "outputs": [],
   "source": [
    "# Open the file in read mode\n",
    "with open('example.txt', 'r') as file:\n",
    "    # Read the contents of the file\n",
    "    contents = file.read()\n",
    "    # Print the contents to the console\n",
    "    print(contents)\n"
   ]
  },
  {
   "cell_type": "markdown",
   "metadata": {},
   "source": [
    "18. Write a Python program that opens a file named 'output.txt' in write mode, writes the string 'Hello, World!' to the file, and then closes the file."
   ]
  },
  {
   "cell_type": "code",
   "execution_count": null,
   "metadata": {},
   "outputs": [],
   "source": [
    "# Open the file in write mode\n",
    "with open('output.txt', 'w') as file:\n",
    "    # Write the string to the file\n",
    "    file.write('Hello, World!')\n"
   ]
  },
  {
   "cell_type": "markdown",
   "metadata": {},
   "source": [
    "19. Write a Python program that opens a file named 'output.txt' in append mode, writes the string 'Appending this line.' to the file, and then closes the file."
   ]
  },
  {
   "cell_type": "code",
   "execution_count": null,
   "metadata": {},
   "outputs": [],
   "source": [
    "# Open the file in append mode\n",
    "with open('output.txt', 'a') as file:\n",
    "    # Write the string to the file\n",
    "    file.write('Appending this line.')\n"
   ]
  },
  {
   "cell_type": "markdown",
   "metadata": {},
   "source": [
    "20. Write a Python program that opens a file named 'example.txt' in read mode and prints each line to the console, one by one."
   ]
  },
  {
   "cell_type": "code",
   "execution_count": null,
   "metadata": {},
   "outputs": [],
   "source": [
    "# Open the file in read mode\n",
    "with open('example.txt', 'r') as file:\n",
    "    # Read and print each line\n",
    "    for line in file:\n",
    "        print(line, end='')\n"
   ]
  },
  {
   "cell_type": "markdown",
   "metadata": {},
   "source": [
    "21. Write a Python program that raises a ValueError with the message 'An error occurred'."
   ]
  },
  {
   "cell_type": "code",
   "execution_count": null,
   "metadata": {},
   "outputs": [],
   "source": [
    "# Raise a ValueError with a specific message\n",
    "raise ValueError('An error occurred')\n"
   ]
  },
  {
   "cell_type": "markdown",
   "metadata": {},
   "source": [
    "22. Write a Python program that uses a for loop to iterate over the numbers 1 to 10. If the number is 5, break out of the loop."
   ]
  },
  {
   "cell_type": "code",
   "execution_count": null,
   "metadata": {},
   "outputs": [],
   "source": [
    "# Iterate over the numbers 1 to 10\n",
    "for number in range(1, 11):\n",
    "    # Check if the number is 5\n",
    "    if number == 5:\n",
    "        break\n",
    "    print(number)\n"
   ]
  },
  {
   "cell_type": "markdown",
   "metadata": {},
   "source": [
    "23. Write a Python program that uses a for loop to iterate over the numbers 1 to 5. If the number is 3, skip printing it and continue with the next iteration"
   ]
  },
  {
   "cell_type": "code",
   "execution_count": null,
   "metadata": {},
   "outputs": [],
   "source": [
    "# Iterate over the numbers 1 to 5\n",
    "for number in range(1, 6):\n",
    "    # Check if the number is 3\n",
    "    if number == 3:\n",
    "        continue\n",
    "    print(number)\n"
   ]
  },
  {
   "cell_type": "markdown",
   "metadata": {},
   "source": [
    "24. Write a Python program that attempts to divide 10 by 0 inside a try block, catches the resulting ZeroDivisionError in an except block, and prints 'Cannot divide by zero.'"
   ]
  },
  {
   "cell_type": "code",
   "execution_count": null,
   "metadata": {},
   "outputs": [],
   "source": [
    "try:\n",
    "    result = 10 / 0\n",
    "except ZeroDivisionError:\n",
    "    print(\"Cannot divide by zero.\")\n"
   ]
  },
  {
   "cell_type": "markdown",
   "metadata": {},
   "source": [
    "25. Write a Python program that removes duplicates from the list [1, 2, 2, 3, 4, 4, 5] using a set, and prints the resulting list."
   ]
  },
  {
   "cell_type": "code",
   "execution_count": null,
   "metadata": {},
   "outputs": [],
   "source": [
    "# Original list with duplicates\n",
    "original_list = [1, 2, 2, 3, 4, 4, 5]\n",
    "\n",
    "# Removing duplicates by converting the list to a set\n",
    "unique_list = list(set(original_list))\n",
    "\n",
    "# Printing the resulting list\n",
    "print(unique_list)\n"
   ]
  },
  {
   "cell_type": "markdown",
   "metadata": {},
   "source": [
    "26. Write a Python program that defines a lambda function to double a number. Use the lambda function to double the number 4 and print the result."
   ]
  },
  {
   "cell_type": "code",
   "execution_count": null,
   "metadata": {},
   "outputs": [],
   "source": [
    "# Define the lambda function to double a number\n",
    "double = lambda x: x * 2\n",
    "\n",
    "# Use the lambda function to double the number 4\n",
    "result = double(4)\n",
    "\n",
    "# Print the result\n",
    "print(result)\n"
   ]
  },
  {
   "cell_type": "markdown",
   "metadata": {},
   "source": [
    "27. Write a Python function called greet that takes a name as an argument and prints 'Hello, [name]!' where [name] is the argument. If no name is provided, default to 'World'. Call the function without arguments and then with the argument 'Alice'"
   ]
  },
  {
   "cell_type": "code",
   "execution_count": null,
   "metadata": {},
   "outputs": [],
   "source": [
    "def greet(name=\"World\"):\n",
    "    print(f\"Hello, {name}!\")\n",
    "\n",
    "# Call the function without arguments\n",
    "greet()\n",
    "\n",
    "# Call the function with the argument 'Alice'\n",
    "greet(\"Alice\")\n"
   ]
  },
  {
   "cell_type": "markdown",
   "metadata": {},
   "source": [
    "28. Write a Python function called apply that takes another function and a number as arguments, applies the function to the number, and returns the result. Define a separate function called square that squares a number. Pass square and 3 as arguments to apply, and print the result."
   ]
  },
  {
   "cell_type": "code",
   "execution_count": null,
   "metadata": {},
   "outputs": [],
   "source": [
    "# Define the function that squares a number\n",
    "def square(x):\n",
    "    return x * x\n",
    "\n",
    "# Define the apply function that takes another function and a number\n",
    "def apply(func, number):\n",
    "    return func(number)\n",
    "\n",
    "# Pass the square function and the number 3 to the apply function\n",
    "result = apply(square, 3)\n",
    "\n",
    "# Print the result\n",
    "print(result)\n"
   ]
  },
  {
   "cell_type": "markdown",
   "metadata": {},
   "source": [
    "29. Write a Python program that checks if a file named 'example.txt' exists in the current directory. If it does, print 'File exists', otherwise print 'File does not exist'"
   ]
  },
  {
   "cell_type": "code",
   "execution_count": null,
   "metadata": {},
   "outputs": [],
   "source": [
    "import os\n",
    "\n",
    "# Check if 'example.txt' exists in the current directory\n",
    "if os.path.isfile('example.txt'):\n",
    "    print('File exists')\n",
    "else:\n",
    "    print('File does not exist')\n"
   ]
  },
  {
   "cell_type": "markdown",
   "metadata": {},
   "source": [
    "30. Write a Python program that deletes a file named 'unnecessary.txt'. If the file does not exist, print 'File not found'"
   ]
  },
  {
   "cell_type": "code",
   "execution_count": null,
   "metadata": {},
   "outputs": [],
   "source": [
    "import os\n",
    "\n",
    "# Check if 'unnecessary.txt' exists in the current directory\n",
    "if os.path.isfile('unnecessary.txt'):\n",
    "    os.remove('unnecessary.txt')\n",
    "    print('File deleted')\n",
    "else:\n",
    "    print('File not found')\n"
   ]
  },
  {
   "cell_type": "markdown",
   "metadata": {},
   "source": [
    "31. Write a Python class called Person that has a single attribute name. Instantiate an object of the class with the name 'Alice' and print the name."
   ]
  },
  {
   "cell_type": "code",
   "execution_count": null,
   "metadata": {},
   "outputs": [],
   "source": [
    "class Person:\n",
    "    def __init__(self, name):\n",
    "        self.name = name\n",
    "\n",
    "# Instantiate an object of the class with the name 'Alice'\n",
    "person = Person('Alice')\n",
    "\n",
    "# Print the name\n",
    "print(person.name)\n"
   ]
  },
  {
   "cell_type": "markdown",
   "metadata": {},
   "source": [
    "32. Write a Python class called Car with an attribute model. Create an instance of Car with the model 'Toyota' and print the model."
   ]
  },
  {
   "cell_type": "code",
   "execution_count": null,
   "metadata": {},
   "outputs": [],
   "source": [
    "class Car:\n",
    "    def __init__(self, model):\n",
    "        self.model = model\n",
    "\n",
    "# Create an instance of Car with the model 'Toyota'\n",
    "car = Car('Toyota')\n",
    "\n",
    "# Print the model\n",
    "print(car.model)\n"
   ]
  },
  {
   "cell_type": "markdown",
   "metadata": {},
   "source": [
    "33. Write a Python program that uses a list comprehension to create a list of squares for the numbers 1 through 5, and prints the resulting list. "
   ]
  },
  {
   "cell_type": "code",
   "execution_count": null,
   "metadata": {},
   "outputs": [],
   "source": [
    "# Create a list of squares for the numbers 1 through 5\n",
    "squares = [x**2 for x in range(1, 6)]\n",
    "\n",
    "# Print the resulting list\n",
    "print(squares)\n"
   ]
  },
  {
   "cell_type": "markdown",
   "metadata": {},
   "source": [
    "34. Write a Python program that uses a for loop to sum the numbers in the list [1, 2, 3, 4, 5] and prints the result."
   ]
  },
  {
   "cell_type": "code",
   "execution_count": null,
   "metadata": {},
   "outputs": [],
   "source": [
    "# Define the list of numbers\n",
    "numbers = [1, 2, 3, 4, 5]\n",
    "\n",
    "# Initialize the sum variable\n",
    "total_sum = 0\n",
    "\n",
    "# Use a for loop to iterate through the list and sum the numbers\n",
    "for number in numbers:\n",
    "    total_sum += number\n",
    "\n",
    "# Print the result\n",
    "print(\"The sum of the numbers in the list is:\", total_sum)\n"
   ]
  },
  {
   "cell_type": "markdown",
   "metadata": {},
   "source": [
    "35. Write a Python program that generates a random number between 1 and 10 and prints it. "
   ]
  },
  {
   "cell_type": "code",
   "execution_count": null,
   "metadata": {},
   "outputs": [],
   "source": [
    "import random\n",
    "\n",
    "# Generate a random number between 1 and 10\n",
    "random_number = random.randint(1, 10)\n",
    "\n",
    "# Print the random number\n",
    "print(\"The random number is:\", random_number)\n"
   ]
  },
  {
   "cell_type": "markdown",
   "metadata": {},
   "source": [
    "36. Write a Python program that measures and prints the time it takes to execute a for loop that sums the numbers from 1 to 1,000,000."
   ]
  },
  {
   "cell_type": "code",
   "execution_count": null,
   "metadata": {},
   "outputs": [],
   "source": [
    "import time\n",
    "\n",
    "# Record the start time\n",
    "start_time = time.time()\n",
    "\n",
    "# Initialize the sum variable\n",
    "total_sum = 0\n",
    "\n",
    "# Use a for loop to sum the numbers from 1 to 1,000,000\n",
    "for number in range(1, 1000001):\n",
    "    total_sum += number\n",
    "\n",
    "# Record the end time\n",
    "end_time = time.time()\n",
    "\n",
    "# Calculate the elapsed time\n",
    "elapsed_time = end_time - start_time\n",
    "\n",
    "# Print the result and the elapsed time\n",
    "print(\"The sum of the numbers from 1 to 1,000,000 is:\", total_sum)\n",
    "print(\"Time taken to execute the for loop:\", elapsed_time, \"seconds\")\n"
   ]
  },
  {
   "cell_type": "markdown",
   "metadata": {},
   "source": [
    "37. Write a Python decorator called my_decorator that prints 'Starting' before the decorated function is called, and 'Finished' after the function is called. Apply this decorator to a function that prints 'Hello!' and then call the decorated function."
   ]
  },
  {
   "cell_type": "code",
   "execution_count": null,
   "metadata": {},
   "outputs": [],
   "source": [
    "# Define the decorator\n",
    "def my_decorator(func):\n",
    "    def wrapper():\n",
    "        print(\"Starting\")\n",
    "        func()\n",
    "        print(\"Finished\")\n",
    "    return wrapper\n",
    "\n",
    "# Apply the decorator to a function\n",
    "@my_decorator\n",
    "def say_hello():\n",
    "    print(\"Hello!\")\n",
    "\n",
    "# Call the decorated function\n",
    "say_hello()\n"
   ]
  },
  {
   "cell_type": "markdown",
   "metadata": {},
   "source": [
    "38. Write a Python class called BankAccount with a private attribute _balance. Implement methods to deposit and withdraw money, and a method to print the current balance."
   ]
  },
  {
   "cell_type": "code",
   "execution_count": null,
   "metadata": {},
   "outputs": [],
   "source": [
    "class BankAccount:\n",
    "    def __init__(self, initial_balance=0):\n",
    "        self._balance = initial_balance\n",
    "\n",
    "    def deposit(self, amount):\n",
    "        if amount > 0:\n",
    "            self._balance += amount\n",
    "            print(f\"Deposited: {amount}\")\n",
    "        else:\n",
    "            print(\"Deposit amount must be positive.\")\n",
    "\n",
    "    def withdraw(self, amount):\n",
    "        if 0 < amount <= self._balance:\n",
    "            self._balance -= amount\n",
    "            print(f\"Withdrew: {amount}\")\n",
    "        else:\n",
    "            print(\"Invalid withdrawal amount or insufficient funds.\")\n",
    "\n",
    "    def print_balance(self):\n",
    "        print(f\"Current balance: {self._balance}\")\n",
    "\n",
    "# Example usage:\n",
    "account = BankAccount(100)\n",
    "account.deposit(50)\n",
    "account.withdraw(30)\n",
    "account.print_balance()\n"
   ]
  },
  {
   "cell_type": "markdown",
   "metadata": {},
   "source": [
    "39. Write a Python program that creates a 2D list representing a matrix with the following values: [[1, 2], [3, 4]]. Print the element in the first row and second column."
   ]
  },
  {
   "cell_type": "code",
   "execution_count": null,
   "metadata": {},
   "outputs": [],
   "source": [
    "# Create the 2D list (matrix)\n",
    "matrix = [[1, 2], [3, 4]]\n",
    "\n",
    "# Print the element in the first row and second column\n",
    "print(matrix[0][1])\n"
   ]
  },
  {
   "cell_type": "markdown",
   "metadata": {},
   "source": [
    "40. Write a Python decorator called log_function_call that logs the name of a function each time it is called. Apply this decorator to a function that prints 'Executing function' and then call the decorated function."
   ]
  },
  {
   "cell_type": "code",
   "execution_count": null,
   "metadata": {},
   "outputs": [],
   "source": [
    "def log_function_call(func):\n",
    "    def wrapper(*args, **kwargs):\n",
    "        print(f\"Calling function: {func.__name__}\")\n",
    "        return func(*args, **kwargs)\n",
    "    return wrapper\n",
    "\n",
    "@log_function_call\n",
    "def my_function():\n",
    "    print(\"Executing function\")\n",
    "\n",
    "# Call the decorated function\n",
    "my_function()\n"
   ]
  },
  {
   "cell_type": "markdown",
   "metadata": {},
   "source": [
    "41. Write a Python class called Stack that implements a stack using a list. Implement methods push, pop, and is_empty. Demonstrate the stack operations by pushing and popping some elements."
   ]
  },
  {
   "cell_type": "code",
   "execution_count": null,
   "metadata": {},
   "outputs": [],
   "source": [
    "class Stack:\n",
    "    def __init__(self):\n",
    "        self.stack = []\n",
    "\n",
    "    def push(self, item):\n",
    "        self.stack.append(item)\n",
    "        print(f\"Pushed: {item}\")\n",
    "\n",
    "    def pop(self):\n",
    "        if not self.is_empty():\n",
    "            item = self.stack.pop()\n",
    "            print(f\"Popped: {item}\")\n",
    "            return item\n",
    "        else:\n",
    "            print(\"Stack is empty.\")\n",
    "            return None\n",
    "\n",
    "    def is_empty(self):\n",
    "        return len(self.stack) == 0\n",
    "\n",
    "# Demonstrate stack operations\n",
    "my_stack = Stack()\n",
    "my_stack.push(1)\n",
    "my_stack.push(2)\n",
    "my_stack.push(3)\n",
    "my_stack.pop()\n",
    "my_stack.pop()\n",
    "my_stack.pop()\n",
    "my_stack.pop()  # This will show that the stack is empty\n"
   ]
  },
  {
   "cell_type": "markdown",
   "metadata": {},
   "source": [
    "42. Write a Python class called Queue that implements a queue using a list. Implement methods enqueue, dequeue, and is_empty. Demonstrate the queue operations by enqueueing and dequeueing some elements.\" "
   ]
  },
  {
   "cell_type": "code",
   "execution_count": null,
   "metadata": {},
   "outputs": [],
   "source": [
    "class Queue:\n",
    "    def __init__(self):\n",
    "        self.queue = []\n",
    "\n",
    "    def enqueue(self, item):\n",
    "        self.queue.append(item)\n",
    "        print(f\"Enqueued: {item}\")\n",
    "\n",
    "    def dequeue(self):\n",
    "        if not self.is_empty():\n",
    "            item = self.queue.pop(0)\n",
    "            print(f\"Dequeued: {item}\")\n",
    "            return item\n",
    "        else:\n",
    "            print(\"Queue is empty.\")\n",
    "            return None\n",
    "\n",
    "    def is_empty(self):\n",
    "        return len(self.queue) == 0\n",
    "\n",
    "# Demonstrate queue operations\n",
    "my_queue = Queue()\n",
    "my_queue.enqueue(1)\n",
    "my_queue.enqueue(2)\n",
    "my_queue.enqueue(3)\n",
    "my_queue.dequeue()\n",
    "my_queue.dequeue()\n",
    "my_queue.dequeue()\n",
    "my_queue.dequeue()  # This will show that the queue is empty\n"
   ]
  },
  {
   "cell_type": "markdown",
   "metadata": {},
   "source": [
    "43. Write a Python function called factorial that calculates the factorial of a number using recursion. Calculate the factorial of 5 and print the result."
   ]
  },
  {
   "cell_type": "code",
   "execution_count": null,
   "metadata": {},
   "outputs": [],
   "source": [
    "def factorial(n):\n",
    "    if n == 0:\n",
    "        return 1\n",
    "    else:\n",
    "        return n * factorial(n-1)\n",
    "\n",
    "# Calculate the factorial of 5\n",
    "result = factorial(5)\n",
    "print(\"The factorial of 5 is:\", result)\n"
   ]
  },
  {
   "cell_type": "markdown",
   "metadata": {},
   "source": [
    "44. Write a Python class called Counter with a class attribute count that tracks the number of instances created. Implement a class method increment that increments count each time a new instance is created. Demonstrate this by creating multiple instances and printing count."
   ]
  },
  {
   "cell_type": "code",
   "execution_count": null,
   "metadata": {},
   "outputs": [],
   "source": [
    "class Counter:\n",
    "    count = 0  # Class attribute to track the number of instances\n",
    "\n",
    "    def __init__(self):\n",
    "        Counter.increment()\n",
    "\n",
    "    @classmethod\n",
    "    def increment(cls):\n",
    "        cls.count += 1\n",
    "\n",
    "# Creating multiple instances\n",
    "c1 = Counter()\n",
    "c2 = Counter()\n",
    "c3 = Counter()\n",
    "\n",
    "# Printing the count of instances created\n",
    "print(\"Number of instances created:\", Counter.count)\n"
   ]
  },
  {
   "cell_type": "markdown",
   "metadata": {},
   "source": [
    "45. Write a Python class called Animal with a method speak that prints 'Animal sound'. Create a subclass Dog that overrides speak to print 'Bark'. Instantiate Dog and call speak."
   ]
  },
  {
   "cell_type": "code",
   "execution_count": null,
   "metadata": {},
   "outputs": [],
   "source": [
    "class Animal:\n",
    "    def speak(self):\n",
    "        print(\"Animal sound\")\n",
    "\n",
    "class Dog(Animal):\n",
    "    def speak(self):\n",
    "        print(\"Bark\")\n",
    "\n",
    "# Instantiate Dog and call speak\n",
    "dog = Dog()\n",
    "dog.speak()\n"
   ]
  },
  {
   "cell_type": "markdown",
   "metadata": {},
   "source": [
    "46. Write a Python class called Vehicle with a method move that prints 'Moving'. Create a subclass Car that overrides move to print 'Driving'. Instantiate Car and call move."
   ]
  },
  {
   "cell_type": "code",
   "execution_count": null,
   "metadata": {},
   "outputs": [],
   "source": [
    "class Vehicle:\n",
    "    def move(self):\n",
    "        print(\"Moving\")\n",
    "\n",
    "class Car(Vehicle):\n",
    "    def move(self):\n",
    "        print(\"Driving\")\n",
    "\n",
    "# Instantiate Car and call move\n",
    "car = Car()\n",
    "car.move()\n"
   ]
  },
  {
   "cell_type": "markdown",
   "metadata": {},
   "source": [
    "47. Write a Python program that sorts a list of dictionaries by the key 'age'. For example, given people = [{'name': 'Alice', 'age': 25}, {'name': 'Bob', 'age': 20}], sort the list by age and print the sorted list."
   ]
  },
  {
   "cell_type": "code",
   "execution_count": null,
   "metadata": {},
   "outputs": [],
   "source": [
    "# List of dictionaries\n",
    "people = [{'name': 'Alice', 'age': 25}, {'name': 'Bob', 'age': 20}]\n",
    "\n",
    "# Sorting the list by the key 'age'\n",
    "sorted_people = sorted(people, key=lambda x: x['age'])\n",
    "\n",
    "# Printing the sorted list\n",
    "print(\"Sorted list by age:\", sorted_people)\n"
   ]
  },
  {
   "cell_type": "markdown",
   "metadata": {},
   "source": [
    "48. Write a Python function called linear_search that takes a list and a target value, and returns the index of the target value if found, or -1 if not found. Use this function to search for the value 3 in the list [1, 2, 3, 4, 5]."
   ]
  },
  {
   "cell_type": "code",
   "execution_count": null,
   "metadata": {},
   "outputs": [],
   "source": [
    "def linear_search(lst, target):\n",
    "    for index, value in enumerate(lst):\n",
    "        if value == target:\n",
    "            return index\n",
    "    return -1\n",
    "\n",
    "# Example usage\n",
    "my_list = [1, 2, 3, 4, 5]\n",
    "target_value = 3\n",
    "result = linear_search(my_list, target_value)\n",
    "\n",
    "print(f\"The target value {target_value} is at index {result}\" if result != -1 else \"Target value not found\")\n"
   ]
  },
  {
   "cell_type": "markdown",
   "metadata": {},
   "source": [
    "49. Write a Python function called bubble_sort that implements the bubble sort algorithm to sort a list of numbers in ascending order. Use this function to sort the list [5, 3, 8, 4, 2] and print the sorted list"
   ]
  },
  {
   "cell_type": "code",
   "execution_count": null,
   "metadata": {},
   "outputs": [],
   "source": [
    "def bubble_sort(arr):\n",
    "    n = len(arr)\n",
    "    for i in range(n):\n",
    "        swapped = False\n",
    "        for j in range(0, n-i-1):\n",
    "            if arr[j] > arr[j+1]:\n",
    "                arr[j], arr[j+1] = arr[j+1], arr[j]\n",
    "                swapped = True\n",
    "        if not swapped:\n",
    "            break\n",
    "\n",
    "# Example usage\n",
    "my_list = [5, 3, 8, 4, 2]\n",
    "bubble_sort(my_list)\n",
    "print(\"Sorted list is:\", my_list)\n"
   ]
  },
  {
   "cell_type": "markdown",
   "metadata": {},
   "source": [
    "50. Write a Python function called binary_search that implements the binary search algorithm to find a target value in a sorted list. Use this function to find the index of the value 4 in the sorted list [1, 2, 3, 4, 5]."
   ]
  },
  {
   "cell_type": "code",
   "execution_count": null,
   "metadata": {},
   "outputs": [],
   "source": [
    "def binary_search(arr, target):\n",
    "    low = 0\n",
    "    high = len(arr) - 1\n",
    "\n",
    "    while low <= high:\n",
    "        mid = (low + high) // 2\n",
    "        if arr[mid] == target:\n",
    "            return mid\n",
    "        elif arr[mid] < target:\n",
    "            low = mid + 1\n",
    "        else:\n",
    "            high = mid - 1\n",
    "\n",
    "    return -1\n",
    "\n",
    "# Example usage\n",
    "sorted_list = [1, 2, 3, 4, 5]\n",
    "target_value = 4\n",
    "result = binary_search(sorted_list, target_value)\n",
    "\n",
    "print(f\"The target value {target_value} is at index {result}\" if result != -1 else \"Target value not found\")\n"
   ]
  },
  {
   "cell_type": "markdown",
   "metadata": {},
   "source": [
    "51. Write a Python program that creates a dictionary representing a student's grades for different subjects, e.g., grades = {'Math': {'midterm': 90, 'final': 85}, 'Science': {'midterm': 88, 'final': 92}}. Access and print the final grade in Science."
   ]
  },
  {
   "cell_type": "code",
   "execution_count": null,
   "metadata": {},
   "outputs": [],
   "source": [
    "# Creating the dictionary\n",
    "grades = {\n",
    "    'Math': {'midterm': 90, 'final': 85},\n",
    "    'Science': {'midterm': 88, 'final': 92}\n",
    "}\n",
    "\n",
    "# Accessing and printing the final grade in Science\n",
    "science_final_grade = grades['Science']['final']\n",
    "print(f\"The final grade in Science is: {science_final_grade}\")\n"
   ]
  },
  {
   "cell_type": "markdown",
   "metadata": {},
   "source": [
    "52. Write a Python class called Node representing a node in a singly linked list, with attributes data and next_node. Implement a class called LinkedList with methods to insert a node at the beginning, end, and to print the list. Demonstrate by inserting and printing nodes."
   ]
  },
  {
   "cell_type": "code",
   "execution_count": null,
   "metadata": {},
   "outputs": [],
   "source": [
    "class Node:\n",
    "    def __init__(self, data):\n",
    "        self.data = data\n",
    "        self.next_node = None\n",
    "\n",
    "class LinkedList:\n",
    "    def __init__(self):\n",
    "        self.head = None\n",
    "\n",
    "    def insert_at_beginning(self, data):\n",
    "        new_node = Node(data)\n",
    "        new_node.next_node = self.head\n",
    "        self.head = new_node\n",
    "\n",
    "    def insert_at_end(self, data):\n",
    "        new_node = Node(data)\n",
    "        if not self.head:\n",
    "            self.head = new_node\n",
    "            return\n",
    "        last_node = self.head\n",
    "        while last_node.next_node:\n",
    "            last_node = last_node.next_node\n",
    "        last_node.next_node = new_node\n",
    "\n",
    "    def print_list(self):\n",
    "        current_node = self.head\n",
    "        while current_node:\n",
    "            print(current_node.data, end=\" -> \")\n",
    "            current_node = current_node.next_node\n",
    "        print(\"None\")\n",
    "\n",
    "# Demonstration\n",
    "linked_list = LinkedList()\n",
    "linked_list.insert_at_beginning(3)\n",
    "linked_list.insert_at_beginning(2)\n",
    "linked_list.insert_at_end(4)\n",
    "linked_list.insert_at_beginning(1)\n",
    "\n",
    "linked_list.print_list()\n"
   ]
  },
  {
   "cell_type": "markdown",
   "metadata": {},
   "source": [
    "53. Write a Python function called gcd that calculates the greatest common divisor (GCD) of two numbers using the Euclidean algorithm. Calculate the GCD of 48 and 18 and print the result."
   ]
  },
  {
   "cell_type": "code",
   "execution_count": null,
   "metadata": {},
   "outputs": [],
   "source": [
    "def gcd(a, b):\n",
    "    while b:\n",
    "        a, b = b, a % b\n",
    "    return a\n",
    "\n",
    "# Calculate the GCD of 48 and 18\n",
    "result = gcd(48, 18)\n",
    "print(f\"The GCD of 48 and 18 is: {result}\")\n"
   ]
  },
  {
   "cell_type": "markdown",
   "metadata": {},
   "source": [
    "54. Write a Python function called is_prime that checks if a number is prime. Use this function to check if 29 is prime and print the result."
   ]
  },
  {
   "cell_type": "code",
   "execution_count": null,
   "metadata": {},
   "outputs": [],
   "source": [
    "def is_prime(n):\n",
    "    if n <= 1:\n",
    "        return False\n",
    "    for i in range(2, int(n**0.5) + 1):\n",
    "        if n % i == 0:\n",
    "            return False\n",
    "    return True\n",
    "\n",
    "# Check if 29 is prime\n",
    "result = is_prime(29)\n",
    "print(f\"Is 29 a prime number? {result}\")\n"
   ]
  },
  {
   "cell_type": "markdown",
   "metadata": {},
   "source": [
    "55.Write a Python function called factorial that calculates the factorial of a number using a loop. Calculate the factorial of 6 and print the result.\""
   ]
  },
  {
   "cell_type": "code",
   "execution_count": null,
   "metadata": {},
   "outputs": [],
   "source": [
    "def factorial(n):\n",
    "    result = 1\n",
    "    for i in range(1, n + 1):\n",
    "        result *= i\n",
    "    return result\n",
    "\n",
    "# Calculate the factorial of 6\n",
    "factorial_of_6 = factorial(6)\n",
    "print(\"The factorial of 6 is:\", factorial_of_6)\n"
   ]
  },
  {
   "cell_type": "markdown",
   "metadata": {},
   "source": [
    "56. Write a simple Flask application with a single route that returns 'Hello, World!' when accessed. Run the Flask app and provide instructions to test the endpoint."
   ]
  },
  {
   "cell_type": "code",
   "execution_count": null,
   "metadata": {},
   "outputs": [],
   "source": [
    "from flask import Flask\n",
    "\n",
    "app = Flask(__name__)\n",
    "\n",
    "@app.route('/')\n",
    "def hello_world():\n",
    "    return 'Hello, World!'\n",
    "\n",
    "if __name__ == '__main__':\n",
    "    app.run()\n",
    "pip install Flask\n",
    "python app.py\n"
   ]
  },
  {
   "cell_type": "markdown",
   "metadata": {},
   "source": [
    "57. Write a Python program that uses nested loops to print a multiplication table (from 1 to 10). Format the output as a grid."
   ]
  },
  {
   "cell_type": "code",
   "execution_count": null,
   "metadata": {},
   "outputs": [],
   "source": [
    "# Function to print the multiplication table\n",
    "def print_multiplication_table():\n",
    "    for i in range(1, 11):\n",
    "        for j in range(1, 11):\n",
    "            print(f\"{i * j:4}\", end=\" \")\n",
    "        print()\n",
    "\n",
    "# Call the function to print the table\n",
    "print_multiplication_table()\n"
   ]
  },
  {
   "cell_type": "markdown",
   "metadata": {},
   "source": [
    "58. Write a Python class called Vector with attributes x and y. Overload the + operator to add two Vector objects by summing their x and y attributes. Demonstrate by adding two Vector objects and printing the result."
   ]
  },
  {
   "cell_type": "code",
   "execution_count": null,
   "metadata": {},
   "outputs": [],
   "source": [
    "class Vector:\n",
    "    def __init__(self, x, y):\n",
    "        self.x = x\n",
    "        self.y = y\n",
    "\n",
    "    def __add__(self, other):\n",
    "        return Vector(self.x + other.x, self.y + other.y)\n",
    "\n",
    "    def __repr__(self):\n",
    "        return f\"Vector({self.x}, {self.y})\"\n",
    "\n",
    "# Create two Vector objects\n",
    "v1 = Vector(2, 3)\n",
    "v2 = Vector(4, 5)\n",
    "\n",
    "# Add the two Vector objects\n",
    "result = v1 + v2\n",
    "\n",
    "# Print the result\n",
    "print(result)\n"
   ]
  },
  {
   "cell_type": "markdown",
   "metadata": {},
   "source": [
    "59. Write a Python function called fibonacci that generates the nth Fibonacci number using recursion. Calculate and print the 10th Fibonacci number."
   ]
  },
  {
   "cell_type": "code",
   "execution_count": null,
   "metadata": {},
   "outputs": [],
   "source": [
    "def fibonacci(n):\n",
    "    if n <= 0:\n",
    "        return \"Incorrect input\"\n",
    "    elif n == 1:\n",
    "        return 0\n",
    "    elif n == 2:\n",
    "        return 1\n",
    "    else:\n",
    "        return fibonacci(n-1) + fibonacci(n-2)\n",
    "\n",
    "# Calculate and print the 10th Fibonacci number\n",
    "tenth_fibonacci = fibonacci(10)\n",
    "print(\"The 10th Fibonacci number is:\", tenth_fibonacci)\n"
   ]
  },
  {
   "cell_type": "markdown",
   "metadata": {},
   "source": [
    "60. Write a Python program that creates a list of tuples representing student names and their grades, e.g., students = [('Alice', 90), ('Bob', 85), ('Charlie', 95)]. Sort the list by grades and print the sorted list."
   ]
  },
  {
   "cell_type": "code",
   "execution_count": null,
   "metadata": {},
   "outputs": [],
   "source": [
    "# List of students with their grades\n",
    "students = [('Alice', 90), ('Bob', 85), ('Charlie', 95)]\n",
    "\n",
    "# Sort the list by grades\n",
    "sorted_students = sorted(students, key=lambda student: student[1])\n",
    "\n",
    "# Print the sorted list\n",
    "print(sorted_students)\n"
   ]
  },
  {
   "cell_type": "markdown",
   "metadata": {},
   "source": [
    "61. Write a Python program that uses nested loops to print the following pattern:\n",
    "Markdown\n",
    "\n"
   ]
  },
  {
   "cell_type": "code",
   "execution_count": null,
   "metadata": {},
   "outputs": [],
   "source": [
    "*\n",
    "**\n",
    "***\n",
    "****\n",
    "*****\n",
    "```\"\n",
    "\n"
   ]
  },
  {
   "cell_type": "code",
   "execution_count": null,
   "metadata": {},
   "outputs": [],
   "source": [
    "# Number of rows in the pattern\n",
    "rows = 5\n",
    "\n",
    "# Outer loop for each row\n",
    "for i in range(1, rows + 1):\n",
    "    # Inner loop for each column in the row\n",
    "    for j in range(i):\n",
    "        print('*', end='')\n",
    "    # Move to the next line after each row\n",
    "    print()\n"
   ]
  },
  {
   "cell_type": "markdown",
   "metadata": {},
   "source": [
    "62. Write a Python decorator called log_call that logs the name of the function being called. Apply this decorator to a function called greet that prints 'Hello!' and call the decorated function."
   ]
  },
  {
   "cell_type": "code",
   "execution_count": null,
   "metadata": {},
   "outputs": [],
   "source": [
    "import functools\n",
    "\n",
    "# Define the decorator\n",
    "def log_call(func):\n",
    "    @functools.wraps(func)\n",
    "    def wrapper(*args, **kwargs):\n",
    "        print(f\"Calling function: {func.__name__}\")\n",
    "        return func(*args, **kwargs)\n",
    "    return wrapper\n",
    "\n",
    "# Apply the decorator to the greet function\n",
    "@log_call\n",
    "def greet():\n",
    "    print(\"Hello!\")\n",
    "\n",
    "# Call the decorated function\n",
    "greet()\n"
   ]
  },
  {
   "cell_type": "markdown",
   "metadata": {},
   "source": [
    "63. Write a Python class called TreeNode representing a node in a binary tree, with attributes data, left, and right. Implement a function to perform an in-order traversal of the tree and print the node values."
   ]
  },
  {
   "cell_type": "code",
   "execution_count": null,
   "metadata": {},
   "outputs": [],
   "source": [
    "class TreeNode:\n",
    "    def __init__(self, data):\n",
    "        self.data = data\n",
    "        self.left = None\n",
    "        self.right = None\n",
    "\n",
    "def in_order_traversal(root):\n",
    "    if root:\n",
    "        # Traverse the left subtree\n",
    "        in_order_traversal(root.left)\n",
    "        # Visit the root node\n",
    "        print(root.data, end=' ')\n",
    "        # Traverse the right subtree\n",
    "        in_order_traversal(root.right)\n",
    "\n",
    "# Example usage:\n",
    "if __name__ == \"__main__\":\n",
    "    # Creating a sample binary tree\n",
    "    root = TreeNode(10)\n",
    "    root.left = TreeNode(5)\n",
    "    root.right = TreeNode(15)\n",
    "    root.left.left = TreeNode(2)\n",
    "    root.left.right = TreeNode(7)\n",
    "    root.right.left = TreeNode(12)\n",
    "    root.right.right = TreeNode(20)\n",
    "\n",
    "    print(\"In-order traversal of the binary tree:\")\n",
    "    in_order_traversal(root)\n"
   ]
  },
  {
   "cell_type": "markdown",
   "metadata": {},
   "source": [
    "64. Write a Python function called quicksort that implements the quicksort algorithm to sort a list of numbers in ascending order. Use this function to sort the list [10, 7, 8, 9, 1, 5] and print the sorted list."
   ]
  },
  {
   "cell_type": "code",
   "execution_count": null,
   "metadata": {},
   "outputs": [],
   "source": [
    "def quicksort(arr):\n",
    "    if len(arr) <= 1:\n",
    "        return arr\n",
    "    else:\n",
    "        pivot = arr[len(arr) // 2]\n",
    "        left = [x for x in arr if x < pivot]\n",
    "        middle = [x for x in arr if x == pivot]\n",
    "        right = [x for x in arr if x > pivot]\n",
    "        return quicksort(left) + middle + quicksort(right)\n",
    "\n",
    "# List to be sorted\n",
    "numbers = [10, 7, 8, 9, 1, 5]\n",
    "\n",
    "# Sorting the list using quicksort\n",
    "sorted_numbers = quicksort(numbers)\n",
    "\n",
    "# Printing the sorted list\n",
    "print(\"Sorted list:\", sorted_numbers)\n"
   ]
  },
  {
   "cell_type": "markdown",
   "metadata": {},
   "source": [
    "65. Write a Flask application that provides a simple REST API with the following endpoints: GET /items to return a list of items, POST /items to add a new item, and DELETE /items/<id> to delete an item by ID. Provide instructions to test the API."
   ]
  },
  {
   "cell_type": "code",
   "execution_count": null,
   "metadata": {},
   "outputs": [],
   "source": [
    "pip install Flask\n",
    "from flask import Flask, request, jsonify\n",
    "\n",
    "app = Flask(__name__)\n",
    "\n",
    "items = []\n",
    "\n",
    "@app.route('/items', methods=['GET'])\n",
    "def get_items():\n",
    "    return jsonify(items)\n",
    "\n",
    "@app.route('/items', methods=['POST'])\n",
    "def add_item():\n",
    "    new_item = request.get_json()\n",
    "    items.append(new_item)\n",
    "    return jsonify(new_item), 201\n",
    "\n",
    "@app.route('/items/<int:item_id>', methods=['DELETE'])\n",
    "def delete_item(item_id):\n",
    "    global items\n",
    "    items = [item for item in items if item.get('id') != item_id]\n",
    "    return '', 204\n",
    "\n",
    "if __name__ == '__main__':\n",
    "    app.run(debug=True)\n",
    "python app.py\n",
    "curl -X GET http://127.0.0.1:5000/items\n",
    "curl -X POST http://127.0.0.1:5000/items -H \"Content-Type: application/json\" -d '{\"id\": 1, \"name\": \"Item 1\"}'\n",
    "curl -X DELETE http://127.0.0.1:5000/items/1\n"
   ]
  },
  {
   "cell_type": "markdown",
   "metadata": {},
   "source": [
    "66. Write a Python program that generates the current date and time using the datetime module, formats it as 'YYYY-MM-DD HH:MM', and prints it. Then calculate the date 10 days from today and print it\n"
   ]
  },
  {
   "cell_type": "code",
   "execution_count": null,
   "metadata": {},
   "outputs": [],
   "source": [
    "from datetime import datetime, timedelta\n",
    "\n",
    "# Get the current date and time\n",
    "now = datetime.now()\n",
    "\n",
    "# Format the current date and time as 'YYYY-MM-DD HH:MM'\n",
    "formatted_now = now.strftime('%Y-%m-%d %H:%M')\n",
    "print(f\"Current date and time: {formatted_now}\")\n",
    "\n",
    "# Calculate the date 10 days from today\n",
    "future_date = now + timedelta(days=10)\n",
    "formatted_future_date = future_date.strftime('%Y-%m-%d %H:%M')\n",
    "print(f\"Date 10 days from today: {formatted_future_date}\")\n"
   ]
  },
  {
   "cell_type": "markdown",
   "metadata": {},
   "source": [
    "67. Write a Python program that uses BeautifulSoup to scrape the titles of articles from a news website's homepage and prints them."
   ]
  },
  {
   "cell_type": "code",
   "execution_count": null,
   "metadata": {},
   "outputs": [],
   "source": [
    "import requests\n",
    "from bs4 import BeautifulSoup\n",
    "\n",
    "# URL of the news website's homepage\n",
    "url = 'https://www.example-news-website.com'\n",
    "\n",
    "# Send a GET request to the website\n",
    "response = requests.get(url)\n",
    "\n",
    "# Check if the request was successful\n",
    "if response.status_code == 200:\n",
    "    # Parse the HTML content\n",
    "    soup = BeautifulSoup(response.content, 'html.parser')\n",
    "\n",
    "    # Find all article titles (assuming they are in <h2> tags with class 'title')\n",
    "    titles = soup.find_all('h2', class_='title')\n",
    "\n",
    "    # Print each title\n",
    "    for title in titles:\n",
    "        print(title.get_text())\n",
    "else:\n",
    "    print(f\"Failed to retrieve the webpage. Status code: {response.status_code}\")\n"
   ]
  },
  {
   "cell_type": "markdown",
   "metadata": {},
   "source": [
    "68. Write a Python program that performs linear regression on a dataset using numpy. The dataset consists of input x = [1, 2, 3, 4, 5] and output y = [2, 4, 6, 8, 10]. Calculate the slope and intercept, and print the linear equation."
   ]
  },
  {
   "cell_type": "code",
   "execution_count": null,
   "metadata": {},
   "outputs": [],
   "source": [
    "pip install numpy\n",
    "import numpy as np\n",
    "\n",
    "# Input data\n",
    "x = np.array([1, 2, 3, 4, 5])\n",
    "y = np.array([2, 4, 6, 8, 10])\n",
    "\n",
    "# Calculate the mean of x and y\n",
    "x_mean = np.mean(x)\n",
    "y_mean = np.mean(y)\n",
    "\n",
    "# Calculate the terms needed for the numerator and denominator of the slope\n",
    "numerator = np.sum((x - x_mean) * (y - y_mean))\n",
    "denominator = np.sum((x - x_mean) ** 2)\n",
    "\n",
    "# Calculate the slope (m) and intercept (b)\n",
    "slope = numerator / denominator\n",
    "intercept = y_mean - (slope * x_mean)\n",
    "\n",
    "# Print the linear equation\n",
    "print(f\"The linear equation is: y = {slope:.2f}x + {intercept:.2f}\")\n",
    "python linear_regression.py\n"
   ]
  },
  {
   "cell_type": "markdown",
   "metadata": {},
   "source": [
    "69. Write a Python class called BSTNode representing a node in a binary search tree (BST), with attributes data, left, and right. Implement methods to insert a new node and search for a value in the BST. Demonstrate by inserting and searching for values."
   ]
  },
  {
   "cell_type": "code",
   "execution_count": null,
   "metadata": {},
   "outputs": [],
   "source": [
    "class BSTNode:\n",
    "    def __init__(self, data):\n",
    "        self.data = data\n",
    "        self.left = None\n",
    "        self.right = None\n",
    "\n",
    "    def insert(self, data):\n",
    "        if data < self.data:\n",
    "            if self.left is None:\n",
    "                self.left = BSTNode(data)\n",
    "            else:\n",
    "                self.left.insert(data)\n",
    "        elif data > self.data:\n",
    "            if self.right is None:\n",
    "                self.right = BSTNode(data)\n",
    "            else:\n",
    "                self.right.insert(data)\n",
    "\n",
    "    def search(self, data):\n",
    "        if data == self.data:\n",
    "            return True\n",
    "        elif data < self.data:\n",
    "            if self.left is None:\n",
    "                return False\n",
    "            return self.left.search(data)\n",
    "        else:\n",
    "            if self.right is None:\n",
    "                return False\n",
    "            return self.right.search(data)\n",
    "\n",
    "# Demonstration\n",
    "if __name__ == \"__main__\":\n",
    "    # Create the root node\n",
    "    root = BSTNode(10)\n",
    "\n",
    "    # Insert values\n",
    "    values_to_insert = [5, 15, 3, 7, 12, 18]\n",
    "    for value in values_to_insert:\n",
    "        root.insert(value)\n",
    "\n",
    "    # Search for values\n",
    "    values_to_search = [7, 14]\n",
    "    for value in values_to_search:\n",
    "        found = root.search(value)\n",
    "        print(f\"Value {value} found: {found}\")\n"
   ]
  },
  {
   "cell_type": "markdown",
   "metadata": {},
   "source": [
    "70. Write a Python program that creates a pandas DataFrame representing sales data with columns Product, Category, and Sales. Group the data by Category and calculate the total sales for each category."
   ]
  },
  {
   "cell_type": "code",
   "execution_count": null,
   "metadata": {},
   "outputs": [],
   "source": [
    "import pandas as pd\n",
    "\n",
    "# Create a dictionary with sales data\n",
    "data = {\n",
    "    'Product': ['Product A', 'Product B', 'Product C', 'Product D', 'Product E'],\n",
    "    'Category': ['Category 1', 'Category 2', 'Category 1', 'Category 2', 'Category 1'],\n",
    "    'Sales': [150, 200, 300, 400, 250]\n",
    "}\n",
    "\n",
    "# Create a DataFrame from the dictionary\n",
    "df = pd.DataFrame(data)\n",
    "\n",
    "# Group the data by 'Category' and calculate the total sales for each category\n",
    "grouped_df = df.groupby('Category')['Sales'].sum().reset_index()\n",
    "\n",
    "# Print the resulting DataFrame\n",
    "print(grouped_df)\n"
   ]
  },
  {
   "cell_type": "markdown",
   "metadata": {},
   "source": [
    "71. Write a Python program that creates two pandas DataFrames representing customer orders and their details. Merge the two DataFrames on a common OrderID column and print the merged DataFrame."
   ]
  },
  {
   "cell_type": "code",
   "execution_count": null,
   "metadata": {},
   "outputs": [],
   "source": [
    "import pandas as pd\n",
    "\n",
    "# Create a DataFrame for customer orders\n",
    "orders = {\n",
    "    'OrderID': [1, 2, 3, 4],\n",
    "    'CustomerID': [101, 102, 103, 104],\n",
    "    'OrderDate': ['2023-08-01', '2023-08-02', '2023-08-03', '2023-08-04']\n",
    "}\n",
    "orders_df = pd.DataFrame(orders)\n",
    "\n",
    "# Create a DataFrame for order details\n",
    "order_details = {\n",
    "    'OrderID': [1, 2, 3, 4],\n",
    "    'Product': ['Product A', 'Product B', 'Product C', 'Product D'],\n",
    "    'Quantity': [2, 1, 4, 3]\n",
    "}\n",
    "order_details_df = pd.DataFrame(order_details)\n",
    "\n",
    "# Merge the two DataFrames on the 'OrderID' column\n",
    "merged_df = pd.merge(orders_df, order_details_df, on='OrderID')\n",
    "\n",
    "# Print the merged DataFrame\n",
    "print(merged_df)\n"
   ]
  },
  {
   "cell_type": "markdown",
   "metadata": {},
   "source": [
    "72. Write a Python program that creates a pandas DataFrame representing sales data with columns Product, Region, and Sales. Create a pivot table that shows the total sales for each product by region and print the pivot table."
   ]
  },
  {
   "cell_type": "code",
   "execution_count": null,
   "metadata": {},
   "outputs": [],
   "source": [
    "import pandas as pd\n",
    "\n",
    "# Create a dictionary with sales data\n",
    "data = {\n",
    "    'Product': ['Product A', 'Product B', 'Product C', 'Product A', 'Product B', 'Product C'],\n",
    "    'Region': ['North', 'South', 'East', 'West', 'North', 'South'],\n",
    "    'Sales': [100, 150, 200, 250, 300, 350]\n",
    "}\n",
    "\n",
    "# Create a DataFrame from the dictionary\n",
    "df = pd.DataFrame(data)\n",
    "\n",
    "# Create a pivot table to show total sales for each product by region\n",
    "pivot_table = df.pivot_table(values='Sales', index='Product', columns='Region', aggfunc='sum', fill_value=0)\n",
    "\n",
    "# Print the pivot table\n",
    "print(pivot_table)\n"
   ]
  },
  {
   "cell_type": "markdown",
   "metadata": {},
   "source": [
    "73. Create a simple Django project with a single app called blog. The app should have a model Post with fields title and content. Create and run the necessary migrations, then use Django's admin interface to add a new post."
   ]
  },
  {
   "cell_type": "code",
   "execution_count": null,
   "metadata": {},
   "outputs": [],
   "source": [
    "python -m venv myenv\n",
    "source myenv/bin/activate  # On Windows use `myenv\\Scripts\\activate`\n",
    "pip install django\n",
    "django-admin startproject myproject\n",
    "cd myproject\n",
    "python manage.py startapp blog\n",
    "from django.db import models\n",
    "\n",
    "class Post(models.Model):\n",
    "    title = models.CharField(max_length=100)\n",
    "    content = models.TextField()\n",
    "\n",
    "    def __str__(self):\n",
    "        return self.title\n",
    "INSTALLED_APPS = [\n",
    "    ...\n",
    "    'blog',\n",
    "]\n",
    "python manage.py makemigrations blog\n",
    "python manage.py migrate\n",
    "python manage.py createsuperuser\n",
    "from django.contrib import admin\n",
    "from .models import Post\n",
    "\n",
    "admin.site.register(Post)\n",
    "python manage.py runserver\n"
   ]
  },
  {
   "cell_type": "markdown",
   "metadata": {},
   "source": [
    "74. Write a Python function called merge_sort that implements the merge sort algorithm to sort a list of numbers in ascending order. Use this function to sort the list [12, 11, 13, 5, 6, 7] and print the sorted list."
   ]
  },
  {
   "cell_type": "code",
   "execution_count": null,
   "metadata": {},
   "outputs": [],
   "source": [
    "def merge_sort(arr):\n",
    "    if len(arr) > 1:\n",
    "        mid = len(arr) // 2  # Finding the mid of the array\n",
    "        left_half = arr[:mid]  # Dividing the elements into 2 halves\n",
    "        right_half = arr[mid:]\n",
    "\n",
    "        merge_sort(left_half)  # Sorting the first half\n",
    "        merge_sort(right_half)  # Sorting the second half\n",
    "\n",
    "        i = j = k = 0\n",
    "\n",
    "        # Copy data to temp arrays L[] and R[]\n",
    "        while i < len(left_half) and j < len(right_half):\n",
    "            if left_half[i] < right_half[j]:\n",
    "                arr[k] = left_half[i]\n",
    "                i += 1\n",
    "            else:\n",
    "                arr[k] = right_half[j]\n",
    "                j += 1\n",
    "            k += 1\n",
    "\n",
    "        # Checking if any element was left\n",
    "        while i < len(left_half):\n",
    "            arr[k] = left_half[i]\n",
    "            i += 1\n",
    "            k += 1\n",
    "\n",
    "        while j < len(right_half):\n",
    "            arr[k] = right_half[j]\n",
    "            j += 1\n",
    "            k += 1\n",
    "\n",
    "# List to be sorted\n",
    "arr = [12, 11, 13, 5, 6, 7]\n",
    "\n",
    "# Calling merge_sort function\n",
    "merge_sort(arr)\n",
    "\n",
    "# Printing the sorted list\n",
    "print(\"Sorted list is:\", arr)\n"
   ]
  },
  {
   "cell_type": "markdown",
   "metadata": {},
   "source": [
    "75. Write a Python script that uses SQLAlchemy to connect to a SQLite database. Create a table called users with columns id, name, and email. Insert a few records, then query the table to retrieve and print the records."
   ]
  },
  {
   "cell_type": "code",
   "execution_count": null,
   "metadata": {},
   "outputs": [],
   "source": [
    "from sqlalchemy import create_engine, Column, Integer, String\n",
    "from sqlalchemy.ext.declarative import declarative_base\n",
    "from sqlalchemy.orm import sessionmaker\n",
    "\n",
    "# Create an engine that stores data in the local directory's sqlite database file\n",
    "engine = create_engine('sqlite:///users.db')\n",
    "\n",
    "# Create a base class for our class definitions\n",
    "Base = declarative_base()\n",
    "\n",
    "# Define the User class which will be mapped to the users table\n",
    "class User(Base):\n",
    "    __tablename__ = 'users'\n",
    "    id = Column(Integer, primary_key=True)\n",
    "    name = Column(String)\n",
    "    email = Column(String)\n",
    "\n",
    "# Create the users table\n",
    "Base.metadata.create_all(engine)\n",
    "\n",
    "# Create a configured \"Session\" class\n",
    "Session = sessionmaker(bind=engine)\n",
    "\n",
    "# Create a Session\n",
    "session = Session()\n",
    "\n",
    "# Create new User objects\n",
    "user1 = User(name='Alice', email='alice@example.com')\n",
    "user2 = User(name='Bob', email='bob@example.com')\n",
    "user3 = User(name='Charlie', email='charlie@example.com')\n",
    "\n",
    "# Add the records to the session\n",
    "session.add(user1)\n",
    "session.add(user2)\n",
    "session.add(user3)\n",
    "\n",
    "# Commit the records to the database\n",
    "session.commit()\n",
    "\n",
    "# Query the database to retrieve all users\n",
    "users = session.query(User).all()\n",
    "\n",
    "# Print the records\n",
    "for user in users:\n",
    "    print(f'ID: {user.id}, Name: {user.name}, Email: {user.email}')\n"
   ]
  },
  {
   "cell_type": "markdown",
   "metadata": {},
   "source": [
    "76. Write a Python class called CustomError that inherits from Exception and takes an error message as an argument. Raise this custom exception in a function called check_positive if the input is not a positive number."
   ]
  },
  {
   "cell_type": "code",
   "execution_count": null,
   "metadata": {},
   "outputs": [],
   "source": [
    "class CustomError(Exception):\n",
    "    def __init__(self, message):\n",
    "        self.message = message\n",
    "        super().__init__(self.message)\n",
    "\n",
    "def check_positive(number):\n",
    "    if number <= 0:\n",
    "        raise CustomError(\"The number must be positive.\")\n",
    "    return f\"The number {number} is positive.\"\n",
    "\n",
    "# Example usage\n",
    "try:\n",
    "    print(check_positive(10))  # This should work fine\n",
    "    print(check_positive(-5))  # This should raise CustomError\n",
    "except CustomError as e:\n",
    "    print(f\"CustomError: {e.message}\")\n"
   ]
  },
  {
   "cell_type": "markdown",
   "metadata": {},
   "source": [
    "77. Write a Python class called MaxHeap that implements a max heap data structure. Include methods to insert a new element, delete the maximum element, and print the heap."
   ]
  },
  {
   "cell_type": "code",
   "execution_count": null,
   "metadata": {},
   "outputs": [],
   "source": [
    "class MaxHeap:\n",
    "    def __init__(self):\n",
    "        self.heap = []\n",
    "\n",
    "    def insert(self, element):\n",
    "        self.heap.append(element)\n",
    "        self._heapify_up(len(self.heap) - 1)\n",
    "\n",
    "    def delete_max(self):\n",
    "        if len(self.heap) == 0:\n",
    "            return None\n",
    "        if len(self.heap) == 1:\n",
    "            return self.heap.pop()\n",
    "        max_element = self.heap[0]\n",
    "        self.heap[0] = self.heap.pop()\n",
    "        self._heapify_down(0)\n",
    "        return max_element\n",
    "\n",
    "    def print_heap(self):\n",
    "        print(self.heap)\n",
    "\n",
    "    def _heapify_up(self, index):\n",
    "        parent_index = (index - 1) // 2\n",
    "        if index > 0 and self.heap[index] > self.heap[parent_index]:\n",
    "            self.heap[index], self.heap[parent_index] = self.heap[parent_index], self.heap[index]\n",
    "            self._heapify_up(parent_index)\n",
    "\n",
    "    def _heapify_down(self, index):\n",
    "        largest = index\n",
    "        left_child = 2 * index + 1\n",
    "        right_child = 2 * index + 2\n",
    "\n",
    "        if left_child < len(self.heap) and self.heap[left_child] > self.heap[largest]:\n",
    "            largest = left_child\n",
    "        if right_child < len(self.heap) and self.heap[right_child] > self.heap[largest]:\n",
    "            largest = right_child\n",
    "        if largest != index:\n",
    "            self.heap[index], self.heap[largest] = self.heap[largest], self.heap[index]\n",
    "            self._heapify_down(largest)\n",
    "\n",
    "# Example usage\n",
    "heap = MaxHeap()\n",
    "heap.insert(10)\n",
    "heap.insert(20)\n",
    "heap.insert(5)\n",
    "heap.insert(30)\n",
    "heap.print_heap()  # Output: [30, 20, 5, 10]\n",
    "print(heap.delete_max())  # Output: 30\n",
    "heap.print_heap()  # Output: [20, 10, 5]\n"
   ]
  },
  {
   "cell_type": "markdown",
   "metadata": {},
   "source": [
    "78.  Write a Python program that uses the threading module to run two functions concurrently. One function should print numbers from 1 to 5 with a delay of 1 second, and the other should print letters from A to E with a delay of 1.5 seconds."
   ]
  },
  {
   "cell_type": "code",
   "execution_count": null,
   "metadata": {},
   "outputs": [],
   "source": [
    "import threading\n",
    "import time\n",
    "\n",
    "def print_numbers():\n",
    "    for i in range(1, 6):\n",
    "        print(i)\n",
    "        time.sleep(1)\n",
    "\n",
    "def print_letters():\n",
    "    for letter in ['A', 'B', 'C', 'D', 'E']:\n",
    "        print(letter)\n",
    "        time.sleep(1.5)\n",
    "\n",
    "# Create threads\n",
    "thread1 = threading.Thread(target=print_numbers)\n",
    "thread2 = threading.Thread(target=print_letters)\n",
    "\n",
    "# Start threads\n",
    "thread1.start()\n",
    "thread2.start()\n",
    "\n",
    "# Wait for both threads to complete\n",
    "thread1.join()\n",
    "thread2.join()\n",
    "\n",
    "print(\"Both threads have finished execution.\")\n"
   ]
  },
  {
   "cell_type": "markdown",
   "metadata": {},
   "source": [
    "79. Write a Python class called LRUCache that implements a least recently used (LRU) cache. The cache should have a maximum capacity, and when the capacity is reached, the least recently used item should be removed. Include methods to get and put items in the cache."
   ]
  },
  {
   "cell_type": "code",
   "execution_count": null,
   "metadata": {},
   "outputs": [],
   "source": [
    "from collections import OrderedDict\n",
    "\n",
    "class LRUCache:\n",
    "    def __init__(self, capacity: int):\n",
    "        self.capacity = capacity\n",
    "        self.cache = OrderedDict()\n",
    "\n",
    "    def get(self, key: int) -> int:\n",
    "        if key not in self.cache:\n",
    "            return -1\n",
    "        else:\n",
    "            self.cache.move_to_end(key)\n",
    "            return self.cache[key]\n",
    "\n",
    "    def put(self, key: int, value: int) -> None:\n",
    "        if key in self.cache:\n",
    "            self.cache.move_to_end(key)\n",
    "        self.cache[key] = value\n",
    "        if len(self.cache) > self.capacity:\n",
    "            self.cache.popitem(last=False)\n",
    "\n",
    "    def print_cache(self):\n",
    "        print(self.cache)\n",
    "\n",
    "# Example usage\n",
    "lru_cache = LRUCache(3)\n",
    "lru_cache.put(1, 1)\n",
    "lru_cache.put(2, 2)\n",
    "lru_cache.put(3, 3)\n",
    "lru_cache.print_cache()  # Output: OrderedDict([(1, 1), (2, 2), (3, 3)])\n",
    "print(lru_cache.get(1))  # Output: 1\n",
    "lru_cache.put(4, 4)\n",
    "lru_cache.print_cache()  # Output: OrderedDict([(2, 2), (3, 3), (4, 4)])\n",
    "print(lru_cache.get(2))  # Output: 2\n",
    "lru_cache.put(5, 5)\n",
    "lru_cache.print_cache()  # Output: OrderedDict([(3, 3), (4, 4), (5, 5)])\n"
   ]
  },
  {
   "cell_type": "markdown",
   "metadata": {},
   "source": [
    "80. Write a Python class called MetaSingleton using a metaclass that ensures any class inheriting from it will be a singleton (i.e., only one instance of the class can exist). Demonstrate by creating two instances and showing they are the same."
   ]
  },
  {
   "cell_type": "code",
   "execution_count": null,
   "metadata": {},
   "outputs": [],
   "source": [
    "class MetaSingleton(type):\n",
    "    _instances = {}\n",
    "\n",
    "    def __call__(cls, *args, **kwargs):\n",
    "        if cls not in cls._instances:\n",
    "            cls._instances[cls] = super().__call__(*args, **kwargs)\n",
    "        return cls._instances[cls]\n",
    "\n",
    "class SingletonClass(metaclass=MetaSingleton):\n",
    "    pass\n",
    "\n",
    "# Demonstration\n",
    "instance1 = SingletonClass()\n",
    "instance2 = SingletonClass()\n",
    "\n",
    "print(instance1 is instance2)  # Output: True\n"
   ]
  },
  {
   "cell_type": "markdown",
   "metadata": {},
   "source": [
    "81. Write a Python generator function called prime_generator that yields an infinite sequence of prime numbers. Use the generator to print the first 10 prime numbers."
   ]
  },
  {
   "cell_type": "code",
   "execution_count": null,
   "metadata": {},
   "outputs": [],
   "source": [
    "def prime_generator():\n",
    "    yield 2\n",
    "    prime_list = [2]\n",
    "    num = 3\n",
    "    while True:\n",
    "        is_prime = all(num % prime != 0 for prime in prime_list)\n",
    "        if is_prime:\n",
    "            prime_list.append(num)\n",
    "            yield num\n",
    "        num += 2\n",
    "\n",
    "# Demonstration: Print the first 10 prime numbers\n",
    "gen = prime_generator()\n",
    "for _ in range(10):\n",
    "    print(next(gen))\n"
   ]
  },
  {
   "cell_type": "markdown",
   "metadata": {},
   "source": [
    "82. Write a Python decorator called memoize that caches the results of a function so that it doesn't have to recompute the results for the same inputs. Apply this decorator to a recursive function that calculates Fibonacci numbers."
   ]
  },
  {
   "cell_type": "code",
   "execution_count": null,
   "metadata": {},
   "outputs": [],
   "source": [
    "def memoize(func):\n",
    "    cache = {}\n",
    "    def wrapper(n):\n",
    "        if n not in cache:\n",
    "            cache[n] = func(n)\n",
    "        return cache[n]\n",
    "    return wrapper\n",
    "\n",
    "@memoize\n",
    "def fibonacci(n):\n",
    "    if n <= 1:\n",
    "        return n\n",
    "    return fibonacci(n - 1) + fibonacci(n - 2)\n",
    "\n",
    "# Demonstration: Print the first 10 Fibonacci numbers\n",
    "for i in range(10):\n",
    "    print(fibonacci(i))\n"
   ]
  },
  {
   "cell_type": "markdown",
   "metadata": {},
   "source": [
    "83. Write a Python program that uses the asyncio module to fetch the contents of three different URLs concurrently. Print the length of the content fetched from each URL."
   ]
  },
  {
   "cell_type": "code",
   "execution_count": null,
   "metadata": {},
   "outputs": [],
   "source": [
    "import asyncio\n",
    "import aiohttp\n",
    "\n",
    "async def fetch_content(url):\n",
    "    async with aiohttp.ClientSession() as session:\n",
    "        async with session.get(url) as response:\n",
    "            content = await response.text()\n",
    "            print(f\"Length of content from {url}: {len(content)}\")\n",
    "\n",
    "async def main():\n",
    "    urls = [\n",
    "        \"https://example.com\",\n",
    "        \"https://python.org\",\n",
    "        \"https://github.com\"\n",
    "    ]\n",
    "    tasks = [fetch_content(url) for url in urls]\n",
    "    await asyncio.gather(*tasks)\n",
    "\n",
    "if __name__ == \"__main__\":\n",
    "    asyncio.run(main())\n"
   ]
  },
  {
   "cell_type": "markdown",
   "metadata": {},
   "source": [
    "84. Write a Python function called a_star that implements the A* search algorithm to find the shortest path in a grid. Use the function to find the shortest path from the top-left corner to the bottom-right corner of a 5x5 grid with some obstacles."
   ]
  },
  {
   "cell_type": "code",
   "execution_count": null,
   "metadata": {},
   "outputs": [],
   "source": [
    "import heapq\n",
    "\n",
    "def a_star(grid, start, goal):\n",
    "    rows, cols = len(grid), len(grid[0])\n",
    "    open_list = []\n",
    "    heapq.heappush(open_list, (0, start))\n",
    "    came_from = {}\n",
    "    g_score = {start: 0}\n",
    "    f_score = {start: heuristic(start, goal)}\n",
    "\n",
    "    while open_list:\n",
    "        current = heapq.heappop(open_list)[1]\n",
    "\n",
    "        if current == goal:\n",
    "            return reconstruct_path(came_from, current)\n",
    "\n",
    "        for neighbor in get_neighbors(current, rows, cols):\n",
    "            if grid[neighbor[0]][neighbor[1]] == 1:\n",
    "                continue\n",
    "\n",
    "            tentative_g_score = g_score[current] + 1\n",
    "\n",
    "            if neighbor not in g_score or tentative_g_score < g_score[neighbor]:\n",
    "                came_from[neighbor] = current\n",
    "                g_score[neighbor] = tentative_g_score\n",
    "                f_score[neighbor] = tentative_g_score + heuristic(neighbor, goal)\n",
    "                heapq.heappush(open_list, (f_score[neighbor], neighbor))\n",
    "\n",
    "    return None\n",
    "\n",
    "def heuristic(a, b):\n",
    "    return abs(a[0] - b[0]) + abs(a[1] - b[1])\n",
    "\n",
    "def get_neighbors(node, rows, cols):\n",
    "    neighbors = []\n",
    "    for dx, dy in [(-1, 0), (1, 0), (0, -1), (0, 1)]:\n",
    "        x, y = node[0] + dx, node[1] + dy\n",
    "        if 0 <= x < rows and 0 <= y < cols:\n",
    "            neighbors.append((x, y))\n",
    "    return neighbors\n",
    "\n",
    "def reconstruct_path(came_from, current):\n",
    "    path = [current]\n",
    "    while current in came_from:\n",
    "        current = came_from[current]\n",
    "        path.append(current)\n",
    "    path.reverse()\n",
    "    return path\n",
    "\n",
    "# Example usage\n",
    "grid = [\n",
    "    [0, 0, 0, 0, 0],\n",
    "    [1, 1, 0, 1, 0],\n",
    "    [0, 0, 0, 1, 0],\n",
    "    [0, 1, 1, 0, 0],\n",
    "    [0, 0, 0, 0, 0]\n",
    "]\n",
    "\n",
    "start = (0, 0)\n",
    "goal = (4, 4)\n",
    "path = a_star(grid, start, goal)\n",
    "print(\"Shortest path:\", path)\n"
   ]
  },
  {
   "cell_type": "markdown",
   "metadata": {},
   "source": [
    "85. Write a Python class called Timer that implements a context manager to measure the time taken by a block of code. Use this context manager to time a loop that sums numbers from 1 to 1 million."
   ]
  },
  {
   "cell_type": "code",
   "execution_count": null,
   "metadata": {},
   "outputs": [],
   "source": [
    "import time\n",
    "\n",
    "class Timer:\n",
    "    def __enter__(self):\n",
    "        self.start = time.perf_counter()\n",
    "        return self\n",
    "\n",
    "    def __exit__(self, exc_type, exc_value, traceback):\n",
    "        self.end = time.perf_counter()\n",
    "        self.elapsed = self.end - self.start\n",
    "        print(f\"Elapsed time: {self.elapsed:.4f} seconds\")\n",
    "\n",
    "# Example usage\n",
    "with Timer() as timer:\n",
    "    total = sum(range(1, 1000001))\n",
    "print(f\"Sum of numbers from 1 to 1 million: {total}\")\n"
   ]
  },
  {
   "cell_type": "markdown",
   "metadata": {},
   "source": [
    "86. Write a Python class called Graph that implements an undirected graph using an adjacency list. Include a method to perform depth-first search (DFS) starting from a given node. Demonstrate by creating a graph and performing DFS."
   ]
  },
  {
   "cell_type": "code",
   "execution_count": null,
   "metadata": {},
   "outputs": [],
   "source": [
    "class Graph:\n",
    "    def __init__(self):\n",
    "        self.graph = {}\n",
    "\n",
    "    def add_edge(self, u, v):\n",
    "        if u not in self.graph:\n",
    "            self.graph[u] = []\n",
    "        if v not in self.graph:\n",
    "            self.graph[v] = []\n",
    "        self.graph[u].append(v)\n",
    "        self.graph[v].append(u)\n",
    "\n",
    "    def dfs(self, start):\n",
    "        visited = set()\n",
    "        self._dfs_util(start, visited)\n",
    "\n",
    "    def _dfs_util(self, v, visited):\n",
    "        visited.add(v)\n",
    "        print(v, end=' ')\n",
    "        for neighbor in self.graph[v]:\n",
    "            if neighbor not in visited:\n",
    "                self._dfs_util(neighbor, visited)\n",
    "\n",
    "# Example usage\n",
    "g = Graph()\n",
    "g.add_edge(0, 1)\n",
    "g.add_edge(0, 2)\n",
    "g.add_edge(1, 2)\n",
    "g.add_edge(2, 3)\n",
    "g.add_edge(3, 4)\n",
    "\n",
    "print(\"Depth-First Search starting from node 0:\")\n",
    "g.dfs(0)\n"
   ]
  },
  {
   "cell_type": "markdown",
   "metadata": {},
   "source": [
    "87. Write a Python program that uses matplotlib to plot the sine and cosine functions on the same graph. Label the axes and add a legend to distinguish between the two functions."
   ]
  },
  {
   "cell_type": "code",
   "execution_count": null,
   "metadata": {},
   "outputs": [],
   "source": [
    "import numpy as np\n",
    "import matplotlib.pyplot as plt\n",
    "\n",
    "# Generate x values from 0 to 4π\n",
    "x = np.arange(0, 4 * np.pi, 0.1)\n",
    "\n",
    "# Compute sine and cosine values\n",
    "y_sin = np.sin(x)\n",
    "y_cos = np.cos(x)\n",
    "\n",
    "# Create the plot\n",
    "plt.plot(x, y_sin, label='Sine', color='blue')\n",
    "plt.plot(x, y_cos, label='Cosine', color='red')\n",
    "\n",
    "# Label the axes\n",
    "plt.xlabel('x values (radians)')\n",
    "plt.ylabel('Function values')\n",
    "\n",
    "# Add a title\n",
    "plt.title('Sine and Cosine Functions')\n",
    "\n",
    "# Add a legend\n",
    "plt.legend()\n",
    "\n",
    "# Display the plot\n",
    "plt.show()\n"
   ]
  },
  {
   "cell_type": "markdown",
   "metadata": {},
   "source": [
    "88. Write a Python class called PriorityQueue that implements a priority queue using a heap. Include methods to insert an item with a priority and remove the item with the highest priority. Demonstrate by inserting and removing items. "
   ]
  },
  {
   "cell_type": "code",
   "execution_count": null,
   "metadata": {},
   "outputs": [],
   "source": [
    "import heapq\n",
    "\n",
    "class PriorityQueue:\n",
    "    def __init__(self):\n",
    "        self.heap = []\n",
    "\n",
    "    def insert(self, item, priority):\n",
    "        # Use a tuple (priority, item) to maintain the heap property\n",
    "        heapq.heappush(self.heap, (priority, item))\n",
    "\n",
    "    def remove_highest_priority(self):\n",
    "        # Pop the item with the highest priority (smallest priority number)\n",
    "        if not self.is_empty():\n",
    "            return heapq.heappop(self.heap)[1]\n",
    "        else:\n",
    "            raise IndexError(\"remove from an empty priority queue\")\n",
    "\n",
    "    def is_empty(self):\n",
    "        return len(self.heap) == 0\n",
    "\n",
    "# Demonstration\n",
    "pq = PriorityQueue()\n",
    "pq.insert(\"task1\", 3)\n",
    "pq.insert(\"task2\", 1)\n",
    "pq.insert(\"task3\", 2)\n",
    "\n",
    "print(\"Removed:\", pq.remove_highest_priority())  # Should remove \"task2\"\n",
    "print(\"Removed:\", pq.remove_highest_priority())  # Should remove \"task3\"\n",
    "print(\"Removed:\", pq.remove_highest_priority())  # Should remove \"task1\"\n"
   ]
  },
  {
   "cell_type": "markdown",
   "metadata": {},
   "source": [
    "89. Write a Python program that reads a JSON file containing a list of dictionaries, each representing a product with keys name, price, and quantity. Calculate the total value of the inventory and print it."
   ]
  },
  {
   "cell_type": "code",
   "execution_count": null,
   "metadata": {},
   "outputs": [],
   "source": [
    "import json\n",
    "\n",
    "def calculate_inventory_value(file_path):\n",
    "    # Read the JSON file\n",
    "    with open(file_path, 'r') as file:\n",
    "        products = json.load(file)\n",
    "    \n",
    "    # Calculate the total value of the inventory\n",
    "    total_value = sum(product['price'] * product['quantity'] for product in products)\n",
    "    \n",
    "    # Print the total value\n",
    "    print(f'Total value of the inventory: ${total_value:.2f}')\n",
    "\n",
    "# Example usage\n",
    "calculate_inventory_value('products.json')\n"
   ]
  },
  {
   "cell_type": "markdown",
   "metadata": {},
   "source": [
    "90. Write a Python program that uses the NLTK library to create a simple rule-based chatbot. The chatbot should respond to greetings and a few predefined questions. Demonstrate a conversation with the chatbot."
   ]
  },
  {
   "cell_type": "code",
   "execution_count": null,
   "metadata": {},
   "outputs": [],
   "source": [
    "import nltk\n",
    "from nltk.chat.util import Chat, reflections\n",
    "\n",
    "# Define the pairs of patterns and responses\n",
    "pairs = [\n",
    "    [\n",
    "        r\"hi|hello|hey\",\n",
    "        [\"Hello!\", \"Hi there!\", \"Hey!\"]\n",
    "    ],\n",
    "    [\n",
    "        r\"how are you?\",\n",
    "        [\"I'm doing well, thank you!\", \"I'm great, how about you?\"]\n",
    "    ],\n",
    "    [\n",
    "        r\"what is your name?\",\n",
    "        [\"I'm a chatbot created using NLTK.\", \"You can call me Chatbot.\"]\n",
    "    ],\n",
    "    [\n",
    "        r\"bye|goodbye\",\n",
    "        [\"Goodbye!\", \"See you later!\", \"Bye!\"]\n",
    "    ]\n",
    "]\n",
    "\n",
    "# Create the chatbot\n",
    "chatbot = Chat(pairs, reflections)\n",
    "\n",
    "# Function to start the chatbot conversation\n",
    "def start_chat():\n",
    "    print(\"Hi! I'm a simple chatbot. Type 'bye' to exit.\")\n",
    "    while True:\n",
    "        user_input = input(\"You: \")\n",
    "        if user_input.lower() in [\"bye\", \"goodbye\"]:\n",
    "            print(\"Chatbot: Goodbye!\")\n",
    "            break\n",
    "        response = chatbot.respond(user_input)\n",
    "        print(f\"Chatbot: {response}\")\n",
    "\n",
    "# Start the chatbot conversation\n",
    "start_chat()\n"
   ]
  },
  {
   "cell_type": "markdown",
   "metadata": {},
   "source": [
    "91. Write a Python program that uses OpenCV to load an image, convert it to grayscale, and apply a Gaussian blur. Save and display the processed image."
   ]
  },
  {
   "cell_type": "code",
   "execution_count": null,
   "metadata": {},
   "outputs": [],
   "source": [
    "import cv2\n",
    "\n",
    "# Load the image\n",
    "image = cv2.imread('path_to_your_image.jpg')\n",
    "\n",
    "# Convert the image to grayscale\n",
    "gray_image = cv2.cvtColor(image, cv2.COLOR_BGR2GRAY)\n",
    "\n",
    "# Apply Gaussian blur\n",
    "blurred_image = cv2.GaussianBlur(gray_image, (5, 5), 0)\n",
    "\n",
    "# Save the processed image\n",
    "cv2.imwrite('processed_image.jpg', blurred_image)\n",
    "\n",
    "# Display the original and processed images\n",
    "cv2.imshow('Original Image', image)\n",
    "cv2.imshow('Processed Image', blurred_image)\n",
    "\n",
    "# Wait for a key press and close the image windows\n",
    "cv2.waitKey(0)\n",
    "cv2.destroyAllWindows()\n"
   ]
  },
  {
   "cell_type": "markdown",
   "metadata": {},
   "source": [
    "92. Write a Python program that implements a simple neural network from scratch using only NumPy. The network should have one hidden layer and should be trained using the backpropagation algorithm on a small dataset."
   ]
  },
  {
   "cell_type": "code",
   "execution_count": null,
   "metadata": {},
   "outputs": [],
   "source": [
    "import numpy as np\n",
    "\n",
    "# Activation function: Sigmoid\n",
    "def sigmoid(x):\n",
    "    return 1 / (1 + np.exp(-x))\n",
    "\n",
    "# Derivative of the sigmoid function\n",
    "def sigmoid_derivative(x):\n",
    "    return x * (1 - x)\n",
    "\n",
    "# Input dataset (XOR)\n",
    "inputs = np.array([[0, 0],\n",
    "                   [0, 1],\n",
    "                   [1, 0],\n",
    "                   [1, 1]])\n",
    "\n",
    "# Output dataset (XOR)\n",
    "outputs = np.array([[0],\n",
    "                    [1],\n",
    "                    [1],\n",
    "                    [0]])\n",
    "\n",
    "# Seed for reproducibility\n",
    "np.random.seed(42)\n",
    "\n",
    "# Initialize weights randomly with mean 0\n",
    "input_layer_neurons = inputs.shape[1]\n",
    "hidden_layer_neurons = 2\n",
    "output_neurons = 1\n",
    "\n",
    "# Weights and biases\n",
    "weights_input_hidden = np.random.uniform(size=(input_layer_neurons, hidden_layer_neurons))\n",
    "weights_hidden_output = np.random.uniform(size=(hidden_layer_neurons, output_neurons))\n",
    "bias_hidden = np.random.uniform(size=(1, hidden_layer_neurons))\n",
    "bias_output = np.random.uniform(size=(1, output_neurons))\n",
    "\n",
    "# Training parameters\n",
    "learning_rate = 0.1\n",
    "epochs = 10000\n",
    "\n",
    "# Training the neural network\n",
    "for epoch in range(epochs):\n",
    "    # Forward propagation\n",
    "    hidden_layer_input = np.dot(inputs, weights_input_hidden) + bias_hidden\n",
    "    hidden_layer_output = sigmoid(hidden_layer_input)\n",
    "    \n",
    "    output_layer_input = np.dot(hidden_layer_output, weights_hidden_output) + bias_output\n",
    "    predicted_output = sigmoid(output_layer_input)\n",
    "    \n",
    "    # Calculate error\n",
    "    error = outputs - predicted_output\n",
    "    \n",
    "    # Backpropagation\n",
    "    d_predicted_output = error * sigmoid_derivative(predicted_output)\n",
    "    \n",
    "    error_hidden_layer = d_predicted_output.dot(weights_hidden_output.T)\n",
    "    d_hidden_layer = error_hidden_layer * sigmoid_derivative(hidden_layer_output)\n",
    "    \n",
    "    # Update weights and biases\n",
    "    weights_hidden_output += hidden_layer_output.T.dot(d_predicted_output) * learning_rate\n",
    "    bias_output += np.sum(d_predicted_output, axis=0, keepdims=True) * learning_rate\n",
    "    weights_input_hidden += inputs.T.dot(d_hidden_layer) * learning_rate\n",
    "    bias_hidden += np.sum(d_hidden_layer, axis=0, keepdims=True) * learning_rate\n",
    "\n",
    "# Print final weights and biases\n",
    "print(\"Weights between input and hidden layer:\\n\", weights_input_hidden)\n",
    "print(\"Weights between hidden and output layer:\\n\", weights_hidden_output)\n",
    "print(\"Bias of hidden layer:\\n\", bias_hidden)\n",
    "print(\"Bias of output layer:\\n\", bias_output)\n",
    "\n",
    "# Test the neural network\n",
    "print(\"\\nPredicted Output:\\n\", predicted_output)\n"
   ]
  },
  {
   "cell_type": "markdown",
   "metadata": {},
   "source": [
    "93. Write a Flask application that connects to a SQLite database to store and retrieve user information. Implement routes to add a new user, retrieve all users, and delete a user by ID."
   ]
  },
  {
   "cell_type": "code",
   "execution_count": null,
   "metadata": {},
   "outputs": [],
   "source": [
    "from flask import Flask, request, jsonify\n",
    "import sqlite3\n",
    "\n",
    "app = Flask(__name__)\n",
    "\n",
    "# Initialize SQLite database\n",
    "def init_db():\n",
    "    conn = sqlite3.connect('users.db')\n",
    "    cursor = conn.cursor()\n",
    "    cursor.execute('''\n",
    "        CREATE TABLE IF NOT EXISTS users (\n",
    "            id INTEGER PRIMARY KEY AUTOINCREMENT,\n",
    "            name TEXT NOT NULL,\n",
    "            email TEXT NOT NULL UNIQUE\n",
    "        )\n",
    "    ''')\n",
    "    conn.commit()\n",
    "    conn.close()\n",
    "\n",
    "init_db()\n",
    "\n",
    "# Route to add a new user\n",
    "@app.route('/add_user', methods=['POST'])\n",
    "def add_user():\n",
    "    data = request.get_json()\n",
    "    name = data['name']\n",
    "    email = data['email']\n",
    "    \n",
    "    conn = sqlite3.connect('users.db')\n",
    "    cursor = conn.cursor()\n",
    "    cursor.execute('INSERT INTO users (name, email) VALUES (?, ?)', (name, email))\n",
    "    conn.commit()\n",
    "    conn.close()\n",
    "    \n",
    "    return jsonify({'message': 'User added successfully!'})\n",
    "\n",
    "# Route to retrieve all users\n",
    "@app.route('/users', methods=['GET'])\n",
    "def get_users():\n",
    "    conn = sqlite3.connect('users.db')\n",
    "    cursor = conn.cursor()\n",
    "    cursor.execute('SELECT * FROM users')\n",
    "    users = cursor.fetchall()\n",
    "    conn.close()\n",
    "    \n",
    "    return jsonify(users)\n",
    "\n",
    "# Route to delete a user by ID\n",
    "@app.route('/delete_user/<int:id>', methods=['DELETE'])\n",
    "def delete_user(id):\n",
    "    conn = sqlite3.connect('users.db')\n",
    "    cursor = conn.cursor()\n",
    "    cursor.execute('DELETE FROM users WHERE id = ?', (id,))\n",
    "    conn.commit()\n",
    "    conn.close()\n",
    "    \n",
    "    return jsonify({'message': 'User deleted successfully!'})\n",
    "\n",
    "if __name__ == '__main__':\n",
    "    app.run(debug=True)\n"
   ]
  },
  {
   "cell_type": "markdown",
   "metadata": {},
   "source": [
    "94. Write a Python program that uses Selenium to automate the process of logging into a website and navigating to a specific page. Provide instructions for testing the automation."
   ]
  },
  {
   "cell_type": "code",
   "execution_count": null,
   "metadata": {},
   "outputs": [],
   "source": [
    "pip install selenium\n",
    "from selenium import webdriver\n",
    "from selenium.webdriver.common.by import By\n",
    "from selenium.webdriver.common.keys import Keys\n",
    "import time\n",
    "\n",
    "# Initialize the Chrome driver\n",
    "driver = webdriver.Chrome()\n",
    "\n",
    "# Open the login page\n",
    "driver.get('https://example.com/login')\n",
    "\n",
    "# Find the username and password input fields\n",
    "username_field = driver.find_element(By.NAME, 'username')\n",
    "password_field = driver.find_element(By.NAME, 'password')\n",
    "\n",
    "# Enter your login credentials\n",
    "username_field.send_keys('your_username')\n",
    "password_field.send_keys('your_password')\n",
    "\n",
    "# Submit the login form\n",
    "password_field.send_keys(Keys.RETURN)\n",
    "\n",
    "# Wait for the login to complete\n",
    "time.sleep(5)\n",
    "\n",
    "# Navigate to the specific page\n",
    "driver.get('https://example.com/specific-page')\n",
    "\n",
    "# Wait for the page to load\n",
    "time.sleep(5)\n",
    "\n",
    "# Close the browser\n",
    "driver.quit()\n"
   ]
  },
  {
   "cell_type": "markdown",
   "metadata": {},
   "source": [
    "95. Write a Python program that uses Scikit-learn to build a logistic regression model to classify a dataset. Train the model on the Iris dataset, evaluate its accuracy, and print the results."
   ]
  },
  {
   "cell_type": "code",
   "execution_count": null,
   "metadata": {},
   "outputs": [],
   "source": [
    "# Import necessary libraries\n",
    "from sklearn.datasets import load_iris\n",
    "from sklearn.model_selection import train_test_split\n",
    "from sklearn.linear_model import LogisticRegression\n",
    "from sklearn.metrics import accuracy_score\n",
    "\n",
    "# Load the Iris dataset\n",
    "iris = load_iris()\n",
    "X = iris.data\n",
    "y = iris.target\n",
    "\n",
    "# Split the dataset into training and testing sets\n",
    "X_train, X_test, y_train, y_test = train_test_split(X, y, test_size=0.3, random_state=42)\n",
    "\n",
    "# Create a logistic regression model\n",
    "model = LogisticRegression(max_iter=200)\n",
    "\n",
    "# Train the model on the training data\n",
    "model.fit(X_train, y_train)\n",
    "\n",
    "# Make predictions on the testing data\n",
    "y_pred = model.predict(X_test)\n",
    "\n",
    "# Evaluate the model's accuracy\n",
    "accuracy = accuracy_score(y_test, y_pred)\n",
    "\n",
    "# Print the results\n",
    "print(f\"Accuracy of the logistic regression model: {accuracy:.2f}\")\n",
    "\n",
    "# Optional: Print the classification report for more detailed evaluation\n",
    "from sklearn.metrics import classification_report\n",
    "print(classification_report(y_test, y_pred, target_names=iris.target_names))\n"
   ]
  },
  {
   "cell_type": "markdown",
   "metadata": {},
   "source": [
    "96. Write a Python function called knapsack that solves the 0/1 knapsack problem using dynamic programming. Given a list of items with weights and values, and a maximum weight capacity, find the maximum value that can be obtained."
   ]
  },
  {
   "cell_type": "code",
   "execution_count": null,
   "metadata": {},
   "outputs": [],
   "source": [
    "def knapsack(values, weights, max_weight):\n",
    "    n = len(values)\n",
    "    # Create a 2D array to store the maximum value at each n and max_weight\n",
    "    dp = [[0 for _ in range(max_weight + 1)] for _ in range(n + 1)]\n",
    "\n",
    "    # Build the dp array\n",
    "    for i in range(1, n + 1):\n",
    "        for w in range(1, max_weight + 1):\n",
    "            if weights[i-1] <= w:\n",
    "                dp[i][w] = max(dp[i-1][w], dp[i-1][w-weights[i-1]] + values[i-1])\n",
    "            else:\n",
    "                dp[i][w] = dp[i-1][w]\n",
    "\n",
    "    return dp[n][max_weight]\n",
    "\n",
    "# Example usage\n",
    "values = [60, 100, 120]\n",
    "weights = [10, 20, 30]\n",
    "max_weight = 50\n",
    "print(f\"Maximum value in knapsack: {knapsack(values, weights, max_weight)}\")\n"
   ]
  },
  {
   "cell_type": "markdown",
   "metadata": {},
   "source": [
    "97. Write a Python program using the Scrapy framework to scrape product information (name, price, availability) from an e-commerce website and store the results in a CSV file."
   ]
  },
  {
   "cell_type": "code",
   "execution_count": null,
   "metadata": {},
   "outputs": [],
   "source": [
    "pip install scrapy\n",
    "scrapy startproject ecommerce_scraper\n",
    "import scrapy\n",
    "\n",
    "class ProductsSpider(scrapy.Spider):\n",
    "    name = \"products\"\n",
    "    start_urls = ['https://example-ecommerce-site.com/products']\n",
    "\n",
    "    def parse(self, response):\n",
    "        for product in response.css('div.product'):\n",
    "            yield {\n",
    "                'name': product.css('h2.product-name::text').get(),\n",
    "                'price': product.css('span.product-price::text').get(),\n",
    "                'availability': product.css('span.product-availability::text').get(),\n",
    "            }\n",
    "\n",
    "        # Follow pagination links\n",
    "        next_page = response.css('a.next-page::attr(href)').get()\n",
    "        if next_page is not None:\n",
    "            yield response.follow(next_page, self.parse)\n",
    "scrapy crawl products -o products.csv\n"
   ]
  },
  {
   "cell_type": "markdown",
   "metadata": {},
   "source": [
    "98. Write a Python program that uses TensorFlow to implement a simple convolutional neural network (CNN) for image classification. Train the network on the CIFAR-10 dataset and evaluate its performance."
   ]
  },
  {
   "cell_type": "code",
   "execution_count": null,
   "metadata": {},
   "outputs": [],
   "source": [
    "import tensorflow as tf\n",
    "from tensorflow.keras import datasets, layers, models\n",
    "import matplotlib.pyplot as plt\n",
    "\n",
    "# Load and preprocess the CIFAR-10 dataset\n",
    "(train_images, train_labels), (test_images, test_labels) = datasets.cifar10.load_data()\n",
    "\n",
    "# Normalize pixel values to be between 0 and 1\n",
    "train_images, test_images = train_images / 255.0, test_images / 255.0\n",
    "\n",
    "# Define the class names\n",
    "class_names = ['airplane', 'automobile', 'bird', 'cat', 'deer', 'dog', 'frog', 'horse', 'ship', 'truck']\n",
    "\n",
    "# Build the CNN model\n",
    "model = models.Sequential([\n",
    "    layers.Conv2D(32, (3, 3), activation='relu', input_shape=(32, 32, 3)),\n",
    "    layers.MaxPooling2D((2, 2)),\n",
    "    layers.Conv2D(64, (3, 3), activation='relu'),\n",
    "    layers.MaxPooling2D((2, 2)),\n",
    "    layers.Conv2D(64, (3, 3), activation='relu'),\n",
    "    layers.Flatten(),\n",
    "    layers.Dense(64, activation='relu'),\n",
    "    layers.Dense(10)\n",
    "])\n",
    "\n",
    "# Compile the model\n",
    "model.compile(optimizer='adam',\n",
    "              loss=tf.keras.losses.SparseCategoricalCrossentropy(from_logits=True),\n",
    "              metrics=['accuracy'])\n",
    "\n",
    "# Train the model\n",
    "history = model.fit(train_images, train_labels, epochs=10, \n",
    "                    validation_data=(test_images, test_labels))\n",
    "\n",
    "# Evaluate the model\n",
    "test_loss, test_acc = model.evaluate(test_images, test_labels, verbose=2)\n",
    "print(f'\\nTest accuracy: {test_acc:.2f}')\n",
    "\n",
    "# Plot training and validation accuracy\n",
    "plt.plot(history.history['accuracy'], label='accuracy')\n",
    "plt.plot(history.history['val_accuracy'], label = 'val_accuracy')\n",
    "plt.xlabel('Epoch')\n",
    "plt.ylabel('Accuracy')\n",
    "plt.ylim([0, 1])\n",
    "plt.legend(loc='lower right')\n",
    "plt.show()\n"
   ]
  },
  {
   "cell_type": "markdown",
   "metadata": {},
   "source": [
    "99. Write a Python program that uses PyTorch to implement a simple recurrent neural network (RNN) for text classification. Train the network on a small text dataset and print the accuracy."
   ]
  },
  {
   "cell_type": "code",
   "execution_count": null,
   "metadata": {},
   "outputs": [],
   "source": [
    "import torch\n",
    "import torch.nn as nn\n",
    "import torch.optim as optim\n",
    "from torchtext.legacy import data, datasets\n",
    "\n",
    "# Define the fields for the dataset\n",
    "TEXT = data.Field(tokenize='spacy', tokenizer_language='en_core_web_sm')\n",
    "LABEL = data.LabelField(dtype=torch.float)\n",
    "\n",
    "# Load the IMDb dataset\n",
    "train_data, test_data = datasets.IMDB.splits(TEXT, LABEL)\n",
    "\n",
    "# Build the vocabulary\n",
    "TEXT.build_vocab(train_data, max_size=25000)\n",
    "LABEL.build_vocab(train_data)\n",
    "\n",
    "# Create iterators for the dataset\n",
    "train_iterator, test_iterator = data.BucketIterator.splits(\n",
    "    (train_data, test_data),\n",
    "    batch_size=64,\n",
    "    device=torch.device('cuda' if torch.cuda.is_available() else 'cpu')\n",
    ")\n",
    "\n",
    "# Define the RNN model\n",
    "class RNN(nn.Module):\n",
    "    def __init__(self, input_dim, embedding_dim, hidden_dim, output_dim):\n",
    "        super().__init__()\n",
    "        self.embedding = nn.Embedding(input_dim, embedding_dim)\n",
    "        self.rnn = nn.RNN(embedding_dim, hidden_dim)\n",
    "        self.fc = nn.Linear(hidden_dim, output_dim)\n",
    "    \n",
    "    def forward(self, text):\n",
    "        embedded = self.embedding(text)\n",
    "        output, hidden = self.rnn(embedded)\n",
    "        return self.fc(hidden.squeeze(0))\n",
    "\n",
    "# Initialize the model, optimizer, and loss function\n",
    "input_dim = len(TEXT.vocab)\n",
    "embedding_dim = 100\n",
    "hidden_dim = 256\n",
    "output_dim = 1\n",
    "\n",
    "model = RNN(input_dim, embedding_dim, hidden_dim, output_dim)\n",
    "optimizer = optim.Adam(model.parameters())\n",
    "criterion = nn.BCEWithLogitsLoss()\n",
    "\n",
    "# Train the model\n",
    "def train(model, iterator, optimizer, criterion):\n",
    "    epoch_loss = 0\n",
    "    epoch_acc = 0\n",
    "    model.train()\n",
    "    \n",
    "    for batch in iterator:\n",
    "        optimizer.zero_grad()\n",
    "        predictions = model(batch.text).squeeze(1)\n",
    "        loss = criterion(predictions, batch.label)\n",
    "        acc = binary_accuracy(predictions, batch.label)\n",
    "        loss.backward()\n",
    "        optimizer.step()\n",
    "        epoch_loss += loss.item()\n",
    "        epoch_acc += acc.item()\n",
    "    \n",
    "    return epoch_loss / len(iterator), epoch_acc / len(iterator)\n",
    "\n",
    "# Evaluate the model\n",
    "def evaluate(model, iterator, criterion):\n",
    "    epoch_loss = 0\n",
    "    epoch_acc = 0\n",
    "    model.eval()\n",
    "    \n",
    "    with torch.no_grad():\n",
    "        for batch in iterator:\n",
    "            predictions = model(batch.text).squeeze(1)\n",
    "            loss = criterion(predictions, batch.label)\n",
    "            acc = binary_accuracy(predictions, batch.label)\n",
    "            epoch_loss += loss.item()\n",
    "            epoch_acc += acc.item()\n",
    "    \n",
    "    return epoch_loss / len(iterator), epoch_acc / len(iterator)\n",
    "\n",
    "# Calculate binary accuracy\n",
    "def binary_accuracy(preds, y):\n",
    "    rounded_preds = torch.round(torch.sigmoid(preds))\n",
    "    correct = (rounded_preds == y).float()\n",
    "    return correct.sum() / len(correct)\n",
    "\n",
    "# Training loop\n",
    "N_EPOCHS = 5\n",
    "\n",
    "for epoch in range(N_EPOCHS):\n",
    "    train_loss, train_acc = train(model, train_iterator, optimizer, criterion)\n",
    "    test_loss, test_acc = evaluate(model, test_iterator, criterion)\n",
    "    \n",
    "    print(f'Epoch: {epoch+1}')\n",
    "    print(f'\\tTrain Loss: {train_loss:.3f} | Train Acc: {train_acc*100:.2f}%')\n",
    "    print(f'\\tTest Loss: {test_loss:.3f} | Test Acc: {test_acc*100:.2f}%')\n"
   ]
  },
  {
   "cell_type": "markdown",
   "metadata": {},
   "source": [
    "100. Write a Python program that builds a recommendation system using collaborative filtering. Use a sample dataset of user-item interactions, and recommend items to a user based on similar users' preferences."
   ]
  },
  {
   "cell_type": "code",
   "execution_count": null,
   "metadata": {},
   "outputs": [],
   "source": [
    "pip install numpy pandas scikit-learn\n",
    "import numpy as np\n",
    "import pandas as pd\n",
    "from sklearn.metrics.pairwise import cosine_similarity\n",
    "from sklearn.model_selection import train_test_split\n",
    "\n",
    "# Sample dataset of user-item interactions\n",
    "data = {\n",
    "    'user_id': [1, 1, 1, 2, 2, 3, 3, 4, 4, 4],\n",
    "    'item_id': [1, 2, 3, 1, 3, 2, 3, 1, 2, 3],\n",
    "    'rating': [5, 3, 4, 4, 5, 2, 3, 5, 4, 2]\n",
    "}\n",
    "\n",
    "df = pd.DataFrame(data)\n",
    "\n",
    "# Create a user-item matrix\n",
    "user_item_matrix = df.pivot_table(index='user_id', columns='item_id', values='rating').fillna(0)\n",
    "\n",
    "# Calculate cosine similarity between users\n",
    "user_similarity = cosine_similarity(user_item_matrix)\n",
    "user_similarity_df = pd.DataFrame(user_similarity, index=user_item_matrix.index, columns=user_item_matrix.index)\n",
    "\n",
    "# Function to get recommendations for a user\n",
    "def get_recommendations(user_id, num_recommendations=2):\n",
    "    similar_users = user_similarity_df[user_id].sort_values(ascending=False).index[1:]\n",
    "    user_ratings = user_item_matrix.loc[user_id]\n",
    "    recommendations = pd.Series()\n",
    "\n",
    "    for similar_user in similar_users:\n",
    "        similar_user_ratings = user_item_matrix.loc[similar_user]\n",
    "        for item in similar_user_ratings.index:\n",
    "            if user_ratings[item] == 0 and similar_user_ratings[item] > 0:\n",
    "                if item not in recommendations:\n",
    "                    recommendations[item] = similar_user_ratings[item]\n",
    "                else:\n",
    "                    recommendations[item] += similar_user_ratings[item]\n",
    "\n",
    "    recommendations = recommendations.sort_values(ascending=False).head(num_recommendations)\n",
    "    return recommendations.index.tolist()\n",
    "\n",
    "# Example usage\n",
    "user_id = 1\n",
    "recommended_items = get_recommendations(user_id)\n",
    "print(f\"Recommended items for user {user_id}: {recommended_items}\")\n"
   ]
  },
  {
   "cell_type": "markdown",
   "metadata": {},
   "source": [
    "#### MODEL: TABNINE"
   ]
  },
  {
   "cell_type": "markdown",
   "metadata": {},
   "source": [
    "1. Write a Python program that prints the string 'Hello, World!' to the console"
   ]
  },
  {
   "cell_type": "code",
   "execution_count": null,
   "metadata": {},
   "outputs": [],
   "source": [
    "print('Hello, World!')"
   ]
  },
  {
   "cell_type": "markdown",
   "metadata": {},
   "source": [
    "2. Write a Python program that concatenates the strings 'Hello' and 'World' with a space in between and prints the result"
   ]
  },
  {
   "cell_type": "code",
   "execution_count": null,
   "metadata": {},
   "outputs": [],
   "source": [
    "string1 = 'Hello'\n",
    "string2 = 'World'\n",
    "concatenated_string = string1 + ' ' + string2\n",
    "print(concatenated_string)"
   ]
  },
  {
   "cell_type": "markdown",
   "metadata": {},
   "source": [
    "3. Create a Python list containing the numbers 1, 2, and 3. Print the list to the console."
   ]
  },
  {
   "cell_type": "code",
   "execution_count": null,
   "metadata": {},
   "outputs": [],
   "source": [
    "numbers = [1, 2, 3]\n",
    "print(numbers)"
   ]
  },
  {
   "cell_type": "markdown",
   "metadata": {},
   "source": [
    "4. Write a Python program that adds the number 4 to the list [1, 2, 3] and prints the updated list."
   ]
  },
  {
   "cell_type": "code",
   "execution_count": null,
   "metadata": {},
   "outputs": [],
   "source": [
    "numbers = [1, 2, 3]\n",
    "numbers.append(4)\n",
    "print(numbers)"
   ]
  },
  {
   "cell_type": "markdown",
   "metadata": {},
   "source": [
    "5. Write a Python program that removes the number 2 from the list [1, 2, 3] and prints the updated list"
   ]
  },
  {
   "cell_type": "code",
   "execution_count": null,
   "metadata": {},
   "outputs": [],
   "source": [
    "numbers = [1, 2, 3]\n",
    "numbers.remove(2)\n",
    "print(numbers)"
   ]
  },
  {
   "cell_type": "markdown",
   "metadata": {},
   "source": [
    "6. Write a Python program that sorts the list [3, 1, 2] in ascending order and prints the sorted list"
   ]
  },
  {
   "cell_type": "code",
   "execution_count": null,
   "metadata": {},
   "outputs": [],
   "source": [
    "numbers = [3, 1, 2]\n",
    "numbers.sort()\n",
    "print(numbers)"
   ]
  },
  {
   "cell_type": "markdown",
   "metadata": {},
   "source": [
    "7. Write a Python program that reverses the list [1, 2, 3] and prints the reversed list."
   ]
  },
  {
   "cell_type": "code",
   "execution_count": null,
   "metadata": {},
   "outputs": [],
   "source": [
    "numbers = [1, 2, 3]\n",
    "numbers.reverse()\n",
    "print(numbers)"
   ]
  },
  {
   "cell_type": "markdown",
   "metadata": {},
   "source": [
    "8. Create a Python dictionary with the keys 'a', 'b', and 'c' and corresponding values 1, 2, and 3. Print the dictionary to the console."
   ]
  },
  {
   "cell_type": "code",
   "execution_count": null,
   "metadata": {},
   "outputs": [],
   "source": [
    "dictionary = {'a': 1, 'b': 2, 'c': 3}\n",
    "print(dictionary)"
   ]
  },
  {
   "cell_type": "markdown",
   "metadata": {},
   "source": [
    "9. Write a Python program that accesses the value associated with the key 'b' in the dictionary {'a': 1, 'b': 2, 'c': 3} and prints it"
   ]
  },
  {
   "cell_type": "code",
   "execution_count": null,
   "metadata": {},
   "outputs": [],
   "source": [
    "dictionary = {'a': 1, 'b': 2, 'c': 3}\n",
    "value = dictionary['b']\n",
    "print(value)"
   ]
  },
  {
   "cell_type": "markdown",
   "metadata": {},
   "source": [
    "10. Create a tuple (1, 2, 3) and print the first element of the tuple"
   ]
  },
  {
   "cell_type": "code",
   "execution_count": null,
   "metadata": {},
   "outputs": [],
   "source": [
    "tuple_example = (1, 2, 3)\n",
    "print(tuple_example[0])"
   ]
  },
  {
   "cell_type": "markdown",
   "metadata": {},
   "source": [
    "11. Write a Python program that checks if a number is greater than 10. If it is, print 'Greater', otherwise print 'Not Greater'"
   ]
  },
  {
   "cell_type": "code",
   "execution_count": null,
   "metadata": {},
   "outputs": [],
   "source": [
    "number = 15\n",
    "if number > 10:\n",
    "    print('Greater')\n",
    "else:\n",
    "    print('Not Greater')"
   ]
  },
  {
   "cell_type": "markdown",
   "metadata": {},
   "source": [
    "12. Write a Python program that uses a for loop to iterate over the list [1, 2, 3] and prints each element.\""
   ]
  },
  {
   "cell_type": "code",
   "execution_count": null,
   "metadata": {},
   "outputs": [],
   "source": [
    "numbers = [1, 2, 3]\n",
    "for number in numbers:\n",
    "    print(number)"
   ]
  },
  {
   "cell_type": "markdown",
   "metadata": {},
   "source": [
    "13. Write a Python program that uses a while loop to print the numbers from 1 to 5."
   ]
  },
  {
   "cell_type": "code",
   "execution_count": null,
   "metadata": {},
   "outputs": [],
   "source": [
    "number = 1\n",
    "while number <= 5:\n",
    "    print(number)\n",
    "    number += 1"
   ]
  },
  {
   "cell_type": "markdown",
   "metadata": {},
   "source": [
    "14. Write a Python function called greet that takes no arguments and prints 'Hello!' when called."
   ]
  },
  {
   "cell_type": "code",
   "execution_count": null,
   "metadata": {},
   "outputs": [],
   "source": [
    "with open('example.txt', 'r') as file:\n",
    "    contents = file.read()\n",
    "    print(contents)"
   ]
  },
  {
   "cell_type": "markdown",
   "metadata": {},
   "source": [
    "15. Write a Python function called add that takes two arguments and returns their sum. Call the function with the arguments 3 and 5, and print the result."
   ]
  },
  {
   "cell_type": "code",
   "execution_count": null,
   "metadata": {},
   "outputs": [],
   "source": [
    "def add(a, b):\n",
    "    return a + b\n",
    "\n",
    "result = add(3, 5)\n",
    "print(result)"
   ]
  },
  {
   "cell_type": "markdown",
   "metadata": {},
   "source": [
    "16. Write a Python function called square that takes a number as an argument and returns its square. Call the function with the argument 4, and print the result"
   ]
  },
  {
   "cell_type": "code",
   "execution_count": null,
   "metadata": {},
   "outputs": [],
   "source": [
    "def square(number):\n",
    "    return number ** 2\n",
    "\n",
    "result = square(4)\n",
    "print(result)"
   ]
  },
  {
   "cell_type": "markdown",
   "metadata": {},
   "source": [
    "17. Write a Python program that opens a file named 'example.txt' in read mode and prints its contents to the console."
   ]
  },
  {
   "cell_type": "code",
   "execution_count": null,
   "metadata": {},
   "outputs": [],
   "source": [
    "with open('example.txt', 'r') as file:\n",
    "    contents = file.read()\n",
    "    print(contents)"
   ]
  },
  {
   "cell_type": "markdown",
   "metadata": {},
   "source": [
    "18. Write a Python program that opens a file named 'output.txt' in write mode, writes the string 'Hello, World!' to the file, and then closes the file."
   ]
  },
  {
   "cell_type": "code",
   "execution_count": null,
   "metadata": {},
   "outputs": [],
   "source": [
    "with open('output.txt', 'w') as file:\n",
    "    file.write('Hello, World!')"
   ]
  },
  {
   "cell_type": "markdown",
   "metadata": {},
   "source": [
    "19. Write a Python program that opens a file named 'output.txt' in append mode, writes the string 'Appending this line.' to the file, and then closes the file."
   ]
  },
  {
   "cell_type": "code",
   "execution_count": null,
   "metadata": {},
   "outputs": [],
   "source": [
    "with open('output.txt', 'a') as file:\n",
    "    file.write('Appending this line.\\n')"
   ]
  },
  {
   "cell_type": "markdown",
   "metadata": {},
   "source": [
    "20. Write a Python program that opens a file named 'example.txt' in read mode and prints each line to the console, one by one."
   ]
  },
  {
   "cell_type": "code",
   "execution_count": null,
   "metadata": {},
   "outputs": [],
   "source": [
    "with open('example.txt', 'r') as file:\n",
    "    for line in file:\n",
    "        print(line.strip())"
   ]
  },
  {
   "cell_type": "markdown",
   "metadata": {},
   "source": [
    "21. Write a Python program that raises a ValueError with the message 'An error occurred'."
   ]
  },
  {
   "cell_type": "code",
   "execution_count": null,
   "metadata": {},
   "outputs": [],
   "source": [
    "raise ValueError('An error occurred')"
   ]
  },
  {
   "cell_type": "markdown",
   "metadata": {},
   "source": [
    "22. Write a Python program that uses a for loop to iterate over the numbers 1 to 10. If the number is 5, break out of the loop."
   ]
  },
  {
   "cell_type": "code",
   "execution_count": null,
   "metadata": {},
   "outputs": [],
   "source": [
    "for number in range(1, 11):\n",
    "    if number == 5:\n",
    "        break\n",
    "    print(number)"
   ]
  },
  {
   "cell_type": "markdown",
   "metadata": {},
   "source": [
    "23. Write a Python program that uses a for loop to iterate over the numbers 1 to 5. If the number is 3, skip printing it and continue with the next iteration"
   ]
  },
  {
   "cell_type": "code",
   "execution_count": null,
   "metadata": {},
   "outputs": [],
   "source": [
    "for number in range(1, 6):\n",
    "    if number == 3:\n",
    "        continue\n",
    "    print(number)"
   ]
  },
  {
   "cell_type": "markdown",
   "metadata": {},
   "source": [
    "24. Write a Python program that attempts to divide 10 by 0 inside a try block, catches the resulting ZeroDivisionError in an except block, and prints 'Cannot divide by zero.'"
   ]
  },
  {
   "cell_type": "code",
   "execution_count": null,
   "metadata": {},
   "outputs": [],
   "source": [
    "try:\n",
    "    result = 10 / 0\n",
    "except ZeroDivisionError:\n",
    "    print('Cannot divide by zero.')"
   ]
  },
  {
   "cell_type": "markdown",
   "metadata": {},
   "source": [
    "25. Write a Python program that removes duplicates from the list [1, 2, 2, 3, 4, 4, 5] using a set, and prints the resulting list."
   ]
  },
  {
   "cell_type": "code",
   "execution_count": null,
   "metadata": {},
   "outputs": [],
   "source": [
    "numbers = [1, 2, 2, 3, 4, 4, 5]\n",
    "unique_numbers = list(set(numbers))\n",
    "print(unique_numbers)"
   ]
  },
  {
   "cell_type": "markdown",
   "metadata": {},
   "source": [
    "26. Write a Python program that defines a lambda function to double a number. Use the lambda function to double the number 4 and print the result."
   ]
  },
  {
   "cell_type": "code",
   "execution_count": null,
   "metadata": {},
   "outputs": [],
   "source": [
    "double = lambda x: x * 2\n",
    "result = double(4)\n",
    "print(result)"
   ]
  },
  {
   "cell_type": "markdown",
   "metadata": {},
   "source": [
    "27. Write a Python function called greet that takes a name as an argument and prints 'Hello, [name]!' where [name] is the argument. If no name is provided, default to 'World'. Call the function without arguments and then with the argument 'Alice'"
   ]
  },
  {
   "cell_type": "code",
   "execution_count": null,
   "metadata": {},
   "outputs": [],
   "source": [
    "def greet(name='World'):\n",
    "    print(f'Hello, {name}!')\n",
    "\n",
    "greet()  # Output: Hello, World!\n",
    "greet('Alice')  # Output: Hello, Alice!"
   ]
  },
  {
   "cell_type": "markdown",
   "metadata": {},
   "source": [
    "28. Write a Python function called apply that takes another function and a number as arguments, applies the function to the number, and returns the result. Define a separate function called square that squares a number. Pass square and 3 as arguments to apply, and print the result."
   ]
  },
  {
   "cell_type": "code",
   "execution_count": null,
   "metadata": {},
   "outputs": [],
   "source": [
    "def apply(func, num):\n",
    "    return func(num)\n",
    "\n",
    "def square(num):\n",
    "    return num ** 2\n",
    "\n",
    "result = apply(square, 3)\n",
    "print(result)  # Output: 9"
   ]
  },
  {
   "cell_type": "markdown",
   "metadata": {},
   "source": [
    "29. Write a Python program that checks if a file named 'example.txt' exists in the current directory. If it does, print 'File exists', otherwise print 'File does not exist'"
   ]
  },
  {
   "cell_type": "code",
   "execution_count": null,
   "metadata": {},
   "outputs": [],
   "source": [
    "import os\n",
    "\n",
    "file_name = 'example.txt'\n",
    "\n",
    "if os.path.exists(file_name):\n",
    "    print('File exists')\n",
    "else:\n",
    "    print('File does not exist')"
   ]
  },
  {
   "cell_type": "markdown",
   "metadata": {},
   "source": [
    "30. Write a Python program that deletes a file named 'unnecessary.txt'. If the file does not exist, print 'File not found'"
   ]
  },
  {
   "cell_type": "code",
   "execution_count": null,
   "metadata": {},
   "outputs": [],
   "source": [
    "import os\n",
    "\n",
    "file_name = 'unnecessary.txt'\n",
    "\n",
    "if os.path.exists(file_name):\n",
    "    os.remove(file_name)\n",
    "    print('File deleted')\n",
    "else:\n",
    "    print('File not found')"
   ]
  },
  {
   "cell_type": "markdown",
   "metadata": {},
   "source": [
    "31. Write a Python class called Person that has a single attribute name. Instantiate an object of the class with the name 'Alice' and print the name."
   ]
  },
  {
   "cell_type": "code",
   "execution_count": null,
   "metadata": {},
   "outputs": [],
   "source": [
    "class Person:\n",
    "    def __init__(self, name):\n",
    "        self.name = name\n",
    "\n",
    "person = Person('Alice')\n",
    "print(person.name)  # Output: Alice"
   ]
  },
  {
   "cell_type": "markdown",
   "metadata": {},
   "source": [
    "32. Write a Python class called Car with an attribute model. Create an instance of Car with the model 'Toyota' and print the model."
   ]
  },
  {
   "cell_type": "code",
   "execution_count": null,
   "metadata": {},
   "outputs": [],
   "source": [
    "class Car:\n",
    "    def __init__(self, model):\n",
    "        self.model = model\n",
    "\n",
    "car = Car('Toyota')\n",
    "print(car.model)  # Output: Toyota"
   ]
  },
  {
   "cell_type": "markdown",
   "metadata": {},
   "source": [
    "33. Write a Python program that uses a list comprehension to create a list of squares for the numbers 1 through 5, and prints the resulting list. "
   ]
  },
  {
   "cell_type": "code",
   "execution_count": null,
   "metadata": {},
   "outputs": [],
   "source": [
    "squares = [x ** 2 for x in range(1, 6)]\n",
    "print(squares)  # Output: [1, 4, 9, 16, 25]"
   ]
  },
  {
   "cell_type": "markdown",
   "metadata": {},
   "source": [
    "34. Write a Python program that uses a for loop to sum the numbers in the list [1, 2, 3, 4, 5] and prints the result."
   ]
  },
  {
   "cell_type": "code",
   "execution_count": null,
   "metadata": {},
   "outputs": [],
   "source": [
    "numbers = [1, 2, 3, 4, 5]\n",
    "total = 0\n",
    "\n",
    "for num in numbers:\n",
    "    total += num\n",
    "\n",
    "print(total)  # Output: 15"
   ]
  },
  {
   "cell_type": "markdown",
   "metadata": {},
   "source": [
    "35. Write a Python program that generates a random number between 1 and 10 and prints it. "
   ]
  },
  {
   "cell_type": "code",
   "execution_count": null,
   "metadata": {},
   "outputs": [],
   "source": [
    "import random\n",
    "\n",
    "random_number = random.randint(1, 10)\n",
    "print(random_number)"
   ]
  },
  {
   "cell_type": "markdown",
   "metadata": {},
   "source": [
    "36. Write a Python program that measures and prints the time it takes to execute a for loop that sums the numbers from 1 to 1,000,000."
   ]
  },
  {
   "cell_type": "code",
   "execution_count": null,
   "metadata": {},
   "outputs": [],
   "source": [
    "import time\n",
    "\n",
    "start_time = time.time()\n",
    "\n",
    "total = 0\n",
    "for num in range(1, 1000001):\n",
    "    total += num\n",
    "\n",
    "end_time = time.time()\n",
    "execution_time = end_time - start_time\n",
    "\n",
    "print(f'Execution time: {execution_time} seconds')"
   ]
  },
  {
   "cell_type": "markdown",
   "metadata": {},
   "source": [
    "37. Write a Python decorator called my_decorator that prints 'Starting' before the decorated function is called, and 'Finished' after the function is called. Apply this decorator to a function that prints 'Hello!' and then call the decorated function."
   ]
  },
  {
   "cell_type": "code",
   "execution_count": null,
   "metadata": {},
   "outputs": [],
   "source": [
    "def my_decorator(func):\n",
    "    def wrapper():\n",
    "        print('Starting')\n",
    "        func()\n",
    "        print('Finished')\n",
    "    return wrapper\n",
    "\n",
    "@my_decorator\n",
    "def hello():\n",
    "    print('Hello!')\n",
    "\n",
    "hello()"
   ]
  },
  {
   "cell_type": "markdown",
   "metadata": {},
   "source": [
    "38. Write a Python class called BankAccount with a private attribute _balance. Implement methods to deposit and withdraw money, and a method to print the current balance."
   ]
  },
  {
   "cell_type": "code",
   "execution_count": null,
   "metadata": {},
   "outputs": [],
   "source": [
    "class BankAccount:\n",
    "    def __init__(self):\n",
    "        self._balance = 0\n",
    "\n",
    "    def deposit(self, amount):\n",
    "        if amount > 0:\n",
    "            self._balance += amount\n",
    "        else:\n",
    "            print('Invalid deposit amount')\n",
    "\n",
    "    def withdraw(self, amount):\n",
    "        if amount > 0 and amount <= self._balance:\n",
    "            self._balance -= amount\n",
    "        else:\n",
    "            print('Invalid withdrawal amount')\n",
    "\n",
    "    def print_balance(self):\n",
    "        print(f'Current balance: {self._balance}')\n",
    "\n",
    "# Example usage:\n",
    "account = BankAccount()\n",
    "account.deposit(1000)\n",
    "account.withdraw(500)\n",
    "account.print_balance()  # Output: Current balance: 500"
   ]
  },
  {
   "cell_type": "markdown",
   "metadata": {},
   "source": [
    "39. Write a Python program that creates a 2D list representing a matrix with the following values: [[1, 2], [3, 4]]. Print the element in the first row and second column."
   ]
  },
  {
   "cell_type": "code",
   "execution_count": null,
   "metadata": {},
   "outputs": [],
   "source": [
    "matrix = [[1, 2], [3, 4]]\n",
    "\n",
    "# Print the element in the first row and second column\n",
    "element = matrix[0][1]\n",
    "print(element)  # Output: 2"
   ]
  },
  {
   "cell_type": "markdown",
   "metadata": {},
   "source": [
    "40. Write a Python decorator called log_function_call that logs the name of a function each time it is called. Apply this decorator to a function that prints 'Executing function' and then call the decorated function."
   ]
  },
  {
   "cell_type": "code",
   "execution_count": null,
   "metadata": {},
   "outputs": [],
   "source": [
    "def log_function_call(func):\n",
    "    def wrapper(*args, **kwargs):\n",
    "        print(f'Calling function: {func.__name__}')\n",
    "        result = func(*args, **kwargs)\n",
    "        return result\n",
    "    return wrapper\n",
    "\n",
    "@log_function_call\n",
    "def execute_function():\n",
    "    print('Executing function')\n",
    "\n",
    "execute_function()"
   ]
  },
  {
   "cell_type": "markdown",
   "metadata": {},
   "source": [
    "41. Write a Python class called Stack that implements a stack using a list. Implement methods push, pop, and is_empty. Demonstrate the stack operations by pushing and popping some elements."
   ]
  },
  {
   "cell_type": "code",
   "execution_count": null,
   "metadata": {},
   "outputs": [],
   "source": [
    "class Stack:\n",
    "    def __init__(self):\n",
    "        self.stack = []\n",
    "\n",
    "    def push(self, item):\n",
    "        self.stack.append(item)\n",
    "\n",
    "    def pop(self):\n",
    "        if not self.is_empty():\n",
    "            return self.stack.pop()\n",
    "        else:\n",
    "            return None\n",
    "\n",
    "    def is_empty(self):\n",
    "        return len(self.stack) == 0\n",
    "\n",
    "# Demonstrate stack operations\n",
    "stack = Stack()\n",
    "stack.push(1)\n",
    "stack.push(2)\n",
    "stack.push(3)\n",
    "\n",
    "print(stack.pop())  # Output: 3\n",
    "print(stack.pop())  # Output: 2\n",
    "print(stack.pop())  # Output: 1\n",
    "print(stack.pop())  # Output: None (since the stack is empty)"
   ]
  },
  {
   "cell_type": "markdown",
   "metadata": {},
   "source": [
    "42. Write a Python class called Queue that implements a queue using a list. Implement methods enqueue, dequeue, and is_empty. Demonstrate the queue operations by enqueueing and dequeueing some elements.\" "
   ]
  },
  {
   "cell_type": "code",
   "execution_count": null,
   "metadata": {},
   "outputs": [],
   "source": [
    "class Queue:\n",
    "    def __init__(self):\n",
    "        self.queue = []\n",
    "\n",
    "    def enqueue(self, item):\n",
    "        self.queue.append(item)\n",
    "\n",
    "    def dequeue(self):\n",
    "        if not self.is_empty():\n",
    "            return self.queue.pop(0)\n",
    "        else:\n",
    "            return None\n",
    "\n",
    "    def is_empty(self):\n",
    "        return len(self.queue) == 0\n",
    "\n",
    "# Demonstrate queue operations\n",
    "queue = Queue()\n",
    "queue.enqueue(1)\n",
    "queue.enqueue(2)\n",
    "queue.enqueue(3)\n",
    "\n",
    "print(queue.dequeue())  # Output: 1\n",
    "print(queue.dequeue())  # Output: 2\n",
    "print(queue.dequeue())  # Output: 3\n",
    "print(queue.dequeue())  # Output: None (since the queue is empty)"
   ]
  },
  {
   "cell_type": "markdown",
   "metadata": {},
   "source": [
    "43. Write a Python function called factorial that calculates the factorial of a number using recursion. Calculate the factorial of 5 and print the result."
   ]
  },
  {
   "cell_type": "code",
   "execution_count": null,
   "metadata": {},
   "outputs": [],
   "source": [
    "def factorial(n):\n",
    "    if n == 0:\n",
    "        return 1\n",
    "    else:\n",
    "        return n * factorial(n - 1)\n",
    "\n",
    "result = factorial(5)\n",
    "print(result)  # Output: 120"
   ]
  },
  {
   "cell_type": "markdown",
   "metadata": {},
   "source": [
    "44. Write a Python class called Counter with a class attribute count that tracks the number of instances created. Implement a class method increment that increments count each time a new instance is created. Demonstrate this by creating multiple instances and printing count."
   ]
  },
  {
   "cell_type": "code",
   "execution_count": null,
   "metadata": {},
   "outputs": [],
   "source": [
    "class Counter:\n",
    "    count = 0\n",
    "\n",
    "    def __init__(self):\n",
    "        Counter.increment()\n",
    "\n",
    "    @classmethod\n",
    "    def increment(cls):\n",
    "        cls.count += 1\n",
    "\n",
    "# Demonstrate the Counter class\n",
    "instance1 = Counter()\n",
    "instance2 = Counter()\n",
    "instance3 = Counter()\n",
    "\n",
    "print(Counter.count)  # Output: 3"
   ]
  },
  {
   "cell_type": "markdown",
   "metadata": {},
   "source": [
    "45. Write a Python class called Animal with a method speak that prints 'Animal sound'. Create a subclass Dog that overrides speak to print 'Bark'. Instantiate Dog and call speak."
   ]
  },
  {
   "cell_type": "code",
   "execution_count": null,
   "metadata": {},
   "outputs": [],
   "source": [
    "class Animal:\n",
    "    def speak(self):\n",
    "        print('Animal sound')\n",
    "\n",
    "class Dog(Animal):\n",
    "    def speak(self):\n",
    "        print('Bark')\n",
    "\n",
    "# Instantiate Dog and call speak\n",
    "dog = Dog()\n",
    "dog.speak()  # Output: Bark"
   ]
  },
  {
   "cell_type": "markdown",
   "metadata": {},
   "source": [
    "46. Write a Python class called Vehicle with a method move that prints 'Moving'. Create a subclass Car that overrides move to print 'Driving'. Instantiate Car and call move."
   ]
  },
  {
   "cell_type": "code",
   "execution_count": null,
   "metadata": {},
   "outputs": [],
   "source": [
    "class Vehicle:\n",
    "    def move(self):\n",
    "        print('Moving')\n",
    "\n",
    "class Car(Vehicle):\n",
    "    def move(self):\n",
    "        print('Driving')\n",
    "\n",
    "# Instantiate Car and call move\n",
    "car = Car()\n",
    "car.move()  # Output: Driving"
   ]
  },
  {
   "cell_type": "markdown",
   "metadata": {},
   "source": [
    "47. Write a Python program that sorts a list of dictionaries by the key 'age'. For example, given people = [{'name': 'Alice', 'age': 25}, {'name': 'Bob', 'age': 20}], sort the list by age and print the sorted list."
   ]
  },
  {
   "cell_type": "code",
   "execution_count": null,
   "metadata": {},
   "outputs": [],
   "source": [
    "people = [{'name': 'Alice', 'age': 25}, {'name': 'Bob', 'age': 20}]\n",
    "\n",
    "# Sort the list of dictionaries by the key 'age'\n",
    "sorted_people = sorted(people, key=lambda x: x['age'])\n",
    "\n",
    "# Print the sorted list\n",
    "for person in sorted_people:\n",
    "    print(person)"
   ]
  },
  {
   "cell_type": "markdown",
   "metadata": {},
   "source": [
    "48. Write a Python function called linear_search that takes a list and a target value, and returns the index of the target value if found, or -1 if not found. Use this function to search for the value 3 in the list [1, 2, 3, 4, 5]."
   ]
  },
  {
   "cell_type": "code",
   "execution_count": null,
   "metadata": {},
   "outputs": [],
   "source": [
    "def linear_search(lst, target):\n",
    "    for i in range(len(lst)):\n",
    "        if lst[i] == target:\n",
    "            return i\n",
    "    return -1\n",
    "\n",
    "# Test the linear_search function\n",
    "lst = [1, 2, 3, 4, 5]\n",
    "target = 3\n",
    "result = linear_search(lst, target)\n",
    "print(result)  # Output: 2"
   ]
  },
  {
   "cell_type": "markdown",
   "metadata": {},
   "source": [
    "49. Write a Python function called bubble_sort that implements the bubble sort algorithm to sort a list of numbers in ascending order. Use this function to sort the list [5, 3, 8, 4, 2] and print the sorted list"
   ]
  },
  {
   "cell_type": "code",
   "execution_count": null,
   "metadata": {},
   "outputs": [],
   "source": [
    "def bubble_sort(lst):\n",
    "    n = len(lst)\n",
    "    for i in range(n):\n",
    "        for j in range(0, n - i - 1):\n",
    "            if lst[j] > lst[j + 1]:\n",
    "                lst[j], lst[j + 1] = lst[j + 1], lst[j]\n",
    "\n",
    "# Test the bubble_sort function\n",
    "lst = [5, 3, 8, 4, 2]\n",
    "bubble_sort(lst)\n",
    "print(lst)  # Output: [2, 3, 4, 5, 8]"
   ]
  },
  {
   "cell_type": "markdown",
   "metadata": {},
   "source": [
    "50. Write a Python function called binary_search that implements the binary search algorithm to find a target value in a sorted list. Use this function to find the index of the value 4 in the sorted list [1, 2, 3, 4, 5]."
   ]
  },
  {
   "cell_type": "code",
   "execution_count": null,
   "metadata": {},
   "outputs": [],
   "source": [
    "def binary_search(lst, target):\n",
    "    low = 0\n",
    "    high = len(lst) - 1\n",
    "\n",
    "    while low <= high:\n",
    "        mid = (low + high) // 2\n",
    "        if lst[mid] == target:\n",
    "            return mid\n",
    "        elif lst[mid] < target:\n",
    "            low = mid + 1\n",
    "        else:\n",
    "            high = mid - 1\n",
    "\n",
    "    return -1\n",
    "\n",
    "# Test the binary_search function\n",
    "lst = [1, 2, 3, 4, 5]\n",
    "target = 4\n",
    "result = binary_search(lst, target)\n",
    "print(result)  # Output: 3"
   ]
  },
  {
   "cell_type": "markdown",
   "metadata": {},
   "source": [
    "51. Write a Python program that creates a dictionary representing a student's grades for different subjects, e.g., grades = {'Math': {'midterm': 90, 'final': 85}, 'Science': {'midterm': 88, 'final': 92}}. Access and print the final grade in Science."
   ]
  },
  {
   "cell_type": "code",
   "execution_count": null,
   "metadata": {},
   "outputs": [],
   "source": [
    "grades = {'Math': {'midterm': 90, 'final': 85}, 'Science': {'midterm': 88, 'final': 92}}\n",
    "\n",
    "# Access and print the final grade in Science\n",
    "science_final_grade = grades['Science']['final']\n",
    "print(science_final_grade)  # Output: 92"
   ]
  },
  {
   "cell_type": "markdown",
   "metadata": {},
   "source": [
    "52. Write a Python class called Node representing a node in a singly linked list, with attributes data and next_node. Implement a class called LinkedList with methods to insert a node at the beginning, end, and to print the list. Demonstrate by inserting and printing nodes."
   ]
  },
  {
   "cell_type": "code",
   "execution_count": null,
   "metadata": {},
   "outputs": [],
   "source": [
    "class Node:\n",
    "    def __init__(self, data):\n",
    "        self.data = data\n",
    "        self.next_node = None\n",
    "\n",
    "class LinkedList:\n",
    "    def __init__(self):\n",
    "        self.head = None\n",
    "\n",
    "    def insert_at_beginning(self, data):\n",
    "        new_node = Node(data)\n",
    "        new_node.next_node = self.head\n",
    "        self.head = new_node\n",
    "\n",
    "    def insert_at_end(self, data):\n",
    "        new_node = Node(data)\n",
    "        if self.head is None:\n",
    "            self.head = new_node\n",
    "            return\n",
    "        current = self.head\n",
    "        while current.next_node is not None:\n",
    "            current = current.next_node\n",
    "        current.next_node = new_node\n",
    "\n",
    "    def print_list(self):\n",
    "        current = self.head\n",
    "        while current is not None:\n",
    "            print(current.data, end=' ')\n",
    "            current = current.next_node\n",
    "        print()\n",
    "\n",
    "# Demonstrate by inserting and printing nodes\n",
    "linked_list = LinkedList()\n",
    "linked_list.insert_at_beginning(3)\n",
    "linked_list.insert_at_beginning(2)\n",
    "linked_list.insert_at_beginning(1)\n",
    "linked_list.insert_at_end(4)\n",
    "linked_list.insert_at_end(5)\n",
    "linked_list.print_list()  # Output: 1 2 3 4 5"
   ]
  },
  {
   "cell_type": "markdown",
   "metadata": {},
   "source": [
    "53. Write a Python function called gcd that calculates the greatest common divisor (GCD) of two numbers using the Euclidean algorithm. Calculate the GCD of 48 and 18 and print the result."
   ]
  },
  {
   "cell_type": "code",
   "execution_count": null,
   "metadata": {},
   "outputs": [],
   "source": [
    "def gcd(a, b):\n",
    "    while b != 0:\n",
    "        a, b = b, a % b\n",
    "    return a\n",
    "\n",
    "# Calculate the GCD of 48 and 18\n",
    "result = gcd(48, 18)\n",
    "print(result)  # Output: 6"
   ]
  },
  {
   "cell_type": "markdown",
   "metadata": {},
   "source": [
    "54. Write a Python function called is_prime that checks if a number is prime. Use this function to check if 29 is prime and print the result."
   ]
  },
  {
   "cell_type": "code",
   "execution_count": null,
   "metadata": {},
   "outputs": [],
   "source": [
    "def is_prime(n):\n",
    "    if n <= 1:\n",
    "        return False\n",
    "    for i in range(2, int(n ** 0.5) + 1):\n",
    "        if n % i == 0:\n",
    "            return False\n",
    "    return True\n",
    "\n",
    "# Check if 29 is prime\n",
    "result = is_prime(29)\n",
    "print(result)  # Output: True"
   ]
  },
  {
   "cell_type": "markdown",
   "metadata": {},
   "source": [
    "55.Write a Python function called factorial that calculates the factorial of a number using a loop. Calculate the factorial of 6 and print the result.\""
   ]
  },
  {
   "cell_type": "code",
   "execution_count": null,
   "metadata": {},
   "outputs": [],
   "source": [
    "def factorial(n):\n",
    "    result = 1\n",
    "    for i in range(1, n + 1):\n",
    "        result *= i\n",
    "    return result\n",
    "\n",
    "# Calculate the factorial of 6\n",
    "result = factorial(6)\n",
    "print(result)  # Output: 720"
   ]
  },
  {
   "cell_type": "markdown",
   "metadata": {},
   "source": [
    "56. Write a simple Flask application with a single route that returns 'Hello, World!' when accessed. Run the Flask app and provide instructions to test the endpoint."
   ]
  },
  {
   "cell_type": "code",
   "execution_count": null,
   "metadata": {},
   "outputs": [],
   "source": [
    "pip install flask\n",
    "from flask import Flask\n",
    "\n",
    "app = Flask(__name__)\n",
    "\n",
    "@app.route('/')\n",
    "def hello_world():\n",
    "    return 'Hello, World!'\n",
    "\n",
    "if __name__ == '__main__':\n",
    "    app.run()\n",
    "    python app.py\n",
    "     * Serving Flask app '__main__'\n",
    "\n",
    " * Debug mode: off"
   ]
  },
  {
   "cell_type": "markdown",
   "metadata": {},
   "source": [
    "57. Write a Python program that uses nested loops to print a multiplication table (from 1 to 10). Format the output as a grid."
   ]
  },
  {
   "cell_type": "code",
   "execution_count": null,
   "metadata": {},
   "outputs": [],
   "source": [
    "# Print the multiplication table (from 1 to 10) in a grid format\n",
    "\n",
    "for i in range(1, 11):\n",
    "    for j in range(1, 11):\n",
    "        product = i * j\n",
    "        print(f\"{product:3}\", end=\" \")  # Format the output as a 3-digit number\n",
    "    print()  # Print a newline character after each row"
   ]
  },
  {
   "cell_type": "markdown",
   "metadata": {},
   "source": [
    "58. Write a Python class called Vector with attributes x and y. Overload the + operator to add two Vector objects by summing their x and y attributes. Demonstrate by adding two Vector objects and printing the result."
   ]
  },
  {
   "cell_type": "code",
   "execution_count": null,
   "metadata": {},
   "outputs": [],
   "source": [
    "class Vector:\n",
    "    def __init__(self, x, y):\n",
    "        self.x = x\n",
    "        self.y = y\n",
    "\n",
    "    def __add__(self, other):\n",
    "        return Vector(self.x + other.x, self.y + other.y)\n",
    "\n",
    "    def __str__(self):\n",
    "        return f\"Vector({self.x}, {self.y})\"\n",
    "\n",
    "# Demonstrate by adding two Vector objects and printing the result\n",
    "v1 = Vector(3, 4)\n",
    "v2 = Vector(1, 2)\n",
    "result = v1 + v2\n",
    "print(result)  # Output: Vector(4, 6)"
   ]
  },
  {
   "cell_type": "markdown",
   "metadata": {},
   "source": [
    "59. Write a Python function called fibonacci that generates the nth Fibonacci number using recursion. Calculate and print the 10th Fibonacci number."
   ]
  },
  {
   "cell_type": "code",
   "execution_count": null,
   "metadata": {},
   "outputs": [],
   "source": [
    "def fibonacci(n):\n",
    "    if n <= 0:\n",
    "        return \"Invalid input\"\n",
    "    elif n == 1:\n",
    "        return 0\n",
    "    elif n == 2:\n",
    "        return 1\n",
    "    else:\n",
    "        return fibonacci(n - 1) + fibonacci(n - 2)\n",
    "\n",
    "# Calculate and print the 10th Fibonacci number\n",
    "result = fibonacci(10)\n",
    "print(result)  # Output: 34"
   ]
  },
  {
   "cell_type": "markdown",
   "metadata": {},
   "source": [
    "60. Write a Python program that creates a list of tuples representing student names and their grades, e.g., students = [('Alice', 90), ('Bob', 85), ('Charlie', 95)]. Sort the list by grades and print the sorted list."
   ]
  },
  {
   "cell_type": "code",
   "execution_count": null,
   "metadata": {},
   "outputs": [],
   "source": [
    "students = [('Alice', 90), ('Bob', 85), ('Charlie', 95)]\n",
    "\n",
    "# Sort the list by grades\n",
    "sorted_students = sorted(students, key=lambda x: x[1])\n",
    "\n",
    "# Print the sorted list\n",
    "for student in sorted_students:\n",
    "    print(student)"
   ]
  },
  {
   "cell_type": "markdown",
   "metadata": {},
   "source": [
    "61. Write a Python program that uses nested loops to print the following pattern:\n",
    "Markdown\n",
    "\n"
   ]
  },
  {
   "cell_type": "code",
   "execution_count": null,
   "metadata": {},
   "outputs": [],
   "source": [
    "*\n",
    "**\n",
    "***\n",
    "****\n",
    "*****\n",
    "```\"\n",
    "\n"
   ]
  },
  {
   "cell_type": "code",
   "execution_count": null,
   "metadata": {},
   "outputs": [],
   "source": [
    "# Print the pattern using nested loops\n",
    "\n",
    "for i in range(13):\n",
    "    for j in range(i):\n",
    "        print(\"*\", end=\"\")\n",
    "    print()"
   ]
  },
  {
   "cell_type": "markdown",
   "metadata": {},
   "source": [
    "62. Write a Python decorator called log_call that logs the name of the function being called. Apply this decorator to a function called greet that prints 'Hello!' and call the decorated function."
   ]
  },
  {
   "cell_type": "code",
   "execution_count": null,
   "metadata": {},
   "outputs": [],
   "source": [
    "def log_call(func):\n",
    "    def wrapper(*args, **kwargs):\n",
    "        print(f\"Calling function: {func.__name__}\")\n",
    "        result = func(*args, **kwargs)\n",
    "        return result\n",
    "    return wrapper\n",
    "\n",
    "@log_call\n",
    "def greet():\n",
    "    print(\"Hello!\")\n",
    "\n",
    "# Call the decorated function\n",
    "greet()"
   ]
  },
  {
   "cell_type": "markdown",
   "metadata": {},
   "source": [
    "63. Write a Python class called TreeNode representing a node in a binary tree, with attributes data, left, and right. Implement a function to perform an in-order traversal of the tree and print the node values."
   ]
  },
  {
   "cell_type": "code",
   "execution_count": null,
   "metadata": {},
   "outputs": [],
   "source": [
    "class TreeNode:\n",
    "    def __init__(self, data):\n",
    "        self.data = data\n",
    "        self.left = None\n",
    "        self.right = None\n",
    "\n",
    "def in_order_traversal(node):\n",
    "    if node is not None:\n",
    "        in_order_traversal(node.left)\n",
    "        print(node.data)\n",
    "        in_order_traversal(node.right)\n",
    "\n",
    "# Example usage\n",
    "# Create a binary tree\n",
    "root = TreeNode(1)\n",
    "root.left = TreeNode(2)\n",
    "root.right = TreeNode(3)\n",
    "root.left.left = TreeNode(4)\n",
    "root.left.right = TreeNode(5)\n",
    "\n",
    "# Perform in-order traversal and print the node values\n",
    "in_order_traversal(root)"
   ]
  },
  {
   "cell_type": "markdown",
   "metadata": {},
   "source": [
    "64. Write a Python function called quicksort that implements the quicksort algorithm to sort a list of numbers in ascending order. Use this function to sort the list [10, 7, 8, 9, 1, 5] and print the sorted list."
   ]
  },
  {
   "cell_type": "code",
   "execution_count": null,
   "metadata": {},
   "outputs": [],
   "source": [
    "def quicksort(arr):\n",
    "    if len(arr) <= 1:\n",
    "        return arr\n",
    "    pivot = arr[len(arr) // 2]\n",
    "    left = [x for x in arr if x < pivot]\n",
    "    middle = [x for x in arr if x == pivot]\n",
    "    right = [x for x in arr if x > pivot]\n",
    "    return quicksort(left) + middle + quicksort(right)\n",
    "\n",
    "# Test the quicksort function\n",
    "numbers = [10, 7, 8, 9, 1, 5]\n",
    "sorted_numbers = quicksort(numbers)\n",
    "print(sorted_numbers)  # Output: [1, 5, 7, 8, 9, 10]"
   ]
  },
  {
   "cell_type": "markdown",
   "metadata": {},
   "source": [
    "65. Write a Flask application that provides a simple REST API with the following endpoints: GET /items to return a list of items, POST /items to add a new item, and DELETE /items/<id> to delete an item by ID. Provide instructions to test the API."
   ]
  },
  {
   "cell_type": "code",
   "execution_count": null,
   "metadata": {},
   "outputs": [],
   "source": [
    "from flask import Flask, request, jsonify\n",
    "\n",
    "app = Flask(__name__)\n",
    "\n",
    "# In-memory data structure to store items\n",
    "items = []\n",
    "\n",
    "@app.route('/items', methods=['GET'])\n",
    "def get_items():\n",
    "    return jsonify(items)\n",
    "\n",
    "@app.route('/items', methods=['POST'])\n",
    "def add_item():\n",
    "    item = request.get_json()\n",
    "    items.append(item)\n",
    "    return jsonify(item), 201\n",
    "\n",
    "@app.route('/items/<int:item_id>', methods=['DELETE'])\n",
    "def delete_item(item_id):\n",
    "    global items\n",
    "    items = [item for item in items if item['id'] != item_id]\n",
    "    return jsonify({'message': 'Item deleted'}), 200\n",
    "\n",
    "if __name__ == '__main__':\n",
    "    app.run(debug=True)"
   ]
  },
  {
   "cell_type": "markdown",
   "metadata": {},
   "source": [
    "66. Write a Python program that generates the current date and time using the datetime module, formats it as 'YYYY-MM-DD HH:MM', and prints it. Then calculate the date 10 days from today and print it\n"
   ]
  },
  {
   "cell_type": "code",
   "execution_count": null,
   "metadata": {},
   "outputs": [],
   "source": [
    "import datetime\n",
    "\n",
    "# Get the current date and time\n",
    "now = datetime.datetime.now()\n",
    "\n",
    "# Format the date and time as 'YYYY-MM-DD HH:MM'\n",
    "formatted_now = now.strftime('%Y-%m-%d %H:%M')\n",
    "\n",
    "# Print the current date and time\n",
    "print(\"Current date and time:\", formatted_now)\n",
    "\n",
    "# Calculate the date 10 days from today\n",
    "future_date = now + datetime.timedelta(days=10)\n",
    "\n",
    "# Format the future date as 'YYYY-MM-DD HH:MM'\n",
    "formatted_future_date = future_date.strftime('%Y-%m-%d %H:%M')\n",
    "\n",
    "# Print the future date\n",
    "print(\"Date 10 days from today:\", formatted_future_date)"
   ]
  },
  {
   "cell_type": "markdown",
   "metadata": {},
   "source": [
    "67. Write a Python program that uses BeautifulSoup to scrape the titles of articles from a news website's homepage and prints them."
   ]
  },
  {
   "cell_type": "code",
   "execution_count": null,
   "metadata": {},
   "outputs": [],
   "source": [
    "pip install beautifulsoup4 requests\n",
    "import requests\n",
    "from bs4 import BeautifulSoup\n",
    "url = \"https://www.example.com\"  # Replace with the actual news website URL\n",
    "response = requests.get(url)\n",
    "soup = BeautifulSoup(response.content, \"html.parser\")\n",
    "article_titles = soup.find_all(\"h2\", class_=\"article-title\")\n",
    "for title in article_titles:\n",
    "    print(title.text.strip())\n",
    "    import requests\n",
    "from bs4 import BeautifulSoup\n",
    "\n",
    "url = \"https://www.example.com\"  # Replace with the actual news website URL\n",
    "response = requests.get(url)\n",
    "\n",
    "soup = BeautifulSoup(response.content, \"html.parser\")\n",
    "\n",
    "article_titles = soup.find_all(\"h2\", class_=\"article-title\")\n",
    "\n",
    "for title in article_titles:\n",
    "    print(title.text.strip())"
   ]
  },
  {
   "cell_type": "markdown",
   "metadata": {},
   "source": [
    "68. Write a Python program that performs linear regression on a dataset using numpy. The dataset consists of input x = [1, 2, 3, 4, 5] and output y = [2, 4, 6, 8, 10]. Calculate the slope and intercept, and print the linear equation."
   ]
  },
  {
   "cell_type": "code",
   "execution_count": null,
   "metadata": {},
   "outputs": [],
   "source": [
    "import numpy as np\n",
    "\n",
    "# Input data\n",
    "x = np.array([1, 2, 3, 4, 5])\n",
    "y = np.array([2, 4, 6, 8, 10])\n",
    "\n",
    "# Calculate the slope (m) and intercept (c) using numpy's polyfit function\n",
    "m, c = np.polyfit(x, y, 1)\n",
    "\n",
    "# Print the linear equation\n",
    "print(\"Linear equation: y = {}x + {}\".format(m, c))\n"
   ]
  },
  {
   "cell_type": "markdown",
   "metadata": {},
   "source": [
    "69. Write a Python class called BSTNode representing a node in a binary search tree (BST), with attributes data, left, and right. Implement methods to insert a new node and search for a value in the BST. Demonstrate by inserting and searching for values."
   ]
  },
  {
   "cell_type": "code",
   "execution_count": null,
   "metadata": {},
   "outputs": [],
   "source": [
    "class BSTNode:\n",
    "    def __init__(self, data):\n",
    "        self.data = data\n",
    "        self.left = None\n",
    "        self.right = None\n",
    "\n",
    "    def insert(self, value):\n",
    "        if value < self.data:\n",
    "            if self.left is None:\n",
    "                self.left = BSTNode(value)\n",
    "            else:\n",
    "                self.left.insert(value)\n",
    "        elif value > self.data:\n",
    "            if self.right is None:\n",
    "                self.right = BSTNode(value)\n",
    "            else:\n",
    "                self.right.insert(value)\n",
    "        else:\n",
    "            print(\"Value already exists in the BST.\")\n",
    "\n",
    "    def search(self, value):\n",
    "        if value == self.data:\n",
    "            return True\n",
    "        elif value < self.data and self.left is not None:\n",
    "            return self.left.search(value)\n",
    "        elif value > self.data and self.right is not None:\n",
    "            return self.right.search(value)\n",
    "        else:\n",
    "            return False\n",
    "\n",
    "# Demonstration\n",
    "\n",
    "# Create a BST\n",
    "bst = BSTNode(5)\n",
    "\n",
    "# Insert values\n",
    "bst.insert(3)\n",
    "bst.insert(2)\n",
    "bst.insert(4)\n",
    "bst.insert(7)\n",
    "bst.insert(6)\n",
    "bst.insert(8)\n",
    "\n",
    "# Search for values\n",
    "print(bst.search(3))  # Output: True\n",
    "print(bst.search(9))  # Output: False"
   ]
  },
  {
   "cell_type": "markdown",
   "metadata": {},
   "source": [
    "70. Write a Python program that creates a pandas DataFrame representing sales data with columns Product, Category, and Sales. Group the data by Category and calculate the total sales for each category."
   ]
  },
  {
   "cell_type": "code",
   "execution_count": null,
   "metadata": {},
   "outputs": [],
   "source": [
    "import pandas as pd\n",
    "\n",
    "# Create a pandas DataFrame representing sales data\n",
    "data = {\n",
    "    'Product': ['Product A', 'Product B', 'Product C', 'Product D', 'Product E'],\n",
    "    'Category': ['Category 1', 'Category 2', 'Category 1', 'Category 2', 'Category 1'],\n",
    "    'Sales': [100, 200, 150, 300, 250]\n",
    "}\n",
    "df = pd.DataFrame(data)\n",
    "\n",
    "# Group the data by Category and calculate the total sales for each category\n",
    "grouped_data = df.groupby('Category')['Sales'].sum()\n",
    "\n",
    "print(grouped_data)"
   ]
  },
  {
   "cell_type": "markdown",
   "metadata": {},
   "source": [
    "71. Write a Python program that creates two pandas DataFrames representing customer orders and their details. Merge the two DataFrames on a common OrderID column and print the merged DataFrame."
   ]
  },
  {
   "cell_type": "code",
   "execution_count": null,
   "metadata": {},
   "outputs": [],
   "source": [
    "import pandas as pd\n",
    "\n",
    "# Create a DataFrame representing customer orders\n",
    "orders = pd.DataFrame({\n",
    "    'OrderID': [1, 2, 3, 4],\n",
    "    'CustomerID': [101, 102, 103, 104],\n",
    "    'OrderDate': ['2022-01-01', '2022-01-02', '2022-01-03', '2022-01-04']\n",
    "})\n",
    "\n",
    "# Create a DataFrame representing order details\n",
    "order_details = pd.DataFrame({\n",
    "    'OrderID': [1, 2, 3, 4],\n",
    "    'ProductID': [1001, 1002, 1003, 1004],\n",
    "    'Quantity': [2, 3, 1, 4]\n",
    "})\n",
    "\n",
    "# Merge the two DataFrames on the common OrderID column\n",
    "merged_df = pd.merge(orders, order_details, on='OrderID')\n",
    "\n",
    "# Print the merged DataFrame\n",
    "print(merged_df)"
   ]
  },
  {
   "cell_type": "markdown",
   "metadata": {},
   "source": [
    "72. Write a Python program that creates a pandas DataFrame representing sales data with columns Product, Region, and Sales. Create a pivot table that shows the total sales for each product by region and print the pivot table."
   ]
  },
  {
   "cell_type": "code",
   "execution_count": null,
   "metadata": {},
   "outputs": [],
   "source": [
    "import pandas as pd\n",
    "\n",
    "# Create a pandas DataFrame representing sales data\n",
    "data = {\n",
    "    'Product': ['Product A', 'Product B', 'Product A', 'Product C', 'Product B'],\n",
    "    'Region': ['North', 'South', 'East', 'North', 'South'],\n",
    "    'Sales': [100, 200, 150, 300, 250]\n",
    "}\n",
    "df = pd.DataFrame(data)\n",
    "\n",
    "# Create a pivot table that shows the total sales for each product by region\n",
    "pivot_table = pd.pivot_table(df, values='Sales', index='Product', columns='Region', aggfunc=sum)\n",
    "\n",
    "# Print the pivot table\n",
    "print(pivot_table)"
   ]
  },
  {
   "cell_type": "markdown",
   "metadata": {},
   "source": [
    "73. Create a simple Django project with a single app called blog. The app should have a model Post with fields title and content. Create and run the necessary migrations, then use Django's admin interface to add a new post."
   ]
  },
  {
   "cell_type": "code",
   "execution_count": null,
   "metadata": {},
   "outputs": [],
   "source": [
    "pip install django\n",
    "django-admin startproject blogproject\n",
    "cd blogproject\n",
    "python manage.py startapp blog\n",
    "INSTALLED_APPS = [\n",
    "    ...\n",
    "    'blog',\n",
    "]\n",
    "from django.db import models\n",
    "\n",
    "class Post(models.Model):\n",
    "    title = models.CharField(max_length=200)\n",
    "    content = models.TextField()\n",
    "\n",
    "    def __str__(self):\n",
    "        return self.title\n",
    "    python manage.py makemigrations\n",
    "python manage.py migrate\n",
    "from django.contrib import admin\n",
    "from .models import Post\n",
    "\n",
    "admin.site.register(Post)\n",
    "python manage.py createsuperuser\n",
    "python manage.py runserver"
   ]
  },
  {
   "cell_type": "markdown",
   "metadata": {},
   "source": [
    "74. Write a Python function called merge_sort that implements the merge sort algorithm to sort a list of numbers in ascending order. Use this function to sort the list [12, 11, 13, 5, 6, 7] and print the sorted list."
   ]
  },
  {
   "cell_type": "code",
   "execution_count": null,
   "metadata": {},
   "outputs": [],
   "source": [
    "def merge_sort(arr):\n",
    "    if len(arr) <= 1:\n",
    "        return arr\n",
    "    \n",
    "    mid = len(arr) // 2\n",
    "    left_half = arr[:mid]\n",
    "    right_half = arr[mid:]\n",
    "    \n",
    "    left_half = merge_sort(left_half)\n",
    "    right_half = merge_sort(right_half)\n",
    "    \n",
    "    return merge(left_half, right_half)\n",
    "\n",
    "\n",
    "def merge(left, right):\n",
    "    merged = []\n",
    "    left_index = 0\n",
    "    right_index = 0\n",
    "    \n",
    "    while left_index < len(left) and right_index < len(right):\n",
    "        if left[left_index] < right[right_index]:\n",
    "            merged.append(left[left_index])\n",
    "            left_index += 1\n",
    "        else:\n",
    "            merged.append(right[right_index])\n",
    "            right_index += 1\n",
    "    \n",
    "    while left_index < len(left):\n",
    "        merged.append(left[left_index])\n",
    "        left_index += 1\n",
    "    \n",
    "    while right_index < len(right):\n",
    "        merged.append(right[right_index])\n",
    "        right_index += 1\n",
    "    \n",
    "    return merged\n",
    "\n",
    "\n",
    "# Test the merge_sort function\n",
    "numbers = [12, 11, 13, 5, 6, 7]\n",
    "sorted_numbers = merge_sort(numbers)\n",
    "print(sorted_numbers)"
   ]
  },
  {
   "cell_type": "markdown",
   "metadata": {},
   "source": [
    "75. Write a Python script that uses SQLAlchemy to connect to a SQLite database. Create a table called users with columns id, name, and email. Insert a few records, then query the table to retrieve and print the records."
   ]
  },
  {
   "cell_type": "code",
   "execution_count": null,
   "metadata": {},
   "outputs": [],
   "source": [
    "from sqlalchemy import create_engine, Column, Integer, String\n",
    "from sqlalchemy.ext.declarative import declarative_base\n",
    "from sqlalchemy.orm import sessionmaker\n",
    "\n",
    "# Create an engine to connect to the SQLite database\n",
    "engine = create_engine('sqlite:///users.db', echo=True)\n",
    "\n",
    "# Create a base class for declarative class definitions\n",
    "Base = declarative_base()\n",
    "\n",
    "# Define the User model\n",
    "class User(Base):\n",
    "    __tablename__ = 'users'\n",
    "\n",
    "    id = Column(Integer, primary_key=True)\n",
    "    name = Column(String)\n",
    "    email = Column(String)\n",
    "\n",
    "# Create the users table in the database\n",
    "Base.metadata.create_all(engine)\n",
    "\n",
    "# Create a session to interact with the database\n",
    "Session = sessionmaker(bind=engine)\n",
    "session = Session()\n",
    "\n",
    "# Insert a few records into the users table\n",
    "user1 = User(name='John Doe', email='john.doe@example.com')\n",
    "user2 = User(name='Jane Smith', email='jane.smith@example.com')\n",
    "session.add(user1)\n",
    "session.add(user2)\n",
    "session.commit()\n",
    "\n",
    "# Query the users table to retrieve and print the records\n",
    "users = session.query(User).all()\n",
    "for user in users:\n",
    "    print(f\"ID: {user.id}, Name: {user.name}, Email: {user.email}\")"
   ]
  },
  {
   "cell_type": "markdown",
   "metadata": {},
   "source": [
    "76. Write a Python class called CustomError that inherits from Exception and takes an error message as an argument. Raise this custom exception in a function called check_positive if the input is not a positive number."
   ]
  },
  {
   "cell_type": "code",
   "execution_count": null,
   "metadata": {},
   "outputs": [],
   "source": [
    "class CustomError(Exception):\n",
    "    def __init__(self, message):\n",
    "        self.message = message\n",
    "\n",
    "def check_positive(number):\n",
    "    if number <= 0:\n",
    "        raise CustomError(\"Input must be a positive number\")\n",
    "    else:\n",
    "        print(f\"Input is a positive number: {number}\")\n",
    "\n",
    "# Example usage\n",
    "try:\n",
    "    check_positive(-5)\n",
    "except CustomError as e:\n",
    "    print(e.message)\n",
    "\n",
    "try:\n",
    "    check_positive(10)\n",
    "except CustomError as e:\n",
    "    print(e.message)\n",
    "    Input must be a positive number\n",
    "Input is a positive number: 10"
   ]
  },
  {
   "cell_type": "markdown",
   "metadata": {},
   "source": [
    "77. Write a Python class called MaxHeap that implements a max heap data structure. Include methods to insert a new element, delete the maximum element, and print the heap."
   ]
  },
  {
   "cell_type": "code",
   "execution_count": null,
   "metadata": {},
   "outputs": [],
   "source": [
    "class MaxHeap:\n",
    "    def __init__(self):\n",
    "        self.heap = []\n",
    "\n",
    "    def insert(self, value):\n",
    "        self.heap.append(value)\n",
    "        self._bubble_up(len(self.heap) - 1)\n",
    "\n",
    "    def delete_max(self):\n",
    "        if not self.heap:\n",
    "            return None\n",
    "\n",
    "        max_value = self.heap[0]\n",
    "        last_value = self.heap.pop()\n",
    "\n",
    "        if self.heap:\n",
    "            self.heap[0] = last_value\n",
    "            self._bubble_down(0)\n",
    "\n",
    "        return max_value\n",
    "\n",
    "    def print_heap(self):\n",
    "        print(self.heap)\n",
    "\n",
    "    def _parent(self, index):\n",
    "        return (index - 1) // 2\n",
    "\n",
    "    def _left_child(self, index):\n",
    "        return 2 * index + 1\n",
    "\n",
    "    def _right_child(self, index):\n",
    "        return 2 * index + 2\n",
    "\n",
    "    def _swap(self, i, j):\n",
    "        self.heap[i], self.heap[j] = self.heap[j], self.heap[i]\n",
    "\n",
    "    def _bubble_up(self, index):\n",
    "        parent_index = self._parent(index)\n",
    "\n",
    "        while index > 0 and self.heap[parent_index] < self.heap[index]:\n",
    "            self._swap(parent_index, index)\n",
    "            index = parent_index\n",
    "            parent_index = self._parent(index)\n",
    "\n",
    "    def _bubble_down(self, index):\n",
    "        max_index = index\n",
    "        left_child_index = self._left_child(index)\n",
    "        right_child_index = self._right_child(index)\n",
    "\n",
    "        if left_child_index < len(self.heap) and self.heap[left_child_index] > self.heap[max_index]:\n",
    "            max_index = left_child_index\n",
    "\n",
    "        if right_child_index < len(self.heap) and self.heap[right_child_index] > self.heap[max_index]:\n",
    "            max_index = right_child_index\n",
    "\n",
    "        if max_index != index:\n",
    "            self._swap(index, max_index)\n",
    "            self._bubble_down(max_index)"
   ]
  },
  {
   "cell_type": "markdown",
   "metadata": {},
   "source": [
    "78.  Write a Python program that uses the threading module to run two functions concurrently. One function should print numbers from 1 to 5 with a delay of 1 second, and the other should print letters from A to E with a delay of 1.5 seconds."
   ]
  },
  {
   "cell_type": "code",
   "execution_count": null,
   "metadata": {},
   "outputs": [],
   "source": [
    "import threading\n",
    "import time\n",
    "\n",
    "def print_numbers():\n",
    "    for i in range(1, 6):\n",
    "        print(i)\n",
    "        time.sleep(1)\n",
    "\n",
    "def print_letters():\n",
    "    letters = ['A', 'B', 'C', 'D', 'E']\n",
    "    for letter in letters:\n",
    "        print(letter)\n",
    "        time.sleep(1.5)\n",
    "\n",
    "# Create threads for the functions\n",
    "numbers_thread = threading.Thread(target=print_numbers)\n",
    "letters_thread = threading.Thread(target=print_letters)\n",
    "\n",
    "# Start the threads\n",
    "numbers_thread.start()\n",
    "letters_thread.start()\n",
    "\n",
    "# Wait for both threads to finish\n",
    "numbers_thread.join()\n",
    "letters_thread.join()\n",
    "\n",
    "print(\"Finished!\")"
   ]
  },
  {
   "cell_type": "markdown",
   "metadata": {},
   "source": [
    "79. Write a Python class called LRUCache that implements a least recently used (LRU) cache. The cache should have a maximum capacity, and when the capacity is reached, the least recently used item should be removed. Include methods to get and put items in the cache."
   ]
  },
  {
   "cell_type": "code",
   "execution_count": null,
   "metadata": {},
   "outputs": [],
   "source": [
    "from collections import OrderedDict\n",
    "\n",
    "class LRUCache:\n",
    "    def __init__(self, capacity: int):\n",
    "        self.cache = OrderedDict()\n",
    "        self.capacity = capacity\n",
    "\n",
    "    def get(self, key: int) -> int:\n",
    "        if key not in self.cache:\n",
    "            return -1\n",
    "        value = self.cache.pop(key)\n",
    "        self.cache[key] = value  # Move the accessed item to the end of the cache\n",
    "        return value\n",
    "\n",
    "    def put(self, key: int, value: int) -> None:\n",
    "        if key in self.cache:\n",
    "            self.cache.pop(key)\n",
    "        elif len(self.cache) >= self.capacity:\n",
    "            self.cache.popitem(last=False)  # Remove the least recently used item\n",
    "        self.cache[key] = value"
   ]
  },
  {
   "cell_type": "markdown",
   "metadata": {},
   "source": [
    "80. Write a Python class called MetaSingleton using a metaclass that ensures any class inheriting from it will be a singleton (i.e., only one instance of the class can exist). Demonstrate by creating two instances and showing they are the same."
   ]
  },
  {
   "cell_type": "code",
   "execution_count": null,
   "metadata": {},
   "outputs": [],
   "source": [
    "class MetaSingleton(type):\n",
    "    _instances = {}\n",
    "\n",
    "    def __call__(cls, *args, **kwargs):\n",
    "        if cls not in cls._instances:\n",
    "            cls._instances[cls] = super().__call__(*args, **kwargs)\n",
    "        return cls._instances[cls]\n",
    "\n",
    "\n",
    "class Singleton(metaclass=MetaSingleton):\n",
    "    def __init__(self, value):\n",
    "        self.value = value\n",
    "\n",
    "\n",
    "# Demonstration\n",
    "singleton1 = Singleton(\"Instance 1\")\n",
    "singleton2 = Singleton(\"Instance 2\")\n",
    "\n",
    "print(singleton1.value)  # Output: Instance 1\n",
    "print(singleton2.value)  # Output: Instance 1\n",
    "print(singleton1 is singleton2)  # Output: True"
   ]
  },
  {
   "cell_type": "markdown",
   "metadata": {},
   "source": [
    "81. Write a Python generator function called prime_generator that yields an infinite sequence of prime numbers. Use the generator to print the first 10 prime numbers."
   ]
  },
  {
   "cell_type": "code",
   "execution_count": null,
   "metadata": {},
   "outputs": [],
   "source": [
    "def prime_generator():\n",
    "    yield 2\n",
    "    primes = [2]\n",
    "    candidate = 3\n",
    "\n",
    "    while True:\n",
    "        if all(candidate % prime != 0 for prime in primes):\n",
    "            primes.append(candidate)\n",
    "            yield candidate\n",
    "        candidate += 2\n",
    "\n",
    "# Use the generator to print the first 10 prime numbers\n",
    "generator = prime_generator()\n",
    "for _ in range(10):\n",
    "    print(next(generator))"
   ]
  },
  {
   "cell_type": "markdown",
   "metadata": {},
   "source": [
    "82. Write a Python decorator called memoize that caches the results of a function so that it doesn't have to recompute the results for the same inputs. Apply this decorator to a recursive function that calculates Fibonacci numbers."
   ]
  },
  {
   "cell_type": "code",
   "execution_count": null,
   "metadata": {},
   "outputs": [],
   "source": [
    "def memoize(func):\n",
    "    cache = {}\n",
    "\n",
    "    def wrapper(*args):\n",
    "        if args not in cache:\n",
    "            cache[args] = func(*args)\n",
    "        return cache[args]\n",
    "\n",
    "    return wrapper\n",
    "@memoize\n",
    "def fibonacci(n):\n",
    "    if n <= 1:\n",
    "        return n\n",
    "    return fibonacci(n-1) + fibonacci(n-2)\n",
    "\n",
    "# Test the memoized Fibonacci function\n",
    "print(fibonacci(10))  # Output: 55"
   ]
  },
  {
   "cell_type": "markdown",
   "metadata": {},
   "source": [
    "83. Write a Python program that uses the asyncio module to fetch the contents of three different URLs concurrently. Print the length of the content fetched from each URL."
   ]
  },
  {
   "cell_type": "code",
   "execution_count": null,
   "metadata": {},
   "outputs": [],
   "source": [
    "import asyncio\n",
    "import aiohttp\n",
    "\n",
    "async def fetch_content(url):\n",
    "    async with aiohttp.ClientSession() as session:\n",
    "        async with session.get(url) as response:\n",
    "            content = await response.text()\n",
    "            return len(content)\n",
    "\n",
    "async def main():\n",
    "    urls = ['https://example.com', 'https://example.org', 'https://example.net']\n",
    "    tasks = [fetch_content(url) for url in urls]\n",
    "    lengths = await asyncio.gather(*tasks)\n",
    "\n",
    "    for url, length in zip(urls, lengths):\n",
    "        print(f'Length of content from {url}: {length}')\n",
    "\n",
    "if __name__ == '__main__':\n",
    "    asyncio.run(main())"
   ]
  },
  {
   "cell_type": "markdown",
   "metadata": {},
   "source": [
    "84. Write a Python function called a_star that implements the A* search algorithm to find the shortest path in a grid. Use the function to find the shortest path from the top-left corner to the bottom-right corner of a 5x5 grid with some obstacles."
   ]
  },
  {
   "cell_type": "code",
   "execution_count": null,
   "metadata": {},
   "outputs": [],
   "source": [
    "import heapq\n",
    "\n",
    "class Node:\n",
    "    def __init__(self, x, y, cost, heuristic):\n",
    "        self.x = x\n",
    "        self.y = y\n",
    "        self.cost = cost\n",
    "        self.heuristic = heuristic\n",
    "        self.total_cost = cost + heuristic\n",
    "\n",
    "    def __lt__(self, other):\n",
    "        return self.total_cost < other.total_cost\n",
    "\n",
    "def a_star(grid, start, end):\n",
    "    open_list = []\n",
    "    closed_list = set()\n",
    "\n",
    "    start_node = Node(start[0], start[1], 0, abs(end[0] - start[0]) + abs(end[1] - start[1]))\n",
    "    heapq.heappush(open_list, start_node)\n",
    "\n",
    "    while open_list:\n",
    "        current_node = heapq.heappop(open_list)\n",
    "        closed_list.add((current_node.x, current_node.y))\n",
    "\n",
    "        if current_node.x == end[0] and current_node.y == end[1]:\n",
    "            path = []\n",
    "            while current_node.parent:\n",
    "                path.append((current_node.x, current_node.y))\n",
    "                current_node = current_node.parent\n",
    "            path.append((current_node.x, current_node.y))\n",
    "            return path[::-1]\n",
    "\n",
    "        neighbors = [\n",
    "            (current_node.x - 1, current_node.y),\n",
    "            (current_node.x + 1, current_node.y),\n",
    "            (current_node.x, current_node.y - 1),\n",
    "            (current_node.x, current_node.y + 1),\n",
    "        ]\n",
    "\n",
    "        for neighbor in neighbors:\n",
    "            x, y = neighbor\n",
    "            if x < 0 or x >= len(grid) or y < 0 or y >= len(grid[0]) or grid[x][y] == 1 or (x, y) in closed_list:\n",
    "                continue\n",
    "\n",
    "            cost = current_node.cost + 1\n",
    "            heuristic = abs(end[0] - x) + abs(end[1] - y)\n",
    "            neighbor_node = Node(x, y, cost, heuristic)\n",
    "            neighbor_node.parent = current_node\n",
    "\n",
    "            for open_node in open_list:\n",
    "                if open_node.x == x and open_node.y == y and open_node.cost <= cost:\n",
    "                    break\n",
    "            else:\n",
    "                heapq.heappush(open_list, neighbor_node)\n",
    "\n",
    "    return None\n",
    "\n",
    "# Example usage\n",
    "grid = [\n",
    "    [0, 0, 0, 0, 0],\n",
    "    [0, 1, 1, 1, 0],\n",
    "    [0, 0, 0, 0, 0],\n",
    "    [0, 1, 1, 1, 0],\n",
    "    [0, 0, 0, 0, 0],\n",
    "]\n",
    "start = (0, 0)\n",
    "end = (4, 4)\n",
    "\n",
    "path = a_star(grid, start, end)\n",
    "if path:\n",
    "    print(\"Shortest path:\", path)\n",
    "else:\n",
    "    print(\"No path found\")"
   ]
  },
  {
   "cell_type": "markdown",
   "metadata": {},
   "source": [
    "85. Write a Python class called Timer that implements a context manager to measure the time taken by a block of code. Use this context manager to time a loop that sums numbers from 1 to 1 million."
   ]
  },
  {
   "cell_type": "code",
   "execution_count": null,
   "metadata": {},
   "outputs": [],
   "source": [
    "import time\n",
    "\n",
    "class Timer:\n",
    "    def __enter__(self):\n",
    "        self.start_time = time.time()\n",
    "\n",
    "    def __exit__(self, exc_type, exc_value, traceback):\n",
    "        end_time = time.time()\n",
    "        elapsed_time = end_time - self.start_time\n",
    "        print(f\"Time taken: {elapsed_time:.6f} seconds\")\n",
    "\n",
    "# Example usage\n",
    "with Timer():\n",
    "    total = 0\n",
    "    for num in range(1, 1000001):\n",
    "        total += num\n",
    "\n",
    "print(f\"Sum of numbers from 1 to 1 million: {total}\")"
   ]
  },
  {
   "cell_type": "markdown",
   "metadata": {},
   "source": [
    "86. Write a Python class called Graph that implements an undirected graph using an adjacency list. Include a method to perform depth-first search (DFS) starting from a given node. Demonstrate by creating a graph and performing DFS."
   ]
  },
  {
   "cell_type": "code",
   "execution_count": null,
   "metadata": {},
   "outputs": [],
   "source": [
    "class Graph:\n",
    "    def __init__(self, num_vertices):\n",
    "        self.num_vertices = num_vertices\n",
    "        self.adjacency_list = [[] for _ in range(num_vertices)]\n",
    "\n",
    "    def add_edge(self, u, v):\n",
    "        self.adjacency_list[u].append(v)\n",
    "        self.adjacency_list[v].append(u)\n",
    "\n",
    "    def dfs(self, start_node):\n",
    "        visited = set()\n",
    "        self._dfs_util(start_node, visited)\n",
    "\n",
    "    def _dfs_util(self, node, visited):\n",
    "        visited.add(node)\n",
    "        print(node, end=\" \")\n",
    "\n",
    "        for neighbor in self.adjacency_list[node]:\n",
    "            if neighbor not in visited:\n",
    "                self._dfs_util(neighbor, visited)\n",
    "\n",
    "# Demonstration\n",
    "graph = Graph(5)\n",
    "graph.add_edge(0, 1)\n",
    "graph.add_edge(0, 2)\n",
    "graph.add_edge(1, 3)\n",
    "graph.add_edge(1, 4)\n",
    "graph.add_edge(2, 4)\n",
    "\n",
    "print(\"Depth-First Search (DFS):\")\n",
    "graph.dfs(0)"
   ]
  },
  {
   "cell_type": "markdown",
   "metadata": {},
   "source": [
    "87. Write a Python program that uses matplotlib to plot the sine and cosine functions on the same graph. Label the axes and add a legend to distinguish between the two functions."
   ]
  },
  {
   "cell_type": "code",
   "execution_count": null,
   "metadata": {},
   "outputs": [],
   "source": [
    "import numpy as np\n",
    "import matplotlib.pyplot as plt\n",
    "\n",
    "# Generate x values\n",
    "x = np.linspace(-np.pi, np.pi, 100)\n",
    "\n",
    "# Calculate sine and cosine values\n",
    "y_sin = np.sin(x)\n",
    "y_cos = np.cos(x)\n",
    "\n",
    "# Create the plot\n",
    "plt.plot(x, y_sin, label='Sine')\n",
    "plt.plot(x, y_cos, label='Cosine')\n",
    "\n",
    "# Add labels and legend\n",
    "plt.xlabel('X')\n",
    "plt.ylabel('Y')\n",
    "plt.title('Sine and Cosine Functions')\n",
    "plt.legend()\n",
    "\n",
    "# Display the plot\n",
    "plt.show()"
   ]
  },
  {
   "cell_type": "markdown",
   "metadata": {},
   "source": [
    "88. Write a Python class called PriorityQueue that implements a priority queue using a heap. Include methods to insert an item with a priority and remove the item with the highest priority. Demonstrate by inserting and removing items. "
   ]
  },
  {
   "cell_type": "code",
   "execution_count": null,
   "metadata": {},
   "outputs": [],
   "source": [
    "import heapq\n",
    "\n",
    "class PriorityQueue:\n",
    "    def __init__(self):\n",
    "        self.heap = []\n",
    "\n",
    "    def insert(self, item, priority):\n",
    "        heapq.heappush(self.heap, (-priority, item))\n",
    "\n",
    "    def remove_highest_priority(self):\n",
    "        if not self.heap:\n",
    "            raise IndexError(\"Priority queue is empty\")\n",
    "        return heapq.heappop(self.heap)[1]\n",
    "\n",
    "# Demonstration\n",
    "pq = PriorityQueue()\n",
    "pq.insert(\"Task 1\", 3)\n",
    "pq.insert(\"Task 2\", 1)\n",
    "pq.insert(\"Task 3\", 2)\n",
    "\n",
    "print(pq.remove_highest_priority())  # Output: Task 1\n",
    "print(pq.remove_highest_priority())  # Output: Task 3\n",
    "print(pq.remove_highest_priority())  # Output: Task 2"
   ]
  },
  {
   "cell_type": "markdown",
   "metadata": {},
   "source": [
    "89. Write a Python program that reads a JSON file containing a list of dictionaries, each representing a product with keys name, price, and quantity. Calculate the total value of the inventory and print it."
   ]
  },
  {
   "cell_type": "code",
   "execution_count": null,
   "metadata": {},
   "outputs": [],
   "source": [
    "import json\n",
    "\n",
    "def calculate_inventory_value(file_path):\n",
    "    with open(file_path, 'r') as file:\n",
    "        products = json.load(file)\n",
    "\n",
    "    total_value = 0\n",
    "    for product in products:\n",
    "        total_value += product['price'] * product['quantity']\n",
    "\n",
    "    return total_value\n",
    "\n",
    "# Example usage\n",
    "file_path = 'inventory.json'\n",
    "inventory_value = calculate_inventory_value(file_path)\n",
    "print(f\"Total value of the inventory: ${inventory_value:.2f}\")"
   ]
  },
  {
   "cell_type": "markdown",
   "metadata": {},
   "source": [
    "90. Write a Python program that uses the NLTK library to create a simple rule-based chatbot. The chatbot should respond to greetings and a few predefined questions. Demonstrate a conversation with the chatbot."
   ]
  },
  {
   "cell_type": "code",
   "execution_count": null,
   "metadata": {},
   "outputs": [],
   "source": [
    "import nltk\n",
    "from nltk.chat.util import Chat, reflections\n",
    "\n",
    "pairs = [\n",
    "    [\n",
    "        r\"my name is (.*)\",\n",
    "        [\"Hello %1, How are you today ?\",],\n",
    "    ],\n",
    "    [\n",
    "        r\"hi|hey|hello\",\n",
    "        [\"Hello\", \"Hey there\",],\n",
    "    ],\n",
    "    [\n",
    "        r\"what is your name ?\",\n",
    "        [\"I am a chatbot created using NLTK library.\",],\n",
    "    ],\n",
    "    [\n",
    "        r\"how are you ?\",\n",
    "        [\"I'm doing good. How about You ?\",],\n",
    "    ],\n",
    "    [\n",
    "        r\"sorry\",\n",
    "        [\"Its alright\", \"No worries\",],\n",
    "    ],\n",
    "    [\n",
    "        r\"quit\",\n",
    "        [\"Bye. It was nice talking to you. See you soon :) \",],\n",
    "    ],\n",
    "]\n",
    "\n",
    "def chatbot():\n",
    "    print(\"Hi, I'm a chatbot created using NLTK library. You can ask me questions about my name and how I'm doing.\")\n",
    "    chat = Chat(pairs, reflections)\n",
    "    chat.converse()\n",
    "\n",
    "if __name__ == \"__main__\":\n",
    "    chatbot()"
   ]
  },
  {
   "cell_type": "markdown",
   "metadata": {},
   "source": [
    "91. Write a Python program that uses OpenCV to load an image, convert it to grayscale, and apply a Gaussian blur. Save and display the processed image."
   ]
  },
  {
   "cell_type": "code",
   "execution_count": null,
   "metadata": {},
   "outputs": [],
   "source": [
    "import cv2\n",
    "\n",
    "# Load the image\n",
    "image = cv2.imread('input.jpg')\n",
    "\n",
    "# Check if the image was loaded successfully\n",
    "if image is None:\n",
    "    print(\"Error: Could not load the image.\")\n",
    "    exit()\n",
    "\n",
    "# Convert the image to grayscale\n",
    "gray_image = cv2.cvtColor(image, cv2.COLOR_BGR2GRAY)\n",
    "\n",
    "# Apply Gaussian blur\n",
    "blurred_image = cv2.GaussianBlur(gray_image, (15, 15), 0)\n",
    "\n",
    "# Save the processed image\n",
    "cv2.imwrite('output.jpg', blurred_image)\n",
    "\n",
    "# Display the processed image\n",
    "cv2.imshow('Processed Image', blurred_image)\n",
    "cv2.waitKey(0)\n",
    "cv2.destroyAllWindows()"
   ]
  },
  {
   "cell_type": "markdown",
   "metadata": {},
   "source": [
    "92. Write a Python program that implements a simple neural network from scratch using only NumPy. The network should have one hidden layer and should be trained using the backpropagation algorithm on a small dataset."
   ]
  },
  {
   "cell_type": "code",
   "execution_count": null,
   "metadata": {},
   "outputs": [],
   "source": [
    "import numpy as np\n",
    "\n",
    "class NeuralNetwork:\n",
    "    def __init__(self, input_size, hidden_size, output_size):\n",
    "        self.input_size = input_size\n",
    "        self.hidden_size = hidden_size\n",
    "        self.output_size = output_size\n",
    "\n",
    "        self.weights_input_hidden = np.random.randn(self.input_size, self.hidden_size)\n",
    "        self.weights_hidden_output = np.random.randn(self.hidden_size, self.output_size)\n",
    "\n",
    "        self.bias_hidden = np.zeros((1, self.hidden_size))\n",
    "        self.bias_output = np.zeros((1, self.output_size))\n",
    "\n",
    "    def sigmoid(self, x):\n",
    "        return 1 / (1 + np.exp(-x))\n",
    "\n",
    "    def sigmoid_derivative(self, x):\n",
    "        return x * (1 - x)\n",
    "\n",
    "    def forward_pass(self, inputs):\n",
    "        self.hidden_inputs = np.dot(inputs, self.weights_input_hidden) + self.bias_hidden\n",
    "        self.hidden_outputs = self.sigmoid(self.hidden_inputs)\n",
    "\n",
    "        self.output_inputs = np.dot(self.hidden_outputs, self.weights_hidden_output) + self.bias_output\n",
    "        self.output_outputs = self.sigmoid(self.output_inputs)\n",
    "\n",
    "        return self.output_outputs\n",
    "\n",
    "    def backward_pass(self, inputs, targets, learning_rate):\n",
    "        output_error = targets - self.output_outputs\n",
    "        output_delta = output_error * self.sigmoid_derivative(self.output_outputs)\n",
    "\n",
    "        hidden_error = np.dot(output_delta, self.weights_hidden_output.T)\n",
    "        hidden_delta = hidden_error * self.sigmoid_derivative(self.hidden_outputs)\n",
    "\n",
    "        self.weights_hidden_output += np.dot(self.hidden_outputs.T, output_delta) * learning_rate\n",
    "        self.bias_output += np.sum(output_delta, axis=0, keepdims=True) * learning_rate\n",
    "\n",
    "        self.weights_input_hidden += np.dot(inputs.T, hidden_delta) * learning_rate\n",
    "        self.bias_hidden += np.sum(hidden_delta, axis=0, keepdims=True) * learning_rate\n",
    "\n",
    "    def train(self, inputs, targets, epochs, learning_rate):\n",
    "        for _ in range(epochs):\n",
    "            outputs = self.forward_pass(inputs)\n",
    "            self.backward_pass(inputs, targets, learning_rate)\n",
    "\n",
    "    def predict(self, inputs):\n",
    "        return self.forward_pass(inputs)\n",
    "\n",
    "\n",
    "# Example usage\n",
    "input_size = 2\n",
    "hidden_size = 4\n",
    "output_size = 1\n",
    "\n",
    "inputs = np.array([[0, 0], [0, 1], [1, 0], [1, 1]])\n",
    "targets = np.array([[0], [1], [1], [0]])\n",
    "\n",
    "nn = NeuralNetwork(input_size, hidden_size, output_size)\n",
    "nn.train(inputs, targets, epochs=10000, learning_rate=0.1)\n",
    "\n",
    "print(\"Predictions:\")\n",
    "for input in inputs:\n",
    "    prediction = nn.predict(np.array([input]))\n",
    "    print(f\"Input: {input}, Prediction: {prediction}\")"
   ]
  },
  {
   "cell_type": "markdown",
   "metadata": {},
   "source": [
    "93. Write a Flask application that connects to a SQLite database to store and retrieve user information. Implement routes to add a new user, retrieve all users, and delete a user by ID."
   ]
  },
  {
   "cell_type": "code",
   "execution_count": null,
   "metadata": {},
   "outputs": [],
   "source": [
    "from flask import Flask, request, jsonify\n",
    "from flask_sqlalchemy import SQLAlchemy\n",
    "\n",
    "app = Flask(__name__)\n",
    "app.config['SQLALCHEMY_DATABASE_URI'] = 'sqlite:///users.db'\n",
    "db = SQLAlchemy(app)\n",
    "\n",
    "class User(db.Model):\n",
    "    id = db.Column(db.Integer, primary_key=True)\n",
    "    name = db.Column(db.String(80), nullable=False)\n",
    "    email = db.Column(db.String(120), unique=True, nullable=False)\n",
    "\n",
    "    def __repr__(self):\n",
    "        return f'<User {self.name}>'\n",
    "\n",
    "@app.route('/add', methods=['POST'])\n",
    "def add_user():\n",
    "    data = request.get_json()\n",
    "    new_user = User(name=data['name'], email=data['email'])\n",
    "    db.session.add(new_user)\n",
    "    db.session.commit()\n",
    "    return jsonify({'message': 'New user added!'}), 201\n",
    "\n",
    "@app.route('/users', methods=['GET'])\n",
    "def get_users():\n",
    "    users = User.query.all()\n",
    "    output = []\n",
    "    for user in users:\n",
    "        user_data = {'id': user.id, 'name': user.name, 'email': user.email}\n",
    "        output.append(user_data)\n",
    "    return jsonify({'users': output})\n",
    "\n",
    "@app.route('/delete/<int:user_id>', methods=['DELETE'])\n",
    "def delete_user(user_id):\n",
    "    user = User.query.get_or_404(user_id)\n",
    "    db.session.delete(user)\n",
    "    db.session.commit()\n",
    "    return jsonify({'message': 'User deleted!'}), 200\n",
    "\n",
    "if __name__ == '__main__':\n",
    "    db.create_all()\n",
    "    app.run(debug=True)"
   ]
  },
  {
   "cell_type": "markdown",
   "metadata": {},
   "source": [
    "94. Write a Python program that uses Selenium to automate the process of logging into a website and navigating to a specific page. Provide instructions for testing the automation."
   ]
  },
  {
   "cell_type": "code",
   "execution_count": null,
   "metadata": {},
   "outputs": [],
   "source": [
    "from selenium import webdriver\n",
    "from selenium.webdriver.common.keys import Keys\n",
    "driver = webdriver.Chrome('/path/to/chromedriver')  # Replace with the path to your ChromeDriver\n",
    "driver.get('https://example.com')  # Replace with the URL of the website you want to automate\n",
    "\n",
    "username_input = driver.find_element_by_id('username')\n",
    "username_input.send_keys('your_username')  # Replace with your actual username\n",
    "\n",
    "password_input = driver.find_element_by_id('password')\n",
    "password_input.send_keys('your_password')  # Replace with your actual password\n",
    "\n",
    "login_button = driver.find_element_by_id('login-button')\n",
    "login_button.click()\n",
    "driver.get('https://example.com/specific-page')  # Replace with the URL of the specific page you want to navigate to\n",
    "from selenium import webdriver\n",
    "from selenium.webdriver.common.keys import Keys\n",
    "\n",
    "driver = webdriver.Chrome('/path/to/chromedriver')\n",
    "\n",
    "driver.get('https://example.com')\n",
    "\n",
    "username_input = driver.find_element_by_id('username')\n",
    "username_input.send_keys('your_username')\n",
    "\n",
    "password_input = driver.find_element_by_id('password')\n",
    "password_input.send_keys('your_password')\n",
    "\n",
    "login_button = driver.find_element_by_id('login-button')\n",
    "login_button.click()\n",
    "\n",
    "driver.get('https://example.com/specific-page')\n",
    "\n",
    "# Perform any additional actions or assertions here\n",
    "\n",
    "driver.quit()"
   ]
  },
  {
   "cell_type": "markdown",
   "metadata": {},
   "source": [
    "95. Write a Python program that uses Scikit-learn to build a logistic regression model to classify a dataset. Train the model on the Iris dataset, evaluate its accuracy, and print the results."
   ]
  },
  {
   "cell_type": "code",
   "execution_count": null,
   "metadata": {},
   "outputs": [],
   "source": [
    "from sklearn.datasets import load_iris\n",
    "from sklearn.model_selection import train_test_split\n",
    "from sklearn.linear_model import LogisticRegression\n",
    "from sklearn.metrics import accuracy_score\n",
    "\n",
    "# Load the Iris dataset\n",
    "iris = load_iris()\n",
    "X = iris.data\n",
    "y = iris.target\n",
    "\n",
    "# Split the dataset into training and testing sets\n",
    "X_train, X_test, y_train, y_test = train_test_split(X, y, test_size=0.2, random_state=42)\n",
    "\n",
    "# Build and train the logistic regression model\n",
    "model = LogisticRegression()\n",
    "model.fit(X_train, y_train)\n",
    "\n",
    "# Predict the labels of the testing set\n",
    "y_pred = model.predict(X_test)\n",
    "\n",
    "# Evaluate the accuracy of the model\n",
    "accuracy = accuracy_score(y_test, y_pred)\n",
    "\n",
    "# Print the results\n",
    "print(\"Accuracy:\", accuracy)"
   ]
  },
  {
   "cell_type": "markdown",
   "metadata": {},
   "source": [
    "96. Write a Python function called knapsack that solves the 0/1 knapsack problem using dynamic programming. Given a list of items with weights and values, and a maximum weight capacity, find the maximum value that can be obtained."
   ]
  },
  {
   "cell_type": "code",
   "execution_count": null,
   "metadata": {},
   "outputs": [],
   "source": [
    "def knapsack(weights, values, capacity):\n",
    "    n = len(weights)\n",
    "    dp = [[0] * (capacity + 1) for _ in range(n + 1)]\n",
    "\n",
    "    for i in range(1, n + 1):\n",
    "        for j in range(1, capacity + 1):\n",
    "            if weights[i - 1] <= j:\n",
    "                dp[i][j] = max(values[i - 1] + dp[i - 1][j - weights[i - 1]], dp[i - 1][j])\n",
    "            else:\n",
    "                dp[i][j] = dp[i - 1][j]\n",
    "\n",
    "    return dp[n][capacity]"
   ]
  },
  {
   "cell_type": "markdown",
   "metadata": {},
   "source": [
    "97. Write a Python program using the Scrapy framework to scrape product information (name, price, availability) from an e-commerce website and store the results in a CSV file."
   ]
  },
  {
   "cell_type": "code",
   "execution_count": null,
   "metadata": {},
   "outputs": [],
   "source": [
    "pip install scrapy\n",
    "scrapy startproject ecommerce_scraper\n",
    "cd ecommerce_scraper\n",
    "scrapy genspider product_spider example.com\n",
    "import scrapy\n",
    "\n",
    "class ProductSpider(scrapy.Spider):\n",
    "    name = 'product_spider'\n",
    "    start_urls = ['https://example.com/products']\n",
    "\n",
    "    def parse(self, response):\n",
    "        # Extract product information here\n",
    "        pass\n",
    "    import scrapy\n",
    "\n",
    "class ProductSpider(scrapy.Spider):\n",
    "    name = 'product_spider'\n",
    "    start_urls = ['https://example.com/products']\n",
    "\n",
    "    def parse(self, response):\n",
    "        products = response.css('.product-item')\n",
    "\n",
    "        for product in products:\n",
    "            name = product.css('.product-name::text').get()\n",
    "            price = product.css('.product-price::text').get()\n",
    "            availability = product.css('.product-availability::text').get()\n",
    "\n",
    "            yield {\n",
    "                'name': name,\n",
    "                'price': price,\n",
    "                'availability': availability,\n",
    "            }\n",
    "FEED_FORMAT = 'csv'\n",
    "FEED_URI = 'products.csv'\n",
    "\n",
    "FEED_EXPORT_FIELDS = ['name', 'price', 'availability']\n",
    "scrapy crawl product_spider"
   ]
  },
  {
   "cell_type": "markdown",
   "metadata": {},
   "source": [
    "98. Write a Python program that uses TensorFlow to implement a simple convolutional neural network (CNN) for image classification. Train the network on the CIFAR-10 dataset and evaluate its performance."
   ]
  },
  {
   "cell_type": "code",
   "execution_count": null,
   "metadata": {},
   "outputs": [],
   "source": [
    "import tensorflow as tf\n",
    "from tensorflow.keras.datasets import cifar10\n",
    "from tensorflow.keras.models import Sequential\n",
    "from tensorflow.keras.layers import Conv2D, MaxPooling2D, Flatten, Dense\n",
    "from tensorflow.keras.utils import to_categorical\n",
    "\n",
    "# Load the CIFAR-10 dataset\n",
    "(x_train, y_train), (x_test, y_test) = cifar10.load_data()\n",
    "\n",
    "# Preprocess the data\n",
    "x_train = x_train.astype('float32') / 255\n",
    "x_test = x_test.astype('float32') / 255\n",
    "\n",
    "y_train = to_categorical(y_train, 10)\n",
    "y_test = to_categorical(y_test, 10)\n",
    "\n",
    "# Build the CNN model\n",
    "model = Sequential()\n",
    "model.add(Conv2D(32, (3, 3), activation='relu', input_shape=(32, 32, 3)))\n",
    "model.add(MaxPooling2D((2, 2)))\n",
    "model.add(Conv2D(64, (3, 3), activation='relu'))\n",
    "model.add(MaxPooling2D((2, 2)))\n",
    "model.add(Conv2D(64, (3, 3), activation='relu'))\n",
    "model.add(Flatten())\n",
    "model.add(Dense(64, activation='relu'))\n",
    "model.add(Dense(10, activation='softmax'))\n",
    "\n",
    "# Compile the model\n",
    "model.compile(optimizer='adam', loss='categorical_crossentropy', metrics=['accuracy'])\n",
    "\n",
    "# Train the model\n",
    "model.fit(x_train, y_train, epochs=10, batch_size=64, validation_data=(x_test, y_test))\n",
    "\n",
    "# Evaluate the model\n",
    "test_loss, test_acc = model.evaluate(x_test, y_test)\n",
    "print(f\"Test accuracy: {test_acc:.2f}\")"
   ]
  },
  {
   "cell_type": "markdown",
   "metadata": {},
   "source": [
    "99. Write a Python program that uses PyTorch to implement a simple recurrent neural network (RNN) for text classification. Train the network on a small text dataset and print the accuracy."
   ]
  },
  {
   "cell_type": "code",
   "execution_count": null,
   "metadata": {},
   "outputs": [],
   "source": [
    "import torch\n",
    "import torch.nn as nn\n",
    "from torch.utils.data import Dataset, DataLoader\n",
    "\n",
    "# Define the RNN model\n",
    "class TextRNN(nn.Module):\n",
    "    def __init__(self, input_size, hidden_size, output_size):\n",
    "        super(TextRNN, self).__init__()\n",
    "        self.hidden_size = hidden_size\n",
    "        self.embedding = nn.Embedding(input_size, hidden_size)\n",
    "        self.rnn = nn.RNN(hidden_size, hidden_size)\n",
    "        self.fc = nn.Linear(hidden_size, output_size)\n",
    "\n",
    "    def forward(self, x):\n",
    "        batch_size = x.size(0)\n",
    "        hidden = self.init_hidden(batch_size)\n",
    "        embedded = self.embedding(x)\n",
    "        out, hidden = self.rnn(embedded, hidden)\n",
    "        out = self.fc(out[:, -1, :])\n",
    "        return out\n",
    "\n",
    "    def init_hidden(self, batch_size):\n",
    "        hidden = torch.zeros(1, batch_size, self.hidden_size)\n",
    "        return hidden\n",
    "\n",
    "# Define the text dataset\n",
    "class TextDataset(Dataset):\n",
    "    def __init__(self, data, labels, vocab_size):\n",
    "        self.data = data\n",
    "        self.labels = labels\n",
    "        self.vocab_size = vocab_size\n",
    "\n",
    "    def __len__(self):\n",
    "        return len(self.data)\n",
    "\n",
    "    def __getitem__(self, idx):\n",
    "        text = self.data[idx]\n",
    "        label = self.labels[idx]\n",
    "        return text, label\n",
    "\n",
    "# Training and testing the RNN model\n",
    "def train(model, train_loader, optimizer, criterion):\n",
    "    model.train()\n",
    "    for inputs, labels in train_loader:\n",
    "        optimizer.zero_grad()\n",
    "        outputs = model(inputs)\n",
    "        loss = criterion(outputs, labels)\n",
    "        loss.backward()\n",
    "        optimizer.step()\n",
    "\n",
    "def test(model, test_loader, criterion):\n",
    "    model.eval()\n",
    "    test_loss = 0\n",
    "    correct = 0\n",
    "    total = 0\n",
    "    with torch.no_grad():\n",
    "        for inputs, labels in test_loader:\n",
    "            outputs = model(inputs)\n",
    "            loss = criterion(outputs, labels)\n",
    "            test_loss += loss.item()\n",
    "            _, predicted = torch.max(outputs.data, 1)\n",
    "            total += labels.size(0)\n",
    "            correct += (predicted == labels).sum().item()\n",
    "    accuracy = 100 * correct / total\n",
    "    return accuracy\n",
    "\n",
    "# Example usage\n",
    "input_size = 10000  # Size of the vocabulary\n",
    "hidden_size = 128\n",
    "output_size = 2  # Number of classes\n",
    "\n",
    "model = TextRNN(input_size, hidden_size, output_size)\n",
    "\n",
    "# Load the dataset\n",
    "# ...\n",
    "\n",
    "train_dataset = TextDataset(train_data, train_labels, input_size)\n",
    "test_dataset = TextDataset(test_data, test_labels, input_size)\n",
    "\n",
    "train_loader = DataLoader(train_dataset, batch_size=64, shuffle=True)\n",
    "test_loader = DataLoader(test_dataset, batch_size=64)\n",
    "\n",
    "criterion = nn.CrossEntropyLoss()\n",
    "optimizer = torch.optim.Adam(model.parameters())\n",
    "\n",
    "# Train the model\n",
    "for epoch in range(10):\n",
    "    train(model, train_loader, optimizer, criterion)\n",
    "\n",
    "# Test the model\n",
    "accuracy = test(model, test_loader, criterion)\n",
    "print(f\"Accuracy: {accuracy:.2f}%\")"
   ]
  },
  {
   "cell_type": "markdown",
   "metadata": {},
   "source": [
    "100. Write a Python program that builds a recommendation system using collaborative filtering. Use a sample dataset of user-item interactions, and recommend items to a user based on similar users' preferences."
   ]
  },
  {
   "cell_type": "code",
   "execution_count": null,
   "metadata": {},
   "outputs": [],
   "source": [
    "from surprise import Dataset, Reader, KNNBasic\n",
    "from surprise.model_selection import train_test_split\n",
    "\n",
    "# Load the sample dataset\n",
    "# The dataset should be in a specific format (e.g., user-item interactions)\n",
    "# Here, we assume the dataset is in a CSV file named 'sample_dataset.csv'\n",
    "# The CSV file should have three columns: user, item, rating\n",
    "data = Dataset.load_from_file('sample_dataset.csv', reader=Reader(line_format='user item rating'))\n",
    "\n",
    "# Split the dataset into training and testing sets\n",
    "trainset, testset = train_test_split(data, test_size=0.2)\n",
    "\n",
    "# Use the K-Nearest Neighbors (KNN) algorithm for collaborative filtering\n",
    "algo = KNNBasic()\n",
    "\n",
    "# Train the algorithm on the training set\n",
    "algo.fit(trainset)\n",
    "\n",
    "# Test the algorithm on the testing set\n",
    "predictions = algo.test(testset)\n",
    "\n",
    "# Print the predicted ratings for the testing set\n",
    "for prediction in predictions:\n",
    "    print(f\"User {prediction.uid} rated item {prediction.iid} with predicted rating: {prediction.est:.2f}\")\n",
    "\n",
    "# Recommend items to a user based on similar users' preferences\n",
    "user_id = '123'  # Replace with the user ID for whom you want to recommend items\n",
    "\n",
    "# Get the top 5 recommended items for the user\n",
    "top_n = 5\n",
    "recommendations = algo.get_neighbors(trainset.to_inner_uid(user_id), k=top_n)\n",
    "\n",
    "print(f\"\\nTop {top_n} recommended items for user {user_id}:\")\n",
    "for recommendation in recommendations:\n",
    "    item_id = trainset.to_raw_iid(recommendation)\n",
    "    print(f\"Item {item_id}\")"
   ]
  },
  {
   "cell_type": "markdown",
   "metadata": {},
   "source": [
    "#### MODEL : CHATGPT"
   ]
  },
  {
   "cell_type": "markdown",
   "metadata": {},
   "source": [
    "1. Write a Python program that prints the string 'Hello, World!' to the console"
   ]
  },
  {
   "cell_type": "code",
   "execution_count": null,
   "metadata": {},
   "outputs": [],
   "source": [
    "print(\"Hello, World!\")"
   ]
  },
  {
   "cell_type": "markdown",
   "metadata": {},
   "source": [
    "2. Write a Python program that concatenates the strings 'Hello' and 'World' with a space in between and prints the result"
   ]
  },
  {
   "cell_type": "code",
   "execution_count": null,
   "metadata": {},
   "outputs": [],
   "source": [
    "greeting = \"Hello\" + \" \" + \"World\"\n",
    "print(greeting)"
   ]
  },
  {
   "cell_type": "markdown",
   "metadata": {},
   "source": [
    "3. Create a Python list containing the numbers 1, 2, and 3. Print the list to the console."
   ]
  },
  {
   "cell_type": "code",
   "execution_count": null,
   "metadata": {},
   "outputs": [],
   "source": [
    "numbers = [1, 2, 3]\n",
    "print(numbers)"
   ]
  },
  {
   "cell_type": "markdown",
   "metadata": {},
   "source": [
    "4. Write a Python program that adds the number 4 to the list [1, 2, 3] and prints the updated list."
   ]
  },
  {
   "cell_type": "code",
   "execution_count": null,
   "metadata": {},
   "outputs": [],
   "source": [
    "numbers = [1, 2, 3]\n",
    "numbers.append(4)\n",
    "print(numbers)"
   ]
  },
  {
   "cell_type": "markdown",
   "metadata": {},
   "source": [
    "5. Write a Python program that removes the number 2 from the list [1, 2, 3] and prints the updated list"
   ]
  },
  {
   "cell_type": "code",
   "execution_count": null,
   "metadata": {},
   "outputs": [],
   "source": [
    "numbers = [1, 2, 3]\n",
    "numbers.remove(2)\n",
    "print(numbers)"
   ]
  },
  {
   "cell_type": "markdown",
   "metadata": {},
   "source": [
    "6. Write a Python program that sorts the list [3, 1, 2] in ascending order and prints the sorted list"
   ]
  },
  {
   "cell_type": "code",
   "execution_count": null,
   "metadata": {},
   "outputs": [],
   "source": [
    "numbers = [3, 1, 2]\n",
    "numbers.sort()\n",
    "print(numbers)"
   ]
  },
  {
   "cell_type": "markdown",
   "metadata": {},
   "source": [
    "7. Write a Python program that reverses the list [1, 2, 3] and prints the reversed list."
   ]
  },
  {
   "cell_type": "code",
   "execution_count": null,
   "metadata": {},
   "outputs": [],
   "source": [
    "numbers = [1, 2, 3]\n",
    "numbers.reverse()\n",
    "print(numbers)"
   ]
  },
  {
   "cell_type": "markdown",
   "metadata": {},
   "source": [
    "8. Create a Python dictionary with the keys 'a', 'b', and 'c' and corresponding values 1, 2, and 3. Print the dictionary to the console."
   ]
  },
  {
   "cell_type": "code",
   "execution_count": null,
   "metadata": {},
   "outputs": [],
   "source": [
    "my_dict = {'a': 1, 'b': 2, 'c': 3}\n",
    "print(my_dict)"
   ]
  },
  {
   "cell_type": "markdown",
   "metadata": {},
   "source": [
    "9. Write a Python program that accesses the value associated with the key 'b' in the dictionary {'a': 1, 'b': 2, 'c': 3} and prints it"
   ]
  },
  {
   "cell_type": "code",
   "execution_count": null,
   "metadata": {},
   "outputs": [],
   "source": [
    "my_dict = {'a': 1, 'b': 2, 'c': 3}\n",
    "value = my_dict['b']\n",
    "print(value)"
   ]
  },
  {
   "cell_type": "markdown",
   "metadata": {},
   "source": [
    "10. Create a tuple (1, 2, 3) and print the first element of the tuple"
   ]
  },
  {
   "cell_type": "code",
   "execution_count": null,
   "metadata": {},
   "outputs": [],
   "source": [
    "my_tuple = (1, 2, 3)\n",
    "first_element = my_tuple[0]\n",
    "print(first_element)"
   ]
  },
  {
   "cell_type": "markdown",
   "metadata": {},
   "source": [
    "11. Write a Python program that checks if a number is greater than 10. If it is, print 'Greater', otherwise print 'Not Greater'"
   ]
  },
  {
   "cell_type": "code",
   "execution_count": null,
   "metadata": {},
   "outputs": [],
   "source": [
    "number = 15  # You can change this value to test different numbers\n",
    "\n",
    "if number > 10:\n",
    "    print(\"Greater\")\n",
    "else:\n",
    "    print(\"Not Greater\")\n"
   ]
  },
  {
   "cell_type": "markdown",
   "metadata": {},
   "source": [
    "12. Write a Python program that uses a for loop to iterate over the list [1, 2, 3] and prints each element.\""
   ]
  },
  {
   "cell_type": "code",
   "execution_count": null,
   "metadata": {},
   "outputs": [],
   "source": [
    "numbers = [1, 2, 3]\n",
    "\n",
    "for number in numbers:\n",
    "    print(number)"
   ]
  },
  {
   "cell_type": "markdown",
   "metadata": {},
   "source": [
    "13. Write a Python program that uses a while loop to print the numbers from 1 to 5."
   ]
  },
  {
   "cell_type": "code",
   "execution_count": null,
   "metadata": {},
   "outputs": [],
   "source": [
    "number = 1\n",
    "\n",
    "while number <= 5:\n",
    "    print(number)\n",
    "    number += 1"
   ]
  },
  {
   "cell_type": "markdown",
   "metadata": {},
   "source": [
    "14. Write a Python function called greet that takes no arguments and prints 'Hello!' when called."
   ]
  },
  {
   "cell_type": "code",
   "execution_count": null,
   "metadata": {},
   "outputs": [],
   "source": [
    "def greet():\n",
    "    print(\"Hello!\")\n",
    "\n",
    "# Calling the function\n",
    "greet()"
   ]
  },
  {
   "cell_type": "markdown",
   "metadata": {},
   "source": [
    "15. Write a Python function called add that takes two arguments and returns their sum. Call the function with the arguments 3 and 5, and print the result."
   ]
  },
  {
   "cell_type": "code",
   "execution_count": null,
   "metadata": {},
   "outputs": [],
   "source": [
    "def add(a, b):\n",
    "    return a + b\n",
    "\n",
    "# Calling the function with arguments 3 and 5\n",
    "result = add(3, 5)\n",
    "print(result)"
   ]
  },
  {
   "cell_type": "markdown",
   "metadata": {},
   "source": [
    "16. Write a Python function called square that takes a number as an argument and returns its square. Call the function with the argument 4, and print the result"
   ]
  },
  {
   "cell_type": "code",
   "execution_count": null,
   "metadata": {},
   "outputs": [],
   "source": [
    "def square(number):\n",
    "    return number ** 2\n",
    "\n",
    "# Calling the function with the argument 4\n",
    "result = square(4)\n",
    "print(result)"
   ]
  },
  {
   "cell_type": "markdown",
   "metadata": {},
   "source": [
    "17. Write a Python program that opens a file named 'example.txt' in read mode and prints its contents to the console."
   ]
  },
  {
   "cell_type": "code",
   "execution_count": null,
   "metadata": {},
   "outputs": [],
   "source": [
    "# Open the file in read mode\n",
    "with open('example.txt', 'r') as file:\n",
    "    # Read the contents of the file\n",
    "    content = file.read()\n",
    "    # Print the contents to the console\n",
    "    print(content)"
   ]
  },
  {
   "cell_type": "markdown",
   "metadata": {},
   "source": [
    "18. Write a Python program that opens a file named 'output.txt' in write mode, writes the string 'Hello, World!' to the file, and then closes the file."
   ]
  },
  {
   "cell_type": "code",
   "execution_count": null,
   "metadata": {},
   "outputs": [],
   "source": [
    "# Open the file in write mode\n",
    "with open('output.txt', 'w') as file:\n",
    "    # Write the string to the file\n",
    "    file.write('Hello, World!')\n",
    "\n",
    "# The file is automatically closed when the 'with' block is exited"
   ]
  },
  {
   "cell_type": "markdown",
   "metadata": {},
   "source": [
    "19. Write a Python program that opens a file named 'output.txt' in append mode, writes the string 'Appending this line.' to the file, and then closes the file."
   ]
  },
  {
   "cell_type": "code",
   "execution_count": null,
   "metadata": {},
   "outputs": [],
   "source": [
    "# Open the file in append mode\n",
    "with open('output.txt', 'a') as file:\n",
    "    # Write the string to the file\n",
    "    file.write('Appending this line.\\n')\n",
    "\n",
    "# The file is automatically closed when the 'with' block is exited"
   ]
  },
  {
   "cell_type": "markdown",
   "metadata": {},
   "source": [
    "20. Write a Python program that opens a file named 'example.txt' in read mode and prints each line to the console, one by one."
   ]
  },
  {
   "cell_type": "code",
   "execution_count": null,
   "metadata": {},
   "outputs": [],
   "source": [
    "# Open the file in read mode\n",
    "with open('example.txt', 'r') as file:\n",
    "    # Iterate over each line in the file\n",
    "    for line in file:\n",
    "        # Print the current line\n",
    "        print(line, end='')  # Use end='' to avoid adding extra newlines"
   ]
  },
  {
   "cell_type": "markdown",
   "metadata": {},
   "source": [
    "21. Write a Python program that raises a ValueError with the message 'An error occurred'."
   ]
  },
  {
   "cell_type": "code",
   "execution_count": null,
   "metadata": {},
   "outputs": [],
   "source": [
    "raise ValueError('An error occurred')"
   ]
  },
  {
   "cell_type": "markdown",
   "metadata": {},
   "source": [
    "22. Write a Python program that uses a for loop to iterate over the numbers 1 to 10. If the number is 5, break out of the loop."
   ]
  },
  {
   "cell_type": "code",
   "execution_count": null,
   "metadata": {},
   "outputs": [],
   "source": [
    "for number in range(1, 11):\n",
    "    if number == 5:\n",
    "        break\n",
    "    print(number)"
   ]
  },
  {
   "cell_type": "markdown",
   "metadata": {},
   "source": [
    "23. Write a Python program that uses a for loop to iterate over the numbers 1 to 5. If the number is 3, skip printing it and continue with the next iteration"
   ]
  },
  {
   "cell_type": "code",
   "execution_count": null,
   "metadata": {},
   "outputs": [],
   "source": [
    "for number in range(1, 6):\n",
    "    if number == 3:\n",
    "        continue\n",
    "    print(number)"
   ]
  },
  {
   "cell_type": "markdown",
   "metadata": {},
   "source": [
    "24. Write a Python program that attempts to divide 10 by 0 inside a try block, catches the resulting ZeroDivisionError in an except block, and prints 'Cannot divide by zero.'"
   ]
  },
  {
   "cell_type": "code",
   "execution_count": null,
   "metadata": {},
   "outputs": [],
   "source": [
    "try:\n",
    "    # Attempt to divide 10 by 0\n",
    "    result = 10 / 0\n",
    "except ZeroDivisionError:\n",
    "    # Handle the ZeroDivisionError\n",
    "    print('Cannot divide by zero.')"
   ]
  },
  {
   "cell_type": "markdown",
   "metadata": {},
   "source": [
    "25. Write a Python program that removes duplicates from the list [1, 2, 2, 3, 4, 4, 5] using a set, and prints the resulting list."
   ]
  },
  {
   "cell_type": "code",
   "execution_count": null,
   "metadata": {},
   "outputs": [],
   "source": [
    "# Original list with duplicates\n",
    "original_list = [1, 2, 2, 3, 4, 4, 5]\n",
    "\n",
    "# Remove duplicates by converting the list to a set, then back to a list\n",
    "unique_list = list(set(original_list))\n",
    "\n",
    "# Print the resulting list\n",
    "print(unique_list)"
   ]
  },
  {
   "cell_type": "markdown",
   "metadata": {},
   "source": [
    "26. Write a Python program that defines a lambda function to double a number. Use the lambda function to double the number 4 and print the result."
   ]
  },
  {
   "cell_type": "code",
   "execution_count": null,
   "metadata": {},
   "outputs": [],
   "source": [
    "# Define the lambda function to double a number\n",
    "double = lambda x: x * 2\n",
    "\n",
    "# Use the lambda function to double the number 4\n",
    "result = double(4)\n",
    "\n",
    "# Print the result\n",
    "print(result)\n"
   ]
  },
  {
   "cell_type": "markdown",
   "metadata": {},
   "source": [
    "27. Write a Python function called greet that takes a name as an argument and prints 'Hello, [name]!' where [name] is the argument. If no name is provided, default to 'World'. Call the function without arguments and then with the argument 'Alice'"
   ]
  },
  {
   "cell_type": "code",
   "execution_count": null,
   "metadata": {},
   "outputs": [],
   "source": [
    "def greet(name='World'):\n",
    "    print(f'Hello, {name}!')\n",
    "\n",
    "# Call the function without arguments\n",
    "greet()\n",
    "\n",
    "# Call the function with the argument 'Alice'\n",
    "greet('Alice')\n"
   ]
  },
  {
   "cell_type": "markdown",
   "metadata": {},
   "source": [
    "28. Write a Python function called apply that takes another function and a number as arguments, applies the function to the number, and returns the result. Define a separate function called square that squares a number. Pass square and 3 as arguments to apply, and print the result."
   ]
  },
  {
   "cell_type": "code",
   "execution_count": null,
   "metadata": {},
   "outputs": [],
   "source": [
    "# Define the function that squares a number\n",
    "def square(x):\n",
    "    return x ** 2\n",
    "\n",
    "# Define the function that applies another function to a number\n",
    "def apply(func, number):\n",
    "    return func(number)\n",
    "\n",
    "# Use the apply function to apply the square function to the number 3\n",
    "result = apply(square, 3)\n",
    "\n",
    "# Print the result\n",
    "print(result)"
   ]
  },
  {
   "cell_type": "markdown",
   "metadata": {},
   "source": [
    "29. Write a Python program that checks if a file named 'example.txt' exists in the current directory. If it does, print 'File exists', otherwise print 'File does not exist'"
   ]
  },
  {
   "cell_type": "code",
   "execution_count": null,
   "metadata": {},
   "outputs": [],
   "source": [
    "import os\n",
    "\n",
    "# Check if the file 'example.txt' exists in the current directory\n",
    "if os.path.isfile('example.txt'):\n",
    "    print('File exists')\n",
    "else:\n",
    "    print('File does not exist')"
   ]
  },
  {
   "cell_type": "markdown",
   "metadata": {},
   "source": [
    "30. Write a Python program that deletes a file named 'unnecessary.txt'. If the file does not exist, print 'File not found'"
   ]
  },
  {
   "cell_type": "code",
   "execution_count": null,
   "metadata": {},
   "outputs": [],
   "source": [
    "import os\n",
    "\n",
    "# File name to be deleted\n",
    "file_name = 'unnecessary.txt'\n",
    "\n",
    "# Check if the file exists\n",
    "if os.path.isfile(file_name):\n",
    "    # Delete the file\n",
    "    os.remove(file_name)\n",
    "    print('File deleted')\n",
    "else:\n",
    "    print('File not found')"
   ]
  },
  {
   "cell_type": "markdown",
   "metadata": {},
   "source": [
    "31. Write a Python class called Person that has a single attribute name. Instantiate an object of the class with the name 'Alice' and print the name."
   ]
  },
  {
   "cell_type": "code",
   "execution_count": null,
   "metadata": {},
   "outputs": [],
   "source": [
    "class Person:\n",
    "    def __init__(self, name):\n",
    "        self.name = name\n",
    "\n",
    "# Instantiate an object of the Person class with the name 'Alice'\n",
    "person = Person('Alice')\n",
    "\n",
    "# Print the name attribute of the person object\n",
    "print(person.name)"
   ]
  },
  {
   "cell_type": "markdown",
   "metadata": {},
   "source": [
    "32. Write a Python class called Car with an attribute model. Create an instance of Car with the model 'Toyota' and print the model."
   ]
  },
  {
   "cell_type": "code",
   "execution_count": null,
   "metadata": {},
   "outputs": [],
   "source": [
    "class Car:\n",
    "    def __init__(self, model):\n",
    "        self.model = model\n",
    "\n",
    "# Create an instance of Car with the model 'Toyota'\n",
    "car = Car('Toyota')\n",
    "\n",
    "# Print the model attribute of the car object\n",
    "print(car.model)"
   ]
  },
  {
   "cell_type": "markdown",
   "metadata": {},
   "source": [
    "33. Write a Python program that uses a list comprehension to create a list of squares for the numbers 1 through 5, and prints the resulting list. "
   ]
  },
  {
   "cell_type": "code",
   "execution_count": null,
   "metadata": {},
   "outputs": [],
   "source": [
    "# Create a list of squares for the numbers 1 through 5 using a list comprehension\n",
    "squares = [x ** 2 for x in range(1, 6)]\n",
    "\n",
    "# Print the resulting list\n",
    "print(squares)"
   ]
  },
  {
   "cell_type": "markdown",
   "metadata": {},
   "source": [
    "34. Write a Python program that uses a for loop to sum the numbers in the list [1, 2, 3, 4, 5] and prints the result."
   ]
  },
  {
   "cell_type": "code",
   "execution_count": null,
   "metadata": {},
   "outputs": [],
   "source": [
    "# List of numbers\n",
    "numbers = [1, 2, 3, 4, 5]\n",
    "\n",
    "# Initialize the sum variable\n",
    "total_sum = 0\n",
    "\n",
    "# Use a for loop to sum the numbers\n",
    "for number in numbers:\n",
    "    total_sum += number\n",
    "\n",
    "# Print the result\n",
    "print(total_sum)"
   ]
  },
  {
   "cell_type": "markdown",
   "metadata": {},
   "source": [
    "35. Write a Python program that generates a random number between 1 and 10 and prints it. "
   ]
  },
  {
   "cell_type": "code",
   "execution_count": null,
   "metadata": {},
   "outputs": [],
   "source": [
    "import random\n",
    "\n",
    "# Generate a random number between 1 and 10 (inclusive)\n",
    "random_number = random.randint(1, 10)\n",
    "\n",
    "# Print the random number\n",
    "print(random_number)"
   ]
  },
  {
   "cell_type": "markdown",
   "metadata": {},
   "source": [
    "36. Write a Python program that measures and prints the time it takes to execute a for loop that sums the numbers from 1 to 1,000,000."
   ]
  },
  {
   "cell_type": "code",
   "execution_count": null,
   "metadata": {},
   "outputs": [],
   "source": [
    "import time\n",
    "\n",
    "# Record the start time\n",
    "start_time = time.time()\n",
    "\n",
    "# Sum the numbers from 1 to 1,000,000 using a for loop\n",
    "total_sum = 0\n",
    "for number in range(1, 1000001):\n",
    "    total_sum += number\n",
    "\n",
    "# Record the end time\n",
    "end_time = time.time()\n",
    "\n",
    "# Calculate the time taken to execute the for loop\n",
    "time_taken = end_time - start_time\n",
    "\n",
    "# Print the total sum and the time taken\n",
    "print(f'Total Sum: {total_sum}')\n",
    "print(f'Time Taken: {time_taken:.6f} seconds')"
   ]
  },
  {
   "cell_type": "markdown",
   "metadata": {},
   "source": [
    "37. Write a Python decorator called my_decorator that prints 'Starting' before the decorated function is called, and 'Finished' after the function is called. Apply this decorator to a function that prints 'Hello!' and then call the decorated function."
   ]
  },
  {
   "cell_type": "code",
   "execution_count": null,
   "metadata": {},
   "outputs": [],
   "source": [
    "# Define the decorator\n",
    "def my_decorator(func):\n",
    "    def wrapper():\n",
    "        print('Starting')\n",
    "        func()\n",
    "        print('Finished')\n",
    "    return wrapper\n",
    "\n",
    "# Define a function to be decorated\n",
    "@my_decorator\n",
    "def say_hello():\n",
    "    print('Hello!')\n",
    "\n",
    "# Call the decorated function\n",
    "say_hello()"
   ]
  },
  {
   "cell_type": "markdown",
   "metadata": {},
   "source": [
    "38. Write a Python class called BankAccount with a private attribute _balance. Implement methods to deposit and withdraw money, and a method to print the current balance."
   ]
  },
  {
   "cell_type": "code",
   "execution_count": null,
   "metadata": {},
   "outputs": [],
   "source": [
    "class BankAccount:\n",
    "    def __init__(self, initial_balance=0):\n",
    "        # Initialize the private balance attribute\n",
    "        self._balance = initial_balance\n",
    "\n",
    "    def deposit(self, amount):\n",
    "        \"\"\"Deposit money into the account.\"\"\"\n",
    "        if amount > 0:\n",
    "            self._balance += amount\n",
    "        else:\n",
    "            print('Deposit amount must be positive.')\n",
    "\n",
    "    def withdraw(self, amount):\n",
    "        \"\"\"Withdraw money from the account.\"\"\"\n",
    "        if amount > 0:\n",
    "            if amount <= self._balance:\n",
    "                self._balance -= amount\n",
    "            else:\n",
    "                print('Insufficient funds.')\n",
    "        else:\n",
    "            print('Withdrawal amount must be positive.')\n",
    "\n",
    "    def print_balance(self):\n",
    "        \"\"\"Print the current balance.\"\"\"\n",
    "        print(f'Current balance: ${self._balance:.2f}')\n",
    "\n",
    "# Example usage\n",
    "account = BankAccount(100)  # Initialize with an initial balance of $100\n",
    "account.deposit(50)          # Deposit $50\n",
    "account.withdraw(30)         # Withdraw $30\n",
    "account.print_balance()     # Print the current balance"
   ]
  },
  {
   "cell_type": "markdown",
   "metadata": {},
   "source": [
    "39. Write a Python program that creates a 2D list representing a matrix with the following values: [[1, 2], [3, 4]]. Print the element in the first row and second column."
   ]
  },
  {
   "cell_type": "code",
   "execution_count": null,
   "metadata": {},
   "outputs": [],
   "source": [
    "# Create the 2D list (matrix)\n",
    "matrix = [[1, 2], [3, 4]]\n",
    "\n",
    "# Access and print the element in the first row and second column\n",
    "element = matrix[0][1]\n",
    "print(element)"
   ]
  },
  {
   "cell_type": "markdown",
   "metadata": {},
   "source": [
    "40. Write a Python decorator called log_function_call that logs the name of a function each time it is called. Apply this decorator to a function that prints 'Executing function' and then call the decorated function."
   ]
  },
  {
   "cell_type": "code",
   "execution_count": null,
   "metadata": {},
   "outputs": [],
   "source": [
    "# Define the decorator\n",
    "def log_function_call(func):\n",
    "    def wrapper(*args, **kwargs):\n",
    "        print(f'Calling function: {func.__name__}')\n",
    "        return func(*args, **kwargs)\n",
    "    return wrapper\n",
    "\n",
    "# Define a function to be decorated\n",
    "@log_function_call\n",
    "def execute():\n",
    "    print('Executing function')\n",
    "\n",
    "# Call the decorated function\n",
    "execute()"
   ]
  },
  {
   "cell_type": "markdown",
   "metadata": {},
   "source": [
    "41. Write a Python class called Stack that implements a stack using a list. Implement methods push, pop, and is_empty. Demonstrate the stack operations by pushing and popping some elements."
   ]
  },
  {
   "cell_type": "code",
   "execution_count": null,
   "metadata": {},
   "outputs": [],
   "source": [
    "class Stack:\n",
    "    def __init__(self):\n",
    "        # Initialize an empty stack\n",
    "        self._stack = []\n",
    "\n",
    "    def push(self, item):\n",
    "        \"\"\"Push an item onto the stack.\"\"\"\n",
    "        self._stack.append(item)\n",
    "\n",
    "    def pop(self):\n",
    "        \"\"\"Pop an item off the stack and return it. Raise an IndexError if the stack is empty.\"\"\"\n",
    "        if not self.is_empty():\n",
    "            return self._stack.pop()\n",
    "        else:\n",
    "            raise IndexError(\"Pop from an empty stack\")\n",
    "\n",
    "    def is_empty(self):\n",
    "        \"\"\"Return True if the stack is empty, False otherwise.\"\"\"\n",
    "        return len(self._stack) == 0\n",
    "\n",
    "# Demonstrate stack operations\n",
    "stack = Stack()\n",
    "\n",
    "# Push some elements onto the stack\n",
    "stack.push(1)\n",
    "stack.push(2)\n",
    "stack.push(3)\n",
    "\n",
    "print(\"Stack after pushing elements:\", stack._stack)\n",
    "\n",
    "# Pop elements from the stack\n",
    "print(\"Popped element:\", stack.pop())\n",
    "print(\"Popped element:\", stack.pop())\n",
    "\n",
    "print(\"Stack after popping elements:\", stack._stack)\n",
    "\n",
    "# Check if the stack is empty\n",
    "print(\"Is the stack empty?\", stack.is_empty())\n",
    "\n",
    "# Pop the last element\n",
    "print(\"Popped element:\", stack.pop())\n",
    "\n",
    "# Check if the stack is empty again\n",
    "print(\"Is the stack empty?\", stack.is_empty())"
   ]
  },
  {
   "cell_type": "markdown",
   "metadata": {},
   "source": [
    "42. Write a Python class called Queue that implements a queue using a list. Implement methods enqueue, dequeue, and is_empty. Demonstrate the queue operations by enqueueing and dequeueing some elements.\" "
   ]
  },
  {
   "cell_type": "code",
   "execution_count": null,
   "metadata": {},
   "outputs": [],
   "source": [
    "class Queue:\n",
    "    def __init__(self):\n",
    "        # Initialize an empty queue\n",
    "        self._queue = []\n",
    "\n",
    "    def enqueue(self, item):\n",
    "        \"\"\"Add an item to the end of the queue.\"\"\"\n",
    "        self._queue.append(item)\n",
    "\n",
    "    def dequeue(self):\n",
    "        \"\"\"Remove and return the item from the front of the queue. Raise an IndexError if the queue is empty.\"\"\"\n",
    "        if not self.is_empty():\n",
    "            return self._queue.pop(0)\n",
    "        else:\n",
    "            raise IndexError(\"Dequeue from an empty queue\")\n",
    "\n",
    "    def is_empty(self):\n",
    "        \"\"\"Return True if the queue is empty, False otherwise.\"\"\"\n",
    "        return len(self._queue) == 0\n",
    "\n",
    "# Demonstrate queue operations\n",
    "queue = Queue()\n",
    "\n",
    "# Enqueue some elements\n",
    "queue.enqueue(1)\n",
    "queue.enqueue(2)\n",
    "queue.enqueue(3)\n",
    "\n",
    "print(\"Queue after enqueueing elements:\", queue._queue)\n",
    "\n",
    "# Dequeue elements from the queue\n",
    "print(\"Dequeued element:\", queue.dequeue())\n",
    "print(\"Dequeued element:\", queue.dequeue())\n",
    "\n",
    "print(\"Queue after dequeueing elements:\", queue._queue)\n",
    "\n",
    "# Check if the queue is empty\n",
    "print(\"Is the queue empty?\", queue.is_empty())\n",
    "\n",
    "# Dequeue the last element\n",
    "print(\"Dequeued element:\", queue.dequeue())\n",
    "\n",
    "# Check if the queue is empty again\n",
    "print(\"Is the queue empty?\", queue.is_empty())"
   ]
  },
  {
   "cell_type": "markdown",
   "metadata": {},
   "source": [
    "43. Write a Python function called factorial that calculates the factorial of a number using recursion. Calculate the factorial of 5 and print the result."
   ]
  },
  {
   "cell_type": "code",
   "execution_count": null,
   "metadata": {},
   "outputs": [],
   "source": [
    "def factorial(n):\n",
    "    \"\"\"Calculate the factorial of a number using recursion.\"\"\"\n",
    "    if n == 0 or n == 1:\n",
    "        return 1\n",
    "    else:\n",
    "        return n * factorial(n - 1)\n",
    "\n",
    "# Calculate the factorial of 5\n",
    "result = factorial(5)\n",
    "\n",
    "# Print the result\n",
    "print(\"Factorial of 5 is:\", result)"
   ]
  },
  {
   "cell_type": "markdown",
   "metadata": {},
   "source": [
    "44. Write a Python class called Counter with a class attribute count that tracks the number of instances created. Implement a class method increment that increments count each time a new instance is created. Demonstrate this by creating multiple instances and printing count."
   ]
  },
  {
   "cell_type": "code",
   "execution_count": null,
   "metadata": {},
   "outputs": [],
   "source": [
    "class Counter:\n",
    "    # Class attribute to track the number of instances\n",
    "    count = 0\n",
    "\n",
    "    def __init__(self):\n",
    "        # Increment the count each time a new instance is created\n",
    "        Counter.increment()\n",
    "\n",
    "    @classmethod\n",
    "    def increment(cls):\n",
    "        \"\"\"Increment the count of instances.\"\"\"\n",
    "        cls.count += 1\n",
    "\n",
    "# Create multiple instances of Counter\n",
    "c1 = Counter()\n",
    "c2 = Counter()\n",
    "c3 = Counter()\n",
    "\n",
    "# Print the count of instances\n",
    "print(\"Number of Counter instances created:\", Counter.count)"
   ]
  },
  {
   "cell_type": "markdown",
   "metadata": {},
   "source": [
    "45. Write a Python class called Animal with a method speak that prints 'Animal sound'. Create a subclass Dog that overrides speak to print 'Bark'. Instantiate Dog and call speak."
   ]
  },
  {
   "cell_type": "code",
   "execution_count": null,
   "metadata": {},
   "outputs": [],
   "source": [
    "class Animal:\n",
    "    def speak(self):\n",
    "        \"\"\"Prints a generic animal sound.\"\"\"\n",
    "        print('Animal sound')\n",
    "\n",
    "class Dog(Animal):\n",
    "    def speak(self):\n",
    "        \"\"\"Override speak method to print 'Bark'.\"\"\"\n",
    "        print('Bark')\n",
    "\n",
    "# Instantiate Dog and call speak\n",
    "dog = Dog()\n",
    "dog.speak()"
   ]
  },
  {
   "cell_type": "markdown",
   "metadata": {},
   "source": [
    "46. Write a Python class called Vehicle with a method move that prints 'Moving'. Create a subclass Car that overrides move to print 'Driving'. Instantiate Car and call move."
   ]
  },
  {
   "cell_type": "code",
   "execution_count": null,
   "metadata": {},
   "outputs": [],
   "source": [
    "class Vehicle:\n",
    "    def move(self):\n",
    "        \"\"\"Prints a generic moving message.\"\"\"\n",
    "        print('Moving')\n",
    "\n",
    "class Car(Vehicle):\n",
    "    def move(self):\n",
    "        \"\"\"Override move method to print 'Driving'.\"\"\"\n",
    "        print('Driving')\n",
    "\n",
    "# Instantiate Car and call move\n",
    "car = Car()\n",
    "car.move()"
   ]
  },
  {
   "cell_type": "markdown",
   "metadata": {},
   "source": [
    "47. Write a Python program that sorts a list of dictionaries by the key 'age'. For example, given people = [{'name': 'Alice', 'age': 25}, {'name': 'Bob', 'age': 20}], sort the list by age and print the sorted list."
   ]
  },
  {
   "cell_type": "code",
   "execution_count": null,
   "metadata": {},
   "outputs": [],
   "source": [
    "# List of dictionaries\n",
    "people = [{'name': 'Alice', 'age': 25}, {'name': 'Bob', 'age': 20}]\n",
    "\n",
    "# Sort the list of dictionaries by the 'age' key\n",
    "sorted_people = sorted(people, key=lambda x: x['age'])\n",
    "\n",
    "# Print the sorted list\n",
    "print(sorted_people)"
   ]
  },
  {
   "cell_type": "markdown",
   "metadata": {},
   "source": [
    "48. Write a Python function called linear_search that takes a list and a target value, and returns the index of the target value if found, or -1 if not found. Use this function to search for the value 3 in the list [1, 2, 3, 4, 5]."
   ]
  },
  {
   "cell_type": "code",
   "execution_count": null,
   "metadata": {},
   "outputs": [],
   "source": [
    "def linear_search(lst, target):\n",
    "    \"\"\"Perform a linear search to find the index of the target value.\"\"\"\n",
    "    for index, value in enumerate(lst):\n",
    "        if value == target:\n",
    "            return index\n",
    "    return -1\n",
    "\n",
    "# List to search\n",
    "numbers = [1, 2, 3, 4, 5]\n",
    "\n",
    "# Target value to search for\n",
    "target_value = 3\n",
    "\n",
    "# Perform the search\n",
    "index = linear_search(numbers, target_value)\n",
    "\n",
    "# Print the result\n",
    "print(\"Index of\", target_value, \"is:\", index)"
   ]
  },
  {
   "cell_type": "markdown",
   "metadata": {},
   "source": [
    "49. Write a Python function called bubble_sort that implements the bubble sort algorithm to sort a list of numbers in ascending order. Use this function to sort the list [5, 3, 8, 4, 2] and print the sorted list"
   ]
  },
  {
   "cell_type": "code",
   "execution_count": null,
   "metadata": {},
   "outputs": [],
   "source": [
    "def bubble_sort(lst):\n",
    "    \"\"\"Sort a list of numbers using the bubble sort algorithm.\"\"\"\n",
    "    n = len(lst)\n",
    "    for i in range(n):\n",
    "        # Track if any swaps are made in this pass\n",
    "        swapped = False\n",
    "        for j in range(0, n - i - 1):\n",
    "            if lst[j] > lst[j + 1]:\n",
    "                # Swap the elements\n",
    "                lst[j], lst[j + 1] = lst[j + 1], lst[j]\n",
    "                swapped = True\n",
    "        # If no elements were swapped, the list is already sorted\n",
    "        if not swapped:\n",
    "            break\n",
    "\n",
    "# List to be sorted\n",
    "numbers = [5, 3, 8, 4, 2]\n",
    "\n",
    "# Perform the bubble sort\n",
    "bubble_sort(numbers)\n",
    "\n",
    "# Print the sorted list\n",
    "print(\"Sorted list:\", numbers)"
   ]
  },
  {
   "cell_type": "markdown",
   "metadata": {},
   "source": [
    "50. Write a Python function called binary_search that implements the binary search algorithm to find a target value in a sorted list. Use this function to find the index of the value 4 in the sorted list [1, 2, 3, 4, 5]."
   ]
  },
  {
   "cell_type": "code",
   "execution_count": null,
   "metadata": {},
   "outputs": [],
   "source": [
    "def binary_search(sorted_list, target):\n",
    "    \"\"\"Perform a binary search to find the index of the target value in a sorted list.\"\"\"\n",
    "    left, right = 0, len(sorted_list) - 1\n",
    "    \n",
    "    while left <= right:\n",
    "        mid = (left + right) // 2\n",
    "        mid_value = sorted_list[mid]\n",
    "        \n",
    "        if mid_value == target:\n",
    "            return mid\n",
    "        elif mid_value < target:\n",
    "            left = mid + 1\n",
    "        else:\n",
    "            right = mid - 1\n",
    "    \n",
    "    return -1  # Target not found\n",
    "\n",
    "# Sorted list to search\n",
    "sorted_list = [1, 2, 3, 4, 5]\n",
    "\n",
    "# Target value to search for\n",
    "target_value = 4\n",
    "\n",
    "# Perform the binary search\n",
    "index = binary_search(sorted_list, target_value)\n",
    "\n",
    "# Print the result\n",
    "print(\"Index of\", target_value, \"is:\", index)"
   ]
  },
  {
   "cell_type": "markdown",
   "metadata": {},
   "source": [
    "51. Write a Python program that creates a dictionary representing a student's grades for different subjects, e.g., grades = {'Math': {'midterm': 90, 'final': 85}, 'Science': {'midterm': 88, 'final': 92}}. Access and print the final grade in Science."
   ]
  },
  {
   "cell_type": "code",
   "execution_count": null,
   "metadata": {},
   "outputs": [],
   "source": [
    "# Dictionary representing the student's grades\n",
    "grades = {\n",
    "    'Math': {'midterm': 90, 'final': 85},\n",
    "    'Science': {'midterm': 88, 'final': 92}\n",
    "}\n",
    "\n",
    "# Access and print the final grade in Science\n",
    "final_grade_science = grades['Science']['final']\n",
    "print(\"Final grade in Science:\", final_grade_science)"
   ]
  },
  {
   "cell_type": "markdown",
   "metadata": {},
   "source": [
    "52. Write a Python class called Node representing a node in a singly linked list, with attributes data and next_node. Implement a class called LinkedList with methods to insert a node at the beginning, end, and to print the list. Demonstrate by inserting and printing nodes."
   ]
  },
  {
   "cell_type": "code",
   "execution_count": null,
   "metadata": {},
   "outputs": [],
   "source": [
    "class Node:\n",
    "    def __init__(self, data):\n",
    "        \"\"\"Initialize a node with data and next_node set to None.\"\"\"\n",
    "        self.data = data\n",
    "        self.next_node = None\n",
    "\n",
    "class LinkedList:\n",
    "    def __init__(self):\n",
    "        \"\"\"Initialize an empty linked list with head set to None.\"\"\"\n",
    "        self.head = None\n",
    "\n",
    "    def insert_at_beginning(self, data):\n",
    "        \"\"\"Insert a new node with the given data at the beginning of the list.\"\"\"\n",
    "        new_node = Node(data)\n",
    "        new_node.next_node = self.head\n",
    "        self.head = new_node\n",
    "\n",
    "    def insert_at_end(self, data):\n",
    "        \"\"\"Insert a new node with the given data at the end of the list.\"\"\"\n",
    "        new_node = Node(data)\n",
    "        if self.head is None:\n",
    "            self.head = new_node\n",
    "        else:\n",
    "            current = self.head\n",
    "            while current.next_node:\n",
    "                current = current.next_node\n",
    "            current.next_node = new_node\n",
    "\n",
    "    def print_list(self):\n",
    "        \"\"\"Print all nodes in the linked list.\"\"\"\n",
    "        current = self.head\n",
    "        while current:\n",
    "            print(current.data, end=' -> ')\n",
    "            current = current.next_node\n",
    "        print('None')\n",
    "\n",
    "# Demonstrate inserting and printing nodes\n",
    "ll = LinkedList()\n",
    "\n",
    "# Insert nodes at the beginning\n",
    "ll.insert_at_beginning(3)\n",
    "ll.insert_at_beginning(2)\n",
    "ll.insert_at_beginning(1)\n",
    "\n",
    "# Insert nodes at the end\n",
    "ll.insert_at_end(4)\n",
    "ll.insert_at_end(5)\n",
    "\n",
    "# Print the list\n",
    "ll.print_list()"
   ]
  },
  {
   "cell_type": "markdown",
   "metadata": {},
   "source": [
    "53. Write a Python function called gcd that calculates the greatest common divisor (GCD) of two numbers using the Euclidean algorithm. Calculate the GCD of 48 and 18 and print the result."
   ]
  },
  {
   "cell_type": "code",
   "execution_count": null,
   "metadata": {},
   "outputs": [],
   "source": [
    "def gcd(a, b):\n",
    "    \"\"\"Calculate the greatest common divisor of two numbers using the Euclidean algorithm.\"\"\"\n",
    "    while b != 0:\n",
    "        a, b = b, a % b\n",
    "    return a\n",
    "\n",
    "# Numbers to find the GCD of\n",
    "num1 = 48\n",
    "num2 = 18\n",
    "\n",
    "# Calculate the GCD\n",
    "result = gcd(num1, num2)\n",
    "\n",
    "# Print the result\n",
    "print(\"GCD of\", num1, \"and\", num2, \"is:\", result)"
   ]
  },
  {
   "cell_type": "markdown",
   "metadata": {},
   "source": [
    "54. Write a Python function called is_prime that checks if a number is prime. Use this function to check if 29 is prime and print the result."
   ]
  },
  {
   "cell_type": "code",
   "execution_count": null,
   "metadata": {},
   "outputs": [],
   "source": [
    "def is_prime(n):\n",
    "    \"\"\"Check if a number is a prime number.\"\"\"\n",
    "    if n <= 1:\n",
    "        return False\n",
    "    if n <= 3:\n",
    "        return True\n",
    "    if n % 2 == 0 or n % 3 == 0:\n",
    "        return False\n",
    "    i = 5\n",
    "    while i * i <= n:\n",
    "        if n % i == 0 or n % (i + 2) == 0:\n",
    "            return False\n",
    "        i += 6\n",
    "    return True\n",
    "\n",
    "# Number to check\n",
    "number = 29\n",
    "\n",
    "# Check if the number is prime\n",
    "result = is_prime(number)\n",
    "\n",
    "# Print the result\n",
    "print(f\"{number} is prime: {result}\")"
   ]
  },
  {
   "cell_type": "markdown",
   "metadata": {},
   "source": [
    "55.Write a Python function called factorial that calculates the factorial of a number using a loop. Calculate the factorial of 6 and print the result.\""
   ]
  },
  {
   "cell_type": "code",
   "execution_count": null,
   "metadata": {},
   "outputs": [],
   "source": [
    "def factorial(n):\n",
    "    \"\"\"Calculate the factorial of a number using a loop.\"\"\"\n",
    "    result = 1\n",
    "    for i in range(1, n + 1):\n",
    "        result *= i\n",
    "    return result\n",
    "\n",
    "# Number to calculate the factorial of\n",
    "number = 6\n",
    "\n",
    "# Calculate the factorial\n",
    "result = factorial(number)\n",
    "\n",
    "# Print the result\n",
    "print(f\"Factorial of {number} is: {result}\")"
   ]
  },
  {
   "cell_type": "markdown",
   "metadata": {},
   "source": [
    "56. Write a simple Flask application with a single route that returns 'Hello, World!' when accessed. Run the Flask app and provide instructions to test the endpoint."
   ]
  },
  {
   "cell_type": "code",
   "execution_count": null,
   "metadata": {},
   "outputs": [],
   "source": [
    "from flask import Flask\n",
    "\n",
    "app = Flask(__name__)\n",
    "\n",
    "@app.route('/')\n",
    "def hello_world():\n",
    "    return 'Hello, World!'\n",
    "\n",
    "if __name__ == '__main__':\n",
    "    app.run(debug=True)"
   ]
  },
  {
   "cell_type": "markdown",
   "metadata": {},
   "source": [
    "57. Write a Python program that uses nested loops to print a multiplication table (from 1 to 10). Format the output as a grid."
   ]
  },
  {
   "cell_type": "code",
   "execution_count": null,
   "metadata": {},
   "outputs": [],
   "source": [
    "def print_multiplication_table(size):\n",
    "    \"\"\"Print a multiplication table of given size.\"\"\"\n",
    "    # Print header row\n",
    "    header = ' ' * 4  # Space for the top-left corner\n",
    "    for i in range(1, size + 1):\n",
    "        header += f\"{i:4}\"  # Format each number to take up 4 spaces\n",
    "    print(header)\n",
    "    \n",
    "    # Print the table rows\n",
    "    for i in range(1, size + 1):\n",
    "        row = f\"{i:2} \"  # Start with the row label\n",
    "        for j in range(1, size + 1):\n",
    "            row += f\"{i * j:4}\"  # Format each cell to take up 4 spaces\n",
    "        print(row)\n",
    "\n",
    "# Print a 10x10 multiplication table\n",
    "print_multiplication_table(10)"
   ]
  },
  {
   "cell_type": "markdown",
   "metadata": {},
   "source": [
    "58. Write a Python class called Vector with attributes x and y. Overload the + operator to add two Vector objects by summing their x and y attributes. Demonstrate by adding two Vector objects and printing the result."
   ]
  },
  {
   "cell_type": "code",
   "execution_count": null,
   "metadata": {},
   "outputs": [],
   "source": [
    "class Vector:\n",
    "    def __init__(self, x, y):\n",
    "        self.x = x\n",
    "        self.y = y\n",
    "\n",
    "    def __add__(self, other):\n",
    "        \"\"\"Override the + operator to add two Vector objects.\"\"\"\n",
    "        return Vector(self.x + other.x, self.y + other.y)\n",
    "\n",
    "    def __str__(self):\n",
    "        \"\"\"Provide a string representation of the Vector object.\"\"\"\n",
    "        return f\"Vector({self.x}, {self.y})\"\n",
    "\n",
    "# Create two Vector objects\n",
    "vector1 = Vector(2, 3)\n",
    "vector2 = Vector(4, 5)\n",
    "\n",
    "# Add the two vectors\n",
    "result = vector1 + vector2\n",
    "\n",
    "# Print the result\n",
    "print(\"Result of adding\", vector1, \"and\", vector2, \"is\", result)"
   ]
  },
  {
   "cell_type": "markdown",
   "metadata": {},
   "source": [
    "59. Write a Python function called fibonacci that generates the nth Fibonacci number using recursion. Calculate and print the 10th Fibonacci number."
   ]
  },
  {
   "cell_type": "code",
   "execution_count": null,
   "metadata": {},
   "outputs": [],
   "source": [
    "def fibonacci(n):\n",
    "    \"\"\"Generate the nth Fibonacci number using recursion.\"\"\"\n",
    "    if n <= 0:\n",
    "        return 0\n",
    "    elif n == 1:\n",
    "        return 1\n",
    "    else:\n",
    "        return fibonacci(n - 1) + fibonacci(n - 2)\n",
    "\n",
    "# Calculate the 10th Fibonacci number\n",
    "n = 10\n",
    "result = fibonacci(n)\n",
    "\n",
    "# Print the result\n",
    "print(f\"The {n}th Fibonacci number is: {result}\")"
   ]
  },
  {
   "cell_type": "markdown",
   "metadata": {},
   "source": [
    "60. Write a Python program that creates a list of tuples representing student names and their grades, e.g., students = [('Alice', 90), ('Bob', 85), ('Charlie', 95)]. Sort the list by grades and print the sorted list."
   ]
  },
  {
   "cell_type": "code",
   "execution_count": null,
   "metadata": {},
   "outputs": [],
   "source": [
    "# List of student names and their grades\n",
    "students = [('Alice', 90), ('Bob', 85), ('Charlie', 95)]\n",
    "\n",
    "# Sort the list by grades (second element of the tuples)\n",
    "sorted_students = sorted(students, key=lambda student: student[1])\n",
    "\n",
    "# Print the sorted list\n",
    "print(\"Sorted list of students by grades:\")\n",
    "for student in sorted_students:\n",
    "    print(f\"{student[0]}: {student[1]}\")\n"
   ]
  },
  {
   "cell_type": "markdown",
   "metadata": {},
   "source": [
    "61. Write a Python program that uses nested loops to print the following pattern:\n",
    "Markdown\n",
    "\n"
   ]
  },
  {
   "cell_type": "code",
   "execution_count": null,
   "metadata": {},
   "outputs": [],
   "source": [
    "*\n",
    "**\n",
    "***\n",
    "****\n",
    "*****\n",
    "```\"\n",
    "\n"
   ]
  },
  {
   "cell_type": "code",
   "execution_count": null,
   "metadata": {},
   "outputs": [],
   "source": [
    "# Number of rows in the pattern\n",
    "num_rows = 5\n",
    "\n",
    "# Loop through each row\n",
    "for i in range(1, num_rows + 1):\n",
    "    # Print '*' characters for the current row\n",
    "    for j in range(i):\n",
    "        print('*', end='')\n",
    "    # Move to the next line after printing all '*' characters in the current row\n",
    "    print()"
   ]
  },
  {
   "cell_type": "markdown",
   "metadata": {},
   "source": [
    "62. Write a Python decorator called log_call that logs the name of the function being called. Apply this decorator to a function called greet that prints 'Hello!' and call the decorated function."
   ]
  },
  {
   "cell_type": "code",
   "execution_count": null,
   "metadata": {},
   "outputs": [],
   "source": [
    "# Define the log_call decorator\n",
    "def log_call(func):\n",
    "    def wrapper(*args, **kwargs):\n",
    "        print(f\"Calling function: {func.__name__}\")\n",
    "        result = func(*args, **kwargs)\n",
    "        return result\n",
    "    return wrapper\n",
    "\n",
    "# Apply the decorator to the greet function\n",
    "@log_call\n",
    "def greet():\n",
    "    print(\"Hello!\")\n",
    "\n",
    "# Call the decorated function\n",
    "greet()"
   ]
  },
  {
   "cell_type": "markdown",
   "metadata": {},
   "source": [
    "63. Write a Python class called TreeNode representing a node in a binary tree, with attributes data, left, and right. Implement a function to perform an in-order traversal of the tree and print the node values."
   ]
  },
  {
   "cell_type": "code",
   "execution_count": null,
   "metadata": {},
   "outputs": [],
   "source": [
    "class TreeNode:\n",
    "    def __init__(self, data):\n",
    "        self.data = data\n",
    "        self.left = None  # Left child\n",
    "        self.right = None  # Right child\n",
    "\n",
    "def in_order_traversal(root):\n",
    "    if root:\n",
    "        # Traverse the left subtree\n",
    "        in_order_traversal(root.left)\n",
    "        \n",
    "        # Visit the root node\n",
    "        print(root.data, end=' ')\n",
    "        \n",
    "        # Traverse the right subtree\n",
    "        in_order_traversal(root.right)\n",
    "\n",
    "# Example usage\n",
    "if __name__ == \"__main__\":\n",
    "    # Create the root node\n",
    "    root = TreeNode(1)\n",
    "    \n",
    "    # Create the left and right children\n",
    "    root.left = TreeNode(2)\n",
    "    root.right = TreeNode(3)\n",
    "    \n",
    "    # Create additional nodes\n",
    "    root.left.left = TreeNode(4)\n",
    "    root.left.right = TreeNode(5)\n",
    "    root.right.left = TreeNode(6)\n",
    "    root.right.right = TreeNode(7)\n",
    "    \n",
    "    # Perform in-order traversal\n",
    "    print(\"In-order traversal of the binary tree:\")\n",
    "    in_order_traversal(root)"
   ]
  },
  {
   "cell_type": "markdown",
   "metadata": {},
   "source": [
    "64. Write a Python function called quicksort that implements the quicksort algorithm to sort a list of numbers in ascending order. Use this function to sort the list [10, 7, 8, 9, 1, 5] and print the sorted list."
   ]
  },
  {
   "cell_type": "code",
   "execution_count": null,
   "metadata": {},
   "outputs": [],
   "source": [
    "def quicksort(arr):\n",
    "    if len(arr) <= 1:\n",
    "        return arr\n",
    "    else:\n",
    "        pivot = arr[len(arr) // 2]\n",
    "        left = [x for x in arr if x < pivot]\n",
    "        middle = [x for x in arr if x == pivot]\n",
    "        right = [x for x in arr if x > pivot]\n",
    "        return quicksort(left) + middle + quicksort(right)\n",
    "\n",
    "# Example usage\n",
    "if __name__ == \"__main__\":\n",
    "    numbers = [10, 7, 8, 9, 1, 5]\n",
    "    sorted_numbers = quicksort(numbers)\n",
    "    print(\"Sorted list:\", sorted_numbers)"
   ]
  },
  {
   "cell_type": "markdown",
   "metadata": {},
   "source": [
    "65. Write a Flask application that provides a simple REST API with the following endpoints: GET /items to return a list of items, POST /items to add a new item, and DELETE /items/<id> to delete an item by ID. Provide instructions to test the API."
   ]
  },
  {
   "cell_type": "code",
   "execution_count": null,
   "metadata": {},
   "outputs": [],
   "source": [
    "from flask import Flask, request, jsonify\n",
    "\n",
    "app = Flask(__name__)\n",
    "\n",
    "# Sample data\n",
    "items = [\n",
    "    {'id': 1, 'name': 'Item 1'},\n",
    "    {'id': 2, 'name': 'Item 2'},\n",
    "    {'id': 3, 'name': 'Item 3'}\n",
    "]\n",
    "\n",
    "# GET /items - Return a list of items\n",
    "@app.route('/items', methods=['GET'])\n",
    "def get_items():\n",
    "    return jsonify(items)\n",
    "\n",
    "# POST /items - Add a new item\n",
    "@app.route('/items', methods=['POST'])\n",
    "def add_item():\n",
    "    new_item = request.json\n",
    "    new_item['id'] = len(items) + 1\n",
    "    items.append(new_item)\n",
    "    return jsonify(new_item), 201\n",
    "\n",
    "# DELETE /items/<id> - Delete an item by ID\n",
    "@app.route('/items/<int:id>', methods=['DELETE'])\n",
    "def delete_item(id):\n",
    "    item_to_delete = next((item for item in items if item['id'] == id), None)\n",
    "    if item_to_delete:\n",
    "        items.remove(item_to_delete)\n",
    "        return jsonify({'message': 'Item deleted'})\n",
    "    else:\n",
    "        return jsonify({'error': 'Item not found'}), 404\n",
    "\n",
    "if __name__ == '__main__':\n",
    "    app.run(debug=True)"
   ]
  },
  {
   "cell_type": "markdown",
   "metadata": {},
   "source": [
    "66. Write a Python program that generates the current date and time using the datetime module, formats it as 'YYYY-MM-DD HH:MM', and prints it. Then calculate the date 10 days from today and print it\n"
   ]
  },
  {
   "cell_type": "code",
   "execution_count": null,
   "metadata": {},
   "outputs": [],
   "source": [
    "from datetime import datetime, timedelta\n",
    "\n",
    "# Generate the current date and time\n",
    "current_datetime = datetime.now()\n",
    "\n",
    "# Format the date and time as 'YYYY-MM-DD HH:MM'\n",
    "formatted_datetime = current_datetime.strftime('%Y-%m-%d %H:%M')\n",
    "print('Current Date and Time:', formatted_datetime)\n",
    "\n",
    "# Calculate the date 10 days from today\n",
    "future_date = current_datetime + timedelta(days=10)\n",
    "formatted_future_date = future_date.strftime('%Y-%m-%d %H:%M')\n",
    "print('Date 10 Days from Today:', formatted_future_date)"
   ]
  },
  {
   "cell_type": "markdown",
   "metadata": {},
   "source": [
    "67. Write a Python program that uses BeautifulSoup to scrape the titles of articles from a news website's homepage and prints them."
   ]
  },
  {
   "cell_type": "code",
   "execution_count": null,
   "metadata": {},
   "outputs": [],
   "source": [
    "import requests\n",
    "from bs4 import BeautifulSoup\n",
    "\n",
    "# Specify the URL of the news website\n",
    "url = 'https://www.example-news-website.com'  # Replace with the actual URL\n",
    "\n",
    "# Send a GET request to fetch the webpage content\n",
    "response = requests.get(url)\n",
    "\n",
    "# Parse the webpage content with BeautifulSoup\n",
    "soup = BeautifulSoup(response.text, 'html.parser')\n",
    "\n",
    "# Find and print all article titles (assuming titles are within <h2> tags)\n",
    "for title in soup.find_all('h2'):  # Modify the tag if needed\n",
    "    print(title.get_text())\n"
   ]
  },
  {
   "cell_type": "markdown",
   "metadata": {},
   "source": [
    "68. Write a Python program that performs linear regression on a dataset using numpy. The dataset consists of input x = [1, 2, 3, 4, 5] and output y = [2, 4, 6, 8, 10]. Calculate the slope and intercept, and print the linear equation."
   ]
  },
  {
   "cell_type": "code",
   "execution_count": null,
   "metadata": {},
   "outputs": [],
   "source": [
    "import numpy as np\n",
    "\n",
    "# Input data\n",
    "x = np.array([1, 2, 3, 4, 5])\n",
    "y = np.array([2, 4, 6, 8, 10])\n",
    "\n",
    "# Perform linear regression using numpy's polyfit function\n",
    "# polyfit returns the coefficients [slope, intercept]\n",
    "slope, intercept = np.polyfit(x, y, 1)\n",
    "\n",
    "# Print the slope, intercept, and linear equation\n",
    "print(f\"Slope: {slope}\")\n",
    "print(f\"Intercept: {intercept}\")\n",
    "print(f\"Linear equation: y = {slope}x + {intercept}\")"
   ]
  },
  {
   "cell_type": "markdown",
   "metadata": {},
   "source": [
    "69. Write a Python class called BSTNode representing a node in a binary search tree (BST), with attributes data, left, and right. Implement methods to insert a new node and search for a value in the BST. Demonstrate by inserting and searching for values."
   ]
  },
  {
   "cell_type": "code",
   "execution_count": null,
   "metadata": {},
   "outputs": [],
   "source": [
    "class BSTNode:\n",
    "    def __init__(self, data):\n",
    "        self.data = data\n",
    "        self.left = None  # Left child\n",
    "        self.right = None  # Right child\n",
    "\n",
    "    # Method to insert a new node in the BST\n",
    "    def insert(self, data):\n",
    "        if data < self.data:\n",
    "            if self.left is None:\n",
    "                self.left = BSTNode(data)\n",
    "            else:\n",
    "                self.left.insert(data)\n",
    "        elif data > self.data:\n",
    "            if self.right is None:\n",
    "                self.right = BSTNode(data)\n",
    "            else:\n",
    "                self.right.insert(data)\n",
    "        # If the data is equal to the current node's data, do nothing (no duplicates in this BST implementation)\n",
    "\n",
    "    # Method to search for a value in the BST\n",
    "    def search(self, data):\n",
    "        if data == self.data:\n",
    "            return True\n",
    "        elif data < self.data and self.left is not None:\n",
    "            return self.left.search(data)\n",
    "        elif data > self.data and self.right is not None:\n",
    "            return self.right.search(data)\n",
    "        else:\n",
    "            return False\n",
    "\n",
    "# Demonstration of BST operations\n",
    "if __name__ == \"__main__\":\n",
    "    # Create the root of the BST\n",
    "    root = BSTNode(10)\n",
    "\n",
    "    # Insert values into the BST\n",
    "    root.insert(5)\n",
    "    root.insert(15)\n",
    "    root.insert(3)\n",
    "    root.insert(7)\n",
    "    root.insert(12)\n",
    "    root.insert(18)\n",
    "\n",
    "    # Search for values in the BST\n",
    "    print(\"Search for 7:\", root.search(7))  # Should return True\n",
    "    print(\"Search for 20:\", root.search(20))  # Should return False"
   ]
  },
  {
   "cell_type": "markdown",
   "metadata": {},
   "source": [
    "70. Write a Python program that creates a pandas DataFrame representing sales data with columns Product, Category, and Sales. Group the data by Category and calculate the total sales for each category."
   ]
  },
  {
   "cell_type": "code",
   "execution_count": null,
   "metadata": {},
   "outputs": [],
   "source": [
    "import pandas as pd\n",
    "\n",
    "# Create a pandas DataFrame representing sales data\n",
    "data = {\n",
    "    'Product': ['Product A', 'Product B', 'Product C', 'Product D', 'Product E'],\n",
    "    'Category': ['Category 1', 'Category 2', 'Category 1', 'Category 3', 'Category 2'],\n",
    "    'Sales': [100, 150, 200, 120, 130]\n",
    "}\n",
    "\n",
    "df = pd.DataFrame(data)\n",
    "\n",
    "# Group the data by 'Category' and calculate the total sales for each category\n",
    "grouped_data = df.groupby('Category')['Sales'].sum().reset_index()\n",
    "\n",
    "# Print the resulting DataFrame\n",
    "print(grouped_data)"
   ]
  },
  {
   "cell_type": "markdown",
   "metadata": {},
   "source": [
    "71. Write a Python program that creates two pandas DataFrames representing customer orders and their details. Merge the two DataFrames on a common OrderID column and print the merged DataFrame."
   ]
  },
  {
   "cell_type": "code",
   "execution_count": null,
   "metadata": {},
   "outputs": [],
   "source": [
    "import pandas as pd\n",
    "\n",
    "# Create the first DataFrame representing customer orders\n",
    "orders = {\n",
    "    'OrderID': [1, 2, 3],\n",
    "    'CustomerName': ['Alice', 'Bob', 'Charlie'],\n",
    "    'OrderDate': ['2024-08-01', '2024-08-02', '2024-08-03']\n",
    "}\n",
    "orders_df = pd.DataFrame(orders)\n",
    "\n",
    "# Create the second DataFrame representing order details\n",
    "order_details = {\n",
    "    'OrderID': [1, 2, 3],\n",
    "    'Product': ['Product A', 'Product B', 'Product C'],\n",
    "    'Quantity': [2, 1, 4]\n",
    "}\n",
    "order_details_df = pd.DataFrame(order_details)\n",
    "\n",
    "# Merge the two DataFrames on the 'OrderID' column\n",
    "merged_df = pd.merge(orders_df, order_details_df, on='OrderID')\n",
    "\n",
    "# Print the merged DataFrame\n",
    "print(merged_df)"
   ]
  },
  {
   "cell_type": "markdown",
   "metadata": {},
   "source": [
    "72. Write a Python program that creates a pandas DataFrame representing sales data with columns Product, Region, and Sales. Create a pivot table that shows the total sales for each product by region and print the pivot table."
   ]
  },
  {
   "cell_type": "code",
   "execution_count": null,
   "metadata": {},
   "outputs": [],
   "source": [
    "import pandas as pd\n",
    "\n",
    "# Create a pandas DataFrame representing sales data\n",
    "data = {\n",
    "    'Product': ['Product A', 'Product B', 'Product A', 'Product C', 'Product B', 'Product A'],\n",
    "    'Region': ['North', 'South', 'East', 'West', 'North', 'East'],\n",
    "    'Sales': [200, 150, 300, 120, 180, 220]\n",
    "}\n",
    "\n",
    "df = pd.DataFrame(data)\n",
    "\n",
    "# Create a pivot table to show total sales for each product by region\n",
    "pivot_table = pd.pivot_table(df, values='Sales', index='Product', columns='Region', aggfunc='sum', fill_value=0)\n",
    "\n",
    "# Print the pivot table\n",
    "print(pivot_table)"
   ]
  },
  {
   "cell_type": "markdown",
   "metadata": {},
   "source": [
    "73. Create a simple Django project with a single app called blog. The app should have a model Post with fields title and content. Create and run the necessary migrations, then use Django's admin interface to add a new post."
   ]
  },
  {
   "cell_type": "code",
   "execution_count": null,
   "metadata": {},
   "outputs": [],
   "source": [
    "pip install django\n",
    "django-admin startproject myproject\n",
    "cd myproject\n",
    "python manage.py startapp blog\n",
    "\n",
    "# blog/models.py\n",
    "\n",
    "from django.db import models\n",
    "\n",
    "class Post(models.Model):\n",
    "    title = models.CharField(max_length=100)\n",
    "    content = models.TextField()\n",
    "\n",
    "    def __str__(self):\n",
    "        return self.title\n",
    "\n",
    "# blog/admin.py\n",
    "\n",
    "from django.contrib import admin\n",
    "from .models import Post\n",
    "\n",
    "@admin.register(Post)\n",
    "class PostAdmin(admin.ModelAdmin):\n",
    "    list_display = ('title', 'content')\n",
    "\n",
    "# myproject/settings.py\n",
    "\n",
    "INSTALLED_APPS = [\n",
    "    ...\n",
    "    'blog',\n",
    "]\n",
    "\n",
    "python manage.py makemigrations\n",
    "python manage.py migrate\n",
    "python manage.py createsuperuser\n",
    "python manage.py runserver"
   ]
  },
  {
   "cell_type": "markdown",
   "metadata": {},
   "source": [
    "74. Write a Python function called merge_sort that implements the merge sort algorithm to sort a list of numbers in ascending order. Use this function to sort the list [12, 11, 13, 5, 6, 7] and print the sorted list."
   ]
  },
  {
   "cell_type": "code",
   "execution_count": null,
   "metadata": {},
   "outputs": [],
   "source": [
    "def merge_sort(arr):\n",
    "    if len(arr) > 1:\n",
    "        # Finding the middle of the array\n",
    "        mid = len(arr) // 2\n",
    "        left_half = arr[:mid]\n",
    "        right_half = arr[mid:]\n",
    "\n",
    "        # Recursive call on each half\n",
    "        merge_sort(left_half)\n",
    "        merge_sort(right_half)\n",
    "\n",
    "        # Initial indices for left, right and merged lists\n",
    "        i = j = k = 0\n",
    "\n",
    "        # Copy data to temp lists L[] and R[]\n",
    "        while i < len(left_half) and j < len(right_half):\n",
    "            if left_half[i] < right_half[j]:\n",
    "                arr[k] = left_half[i]\n",
    "                i += 1\n",
    "            else:\n",
    "                arr[k] = right_half[j]\n",
    "                j += 1\n",
    "            k += 1\n",
    "\n",
    "        # Checking if any element was left\n",
    "        while i < len(left_half):\n",
    "            arr[k] = left_half[i]\n",
    "            i += 1\n",
    "            k += 1\n",
    "\n",
    "        while j < len(right_half):\n",
    "            arr[k] = right_half[j]\n",
    "            j += 1\n",
    "            k += 1\n",
    "\n",
    "# Example usage\n",
    "arr = [12, 11, 13, 5, 6, 7]\n",
    "merge_sort(arr)\n",
    "print(\"Sorted list:\", arr)"
   ]
  },
  {
   "cell_type": "markdown",
   "metadata": {},
   "source": [
    "75. Write a Python script that uses SQLAlchemy to connect to a SQLite database. Create a table called users with columns id, name, and email. Insert a few records, then query the table to retrieve and print the records."
   ]
  },
  {
   "cell_type": "code",
   "execution_count": null,
   "metadata": {},
   "outputs": [],
   "source": [
    "from sqlalchemy import create_engine, Column, Integer, String\n",
    "from sqlalchemy.ext.declarative import declarative_base\n",
    "from sqlalchemy.orm import sessionmaker\n",
    "\n",
    "# Define the SQLite database URL\n",
    "DATABASE_URL = \"sqlite:///example.db\"\n",
    "\n",
    "# Create an engine\n",
    "engine = create_engine(DATABASE_URL, echo=True)\n",
    "\n",
    "# Define the base class for declarative class definitions\n",
    "Base = declarative_base()\n",
    "\n",
    "# Define the User model\n",
    "class User(Base):\n",
    "    __tablename__ = 'users'\n",
    "    \n",
    "    id = Column(Integer, primary_key=True)\n",
    "    name = Column(String)\n",
    "    email = Column(String)\n",
    "\n",
    "# Create the users table\n",
    "Base.metadata.create_all(engine)\n",
    "\n",
    "# Create a configured \"Session\" class\n",
    "Session = sessionmaker(bind=engine)\n",
    "\n",
    "# Create a Session instance\n",
    "session = Session()\n",
    "\n",
    "# Insert records\n",
    "def add_users():\n",
    "    user1 = User(name='Alice', email='alice@example.com')\n",
    "    user2 = User(name='Bob', email='bob@example.com')\n",
    "    user3 = User(name='Charlie', email='charlie@example.com')\n",
    "    \n",
    "    session.add_all([user1, user2, user3])\n",
    "    session.commit()\n",
    "\n",
    "# Query and print records\n",
    "def query_users():\n",
    "    users = session.query(User).all()\n",
    "    for user in users:\n",
    "        print(f\"ID: {user.id}, Name: {user.name}, Email: {user.email}\")\n",
    "\n",
    "# Run the functions\n",
    "add_users()\n",
    "query_users()\n",
    "\n",
    "# Close the session\n",
    "session.close()"
   ]
  },
  {
   "cell_type": "markdown",
   "metadata": {},
   "source": [
    "76. Write a Python class called CustomError that inherits from Exception and takes an error message as an argument. Raise this custom exception in a function called check_positive if the input is not a positive number."
   ]
  },
  {
   "cell_type": "code",
   "execution_count": null,
   "metadata": {},
   "outputs": [],
   "source": [
    "class CustomError(Exception):\n",
    "    def __init__(self, message):\n",
    "        super().__init__(message)\n",
    "        self.message = message\n",
    "\n",
    "def check_positive(number):\n",
    "    if number <= 0:\n",
    "        raise CustomError(\"The number must be positive.\")\n",
    "    return \"The number is positive.\"\n",
    "\n",
    "# Test the function\n",
    "try:\n",
    "    result = check_positive(-5)\n",
    "    print(result)\n",
    "except CustomError as e:\n",
    "    print(f\"CustomError occurred: {e}\")"
   ]
  },
  {
   "cell_type": "markdown",
   "metadata": {},
   "source": [
    "77. Write a Python class called MaxHeap that implements a max heap data structure. Include methods to insert a new element, delete the maximum element, and print the heap."
   ]
  },
  {
   "cell_type": "code",
   "execution_count": null,
   "metadata": {},
   "outputs": [],
   "source": [
    "class MaxHeap:\n",
    "    def __init__(self):\n",
    "        self.heap = []\n",
    "\n",
    "    def insert(self, key):\n",
    "        self.heap.append(key)\n",
    "        self._heapify_up(len(self.heap) - 1)\n",
    "\n",
    "    def delete_max(self):\n",
    "        if len(self.heap) == 0:\n",
    "            raise IndexError(\"Heap is empty\")\n",
    "        max_value = self.heap[0]\n",
    "        # Move the last element to the root and heapify down from the root\n",
    "        self.heap[0] = self.heap.pop()\n",
    "        self._heapify_down(0)\n",
    "        return max_value\n",
    "\n",
    "    def _heapify_up(self, index):\n",
    "        parent_index = (index - 1) // 2\n",
    "        if index > 0 and self.heap[index] > self.heap[parent_index]:\n",
    "            self.heap[index], self.heap[parent_index] = self.heap[parent_index], self.heap[index]\n",
    "            self._heapify_up(parent_index)\n",
    "\n",
    "    def _heapify_down(self, index):\n",
    "        largest = index\n",
    "        left_child = 2 * index + 1\n",
    "        right_child = 2 * index + 2\n",
    "        \n",
    "        if left_child < len(self.heap) and self.heap[left_child] > self.heap[largest]:\n",
    "            largest = left_child\n",
    "        \n",
    "        if right_child < len(self.heap) and self.heap[right_child] > self.heap[largest]:\n",
    "            largest = right_child\n",
    "        \n",
    "        if largest != index:\n",
    "            self.heap[index], self.heap[largest] = self.heap[largest], self.heap[index]\n",
    "            self._heapify_down(largest)\n",
    "\n",
    "    def print_heap(self):\n",
    "        print(self.heap)\n",
    "\n",
    "# Example usage\n",
    "max_heap = MaxHeap()\n",
    "max_heap.insert(10)\n",
    "max_heap.insert(20)\n",
    "max_heap.insert(5)\n",
    "max_heap.insert(30)\n",
    "max_heap.insert(15)\n",
    "\n",
    "print(\"Heap after inserts:\")\n",
    "max_heap.print_heap()\n",
    "\n",
    "print(\"Deleted max element:\", max_heap.delete_max())\n",
    "\n",
    "print(\"Heap after deleting the maximum element:\")\n",
    "max_heap.print_heap()"
   ]
  },
  {
   "cell_type": "markdown",
   "metadata": {},
   "source": [
    "78.  Write a Python program that uses the threading module to run two functions concurrently. One function should print numbers from 1 to 5 with a delay of 1 second, and the other should print letters from A to E with a delay of 1.5 seconds."
   ]
  },
  {
   "cell_type": "code",
   "execution_count": null,
   "metadata": {},
   "outputs": [],
   "source": [
    "import threading\n",
    "import time\n",
    "\n",
    "# Function to print numbers with a delay\n",
    "def print_numbers():\n",
    "    for i in range(1, 6):\n",
    "        print(f\"Number: {i}\")\n",
    "        time.sleep(1)  # Delay of 1 second\n",
    "\n",
    "# Function to print letters with a delay\n",
    "def print_letters():\n",
    "    for letter in 'ABCDE':\n",
    "        print(f\"Letter: {letter}\")\n",
    "        time.sleep(1.5)  # Delay of 1.5 seconds\n",
    "\n",
    "# Create threads for each function\n",
    "thread1 = threading.Thread(target=print_numbers)\n",
    "thread2 = threading.Thread(target=print_letters)\n",
    "\n",
    "# Start the threads\n",
    "thread1.start()\n",
    "thread2.start()\n",
    "\n",
    "# Wait for both threads to finish\n",
    "thread1.join()\n",
    "thread2.join()\n",
    "\n",
    "print(\"Both threads have finished executing.\")"
   ]
  },
  {
   "cell_type": "markdown",
   "metadata": {},
   "source": [
    "79. Write a Python class called LRUCache that implements a least recently used (LRU) cache. The cache should have a maximum capacity, and when the capacity is reached, the least recently used item should be removed. Include methods to get and put items in the cache."
   ]
  },
  {
   "cell_type": "code",
   "execution_count": null,
   "metadata": {},
   "outputs": [],
   "source": [
    "from collections import OrderedDict\n",
    "\n",
    "class LRUCache:\n",
    "    def __init__(self, capacity: int):\n",
    "        self.capacity = capacity\n",
    "        self.cache = OrderedDict()\n",
    "    \n",
    "    def get(self, key: int) -> int:\n",
    "        if key not in self.cache:\n",
    "            return -1  # Return -1 if the key is not found\n",
    "        else:\n",
    "            # Move the accessed item to the end to mark it as recently used\n",
    "            self.cache.move_to_end(key)\n",
    "            return self.cache[key]\n",
    "    \n",
    "    def put(self, key: int, value: int) -> None:\n",
    "        if key in self.cache:\n",
    "            # Update the value and mark the item as recently used\n",
    "            self.cache[key] = value\n",
    "            self.cache.move_to_end(key)\n",
    "        else:\n",
    "            if len(self.cache) >= self.capacity:\n",
    "                # Remove the oldest (least recently used) item\n",
    "                self.cache.popitem(last=False)\n",
    "            self.cache[key] = value\n",
    "\n",
    "# Example Usage\n",
    "if __name__ == \"__main__\":\n",
    "    lru_cache = LRUCache(2)  # Create an LRU cache with capacity 2\n",
    "\n",
    "    lru_cache.put(1, 1)  # Cache is {1: 1}\n",
    "    lru_cache.put(2, 2)  # Cache is {1: 1, 2: 2}\n",
    "    print(lru_cache.get(1))  # Returns 1, Cache is {2: 2, 1: 1}\n",
    "    lru_cache.put(3, 3)  # Removes key 2, Cache is {1: 1, 3: 3}\n",
    "    print(lru_cache.get(2))  # Returns -1 (not found)\n",
    "    lru_cache.put(4, 4)  # Removes key 1, Cache is {3: 3, 4: 4}\n",
    "    print(lru_cache.get(1))  # Returns -1 (not found)\n",
    "    print(lru_cache.get(3))  # Returns 3\n",
    "    print(lru_cache.get(4))  # Returns 4"
   ]
  },
  {
   "cell_type": "markdown",
   "metadata": {},
   "source": [
    "80. Write a Python class called MetaSingleton using a metaclass that ensures any class inheriting from it will be a singleton (i.e., only one instance of the class can exist). Demonstrate by creating two instances and showing they are the same."
   ]
  },
  {
   "cell_type": "code",
   "execution_count": null,
   "metadata": {},
   "outputs": [],
   "source": [
    "class MetaSingleton(type):\n",
    "    _instances = {}\n",
    "\n",
    "    def __call__(cls, *args, **kwargs):\n",
    "        if cls not in cls._instances:\n",
    "            # Create and store the instance if it does not exist\n",
    "            cls._instances[cls] = super(MetaSingleton, cls).__call__(*args, **kwargs)\n",
    "        return cls._instances[cls]\n",
    "\n",
    "class SingletonClass(metaclass=MetaSingleton):\n",
    "    def __init__(self, value):\n",
    "        self.value = value\n",
    "\n",
    "# Example Usage\n",
    "if __name__ == \"__main__\":\n",
    "    # Create two instances of SingletonClass\n",
    "    instance1 = SingletonClass('First Instance')\n",
    "    instance2 = SingletonClass('Second Instance')\n",
    "\n",
    "    # Print their values\n",
    "    print(f\"Instance 1 value: {instance1.value}\")  # Output: First Instance\n",
    "    print(f\"Instance 2 value: {instance2.value}\")  # Output: First Instance\n",
    "\n",
    "    # Check if both instances are the same\n",
    "    print(f\"Are both instances the same? {instance1 is instance2}\")  # Output: True"
   ]
  },
  {
   "cell_type": "markdown",
   "metadata": {},
   "source": [
    "81. Write a Python generator function called prime_generator that yields an infinite sequence of prime numbers. Use the generator to print the first 10 prime numbers."
   ]
  },
  {
   "cell_type": "code",
   "execution_count": null,
   "metadata": {},
   "outputs": [],
   "source": [
    "def is_prime(n):\n",
    "    \"\"\"Check if a number is prime.\"\"\"\n",
    "    if n <= 1:\n",
    "        return False\n",
    "    if n <= 3:\n",
    "        return True\n",
    "    if n % 2 == 0 or n % 3 == 0:\n",
    "        return False\n",
    "    i = 5\n",
    "    while i * i <= n:\n",
    "        if n % i == 0 or n % (i + 2) == 0:\n",
    "            return False\n",
    "        i += 6\n",
    "    return True\n",
    "\n",
    "def prime_generator():\n",
    "    \"\"\"Yield an infinite sequence of prime numbers.\"\"\"\n",
    "    num = 2\n",
    "    while True:\n",
    "        if is_prime(num):\n",
    "            yield num\n",
    "        num += 1\n",
    "\n",
    "# Example usage: print the first 10 prime numbers\n",
    "if __name__ == \"__main__\":\n",
    "    primes = prime_generator()\n",
    "    for _ in range(10):\n",
    "        print(next(primes))"
   ]
  },
  {
   "cell_type": "markdown",
   "metadata": {},
   "source": [
    "82. Write a Python decorator called memoize that caches the results of a function so that it doesn't have to recompute the results for the same inputs. Apply this decorator to a recursive function that calculates Fibonacci numbers."
   ]
  },
  {
   "cell_type": "code",
   "execution_count": null,
   "metadata": {},
   "outputs": [],
   "source": [
    "def memoize(func):\n",
    "    \"\"\"Decorator to cache the results of a function.\"\"\"\n",
    "    cache = {}\n",
    "    def wrapper(*args):\n",
    "        if args in cache:\n",
    "            return cache[args]\n",
    "        result = func(*args)\n",
    "        cache[args] = result\n",
    "        return result\n",
    "    return wrapper\n",
    "\n",
    "@memoize\n",
    "def fibonacci(n):\n",
    "    \"\"\"Recursive function to calculate the nth Fibonacci number.\"\"\"\n",
    "    if n <= 1:\n",
    "        return n\n",
    "    return fibonacci(n - 1) + fibonacci(n - 2)\n",
    "\n",
    "# Example usage: print the first 10 Fibonacci numbers\n",
    "if __name__ == \"__main__\":\n",
    "    for i in range(10):\n",
    "        print(f\"Fibonacci({i}) = {fibonacci(i)}\")"
   ]
  },
  {
   "cell_type": "markdown",
   "metadata": {},
   "source": [
    "83. Write a Python program that uses the asyncio module to fetch the contents of three different URLs concurrently. Print the length of the content fetched from each URL."
   ]
  },
  {
   "cell_type": "code",
   "execution_count": null,
   "metadata": {},
   "outputs": [],
   "source": [
    "import asyncio\n",
    "import aiohttp\n",
    "\n",
    "async def fetch_url(session, url):\n",
    "    \"\"\"Fetch the content of the given URL and return the length of the content.\"\"\"\n",
    "    async with session.get(url) as response:\n",
    "        content = await response.text()\n",
    "        return len(content)\n",
    "\n",
    "async def fetch_all(urls):\n",
    "    \"\"\"Fetch contents of multiple URLs concurrently.\"\"\"\n",
    "    async with aiohttp.ClientSession() as session:\n",
    "        tasks = [fetch_url(session, url) for url in urls]\n",
    "        results = await asyncio.gather(*tasks)\n",
    "        return results\n",
    "\n",
    "def main():\n",
    "    urls = [\n",
    "        'https://www.example.com',\n",
    "        'https://www.python.org',\n",
    "        'https://www.github.com'\n",
    "    ]\n",
    "    \n",
    "    # Run the asynchronous fetch_all function\n",
    "    lengths = asyncio.run(fetch_all(urls))\n",
    "    \n",
    "    # Print the length of the content fetched from each URL\n",
    "    for url, length in zip(urls, lengths):\n",
    "        print(f'URL: {url}, Length of content: {length}')\n",
    "\n",
    "if __name__ == \"__main__\":\n",
    "    main()"
   ]
  },
  {
   "cell_type": "markdown",
   "metadata": {},
   "source": [
    "84. Write a Python function called a_star that implements the A* search algorithm to find the shortest path in a grid. Use the function to find the shortest path from the top-left corner to the bottom-right corner of a 5x5 grid with some obstacles."
   ]
  },
  {
   "cell_type": "code",
   "execution_count": null,
   "metadata": {},
   "outputs": [],
   "source": [
    "import heapq\n",
    "\n",
    "def heuristic(a, b):\n",
    "    \"\"\"Calculate the Manhattan distance heuristic.\"\"\"\n",
    "    return abs(a[0] - b[0]) + abs(a[1] - b[1])\n",
    "\n",
    "def a_star(grid, start, goal):\n",
    "    \"\"\"A* search algorithm to find the shortest path in a grid.\"\"\"\n",
    "    rows, cols = len(grid), len(grid[0])\n",
    "    \n",
    "    # Priority queue for open set\n",
    "    open_set = []\n",
    "    heapq.heappush(open_set, (0, start))\n",
    "    \n",
    "    # Dictionaries for tracking g_cost, f_cost, and path\n",
    "    g_cost = {start: 0}\n",
    "    f_cost = {start: heuristic(start, goal)}\n",
    "    came_from = {}\n",
    "    \n",
    "    while open_set:\n",
    "        current_cost, current = heapq.heappop(open_set)\n",
    "        \n",
    "        if current == goal:\n",
    "            # Reconstruct the path\n",
    "            path = []\n",
    "            while current in came_from:\n",
    "                path.append(current)\n",
    "                current = came_from[current]\n",
    "            path.append(start)\n",
    "            return path[::-1]  # Return reversed path\n",
    "        \n",
    "        for direction in [(0, 1), (1, 0), (0, -1), (-1, 0)]:\n",
    "            neighbor = (current[0] + direction[0], current[1] + direction[1])\n",
    "            \n",
    "            if (0 <= neighbor[0] < rows and 0 <= neighbor[1] < cols and\n",
    "                grid[neighbor[0]][neighbor[1]] == 0):  # Check if it's walkable\n",
    "                tentative_g_cost = g_cost[current] + 1\n",
    "                \n",
    "                if (neighbor not in g_cost or tentative_g_cost < g_cost[neighbor]):\n",
    "                    came_from[neighbor] = current\n",
    "                    g_cost[neighbor] = tentative_g_cost\n",
    "                    f_cost[neighbor] = tentative_g_cost + heuristic(neighbor, goal)\n",
    "                    \n",
    "                    if neighbor not in [i[1] for i in open_set]:\n",
    "                        heapq.heappush(open_set, (f_cost[neighbor], neighbor))\n",
    "    \n",
    "    return None  # No path found\n",
    "\n",
    "def print_grid(grid, path):\n",
    "    \"\"\"Print the grid with the path.\"\"\"\n",
    "    for r in range(len(grid)):\n",
    "        row = []\n",
    "        for c in range(len(grid[r])):\n",
    "            if (r, c) in path:\n",
    "                row.append('X')\n",
    "            elif grid[r][c] == 1:\n",
    "                row.append('#')\n",
    "            else:\n",
    "                row.append('.')\n",
    "        print(\" \".join(row))\n",
    "    print()\n",
    "\n",
    "# Example usage\n",
    "grid = [\n",
    "    [0, 0, 0, 0, 0],\n",
    "    [0, 1, 1, 1, 0],\n",
    "    [0, 0, 0, 1, 0],\n",
    "    [0, 1, 0, 0, 0],\n",
    "    [0, 0, 0, 1, 0]\n",
    "]\n",
    "\n",
    "start = (0, 0)\n",
    "goal = (4, 4)\n",
    "\n",
    "path = a_star(grid, start, goal)\n",
    "if path:\n",
    "    print(\"Path found:\", path)\n",
    "    print_grid(grid, path)\n",
    "else:\n",
    "    print(\"No path found.\")"
   ]
  },
  {
   "cell_type": "markdown",
   "metadata": {},
   "source": [
    "85. Write a Python class called Timer that implements a context manager to measure the time taken by a block of code. Use this context manager to time a loop that sums numbers from 1 to 1 million."
   ]
  },
  {
   "cell_type": "code",
   "execution_count": null,
   "metadata": {},
   "outputs": [],
   "source": [
    "import time\n",
    "from contextlib import contextmanager\n",
    "\n",
    "class Timer:\n",
    "    def __enter__(self):\n",
    "        self.start_time = time.time()  # Record the start time\n",
    "        return self  # Return the Timer instance\n",
    "\n",
    "    def __exit__(self, exc_type, exc_val, exc_tb):\n",
    "        self.end_time = time.time()  # Record the end time\n",
    "        self.interval = self.end_time - self.start_time  # Calculate the interval\n",
    "        print(f\"Time taken: {self.interval:.6f} seconds\")\n",
    "\n",
    "# Example usage\n",
    "if __name__ == \"__main__\":\n",
    "    with Timer() as timer:\n",
    "        # Code block to measure\n",
    "        total = sum(range(1, 1000001))\n",
    "        print(f\"Sum: {total}\")"
   ]
  },
  {
   "cell_type": "markdown",
   "metadata": {},
   "source": [
    "86. Write a Python class called Graph that implements an undirected graph using an adjacency list. Include a method to perform depth-first search (DFS) starting from a given node. Demonstrate by creating a graph and performing DFS."
   ]
  },
  {
   "cell_type": "code",
   "execution_count": null,
   "metadata": {},
   "outputs": [],
   "source": [
    "class Graph:\n",
    "    def __init__(self):\n",
    "        # Initialize an empty graph with an adjacency list\n",
    "        self.adj_list = {}\n",
    "\n",
    "    def add_edge(self, u, v):\n",
    "        # Add an edge between nodes u and v (undirected)\n",
    "        if u not in self.adj_list:\n",
    "            self.adj_list[u] = []\n",
    "        if v not in self.adj_list:\n",
    "            self.adj_list[v] = []\n",
    "        self.adj_list[u].append(v)\n",
    "        self.adj_list[v].append(u)\n",
    "\n",
    "    def dfs(self, start):\n",
    "        # Perform DFS starting from the node `start`\n",
    "        visited = set()  # Keep track of visited nodes\n",
    "        self._dfs_helper(start, visited)\n",
    "\n",
    "    def _dfs_helper(self, node, visited):\n",
    "        # Recursive helper function for DFS\n",
    "        if node not in visited:\n",
    "            print(node, end=' ')\n",
    "            visited.add(node)\n",
    "            for neighbor in self.adj_list.get(node, []):\n",
    "                if neighbor not in visited:\n",
    "                    self._dfs_helper(neighbor, visited)\n",
    "\n",
    "# Example usage\n",
    "if __name__ == \"__main__\":\n",
    "    g = Graph()\n",
    "    \n",
    "    # Add edges to the graph\n",
    "    g.add_edge(1, 2)\n",
    "    g.add_edge(1, 3)\n",
    "    g.add_edge(2, 4)\n",
    "    g.add_edge(2, 5)\n",
    "    g.add_edge(3, 6)\n",
    "    g.add_edge(3, 7)\n",
    "\n",
    "    # Perform DFS starting from node 1\n",
    "    print(\"DFS starting from node 1:\")\n",
    "    g.dfs(1)"
   ]
  },
  {
   "cell_type": "markdown",
   "metadata": {},
   "source": [
    "87. Write a Python program that uses matplotlib to plot the sine and cosine functions on the same graph. Label the axes and add a legend to distinguish between the two functions."
   ]
  },
  {
   "cell_type": "code",
   "execution_count": null,
   "metadata": {},
   "outputs": [],
   "source": [
    "import matplotlib.pyplot as plt\n",
    "import numpy as np\n",
    "\n",
    "# Generate data\n",
    "x = np.linspace(0, 2 * np.pi, 100)  # 100 points from 0 to 2*pi\n",
    "sine_values = np.sin(x)\n",
    "cosine_values = np.cos(x)\n",
    "\n",
    "# Create the plot\n",
    "plt.figure(figsize=(10, 6))\n",
    "\n",
    "# Plot sine and cosine functions\n",
    "plt.plot(x, sine_values, label='Sine', color='blue')\n",
    "plt.plot(x, cosine_values, label='Cosine', color='red')\n",
    "\n",
    "# Add labels and title\n",
    "plt.xlabel('x')\n",
    "plt.ylabel('y')\n",
    "plt.title('Sine and Cosine Functions')\n",
    "\n",
    "# Add a legend\n",
    "plt.legend()\n",
    "\n",
    "# Show the plot\n",
    "plt.grid(True)  # Optional: add grid lines for better readability\n",
    "plt.show()"
   ]
  },
  {
   "cell_type": "markdown",
   "metadata": {},
   "source": [
    "88. Write a Python class called PriorityQueue that implements a priority queue using a heap. Include methods to insert an item with a priority and remove the item with the highest priority. Demonstrate by inserting and removing items. "
   ]
  },
  {
   "cell_type": "code",
   "execution_count": null,
   "metadata": {},
   "outputs": [],
   "source": [
    "import heapq\n",
    "\n",
    "class PriorityQueue:\n",
    "    def __init__(self):\n",
    "        self.heap = []\n",
    "\n",
    "    def insert(self, item, priority):\n",
    "        # Invert priority to use heapq (min-heap) as a max-heap\n",
    "        heapq.heappush(self.heap, (-priority, item))\n",
    "\n",
    "    def remove(self):\n",
    "        if not self.heap:\n",
    "            raise IndexError(\"remove from an empty priority queue\")\n",
    "        # Remove the item with the highest priority\n",
    "        return heapq.heappop(self.heap)[1]\n",
    "\n",
    "    def is_empty(self):\n",
    "        return len(self.heap) == 0\n",
    "\n",
    "# Demonstrate PriorityQueue\n",
    "if __name__ == \"__main__\":\n",
    "    pq = PriorityQueue()\n",
    "    \n",
    "    # Insert items with priorities\n",
    "    pq.insert('task1', 1)\n",
    "    pq.insert('task2', 3)\n",
    "    pq.insert('task3', 2)\n",
    "    \n",
    "    # Remove items in order of highest priority\n",
    "    while not pq.is_empty():\n",
    "        print(pq.remove())"
   ]
  },
  {
   "cell_type": "markdown",
   "metadata": {},
   "source": [
    "89. Write a Python program that reads a JSON file containing a list of dictionaries, each representing a product with keys name, price, and quantity. Calculate the total value of the inventory and print it."
   ]
  },
  {
   "cell_type": "code",
   "execution_count": null,
   "metadata": {},
   "outputs": [],
   "source": [
    "import json\n",
    "\n",
    "def calculate_inventory_value(file_path):\n",
    "    try:\n",
    "        # Read and parse the JSON file\n",
    "        with open(file_path, 'r') as file:\n",
    "            data = json.load(file)\n",
    "        \n",
    "        # Initialize total value\n",
    "        total_value = 0\n",
    "        \n",
    "        # Iterate through each product and calculate the total value\n",
    "        for product in data:\n",
    "            name = product.get('name')\n",
    "            price = product.get('price')\n",
    "            quantity = product.get('quantity')\n",
    "            \n",
    "            if price is not None and quantity is not None:\n",
    "                total_value += price * quantity\n",
    "            else:\n",
    "                print(f\"Missing price or quantity for product: {name}\")\n",
    "        \n",
    "        return total_value\n",
    "    \n",
    "    except FileNotFoundError:\n",
    "        print(f\"File {file_path} not found.\")\n",
    "    except json.JSONDecodeError:\n",
    "        print(\"Error decoding JSON file.\")\n",
    "    except Exception as e:\n",
    "        print(f\"An error occurred: {e}\")\n",
    "\n",
    "# Example usage\n",
    "file_path = 'inventory.json'\n",
    "total_inventory_value = calculate_inventory_value(file_path)\n",
    "if total_inventory_value is not None:\n",
    "    print(f\"Total value of the inventory: ${total_inventory_value:.2f}\")"
   ]
  },
  {
   "cell_type": "markdown",
   "metadata": {},
   "source": [
    "90. Write a Python program that uses the NLTK library to create a simple rule-based chatbot. The chatbot should respond to greetings and a few predefined questions. Demonstrate a conversation with the chatbot."
   ]
  },
  {
   "cell_type": "code",
   "execution_count": null,
   "metadata": {},
   "outputs": [],
   "source": [
    "pip install nltk\n",
    "import nltk\n",
    "from nltk.chat.util import Chat, reflections\n",
    "\n",
    "# Define the chatbot's responses\n",
    "pairs = [\n",
    "    (r\"hi|hello|hey\", [\"Hello!\", \"Hi there!\", \"Hey!\"]),\n",
    "    (r\"how are you?\", [\"I'm good, thank you!\", \"I'm doing well, how about you?\"]),\n",
    "    (r\"what is your name?\", [\"I am a chatbot created by NLTK.\", \"You can call me NLTK Bot.\"]),\n",
    "    (r\"how can I contact support?\", [\"You can contact support via email at support@example.com.\"]),\n",
    "    (r\"bye|goodbye\", [\"Goodbye!\", \"See you later!\", \"Have a great day!\"]),\n",
    "    (r\"(.*)\", [\"Sorry, I didn't understand that.\"])\n",
    "]\n",
    "\n",
    "# Create the chatbot\n",
    "chatbot = Chat(pairs, reflections)\n",
    "\n",
    "def chat_with_bot():\n",
    "    print(\"Hello! I'm your chatbot. Type 'bye' to exit.\")\n",
    "    while True:\n",
    "        user_input = input(\"You: \")\n",
    "        if user_input.lower() in ['bye', 'goodbye']:\n",
    "            print(\"Chatbot: Goodbye! Have a great day!\")\n",
    "            break\n",
    "        response = chatbot.respond(user_input)\n",
    "        print(f\"Chatbot: {response}\")\n",
    "\n",
    "# Start the chatbot\n",
    "chat_with_bot()"
   ]
  },
  {
   "cell_type": "markdown",
   "metadata": {},
   "source": [
    "91. Write a Python program that uses OpenCV to load an image, convert it to grayscale, and apply a Gaussian blur. Save and display the processed image."
   ]
  },
  {
   "cell_type": "code",
   "execution_count": null,
   "metadata": {},
   "outputs": [],
   "source": [
    "pip install opencv-python\n",
    "import cv2\n",
    "\n",
    "def process_image(image_path, output_path):\n",
    "    # Load the image\n",
    "    image = cv2.imread(image_path)\n",
    "    \n",
    "    if image is None:\n",
    "        print(\"Error: Image not found or unable to load.\")\n",
    "        return\n",
    "    \n",
    "    # Convert the image to grayscale\n",
    "    gray_image = cv2.cvtColor(image, cv2.COLOR_BGR2GRAY)\n",
    "    \n",
    "    # Apply Gaussian blur\n",
    "    blurred_image = cv2.GaussianBlur(gray_image, (5, 5), 0)\n",
    "    \n",
    "    # Save the processed image\n",
    "    cv2.imwrite(output_path, blurred_image)\n",
    "    \n",
    "    # Display the processed image\n",
    "    cv2.imshow('Processed Image', blurred_image)\n",
    "    \n",
    "    # Wait for a key press and close the image window\n",
    "    cv2.waitKey(0)\n",
    "    cv2.destroyAllWindows()\n",
    "\n",
    "# Path to the input image\n",
    "input_image_path = 'input_image.jpg'\n",
    "\n",
    "# Path to save the processed image\n",
    "output_image_path = 'processed_image.jpg'\n",
    "\n",
    "# Process the image\n",
    "process_image(input_image_path, output_image_path)"
   ]
  },
  {
   "cell_type": "markdown",
   "metadata": {},
   "source": [
    "92. Write a Python program that implements a simple neural network from scratch using only NumPy. The network should have one hidden layer and should be trained using the backpropagation algorithm on a small dataset."
   ]
  },
  {
   "cell_type": "code",
   "execution_count": null,
   "metadata": {},
   "outputs": [],
   "source": [
    "import numpy as np\n",
    "\n",
    "# Sigmoid activation function and its derivative\n",
    "def sigmoid(x):\n",
    "    return 1 / (1 + np.exp(-x))\n",
    "\n",
    "def sigmoid_derivative(x):\n",
    "    return x * (1 - x)\n",
    "\n",
    "# Neural Network class\n",
    "class NeuralNetwork:\n",
    "    def __init__(self, input_size, hidden_size, output_size):\n",
    "        # Initialize weights and biases\n",
    "        self.weights_input_hidden = np.random.uniform(-1, 1, (input_size, hidden_size))\n",
    "        self.weights_hidden_output = np.random.uniform(-1, 1, (hidden_size, output_size))\n",
    "        self.bias_hidden = np.random.uniform(-1, 1, (1, hidden_size))\n",
    "        self.bias_output = np.random.uniform(-1, 1, (1, output_size))\n",
    "    \n",
    "    def forward(self, X):\n",
    "        self.hidden_layer_input = np.dot(X, self.weights_input_hidden) + self.bias_hidden\n",
    "        self.hidden_layer_output = sigmoid(self.hidden_layer_input)\n",
    "        self.output_layer_input = np.dot(self.hidden_layer_output, self.weights_hidden_output) + self.bias_output\n",
    "        self.output = sigmoid(self.output_layer_input)\n",
    "        return self.output\n",
    "    \n",
    "    def backward(self, X, y, learning_rate):\n",
    "        output_error = y - self.output\n",
    "        output_delta = output_error * sigmoid_derivative(self.output)\n",
    "        \n",
    "        hidden_error = output_delta.dot(self.weights_hidden_output.T)\n",
    "        hidden_delta = hidden_error * sigmoid_derivative(self.hidden_layer_output)\n",
    "        \n",
    "        # Update weights and biases\n",
    "        self.weights_hidden_output += self.hidden_layer_output.T.dot(output_delta) * learning_rate\n",
    "        self.bias_output += np.sum(output_delta, axis=0, keepdims=True) * learning_rate\n",
    "        self.weights_input_hidden += X.T.dot(hidden_delta) * learning_rate\n",
    "        self.bias_hidden += np.sum(hidden_delta, axis=0, keepdims=True) * learning_rate\n",
    "    \n",
    "    def train(self, X, y, epochs, learning_rate):\n",
    "        for epoch in range(epochs):\n",
    "            self.forward(X)\n",
    "            self.backward(X, y, learning_rate)\n",
    "            if epoch % 1000 == 0:\n",
    "                loss = np.mean(np.square(y - self.output))\n",
    "                print(f'Epoch {epoch}, Loss: {loss}')\n",
    "\n",
    "# Example usage\n",
    "if __name__ == \"__main__\":\n",
    "    # Define the dataset\n",
    "    X = np.array([[0, 0], [0, 1], [1, 0], [1, 1]])  # Input data\n",
    "    y = np.array([[0], [1], [1], [0]])              # Output data (XOR problem)\n",
    "\n",
    "    # Initialize and train the neural network\n",
    "    input_size = 2\n",
    "    hidden_size = 4\n",
    "    output_size = 1\n",
    "    epochs = 10000\n",
    "    learning_rate = 0.1\n",
    "\n",
    "    nn = NeuralNetwork(input_size, hidden_size, output_size)\n",
    "    nn.train(X, y, epochs, learning_rate)\n",
    "\n",
    "    # Test the trained model\n",
    "    predictions = nn.forward(X)\n",
    "    print(\"Predictions after training:\")\n",
    "    print(predictions)"
   ]
  },
  {
   "cell_type": "markdown",
   "metadata": {},
   "source": [
    "93. Write a Flask application that connects to a SQLite database to store and retrieve user information. Implement routes to add a new user, retrieve all users, and delete a user by ID."
   ]
  },
  {
   "cell_type": "code",
   "execution_count": null,
   "metadata": {},
   "outputs": [],
   "source": [
    "pip install Flask\n",
    "from flask import Flask, request, jsonify, abort\n",
    "from flask_sqlalchemy import SQLAlchemy\n",
    "\n",
    "app = Flask(__name__)\n",
    "app.config['SQLALCHEMY_DATABASE_URI'] = 'sqlite:///users.db'\n",
    "app.config['SQLALCHEMY_TRACK_MODIFICATIONS'] = False\n",
    "db = SQLAlchemy(app)\n",
    "\n",
    "class User(db.Model):\n",
    "    id = db.Column(db.Integer, primary_key=True)\n",
    "    name = db.Column(db.String(50), nullable=False)\n",
    "    email = db.Column(db.String(120), unique=True, nullable=False)\n",
    "\n",
    "    def __repr__(self):\n",
    "        return f'<User {self.name}>'\n",
    "\n",
    "@app.before_first_request\n",
    "def create_tables():\n",
    "    db.create_all()\n",
    "\n",
    "@app.route('/users', methods=['POST'])\n",
    "def add_user():\n",
    "    data = request.get_json()\n",
    "    name = data.get('name')\n",
    "    email = data.get('email')\n",
    "\n",
    "    if not name or not email:\n",
    "        abort(400, description=\"Name and email are required.\")\n",
    "\n",
    "    if User.query.filter_by(email=email).first():\n",
    "        abort(400, description=\"Email already exists.\")\n",
    "\n",
    "    user = User(name=name, email=email)\n",
    "    db.session.add(user)\n",
    "    db.session.commit()\n",
    "    return jsonify({'id': user.id, 'name': user.name, 'email': user.email}), 201\n",
    "\n",
    "@app.route('/users', methods=['GET'])\n",
    "def get_users():\n",
    "    users = User.query.all()\n",
    "    return jsonify([{'id': user.id, 'name': user.name, 'email': user.email} for user in users])\n",
    "\n",
    "@app.route('/users/<int:id>', methods=['DELETE'])\n",
    "def delete_user(id):\n",
    "    user = User.query.get_or_404(id)\n",
    "    db.session.delete(user)\n",
    "    db.session.commit()\n",
    "    return jsonify({'message': 'User deleted successfully'})\n",
    "\n",
    "if __name__ == '__main__':\n",
    "    app.run(debug=True)"
   ]
  },
  {
   "cell_type": "markdown",
   "metadata": {},
   "source": [
    "94. Write a Python program that uses Selenium to automate the process of logging into a website and navigating to a specific page. Provide instructions for testing the automation."
   ]
  },
  {
   "cell_type": "code",
   "execution_count": null,
   "metadata": {},
   "outputs": [],
   "source": [
    "pip install selenium\n",
    "from selenium import webdriver\n",
    "from selenium.webdriver.common.by import By\n",
    "from selenium.webdriver.common.keys import Keys\n",
    "from selenium.webdriver.chrome.service import Service\n",
    "from selenium.webdriver.chrome.options import Options\n",
    "import time\n",
    "\n",
    "# Configuration\n",
    "URL = 'https://example.com/login'\n",
    "USERNAME = 'your_username'\n",
    "PASSWORD = 'your_password'\n",
    "NAVIGATE_TO_URL = 'https://example.com/specific-page'\n",
    "\n",
    "# Set up Chrome options\n",
    "chrome_options = Options()\n",
    "chrome_options.add_argument('--headless')  # Run in headless mode (optional)\n",
    "chrome_options.add_argument('--no-sandbox')\n",
    "chrome_options.add_argument('--disable-dev-shm-usage')\n",
    "\n",
    "# Path to your ChromeDriver\n",
    "chrome_driver_path = '/path/to/chromedriver'\n",
    "\n",
    "# Create a new instance of the Chrome driver\n",
    "service = Service(chrome_driver_path)\n",
    "driver = webdriver.Chrome(service=service, options=chrome_options)\n",
    "\n",
    "try:\n",
    "    # Navigate to the login page\n",
    "    driver.get(URL)\n",
    "    print(f'Navigated to {URL}')\n",
    "    \n",
    "    # Find and fill the username field\n",
    "    username_field = driver.find_element(By.NAME, 'username')  # Change 'username' to the actual name or selector\n",
    "    username_field.send_keys(USERNAME)\n",
    "    \n",
    "    # Find and fill the password field\n",
    "    password_field = driver.find_element(By.NAME, 'password')  # Change 'password' to the actual name or selector\n",
    "    password_field.send_keys(PASSWORD)\n",
    "    \n",
    "    # Submit the login form\n",
    "    password_field.send_keys(Keys.RETURN)\n",
    "    print('Submitted login form')\n",
    "    \n",
    "    # Wait for the login process to complete\n",
    "    time.sleep(5)  # Adjust the sleep time as needed\n",
    "    \n",
    "    # Navigate to the specific page\n",
    "    driver.get(NAVIGATE_TO_URL)\n",
    "    print(f'Navigated to {NAVIGATE_TO_URL}')\n",
    "    \n",
    "    # Perform additional actions or validations here if needed\n",
    "    \n",
    "finally:\n",
    "    # Close the browser\n",
    "    driver.quit()\n",
    "    print('Browser closed')"
   ]
  },
  {
   "cell_type": "markdown",
   "metadata": {},
   "source": [
    "95. Write a Python program that uses Scikit-learn to build a logistic regression model to classify a dataset. Train the model on the Iris dataset, evaluate its accuracy, and print the results."
   ]
  },
  {
   "cell_type": "code",
   "execution_count": null,
   "metadata": {},
   "outputs": [],
   "source": [
    "import numpy as np\n",
    "import pandas as pd\n",
    "from sklearn.datasets import load_iris\n",
    "from sklearn.model_selection import train_test_split\n",
    "from sklearn.linear_model import LogisticRegression\n",
    "from sklearn.metrics import accuracy_score, classification_report, confusion_matrix\n",
    "\n",
    "# Load the Iris dataset\n",
    "iris = load_iris()\n",
    "X = iris.data\n",
    "y = iris.target\n",
    "\n",
    "# Split the dataset into training and testing sets\n",
    "X_train, X_test, y_train, y_test = train_test_split(X, y, test_size=0.3, random_state=42)\n",
    "\n",
    "# Initialize and train the Logistic Regression model\n",
    "model = LogisticRegression(max_iter=200)\n",
    "model.fit(X_train, y_train)\n",
    "\n",
    "# Make predictions on the test set\n",
    "y_pred = model.predict(X_test)\n",
    "\n",
    "# Evaluate the model\n",
    "accuracy = accuracy_score(y_test, y_pred)\n",
    "conf_matrix = confusion_matrix(y_test, y_pred)\n",
    "class_report = classification_report(y_test, y_pred, target_names=iris.target_names)\n",
    "\n",
    "# Print the results\n",
    "print(f\"Accuracy: {accuracy:.2f}\")\n",
    "print(\"Confusion Matrix:\")\n",
    "print(conf_matrix)\n",
    "print(\"Classification Report:\")\n",
    "print(class_report)"
   ]
  },
  {
   "cell_type": "markdown",
   "metadata": {},
   "source": [
    "96. Write a Python function called knapsack that solves the 0/1 knapsack problem using dynamic programming. Given a list of items with weights and values, and a maximum weight capacity, find the maximum value that can be obtained."
   ]
  },
  {
   "cell_type": "code",
   "execution_count": null,
   "metadata": {},
   "outputs": [],
   "source": [
    "def knapsack(weights, values, max_weight):\n",
    "    \"\"\"\n",
    "    Solve the 0/1 knapsack problem using dynamic programming.\n",
    "    \n",
    "    :param weights: List of weights of the items.\n",
    "    :param values: List of values of the items.\n",
    "    :param max_weight: Maximum weight capacity of the knapsack.\n",
    "    :return: Maximum value that can be obtained without exceeding max_weight.\n",
    "    \"\"\"\n",
    "    num_items = len(weights)\n",
    "    \n",
    "    # Create a 2D DP table with (num_items + 1) rows and (max_weight + 1) columns\n",
    "    dp = [[0 for _ in range(max_weight + 1)] for _ in range(num_items + 1)]\n",
    "    \n",
    "    # Fill the DP table\n",
    "    for i in range(1, num_items + 1):\n",
    "        for w in range(max_weight + 1):\n",
    "            if weights[i - 1] <= w:\n",
    "                # Item can be included\n",
    "                dp[i][w] = max(dp[i - 1][w], dp[i - 1][w - weights[i - 1]] + values[i - 1])\n",
    "            else:\n",
    "                # Item cannot be included\n",
    "                dp[i][w] = dp[i - 1][w]\n",
    "    \n",
    "    # The bottom-right cell of the table contains the result\n",
    "    return dp[num_items][max_weight]\n",
    "\n",
    "# Example usage\n",
    "weights = [1, 2, 3, 8, 7, 4]\n",
    "values = [20, 5, 10, 40, 15, 25]\n",
    "max_weight = 10\n",
    "\n",
    "max_value = knapsack(weights, values, max_weight)\n",
    "print(f\"Maximum value that can be obtained: {max_value}\")"
   ]
  },
  {
   "cell_type": "markdown",
   "metadata": {},
   "source": [
    "97. Write a Python program using the Scrapy framework to scrape product information (name, price, availability) from an e-commerce website and store the results in a CSV file."
   ]
  },
  {
   "cell_type": "code",
   "execution_count": null,
   "metadata": {},
   "outputs": [],
   "source": [
    "pip install scrapy\n",
    "scrapy startproject ecommerce_scraper\n",
    "ecommerce_scraper/\n",
    "    scrapy.cfg\n",
    "    ecommerce_scraper/\n",
    "        __init__.py\n",
    "        items.py\n",
    "        middlewares.py\n",
    "        pipelines.py\n",
    "        settings.py\n",
    "        spiders/\n",
    "            __init__.py\n",
    "\n",
    "import scrapy\n",
    "\n",
    "class ProductItem(scrapy.Item):\n",
    "    name = scrapy.Field()\n",
    "    price = scrapy.Field()\n",
    "    availability = scrapy.Field()\n",
    "import scrapy\n",
    "from ecommerce_scraper.items import ProductItem\n",
    "\n",
    "class ProductSpider(scrapy.Spider):\n",
    "    name = \"product\"\n",
    "    start_urls = ['https://example-ecommerce-website.com/products']\n",
    "\n",
    "    def parse(self, response):\n",
    "        for product in response.css('div.product'):\n",
    "            item = ProductItem()\n",
    "            item['name'] = product.css('h2.product-name::text').get()\n",
    "            item['price'] = product.css('span.product-price::text').get()\n",
    "            item['availability'] = product.css('span.product-availability::text').get()\n",
    "            yield item\n",
    "\n",
    "        # Follow pagination links, if any\n",
    "        next_page = response.css('a.next-page::attr(href)').get()\n",
    "        if next_page:\n",
    "            yield response.follow(next_page, self.parse)\n",
    "FEEDS = {\n",
    "    'products.csv': {\n",
    "        'format': 'csv',\n",
    "        'overwrite': True,\n",
    "    },\n",
    "}\n",
    "scrapy crawl product"
   ]
  },
  {
   "cell_type": "markdown",
   "metadata": {},
   "source": [
    "98. Write a Python program that uses TensorFlow to implement a simple convolutional neural network (CNN) for image classification. Train the network on the CIFAR-10 dataset and evaluate its performance."
   ]
  },
  {
   "cell_type": "code",
   "execution_count": null,
   "metadata": {},
   "outputs": [],
   "source": [
    "pip install tensorflow\n",
    "import tensorflow as tf\n",
    "from tensorflow.keras import datasets, layers, models\n",
    "import matplotlib.pyplot as plt\n",
    "# Load CIFAR-10 dataset\n",
    "(train_images, train_labels), (test_images, test_labels) = datasets.cifar10.load_data()\n",
    "\n",
    "# Normalize pixel values to be between 0 and 1\n",
    "train_images, test_images = train_images / 255.0, test_images / 255.0\n",
    "\n",
    "# Define class names\n",
    "class_names = ['airplane', 'automobile', 'bird', 'cat', 'deer', 'dog', 'frog', 'horse', 'ship', 'truck']\n",
    "model = models.Sequential([\n",
    "    # First convolutional layer\n",
    "    layers.Conv2D(32, (3, 3), activation='relu', input_shape=(32, 32, 3)),\n",
    "    layers.MaxPooling2D((2, 2)),\n",
    "    \n",
    "    # Second convolutional layer\n",
    "    layers.Conv2D(64, (3, 3), activation='relu'),\n",
    "    layers.MaxPooling2D((2, 2)),\n",
    "    \n",
    "    # Third convolutional layer\n",
    "    layers.Conv2D(64, (3, 3), activation='relu'),\n",
    "\n",
    "    # Flatten and dense layers\n",
    "    layers.Flatten(),\n",
    "    layers.Dense(64, activation='relu'),\n",
    "    layers.Dense(10)  # 10 classes for CIFAR-10\n",
    "])\n",
    "\n",
    "# Compile the model\n",
    "model.compile(optimizer='adam',\n",
    "              loss=tf.keras.losses.SparseCategoricalCrossentropy(from_logits=True),\n",
    "              metrics=['accuracy'])\n",
    "history = model.fit(train_images, train_labels, epochs=10,\n",
    "                    validation_data=(test_images, test_labels))\n",
    "test_loss, test_acc = model.evaluate(test_images, test_labels, verbose=2)\n",
    "print(f'Test accuracy: {test_acc}')\n",
    "# Plot training & validation accuracy values\n",
    "plt.plot(history.history['accuracy'])\n",
    "plt.plot(history.history['val_accuracy'])\n",
    "plt.title('Model accuracy')\n",
    "plt.xlabel('Epoch')\n",
    "plt.ylabel('Accuracy')\n",
    "plt.legend(['Train', 'Test'], loc='upper left')\n",
    "plt.show()\n",
    "import tensorflow as tf\n",
    "from tensorflow.keras import datasets, layers, models\n",
    "import matplotlib.pyplot as plt\n",
    "\n",
    "# Load and preprocess data\n",
    "(train_images, train_labels), (test_images, test_labels) = datasets.cifar10.load_data()\n",
    "train_images, test_images = train_images / 255.0, test_images / 255.0\n",
    "class_names = ['airplane', 'automobile', 'bird', 'cat', 'deer', 'dog', 'frog', 'horse', 'ship', 'truck']\n",
    "\n",
    "# Build the CNN model\n",
    "model = models.Sequential([\n",
    "    layers.Conv2D(32, (3, 3), activation='relu', input_shape=(32, 32, 3)),\n",
    "    layers.MaxPooling2D((2, 2)),\n",
    "    layers.Conv2D(64, (3, 3), activation='relu'),\n",
    "    layers.MaxPooling2D((2, 2)),\n",
    "    layers.Conv2D(64, (3, 3), activation='relu'),\n",
    "    layers.Flatten(),\n",
    "    layers.Dense(64, activation='relu'),\n",
    "    layers.Dense(10)\n",
    "])\n",
    "\n",
    "# Compile the model\n",
    "model.compile(optimizer='adam',\n",
    "              loss=tf.keras.losses.SparseCategoricalCrossentropy(from_logits=True),\n",
    "              metrics=['accuracy'])\n",
    "\n",
    "# Train the model\n",
    "history = model.fit(train_images, train_labels, epochs=10,\n",
    "                    validation_data=(test_images, test_labels))\n",
    "\n",
    "# Evaluate the model\n",
    "test_loss, test_acc = model.evaluate(test_images, test_labels, verbose=2)\n",
    "print(f'Test accuracy: {test_acc}')\n",
    "\n",
    "# Plot training & validation accuracy\n",
    "plt.plot(history.history['accuracy'])\n",
    "plt.plot(history.history['val_accuracy'])\n",
    "plt.title('Model accuracy')\n",
    "plt.xlabel('Epoch')\n",
    "plt.ylabel('Accuracy')\n",
    "plt.legend(['Train', 'Test'], loc='upper left')\n",
    "plt.show()\n"
   ]
  },
  {
   "cell_type": "markdown",
   "metadata": {},
   "source": [
    "99. Write a Python program that uses PyTorch to implement a simple recurrent neural network (RNN) for text classification. Train the network on a small text dataset and print the accuracy."
   ]
  },
  {
   "cell_type": "code",
   "execution_count": null,
   "metadata": {},
   "outputs": [],
   "source": [
    "pip install torch torchvision\n",
    "import torch\n",
    "import torch.nn as nn\n",
    "import torch.optim as optim\n",
    "from torch.utils.data import Dataset, DataLoader\n",
    "from sklearn.preprocessing import LabelEncoder\n",
    "from sklearn.model_selection import train_test_split\n",
    "# Example dataset\n",
    "sentences = [\"I love machine learning\", \"PyTorch is great for deep learning\", \n",
    "             \"Natural language processing is fun\", \"Deep learning is amazing\", \n",
    "             \"I enjoy working with neural networks\"]\n",
    "labels = [\"positive\", \"positive\", \"positive\", \"positive\", \"positive\"]\n",
    "\n",
    "# Encode labels\n",
    "label_encoder = LabelEncoder()\n",
    "encoded_labels = label_encoder.fit_transform(labels)\n",
    "\n",
    "# Create a mapping of words to integers\n",
    "word_to_index = {}\n",
    "for sentence in sentences:\n",
    "    for word in sentence.split():\n",
    "        if word not in word_to_index:\n",
    "            word_to_index[word] = len(word_to_index)\n",
    "\n",
    "# Convert sentences to integer sequences\n",
    "def sentence_to_int_sequence(sentence):\n",
    "    return [word_to_index[word] for word in sentence.split()]\n",
    "\n",
    "X = [sentence_to_int_sequence(sentence) for sentence in sentences]\n",
    "y = encoded_labels\n",
    "class TextDataset(Dataset):\n",
    "    def __init__(self, X, y):\n",
    "        self.X = X\n",
    "        self.y = y\n",
    "\n",
    "    def __len__(self):\n",
    "        return len(self.X)\n",
    "\n",
    "    def __getitem__(self, idx):\n",
    "        return torch.tensor(self.X[idx]), torch.tensor(self.y[idx])\n",
    "class RNNModel(nn.Module):\n",
    "    def __init__(self, vocab_size, embed_size, hidden_size, output_size):\n",
    "        super(RNNModel, self).__init__()\n",
    "        self.embedding = nn.Embedding(vocab_size, embed_size)\n",
    "        self.rnn = nn.RNN(embed_size, hidden_size, batch_first=True)\n",
    "        self.fc = nn.Linear(hidden_size, output_size)\n",
    "\n",
    "    def forward(self, x):\n",
    "        x = self.embedding(x)\n",
    "        h0 = torch.zeros(1, x.size(0), hidden_size).to(x.device)\n",
    "        out, _ = self.rnn(x, h0)\n",
    "        out = self.fc(out[:, -1, :])\n",
    "        return out\n",
    "# Hyperparameters\n",
    "embed_size = 10\n",
    "hidden_size = 20\n",
    "output_size = len(set(labels))\n",
    "num_epochs = 10\n",
    "batch_size = 2\n",
    "learning_rate = 0.001\n",
    "\n",
    "# Create dataset and dataloader\n",
    "dataset = TextDataset(X, y)\n",
    "dataloader = DataLoader(dataset, batch_size=batch_size, shuffle=True)\n",
    "\n",
    "# Model, loss function, and optimizer\n",
    "model = RNNModel(vocab_size=len(word_to_index), embed_size=embed_size, hidden_size=hidden_size, output_size=output_size)\n",
    "criterion = nn.CrossEntropyLoss()\n",
    "optimizer = optim.Adam(model.parameters(), lr=learning_rate)\n",
    "\n",
    "# Training loop\n",
    "for epoch in range(num_epochs):\n",
    "    for inputs, targets in dataloader:\n",
    "        optimizer.zero_grad()\n",
    "        outputs = model(inputs)\n",
    "        loss = criterion(outputs, targets)\n",
    "        loss.backward()\n",
    "        optimizer.step()\n",
    "\n",
    "    print(f'Epoch [{epoch+1}/{num_epochs}], Loss: {loss.item():.4f}')\n",
    "\n",
    "# Evaluate the model\n",
    "correct = 0\n",
    "total = 0\n",
    "with torch.no_grad():\n",
    "    for inputs, targets in dataloader:\n",
    "        outputs = model(inputs)\n",
    "        _, predicted = torch.max(outputs, 1)\n",
    "        total += targets.size(0)\n",
    "        correct += (predicted == targets).sum().item()\n",
    "\n",
    "accuracy = 100 * correct / total\n",
    "print(f'Accuracy: {accuracy:.2f}%')\n",
    "import torch\n",
    "import torch.nn as nn\n",
    "import torch.optim as optim\n",
    "from torch.utils.data import Dataset, DataLoader\n",
    "from sklearn.preprocessing import LabelEncoder\n",
    "\n",
    "# Example dataset\n",
    "sentences = [\"I love machine learning\", \"PyTorch is great for deep learning\", \n",
    "             \"Natural language processing is fun\", \"Deep learning is amazing\", \n",
    "             \"I enjoy working with neural networks\"]\n",
    "labels = [\"positive\", \"positive\", \"positive\", \"positive\", \"positive\"]\n",
    "\n",
    "# Encode labels\n",
    "label_encoder = LabelEncoder()\n",
    "encoded_labels = label_encoder.fit_transform(labels)\n",
    "\n",
    "# Create a mapping of words to integers\n",
    "word_to_index = {}\n",
    "for sentence in sentences:\n",
    "    for word in sentence.split():\n",
    "        if word not in word_to_index:\n",
    "            word_to_index[word] = len(word_to_index)\n",
    "\n",
    "# Convert sentences to integer sequences\n",
    "def sentence_to_int_sequence(sentence):\n",
    "    return [word_to_index[word] for word in sentence.split()]\n",
    "\n",
    "X = [sentence_to_int_sequence(sentence) for sentence in sentences]\n",
    "y = encoded_labels\n",
    "\n",
    "class TextDataset(Dataset):\n",
    "    def __init__(self, X, y):\n",
    "        self.X = X\n",
    "        self.y = y\n",
    "\n",
    "    def __len__(self):\n",
    "        return len(self.X)\n",
    "\n",
    "    def __getitem__(self, idx):\n",
    "        return torch.tensor(self.X[idx]), torch.tensor(self.y[idx])\n",
    "\n",
    "class RNNModel(nn.Module):\n",
    "    def __init__(self, vocab_size, embed_size, hidden_size, output_size):\n",
    "        super(RNNModel, self).__init__()\n",
    "        self.embedding = nn.Embedding(vocab_size, embed_size)\n",
    "        self.rnn = nn.RNN(embed_size, hidden_size, batch_first=True)\n",
    "        self.fc = nn.Linear(hidden_size, output_size)\n",
    "\n",
    "    def forward(self, x):\n",
    "        x = self.embedding(x)\n",
    "        h0 = torch.zeros(1, x.size(0), hidden_size).to(x.device)\n",
    "        out, _ = self.rnn(x, h0)\n",
    "        out = self.fc(out[:, -1, :])\n",
    "        return out\n",
    "\n",
    "# Hyperparameters\n",
    "embed_size = 10\n",
    "hidden_size = 20\n",
    "output_size = len(set(labels))\n",
    "num_epochs = 10\n",
    "batch_size = 2\n",
    "learning_rate = 0.001\n",
    "\n",
    "# Create dataset and dataloader\n",
    "dataset = TextDataset(X, y)\n",
    "dataloader = DataLoader(dataset, batch_size=batch_size, shuffle=True)\n",
    "\n",
    "# Model, loss function, and optimizer\n",
    "model = RNNModel(vocab_size=len(word_to_index), embed_size=embed_size, hidden_size=hidden_size, output_size=output_size)\n",
    "criterion = nn.CrossEntropyLoss()\n",
    "optimizer = optim.Adam(model.parameters(), lr=learning_rate)\n",
    "\n",
    "# Training loop\n",
    "for epoch in range(num_epochs):\n",
    "    for inputs, targets in dataloader:\n",
    "        optimizer.zero_grad()\n",
    "        outputs = model(inputs)\n",
    "        loss = criterion(outputs, targets)\n",
    "        loss.backward()\n",
    "        optimizer.step()\n",
    "\n",
    "    print(f'Epoch [{epoch+1}/{num_epochs}], Loss: {loss.item():.4f}')\n",
    "\n",
    "# Evaluate the model\n",
    "correct = 0\n",
    "total = 0\n",
    "with torch.no_grad():\n",
    "    for inputs, targets in dataloader:\n",
    "        outputs = model(inputs)\n",
    "        _, predicted = torch.max(outputs, 1)\n",
    "        total += targets.size(0)\n",
    "        correct += (predicted == targets).sum().item()\n",
    "\n",
    "accuracy = 100 * correct / total\n",
    "print(f'Accuracy: {accuracy:.2f}%')"
   ]
  },
  {
   "cell_type": "markdown",
   "metadata": {},
   "source": [
    "100. Write a Python program that builds a recommendation system using collaborative filtering. Use a sample dataset of user-item interactions, and recommend items to a user based on similar users' preferences."
   ]
  },
  {
   "cell_type": "code",
   "execution_count": null,
   "metadata": {},
   "outputs": [],
   "source": [
    "pip install pandas scikit-learn\n",
    "import pandas as pd\n",
    "from sklearn.metrics.pairwise import cosine_similarity\n",
    "from sklearn.preprocessing import StandardScaler\n",
    "\n",
    "# Sample user-item interaction data\n",
    "data = {\n",
    "    'user_id': [1, 1, 1, 2, 2, 3, 3, 4, 4, 4],\n",
    "    'item_id': [1, 2, 3, 1, 4, 2, 5, 3, 4, 5],\n",
    "    'rating': [5, 3, 2, 4, 5, 5, 4, 2, 3, 1]\n",
    "}\n",
    "\n",
    "# Create DataFrame\n",
    "df = pd.DataFrame(data)\n",
    "\n",
    "# Pivot the DataFrame to create a user-item matrix\n",
    "user_item_matrix = df.pivot(index='user_id', columns='item_id', values='rating').fillna(0)\n",
    "print(\"User-Item Matrix:\\n\", user_item_matrix)\n",
    "# Normalize the user-item matrix\n",
    "scaler = StandardScaler()\n",
    "normalized_matrix = scaler.fit_transform(user_item_matrix)\n",
    "\n",
    "# Compute cosine similarity between users\n",
    "user_similarity = cosine_similarity(normalized_matrix)\n",
    "user_similarity_df = pd.DataFrame(user_similarity, index=user_item_matrix.index, columns=user_item_matrix.index)\n",
    "\n",
    "print(\"\\nUser Similarity Matrix:\\n\", user_similarity_df)\n",
    "def recommend_items(user_id, user_item_matrix, user_similarity_df, top_n=3):\n",
    "    # Get the user's ratings\n",
    "    user_ratings = user_item_matrix.loc[user_id]\n",
    "    \n",
    "    # Compute weighted ratings\n",
    "    weighted_ratings = user_similarity_df[user_id].dot(user_item_matrix) / user_similarity_df[user_id].sum()\n",
    "    \n",
    "    # Get the items the user hasn't rated\n",
    "    user_unrated_items = user_item_matrix.loc[user_id] == 0\n",
    "    \n",
    "    # Get the top_n recommended items\n",
    "    recommendations = weighted_ratings[user_unrated_items].sort_values(ascending=False).head(top_n)\n",
    "    \n",
    "    return recommendations\n",
    "\n",
    "# Recommend items for user 1\n",
    "user_id = 1\n",
    "recommendations = recommend_items(user_id, user_item_matrix, user_similarity_df)\n",
    "print(f\"\\nRecommended items for user {user_id}:\\n\", recommendations)\n",
    "import pandas as pd\n",
    "from sklearn.metrics.pairwise import cosine_similarity\n",
    "from sklearn.preprocessing import StandardScaler\n",
    "\n",
    "# Sample user-item interaction data\n",
    "data = {\n",
    "    'user_id': [1, 1, 1, 2, 2, 3, 3, 4, 4, 4],\n",
    "    'item_id': [1, 2, 3, 1, 4, 2, 5, 3, 4, 5],\n",
    "    'rating': [5, 3, 2, 4, 5, 5, 4, 2, 3, 1]\n",
    "}\n",
    "\n",
    "# Create DataFrame\n",
    "df = pd.DataFrame(data)\n",
    "\n",
    "# Pivot the DataFrame to create a user-item matrix\n",
    "user_item_matrix = df.pivot(index='user_id', columns='item_id', values='rating').fillna(0)\n",
    "print(\"User-Item Matrix:\\n\", user_item_matrix)\n",
    "\n",
    "# Normalize the user-item matrix\n",
    "scaler = StandardScaler()\n",
    "normalized_matrix = scaler.fit_transform(user_item_matrix)\n",
    "\n",
    "# Compute cosine similarity between users\n",
    "user_similarity = cosine_similarity(normalized_matrix)\n",
    "user_similarity_df = pd.DataFrame(user_similarity, index=user_item_matrix.index, columns=user_item_matrix.index)\n",
    "\n",
    "print(\"\\nUser Similarity Matrix:\\n\", user_similarity_df)\n",
    "\n",
    "def recommend_items(user_id, user_item_matrix, user_similarity_df, top_n=3):\n",
    "    # Get the user's ratings\n",
    "    user_ratings = user_item_matrix.loc[user_id]\n",
    "    \n",
    "    # Compute weighted ratings\n",
    "    weighted_ratings = user_similarity_df[user_id].dot(user_item_matrix) / user_similarity_df[user_id].sum()\n",
    "    \n",
    "    # Get the items the user hasn't rated\n",
    "    user_unrated_items = user_item_matrix.loc[user_id] == 0\n",
    "    \n",
    "    # Get the top_n recommended items\n",
    "    recommendations = weighted_ratings[user_unrated_items].sort_values(ascending=False).head(top_n)\n",
    "    \n",
    "    return recommendations\n",
    "\n",
    "# Recommend items for user 1\n",
    "user_id = 1\n",
    "recommendations = recommend_items(user_id, user_item_matrix, user_similarity_df)\n",
    "print(f\"\\nRecommended items for user {user_id}:\\n\", recommendations)\n"
   ]
  },
  {
   "cell_type": "markdown",
   "metadata": {},
   "source": [
    "#### MODEL : GEMINI AI"
   ]
  },
  {
   "cell_type": "markdown",
   "metadata": {},
   "source": [
    "1. Write a Python program that prints the string 'Hello, World!' to the console"
   ]
  },
  {
   "cell_type": "code",
   "execution_count": null,
   "metadata": {},
   "outputs": [],
   "source": [
    "print(\"Hello, World!\")"
   ]
  },
  {
   "cell_type": "markdown",
   "metadata": {},
   "source": [
    "2. Write a Python program that concatenates the strings 'Hello' and 'World' with a space in between and prints the result"
   ]
  },
  {
   "cell_type": "code",
   "execution_count": null,
   "metadata": {},
   "outputs": [],
   "source": [
    "print(\"Hello\" + \" World\")"
   ]
  },
  {
   "cell_type": "markdown",
   "metadata": {},
   "source": [
    "3. Create a Python list containing the numbers 1, 2, and 3. Print the list to the console."
   ]
  },
  {
   "cell_type": "code",
   "execution_count": null,
   "metadata": {},
   "outputs": [],
   "source": [
    "my_list = [1, 2, 3]\n",
    "print(my_list)"
   ]
  },
  {
   "cell_type": "markdown",
   "metadata": {},
   "source": [
    "4. Write a Python program that adds the number 4 to the list [1, 2, 3] and prints the updated list."
   ]
  },
  {
   "cell_type": "code",
   "execution_count": null,
   "metadata": {},
   "outputs": [],
   "source": [
    "my_list = [1, 2, 3]\n",
    "my_list.append(4)\n",
    "print(my_list)"
   ]
  },
  {
   "cell_type": "markdown",
   "metadata": {},
   "source": [
    "5. Write a Python program that removes the number 2 from the list [1, 2, 3] and prints the updated list"
   ]
  },
  {
   "cell_type": "code",
   "execution_count": null,
   "metadata": {},
   "outputs": [],
   "source": [
    "my_list = [1, 2, 3]\n",
    "my_list.remove(2)\n",
    "print(my_list)"
   ]
  },
  {
   "cell_type": "markdown",
   "metadata": {},
   "source": [
    "6. Write a Python program that sorts the list [3, 1, 2] in ascending order and prints the sorted list"
   ]
  },
  {
   "cell_type": "code",
   "execution_count": null,
   "metadata": {},
   "outputs": [],
   "source": [
    "my_list = [3, 1, 2]\n",
    "my_list.sort()\n",
    "print(my_list)"
   ]
  },
  {
   "cell_type": "markdown",
   "metadata": {},
   "source": [
    "7. Write a Python program that reverses the list [1, 2, 3] and prints the reversed list."
   ]
  },
  {
   "cell_type": "code",
   "execution_count": null,
   "metadata": {},
   "outputs": [],
   "source": [
    "my_list = [1, 2, 3]\n",
    "my_list.reverse()\n",
    "print(my_list)"
   ]
  },
  {
   "cell_type": "markdown",
   "metadata": {},
   "source": [
    "8. Create a Python dictionary with the keys 'a', 'b', and 'c' and corresponding values 1, 2, and 3. Print the dictionary to the console."
   ]
  },
  {
   "cell_type": "code",
   "execution_count": null,
   "metadata": {},
   "outputs": [],
   "source": [
    "my_dict = {'a': 1, 'b': 2, 'c': 3}\n",
    "print(my_dict)"
   ]
  },
  {
   "cell_type": "markdown",
   "metadata": {},
   "source": [
    "9. Write a Python program that accesses the value associated with the key 'b' in the dictionary {'a': 1, 'b': 2, 'c': 3} and prints it"
   ]
  },
  {
   "cell_type": "code",
   "execution_count": null,
   "metadata": {},
   "outputs": [],
   "source": [
    "my_dict = {'a': 1, 'b': 2, 'c': 3}\n",
    "print(my_dict['b'])"
   ]
  },
  {
   "cell_type": "markdown",
   "metadata": {},
   "source": [
    "10. Create a tuple (1, 2, 3) and print the first element of the tuple"
   ]
  },
  {
   "cell_type": "code",
   "execution_count": null,
   "metadata": {},
   "outputs": [],
   "source": [
    "my_tuple = (1, 2, 3)\n",
    "print(my_tuple[0])"
   ]
  },
  {
   "cell_type": "markdown",
   "metadata": {},
   "source": [
    "11. Write a Python program that checks if a number is greater than 10. If it is, print 'Greater', otherwise print 'Not Greater'"
   ]
  },
  {
   "cell_type": "code",
   "execution_count": null,
   "metadata": {},
   "outputs": [],
   "source": [
    "number = int(input(\"Enter a number: \"))\n",
    "\n",
    "if number > 10:\n",
    "    print(\"Greater\")\n",
    "else:\n",
    "    print(\"Not Greater\")"
   ]
  },
  {
   "cell_type": "markdown",
   "metadata": {},
   "source": [
    "12. Write a Python program that uses a for loop to iterate over the list [1, 2, 3] and prints each element.\""
   ]
  },
  {
   "cell_type": "code",
   "execution_count": null,
   "metadata": {},
   "outputs": [],
   "source": [
    "my_list = [1, 2, 3]\n",
    "\n",
    "for element in my_list:\n",
    "    print(element)"
   ]
  },
  {
   "cell_type": "markdown",
   "metadata": {},
   "source": [
    "13. Write a Python program that uses a while loop to print the numbers from 1 to 5."
   ]
  },
  {
   "cell_type": "code",
   "execution_count": null,
   "metadata": {},
   "outputs": [],
   "source": [
    "i = 1\n",
    "while i <= 5:\n",
    "    print(i)\n",
    "    i += 1"
   ]
  },
  {
   "cell_type": "markdown",
   "metadata": {},
   "source": [
    "14. Write a Python function called greet that takes no arguments and prints 'Hello!' when called."
   ]
  },
  {
   "cell_type": "code",
   "execution_count": null,
   "metadata": {},
   "outputs": [],
   "source": [
    "def greet():\n",
    "  print(\"Hello!\")\n",
    "\n",
    "greet()"
   ]
  },
  {
   "cell_type": "markdown",
   "metadata": {},
   "source": [
    "15. Write a Python function called add that takes two arguments and returns their sum. Call the function with the arguments 3 and 5, and print the result."
   ]
  },
  {
   "cell_type": "code",
   "execution_count": null,
   "metadata": {},
   "outputs": [],
   "source": [
    "def add(x, y):\n",
    "  return x + y\n",
    "\n",
    "result = add(3, 5)\n",
    "print(result)"
   ]
  },
  {
   "cell_type": "markdown",
   "metadata": {},
   "source": [
    "16. Write a Python function called square that takes a number as an argument and returns its square. Call the function with the argument 4, and print the result"
   ]
  },
  {
   "cell_type": "code",
   "execution_count": null,
   "metadata": {},
   "outputs": [],
   "source": [
    "def square(number):\n",
    "  return number * number\n",
    "\n",
    "result = square(4)\n",
    "print(result)"
   ]
  },
  {
   "cell_type": "markdown",
   "metadata": {},
   "source": [
    "17. Write a Python program that opens a file named 'example.txt' in read mode and prints its contents to the console."
   ]
  },
  {
   "cell_type": "code",
   "execution_count": null,
   "metadata": {},
   "outputs": [],
   "source": [
    "try:\n",
    "  with open('example.txt', 'r') as file:\n",
    "    content = file.read()\n",
    "    print(content)\n",
    "except FileNotFoundError:\n",
    "  print(\"File 'example.txt' not found.\")"
   ]
  },
  {
   "cell_type": "markdown",
   "metadata": {},
   "source": [
    "18. Write a Python program that opens a file named 'output.txt' in write mode, writes the string 'Hello, World!' to the file, and then closes the file."
   ]
  },
  {
   "cell_type": "code",
   "execution_count": null,
   "metadata": {},
   "outputs": [],
   "source": [
    "with open('output.txt', 'w') as file:\n",
    "  file.write('Hello, World!')"
   ]
  },
  {
   "cell_type": "markdown",
   "metadata": {},
   "source": [
    "19. Write a Python program that opens a file named 'output.txt' in append mode, writes the string 'Appending this line.' to the file, and then closes the file."
   ]
  },
  {
   "cell_type": "code",
   "execution_count": null,
   "metadata": {},
   "outputs": [],
   "source": [
    "with open('output.txt', 'a') as file:\n",
    "  file.write('Appending this line.')"
   ]
  },
  {
   "cell_type": "markdown",
   "metadata": {},
   "source": [
    "20. Write a Python program that opens a file named 'example.txt' in read mode and prints each line to the console, one by one."
   ]
  },
  {
   "cell_type": "code",
   "execution_count": null,
   "metadata": {},
   "outputs": [],
   "source": [
    "try:\n",
    "  with open('example.txt', 'r') as file:\n",
    "    for line in file:\n",
    "      print(line.rstrip())  # Remove trailing newline character\n",
    "except FileNotFoundError:\n",
    "  print(\"File 'example.txt' not found.\")"
   ]
  },
  {
   "cell_type": "markdown",
   "metadata": {},
   "source": [
    "21. Write a Python program that raises a ValueError with the message 'An error occurred'."
   ]
  },
  {
   "cell_type": "code",
   "execution_count": null,
   "metadata": {},
   "outputs": [],
   "source": [
    "raise ValueError(\"An error occurred\")"
   ]
  },
  {
   "cell_type": "markdown",
   "metadata": {},
   "source": [
    "22. Write a Python program that uses a for loop to iterate over the numbers 1 to 10. If the number is 5, break out of the loop."
   ]
  },
  {
   "cell_type": "code",
   "execution_count": null,
   "metadata": {},
   "outputs": [],
   "source": [
    "for number in range(1, 11):\n",
    "  if number == 5:\n",
    "    break\n",
    "  print(number)"
   ]
  },
  {
   "cell_type": "markdown",
   "metadata": {},
   "source": [
    "23. Write a Python program that uses a for loop to iterate over the numbers 1 to 5. If the number is 3, skip printing it and continue with the next iteration"
   ]
  },
  {
   "cell_type": "code",
   "execution_count": null,
   "metadata": {},
   "outputs": [],
   "source": [
    "for number in range(1, 6):\n",
    "  if number == 3:\n",
    "    continue\n",
    "  print(number)"
   ]
  },
  {
   "cell_type": "markdown",
   "metadata": {},
   "source": [
    "24. Write a Python program that attempts to divide 10 by 0 inside a try block, catches the resulting ZeroDivisionError in an except block, and prints 'Cannot divide by zero.'"
   ]
  },
  {
   "cell_type": "code",
   "execution_count": null,
   "metadata": {},
   "outputs": [],
   "source": [
    "try:\n",
    "  result = 10 / 0\n",
    "except ZeroDivisionError:\n",
    "  print(\"Cannot divide by zero.\")"
   ]
  },
  {
   "cell_type": "markdown",
   "metadata": {},
   "source": [
    "25. Write a Python program that removes duplicates from the list [1, 2, 2, 3, 4, 4, 5] using a set, and prints the resulting list."
   ]
  },
  {
   "cell_type": "code",
   "execution_count": null,
   "metadata": {},
   "outputs": [],
   "source": [
    "my_list = [1, 2, 2, 3, 4, 4, 5]\n",
    "unique_elements = list(set(my_list))\n",
    "print(unique_elements)"
   ]
  },
  {
   "cell_type": "markdown",
   "metadata": {},
   "source": [
    "26. Write a Python program that defines a lambda function to double a number. Use the lambda function to double the number 4 and print the result."
   ]
  },
  {
   "cell_type": "code",
   "execution_count": null,
   "metadata": {},
   "outputs": [],
   "source": [
    "double = lambda x: x * 2\n",
    "result = double(4)\n",
    "print(result)"
   ]
  },
  {
   "cell_type": "markdown",
   "metadata": {},
   "source": [
    "27. Write a Python function called greet that takes a name as an argument and prints 'Hello, [name]!' where [name] is the argument. If no name is provided, default to 'World'. Call the function without arguments and then with the argument 'Alice'"
   ]
  },
  {
   "cell_type": "code",
   "execution_count": null,
   "metadata": {},
   "outputs": [],
   "source": [
    "def greet(name=\"World\"):\n",
    "  print(\"Hello, \" + name + \"!\")\n",
    "\n",
    "greet()  # Prints \"Hello, World!\"\n",
    "greet(\"Alice\")  # Prints \"Hello, Alice!\""
   ]
  },
  {
   "cell_type": "markdown",
   "metadata": {},
   "source": [
    "28. Write a Python function called apply that takes another function and a number as arguments, applies the function to the number, and returns the result. Define a separate function called square that squares a number. Pass square and 3 as arguments to apply, and print the result."
   ]
  },
  {
   "cell_type": "code",
   "execution_count": null,
   "metadata": {},
   "outputs": [],
   "source": [
    "def apply(func, number):\n",
    "  return func(number)\n",
    "\n",
    "def square(x):\n",
    "  return x * x\n",
    "\n",
    "result = apply(square, 3)\n",
    "print(result)"
   ]
  },
  {
   "cell_type": "markdown",
   "metadata": {},
   "source": [
    "29. Write a Python program that checks if a file named 'example.txt' exists in the current directory. If it does, print 'File exists', otherwise print 'File does not exist'"
   ]
  },
  {
   "cell_type": "code",
   "execution_count": null,
   "metadata": {},
   "outputs": [],
   "source": [
    "import os\n",
    "\n",
    "if os.path.exists('example.txt'):\n",
    "  print('File exists')\n",
    "else:\n",
    "  print('File does not exist')"
   ]
  },
  {
   "cell_type": "markdown",
   "metadata": {},
   "source": [
    "30. Write a Python program that deletes a file named 'unnecessary.txt'. If the file does not exist, print 'File not found'"
   ]
  },
  {
   "cell_type": "code",
   "execution_count": null,
   "metadata": {},
   "outputs": [],
   "source": [
    "import os\n",
    "\n",
    "try:\n",
    "  os.remove('unnecessary.txt')\n",
    "  print('File deleted successfully')\n",
    "except FileNotFoundError:\n",
    "  print('File not found')"
   ]
  },
  {
   "cell_type": "markdown",
   "metadata": {},
   "source": [
    "31. Write a Python class called Person that has a single attribute name. Instantiate an object of the class with the name 'Alice' and print the name."
   ]
  },
  {
   "cell_type": "code",
   "execution_count": null,
   "metadata": {},
   "outputs": [],
   "source": [
    "class Person:\n",
    "  def __init__(self, name):\n",
    "    self.name = name\n",
    "\n",
    "person = Person(\"Alice\")\n",
    "print(person.name)"
   ]
  },
  {
   "cell_type": "markdown",
   "metadata": {},
   "source": [
    "32. Write a Python class called Car with an attribute model. Create an instance of Car with the model 'Toyota' and print the model."
   ]
  },
  {
   "cell_type": "code",
   "execution_count": null,
   "metadata": {},
   "outputs": [],
   "source": [
    "class Car:\n",
    "  def __init__(self, model):\n",
    "    self.model = model\n",
    "\n",
    "my_car = Car(\"Toyota\")\n",
    "print(my_car.model)"
   ]
  },
  {
   "cell_type": "markdown",
   "metadata": {},
   "source": [
    "33. Write a Python program that uses a list comprehension to create a list of squares for the numbers 1 through 5, and prints the resulting list. "
   ]
  },
  {
   "cell_type": "code",
   "execution_count": null,
   "metadata": {},
   "outputs": [],
   "source": [
    "squares = [x**2 for x in range(1, 6)]\n",
    "print(squares)"
   ]
  },
  {
   "cell_type": "markdown",
   "metadata": {},
   "source": [
    "34. Write a Python program that uses a for loop to sum the numbers in the list [1, 2, 3, 4, 5] and prints the result."
   ]
  },
  {
   "cell_type": "code",
   "execution_count": null,
   "metadata": {},
   "outputs": [],
   "source": [
    "my_list = [1, 2, 3, 4, 5]\n",
    "total = 0\n",
    "\n",
    "for number in my_list:\n",
    "  total += number\n",
    "\n",
    "print(total)"
   ]
  },
  {
   "cell_type": "markdown",
   "metadata": {},
   "source": [
    "35. Write a Python program that generates a random number between 1 and 10 and prints it. "
   ]
  },
  {
   "cell_type": "code",
   "execution_count": null,
   "metadata": {},
   "outputs": [],
   "source": [
    "import random\n",
    "\n",
    "random_number = random.randint(1, 10)\n",
    "print(random_number)"
   ]
  },
  {
   "cell_type": "markdown",
   "metadata": {},
   "source": [
    "36. Write a Python program that measures and prints the time it takes to execute a for loop that sums the numbers from 1 to 1,000,000."
   ]
  },
  {
   "cell_type": "code",
   "execution_count": null,
   "metadata": {},
   "outputs": [],
   "source": [
    "import time\n",
    "\n",
    "start_time = time.time()\n",
    "\n",
    "total = 0\n",
    "for i in range(1, 1000001):\n",
    "    total += i\n",
    "\n",
    "end_time = time.time()\n",
    "elapsed_time = end_time - start_time\n",
    "print(\"Elapsed time:\", elapsed_time, \"seconds\")"
   ]
  },
  {
   "cell_type": "markdown",
   "metadata": {},
   "source": [
    "37. Write a Python decorator called my_decorator that prints 'Starting' before the decorated function is called, and 'Finished' after the function is called. Apply this decorator to a function that prints 'Hello!' and then call the decorated function."
   ]
  },
  {
   "cell_type": "code",
   "execution_count": null,
   "metadata": {},
   "outputs": [],
   "source": [
    "def my_decorator(func):\n",
    "  def wrapper():\n",
    "    print(\"Starting\")\n",
    "    func()\n",
    "    print(\"Finished\")\n",
    "  return wrapper\n",
    "\n",
    "@my_decorator\n",
    "def greet():\n",
    "  print(\"Hello!\")\n",
    "\n",
    "greet()"
   ]
  },
  {
   "cell_type": "markdown",
   "metadata": {},
   "source": [
    "38. Write a Python class called BankAccount with a private attribute _balance. Implement methods to deposit and withdraw money, and a method to print the current balance."
   ]
  },
  {
   "cell_type": "code",
   "execution_count": null,
   "metadata": {},
   "outputs": [],
   "source": [
    "class BankAccount:\n",
    "  def __init__(self):\n",
    "    self._balance = 0\n",
    "\n",
    "  def deposit(self, amount):\n",
    "    if amount > 0:\n",
    "      self._balance += amount\n",
    "      print(f\"Deposited {amount}. New balance: {self._balance}\")\n",
    "    else:\n",
    "      print(\"Invalid deposit amount.\")\n",
    "\n",
    "  def withdraw(self, amount):\n",
    "    if 0 < amount <= self._balance:\n",
    "      self._balance -= amount\n",
    "      print(f\"Withdrew {amount}. New balance: {self._balance}\")\n",
    "    else:\n",
    "      print(\"Insufficient funds.\")\n",
    "\n",
    "  def get_balance(self):\n",
    "    print(f\"Current balance: {self._balance}\")"
   ]
  },
  {
   "cell_type": "markdown",
   "metadata": {},
   "source": [
    "39. Write a Python program that creates a 2D list representing a matrix with the following values: [[1, 2], [3, 4]]. Print the element in the first row and second column."
   ]
  },
  {
   "cell_type": "code",
   "execution_count": null,
   "metadata": {},
   "outputs": [],
   "source": [
    "matrix = [[1, 2], [3, 4]]\n",
    "print(matrix[0][1])"
   ]
  },
  {
   "cell_type": "markdown",
   "metadata": {},
   "source": [
    "40. Write a Python decorator called log_function_call that logs the name of a function each time it is called. Apply this decorator to a function that prints 'Executing function' and then call the decorated function."
   ]
  },
  {
   "cell_type": "code",
   "execution_count": null,
   "metadata": {},
   "outputs": [],
   "source": [
    "import logging\n",
    "\n",
    "def log_function_call(func):\n",
    "  def wrapper(*args, **kwargs):\n",
    "    logging.info(f\"Calling function {func.__name__}\")\n",
    "    result = func(*args, **kwargs)\n",
    "    logging.info(f\"Function {func.__name__} returned {result}\")\n",
    "    return result\n",
    "  return wrapper\n",
    "\n",
    "@log_function_call\n",
    "def my_function():\n",
    "  print(\"Executing function\")\n",
    "\n",
    "my_function()"
   ]
  },
  {
   "cell_type": "markdown",
   "metadata": {},
   "source": [
    "41. Write a Python class called Stack that implements a stack using a list. Implement methods push, pop, and is_empty. Demonstrate the stack operations by pushing and popping some elements."
   ]
  },
  {
   "cell_type": "code",
   "execution_count": null,
   "metadata": {},
   "outputs": [],
   "source": [
    "class Stack:\n",
    "  def __init__(self):\n",
    "    self.items = []\n",
    "\n",
    "  def push(self, item):\n",
    "    self.items.append(item)\n",
    "\n",
    "  def pop(self):\n",
    "    if not self.is_empty():\n",
    "      return self.items.pop()\n",
    "    else:\n",
    "      raise IndexError(\"Stack is empty\")\n",
    "\n",
    "  def is_empty(self):\n",
    "    return len(self.items) == 0\n",
    "\n",
    "# Create a stack object\n",
    "my_stack = Stack()\n",
    "\n",
    "# Push elements onto the stack\n",
    "my_stack.push(10)\n",
    "my_stack.push(20)\n",
    "my_stack.push(30)\n",
    "\n",
    "# Pop elements from the stack\n",
    "print(my_stack.pop())  # Output: 30\n",
    "print(my_stack.pop())  # Output: 20\n",
    "print(my_stack.pop())  # Output: 10\n",
    "\n",
    "# Check if the stack is empty\n",
    "print(my_stack.is_empty())  # Output: True"
   ]
  },
  {
   "cell_type": "markdown",
   "metadata": {},
   "source": [
    "42. Write a Python class called Queue that implements a queue using a list. Implement methods enqueue, dequeue, and is_empty. Demonstrate the queue operations by enqueueing and dequeueing some elements.\" "
   ]
  },
  {
   "cell_type": "code",
   "execution_count": null,
   "metadata": {},
   "outputs": [],
   "source": [
    "class Queue:\n",
    "    def __init__(self):\n",
    "        self.queue = []\n",
    "\n",
    "    def enqueue(self, item):\n",
    "        self.queue.append(item)\n",
    "\n",
    "    def dequeue(self):\n",
    "        if self.is_empty():\n",
    "            raise IndexError(\"Queue is empty\")\n",
    "        return self.queue.pop(0)\n",
    "\n",
    "    def is_empty(self):\n",
    "        return len(self.queue) == 0\n",
    "\n",
    "# Create a queue object\n",
    "queue = Queue()\n",
    "\n",
    "# Enqueue elements\n",
    "queue.enqueue(10)\n",
    "queue.enqueue(20)\n",
    "queue.enqueue(30)\n",
    "\n",
    "# Dequeue elements and print\n",
    "print(queue.dequeue())\n",
    "print(queue.dequeue())\n",
    "print(queue.dequeue())\n",
    "\n",
    "# Check if the queue is empty\n",
    "print(queue.is_empty())"
   ]
  },
  {
   "cell_type": "markdown",
   "metadata": {},
   "source": [
    "43. Write a Python function called factorial that calculates the factorial of a number using recursion. Calculate the factorial of 5 and print the result."
   ]
  },
  {
   "cell_type": "code",
   "execution_count": null,
   "metadata": {},
   "outputs": [],
   "source": [
    "def factorial(n):\n",
    "  if n == 0:\n",
    "    return 1\n",
    "  else:\n",
    "    return n * factorial(n - 1)\n",
    "\n",
    "result = factorial(5)\n",
    "print(result)  # Output: 120"
   ]
  },
  {
   "cell_type": "markdown",
   "metadata": {},
   "source": [
    "44. Write a Python class called Counter with a class attribute count that tracks the number of instances created. Implement a class method increment that increments count each time a new instance is created. Demonstrate this by creating multiple instances and printing count."
   ]
  },
  {
   "cell_type": "code",
   "execution_count": null,
   "metadata": {},
   "outputs": [],
   "source": [
    "class Counter:\n",
    "  count = 0\n",
    "\n",
    "  def __init__(self):\n",
    "    Counter.increment()\n",
    "\n",
    "  @classmethod\n",
    "  def increment(cls):\n",
    "    cls.count += 1\n",
    "\n",
    "# Create multiple instances\n",
    "counter1 = Counter()\n",
    "counter2 = Counter()\n",
    "counter3 = Counter()\n",
    "\n",
    "# Print the total count\n",
    "print(Counter.count)  # Output: 3"
   ]
  },
  {
   "cell_type": "markdown",
   "metadata": {},
   "source": [
    "45. Write a Python class called Animal with a method speak that prints 'Animal sound'. Create a subclass Dog that overrides speak to print 'Bark'. Instantiate Dog and call speak."
   ]
  },
  {
   "cell_type": "code",
   "execution_count": null,
   "metadata": {},
   "outputs": [],
   "source": [
    "class Animal:\n",
    "  def speak(self):\n",
    "    print(\"Animal sound\")\n",
    "\n",
    "class Dog(Animal):\n",
    "  def speak(self):\n",
    "    print(\"Bark\")\n",
    "\n",
    "dog = Dog()\n",
    "dog.speak()  # Output: Bark"
   ]
  },
  {
   "cell_type": "markdown",
   "metadata": {},
   "source": [
    "46. Write a Python class called Vehicle with a method move that prints 'Moving'. Create a subclass Car that overrides move to print 'Driving'. Instantiate Car and call move."
   ]
  },
  {
   "cell_type": "code",
   "execution_count": null,
   "metadata": {},
   "outputs": [],
   "source": [
    "class Vehicle:\n",
    "  def move(self):\n",
    "    print(\"Moving\")\n",
    "\n",
    "class Car(Vehicle):\n",
    "  def move(self):\n",
    "    print(\"Driving\")\n",
    "\n",
    "car = Car()\n",
    "car.move()  # Output: Driving"
   ]
  },
  {
   "cell_type": "markdown",
   "metadata": {},
   "source": [
    "47. Write a Python program that sorts a list of dictionaries by the key 'age'. For example, given people = [{'name': 'Alice', 'age': 25}, {'name': 'Bob', 'age': 20}], sort the list by age and print the sorted list."
   ]
  },
  {
   "cell_type": "code",
   "execution_count": null,
   "metadata": {},
   "outputs": [],
   "source": [
    "people = [{'name': 'Alice', 'age': 25}, {'name': 'Bob', 'age': 20}]\n",
    "\n",
    "sorted_people = sorted(people, key=lambda person: person['age'])\n",
    "print(sorted_people)"
   ]
  },
  {
   "cell_type": "markdown",
   "metadata": {},
   "source": [
    "48. Write a Python function called linear_search that takes a list and a target value, and returns the index of the target value if found, or -1 if not found. Use this function to search for the value 3 in the list [1, 2, 3, 4, 5]."
   ]
  },
  {
   "cell_type": "code",
   "execution_count": null,
   "metadata": {},
   "outputs": [],
   "source": [
    "def linear_search(arr, target):\n",
    "  for i in range(len(arr)):\n",
    "    if arr[i] == target:\n",
    "      return i\n",
    "  return -1\n",
    "\n",
    "result = linear_search([1, 2, 3, 4, 5], 3)\n",
    "print(result)  # Output: 2"
   ]
  },
  {
   "cell_type": "markdown",
   "metadata": {},
   "source": [
    "49. Write a Python function called bubble_sort that implements the bubble sort algorithm to sort a list of numbers in ascending order. Use this function to sort the list [5, 3, 8, 4, 2] and print the sorted list"
   ]
  },
  {
   "cell_type": "code",
   "execution_count": null,
   "metadata": {},
   "outputs": [],
   "source": [
    "def bubble_sort(numbers):\n",
    "  \"\"\"Sorts a list of numbers using the bubble sort algorithm.\n",
    "\n",
    "  Args:\n",
    "    numbers: The list of numbers to be sorted.\n",
    "\n",
    "  Returns:\n",
    "    The sorted list of numbers.\n",
    "  \"\"\"\n",
    "\n",
    "  n = len(numbers)\n",
    "\n",
    "  # Traverse through all array elements\n",
    "  for i in range(n):\n",
    "\n",
    "    # Last i elements are already in place\n",
    "    for j in range(0, n-i-1):\n",
    "\n",
    "      # Traverse the array from 0 to n-i-1\n",
    "      # Swap if the element found is greater than the next element\n",
    "      if numbers[j] > numbers[j+1]:\n",
    "        numbers[j], numbers[j+1] = numbers[j+1], numbers[j]\n",
    "\n",
    "  return numbers\n",
    "\n",
    "# Example usage:\n",
    "numbers = [5, 3, 8, 4, 2]\n",
    "sorted_numbers = bubble_sort(numbers)\n",
    "print(sorted_numbers)"
   ]
  },
  {
   "cell_type": "markdown",
   "metadata": {},
   "source": [
    "50. Write a Python function called binary_search that implements the binary search algorithm to find a target value in a sorted list. Use this function to find the index of the value 4 in the sorted list [1, 2, 3, 4, 5]."
   ]
  },
  {
   "cell_type": "code",
   "execution_count": null,
   "metadata": {},
   "outputs": [],
   "source": [
    "def binary_search(numbers, target):\n",
    "  \"\"\"Searches for a target value in a sorted list using binary search.\n",
    "\n",
    "  Args:\n",
    "    numbers: The sorted list of numbers.\n",
    "    target: The target value to search for.\n",
    "\n",
    "  Returns:\n",
    "    The index of the target value in the list, or -1 if not found.\n",
    "  \"\"\"\n",
    "\n",
    "  left = 0\n",
    "  right = len(numbers) - 1\n",
    "\n",
    "  while left <= right:\n",
    "    mid = (left + right) // 2\n",
    "\n",
    "    if numbers[mid] == target:\n",
    "      return mid\n",
    "    elif numbers[mid] < target:\n",
    "      left = mid + 1\n",
    "    else:\n",
    "      right = mid - 1\n",
    "\n",
    "  return -1\n",
    "\n",
    "# Example usage:\n",
    "numbers = [1, 2, 3, 4, 5]\n",
    "target = 4\n",
    "index = binary_search(numbers, target)\n",
    "print(index)"
   ]
  },
  {
   "cell_type": "markdown",
   "metadata": {},
   "source": [
    "51. Write a Python program that creates a dictionary representing a student's grades for different subjects, e.g., grades = {'Math': {'midterm': 90, 'final': 85}, 'Science': {'midterm': 88, 'final': 92}}. Access and print the final grade in Science."
   ]
  },
  {
   "cell_type": "code",
   "execution_count": null,
   "metadata": {},
   "outputs": [],
   "source": [
    "grades = {'Math': {'midterm': 90, 'final': 85}, 'Science': {'midterm': 88, 'final': 92}}\n",
    "\n",
    "# Access the final grade in Science\n",
    "science_final_grade = grades['Science']['final']\n",
    "\n",
    "print(\"Final grade in Science:\", science_final_grade)"
   ]
  },
  {
   "cell_type": "markdown",
   "metadata": {},
   "source": [
    "52. Write a Python class called Node representing a node in a singly linked list, with attributes data and next_node. Implement a class called LinkedList with methods to insert a node at the beginning, end, and to print the list. Demonstrate by inserting and printing nodes."
   ]
  },
  {
   "cell_type": "code",
   "execution_count": null,
   "metadata": {},
   "outputs": [],
   "source": [
    "class Node:\n",
    "  def __init__(self, data):\n",
    "    self.data = data\n",
    "    self.next_node = None\n",
    "\n",
    "class LinkedList:\n",
    "  def __init__(self):\n",
    "    self.head = None\n",
    "\n",
    "  def insert_at_beginning(self, data):\n",
    "    new_node = Node(data)\n",
    "    new_node.next_node = self.head\n",
    "    self.head = new_node\n",
    "\n",
    "  def insert_at_end(self, data):\n",
    "    new_node = Node(data)\n",
    "    if self.head is None:\n",
    "      self.head = new_node\n",
    "      return\n",
    "\n",
    "    temp = self.head\n",
    "    while temp.next_node:\n",
    "      temp = temp.next_node\n",
    "\n",
    "    temp.next_node = new_node\n",
    "\n",
    "  def print_list(self):\n",
    "    temp = self.head\n",
    "    while temp:\n",
    "      print(temp.data, end=\" \")\n",
    "      temp = temp.next_node\n",
    "    print()\n",
    "\n",
    "# Example usage:\n",
    "linked_list = LinkedList()\n",
    "linked_list.insert_at_end(1)\n",
    "linked_list.insert_at_beginning(2)\n",
    "linked_list.insert_at_end(3)\n",
    "linked_list.print_list()  # Output: 2 1 3"
   ]
  },
  {
   "cell_type": "markdown",
   "metadata": {},
   "source": [
    "53. Write a Python function called gcd that calculates the greatest common divisor (GCD) of two numbers using the Euclidean algorithm. Calculate the GCD of 48 and 18 and print the result."
   ]
  },
  {
   "cell_type": "code",
   "execution_count": null,
   "metadata": {},
   "outputs": [],
   "source": [
    "def gcd(a, b):\n",
    "  \"\"\"Calculates the greatest common divisor (GCD) of two numbers using the Euclidean algorithm.\n",
    "\n",
    "  Args:\n",
    "    a: The first number.\n",
    "    b: The second number.\n",
    "\n",
    "  Returns:\n",
    "    The greatest common divisor of a and b.\n",
    "  \"\"\"\n",
    "\n",
    "  while b != 0:\n",
    "    a, b = b, a % b\n",
    "  return a\n",
    "\n",
    "# Example usage:\n",
    "result = gcd(48, 18)\n",
    "print(\"GCD of 48 and 18:\", result)"
   ]
  },
  {
   "cell_type": "markdown",
   "metadata": {},
   "source": [
    "54. Write a Python function called is_prime that checks if a number is prime. Use this function to check if 29 is prime and print the result."
   ]
  },
  {
   "cell_type": "code",
   "execution_count": null,
   "metadata": {},
   "outputs": [],
   "source": [
    "def is_prime(number):\n",
    "  \"\"\"Checks if a number is prime.\n",
    "\n",
    "  Args:\n",
    "    number: The number to check.\n",
    "\n",
    "  Returns:\n",
    "    True if the number is prime, False otherwise.\n",
    "  \"\"\"\n",
    "\n",
    "  if number <= 1:\n",
    "    return False\n",
    "\n",
    "  for i in range(2, int(number**0.5) + 1):\n",
    "    if number % i == 0:\n",
    "      return False\n",
    "\n",
    "  return True\n",
    "\n",
    "# Example usage:\n",
    "result = is_prime(29)\n",
    "print(\"Is 29 prime?\", result)"
   ]
  },
  {
   "cell_type": "markdown",
   "metadata": {},
   "source": [
    "55.Write a Python function called factorial that calculates the factorial of a number using a loop. Calculate the factorial of 6 and print the result.\""
   ]
  },
  {
   "cell_type": "code",
   "execution_count": null,
   "metadata": {},
   "outputs": [],
   "source": [
    "def factorial(number):\n",
    "  \"\"\"Calculates the factorial of a number using a loop.\n",
    "\n",
    "  Args:\n",
    "    number: The number to calculate the factorial of.\n",
    "\n",
    "  Returns:\n",
    "    The factorial of the number.\n",
    "  \"\"\"\n",
    "\n",
    "  if number < 0:\n",
    "    return None  # Factorial is not defined for negative numbers\n",
    "\n",
    "  result = 1\n",
    "  for i in range(1, number + 1):\n",
    "    result *= i\n",
    "  return result\n",
    "\n",
    "# Example usage:\n",
    "result = factorial(6)\n",
    "print(\"Factorial of 6:\", result)"
   ]
  },
  {
   "cell_type": "markdown",
   "metadata": {},
   "source": [
    "56. Write a simple Flask application with a single route that returns 'Hello, World!' when accessed. Run the Flask app and provide instructions to test the endpoint."
   ]
  },
  {
   "cell_type": "code",
   "execution_count": null,
   "metadata": {},
   "outputs": [],
   "source": [
    "from flask import Flask\n",
    "app = Flask(__name__)\n",
    "@app.route('/')\n",
    "def hello_world():\n",
    "    return 'Hello, World!'\n",
    "\n",
    "python app.py\n",
    "\n",
    "from flask import Flask\n",
    "\n",
    "app = Flask(__name__)\n",
    "\n",
    "@app.route('/')\n",
    "def hello_world():\n",
    "    return 'Hello, World!'\n",
    "\n",
    "if __name__ == '__main__':\n",
    "    app.run(debug=True)"
   ]
  },
  {
   "cell_type": "markdown",
   "metadata": {},
   "source": [
    "57. Write a Python program that uses nested loops to print a multiplication table (from 1 to 10). Format the output as a grid."
   ]
  },
  {
   "cell_type": "code",
   "execution_count": null,
   "metadata": {},
   "outputs": [],
   "source": [
    "def print_multiplication_table():\n",
    "  \"\"\"Prints a multiplication table from 1 to 10 in a grid format.\"\"\"\n",
    "\n",
    "  for i in range(1, 11):\n",
    "    for j in range(1, 11):\n",
    "      product = i * j\n",
    "      print(f\"{product:3}\", end=\" \")\n",
    "    print()\n",
    "\n",
    "# Call the function to print the multiplication table\n",
    "print_multiplication_table()"
   ]
  },
  {
   "cell_type": "markdown",
   "metadata": {},
   "source": [
    "58. Write a Python class called Vector with attributes x and y. Overload the + operator to add two Vector objects by summing their x and y attributes. Demonstrate by adding two Vector objects and printing the result."
   ]
  },
  {
   "cell_type": "code",
   "execution_count": null,
   "metadata": {},
   "outputs": [],
   "source": [
    "class Vector:\n",
    "  def __init__(self, x, y):\n",
    "    self.x = x\n",
    "    self.y = y\n",
    "\n",
    "  def __add__(self, other):\n",
    "    return Vector(self.x + other.x, self.y + other.y)\n",
    "\n",
    "  def __str__(self):\n",
    "    return f\"({self.x}, {self.y})\"\n",
    "\n",
    "# Example usage:\n",
    "v1 = Vector(2, 3)\n",
    "v2 = Vector(4, 5)\n",
    "result = v1 + v2\n",
    "print(result)"
   ]
  },
  {
   "cell_type": "markdown",
   "metadata": {},
   "source": [
    "59. Write a Python function called fibonacci that generates the nth Fibonacci number using recursion. Calculate and print the 10th Fibonacci number."
   ]
  },
  {
   "cell_type": "code",
   "execution_count": null,
   "metadata": {},
   "outputs": [],
   "source": [
    "def fibonacci(n):\n",
    "  \"\"\"Calculates the nth Fibonacci number using recursion.\n",
    "\n",
    "  Args:\n",
    "    n: The index of the Fibonacci number to calculate.\n",
    "\n",
    "  Returns:\n",
    "    The nth Fibonacci number.\n",
    "  \"\"\"\n",
    "\n",
    "  if n <= 1:\n",
    "    return n\n",
    "  else:\n",
    "    return fibonacci(n-1) + fibonacci(n-2)\n",
    "\n",
    "# Example usage:\n",
    "result = fibonacci(10)\n",
    "print(\"10th Fibonacci number:\", result)"
   ]
  },
  {
   "cell_type": "markdown",
   "metadata": {},
   "source": [
    "60. Write a Python program that creates a list of tuples representing student names and their grades, e.g., students = [('Alice', 90), ('Bob', 85), ('Charlie', 95)]. Sort the list by grades and print the sorted list."
   ]
  },
  {
   "cell_type": "code",
   "execution_count": null,
   "metadata": {},
   "outputs": [],
   "source": [
    "students = [('Alice', 90), ('Bob', 85), ('Charlie', 95)]\n",
    "\n",
    "# Sort the list by grades (second element of each tuple)\n",
    "sorted_students = sorted(students, key=lambda x: x[1])\n",
    "\n",
    "# Print the sorted list\n",
    "print(sorted_students)"
   ]
  },
  {
   "cell_type": "markdown",
   "metadata": {},
   "source": [
    "61. Write a Python program that uses nested loops to print the following pattern:\n",
    "Markdown\n",
    "\n"
   ]
  },
  {
   "cell_type": "code",
   "execution_count": null,
   "metadata": {},
   "outputs": [],
   "source": [
    "*\n",
    "**\n",
    "***\n",
    "****\n",
    "*****\n",
    "```\"\n",
    "\n"
   ]
  },
  {
   "cell_type": "code",
   "execution_count": null,
   "metadata": {},
   "outputs": [],
   "source": [
    "def print_pattern(rows):\n",
    "  \"\"\"Prints a pattern of asterisks.\n",
    "\n",
    "  Args:\n",
    "    rows: The number of rows in the pattern.\n",
    "  \"\"\"\n",
    "\n",
    "  for i in range(1, rows + 1):\n",
    "    for j in range(i):\n",
    "      print(\"*\", end=\"\")\n",
    "    print()\n",
    "\n",
    "# Example usage:\n",
    "rows = 5\n",
    "print_pattern(rows)"
   ]
  },
  {
   "cell_type": "markdown",
   "metadata": {},
   "source": [
    "62. Write a Python decorator called log_call that logs the name of the function being called. Apply this decorator to a function called greet that prints 'Hello!' and call the decorated function."
   ]
  },
  {
   "cell_type": "code",
   "execution_count": null,
   "metadata": {},
   "outputs": [],
   "source": [
    "import logging\n",
    "\n",
    "def log_call(func):\n",
    "  def wrapper(*args, **kwargs):\n",
    "    logging.info(f\"Calling function: {func.__name__}\")\n",
    "    return func(*args, **kwargs)\n",
    "  return wrapper\n",
    "\n",
    "@log_call\n",
    "def greet():\n",
    "  print(\"Hello!\")\n",
    "\n",
    "# Call the decorated function\n",
    "greet()"
   ]
  },
  {
   "cell_type": "markdown",
   "metadata": {},
   "source": [
    "63. Write a Python class called TreeNode representing a node in a binary tree, with attributes data, left, and right. Implement a function to perform an in-order traversal of the tree and print the node values."
   ]
  },
  {
   "cell_type": "code",
   "execution_count": null,
   "metadata": {},
   "outputs": [],
   "source": [
    "class TreeNode:\n",
    "  def __init__(self, data):\n",
    "    self.data = data\n",
    "    self.left = None\n",
    "    self.right = None\n",
    "\n",
    "def inorder_traversal(node):\n",
    "  \"\"\"Performs an in-order traversal of the binary tree.\n",
    "\n",
    "  Args:\n",
    "    node: The root node of the tree.\n",
    "  \"\"\"\n",
    "\n",
    "  if node:\n",
    "    inorder_traversal(node.left)\n",
    "    print(node.data)\n",
    "    inorder_traversal(node.right)\n",
    "\n",
    "# Example usage:\n",
    "# Create a binary tree\n",
    "root = TreeNode(1)\n",
    "root.left = TreeNode(2)\n",
    "root.right = TreeNode(3)\n",
    "root.left.left = TreeNode(4)\n",
    "root.left.right = TreeNode(5)\n",
    "\n",
    "# Perform in-order traversal\n",
    "inorder_traversal(root)"
   ]
  },
  {
   "cell_type": "markdown",
   "metadata": {},
   "source": [
    "64. Write a Python function called quicksort that implements the quicksort algorithm to sort a list of numbers in ascending order. Use this function to sort the list [10, 7, 8, 9, 1, 5] and print the sorted list."
   ]
  },
  {
   "cell_type": "code",
   "execution_count": null,
   "metadata": {},
   "outputs": [],
   "source": [
    "def quicksort(arr):\n",
    "  \"\"\"Sorts a list of numbers using the quicksort algorithm.\n",
    "\n",
    "  Args:\n",
    "    arr: The list of numbers to be sorted.\n",
    "\n",
    "  Returns:\n",
    "    The sorted list of numbers.\n",
    "  \"\"\"\n",
    "\n",
    "  if len(arr) <= 1:\n",
    "    return arr\n",
    "\n",
    "  pivot = arr[len(arr) // 2]\n",
    "  left = [x for x in arr if x < pivot]\n",
    "  middle = [x for x in arr if x == pivot]\n",
    "  right = [x for x in arr if x > pivot]\n",
    "\n",
    "  return quicksort(left) + middle + quicksort(right)\n",
    "\n",
    "# Example usage:\n",
    "numbers = [10, 7, 8, 9, 1, 5]\n",
    "sorted_numbers = quicksort(numbers)\n",
    "print(sorted_numbers)"
   ]
  },
  {
   "cell_type": "markdown",
   "metadata": {},
   "source": [
    "65. Write a Flask application that provides a simple REST API with the following endpoints: GET /items to return a list of items, POST /items to add a new item, and DELETE /items/<id> to delete an item by ID. Provide instructions to test the API."
   ]
  },
  {
   "cell_type": "code",
   "execution_count": null,
   "metadata": {},
   "outputs": [],
   "source": [
    "pip install Flask\n",
    "from flask import Flask, jsonify, request\n",
    "\n",
    "app = Flask(__name__)\n",
    "items = [\n",
    "    {'id': 1, 'name': 'Item 1'},\n",
    "    {'id': 2, 'name': 'Item 2'},\n",
    "]\n",
    "@app.route('/items', methods=['GET'])\n",
    "def get_items():\n",
    "    return jsonify(items)\n",
    "\n",
    "@app.route('/items', methods=['POST'])\n",
    "def add_item():\n",
    "    item = request.get_json()\n",
    "    items.append(item)\n",
    "    return jsonify(item), 201\n",
    "\n",
    "@app.route('/items/<int:item_id>', methods=['DELETE'])\n",
    "def delete_item(item_id):\n",
    "    for i, item in enumerate(items):\n",
    "        if item['id'] == item_id:\n",
    "            del items[i]\n",
    "            return jsonify({'message': 'Item deleted'}), 200\n",
    "    return jsonify({'message': 'Item not found'}), 404\n",
    "python app.py\n",
    "from flask import Flask, jsonify, request\n",
    "\n",
    "app = Flask(__name__)\n",
    "\n",
    "items = [\n",
    "    {'id': 1, 'name': 'Item 1'},\n",
    "    {'id': 2, 'name': 'Item 2'},\n",
    "]\n",
    "\n",
    "@app.route('/items', methods=['GET'])\n",
    "def get_items():\n",
    "    return jsonify(items)\n",
    "\n",
    "@app.route('/items', methods=['POST'])\n",
    "def add_item():\n",
    "    item = request.get_json()\n",
    "    items.append(item)\n",
    "    return jsonify(item), 201\n",
    "\n",
    "@app.route('/items/<int:item_id>', methods=['DELETE'])\n",
    "def delete_item(item_id):\n",
    "    for i, item in enumerate(items):\n",
    "        if item['id'] == item_id:\n",
    "            del items[i]\n",
    "            return jsonify({'message': 'Item deleted'}), 200\n",
    "    return jsonify({'message': 'Item not found'}), 404\n",
    "\n",
    "if __name__ == '__main__':\n",
    "    app.run(debug=True)\n",
    "\n",
    "    {\n",
    "    \"name\": \"New Item\"\n",
    "}"
   ]
  },
  {
   "cell_type": "markdown",
   "metadata": {},
   "source": [
    "66. Write a Python program that generates the current date and time using the datetime module, formats it as 'YYYY-MM-DD HH:MM', and prints it. Then calculate the date 10 days from today and print it\n"
   ]
  },
  {
   "cell_type": "code",
   "execution_count": null,
   "metadata": {},
   "outputs": [],
   "source": [
    "import datetime\n",
    "\n",
    "# Get the current date and time\n",
    "now = datetime.datetime.now()\n",
    "\n",
    "# Format the date and time as YYYY-MM-DD HH:MM\n",
    "formatted_datetime = now.strftime('%Y-%m-%d %H:%M')\n",
    "\n",
    "print(\"Current date and time:\", formatted_datetime)\n",
    "\n",
    "# Calculate the date 10 days from today\n",
    "ten_days_from_now = now + datetime.timedelta(days=10)\n",
    "formatted_future_date = ten_days_from_now.strftime('%Y-%m-%d %H:%M')\n",
    "\n",
    "print(\"Date 10 days from now:\", formatted_future_date)"
   ]
  },
  {
   "cell_type": "markdown",
   "metadata": {},
   "source": [
    "67. Write a Python program that uses BeautifulSoup to scrape the titles of articles from a news website's homepage and prints them."
   ]
  },
  {
   "cell_type": "code",
   "execution_count": null,
   "metadata": {},
   "outputs": [],
   "source": [
    "import requests\n",
    "from bs4 import BeautifulSoup\n",
    "\n",
    "def scrape_article_titles(url):\n",
    "  \"\"\"Scrapes article titles from a specified URL.\n",
    "\n",
    "  Args:\n",
    "    url: The URL of the news website.\n",
    "\n",
    "  Returns:\n",
    "    A list of article titles.\n",
    "  \"\"\"\n",
    "\n",
    "  # Send a GET request to the URL\n",
    "  response = requests.get(url)\n",
    "\n",
    "  # Parse the HTML content using BeautifulSoup\n",
    "  soup = BeautifulSoup(response.content, 'html.parser')\n",
    "\n",
    "  # Find all elements containing article titles (adjust selectors as needed)\n",
    "  article_titles = soup.find_all('h2', class_='article-title')  # Example selector\n",
    "\n",
    "  # Extract the text from each article title element\n",
    "  titles = [title.text for title in article_titles]\n",
    "\n",
    "  return titles\n",
    "\n",
    "# Replace 'https://www.example.com' with the actual URL of the news website\n",
    "url = 'https://www.example.com'\n",
    "titles = scrape_article_titles(url)\n",
    "\n",
    "# Print the scraped article titles\n",
    "for title in titles:\n",
    "  print(title)"
   ]
  },
  {
   "cell_type": "markdown",
   "metadata": {},
   "source": [
    "68. Write a Python program that performs linear regression on a dataset using numpy. The dataset consists of input x = [1, 2, 3, 4, 5] and output y = [2, 4, 6, 8, 10]. Calculate the slope and intercept, and print the linear equation."
   ]
  },
  {
   "cell_type": "code",
   "execution_count": null,
   "metadata": {},
   "outputs": [],
   "source": [
    "import numpy as np\n",
    "\n",
    "# Input data\n",
    "x = np.array([1, 2, 3, 4, 5])\n",
    "y = np.array([2, 4, 6, 8, 10])\n",
    "\n",
    "# Calculate the slope and intercept using linear regression\n",
    "slope, intercept = np.polyfit(x, y, 1)\n",
    "\n",
    "# Print the linear equation\n",
    "print(\"Linear Equation: y = {:.2f}x + {:.2f}\".format(slope, intercept))"
   ]
  },
  {
   "cell_type": "markdown",
   "metadata": {},
   "source": [
    "69. Write a Python class called BSTNode representing a node in a binary search tree (BST), with attributes data, left, and right. Implement methods to insert a new node and search for a value in the BST. Demonstrate by inserting and searching for values."
   ]
  },
  {
   "cell_type": "code",
   "execution_count": null,
   "metadata": {},
   "outputs": [],
   "source": [
    "class BSTNode:\n",
    "  def __init__(self, data):\n",
    "    self.data = data\n",
    "    self.left = None\n",
    "    self.right = None\n",
    "\n",
    "  def insert(self, data):\n",
    "    \"\"\"Inserts a new node into the BST.\n",
    "\n",
    "    Args:\n",
    "      data: The data to be inserted.\n",
    "    \"\"\"\n",
    "\n",
    "    if data < self.data:\n",
    "      if self.left is None:\n",
    "        self.left = BSTNode(data)\n",
    "      else:\n",
    "        self.left.insert(data)\n",
    "    elif data > self.data:\n",
    "      if self.right is None:\n",
    "        self.right = BSTNode(data)\n",
    "      else:\n",
    "        self.right.insert(data)\n",
    "\n",
    "  def search(self, data):\n",
    "    \"\"\"Searches for a value in the BST.\n",
    "\n",
    "    Args:\n",
    "      data: The value to be searched for.\n",
    "\n",
    "    Returns:\n",
    "      True if the value is found, False otherwise.\n",
    "    \"\"\"\n",
    "\n",
    "    if data == self.data:\n",
    "      return True\n",
    "    elif data < self.data:\n",
    "      if self.left is None:\n",
    "        return False\n",
    "      else:\n",
    "        return self.left.search(data)\n",
    "    else:\n",
    "      if self.right is None:\n",
    "        return False\n",
    "      else:\n",
    "        return self.right.search(data)\n",
    "\n",
    "# Example usage:\n",
    "# Create a BST\n",
    "root = BSTNode(50)\n",
    "root.insert(30)\n",
    "root.insert(70)\n",
    "root.insert(20)\n",
    "root.insert(40)\n",
    "root.insert(60)\n",
    "root.insert(80)\n",
    "\n",
    "# Search for a value\n",
    "print(root.search(40))  # Output: True\n",
    "print(root.search(90))  # Output: False"
   ]
  },
  {
   "cell_type": "markdown",
   "metadata": {},
   "source": [
    "70. Write a Python program that creates a pandas DataFrame representing sales data with columns Product, Category, and Sales. Group the data by Category and calculate the total sales for each category."
   ]
  },
  {
   "cell_type": "code",
   "execution_count": null,
   "metadata": {},
   "outputs": [],
   "source": [
    "import pandas as pd\n",
    "\n",
    "# Create a sample DataFrame\n",
    "data = {\n",
    "    'Product': ['Product A', 'Product B', 'Product C', 'Product D', 'Product E'],\n",
    "    'Category': ['Electronics', 'Clothing', 'Electronics', 'Clothing', 'Furniture'],\n",
    "    'Sales': [100, 50, 200, 150, 300]\n",
    "}\n",
    "\n",
    "df = pd.DataFrame(data)\n",
    "\n",
    "# Group the data by Category and calculate total sales\n",
    "grouped_data = df.groupby('Category')['Sales'].sum()\n",
    "\n",
    "print(grouped_data)"
   ]
  },
  {
   "cell_type": "markdown",
   "metadata": {},
   "source": [
    "71. Write a Python program that creates two pandas DataFrames representing customer orders and their details. Merge the two DataFrames on a common OrderID column and print the merged DataFrame."
   ]
  },
  {
   "cell_type": "code",
   "execution_count": null,
   "metadata": {},
   "outputs": [],
   "source": [
    "import pandas as pd\n",
    "\n",
    "# Create sample DataFrames\n",
    "orders_data = {\n",
    "    'OrderID': [1, 2, 3, 4],\n",
    "    'CustomerID': [101, 102, 103, 104]\n",
    "}\n",
    "\n",
    "order_details_data = {\n",
    "    'OrderID': [1, 2, 3, 4],\n",
    "    'Product': ['Product A', 'Product B', 'Product C', 'Product D'],\n",
    "    'Quantity': [2, 3, 1, 4]\n",
    "}\n",
    "\n",
    "orders_df = pd.DataFrame(orders_data)\n",
    "order_details_df = pd.DataFrame(order_details_data)\n",
    "\n",
    "# Merge the DataFrames on the OrderID column\n",
    "merged_df = pd.merge(orders_df, order_details_df, on='OrderID')\n",
    "\n",
    "print(merged_df)"
   ]
  },
  {
   "cell_type": "markdown",
   "metadata": {},
   "source": [
    "72. Write a Python program that creates a pandas DataFrame representing sales data with columns Product, Region, and Sales. Create a pivot table that shows the total sales for each product by region and print the pivot table."
   ]
  },
  {
   "cell_type": "code",
   "execution_count": null,
   "metadata": {},
   "outputs": [],
   "source": [
    "import pandas as pd\n",
    "\n",
    "# Create a sample DataFrame\n",
    "data = {\n",
    "    'Product': ['Product A', 'Product B', 'Product C', 'Product A', 'Product B'],\n",
    "    'Region': ['North', 'South', 'East', 'West', 'North'],\n",
    "    'Sales': [100, 50, 200, 150, 300]\n",
    "}\n",
    "\n",
    "df = pd.DataFrame(data)\n",
    "\n",
    "# Create a pivot table to show total sales by product and region\n",
    "pivot_table = df.pivot_table(index='Product', columns='Region', values='Sales', aggfunc='sum')\n",
    "\n",
    "print(pivot_table)"
   ]
  },
  {
   "cell_type": "markdown",
   "metadata": {},
   "source": [
    "73. Create a simple Django project with a single app called blog. The app should have a model Post with fields title and content. Create and run the necessary migrations, then use Django's admin interface to add a new post."
   ]
  },
  {
   "cell_type": "code",
   "execution_count": null,
   "metadata": {},
   "outputs": [],
   "source": [
    "django-admin startproject blog_project\n",
    "python manage.py startapp blog\n",
    "python manage.py startapp blog\n",
    "INSTALLED_APPS = [\n",
    "    # ... other apps ...\n",
    "    'blog',\n",
    "]\n",
    "from django.db import models\n",
    "\n",
    "class Post(models.Model):\n",
    "    title = models.CharField(max_length=200)\n",
    "    content = models.TextField()\n",
    "\n",
    "    def __str__(self):\n",
    "        return self.title\n",
    "    python manage.py makemigrations blog\n",
    "    python manage.py migrate\n",
    "    python manage.py createsuperuser\n",
    "    python manage.py runserver\n",
    "\n",
    "\n",
    "\n",
    "    "
   ]
  },
  {
   "cell_type": "markdown",
   "metadata": {},
   "source": [
    "74. Write a Python function called merge_sort that implements the merge sort algorithm to sort a list of numbers in ascending order. Use this function to sort the list [12, 11, 13, 5, 6, 7] and print the sorted list."
   ]
  },
  {
   "cell_type": "code",
   "execution_count": null,
   "metadata": {},
   "outputs": [],
   "source": [
    "def merge_sort(arr):\n",
    "  \"\"\"Sorts a list of numbers using the merge sort algorithm.\n",
    "\n",
    "  Args:\n",
    "    arr: The list of numbers to be sorted.\n",
    "\n",
    "  Returns:\n",
    "    The sorted list of numbers.\n",
    "  \"\"\"\n",
    "\n",
    "  if len(arr) <= 1:\n",
    "    return arr\n",
    "\n",
    "  mid = len(arr) // 2\n",
    "  left_half = arr[:mid]\n",
    "  right_half = arr[mid:]\n",
    "\n",
    "  left_half = merge_sort(left_half)\n",
    "  right_half = merge_sort(right_half)\n",
    "\n",
    "  return merge(left_half, right_half)\n",
    "\n",
    "def merge(left, right):\n",
    "  \"\"\"Merges two sorted lists into a single sorted list.\n",
    "\n",
    "  Args:\n",
    "    left: The left sorted list.\n",
    "    right: The right sorted list.\n",
    "\n",
    "  Returns:\n",
    "    The merged sorted list.\n",
    "  \"\"\"\n",
    "\n",
    "  result = []\n",
    "  i = j = 0\n",
    "\n",
    "  while i < len(left) and j < len(right):\n",
    "    if left[i] <= right[j]:\n",
    "      result.append(left[i])\n",
    "      i += 1\n",
    "    else:\n",
    "      result.append(right[j])\n",
    "      j += 1\n",
    "\n",
    "  result += left[i:]\n",
    "  result += right[j:]\n",
    "\n",
    "  return result\n",
    "\n",
    "# Example usage:\n",
    "numbers = [12, 11, 13, 5, 6, 7]\n",
    "sorted_numbers = merge_sort(numbers)\n",
    "print(sorted_numbers)"
   ]
  },
  {
   "cell_type": "markdown",
   "metadata": {},
   "source": [
    "75. Write a Python script that uses SQLAlchemy to connect to a SQLite database. Create a table called users with columns id, name, and email. Insert a few records, then query the table to retrieve and print the records."
   ]
  },
  {
   "cell_type": "code",
   "execution_count": null,
   "metadata": {},
   "outputs": [],
   "source": [
    "from sqlalchemy import create_engine, Column, Integer, String, Table, MetaData\n",
    "from sqlalchemy.orm import sessionmaker\n",
    "\n",
    "# Create a database engine\n",
    "engine = create_engine('sqlite:///users.db')\n",
    "\n",
    "# Create a metadata object\n",
    "metadata = MetaData()\n",
    "\n",
    "# Define the `users` table\n",
    "users = Table(\n",
    "    'users', metadata,\n",
    "    Column('id', Integer, primary_key=True),\n",
    "    Column('name', String),\n",
    "    Column('email', String)\n",
    ")\n",
    "\n",
    "# Create the table\n",
    "metadata.create_all(engine)\n",
    "\n",
    "# Create a session object to interact with the database\n",
    "Session = sessionmaker(bind=engine)\n",
    "session = Session()\n",
    "\n",
    "# Insert some records\n",
    "user1 = {'name': 'Alice', 'email': 'alice@example.com'}\n",
    "user2 = {'name': 'Bob', 'email': 'bob@example.com'}\n",
    "user3 = {'name': 'Charlie', 'email': 'charlie@example.com'}\n",
    "\n",
    "session.add(users(**user1))\n",
    "session.add(users(**user2))\n",
    "session.add(users(**user3))\n",
    "\n",
    "session.commit()\n",
    "\n",
    "# Query the table to retrieve all records\n",
    "results = session.query(users).all()\n",
    "\n",
    "# Print the results\n",
    "for user in results:\n",
    "    print(f\"ID: {user.id}, Name: {user.name}, Email: {user.email}\")"
   ]
  },
  {
   "cell_type": "markdown",
   "metadata": {},
   "source": [
    "76. Write a Python class called CustomError that inherits from Exception and takes an error message as an argument. Raise this custom exception in a function called check_positive if the input is not a positive number."
   ]
  },
  {
   "cell_type": "code",
   "execution_count": null,
   "metadata": {},
   "outputs": [],
   "source": [
    "class CustomError(Exception):\n",
    "  \"\"\"A custom exception class.\"\"\"\n",
    "  def __init__(self, message):\n",
    "    super().__init__(message)\n",
    "\n",
    "def check_positive(number):\n",
    "  \"\"\"Checks if a number is positive and raises a CustomError if not.\n",
    "\n",
    "  Args:\n",
    "    number: The number to check.\n",
    "\n",
    "  Raises:\n",
    "    CustomError: If the number is not positive.\n",
    "  \"\"\"\n",
    "\n",
    "  if number <= 0:\n",
    "    raise CustomError(\"Number must be positive.\")\n",
    "\n",
    "# Example usage:\n",
    "try:\n",
    "  check_positive(5)\n",
    "  print(\"Number is positive.\")\n",
    "except CustomError as e:\n",
    "  print(f\"Error: {e}\")\n",
    "\n",
    "try:\n",
    "  check_positive(-3)\n",
    "except CustomError as e:\n",
    "  print(f\"Error: {e}\")"
   ]
  },
  {
   "cell_type": "markdown",
   "metadata": {},
   "source": [
    "77. Write a Python class called MaxHeap that implements a max heap data structure. Include methods to insert a new element, delete the maximum element, and print the heap."
   ]
  },
  {
   "cell_type": "code",
   "execution_count": null,
   "metadata": {},
   "outputs": [],
   "source": [
    "class MaxHeap:\n",
    "  def __init__(self):\n",
    "    self.heap = []\n",
    "\n",
    "  def parent(self, i):\n",
    "    return (i - 1) // 2\n",
    "\n",
    "  def left_child(self, i):\n",
    "    return 2 * i + 1\n",
    "\n",
    "  def right_child(self, i):\n",
    "    return 2 * i + 2\n",
    "\n",
    "  def swap(self, i, j):\n",
    "    self.heap[i], self.heap[j] = self.heap[j], self.heap[i]\n",
    "\n",
    "  def heapify_up(self, i):\n",
    "    while i > 0 and self.heap[self.parent(i)] < self.heap[i]:\n",
    "      self.swap(i, self.parent(i))\n",
    "      i = self.parent(i)\n",
    "\n",
    "  def heapify_down(self, i):\n",
    "    largest = i\n",
    "    left = self.left_child(i)\n",
    "    right = self.right_child(i)\n",
    "\n",
    "    if left < len(self.heap) and self.heap[left] > self.heap[largest]:\n",
    "      largest = left\n",
    "\n",
    "    if right < len(self.heap) and self.heap[right] > self.heap[largest]:\n",
    "      largest = right\n",
    "\n",
    "    if largest != i:\n",
    "      self.swap(i, largest)\n",
    "      self.heapify_down(largest)\n",
    "\n",
    "  def insert(self, item):\n",
    "    self.heap.append(item)\n",
    "    self.heapify_up(len(self.heap) - 1)\n",
    "\n",
    "  def delete_max(self):\n",
    "    if len(self.heap) == 0:\n",
    "      return None\n",
    "\n",
    "    max_item = self.heap[0]\n",
    "    self.heap[0] = self.heap[-1]\n",
    "    self.heap.pop()\n",
    "    self.heapify_down(0)\n",
    "    return max_item\n",
    "\n",
    "  def print_heap(self):\n",
    "    print(self.heap)\n",
    "\n",
    "# Example usage:\n",
    "heap = MaxHeap()\n",
    "heap.insert(10)\n",
    "heap.insert(20)\n",
    "heap.insert(30)\n",
    "heap.insert(40)\n",
    "heap.insert(50)\n",
    "heap.print_heap()  # Output: [50, 30, 40, 10, 20]\n",
    "print(heap.delete_max())  # Output: 50\n",
    "heap.print_heap()  # Output: [40, 30, 20, 10]"
   ]
  },
  {
   "cell_type": "markdown",
   "metadata": {},
   "source": [
    "78.  Write a Python program that uses the threading module to run two functions concurrently. One function should print numbers from 1 to 5 with a delay of 1 second, and the other should print letters from A to E with a delay of 1.5 seconds."
   ]
  },
  {
   "cell_type": "code",
   "execution_count": null,
   "metadata": {},
   "outputs": [],
   "source": [
    "import threading\n",
    "import time\n",
    "\n",
    "def print_numbers():\n",
    "  for i in range(1, 6):\n",
    "    print(i)\n",
    "    time.sleep(1)\n",
    "\n",
    "def print_letters():\n",
    "  for letter in \"ABCDE\":\n",
    "    print(letter)\n",
    "    time.sleep(1.5)\n",
    "\n",
    "if __name__ == \"__main__\":\n",
    "  thread1 = threading.Thread(target=print_numbers)\n",
    "  thread2 = threading.Thread(target=print_letters)\n",
    "\n",
    "  thread1.start()\n",
    "  thread2.start()\n",
    "\n",
    "  thread1.join()\n",
    "  thread2.join()"
   ]
  },
  {
   "cell_type": "markdown",
   "metadata": {},
   "source": [
    "79. Write a Python class called LRUCache that implements a least recently used (LRU) cache. The cache should have a maximum capacity, and when the capacity is reached, the least recently used item should be removed. Include methods to get and put items in the cache."
   ]
  },
  {
   "cell_type": "code",
   "execution_count": null,
   "metadata": {},
   "outputs": [],
   "source": [
    "from collections import OrderedDict\n",
    "\n",
    "class LRUCache:\n",
    "  def __init__(self, capacity):\n",
    "    self.capacity = capacity\n",
    "    self.cache = OrderedDict()\n",
    "\n",
    "  def get(self, key):\n",
    "    if key not in self.cache:\n",
    "      return -1\n",
    "\n",
    "    value = self.cache.pop(key)\n",
    "    self.cache[key] = value\n",
    "    return value\n",
    "\n",
    "  def put(self, key, value):\n",
    "    if key in self.cache:\n",
    "      self.cache.pop(key)\n",
    "\n",
    "    self.cache[key] = value\n",
    "    if len(self.cache) > self.capacity:\n",
    "      self.cache.popitem(last=False)\n",
    "\n",
    "# Example usage:\n",
    "cache = LRUCache(2)\n",
    "cache.put(1, 1)\n",
    "cache.put(2, 2)\n",
    "print(cache.get(1))  # Output: 1\n",
    "cache.put(3, 3)\n",
    "print(cache.get(2))  # Output: -1"
   ]
  },
  {
   "cell_type": "markdown",
   "metadata": {},
   "source": [
    "80. Write a Python class called MetaSingleton using a metaclass that ensures any class inheriting from it will be a singleton (i.e., only one instance of the class can exist). Demonstrate by creating two instances and showing they are the same."
   ]
  },
  {
   "cell_type": "code",
   "execution_count": null,
   "metadata": {},
   "outputs": [],
   "source": [
    "class MetaSingleton(type):\n",
    "  _instances = {}\n",
    "\n",
    "  def __call__(cls, *args, **kwargs):\n",
    "    if cls not in cls._instances:\n",
    "      cls._instances[cls] = super().__call__(*args, **kwargs)\n",
    "    return cls._instances[cls]\n",
    "\n",
    "class Singleton(metaclass=MetaSingleton):\n",
    "  pass\n",
    "\n",
    "# Example usage:\n",
    "instance1 = Singleton()\n",
    "instance2 = Singleton()\n",
    "\n",
    "print(instance1 is instance2)  # Output: True"
   ]
  },
  {
   "cell_type": "markdown",
   "metadata": {},
   "source": [
    "81. Write a Python generator function called prime_generator that yields an infinite sequence of prime numbers. Use the generator to print the first 10 prime numbers."
   ]
  },
  {
   "cell_type": "code",
   "execution_count": null,
   "metadata": {},
   "outputs": [],
   "source": [
    "def prime_generator():\n",
    "  \"\"\"Generates an infinite sequence of prime numbers.\n",
    "\n",
    "  Yields:\n",
    "    The next prime number in the sequence.\n",
    "  \"\"\"\n",
    "\n",
    "  primes = [2]\n",
    "  num = 3\n",
    "\n",
    "  while True:\n",
    "    is_prime = True\n",
    "    for prime in primes:\n",
    "      if num % prime == 0:\n",
    "        is_prime = False\n",
    "        break\n",
    "    if is_prime:\n",
    "      primes.append(num)\n",
    "      yield num\n",
    "    num += 2\n",
    "\n",
    "# Example usage:\n",
    "prime_gen = prime_generator()\n",
    "for i in range(10):\n",
    "  print(next(prime_gen))"
   ]
  },
  {
   "cell_type": "markdown",
   "metadata": {},
   "source": [
    "82. Write a Python decorator called memoize that caches the results of a function so that it doesn't have to recompute the results for the same inputs. Apply this decorator to a recursive function that calculates Fibonacci numbers."
   ]
  },
  {
   "cell_type": "code",
   "execution_count": null,
   "metadata": {},
   "outputs": [],
   "source": [
    "from functools import lru_cache\n",
    "\n",
    "def memoize(func):\n",
    "  \"\"\"Memoizes a function to cache its results.\n",
    "\n",
    "  Args:\n",
    "    func: The function to be memoized.\n",
    "\n",
    "  Returns:\n",
    "    The memoized function.\n",
    "  \"\"\"\n",
    "\n",
    "  @lru_cache(maxsize=None)\n",
    "  def wrapper(*args, **kwargs):\n",
    "    return func(*args, **kwargs)\n",
    "\n",
    "  return wrapper\n",
    "\n",
    "@memoize\n",
    "def fibonacci(n):\n",
    "  \"\"\"Calculates the nth Fibonacci number recursively.\n",
    "\n",
    "  Args:\n",
    "    n: The index of the Fibonacci number to calculate.\n",
    "\n",
    "  Returns:\n",
    "    The nth Fibonacci number.\n",
    "  \"\"\"\n",
    "\n",
    "  if n <= 1:\n",
    "    return n\n",
    "  else:\n",
    "    return fibonacci(n-1) + fibonacci(n-2)\n",
    "\n",
    "# Example usage:\n",
    "result = fibonacci(100)\n",
    "print(result)"
   ]
  },
  {
   "cell_type": "markdown",
   "metadata": {},
   "source": [
    "83. Write a Python program that uses the asyncio module to fetch the contents of three different URLs concurrently. Print the length of the content fetched from each URL."
   ]
  },
  {
   "cell_type": "code",
   "execution_count": null,
   "metadata": {},
   "outputs": [],
   "source": [
    "import asyncio\n",
    "import aiohttp\n",
    "\n",
    "async def fetch_url(session, url):\n",
    "  async with session.get(url) as response:\n",
    "    content = await response.text()\n",
    "    print(f\"URL: {url}, Length: {len(content)}\")\n",
    "\n",
    "async def main():\n",
    "  urls = [\"https://www.example.com\", \"https://www.google.com\", \"https://www.python.org\"]\n",
    "\n",
    "  async with aiohttp.ClientSession() as session:\n",
    "    tasks = [fetch_url(session, url) for url in urls]\n",
    "    await asyncio.gather(*tasks)\n",
    "\n",
    "if __name__ == \"__main__\":\n",
    "  asyncio.run(main())"
   ]
  },
  {
   "cell_type": "markdown",
   "metadata": {},
   "source": [
    "84. Write a Python function called a_star that implements the A* search algorithm to find the shortest path in a grid. Use the function to find the shortest path from the top-left corner to the bottom-right corner of a 5x5 grid with some obstacles."
   ]
  },
  {
   "cell_type": "code",
   "execution_count": null,
   "metadata": {},
   "outputs": [],
   "source": [
    "import heapq\n",
    "\n",
    "def heuristic(node, goal):\n",
    "  \"\"\"Calculates the heuristic cost (Manhattan distance) between two nodes.\n",
    "\n",
    "  Args:\n",
    "    node: The current node.\n",
    "    goal: The goal node.\n",
    "\n",
    "  Returns:\n",
    "    The heuristic cost.\n",
    "  \"\"\"\n",
    "\n",
    "  x1, y1 = node\n",
    "  x2, y2 = goal\n",
    "  return abs(x1 - x2) + abs(y1 - y2)\n",
    "\n",
    "def a_star(grid, start, goal):\n",
    "  \"\"\"Finds the shortest path in a grid using the A* algorithm.\n",
    "\n",
    "  Args:\n",
    "    grid: A 2D list representing the grid.\n",
    "    start: The starting node.\n",
    "    goal: The goal node.\n",
    "\n",
    "  Returns:\n",
    "    A list of nodes representing the shortest path, or None if no path exists.\n",
    "  \"\"\"\n",
    "\n",
    "  open_set = [(0, start)]\n",
    "  closed_set = set()\n",
    "  came_from = {}\n",
    "  g_score = {start: 0}\n",
    "\n",
    "  while open_set:\n",
    "    _, current = heapq.heappop(open_set)\n",
    "\n",
    "    if current == goal:\n",
    "      return reconstruct_path(came_from, start, goal)\n",
    "\n",
    "    closed_set.add(current)\n",
    "\n",
    "    for neighbor in get_neighbors(grid, current):\n",
    "      if neighbor in closed_set:\n",
    "        continue\n",
    "\n",
    "      tentative_g_score = g_score[current] + 1\n",
    "      if neighbor not in g_score or tentative_g_score < g_score[neighbor]:\n",
    "        came_from[neighbor] = current\n",
    "        g_score[neighbor] = tentative_g_score\n",
    "        f_score = g_score[neighbor] + heuristic(neighbor, goal)\n",
    "        heapq.heappush(open_set, (f_score, neighbor))\n",
    "\n",
    "  return None\n",
    "\n",
    "def reconstruct_path(came_from, start, goal):\n",
    "  \"\"\"Reconstructs the path from the start node to the goal node.\n",
    "\n",
    "  Args:\n",
    "    came_from: A dictionary mapping nodes to their parent nodes.\n",
    "    start: The starting node.\n",
    "    goal: The goal node.\n",
    "\n",
    "  Returns:\n",
    "    A list of nodes representing the path.\n",
    "  \"\"\"\n",
    "\n",
    "  current = goal\n",
    "  path = [current]\n",
    "  while current != start:\n",
    "    current = came_from[current]\n",
    "    path.append(current)\n",
    "  path.reverse()\n",
    "  return path\n",
    "\n",
    "def get_neighbors(grid, node):\n",
    "  \"\"\"Gets the neighbors of a node in the grid.\n",
    "\n",
    "  Args:\n",
    "    grid: A 2D list representing the grid.\n",
    "    node: The node to get the neighbors of.\n",
    "\n",
    "  Returns:\n",
    "    A list of neighboring nodes.\n",
    "  \"\"\"\n",
    "\n",
    "  neighbors = []\n",
    "  x, y = node\n",
    "  directions = [(1, 0), (-1, 0), (0, 1), (0, -1)]\n",
    "\n",
    "  for dx, dy in directions:\n",
    "    nx, ny = x + dx, y + dy\n",
    "    if 0 <= nx < len(grid) and 0 <= ny < len(grid[0]) and grid[nx][ny] != 1:\n",
    "      neighbors.append((nx, ny))\n",
    "\n",
    "  return neighbors\n",
    "\n",
    "# Example usage:\n",
    "grid = [\n",
    "    [0, 0, 0, 0, 0],\n",
    "    [0, 1, 0, 1, 0],\n",
    "    [0, 0, 0, 0, 0],\n",
    "    [0, 1, 0, 1, 0],\n",
    "    [0, 0, 0, 0, 0]\n",
    "]\n",
    "\n",
    "start = (0, 0)\n",
    "goal = (4, 4)\n",
    "\n",
    "path = a_star(grid, start, goal)\n",
    "\n",
    "if path:\n",
    "  print(\"Shortest path:\", path)\n",
    "else:\n",
    "  print(\"No path found.\")"
   ]
  },
  {
   "cell_type": "markdown",
   "metadata": {},
   "source": [
    "85. Write a Python class called Timer that implements a context manager to measure the time taken by a block of code. Use this context manager to time a loop that sums numbers from 1 to 1 million."
   ]
  },
  {
   "cell_type": "code",
   "execution_count": null,
   "metadata": {},
   "outputs": [],
   "source": [
    "import time\n",
    "import contextlib\n",
    "\n",
    "class Timer:\n",
    "  def __enter__(self):\n",
    "    self.start_time = time.time()\n",
    "    return self\n",
    "\n",
    "  def __exit__(self, exc_type, exc_val, exc_tb):\n",
    "    elapsed_time = time.time() - self.start_time\n",
    "    print(f\"Elapsed time: {elapsed_time:.2f} seconds\")\n",
    "\n",
    "with Timer():\n",
    "  total = 0\n",
    "  for i in range(1, 1000001):\n",
    "    total += i\n",
    "  print(\"Total:\", total)"
   ]
  },
  {
   "cell_type": "markdown",
   "metadata": {},
   "source": [
    "86. Write a Python class called Graph that implements an undirected graph using an adjacency list. Include a method to perform depth-first search (DFS) starting from a given node. Demonstrate by creating a graph and performing DFS."
   ]
  },
  {
   "cell_type": "code",
   "execution_count": null,
   "metadata": {},
   "outputs": [],
   "source": [
    "class Graph:\n",
    "  def __init__(self):\n",
    "    self.graph = {}\n",
    "\n",
    "  def add_edge(self, u, v):\n",
    "    if u not in self.graph:\n",
    "      self.graph[u] = []\n",
    "    self.graph[u].append(v)\n",
    "    if v not in self.graph:\n",
    "      self.graph[v] = []\n",
    "    self.graph[v].append(u)\n",
    "\n",
    "  def dfs_util(self, v, visited):\n",
    "    visited[v] = True\n",
    "    print(v, end=\" \")\n",
    "\n",
    "    for i in self.graph[v]:\n",
    "      if not visited[i]:\n",
    "        self.dfs_util(i, visited)\n",
    "\n",
    "  def dfs(self, v):\n",
    "    visited = {i: False for i in self.graph}\n",
    "    self.dfs_util(v, visited)\n",
    "\n",
    "# Example usage:\n",
    "g = Graph()\n",
    "g.add_edge(0, 1)\n",
    "g.add_edge(0, 2)\n",
    "g.add_edge(1, 2)\n",
    "g.add_edge(2, 3)\n",
    "\n",
    "print(\"DFS starting from vertex 0:\")\n",
    "g.dfs(0)"
   ]
  },
  {
   "cell_type": "markdown",
   "metadata": {},
   "source": [
    "87. Write a Python program that uses matplotlib to plot the sine and cosine functions on the same graph. Label the axes and add a legend to distinguish between the two functions."
   ]
  },
  {
   "cell_type": "code",
   "execution_count": null,
   "metadata": {},
   "outputs": [],
   "source": [
    "import matplotlib.pyplot as plt\n",
    "import numpy as np\n",
    "\n",
    "# Generate x values from 0 to 2π\n",
    "x = np.linspace(0, 2 * np.pi, 100)\n",
    "\n",
    "# Calculate sine and cosine values\n",
    "y_sine = np.sin(x)\n",
    "y_cosine = np.cos(x)\n",
    "\n",
    "# Create the plot\n",
    "plt.plot(x, y_sine, label='Sine')\n",
    "plt.plot(x, y_cosine, label='Cosine')\n",
    "\n",
    "# Add labels and a legend\n",
    "plt.xlabel('x')\n",
    "plt.ylabel('y')\n",
    "plt.title('Sine and Cosine Functions')\n",
    "plt.legend()\n",
    "\n",
    "# Show the plot\n",
    "plt.show()"
   ]
  },
  {
   "cell_type": "markdown",
   "metadata": {},
   "source": [
    "88. Write a Python class called PriorityQueue that implements a priority queue using a heap. Include methods to insert an item with a priority and remove the item with the highest priority. Demonstrate by inserting and removing items. "
   ]
  },
  {
   "cell_type": "code",
   "execution_count": null,
   "metadata": {},
   "outputs": [],
   "source": [
    "import heapq\n",
    "\n",
    "class PriorityQueue:\n",
    "  def __init__(self):\n",
    "    self.heap = []\n",
    "\n",
    "  def push(self, item, priority):\n",
    "    heapq.heappush(self.heap, (-priority, item))\n",
    "\n",
    "  def pop(self):\n",
    "    return heapq.heappop(self.heap)[1]\n",
    "\n",
    "# Example usage:\n",
    "pq = PriorityQueue()\n",
    "pq.push(\"task1\", 3)\n",
    "pq.push(\"task2\", 1)\n",
    "pq.push(\"task3\", 5)\n",
    "\n",
    "print(pq.pop())  # Output: task3\n",
    "print(pq.pop())  # Output: task1\n",
    "print(pq.pop())  # Output: task2"
   ]
  },
  {
   "cell_type": "markdown",
   "metadata": {},
   "source": [
    "89. Write a Python program that reads a JSON file containing a list of dictionaries, each representing a product with keys name, price, and quantity. Calculate the total value of the inventory and print it."
   ]
  },
  {
   "cell_type": "code",
   "execution_count": null,
   "metadata": {},
   "outputs": [],
   "source": [
    "import json\n",
    "\n",
    "def calculate_inventory_value(products):\n",
    "  \"\"\"Calculates the total value of a list of products.\n",
    "\n",
    "  Args:\n",
    "    products: A list of dictionaries representing products.\n",
    "\n",
    "  Returns:\n",
    "    The total value of the inventory.\n",
    "  \"\"\"\n",
    "\n",
    "  total_value = 0\n",
    "  for product in products:\n",
    "    total_value += product['price'] * product['quantity']\n",
    "  return total_value\n",
    "\n",
    "# Load the JSON file\n",
    "with open('products.json', 'r') as f:\n",
    "  products = json.load(f)\n",
    "\n",
    "# Calculate the total value of the inventory\n",
    "total_value = calculate_inventory_value(products)\n",
    "\n",
    "print(\"Total inventory value:\", total_value)"
   ]
  },
  {
   "cell_type": "markdown",
   "metadata": {},
   "source": [
    "90. Write a Python program that uses the NLTK library to create a simple rule-based chatbot. The chatbot should respond to greetings and a few predefined questions. Demonstrate a conversation with the chatbot."
   ]
  },
  {
   "cell_type": "code",
   "execution_count": null,
   "metadata": {},
   "outputs": [],
   "source": [
    "import nltk\n",
    "from nltk.chat.util import Chat\n",
    "\n",
    "pairs = [\n",
    "    [\"hello\", [\"Hi there!\", \"How can I help you today?\"]],\n",
    "    [\"how are you\", [\"I'm doing well, thank you!\", \"I'm feeling good, thanks for asking.\"]],\n",
    "    [\"what can you do\", [\"I can answer your questions and provide information.\", \"I can help you with tasks like setting reminders or finding information on the web.\"]],\n",
    "    [\"what is your name\", [\"I don't have a name yet, but you can call me AI Assistant.\"]]\n",
    "]\n",
    "\n",
    "def chat(pairs):\n",
    "  chatbot = Chat(pairs)\n",
    "  print(\"Type 'quit' to exit.\")\n",
    "  while True:\n",
    "    user_input = input(\"> \")\n",
    "    if user_input.lower() == 'quit':\n",
    "      break\n",
    "    response = chatbot.respond(user_input)\n",
    "    print(response)\n",
    "\n",
    "# Download required NLTK data\n",
    "nltk.download('punkt')\n",
    "\n",
    "# Start the chatbot\n",
    "chat(pairs)"
   ]
  },
  {
   "cell_type": "markdown",
   "metadata": {},
   "source": [
    "91. Write a Python program that uses OpenCV to load an image, convert it to grayscale, and apply a Gaussian blur. Save and display the processed image."
   ]
  },
  {
   "cell_type": "code",
   "execution_count": null,
   "metadata": {},
   "outputs": [],
   "source": [
    "import cv2\n",
    "\n",
    "def process_image(image_path):\n",
    "  \"\"\"Loads, processes, and saves an image.\n",
    "\n",
    "  Args:\n",
    "    image_path: The path to the image file.\n",
    "  \"\"\"\n",
    "\n",
    "  # Load the image\n",
    "  img = cv2.imread(image_path)\n",
    "\n",
    "  # Convert to grayscale\n",
    "  gray = cv2.cvtColor(img, cv2.COLOR_BGR2GRAY)\n",
    "\n",
    "  # Apply Gaussian blur\n",
    "  blurred = cv2.GaussianBlur(gray, (5, 5), 0)\n",
    "\n",
    "  # Save the processed image\n",
    "  cv2.imwrite('processed_image.jpg', blurred)\n",
    "\n",
    "  # Display the original and processed images\n",
    "  cv2.imshow('Original', img)\n",
    "  cv2.imshow('Processed', blurred)\n",
    "  cv2.waitKey(0)\n",
    "  cv2.destroyAllWindows()\n",
    "\n",
    "# Replace 'your_image.jpg' with the actual path to your image file\n",
    "image_path = 'your_image.jpg'\n",
    "process_image(image_path)"
   ]
  },
  {
   "cell_type": "markdown",
   "metadata": {},
   "source": [
    "92. Write a Python program that implements a simple neural network from scratch using only NumPy. The network should have one hidden layer and should be trained using the backpropagation algorithm on a small dataset."
   ]
  },
  {
   "cell_type": "code",
   "execution_count": null,
   "metadata": {},
   "outputs": [],
   "source": [
    "import numpy as np\n",
    "\n",
    "def sigmoid(x):\n",
    "  return 1 / (1 + np.exp(-x))\n",
    "\n",
    "def sigmoid_derivative(x):\n",
    "  return sigmoid(x) * (1 - sigmoid(x))\n",
    "\n",
    "def initialize_network(input_size, hidden_size, output_size):\n",
    "  weights = {\n",
    "      'hidden': np.random.randn(input_size, hidden_size),\n",
    "      'output': np.random.randn(hidden_size, output_size)\n",
    "  }\n",
    "  biases = {\n",
    "      'hidden': np.zeros(hidden_size),\n",
    "      'output': np.zeros(output_size)\n",
    "  }\n",
    "  return weights, biases\n",
    "\n",
    "def forward_propagation(inputs, weights, biases):\n",
    "  hidden_layer = sigmoid(np.dot(inputs, weights['hidden']) + biases['hidden'])\n",
    "  output_layer = sigmoid(np.dot(hidden_layer, weights['output']) + biases['output'])\n",
    "  return hidden_layer, output_layer\n",
    "\n",
    "def backward_propagation(inputs, targets, weights, biases, hidden_layer, output_layer, learning_rate):\n",
    "  d_output_layer = (output_layer - targets) * sigmoid_derivative(output_layer)\n",
    "  d_weights_output = np.dot(hidden_layer.T, d_output_layer)\n",
    "  d_biases_output = np.sum(d_output_layer, axis=0)\n",
    "  d_hidden_layer = np.dot(d_output_layer, weights['output'].T) * sigmoid_derivative(hidden_layer)\n",
    "  d_weights_hidden = np.dot(inputs.T, d_hidden_layer)\n",
    "  d_biases_hidden = np.sum(d_hidden_layer, axis=0)\n",
    "\n",
    "  weights['hidden'] -= learning_rate * d_weights_hidden\n",
    "  biases['hidden'] -= learning_rate * d_biases_hidden\n",
    "  weights['output'] -= learning_rate * d_weights_output\n",
    "  biases['output'] -= learning_rate * d_biases_output\n",
    "\n",
    "def train(inputs, targets, hidden_size, learning_rate, epochs):\n",
    "  weights, biases = initialize_network(inputs.shape[1], hidden_size, targets.shape[1])\n",
    "  for epoch in range(epochs):\n",
    "    for i in range(len(inputs)):\n",
    "      hidden_layer, output_layer = forward_propagation(inputs[i], weights, biases)\n",
    "      backward_propagation(inputs[i], targets[i], weights, biases, hidden_layer, output_layer, learning_rate)\n",
    "  return weights, biases\n",
    "\n",
    "# Example usage:\n",
    "inputs = np.array([[0, 0], [0, 1], [1, 0], [1, 1]])\n",
    "targets = np.array([[0], [1], [1], [0]])\n",
    "hidden_size = 4\n",
    "learning_rate = 0.1\n",
    "epochs = 10000\n",
    "\n",
    "weights, biases = train(inputs, targets, hidden_size, learning_rate, epochs)\n",
    "\n",
    "# Test the trained network\n",
    "new_input = np.array([0, 1])\n",
    "hidden_layer, output_layer = forward_propagation(new_input, weights, biases)\n",
    "print(output_layer)"
   ]
  },
  {
   "cell_type": "markdown",
   "metadata": {},
   "source": [
    "93. Write a Flask application that connects to a SQLite database to store and retrieve user information. Implement routes to add a new user, retrieve all users, and delete a user by ID."
   ]
  },
  {
   "cell_type": "code",
   "execution_count": null,
   "metadata": {},
   "outputs": [],
   "source": [
    "import sqlite3\n",
    "from flask import Flask, jsonify, request\n",
    "\n",
    "app = Flask(__name__)\n",
    "\n",
    "def get_db_connection():\n",
    "    conn = sqlite3.connect('users.db')\n",
    "    conn.row_factory = sqlite3.Row\n",
    "    return conn\n",
    "\n",
    "@app.route('/users', methods=['GET'])\n",
    "def get_users():\n",
    "    conn = get_db_connection()\n",
    "    cur = conn.cursor()\n",
    "    cur.execute('SELECT id, name, email FROM users')\n",
    "    rows = cur.fetchall()\n",
    "    conn.close()\n",
    "    return jsonify(rows)\n",
    "\n",
    "@app.route('/users', methods=['POST'])\n",
    "def add_user():\n",
    "    name = request.json['name']\n",
    "    email = request.json['email']\n",
    "\n",
    "    conn = get_db_connection()\n",
    "    cur = conn.cursor()\n",
    "    cur.execute('INSERT INTO users (name, email) VALUES (?, ?)', (name, email))\n",
    "    conn.commit()\n",
    "    conn.close()\n",
    "\n",
    "    return jsonify({'message': 'User added successfully'})\n",
    "\n",
    "@app.route('/users/<int:user_id>', methods=['DELETE'])\n",
    "def delete_user(user_id):\n",
    "    conn = get_db_connection()\n",
    "    cur = conn.cursor()\n",
    "    cur.execute('DELETE FROM users WHERE id = ?', (user_id,))\n",
    "    conn.commit()\n",
    "    conn.close()\n",
    "\n",
    "    return jsonify({'message': 'User deleted successfully'})\n",
    "\n",
    "if __name__ == '__main__':\n",
    "    app.run(debug=True)"
   ]
  },
  {
   "cell_type": "markdown",
   "metadata": {},
   "source": [
    "94. Write a Python program that uses Selenium to automate the process of logging into a website and navigating to a specific page. Provide instructions for testing the automation."
   ]
  },
  {
   "cell_type": "code",
   "execution_count": null,
   "metadata": {},
   "outputs": [],
   "source": [
    "from selenium import webdriver\n",
    "from selenium.webdriver.common.by import By\n",
    "\n",
    "def login_and_navigate(url, username, password, target_page):\n",
    "  \"\"\"Logs into a website and navigates to a specific page.\n",
    "\n",
    "  Args:\n",
    "    url: The URL of the website.\n",
    "    username: The username for login.\n",
    "    password: The password for login.\n",
    "    target_page: The URL of the target page.\n",
    "  \"\"\"\n",
    "\n",
    "  # Replace 'chromedriver' with the path to your webdriver\n",
    "  driver = webdriver.Chrome()\n",
    "\n",
    "  try:\n",
    "    driver.get(url)\n",
    "\n",
    "    # Find the username and password fields and enter the credentials\n",
    "    username_field = driver.find_element(By.ID, 'username')  # Replace with the actual ID\n",
    "    username_field.send_keys(username)\n",
    "    password_field = driver.find_element(By.ID, 'password')  # Replace with the actual ID\n",
    "    password_field.send_keys(password)\n",
    "\n",
    "    # Find and click the login button\n",
    "    login_button = driver.find_element(By.ID, 'login_button')  # Replace with the actual ID\n",
    "    login_button.click()\n",
    "\n",
    "    # Navigate to the target page\n",
    "    driver.get(target_page)\n",
    "\n",
    "    print(\"Successfully logged in and navigated to the target page.\")\n",
    "  finally:\n",
    "    driver.quit()\n",
    "\n",
    "# Replace with your actual values\n",
    "url = \"https://www.example.com/login\"\n",
    "username = \"your_username\"\n",
    "password = \"your_password\"\n",
    "target_page = \"https://www.example.com/target_page\"\n",
    "\n",
    "login_and_navigate(url, username, password, target_page)"
   ]
  },
  {
   "cell_type": "markdown",
   "metadata": {},
   "source": [
    "95. Write a Python program that uses Scikit-learn to build a logistic regression model to classify a dataset. Train the model on the Iris dataset, evaluate its accuracy, and print the results."
   ]
  },
  {
   "cell_type": "code",
   "execution_count": null,
   "metadata": {},
   "outputs": [],
   "source": [
    "from sklearn.datasets import load_iris\n",
    "from sklearn.model_selection import train_test_split\n",
    "from sklearn.linear_model import LogisticRegression\n",
    "from sklearn.metrics import accuracy_score\n",
    "\n",
    "# Load the Iris dataset\n",
    "iris = load_iris()\n",
    "\n",
    "# Split the dataset into training and testing sets\n",
    "X_train, X_test, y_train, y_test = train_test_split(iris.data, iris.target, test_size=0.2, random_state=42)\n",
    "\n",
    "# Create a logistic regression model\n",
    "model = LogisticRegression()\n",
    "\n",
    "# Train the model\n",
    "model.fit(X_train, y_train)\n",
    "\n",
    "# Make predictions on the test set\n",
    "y_pred = model.predict(X_test)\n",
    "\n",
    "# Evaluate the model's accuracy\n",
    "accuracy = accuracy_score(y_test, y_pred)\n",
    "print(\"Accuracy:\", accuracy)"
   ]
  },
  {
   "cell_type": "markdown",
   "metadata": {},
   "source": [
    "96. Write a Python function called knapsack that solves the 0/1 knapsack problem using dynamic programming. Given a list of items with weights and values, and a maximum weight capacity, find the maximum value that can be obtained."
   ]
  },
  {
   "cell_type": "code",
   "execution_count": null,
   "metadata": {},
   "outputs": [],
   "source": [
    "def knapsack(items, capacity):\n",
    "  \"\"\"Solves the 0/1 knapsack problem using dynamic programming.\n",
    "\n",
    "  Args:\n",
    "    items: A list of tuples (weight, value) representing the items.\n",
    "    capacity: The maximum weight capacity of the knapsack.\n",
    "\n",
    "  Returns:\n",
    "    The maximum value that can be obtained.\n",
    "  \"\"\"\n",
    "\n",
    "  n = len(items)\n",
    "  dp = [[0 for j in range(capacity + 1)] for i in range(n + 1)]\n",
    "\n",
    "  for i in range(1, n + 1):\n",
    "    for j in range(capacity + 1):\n",
    "      if items[i - 1][0] <= j:\n",
    "        dp[i][j] = max(dp[i - 1][j], dp[i - 1][j - items[i - 1][0]] + items[i - 1][1])\n",
    "      else:\n",
    "        dp[i][j] = dp[i - 1][j]\n",
    "\n",
    "  return dp[n][capacity]\n",
    "\n",
    "# Example usage:\n",
    "items = [(1, 1), (2, 3), (3, 4)]\n",
    "capacity = 5\n",
    "max_value = knapsack(items, capacity)\n",
    "print(\"Maximum value:\", max_value)"
   ]
  },
  {
   "cell_type": "markdown",
   "metadata": {},
   "source": [
    "97. Write a Python program using the Scrapy framework to scrape product information (name, price, availability) from an e-commerce website and store the results in a CSV file."
   ]
  },
  {
   "cell_type": "code",
   "execution_count": null,
   "metadata": {},
   "outputs": [],
   "source": [
    "import scrapy\n",
    "\n",
    "class ProductSpider(scrapy.Spider):\n",
    "    name = 'product_spider'\n",
    "    allowed_domains = ['example.com']  # Replace with the actual domain\n",
    "    start_urls = ['https://www.example.com/products']  # Replace with the product listing URL\n",
    "\n",
    "    def parse(self, response):\n",
    "        products = response.xpath('//div[@class=\"product-item\"]')  # Adjust XPath selector as needed\n",
    "        for product in products:\n",
    "            name = product.xpath('.//h2/text()').get()\n",
    "            price = product.xpath('.//span[@class=\"price\"]/text()').get()\n",
    "            availability = product.xpath('.//span[@class=\"availability\"]/text()').get()\n",
    "\n",
    "            yield {\n",
    "                'name': name,\n",
    "                'price': price,\n",
    "                'availability': availability\n",
    "            }"
   ]
  },
  {
   "cell_type": "markdown",
   "metadata": {},
   "source": [
    "98. Write a Python program that uses TensorFlow to implement a simple convolutional neural network (CNN) for image classification. Train the network on the CIFAR-10 dataset and evaluate its performance."
   ]
  },
  {
   "cell_type": "code",
   "execution_count": null,
   "metadata": {},
   "outputs": [],
   "source": [
    "import tensorflow as tf\n",
    "from tensorflow.keras.datasets import cifar10\n",
    "from tensorflow.keras.models import Sequential\n",
    "from tensorflow.keras.layers import Conv2D, MaxPooling2D, Flatten, Dense\n",
    "from tensorflow.keras.utils import to_categorical\n",
    "\n",
    "# Load the CIFAR-10 dataset\n",
    "(x_train, y_train), (x_test, y_test) = cifar10.load_data()\n",
    "\n",
    "# Normalize the image data\n",
    "x_train = x_train.astype('float32') / 255\n",
    "x_test = x_test.astype('float32') / 255\n",
    "\n",
    "# Convert class labels to one-hot encoding\n",
    "y_train = to_categorical(y_train, 10)\n",
    "y_test = to_categorical(y_test, 10)\n",
    "\n",
    "# Create the CNN model\n",
    "model = Sequential([\n",
    "  Conv2D(32, (3, 3), activation='relu', input_shape=(32, 32, 3)),\n",
    "  MaxPooling2D((2, 2)),\n",
    "  Conv2D(64, (3, 3), activation='relu'),\n",
    "  MaxPooling2D((2, 2)),\n",
    "  Flatten(),\n",
    "  Dense(128, activation='relu'),\n",
    "  Dense(10, activation='softmax')\n",
    "])\n",
    "\n",
    "# Compile the model\n",
    "model.compile(optimizer='adam', loss='categorical_crossentropy', metrics=['accuracy'])\n",
    "\n",
    "# Train the model\n",
    "model.fit(x_train, y_train, epochs=10, batch_size=32, validation_data=(x_test, y_test))\n",
    "\n",
    "# Evaluate the model\n",
    "loss, accuracy = model.evaluate(x_test, y_test)\n",
    "print('Test accuracy:', accuracy)"
   ]
  },
  {
   "cell_type": "markdown",
   "metadata": {},
   "source": [
    "99. Write a Python program that uses PyTorch to implement a simple recurrent neural network (RNN) for text classification. Train the network on a small text dataset and print the accuracy."
   ]
  },
  {
   "cell_type": "code",
   "execution_count": null,
   "metadata": {},
   "outputs": [],
   "source": [
    "import torch\n",
    "import torch.nn as nn\n",
    "import torch.optim as optim\n",
    "from torchtext.datasets import IMDB\n",
    "from torchtext.vocab import build_vocab\n",
    "from torchtext.data import Field, BucketIterator\n",
    "\n",
    "# Define the text field and label field\n",
    "TEXT = Field(sequential=True, tokenize='spacy')\n",
    "LABEL = Field(sequential=False, use_vocab=False)\n",
    "\n",
    "# Load the IMDB dataset\n",
    "train_data, test_data = IMDB.splits(TEXT, LABEL)\n",
    "\n",
    "# Build vocabularies\n",
    "TEXT.build_vocab(train_data, max_size=10000)\n",
    "LABEL.build_vocab(train_data)\n",
    "\n",
    "# Create iterators\n",
    "train_iterator, test_iterator = BucketIterator.splits(\n",
    "    (train_data, test_data), batch_size=32, sort_key=lambda x: len(x.text), device=torch.device('cuda' if torch.cuda.is_available() else 'cpu'))\n",
    "\n",
    "# Define the RNN model\n",
    "class RNN(nn.Module):\n",
    "    def __init__(self, vocab_size, embedding_dim, hidden_dim, output_dim):\n",
    "        super().__init__()\n",
    "        self.embedding = nn.Embedding(vocab_size, embedding_dim)\n",
    "        self.rnn = nn.RNN(embedding_dim, hidden_dim)\n",
    "        self.fc = nn.Linear(hidden_dim, output_dim)\n",
    "\n",
    "    def forward(self, x):\n",
    "        x = self.embedding(x)\n",
    "        x, _ = self.rnn(x)\n",
    "        x = x[:, -1, :]  # Take the last hidden state\n",
    "        x = self.fc(x)\n",
    "        return x\n",
    "\n",
    "# Create an instance of the RNN model\n",
    "vocab_size = len(TEXT.vocab)\n",
    "embedding_dim = 100\n",
    "hidden_dim = 256\n",
    "output_dim = 1  # Binary classification\n",
    "\n",
    "model = RNN(vocab_size, embedding_dim, hidden_dim, output_dim)\n",
    "\n",
    "# Define loss function, optimizer, and training loop\n",
    "criterion = nn.BCEWithLogitsLoss()\n",
    "optimizer = optim.Adam(model.parameters())\n",
    "\n",
    "for epoch in range(10):\n",
    "    for batch in train_iterator:\n",
    "        text = batch.text\n",
    "        labels = batch.label\n",
    "        \n",
    "        # Convert labels to PyTorch tensors\n",
    "        labels = labels.float().to(device)\n",
    "\n",
    "        # Forward pass\n",
    "        outputs = model(text)\n",
    "\n",
    "        # Calculate loss\n",
    "        loss = criterion(outputs, labels)\n",
    "\n",
    "        # Backward pass and optimization\n",
    "        optimizer.zero_grad()\n",
    "        loss.backward()\n",
    "        optimizer.step()\n",
    "\n",
    "# Evaluate the model on the test set\n",
    "model.eval()\n",
    "correct = 0\n",
    "total = 0\n",
    "\n",
    "with torch.no_grad():\n",
    "    for batch in test_iterator:\n",
    "        text = batch.text\n",
    "        labels = batch.label\n",
    "        \n",
    "        # Convert labels to PyTorch tensors\n",
    "        labels = labels.float().to(device)\n",
    "\n",
    "        outputs = model(text)\n",
    "        _, predicted = torch.max(outputs.data, 1)\n",
    "        total += labels.size(0)\n",
    "        correct += (predicted == labels).sum().item()\n",
    "\n",
    "accuracy = 100 * correct / total\n",
    "print('Test Accuracy: {:.2f}%'.format(accuracy))"
   ]
  },
  {
   "cell_type": "markdown",
   "metadata": {},
   "source": [
    "100. Write a Python program that builds a recommendation system using collaborative filtering. Use a sample dataset of user-item interactions, and recommend items to a user based on similar users' preferences."
   ]
  },
  {
   "cell_type": "code",
   "execution_count": null,
   "metadata": {},
   "outputs": [],
   "source": [
    "import numpy as np\n",
    "import pandas as pd\n",
    "from scipy.sparse import csr_matrix\n",
    "\n",
    "def collaborative_filtering(user_item_matrix):\n",
    "  \"\"\"Implements collaborative filtering to recommend items.\n",
    "\n",
    "  Args:\n",
    "    user_item_matrix: A sparse matrix representing user-item interactions.\n",
    "\n",
    "  Returns:\n",
    "    A list of recommended items for a given user.\n",
    "  \"\"\"\n",
    "\n",
    "  # Calculate user similarity matrix\n",
    "  user_similarity = user_item_matrix.dot(user_item_matrix.T)\n",
    "\n",
    "  # Get recommendations for a specific user\n",
    "  user_id = 0  # Replace with the desired user ID\n",
    "  user_vector = user_item_matrix.getrow(user_id)\n",
    "  similar_users = user_similarity[user_id].argsort()[::-1][1:]\n",
    "\n",
    "  # Calculate weighted sum of ratings from similar users\n",
    "  recommendations = user_item_matrix[similar_users].dot(user_similarity[user_id][similar_users]) / user_similarity[user_id][similar_users].sum()\n",
    "\n",
    "  # Get top recommendations\n",
    "  top_recommendations = recommendations.argsort()[::-1][:10]\n",
    "\n",
    "  return top_recommendations\n",
    "\n",
    "# Sample dataset\n",
    "data = {\n",
    "    'user_id': [1, 1, 2, 2, 3, 3, 4, 4, 5, 5],\n",
    "    'item_id': [1, 2, 1, 3, 2, 4, 3, 5, 1, 4],\n",
    "    'rating': [5, 4, 3, 5, 4, 2, 1, 5, 3, 2]\n",
    "}\n",
    "\n",
    "df = pd.DataFrame(data)\n",
    "user_item_matrix = csr_matrix((df['rating'], (df['user_id'], df['item_id'])), shape=(df['user_id'].nunique(), df['item_id'].nunique()))\n",
    "\n",
    "# Get recommendations for user 1\n",
    "recommendations = collaborative_filtering(user_item_matrix)\n",
    "print(recommendations)"
   ]
  },
  {
   "cell_type": "markdown",
   "metadata": {},
   "source": [
    "#### MODEL : LLAMA 3.0 "
   ]
  },
  {
   "cell_type": "markdown",
   "metadata": {},
   "source": [
    "1. Write a Python program that prints the string 'Hello, World!' to the console"
   ]
  },
  {
   "cell_type": "code",
   "execution_count": null,
   "metadata": {},
   "outputs": [],
   "source": [
    "# This is a simple Python program that prints 'Hello, World!' to the console\n",
    "\n",
    "print(\"Hello, World!\")"
   ]
  },
  {
   "cell_type": "markdown",
   "metadata": {},
   "source": [
    "2. Write a Python program that concatenates the strings 'Hello' and 'World' with a space in between and prints the result"
   ]
  },
  {
   "cell_type": "code",
   "execution_count": null,
   "metadata": {},
   "outputs": [],
   "source": [
    "# This program concatenates 'Hello' and 'World' with a space in between and prints the result\n",
    "\n",
    "string1 = \"Hello\"\n",
    "string2 = \"World\"\n",
    "result = string1 + \" \" + string2\n",
    "\n",
    "print(result)"
   ]
  },
  {
   "cell_type": "markdown",
   "metadata": {},
   "source": [
    "3. Create a Python list containing the numbers 1, 2, and 3. Print the list to the console."
   ]
  },
  {
   "cell_type": "code",
   "execution_count": null,
   "metadata": {},
   "outputs": [],
   "source": [
    "# This program creates a list containing 1, 2, and 3, and then prints the list\n",
    "\n",
    "numbers = [1, 2, 3]\n",
    "print(numbers)"
   ]
  },
  {
   "cell_type": "markdown",
   "metadata": {},
   "source": [
    "4. Write a Python program that adds the number 4 to the list [1, 2, 3] and prints the updated list."
   ]
  },
  {
   "cell_type": "code",
   "execution_count": null,
   "metadata": {},
   "outputs": [],
   "source": [
    "# This program adds 4 to the list [1, 2, 3] and prints the updated list\n",
    "\n",
    "numbers = [1, 2, 3]\n",
    "numbers.append(4)\n",
    "print(numbers)"
   ]
  },
  {
   "cell_type": "markdown",
   "metadata": {},
   "source": [
    "5. Write a Python program that removes the number 2 from the list [1, 2, 3] and prints the updated list"
   ]
  },
  {
   "cell_type": "code",
   "execution_count": null,
   "metadata": {},
   "outputs": [],
   "source": [
    "# This program removes 2 from the list [1, 2, 3] and prints the updated list\n",
    "\n",
    "numbers = [1, 2, 3]\n",
    "numbers.remove(2)\n",
    "print(numbers)"
   ]
  },
  {
   "cell_type": "markdown",
   "metadata": {},
   "source": [
    "6. Write a Python program that sorts the list [3, 1, 2] in ascending order and prints the sorted list"
   ]
  },
  {
   "cell_type": "code",
   "execution_count": null,
   "metadata": {},
   "outputs": [],
   "source": [
    "# This program sorts the list [3, 1, 2] in ascending order and prints the sorted list\n",
    "\n",
    "numbers = [3, 1, 2]\n",
    "numbers.sort()\n",
    "print(numbers)"
   ]
  },
  {
   "cell_type": "markdown",
   "metadata": {},
   "source": [
    "7. Write a Python program that reverses the list [1, 2, 3] and prints the reversed list."
   ]
  },
  {
   "cell_type": "code",
   "execution_count": null,
   "metadata": {},
   "outputs": [],
   "source": [
    "# This program reverses the list [1, 2, 3] and prints the reversed list\n",
    "\n",
    "numbers = [1, 2, 3]\n",
    "numbers.reverse()\n",
    "print(numbers)"
   ]
  },
  {
   "cell_type": "markdown",
   "metadata": {},
   "source": [
    "8. Create a Python dictionary with the keys 'a', 'b', and 'c' and corresponding values 1, 2, and 3. Print the dictionary to the console."
   ]
  },
  {
   "cell_type": "code",
   "execution_count": null,
   "metadata": {},
   "outputs": [],
   "source": [
    "# This program creates a dictionary with keys 'a', 'b', and 'c' and values 1, 2, and 3, and prints the dictionary\n",
    "\n",
    "my_dict = {'a': 1, 'b': 2, 'c': 3}\n",
    "print(my_dict)"
   ]
  },
  {
   "cell_type": "markdown",
   "metadata": {},
   "source": [
    "9. Write a Python program that accesses the value associated with the key 'b' in the dictionary {'a': 1, 'b': 2, 'c': 3} and prints it"
   ]
  },
  {
   "cell_type": "code",
   "execution_count": null,
   "metadata": {},
   "outputs": [],
   "source": [
    "# This program accesses the value associated with the key 'b' and prints it\n",
    "\n",
    "my_dict = {'a': 1, 'b': 2, 'c': 3}\n",
    "print(my_dict['b'])"
   ]
  },
  {
   "cell_type": "markdown",
   "metadata": {},
   "source": [
    "10. Create a tuple (1, 2, 3) and print the first element of the tuple"
   ]
  },
  {
   "cell_type": "code",
   "execution_count": null,
   "metadata": {},
   "outputs": [],
   "source": [
    "# This program creates a tuple (1, 2, 3) and prints the first element\n",
    "\n",
    "my_tuple = (1, 2, 3)\n",
    "print(my_tuple[0])"
   ]
  },
  {
   "cell_type": "markdown",
   "metadata": {},
   "source": [
    "11. Write a Python program that checks if a number is greater than 10. If it is, print 'Greater', otherwise print 'Not Greater'"
   ]
  },
  {
   "cell_type": "code",
   "execution_count": null,
   "metadata": {},
   "outputs": [],
   "source": [
    "# This program checks if a number is greater than 10 and prints accordingly\n",
    "\n",
    "num = 12  # Replace with the number you want to check\n",
    "\n",
    "if num > 10:\n",
    "    print(\"Greater\")\n",
    "else:\n",
    "    print(\"Not Greater\")"
   ]
  },
  {
   "cell_type": "markdown",
   "metadata": {},
   "source": [
    "12. Write a Python program that uses a for loop to iterate over the list [1, 2, 3] and prints each element.\""
   ]
  },
  {
   "cell_type": "code",
   "execution_count": null,
   "metadata": {},
   "outputs": [],
   "source": [
    "# This program uses a for loop to iterate over the list [1, 2, 3] and prints each element\n",
    "\n",
    "numbers = [1, 2, 3]\n",
    "\n",
    "for num in numbers:\n",
    "    print(num)"
   ]
  },
  {
   "cell_type": "markdown",
   "metadata": {},
   "source": [
    "13. Write a Python program that uses a while loop to print the numbers from 1 to 5."
   ]
  },
  {
   "cell_type": "code",
   "execution_count": null,
   "metadata": {},
   "outputs": [],
   "source": [
    "# This program uses a while loop to print the numbers from 1 to 5\n",
    "\n",
    "num = 1\n",
    "\n",
    "while num <= 5:\n",
    "    print(num)\n",
    "    num += 1"
   ]
  },
  {
   "cell_type": "markdown",
   "metadata": {},
   "source": [
    "14. Write a Python function called greet that takes no arguments and prints 'Hello!' when called."
   ]
  },
  {
   "cell_type": "code",
   "execution_count": null,
   "metadata": {},
   "outputs": [],
   "source": [
    "# This function prints 'Hello!' when called\n",
    "\n",
    "def greet():\n",
    "    print('Hello!')\n",
    "\n",
    "# Call the function\n",
    "greet()"
   ]
  },
  {
   "cell_type": "markdown",
   "metadata": {},
   "source": [
    "15. Write a Python function called add that takes two arguments and returns their sum. Call the function with the arguments 3 and 5, and print the result."
   ]
  },
  {
   "cell_type": "markdown",
   "metadata": {},
   "source": []
  },
  {
   "cell_type": "code",
   "execution_count": null,
   "metadata": {},
   "outputs": [],
   "source": [
    "# This function takes two arguments and returns their sum\n",
    "\n",
    "def add(a, b):\n",
    "    return a + b\n",
    "\n",
    "# Call the function with arguments 3 and 5, and print the result\n",
    "result = add(3, 5)\n",
    "print(result)"
   ]
  },
  {
   "cell_type": "markdown",
   "metadata": {},
   "source": [
    "16. Write a Python function called square that takes a number as an argument and returns its square. Call the function with the argument 4, and print the result"
   ]
  },
  {
   "cell_type": "code",
   "execution_count": null,
   "metadata": {},
   "outputs": [],
   "source": [
    "# This function takes a number as an argument and returns its square\n",
    "\n",
    "def square(x):\n",
    "    return x ** 2\n",
    "\n",
    "# Call the function with argument 4, and print the result\n",
    "result = square(4)\n",
    "print(result)"
   ]
  },
  {
   "cell_type": "markdown",
   "metadata": {},
   "source": [
    "17. Write a Python program that opens a file named 'example.txt' in read mode and prints its contents to the console."
   ]
  },
  {
   "cell_type": "code",
   "execution_count": null,
   "metadata": {},
   "outputs": [],
   "source": [
    "# This program opens a file named 'example.txt' in read mode and prints its contents\n",
    "\n",
    "# Open the file in read mode\n",
    "with open('example.txt', 'r') as file:\n",
    "    # Read the contents of the file\n",
    "    contents = file.read()\n",
    "    # Print the contents to the console\n",
    "    print(contents)"
   ]
  },
  {
   "cell_type": "markdown",
   "metadata": {},
   "source": [
    "18. Write a Python program that opens a file named 'output.txt' in write mode, writes the string 'Hello, World!' to the file, and then closes the file."
   ]
  },
  {
   "cell_type": "code",
   "execution_count": null,
   "metadata": {},
   "outputs": [],
   "source": [
    "# This program opens a file named 'output.txt' in write mode, writes a string, and closes the file\n",
    "\n",
    "# Open the file in write mode\n",
    "with open('output.txt', 'w') as file:\n",
    "    # Write the string to the file\n",
    "    file.write('Hello, World!')"
   ]
  },
  {
   "cell_type": "markdown",
   "metadata": {},
   "source": [
    "19. Write a Python program that opens a file named 'output.txt' in append mode, writes the string 'Appending this line.' to the file, and then closes the file."
   ]
  },
  {
   "cell_type": "code",
   "execution_count": null,
   "metadata": {},
   "outputs": [],
   "source": [
    "# This program opens a file named 'output.txt' in append mode, writes a string, and closes the file\n",
    "\n",
    "# Open the file in append mode\n",
    "with open('output.txt', 'a') as file:\n",
    "    # Write the string to the file\n",
    "    file.write('Appending this line.\\n')"
   ]
  },
  {
   "cell_type": "markdown",
   "metadata": {},
   "source": [
    "20. Write a Python program that opens a file named 'example.txt' in read mode and prints each line to the console, one by one."
   ]
  },
  {
   "cell_type": "code",
   "execution_count": null,
   "metadata": {},
   "outputs": [],
   "source": [
    "# This program opens a file named 'example.txt' in read mode and prints each line to the console\n",
    "\n",
    "# Open the file in read mode\n",
    "with open('example.txt', 'r') as file:\n",
    "    # Read and print each line in the file\n",
    "    for line in file:\n",
    "        print(line.strip())"
   ]
  },
  {
   "cell_type": "markdown",
   "metadata": {},
   "source": [
    "21. Write a Python program that raises a ValueError with the message 'An error occurred'."
   ]
  },
  {
   "cell_type": "code",
   "execution_count": null,
   "metadata": {},
   "outputs": [],
   "source": [
    "# This program raises a ValueError with the message 'An error occurred'\n",
    "\n",
    "# Raise a ValueError with the specified message\n",
    "raise ValueError('An error occurred')"
   ]
  },
  {
   "cell_type": "markdown",
   "metadata": {},
   "source": [
    "22. Write a Python program that uses a for loop to iterate over the numbers 1 to 10. If the number is 5, break out of the loop."
   ]
  },
  {
   "cell_type": "code",
   "execution_count": null,
   "metadata": {},
   "outputs": [],
   "source": [
    "# This program uses a for loop to iterate over the numbers 1 to 10 and breaks out of the loop when the number is 5\n",
    "\n",
    "for i in range(1, 11):\n",
    "    if i == 5:\n",
    "        print(\"Breaking out of the loop at\", i)\n",
    "        break\n",
    "    print(i)"
   ]
  },
  {
   "cell_type": "markdown",
   "metadata": {},
   "source": [
    "23. Write a Python program that uses a for loop to iterate over the numbers 1 to 5. If the number is 3, skip printing it and continue with the next iteration"
   ]
  },
  {
   "cell_type": "code",
   "execution_count": null,
   "metadata": {},
   "outputs": [],
   "source": [
    "# This program uses a for loop to iterate over the numbers 1 to 5 and skips printing the number 3\n",
    "\n",
    "for i in range(1, 6):\n",
    "    if i == 3:\n",
    "        print(\"Skipping 3...\")\n",
    "        continue\n",
    "    print(i)"
   ]
  },
  {
   "cell_type": "markdown",
   "metadata": {},
   "source": [
    "24. Write a Python program that attempts to divide 10 by 0 inside a try block, catches the resulting ZeroDivisionError in an except block, and prints 'Cannot divide by zero.'"
   ]
  },
  {
   "cell_type": "code",
   "execution_count": null,
   "metadata": {},
   "outputs": [],
   "source": [
    "# This program attempts to divide 10 by 0 and catches the resulting ZeroDivisionError\n",
    "\n",
    "try:\n",
    "    # Attempt to divide 10 by 0\n",
    "    result = 10 / 0\n",
    "except ZeroDivisionError:\n",
    "    # Catch the ZeroDivisionError and print an error message\n",
    "    print('Cannot divide by zero.')"
   ]
  },
  {
   "cell_type": "markdown",
   "metadata": {},
   "source": [
    "25. Write a Python program that removes duplicates from the list [1, 2, 2, 3, 4, 4, 5] using a set, and prints the resulting list."
   ]
  },
  {
   "cell_type": "code",
   "execution_count": null,
   "metadata": {},
   "outputs": [],
   "source": [
    "# This program removes duplicates from a list using a set\n",
    "\n",
    "# Original list with duplicates\n",
    "original_list = [1, 2, 2, 3, 4, 4, 5]\n",
    "\n",
    "# Convert the list to a set to remove duplicates\n",
    "unique_set = set(original_list)\n",
    "\n",
    "# Convert the set back to a list\n",
    "unique_list = list(unique_set)\n",
    "\n",
    "# Print the resulting list\n",
    "print(unique_list)"
   ]
  },
  {
   "cell_type": "markdown",
   "metadata": {},
   "source": [
    "26. Write a Python program that defines a lambda function to double a number. Use the lambda function to double the number 4 and print the result."
   ]
  },
  {
   "cell_type": "code",
   "execution_count": null,
   "metadata": {},
   "outputs": [],
   "source": [
    "# This program defines a lambda function to double a number and uses it to double 4\n",
    "\n",
    "# Define the lambda function to double a number\n",
    "double = lambda x: x * 2\n",
    "\n",
    "# Use the lambda function to double 4\n",
    "result = double(4)\n",
    "\n",
    "# Print the result\n",
    "print(result)"
   ]
  },
  {
   "cell_type": "markdown",
   "metadata": {},
   "source": [
    "27. Write a Python function called greet that takes a name as an argument and prints 'Hello, [name]!' where [name] is the argument. If no name is provided, default to 'World'. Call the function without arguments and then with the argument 'Alice'"
   ]
  },
  {
   "cell_type": "code",
   "execution_count": null,
   "metadata": {},
   "outputs": [],
   "source": [
    "# Define the greet function with a default argument\n",
    "def greet(name='World'):\n",
    "    print(f'Hello, {name}!')\n",
    "\n",
    "# Call the function without arguments (uses default name)\n",
    "greet()\n",
    "\n",
    "# Call the function with the argument 'Alice'\n",
    "greet('Alice')"
   ]
  },
  {
   "cell_type": "markdown",
   "metadata": {},
   "source": [
    "28. Write a Python function called apply that takes another function and a number as arguments, applies the function to the number, and returns the result. Define a separate function called square that squares a number. Pass square and 3 as arguments to apply, and print the result."
   ]
  },
  {
   "cell_type": "code",
   "execution_count": null,
   "metadata": {},
   "outputs": [],
   "source": [
    "# Define the apply function\n",
    "def apply(func, num):\n",
    "    return func(num)\n",
    "\n",
    "# Define the square function\n",
    "def square(x):\n",
    "    return x ** 2\n",
    "\n",
    "# Pass square and 3 to apply and print the result\n",
    "result = apply(square, 3)\n",
    "print(result)"
   ]
  },
  {
   "cell_type": "markdown",
   "metadata": {},
   "source": [
    "29. Write a Python program that checks if a file named 'example.txt' exists in the current directory. If it does, print 'File exists', otherwise print 'File does not exist'"
   ]
  },
  {
   "cell_type": "code",
   "execution_count": null,
   "metadata": {},
   "outputs": [],
   "source": [
    "# Import the os module\n",
    "import os\n",
    "\n",
    "# Check if the file exists\n",
    "if os.path.isfile('example.txt'):\n",
    "    print('File exists')\n",
    "else:\n",
    "    print('File does not exist')"
   ]
  },
  {
   "cell_type": "markdown",
   "metadata": {},
   "source": [
    "30. Write a Python program that deletes a file named 'unnecessary.txt'. If the file does not exist, print 'File not found'"
   ]
  },
  {
   "cell_type": "code",
   "execution_count": null,
   "metadata": {},
   "outputs": [],
   "source": [
    "# Import the os module\n",
    "import os\n",
    "\n",
    "try:\n",
    "    # Attempt to delete the file\n",
    "    os.remove('unnecessary.txt')\n",
    "    print('File deleted')\n",
    "except FileNotFoundError:\n",
    "    # Handle the case where the file does not exist\n",
    "    print('File not found')"
   ]
  },
  {
   "cell_type": "markdown",
   "metadata": {},
   "source": [
    "31. Write a Python class called Person that has a single attribute name. Instantiate an object of the class with the name 'Alice' and print the name."
   ]
  },
  {
   "cell_type": "code",
   "execution_count": null,
   "metadata": {},
   "outputs": [],
   "source": [
    "# Define the Person class\n",
    "class Person:\n",
    "    def __init__(self, name):\n",
    "        self.name = name\n",
    "\n",
    "# Instantiate an object of the class with the name 'Alice'\n",
    "alice = Person('Alice')\n",
    "\n",
    "# Print the name\n",
    "print(alice.name)"
   ]
  },
  {
   "cell_type": "markdown",
   "metadata": {},
   "source": [
    "32. Write a Python class called Car with an attribute model. Create an instance of Car with the model 'Toyota' and print the model."
   ]
  },
  {
   "cell_type": "code",
   "execution_count": null,
   "metadata": {},
   "outputs": [],
   "source": [
    "# Define the Car class\n",
    "class Car:\n",
    "    def __init__(self, model):\n",
    "        self.model = model\n",
    "\n",
    "# Create an instance of Car with the model 'Toyota'\n",
    "toyota_car = Car('Toyota')\n",
    "\n",
    "# Print the model\n",
    "print(toyota_car.model)"
   ]
  },
  {
   "cell_type": "markdown",
   "metadata": {},
   "source": [
    "33. Write a Python program that uses a list comprehension to create a list of squares for the numbers 1 through 5, and prints the resulting list. "
   ]
  },
  {
   "cell_type": "code",
   "execution_count": null,
   "metadata": {},
   "outputs": [],
   "source": [
    "# Use a list comprehension to create a list of squares\n",
    "squares = [x ** 2 for x in range(1, 6)]\n",
    "\n",
    "# Print the resulting list\n",
    "print(squares)"
   ]
  },
  {
   "cell_type": "markdown",
   "metadata": {},
   "source": [
    "34. Write a Python program that uses a for loop to sum the numbers in the list [1, 2, 3, 4, 5] and prints the result."
   ]
  },
  {
   "cell_type": "code",
   "execution_count": null,
   "metadata": {},
   "outputs": [],
   "source": [
    "# Define the list of numbers\n",
    "numbers = [1, 2, 3, 4, 5]\n",
    "\n",
    "# Initialize the sum to 0\n",
    "total = 0\n",
    "\n",
    "# Use a for loop to sum the numbers\n",
    "for num in numbers:\n",
    "    total += num\n",
    "\n",
    "# Print the result\n",
    "print(total)"
   ]
  },
  {
   "cell_type": "markdown",
   "metadata": {},
   "source": [
    "35. Write a Python program that generates a random number between 1 and 10 and prints it. "
   ]
  },
  {
   "cell_type": "code",
   "execution_count": null,
   "metadata": {},
   "outputs": [],
   "source": [
    "# Import the random module\n",
    "import random\n",
    "\n",
    "# Generate a random number between 1 and 10\n",
    "random_number = random.randint(1, 10)\n",
    "\n",
    "# Print the random number\n",
    "print(random_number)"
   ]
  },
  {
   "cell_type": "markdown",
   "metadata": {},
   "source": [
    "36. Write a Python program that measures and prints the time it takes to execute a for loop that sums the numbers from 1 to 1,000,000."
   ]
  },
  {
   "cell_type": "code",
   "execution_count": null,
   "metadata": {},
   "outputs": [],
   "source": [
    "# Import the time module\n",
    "import time\n",
    "\n",
    "# Initialize the sum to 0\n",
    "total = 0\n",
    "\n",
    "# Record the start time\n",
    "start_time = time.time()\n",
    "\n",
    "# Use a for loop to sum the numbers from 1 to 1,000,000\n",
    "for i in range(1, 1000001):\n",
    "    total += i\n",
    "\n",
    "# Record the end time\n",
    "end_time = time.time()\n",
    "\n",
    "# Calculate the elapsed time\n",
    "elapsed_time = end_time - start_time\n",
    "\n",
    "# Print the elapsed time\n",
    "print(f\"Elapsed time: {elapsed_time:.6f} seconds\")"
   ]
  },
  {
   "cell_type": "markdown",
   "metadata": {},
   "source": [
    "37. Write a Python decorator called my_decorator that prints 'Starting' before the decorated function is called, and 'Finished' after the function is called. Apply this decorator to a function that prints 'Hello!' and then call the decorated function."
   ]
  },
  {
   "cell_type": "code",
   "execution_count": null,
   "metadata": {},
   "outputs": [],
   "source": [
    "# Define the decorator\n",
    "def my_decorator(func):\n",
    "    def wrapper():\n",
    "        print('Starting')\n",
    "        func()\n",
    "        print('Finished')\n",
    "    return wrapper\n",
    "\n",
    "# Apply the decorator to a function\n",
    "@my_decorator\n",
    "def say_hello():\n",
    "    print('Hello!')\n",
    "\n",
    "# Call the decorated function\n",
    "say_hello()"
   ]
  },
  {
   "cell_type": "markdown",
   "metadata": {},
   "source": [
    "38. Write a Python class called BankAccount with a private attribute _balance. Implement methods to deposit and withdraw money, and a method to print the current balance."
   ]
  },
  {
   "cell_type": "code",
   "execution_count": null,
   "metadata": {},
   "outputs": [],
   "source": [
    "class BankAccount:\n",
    "    def __init__(self, initial_balance=0):\n",
    "        self._balance = initial_balance\n",
    "\n",
    "    def deposit(self, amount):\n",
    "        if amount > 0:\n",
    "            self._balance += amount\n",
    "            print(f\"Deposited {amount}. New balance: {self._balance}\")\n",
    "        else:\n",
    "            print(\"Invalid deposit amount.\")\n",
    "\n",
    "    def withdraw(self, amount):\n",
    "        if 0 < amount <= self._balance:\n",
    "            self._balance -= amount\n",
    "            print(f\"Withdrew {amount}. New balance: {self._balance}\")\n",
    "        elif amount <= 0:\n",
    "            print(\"Invalid withdrawal amount.\")\n",
    "        else:\n",
    "            print(\"Insufficient funds.\")\n",
    "\n",
    "    def print_balance(self):\n",
    "        print(f\"Current balance: {self._balance}\")\n",
    "\n",
    "# Example usage:\n",
    "account = BankAccount(1000)\n",
    "account.print_balance()\n",
    "account.deposit(500)\n",
    "account.withdraw(200)\n",
    "account.print_balance()"
   ]
  },
  {
   "cell_type": "markdown",
   "metadata": {},
   "source": [
    "39. Write a Python program that creates a 2D list representing a matrix with the following values: [[1, 2], [3, 4]]. Print the element in the first row and second column."
   ]
  },
  {
   "cell_type": "code",
   "execution_count": null,
   "metadata": {},
   "outputs": [],
   "source": [
    "# Create a 2D list representing a matrix\n",
    "matrix = [[1, 2], [3, 4]]\n",
    "\n",
    "# Print the element in the first row and second column\n",
    "print(matrix[0][1])"
   ]
  },
  {
   "cell_type": "markdown",
   "metadata": {},
   "source": [
    "40. Write a Python decorator called log_function_call that logs the name of a function each time it is called. Apply this decorator to a function that prints 'Executing function' and then call the decorated function."
   ]
  },
  {
   "cell_type": "code",
   "execution_count": null,
   "metadata": {},
   "outputs": [],
   "source": [
    "# Import the logging module\n",
    "import logging\n",
    "\n",
    "# Configure logging to display function names\n",
    "logging.basicConfig(level=logging.INFO, format='%(message)s')\n",
    "\n",
    "# Define the decorator\n",
    "def log_function_call(func):\n",
    "    def wrapper(*args, **kwargs):\n",
    "        logging.info(f\"Calling {func.__name__}\")\n",
    "        return func(*args, **kwargs)\n",
    "    return wrapper\n",
    "\n",
    "# Apply the decorator to a function\n",
    "@log_function_call\n",
    "def execute_function():\n",
    "    print('Executing function')\n",
    "\n",
    "# Call the decorated function\n",
    "execute_function()"
   ]
  },
  {
   "cell_type": "markdown",
   "metadata": {},
   "source": [
    "41. Write a Python class called Stack that implements a stack using a list. Implement methods push, pop, and is_empty. Demonstrate the stack operations by pushing and popping some elements."
   ]
  },
  {
   "cell_type": "code",
   "execution_count": null,
   "metadata": {},
   "outputs": [],
   "source": [
    "class Stack:\n",
    "    def __init__(self):\n",
    "        self.stack = []\n",
    "\n",
    "    def push(self, element):\n",
    "        self.stack.append(element)\n",
    "\n",
    "    def pop(self):\n",
    "        if not self.is_empty():\n",
    "            return self.stack.pop()\n",
    "        else:\n",
    "            return None\n",
    "\n",
    "    def is_empty(self):\n",
    "        return len(self.stack) == 0\n",
    "\n",
    "# Demonstrate stack operations\n",
    "stack = Stack()\n",
    "print(stack.is_empty())  # True\n",
    "\n",
    "stack.push(1)\n",
    "stack.push(2)\n",
    "stack.push(3)\n",
    "print(stack.pop())  # 3\n",
    "print(stack.pop())  # 2\n",
    "print(stack.pop())  # 1\n",
    "print(stack.pop())  # None\n",
    "print(stack.is_empty())  # True"
   ]
  },
  {
   "cell_type": "markdown",
   "metadata": {},
   "source": [
    "42. Write a Python class called Queue that implements a queue using a list. Implement methods enqueue, dequeue, and is_empty. Demonstrate the queue operations by enqueueing and dequeueing some elements.\" "
   ]
  },
  {
   "cell_type": "code",
   "execution_count": null,
   "metadata": {},
   "outputs": [],
   "source": [
    "class Queue:\n",
    "    def __init__(self):\n",
    "        self.queue = []\n",
    "\n",
    "    def enqueue(self, element):\n",
    "        self.queue.append(element)\n",
    "\n",
    "    def dequeue(self):\n",
    "        if not self.is_empty():\n",
    "            return self.queue.pop(0)\n",
    "        else:\n",
    "            return None\n",
    "\n",
    "    def is_empty(self):\n",
    "        return len(self.queue) == 0\n",
    "\n",
    "# Demonstrate queue operations\n",
    "queue = Queue()\n",
    "print(queue.is_empty())  # True\n",
    "\n",
    "queue.enqueue(1)\n",
    "queue.enqueue(2)\n",
    "queue.enqueue(3)\n",
    "print(queue.dequeue())  # 1\n",
    "print(queue.dequeue())  # 2\n",
    "print(queue.dequeue())  # 3\n",
    "print(queue.dequeue())  # None\n",
    "print(queue.is_empty())  # True"
   ]
  },
  {
   "cell_type": "markdown",
   "metadata": {},
   "source": [
    "43. Write a Python function called factorial that calculates the factorial of a number using recursion. Calculate the factorial of 5 and print the result."
   ]
  },
  {
   "cell_type": "code",
   "execution_count": null,
   "metadata": {},
   "outputs": [],
   "source": [
    "def factorial(n):\n",
    "    if n == 0 or n == 1:\n",
    "        return 1\n",
    "    else:\n",
    "        return n * factorial(n-1)\n",
    "\n",
    "# Calculate the factorial of 5 and print the result\n",
    "result = factorial(5)\n",
    "print(result)  # Output: 120"
   ]
  },
  {
   "cell_type": "markdown",
   "metadata": {},
   "source": [
    "44. Write a Python class called Counter with a class attribute count that tracks the number of instances created. Implement a class method increment that increments count each time a new instance is created. Demonstrate this by creating multiple instances and printing count."
   ]
  },
  {
   "cell_type": "code",
   "execution_count": null,
   "metadata": {},
   "outputs": [],
   "source": [
    "class Counter:\n",
    "    count = 0\n",
    "\n",
    "    def __init__(self):\n",
    "        Counter.increment()\n",
    "\n",
    "    @classmethod\n",
    "    def increment(cls):\n",
    "        cls.count += 1\n",
    "\n",
    "# Demonstrate by creating multiple instances and printing count\n",
    "print(Counter.count)  # 0\n",
    "counter1 = Counter()\n",
    "print(Counter.count)  # 1\n",
    "counter2 = Counter()\n",
    "print(Counter.count)  # 2\n",
    "counter3 = Counter()\n",
    "print(Counter.count)  # 3"
   ]
  },
  {
   "cell_type": "markdown",
   "metadata": {},
   "source": [
    "45. Write a Python class called Animal with a method speak that prints 'Animal sound'. Create a subclass Dog that overrides speak to print 'Bark'. Instantiate Dog and call speak."
   ]
  },
  {
   "cell_type": "code",
   "execution_count": null,
   "metadata": {},
   "outputs": [],
   "source": [
    "# Define the Animal class\n",
    "class Animal:\n",
    "    def speak(self):\n",
    "        print('Animal sound')\n",
    "\n",
    "# Define the Dog subclass that inherits from Animal\n",
    "class Dog(Animal):\n",
    "    def speak(self):\n",
    "        print('Bark')\n",
    "\n",
    "# Instantiate Dog and call speak\n",
    "my_dog = Dog()\n",
    "my_dog.speak()  # Output: Bark"
   ]
  },
  {
   "cell_type": "markdown",
   "metadata": {},
   "source": [
    "46. Write a Python class called Vehicle with a method move that prints 'Moving'. Create a subclass Car that overrides move to print 'Driving'. Instantiate Car and call move."
   ]
  },
  {
   "cell_type": "code",
   "execution_count": null,
   "metadata": {},
   "outputs": [],
   "source": [
    "# Define the Vehicle class\n",
    "class Vehicle:\n",
    "    def move(self):\n",
    "        print('Moving')\n",
    "\n",
    "# Define the Car subclass that inherits from Vehicle\n",
    "class Car(Vehicle):\n",
    "    def move(self):\n",
    "        print('Driving')\n",
    "\n",
    "# Instantiate Car and call move\n",
    "my_car = Car()\n",
    "my_car.move()  # Output: Driving"
   ]
  },
  {
   "cell_type": "markdown",
   "metadata": {},
   "source": [
    "47. Write a Python program that sorts a list of dictionaries by the key 'age'. For example, given people = [{'name': 'Alice', 'age': 25}, {'name': 'Bob', 'age': 20}], sort the list by age and print the sorted list."
   ]
  },
  {
   "cell_type": "code",
   "execution_count": null,
   "metadata": {},
   "outputs": [],
   "source": [
    "# Define the list of dictionaries\n",
    "people = [{'name': 'Alice', 'age': 25}, {'name': 'Bob', 'age': 20}, {'name': 'Charlie', 'age': 30}]\n",
    "\n",
    "# Sort the list by age\n",
    "people_sorted = sorted(people, key=lambda x: x['age'])\n",
    "\n",
    "# Print the sorted list\n",
    "print(people_sorted)"
   ]
  },
  {
   "cell_type": "markdown",
   "metadata": {},
   "source": [
    "48. Write a Python function called linear_search that takes a list and a target value, and returns the index of the target value if found, or -1 if not found. Use this function to search for the value 3 in the list [1, 2, 3, 4, 5]."
   ]
  },
  {
   "cell_type": "code",
   "execution_count": null,
   "metadata": {},
   "outputs": [],
   "source": [
    "def linear_search(lst, target):\n",
    "    for i, value in enumerate(lst):\n",
    "        if value == target:\n",
    "            return i\n",
    "    return -1\n",
    "\n",
    "# Use the function to search for the value 3 in the list [1, 2, 3, 4, 5]\n",
    "index = linear_search([1, 2, 3, 4, 5], 3)\n",
    "print(index)  # Output: 2"
   ]
  },
  {
   "cell_type": "markdown",
   "metadata": {},
   "source": [
    "49. Write a Python function called bubble_sort that implements the bubble sort algorithm to sort a list of numbers in ascending order. Use this function to sort the list [5, 3, 8, 4, 2] and print the sorted list"
   ]
  },
  {
   "cell_type": "code",
   "execution_count": null,
   "metadata": {},
   "outputs": [],
   "source": [
    "def bubble_sort(lst):\n",
    "    n = len(lst)\n",
    "    for i in range(n-1):\n",
    "        for j in range(n-i-1):\n",
    "            if lst[j] > lst[j+1]:\n",
    "                lst[j], lst[j+1] = lst[j+1], lst[j]\n",
    "    return lst\n",
    "\n",
    "# Use the function to sort the list [5, 3, 8, 4, 2] and print the sorted list\n",
    "sorted_list = bubble_sort([5, 3, 8, 4, 2])\n",
    "print(sorted_list)  # Output: [2, 3, 4, 5, 8]"
   ]
  },
  {
   "cell_type": "markdown",
   "metadata": {},
   "source": [
    "50. Write a Python function called binary_search that implements the binary search algorithm to find a target value in a sorted list. Use this function to find the index of the value 4 in the sorted list [1, 2, 3, 4, 5]."
   ]
  },
  {
   "cell_type": "code",
   "execution_count": null,
   "metadata": {},
   "outputs": [],
   "source": [
    "def binary_search(lst, target):\n",
    "    low, high = 0, len(lst) - 1\n",
    "    while low <= high:\n",
    "        mid = (low + high) // 2\n",
    "        if lst[mid] == target:\n",
    "            return mid\n",
    "        elif lst[mid] < target:\n",
    "            low = mid + 1\n",
    "        else:\n",
    "            high = mid - 1\n",
    "    return -1\n",
    "\n",
    "# Use the function to find the index of the value 4 in the sorted list [1, 2, 3, 4, 5]\n",
    "index = binary_search([1, 2, 3, 4, 5], 4)\n",
    "print(index)  # Output: 3"
   ]
  },
  {
   "cell_type": "markdown",
   "metadata": {},
   "source": [
    "51. Write a Python program that creates a dictionary representing a student's grades for different subjects, e.g., grades = {'Math': {'midterm': 90, 'final': 85}, 'Science': {'midterm': 88, 'final': 92}}. Access and print the final grade in Science."
   ]
  },
  {
   "cell_type": "code",
   "execution_count": null,
   "metadata": {},
   "outputs": [],
   "source": [
    "# Create a dictionary representing a student's grades\n",
    "grades = {\n",
    "    'Math': {'midterm': 90, 'final': 85},\n",
    "    'Science': {'midterm': 88, 'final': 92},\n",
    "    'English': {'midterm': 92, 'final': 89}\n",
    "}\n",
    "\n",
    "# Access and print the final grade in Science\n",
    "science_final_grade = grades['Science']['final']\n",
    "print(\"Final grade in Science:\", science_final_grade)"
   ]
  },
  {
   "cell_type": "markdown",
   "metadata": {},
   "source": [
    "52. Write a Python class called Node representing a node in a singly linked list, with attributes data and next_node. Implement a class called LinkedList with methods to insert a node at the beginning, end, and to print the list. Demonstrate by inserting and printing nodes."
   ]
  },
  {
   "cell_type": "code",
   "execution_count": null,
   "metadata": {},
   "outputs": [],
   "source": [
    "class Node:\n",
    "    def __init__(self, data):\n",
    "        self.data = data\n",
    "        self.next_node = None\n",
    "\n",
    "class LinkedList:\n",
    "    def __init__(self):\n",
    "        self.head = None\n",
    "\n",
    "    def insert_at_beginning(self, data):\n",
    "        new_node = Node(data)\n",
    "        new_node.next_node = self.head\n",
    "        self.head = new_node\n",
    "\n",
    "    def insert_at_end(self, data):\n",
    "        if not self.head:\n",
    "            self.insert_at_beginning(data)\n",
    "        else:\n",
    "            current_node = self.head\n",
    "            while current_node.next_node:\n",
    "                current_node = current_node.next_node\n",
    "            current_node.next_node = Node(data)\n",
    "\n",
    "    def print_list(self):\n",
    "        current_node = self.head\n",
    "        while current_node:\n",
    "            print(current_node.data, end=\" \")\n",
    "            current_node = current_node.next_node\n",
    "        print()\n",
    "\n",
    "# Demonstrate by inserting and printing nodes\n",
    "linked_list = LinkedList()\n",
    "linked_list.insert_at_beginning(1)\n",
    "linked_list.insert_at_beginning(2)\n",
    "linked_list.insert_at_end(3)\n",
    "linked_list.print_list()  # Output: 2 1 3"
   ]
  },
  {
   "cell_type": "markdown",
   "metadata": {},
   "source": [
    "53. Write a Python function called gcd that calculates the greatest common divisor (GCD) of two numbers using the Euclidean algorithm. Calculate the GCD of 48 and 18 and print the result."
   ]
  },
  {
   "cell_type": "code",
   "execution_count": null,
   "metadata": {},
   "outputs": [],
   "source": [
    "def gcd(a, b):\n",
    "    while b:\n",
    "        a, b = b, a % b\n",
    "    return a\n",
    "\n",
    "# Calculate the GCD of 48 and 18 and print the result\n",
    "result = gcd(48, 18)\n",
    "print(\"GCD of 48 and 18:\", result)  # Output: GCD of 48 and 18: 6"
   ]
  },
  {
   "cell_type": "markdown",
   "metadata": {},
   "source": [
    "54. Write a Python function called is_prime that checks if a number is prime. Use this function to check if 29 is prime and print the result."
   ]
  },
  {
   "cell_type": "code",
   "execution_count": null,
   "metadata": {},
   "outputs": [],
   "source": [
    "def is_prime(n):\n",
    "    if n <= 1:\n",
    "        return False\n",
    "    for i in range(2, int(n ** 0.5) + 1):\n",
    "        if n % i == 0:\n",
    "            return False\n",
    "    return True\n",
    "\n",
    "# Use the function to check if 29 is prime and print the result\n",
    "result = is_prime(29)\n",
    "print(\"Is 29 prime?\", result)  # Output: Is 29 prime? True"
   ]
  },
  {
   "cell_type": "markdown",
   "metadata": {},
   "source": [
    "55.Write a Python function called factorial that calculates the factorial of a number using a loop. Calculate the factorial of 6 and print the result.\""
   ]
  },
  {
   "cell_type": "code",
   "execution_count": null,
   "metadata": {},
   "outputs": [],
   "source": [
    "def factorial(n):\n",
    "    result = 1\n",
    "    for i in range(1, n + 1):\n",
    "        result *= i\n",
    "    return result\n",
    "\n",
    "# Calculate the factorial of 6 and print the result\n",
    "result = factorial(6)\n",
    "print(\"Factorial of 6:\", result)  # Output: Factorial of 6: 720"
   ]
  },
  {
   "cell_type": "markdown",
   "metadata": {},
   "source": [
    "56. Write a simple Flask application with a single route that returns 'Hello, World!' when accessed. Run the Flask app and provide instructions to test the endpoint."
   ]
  },
  {
   "cell_type": "code",
   "execution_count": null,
   "metadata": {},
   "outputs": [],
   "source": [
    "# Import the Flask class from the flask module\n",
    "from flask import Flask\n",
    "\n",
    "# Create a new instance of the Flask class\n",
    "app = Flask(__name__)\n",
    "\n",
    "# Define a route for the root URL (\"/\") that returns 'Hello, World!'\n",
    "@app.route(\"/\")\n",
    "def hello_world():\n",
    "    return \"Hello, World!\"\n",
    "\n",
    "# Check if the script is run directly (not imported) and run the Flask app\n",
    "if __name__ == \"__main__\":\n",
    "    app.run(debug=True)"
   ]
  },
  {
   "cell_type": "markdown",
   "metadata": {},
   "source": [
    "57. Write a Python program that uses nested loops to print a multiplication table (from 1 to 10). Format the output as a grid."
   ]
  },
  {
   "cell_type": "code",
   "execution_count": null,
   "metadata": {},
   "outputs": [],
   "source": [
    "# Print the header row\n",
    "print(\"   |\", end=\"\")\n",
    "for i in range(1, 11):\n",
    "    print(f\"{i:4}\", end=\"\")\n",
    "print()\n",
    "\n",
    "# Print the separator row\n",
    "print(\"---+\" + \"---\" * 10)\n",
    "\n",
    "# Print the multiplication table\n",
    "for i in range(1, 11):\n",
    "    print(f\"{i:3} |\", end=\"\")\n",
    "    for j in range(1, 11):\n",
    "        print(f\"{i * j:4}\", end=\"\")\n",
    "    print()"
   ]
  },
  {
   "cell_type": "markdown",
   "metadata": {},
   "source": [
    "58. Write a Python class called Vector with attributes x and y. Overload the + operator to add two Vector objects by summing their x and y attributes. Demonstrate by adding two Vector objects and printing the result."
   ]
  },
  {
   "cell_type": "code",
   "execution_count": null,
   "metadata": {},
   "outputs": [],
   "source": [
    "class Vector:\n",
    "    def __init__(self, x, y):\n",
    "        self.x = x\n",
    "        self.y = y\n",
    "\n",
    "    def __add__(self, other):\n",
    "        return Vector(self.x + other.x, self.y + other.y)\n",
    "\n",
    "    def __str__(self):\n",
    "        return f\"Vector({self.x}, {self.y})\"\n",
    "\n",
    "# Demonstrate by adding two Vector objects and printing the result\n",
    "vector1 = Vector(2, 3)\n",
    "vector2 = Vector(4, 5)\n",
    "result = vector1 + vector2\n",
    "print(\"Result:\", result)  # Output: Result: Vector(6, 8)"
   ]
  },
  {
   "cell_type": "markdown",
   "metadata": {},
   "source": [
    "59. Write a Python function called fibonacci that generates the nth Fibonacci number using recursion. Calculate and print the 10th Fibonacci number."
   ]
  },
  {
   "cell_type": "code",
   "execution_count": null,
   "metadata": {},
   "outputs": [],
   "source": [
    "def fibonacci(n):\n",
    "    if n <= 0:\n",
    "        return \"Input should be a positive integer\"\n",
    "    elif n == 1:\n",
    "        return 0\n",
    "    elif n == 2:\n",
    "        return 1\n",
    "    else:\n",
    "        return fibonacci(n-1) + fibonacci(n-2)\n",
    "\n",
    "# Calculate and print the 10th Fibonacci number\n",
    "result = fibonacci(10)\n",
    "print(\"10th Fibonacci number:\", result)  # Output: 10th Fibonacci number: 34"
   ]
  },
  {
   "cell_type": "markdown",
   "metadata": {},
   "source": [
    "60. Write a Python program that creates a list of tuples representing student names and their grades, e.g., students = [('Alice', 90), ('Bob', 85), ('Charlie', 95)]. Sort the list by grades and print the sorted list."
   ]
  },
  {
   "cell_type": "code",
   "execution_count": null,
   "metadata": {},
   "outputs": [],
   "source": [
    "# Create a list of tuples representing student names and their grades\n",
    "students = [('Alice', 90), ('Bob', 85), ('Charlie', 95), ('David', 88), ('Eve', 92)]\n",
    "\n",
    "# Sort the list by grades using the sorted function with a lambda function as the key\n",
    "sorted_students = sorted(students, key=lambda x: x[1])\n",
    "\n",
    "# Print the sorted list\n",
    "print(\"Sorted by grades:\")\n",
    "for student in sorted_students:\n",
    "    print(f\"{student[0]}: {student[1]}\")"
   ]
  },
  {
   "cell_type": "markdown",
   "metadata": {},
   "source": [
    "61. Write a Python program that uses nested loops to print the following pattern:\n",
    "Markdown\n",
    "\n"
   ]
  },
  {
   "cell_type": "code",
   "execution_count": null,
   "metadata": {},
   "outputs": [],
   "source": [
    "*\n",
    "**\n",
    "***\n",
    "****\n",
    "*****\n",
    "```\"\n",
    "\n"
   ]
  },
  {
   "cell_type": "code",
   "execution_count": null,
   "metadata": {},
   "outputs": [],
   "source": [
    "# Outer loop to control the number of rows\n",
    "for i in range(1, 6):\n",
    "    # Inner loop to print the asterisks for each row\n",
    "    for j in range(i):\n",
    "        print(\"*\", end=\"\")\n",
    "    # Print a newline after each row\n",
    "    print()"
   ]
  },
  {
   "cell_type": "markdown",
   "metadata": {},
   "source": [
    "62. Write a Python decorator called log_call that logs the name of the function being called. Apply this decorator to a function called greet that prints 'Hello!' and call the decorated function."
   ]
  },
  {
   "cell_type": "code",
   "execution_count": null,
   "metadata": {},
   "outputs": [],
   "source": [
    "import logging\n",
    "\n",
    "# Configure logging to display function call logs\n",
    "logging.basicConfig(level=logging.INFO)\n",
    "\n",
    "# Define the log_call decorator\n",
    "def log_call(func):\n",
    "    def wrapper(*args, **kwargs):\n",
    "        logging.info(f\"Calling function: {func.__name__}\")\n",
    "        return func(*args, **kwargs)\n",
    "    return wrapper\n",
    "\n",
    "# Apply the log_call decorator to the greet function\n",
    "@log_call\n",
    "def greet():\n",
    "    print('Hello!')\n",
    "\n",
    "# Call the decorated greet function\n",
    "greet()"
   ]
  },
  {
   "cell_type": "markdown",
   "metadata": {},
   "source": [
    "63. Write a Python class called TreeNode representing a node in a binary tree, with attributes data, left, and right. Implement a function to perform an in-order traversal of the tree and print the node values."
   ]
  },
  {
   "cell_type": "code",
   "execution_count": null,
   "metadata": {},
   "outputs": [],
   "source": [
    "class TreeNode:\n",
    "    def __init__(self, data):\n",
    "        self.data = data\n",
    "        self.left = None\n",
    "        self.right = None\n",
    "\n",
    "def in_order_traversal(node):\n",
    "    if node is not None:\n",
    "        in_order_traversal(node.left)\n",
    "        print(node.data, end=\" \")\n",
    "        in_order_traversal(node.right)\n",
    "\n",
    "# Example usage:\n",
    "# Create a sample binary tree:\n",
    "#       1\n",
    "#      / \\\n",
    "#     2   3\n",
    "#    / \\\n",
    "#   4   5\n",
    "\n",
    "root = TreeNode(1)\n",
    "root.left = TreeNode(2)\n",
    "root.right = TreeNode(3)\n",
    "root.left.left = TreeNode(4)\n",
    "root.left.right = TreeNode(5)\n",
    "\n",
    "# Perform in-order traversal and print node values\n",
    "print(\"In-order traversal:\")\n",
    "in_order_traversal(root)  # Output: 4 2 5 1 3"
   ]
  },
  {
   "cell_type": "markdown",
   "metadata": {},
   "source": [
    "64. Write a Python function called quicksort that implements the quicksort algorithm to sort a list of numbers in ascending order. Use this function to sort the list [10, 7, 8, 9, 1, 5] and print the sorted list."
   ]
  },
  {
   "cell_type": "code",
   "execution_count": null,
   "metadata": {},
   "outputs": [],
   "source": [
    "def quicksort(arr):\n",
    "    if len(arr) <= 1:\n",
    "        return arr\n",
    "    pivot = arr[len(arr) // 2]\n",
    "    left = [x for x in arr if x < pivot]\n",
    "    middle = [x for x in arr if x == pivot]\n",
    "    right = [x for x in arr if x > pivot]\n",
    "    return quicksort(left) + middle + quicksort(right)\n",
    "\n",
    "# Use the quicksort function to sort the list [10, 7, 8, 9, 1, 5] and print the sorted list\n",
    "numbers = [10, 7, 8, 9, 1, 5]\n",
    "sorted_numbers = quicksort(numbers)\n",
    "print(\"Sorted list:\", sorted_numbers)  # Output: Sorted list: [1, 5, 7, 8, 9, 10]"
   ]
  },
  {
   "cell_type": "markdown",
   "metadata": {},
   "source": [
    "65. Write a Flask application that provides a simple REST API with the following endpoints: GET /items to return a list of items, POST /items to add a new item, and DELETE /items/<id> to delete an item by ID. Provide instructions to test the API."
   ]
  },
  {
   "cell_type": "code",
   "execution_count": null,
   "metadata": {},
   "outputs": [],
   "source": [
    "from flask import Flask, jsonify, request\n",
    "\n",
    "app = Flask(__name__)\n",
    "\n",
    "# Sample in-memory data store\n",
    "items = [\n",
    "    {\"id\": 1, \"name\": \"Item 1\"},\n",
    "    {\"id\": 2, \"name\": \"Item 2\"},\n",
    "    {\"id\": 3, \"name\": \"Item 3\"},\n",
    "]\n",
    "\n",
    "# GET /items\n",
    "@app.route(\"/items\", methods=[\"GET\"])\n",
    "def get_items():\n",
    "    return jsonify(items)\n",
    "\n",
    "# POST /items\n",
    "@app.route(\"/items\", methods=[\"POST\"])\n",
    "def add_item():\n",
    "    new_item = {\n",
    "        \"id\": len(items) + 1,\n",
    "        \"name\": request.json[\"name\"],\n",
    "    }\n",
    "    items.append(new_item)\n",
    "    return jsonify(new_item), 201\n",
    "\n",
    "# DELETE /items/<id>\n",
    "@app.route(\"/items/<int:id>\", methods=[\"DELETE\"])\n",
    "def delete_item(id):\n",
    "    for item in items:\n",
    "        if item[\"id\"] == id:\n",
    "            items.remove(item)\n",
    "            return jsonify({\"message\": \"Item deleted\"}), 200\n",
    "    return jsonify({\"message\": \"Item not found\"}), 404\n",
    "\n",
    "if __name__ == \"__main__\":\n",
    "    app.run(debug=True)"
   ]
  },
  {
   "cell_type": "markdown",
   "metadata": {},
   "source": [
    "66. Write a Python program that generates the current date and time using the datetime module, formats it as 'YYYY-MM-DD HH:MM', and prints it. Then calculate the date 10 days from today and print it\n"
   ]
  },
  {
   "cell_type": "code",
   "execution_count": null,
   "metadata": {},
   "outputs": [],
   "source": [
    "from datetime import datetime, timedelta\n",
    "\n",
    "# Get the current date and time\n",
    "now = datetime.now()\n",
    "\n",
    "# Format the current date and time as 'YYYY-MM-DD HH:MM'\n",
    "formatted_now = now.strftime('%Y-%m-%d %H:%M')\n",
    "\n",
    "# Print the formatted current date and time\n",
    "print(\"Current date and time:\", formatted_now)\n",
    "\n",
    "# Calculate the date 10 days from today\n",
    "future_date = now + timedelta(days=10)\n",
    "\n",
    "# Format the future date as 'YYYY-MM-DD'\n",
    "formatted_future_date = future_date.strftime('%Y-%m-%d')\n",
    "\n",
    "# Print the formatted future date\n",
    "print(\"Date 10 days from today:\", formatted_future_date)"
   ]
  },
  {
   "cell_type": "markdown",
   "metadata": {},
   "source": [
    "67. Write a Python program that uses BeautifulSoup to scrape the titles of articles from a news website's homepage and prints them."
   ]
  },
  {
   "cell_type": "code",
   "execution_count": null,
   "metadata": {},
   "outputs": [],
   "source": [
    "import requests\n",
    "from bs4 import BeautifulSoup\n",
    "\n",
    "# URL of the news website's homepage\n",
    "url = \"https://www.bbc.co.uk/news\"\n",
    "\n",
    "# Send a GET request to the URL\n",
    "response = requests.get(url)\n",
    "\n",
    "# Check if the request was successful\n",
    "if response.status_code == 200:\n",
    "    # Parse the HTML content using BeautifulSoup\n",
    "    soup = BeautifulSoup(response.content, 'html.parser')\n",
    "\n",
    "    # Find all article titles on the page\n",
    "    titles = soup.find_all('h3')\n",
    "\n",
    "    # Print the article titles\n",
    "    for title in titles:\n",
    "        print(title.text.strip())\n",
    "else:\n",
    "    print(\"Failed to retrieve the webpage\")"
   ]
  },
  {
   "cell_type": "markdown",
   "metadata": {},
   "source": [
    "68. Write a Python program that performs linear regression on a dataset using numpy. The dataset consists of input x = [1, 2, 3, 4, 5] and output y = [2, 4, 6, 8, 10]. Calculate the slope and intercept, and print the linear equation."
   ]
  },
  {
   "cell_type": "code",
   "execution_count": null,
   "metadata": {},
   "outputs": [],
   "source": [
    "import numpy as np\n",
    "\n",
    "# Input x and output y\n",
    "x = np.array([1, 2, 3, 4, 5])\n",
    "y = np.array([2, 4, 6, 8, 10])\n",
    "\n",
    "# Calculate the slope (m) and intercept (b) using numpy's polyfit function\n",
    "m, b = np.polyfit(x, y, 1)\n",
    "\n",
    "# Print the linear equation\n",
    "print(f\"Linear equation: y = {m:.2f}x + {b:.2f}\")\n",
    "\n",
    "# Example usage: predict y for a given x\n",
    "x_pred = 6\n",
    "y_pred = m * x_pred + b\n",
    "print(f\"Predicted y for x = {x_pred}: {y_pred:.2f}\")"
   ]
  },
  {
   "cell_type": "markdown",
   "metadata": {},
   "source": [
    "69. Write a Python class called BSTNode representing a node in a binary search tree (BST), with attributes data, left, and right. Implement methods to insert a new node and search for a value in the BST. Demonstrate by inserting and searching for values."
   ]
  },
  {
   "cell_type": "code",
   "execution_count": null,
   "metadata": {},
   "outputs": [],
   "source": [
    "class BSTNode:\n",
    "    def __init__(self, data):\n",
    "        self.data = data\n",
    "        self.left = None\n",
    "        self.right = None\n",
    "\n",
    "    def insert(self, value):\n",
    "        if value < self.data:\n",
    "            if self.left is None:\n",
    "                self.left = BSTNode(value)\n",
    "            else:\n",
    "                self.left.insert(value)\n",
    "        else:\n",
    "            if self.right is None:\n",
    "                self.right = BSTNode(value)\n",
    "            else:\n",
    "                self.right.insert(value)\n",
    "\n",
    "    def search(self, value):\n",
    "        if value == self.data:\n",
    "            return True\n",
    "        elif value < self.data and self.left is not None:\n",
    "            return self.left.search(value)\n",
    "        elif value > self.data and self.right is not None:\n",
    "            return self.right.search(value)\n",
    "        return False\n",
    "\n",
    "# Demonstration\n",
    "root = BSTNode(5)\n",
    "root.insert(3)\n",
    "root.insert(7)\n",
    "root.insert(2)\n",
    "root.insert(4)\n",
    "root.insert(6)\n",
    "root.insert(8)\n",
    "\n",
    "print(root.search(2))  # Output: True\n",
    "print(root.search(6))  # Output: True\n",
    "print(root.search(9))  # Output: False"
   ]
  },
  {
   "cell_type": "markdown",
   "metadata": {},
   "source": [
    "70. Write a Python program that creates a pandas DataFrame representing sales data with columns Product, Category, and Sales. Group the data by Category and calculate the total sales for each category."
   ]
  },
  {
   "cell_type": "code",
   "execution_count": null,
   "metadata": {},
   "outputs": [],
   "source": [
    "import pandas as pd\n",
    "\n",
    "# Create a pandas DataFrame representing sales data\n",
    "data = {\n",
    "    \"Product\": [\"Product A\", \"Product B\", \"Product C\", \"Product D\", \"Product E\"],\n",
    "    \"Category\": [\"Category 1\", \"Category 2\", \"Category 1\", \"Category 2\", \"Category 1\"],\n",
    "    \"Sales\": [100, 200, 150, 250, 300]\n",
    "}\n",
    "df = pd.DataFrame(data)\n",
    "\n",
    "# Group the data by Category and calculate the total sales for each category\n",
    "category_sales = df.groupby(\"Category\")[\"Sales\"].sum().reset_index()\n",
    "\n",
    "# Print the resulting DataFrame\n",
    "print(category_sales)"
   ]
  },
  {
   "cell_type": "markdown",
   "metadata": {},
   "source": [
    "71. Write a Python program that creates two pandas DataFrames representing customer orders and their details. Merge the two DataFrames on a common OrderID column and print the merged DataFrame."
   ]
  },
  {
   "cell_type": "code",
   "execution_count": null,
   "metadata": {},
   "outputs": [],
   "source": [
    "import pandas as pd\n",
    "\n",
    "# Create a pandas DataFrame representing customer orders\n",
    "orders = {\n",
    "    \"OrderID\": [1, 2, 3, 4, 5],\n",
    "    \"CustomerName\": [\"John\", \"Jane\", \"Bob\", \"Alice\", \"Mike\"]\n",
    "}\n",
    "orders_df = pd.DataFrame(orders)\n",
    "\n",
    "# Create a pandas DataFrame representing order details\n",
    "order_details = {\n",
    "    \"OrderID\": [1, 2, 3, 4, 5],\n",
    "    \"Product\": [\"Product A\", \"Product B\", \"Product C\", \"Product D\", \"Product E\"],\n",
    "    \"Quantity\": [2, 3, 1, 4, 2]\n",
    "}\n",
    "order_details_df = pd.DataFrame(order_details)\n",
    "\n",
    "# Merge the two DataFrames on the OrderID column\n",
    "merged_df = pd.merge(orders_df, order_details_df, on=\"OrderID\")\n",
    "\n",
    "# Print the merged DataFrame\n",
    "print(merged_df)"
   ]
  },
  {
   "cell_type": "markdown",
   "metadata": {},
   "source": [
    "72. Write a Python program that creates a pandas DataFrame representing sales data with columns Product, Region, and Sales. Create a pivot table that shows the total sales for each product by region and print the pivot table."
   ]
  },
  {
   "cell_type": "code",
   "execution_count": null,
   "metadata": {},
   "outputs": [],
   "source": [
    "import pandas as pd\n",
    "\n",
    "# Create a pandas DataFrame representing sales data\n",
    "data = {\n",
    "    \"Product\": [\"Product A\", \"Product B\", \"Product A\", \"Product C\", \"Product B\", \"Product A\"],\n",
    "    \"Region\": [\"North\", \"South\", \"East\", \"West\", \"North\", \"East\"],\n",
    "    \"Sales\": [100, 200, 150, 300, 250, 120]\n",
    "}\n",
    "df = pd.DataFrame(data)\n",
    "\n",
    "# Create a pivot table that shows the total sales for each product by region\n",
    "pivot_table = pd.pivot_table(df, values=\"Sales\", index=\"Product\", columns=\"Region\", aggfunc=\"sum\")\n",
    "\n",
    "# Print the pivot table\n",
    "print(pivot_table)"
   ]
  },
  {
   "cell_type": "markdown",
   "metadata": {},
   "source": [
    "73. Create a simple Django project with a single app called blog. The app should have a model Post with fields title and content. Create and run the necessary migrations, then use Django's admin interface to add a new post."
   ]
  },
  {
   "cell_type": "code",
   "execution_count": null,
   "metadata": {},
   "outputs": [],
   "source": [
    "django-admin startproject myproject\n",
    "python manage.py startapp blog\n",
    "from django.db import models\n",
    "\n",
    "class Post(models.Model):\n",
    "    title = models.CharField(max_length=200)\n",
    "    content = models.TextField()\n",
    "    python manage.py makemigrations\n",
    "python manage.py migrate\n",
    "from django.contrib import admin\n",
    "from .models import Post\n",
    "\n",
    "admin.site.register(Post)\n",
    "admin.site.register(Post)python manage.py createsuperuser\n",
    "python manage.py runserver"
   ]
  },
  {
   "cell_type": "markdown",
   "metadata": {},
   "source": [
    "74. Write a Python function called merge_sort that implements the merge sort algorithm to sort a list of numbers in ascending order. Use this function to sort the list [12, 11, 13, 5, 6, 7] and print the sorted list."
   ]
  },
  {
   "cell_type": "code",
   "execution_count": null,
   "metadata": {},
   "outputs": [],
   "source": [
    "def merge_sort(arr):\n",
    "    if len(arr) <= 1:\n",
    "        return arr\n",
    "\n",
    "    mid = len(arr) // 2\n",
    "    left_half = arr[:mid]\n",
    "    right_half = arr[mid:]\n",
    "\n",
    "    return merge(merge_sort(left_half), merge_sort(right_half))\n",
    "\n",
    "\n",
    "def merge(left, right):\n",
    "    merged = []\n",
    "    left_index = 0\n",
    "    right_index = 0\n",
    "\n",
    "    while left_index < len(left) and right_index < len(right):\n",
    "        if left[left_index] < right[right_index]:\n",
    "            merged.append(left[left_index])\n",
    "            left_index += 1\n",
    "        else:\n",
    "            merged.append(right[right_index])\n",
    "            right_index += 1\n",
    "\n",
    "    merged.extend(left[left_index:])\n",
    "    merged.extend(right[right_index:])\n",
    "\n",
    "    return merged\n",
    "\n",
    "\n",
    "# Use the merge_sort function to sort the list [12, 11, 13, 5, 6, 7] and print the sorted list\n",
    "numbers = [12, 11, 13, 5, 6, 7]\n",
    "sorted_numbers = merge_sort(numbers)\n",
    "print(\"Sorted list:\", sorted_numbers)  # Output: Sorted list: [5, 6, 7, 11, 12, 13]"
   ]
  },
  {
   "cell_type": "markdown",
   "metadata": {},
   "source": [
    "75. Write a Python script that uses SQLAlchemy to connect to a SQLite database. Create a table called users with columns id, name, and email. Insert a few records, then query the table to retrieve and print the records."
   ]
  },
  {
   "cell_type": "code",
   "execution_count": null,
   "metadata": {},
   "outputs": [],
   "source": [
    "from sqlalchemy import create_engine, Column, Integer, String\n",
    "from sqlalchemy.ext.declarative import declarative_base\n",
    "from sqlalchemy.orm import sessionmaker\n",
    "\n",
    "# Create a SQLite engine\n",
    "engine = create_engine('sqlite:///users.db')\n",
    "\n",
    "# Create a configured \"Session\" class\n",
    "Session = sessionmaker(bind=engine)\n",
    "\n",
    "# Create a base class for declarative class definitions\n",
    "Base = declarative_base()\n",
    "\n",
    "# Define the User class\n",
    "class User(Base):\n",
    "    __tablename__ = 'users'\n",
    "    id = Column(Integer, primary_key=True)\n",
    "    name = Column(String)\n",
    "    email = Column(String)\n",
    "\n",
    "    def __repr__(self):\n",
    "        return f\"User(id={self.id}, name='{self.name}', email='{self.email}')\"\n",
    "\n",
    "# Create the table\n",
    "Base.metadata.create_all(engine)\n",
    "\n",
    "# Create a session\n",
    "session = Session()\n",
    "\n",
    "# Insert a few records\n",
    "session.add_all([\n",
    "    User(name='John Doe', email='john.doe@example.com'),\n",
    "    User(name='Jane Doe', email='jane.doe@example.com'),\n",
    "    User(name='Bob Smith', email='bob.smith@example.com')\n",
    "])\n",
    "session.commit()\n",
    "\n",
    "# Query the table to retrieve and print the records\n",
    "users = session.query(User).all()\n",
    "for user in users:\n",
    "    print(user)\n",
    "\n",
    "# Close the session\n",
    "session.close()"
   ]
  },
  {
   "cell_type": "markdown",
   "metadata": {},
   "source": [
    "76. Write a Python class called CustomError that inherits from Exception and takes an error message as an argument. Raise this custom exception in a function called check_positive if the input is not a positive number."
   ]
  },
  {
   "cell_type": "code",
   "execution_count": null,
   "metadata": {},
   "outputs": [],
   "source": [
    "class CustomError(Exception):\n",
    "    def __init__(self, message):\n",
    "        self.message = message\n",
    "        super().__init__(self.message)\n",
    "\n",
    "def check_positive(num):\n",
    "    if num <= 0:\n",
    "        raise CustomError(\"Input must be a positive number\")\n",
    "    else:\n",
    "        print(f\"Input {num} is a positive number\")\n",
    "\n",
    "# Test the function\n",
    "try:\n",
    "    check_positive(-5)\n",
    "except CustomError as e:\n",
    "    print(e)\n",
    "\n",
    "try:\n",
    "    check_positive(10)\n",
    "except CustomError as e:\n",
    "    print(e)"
   ]
  },
  {
   "cell_type": "markdown",
   "metadata": {},
   "source": [
    "77. Write a Python class called MaxHeap that implements a max heap data structure. Include methods to insert a new element, delete the maximum element, and print the heap."
   ]
  },
  {
   "cell_type": "code",
   "execution_count": null,
   "metadata": {},
   "outputs": [],
   "source": [
    "class MaxHeap:\n",
    "    def __init__(self):\n",
    "        self.heap = []\n",
    "\n",
    "    def insert(self, value):\n",
    "        self.heap.append(value)\n",
    "        self._heapify_up(len(self.heap) - 1)\n",
    "\n",
    "    def delete_max(self):\n",
    "        if len(self.heap) == 0:\n",
    "            return None\n",
    "        if len(self.heap) == 1:\n",
    "            return self.heap.pop()\n",
    "\n",
    "        max_value = self.heap[0]\n",
    "        self.heap[0] = self.heap.pop()\n",
    "        self._heapify_down(0)\n",
    "        return max_value\n",
    "\n",
    "    def print_heap(self):\n",
    "        print(self.heap)\n",
    "\n",
    "    def _heapify_up(self, index):\n",
    "        parent_index = (index - 1) // 2\n",
    "        if index > 0 and self.heap[parent_index] < self.heap[index]:\n",
    "            self.heap[parent_index], self.heap[index] = self.heap[index], self.heap[parent_index]\n",
    "            self._heapify_up(parent_index)\n",
    "\n",
    "    def _heapify_down(self, index):\n",
    "        left_child_index = 2 * index + 1\n",
    "        right_child_index = 2 * index + 2\n",
    "        largest = index\n",
    "\n",
    "        if left_child_index < len(self.heap) and self.heap[left_child_index] > self.heap[largest]:\n",
    "            largest = left_child_index\n",
    "\n",
    "        if right_child_index < len(self.heap) and self.heap[right_child_index] > self.heap[largest]:\n",
    "            largest = right_child_index\n",
    "\n",
    "        if largest != index:\n",
    "            self.heap[index], self.heap[largest] = self.heap[largest], self.heap[index]\n",
    "            self._heapify_down(largest)\n",
    "\n",
    "\n",
    "# Example usage:\n",
    "max_heap = MaxHeap()\n",
    "max_heap.insert(10)\n",
    "max_heap.insert(20)\n",
    "max_heap.insert(30)\n",
    "max_heap.print_heap()  # Output: [30, 20, 10]\n",
    "print(max_heap.delete_max())  # Output: 30\n",
    "max_heap.print_heap()  # Output: [20, 10]"
   ]
  },
  {
   "cell_type": "markdown",
   "metadata": {},
   "source": [
    "78.  Write a Python program that uses the threading module to run two functions concurrently. One function should print numbers from 1 to 5 with a delay of 1 second, and the other should print letters from A to E with a delay of 1.5 seconds."
   ]
  },
  {
   "cell_type": "code",
   "execution_count": null,
   "metadata": {},
   "outputs": [],
   "source": [
    "import threading\n",
    "import time\n",
    "\n",
    "def print_numbers():\n",
    "    for i in range(1, 6):\n",
    "        time.sleep(1)\n",
    "        print(i)\n",
    "\n",
    "def print_letters():\n",
    "    for letter in 'ABCDE':\n",
    "        time.sleep(1.5)\n",
    "        print(letter)\n",
    "\n",
    "# Create threads\n",
    "thread1 = threading.Thread(target=print_numbers)\n",
    "thread2 = threading.Thread(target=print_letters)\n",
    "\n",
    "# Start threads\n",
    "thread1.start()\n",
    "thread2.start()\n",
    "\n",
    "# Wait for both threads to finish\n",
    "thread1.join()\n",
    "thread2.join()"
   ]
  },
  {
   "cell_type": "markdown",
   "metadata": {},
   "source": [
    "79. Write a Python class called LRUCache that implements a least recently used (LRU) cache. The cache should have a maximum capacity, and when the capacity is reached, the least recently used item should be removed. Include methods to get and put items in the cache."
   ]
  },
  {
   "cell_type": "code",
   "execution_count": null,
   "metadata": {},
   "outputs": [],
   "source": [
    "from collections import OrderedDict\n",
    "\n",
    "class LRUCache:\n",
    "    def __init__(self, capacity):\n",
    "        self.capacity = capacity\n",
    "        self.cache = OrderedDict()\n",
    "\n",
    "    def get(self, key):\n",
    "        if key in self.cache:\n",
    "            value = self.cache.pop(key)\n",
    "            self.cache[key] = value  # Move to end to mark as recently used\n",
    "            return value\n",
    "        else:\n",
    "            return -1\n",
    "\n",
    "    def put(self, key, value):\n",
    "        if key in self.cache:\n",
    "            self.cache.pop(key)\n",
    "        elif len(self.cache) >= self.capacity:\n",
    "            self.cache.popitem(last=False)  # Remove oldest item\n",
    "        self.cache[key] = value\n",
    "\n",
    "\n",
    "# Example usage:\n",
    "cache = LRUCache(2)  # Create an LRU cache with capacity 2\n",
    "\n",
    "cache.put(1, 1)\n",
    "cache.put(2, 2)\n",
    "print(cache.get(1))  # Returns 1\n",
    "cache.put(3, 3)  # Evicts key 2\n",
    "print(cache.get(2))  # Returns -1 (not found)\n",
    "cache.put(4, 4)  # Evicts key 1\n",
    "print(cache.get(1))  # Returns -1 (not found)\n",
    "print(cache.get(3))  # Returns 3\n",
    "print(cache.get(4))  # Returns 4"
   ]
  },
  {
   "cell_type": "markdown",
   "metadata": {},
   "source": [
    "80. Write a Python class called MetaSingleton using a metaclass that ensures any class inheriting from it will be a singleton (i.e., only one instance of the class can exist). Demonstrate by creating two instances and showing they are the same."
   ]
  },
  {
   "cell_type": "code",
   "execution_count": null,
   "metadata": {},
   "outputs": [],
   "source": [
    "class SingletonMeta(type):\n",
    "    _instances = {}\n",
    "\n",
    "    def __call__(cls, *args, **kwargs):\n",
    "        if cls not in cls._instances:\n",
    "            cls._instances[cls] = super(SingletonMeta, cls).__call__(*args, **kwargs)\n",
    "        return cls._instances[cls]\n",
    "\n",
    "\n",
    "class MetaSingleton(metaclass=SingletonMeta):\n",
    "    pass\n",
    "\n",
    "\n",
    "# Demonstrate by creating two instances and showing they are the same\n",
    "instance1 = MetaSingleton()\n",
    "instance2 = MetaSingleton()\n",
    "\n",
    "print(instance1 is instance2)  # Output: True"
   ]
  },
  {
   "cell_type": "markdown",
   "metadata": {},
   "source": [
    "81. Write a Python generator function called prime_generator that yields an infinite sequence of prime numbers. Use the generator to print the first 10 prime numbers."
   ]
  },
  {
   "cell_type": "code",
   "execution_count": null,
   "metadata": {},
   "outputs": [],
   "source": [
    "def prime_generator():\n",
    "    num = 2\n",
    "    while True:\n",
    "        if all(num % i != 0 for i in range(2, int(num ** 0.5) + 1)):\n",
    "            yield num\n",
    "        num += 1\n",
    "\n",
    "\n",
    "# Use the generator to print the first 10 prime numbers\n",
    "generator = prime_generator()\n",
    "for _ in range(10):\n",
    "    print(next(generator))"
   ]
  },
  {
   "cell_type": "markdown",
   "metadata": {},
   "source": [
    "82. Write a Python decorator called memoize that caches the results of a function so that it doesn't have to recompute the results for the same inputs. Apply this decorator to a recursive function that calculates Fibonacci numbers."
   ]
  },
  {
   "cell_type": "code",
   "execution_count": null,
   "metadata": {},
   "outputs": [],
   "source": [
    "def memoize(func):\n",
    "    cache = dict()\n",
    "\n",
    "    def memoized_func(*args):\n",
    "        if args in cache:\n",
    "            return cache[args]\n",
    "        result = func(*args)\n",
    "        cache[args] = result\n",
    "        return result\n",
    "\n",
    "    return memoized_func\n",
    "\n",
    "\n",
    "@memoize\n",
    "def fibonacci(n):\n",
    "    if n < 2:\n",
    "        return n\n",
    "    return fibonacci(n-1) + fibonacci(n-2)\n",
    "\n",
    "\n",
    "# Test the memoized Fibonacci function\n",
    "print(fibonacci(10))  # Output: 55"
   ]
  },
  {
   "cell_type": "markdown",
   "metadata": {},
   "source": [
    "83. Write a Python program that uses the asyncio module to fetch the contents of three different URLs concurrently. Print the length of the content fetched from each URL."
   ]
  },
  {
   "cell_type": "code",
   "execution_count": null,
   "metadata": {},
   "outputs": [],
   "source": [
    "import asyncio\n",
    "import aiohttp\n",
    "\n",
    "async def fetch_url(session, url):\n",
    "    async with session.get(url) as response:\n",
    "        content = await response.text()\n",
    "        print(f\"Length of {url}: {len(content)}\")\n",
    "\n",
    "async def main():\n",
    "    urls = [\"http://example.com\", \"http://python.org\", \"http://github.com\"]\n",
    "    async with aiohttp.ClientSession() as session:\n",
    "        tasks = [fetch_url(session, url) for url in urls]\n",
    "        await asyncio.gather(*tasks)\n",
    "\n",
    "asyncio.run(main())"
   ]
  },
  {
   "cell_type": "markdown",
   "metadata": {},
   "source": [
    "84. Write a Python function called a_star that implements the A* search algorithm to find the shortest path in a grid. Use the function to find the shortest path from the top-left corner to the bottom-right corner of a 5x5 grid with some obstacles."
   ]
  },
  {
   "cell_type": "code",
   "execution_count": null,
   "metadata": {},
   "outputs": [],
   "source": [
    "import heapq\n",
    "\n",
    "def a_star(grid, start, goal):\n",
    "    # Define the possible movements (up, down, left, right)\n",
    "    movements = [(0, 1), (0, -1), (1, 0), (-1, 0)]\n",
    "    \n",
    "    # Initialize the open list (priority queue) and closed list\n",
    "    open_list = [(0, start)]\n",
    "    closed_list = set()\n",
    "    \n",
    "    # Initialize the cost and parent dictionaries\n",
    "    cost = {start: 0}\n",
    "    parent = {}\n",
    "    \n",
    "    while open_list:\n",
    "        # Get the node with the lowest f score (estimated total cost)\n",
    "        current_cost, current_node = heapq.heappop(open_list)\n",
    "        \n",
    "        # Check if the goal is reached\n",
    "        if current_node == goal:\n",
    "            path = []\n",
    "            while current_node in parent:\n",
    "                path.append(current_node)\n",
    "                current_node = parent[current_node]\n",
    "            path.append(start)\n",
    "            path.reverse()\n",
    "            return path\n",
    "        \n",
    "        # Mark the current node as visited\n",
    "        closed_list.add(current_node)\n",
    "        \n",
    "        # Explore the neighbors\n",
    "        for movement in movements:\n",
    "            neighbor = (current_node[0] + movement[0], current_node[1] + movement[1])\n",
    "            \n",
    "            # Check if the neighbor is within the grid boundaries and not an obstacle\n",
    "            if (0 <= neighbor[0] < len(grid)) and (0 <= neighbor[1] < len(grid[0])) and (grid[neighbor[0]][neighbor[1]] != 1):\n",
    "                # Calculate the tentative cost\n",
    "                tentative_cost = cost[current_node] + 1\n",
    "                \n",
    "                # Check if the neighbor is not visited or the new path is better\n",
    "                if neighbor not in cost or tentative_cost < cost[neighbor]:\n",
    "                    cost[neighbor] = tentative_cost\n",
    "                    priority = tentative_cost + abs(neighbor[0] - goal[0]) + abs(neighbor[1] - goal[1])\n",
    "                    heapq.heappush(open_list, (priority, neighbor))\n",
    "                    parent[neighbor] = current_node\n",
    "    \n",
    "    # No path found\n",
    "    return None\n",
    "\n",
    "# Example usage:\n",
    "grid = [\n",
    "    [0, 0, 0, 0, 0],\n",
    "    [0, 1, 1, 0, 0],\n",
    "    [0, 0, 0, 0, 0],\n",
    "    [0, 1, 0, 0, 0],\n",
    "    [0, 0, 0, 0, 0]\n",
    "]\n",
    "start = (0, 0)\n",
    "goal = (4, 4)\n",
    "\n",
    "path = a_star(grid, start, goal)\n",
    "print(path)  # Output: [(0, 0), (1, 0), (2, 0), (3, 0), (4, 0), (4, 1), (4, 2), (4, 3), (4, 4)]"
   ]
  },
  {
   "cell_type": "markdown",
   "metadata": {},
   "source": [
    "85. Write a Python class called Timer that implements a context manager to measure the time taken by a block of code. Use this context manager to time a loop that sums numbers from 1 to 1 million."
   ]
  },
  {
   "cell_type": "code",
   "execution_count": null,
   "metadata": {},
   "outputs": [],
   "source": [
    "import time\n",
    "from contextlib import contextmanager\n",
    "\n",
    "class Timer:\n",
    "    @contextmanager\n",
    "    def measure(self):\n",
    "        start_time = time.time()\n",
    "        try:\n",
    "            yield\n",
    "        finally:\n",
    "            end_time = time.time()\n",
    "            elapsed_time = end_time - start_time\n",
    "            print(f\"Time taken: {elapsed_time:.2f} seconds\")\n",
    "\n",
    "# Example usage:\n",
    "timer = Timer()\n",
    "\n",
    "with timer.measure():\n",
    "    total = sum(range(1, 1000001))\n",
    "\n",
    "print(f\"Sum: {total}\")"
   ]
  },
  {
   "cell_type": "markdown",
   "metadata": {},
   "source": [
    "86. Write a Python class called Graph that implements an undirected graph using an adjacency list. Include a method to perform depth-first search (DFS) starting from a given node. Demonstrate by creating a graph and performing DFS."
   ]
  },
  {
   "cell_type": "code",
   "execution_count": null,
   "metadata": {},
   "outputs": [],
   "source": [
    "class Graph:\n",
    "    def __init__(self):\n",
    "        self.adjacency_list = {}\n",
    "\n",
    "    def add_edge(self, node1, node2):\n",
    "        if node1 not in self.adjacency_list:\n",
    "            self.adjacency_list[node1] = []\n",
    "        if node2 not in self.adjacency_list:\n",
    "            self.adjacency_list[node2] = []\n",
    "        self.adjacency_list[node1].append(node2)\n",
    "        self.adjacency_list[node2].append(node1)\n",
    "\n",
    "    def dfs(self, start_node):\n",
    "        visited = set()\n",
    "        traversal_order = []\n",
    "\n",
    "        def dfs_helper(node):\n",
    "            visited.add(node)\n",
    "            traversal_order.append(node)\n",
    "            for neighbor in self.adjacency_list[node]:\n",
    "                if neighbor not in visited:\n",
    "                    dfs_helper(neighbor)\n",
    "\n",
    "        dfs_helper(start_node)\n",
    "        return traversal_order\n",
    "\n",
    "\n",
    "# Demonstration\n",
    "graph = Graph()\n",
    "graph.add_edge(0, 1)\n",
    "graph.add_edge(0, 2)\n",
    "graph.add_edge(1, 3)\n",
    "graph.add_edge(2, 4)\n",
    "\n",
    "print(\"Adjacency List:\")\n",
    "for node, neighbors in graph.adjacency_list.items():\n",
    "    print(f\"{node}: {neighbors}\")\n",
    "\n",
    "start_node = 0\n",
    "print(f\"\\nDFS Traversal starting from node {start_node}:\")\n",
    "print(graph.dfs(start_node))"
   ]
  },
  {
   "cell_type": "markdown",
   "metadata": {},
   "source": [
    "87. Write a Python program that uses matplotlib to plot the sine and cosine functions on the same graph. Label the axes and add a legend to distinguish between the two functions."
   ]
  },
  {
   "cell_type": "code",
   "execution_count": null,
   "metadata": {},
   "outputs": [],
   "source": [
    "import matplotlib.pyplot as plt\n",
    "import numpy as np\n",
    "\n",
    "# Generate x values from 0 to 4π\n",
    "x = np.linspace(0, 4 * np.pi, 1000)\n",
    "\n",
    "# Calculate sine and cosine values\n",
    "y_sin = np.sin(x)\n",
    "y_cos = np.cos(x)\n",
    "\n",
    "# Create the plot\n",
    "plt.plot(x, y_sin, label='Sine')\n",
    "plt.plot(x, y_cos, label='Cosine')\n",
    "\n",
    "# Label the axes and add a title\n",
    "plt.xlabel('x')\n",
    "plt.ylabel('y')\n",
    "plt.title('Sine and Cosine Functions')\n",
    "\n",
    "# Add a legend\n",
    "plt.legend()\n",
    "\n",
    "# Display the plot\n",
    "plt.show()"
   ]
  },
  {
   "cell_type": "markdown",
   "metadata": {},
   "source": [
    "88. Write a Python class called PriorityQueue that implements a priority queue using a heap. Include methods to insert an item with a priority and remove the item with the highest priority. Demonstrate by inserting and removing items. "
   ]
  },
  {
   "cell_type": "code",
   "execution_count": null,
   "metadata": {},
   "outputs": [],
   "source": [
    "import heapq\n",
    "\n",
    "class PriorityQueue:\n",
    "    def __init__(self):\n",
    "        self.heap = []\n",
    "\n",
    "    def insert(self, item, priority):\n",
    "        heapq.heappush(self.heap, (-priority, item))\n",
    "\n",
    "    def remove(self):\n",
    "        if self.heap:\n",
    "            return heapq.heappop(self.heap)[1]\n",
    "        else:\n",
    "            return None\n",
    "\n",
    "# Demonstration\n",
    "pq = PriorityQueue()\n",
    "\n",
    "pq.insert(\"Item 1\", 3)\n",
    "pq.insert(\"Item 2\", 1)\n",
    "pq.insert(\"Item 3\", 2)\n",
    "\n",
    "print(pq.remove())  # Output: Item 1\n",
    "print(pq.remove())  # Output: Item 3\n",
    "print(pq.remove())  # Output: Item 2\n",
    "print(pq.remove())  # Output: None"
   ]
  },
  {
   "cell_type": "markdown",
   "metadata": {},
   "source": [
    "89. Write a Python program that reads a JSON file containing a list of dictionaries, each representing a product with keys name, price, and quantity. Calculate the total value of the inventory and print it."
   ]
  },
  {
   "cell_type": "code",
   "execution_count": null,
   "metadata": {},
   "outputs": [],
   "source": [
    "import json\n",
    "\n",
    "def calculate_total_value(filename):\n",
    "    with open(filename, 'r') as file:\n",
    "        products = json.load(file)\n",
    "        total_value = sum(product['price'] * product['quantity'] for product in products)\n",
    "        return total_value\n",
    "\n",
    "filename = 'products.json'\n",
    "total_value = calculate_total_value(filename)\n",
    "print(f'Total value of the inventory: {total_value}')\n",
    "\n",
    "# Example products.json file:\n",
    "# [\n",
    "#     {\"name\": \"Product 1\", \"price\": 10.99, \"quantity\": 5},\n",
    "#     {\"name\": \"Product 2\", \"price\": 9.99, \"quantity\": 10},\n",
    "#     {\"name\": \"Product 3\", \"price\": 7.99, \"quantity\": 15}\n",
    "# ]"
   ]
  },
  {
   "cell_type": "markdown",
   "metadata": {},
   "source": [
    "90. Write a Python program that uses the NLTK library to create a simple rule-based chatbot. The chatbot should respond to greetings and a few predefined questions. Demonstrate a conversation with the chatbot."
   ]
  },
  {
   "cell_type": "code",
   "execution_count": null,
   "metadata": {},
   "outputs": [],
   "source": [
    "import nltk\n",
    "from nltk.stem import WordNetLemmatizer\n",
    "\n",
    "# Initialize the lemmatizer\n",
    "lemmatizer = WordNetLemmatizer()\n",
    "\n",
    "# Define the chatbot's rules\n",
    "rules = {\n",
    "    'greetings': ['hello', 'hi', 'hey'],\n",
    "    'responses': {\n",
    "        'greetings': 'Hello! How can I help you?',\n",
    "        'what_is_your_name': 'My name is Chatbot.',\n",
    "        'what_can_you_do': 'I can answer simple questions and have a conversation.'\n",
    "    }\n",
    "}\n",
    "\n",
    "# Define a function to process user input\n",
    "def process_input(user_input):\n",
    "    tokens = nltk.word_tokenize(user_input)\n",
    "    tokens = [lemmatizer.lemmatize(token) for token in tokens]\n",
    "    for token in tokens:\n",
    "        if token in rules['greetings']:\n",
    "            return rules['responses']['greetings']\n",
    "        elif token == 'name':\n",
    "            return rules['responses']['what_is_your_name']\n",
    "        elif token == 'can':\n",
    "            return rules['responses']['what_can_you_do']\n",
    "    return \"I didn't understand that. Please try again.\"\n",
    "\n",
    "# Demonstrate a conversation with the chatbot\n",
    "while True:\n",
    "    user_input = input('User: ')\n",
    "    response = process_input(user_input)\n",
    "    print('Chatbot:', response)"
   ]
  },
  {
   "cell_type": "markdown",
   "metadata": {},
   "source": [
    "91. Write a Python program that uses OpenCV to load an image, convert it to grayscale, and apply a Gaussian blur. Save and display the processed image."
   ]
  },
  {
   "cell_type": "code",
   "execution_count": null,
   "metadata": {},
   "outputs": [],
   "source": [
    "import cv2\n",
    "\n",
    "# Load the image\n",
    "image = cv2.imread('image.jpg')\n",
    "\n",
    "# Convert the image to grayscale\n",
    "gray_image = cv2.cvtColor(image, cv2.COLOR_BGR2GRAY)\n",
    "\n",
    "# Apply a Gaussian blur\n",
    "blurred_image = cv2.GaussianBlur(gray_image, (5, 5), 0)\n",
    "\n",
    "# Save the processed image\n",
    "cv2.imwrite('processed_image.jpg', blurred_image)\n",
    "\n",
    "# Display the processed image\n",
    "cv2.imshow('Processed Image', blurred_image)\n",
    "cv2.waitKey(0)\n",
    "cv2.destroyAllWindows()"
   ]
  },
  {
   "cell_type": "markdown",
   "metadata": {},
   "source": [
    "92. Write a Python program that implements a simple neural network from scratch using only NumPy. The network should have one hidden layer and should be trained using the backpropagation algorithm on a small dataset."
   ]
  },
  {
   "cell_type": "code",
   "execution_count": null,
   "metadata": {},
   "outputs": [],
   "source": [
    "import numpy as np\n",
    "\n",
    "# Define the activation functions and their derivatives\n",
    "def sigmoid(x):\n",
    "    return 1 / (1 + np.exp(-x))\n",
    "\n",
    "def sigmoid_derivative(x):\n",
    "    return x * (1 - x)\n",
    "\n",
    "# Define the neural network class\n",
    "class NeuralNetwork:\n",
    "    def __init__(self, input_nodes, hidden_nodes, output_nodes):\n",
    "        self.input_nodes = input_nodes\n",
    "        self.hidden_nodes = hidden_nodes\n",
    "        self.output_nodes = output_nodes\n",
    "\n",
    "        # Initialize weights randomly\n",
    "        self.weights1 = np.random.rand(self.input_nodes, self.hidden_nodes)\n",
    "        self.weights2 = np.random.rand(self.hidden_nodes, self.output_nodes)\n",
    "\n",
    "    def train(self, inputs, targets, learning_rate):\n",
    "        # Forward propagation\n",
    "        hidden_layer = sigmoid(np.dot(inputs, self.weights1))\n",
    "        outputs = sigmoid(np.dot(hidden_layer, self.weights2))\n",
    "\n",
    "        # Backward propagation\n",
    "        output_errors = targets - outputs\n",
    "        hidden_errors = output_errors.dot(self.weights2.T)\n",
    "\n",
    "        # Weight updates\n",
    "        self.weights2 += learning_rate * hidden_layer.T.dot(output_errors)\n",
    "        self.weights1 += learning_rate * inputs.T.dot(hidden_errors)\n",
    "\n",
    "    def predict(self, inputs):\n",
    "        hidden_layer = sigmoid(np.dot(inputs, self.weights1))\n",
    "        outputs = sigmoid(np.dot(hidden_layer, self.weights2))\n",
    "        return outputs\n",
    "\n",
    "# Example usage\n",
    "nn = NeuralNetwork(2, 2, 1)\n",
    "\n",
    "# Training data\n",
    "inputs = np.array([[0, 0], [0, 1], [1, 0], [1, 1]])\n",
    "targets = np.array([[0], [1], [1], [0]])\n",
    "\n",
    "# Train the network\n",
    "for _ in range(10000):\n",
    "    nn.train(inputs, targets, 0.1)\n",
    "\n",
    "# Make predictions\n",
    "print(nn.predict(inputs))"
   ]
  },
  {
   "cell_type": "markdown",
   "metadata": {},
   "source": [
    "93. Write a Flask application that connects to a SQLite database to store and retrieve user information. Implement routes to add a new user, retrieve all users, and delete a user by ID."
   ]
  },
  {
   "cell_type": "code",
   "execution_count": null,
   "metadata": {},
   "outputs": [],
   "source": [
    "from flask import Flask, request, jsonify\n",
    "import sqlite3\n",
    "\n",
    "app = Flask(__name__)\n",
    "\n",
    "# Connect to the SQLite database\n",
    "conn = sqlite3.connect('users.db')\n",
    "cursor = conn.cursor()\n",
    "\n",
    "# Create the users table if it doesn't exist\n",
    "cursor.execute('''\n",
    "    CREATE TABLE IF NOT EXISTS users\n",
    "    (id INTEGER PRIMARY KEY, name TEXT, email TEXT)\n",
    "''')\n",
    "conn.commit()\n",
    "\n",
    "# Route to add a new user\n",
    "@app.route('/users', methods=['POST'])\n",
    "def add_user():\n",
    "    name = request.json['name']\n",
    "    email = request.json['email']\n",
    "    cursor.execute('INSERT INTO users (name, email) VALUES (?, ?)', (name, email))\n",
    "    conn.commit()\n",
    "    return jsonify({'message': 'User added successfully'}), 201\n",
    "\n",
    "# Route to retrieve all users\n",
    "@app.route('/users', methods=['GET'])\n",
    "def get_users():\n",
    "    cursor.execute('SELECT * FROM users')\n",
    "    users = cursor.fetchall()\n",
    "    return jsonify([{'id': user[0], 'name': user[1], 'email': user[2]} for user in users])\n",
    "\n",
    "# Route to delete a user by ID\n",
    "@app.route('/users/<int:user_id>', methods=['DELETE'])\n",
    "def delete_user(user_id):\n",
    "    cursor.execute('DELETE FROM users WHERE id = ?', (user_id,))\n",
    "    conn.commit()\n",
    "    return jsonify({'message': 'User deleted successfully'}), 200\n",
    "\n",
    "if __name__ == '__main__':\n",
    "    app.run(debug=True)"
   ]
  },
  {
   "cell_type": "markdown",
   "metadata": {},
   "source": [
    "94. Write a Python program that uses Selenium to automate the process of logging into a website and navigating to a specific page. Provide instructions for testing the automation."
   ]
  },
  {
   "cell_type": "code",
   "execution_count": null,
   "metadata": {},
   "outputs": [],
   "source": [
    "from selenium import webdriver\n",
    "from selenium.webdriver.common.keys import Keys\n",
    "from selenium.webdriver.common.by import By\n",
    "from selenium.webdriver.support.ui import WebDriverWait\n",
    "from selenium.webdriver.support import expected_conditions as EC\n",
    "\n",
    "# Replace with the website's URL\n",
    "url = \"https://example.com\"\n",
    "\n",
    "# Replace with the username and password\n",
    "username = \"your_username\"\n",
    "password = \"your_password\"\n",
    "\n",
    "# Replace with the specific page's URL\n",
    "page_url = \"https://example.com/specific-page\"\n",
    "\n",
    "# Set up the WebDriver\n",
    "driver = webdriver.Chrome()  # Use Chrome as the browser\n",
    "\n",
    "try:\n",
    "    # Navigate to the website\n",
    "    driver.get(url)\n",
    "\n",
    "    # Wait for the login form to load\n",
    "    username_input = WebDriverWait(driver, 10).until(\n",
    "        EC.presence_of_element_located((By.NAME, \"username\"))\n",
    "    )\n",
    "    password_input = driver.find_element(By.NAME, \"password\")\n",
    "\n",
    "    # Enter the username and password\n",
    "    username_input.send_keys(username)\n",
    "    password_input.send_keys(password)\n",
    "\n",
    "    # Submit the login form\n",
    "    password_input.send_keys(Keys.RETURN)\n",
    "\n",
    "    # Wait for the specific page to load\n",
    "    driver.get(page_url)\n",
    "    WebDriverWait(driver, 10).until(\n",
    "        EC.title_contains(\"Specific Page\")\n",
    "    )\n",
    "\n",
    "    # Print a success message\n",
    "    print(\"Successfully logged in and navigated to the specific page!\")\n",
    "\n",
    "finally:\n",
    "    # Close the browser\n",
    "    driver.quit()"
   ]
  },
  {
   "cell_type": "markdown",
   "metadata": {},
   "source": [
    "95. Write a Python program that uses Scikit-learn to build a logistic regression model to classify a dataset. Train the model on the Iris dataset, evaluate its accuracy, and print the results."
   ]
  },
  {
   "cell_type": "code",
   "execution_count": null,
   "metadata": {},
   "outputs": [],
   "source": [
    "from sklearn.datasets import load_iris\n",
    "from sklearn.model_selection import train_test_split\n",
    "from sklearn.linear_model import LogisticRegression\n",
    "from sklearn.metrics import accuracy_score, classification_report\n",
    "\n",
    "# Load the Iris dataset\n",
    "iris = load_iris()\n",
    "X = iris.data\n",
    "y = iris.target\n",
    "\n",
    "# Split the dataset into training and testing sets\n",
    "X_train, X_test, y_train, y_test = train_test_split(X, y, test_size=0.2, random_state=42)\n",
    "\n",
    "# Create a logistic regression model\n",
    "model = LogisticRegression(max_iter=1000)\n",
    "\n",
    "# Train the model on the training data\n",
    "model.fit(X_train, y_train)\n",
    "\n",
    "# Make predictions on the testing data\n",
    "y_pred = model.predict(X_test)\n",
    "\n",
    "# Evaluate the model's accuracy\n",
    "accuracy = accuracy_score(y_test, y_pred)\n",
    "print(\"Accuracy:\", accuracy)\n",
    "\n",
    "# Print a classification report\n",
    "print(\"Classification Report:\")\n",
    "print(classification_report(y_test, y_pred))"
   ]
  },
  {
   "cell_type": "markdown",
   "metadata": {},
   "source": [
    "96. Write a Python function called knapsack that solves the 0/1 knapsack problem using dynamic programming. Given a list of items with weights and values, and a maximum weight capacity, find the maximum value that can be obtained."
   ]
  },
  {
   "cell_type": "code",
   "execution_count": null,
   "metadata": {},
   "outputs": [],
   "source": [
    "def knapsack(items, capacity):\n",
    "    # Create a 2D table to store the maximum values\n",
    "    table = [[0 for _ in range(capacity + 1)] for _ in range(len(items) + 1)]\n",
    "\n",
    "    # Iterate over each item\n",
    "    for i in range(1, len(items) + 1):\n",
    "        # Iterate over each possible weight from 1 to capacity\n",
    "        for w in range(1, capacity + 1):\n",
    "            # If the current item's weight is less than or equal to the current weight\n",
    "            if items[i - 1][0] <= w:\n",
    "                # Choose the maximum value between including the current item and excluding it\n",
    "                table[i][w] = max(table[i - 1][w], table[i - 1][w - items[i - 1][0]] + items[i - 1][1])\n",
    "            else:\n",
    "                # The current item's weight exceeds the current weight, so exclude it\n",
    "                table[i][w] = table[i - 1][w]\n",
    "\n",
    "    # The maximum value is stored in the last cell of the table\n",
    "    return table[-1][-1]\n",
    "\n",
    "# Example usage:\n",
    "items = [(2, 6), (2, 3), (6, 5), (5, 4), (4, 6)]  # (weight, value)\n",
    "capacity = 10\n",
    "max_value = knapsack(items, capacity)\n",
    "print(\"Maximum value:\", max_value)"
   ]
  },
  {
   "cell_type": "markdown",
   "metadata": {},
   "source": [
    "97. Write a Python program using the Scrapy framework to scrape product information (name, price, availability) from an e-commerce website and store the results in a CSV file."
   ]
  },
  {
   "cell_type": "code",
   "execution_count": null,
   "metadata": {},
   "outputs": [],
   "source": [
    "import scrapy\n",
    "import csv\n",
    "\n",
    "class ProductScraper(scrapy.Spider):\n",
    "    name = \"product_scraper\"\n",
    "    start_urls = [\n",
    "        'https://example.com/products',\n",
    "    ]\n",
    "\n",
    "    def parse(self, response):\n",
    "        products = response.css('div.product')\n",
    "        for product in products:\n",
    "            yield {\n",
    "                'name': product.css('h2::text').get(),\n",
    "                'price': product.css('span.price::text').get(),\n",
    "                'availability': product.css('span.availability::text').get(),\n",
    "            }\n",
    "\n",
    "        next_page = response.css('li.next a::attr(href)').get()\n",
    "        if next_page is not None:\n",
    "            yield response.follow(next_page, self.parse)\n",
    "\n",
    "    def close(self, reason):\n",
    "        with open('products.csv', 'w', newline='') as file:\n",
    "            writer = csv.DictWriter(file, fieldnames=['name', 'price', 'availability'])\n",
    "            writer.writeheader()\n",
    "            for item in self.crawler.stats.get_value('item_scraped_count'):\n",
    "                writer.writerow(item)\n",
    "\n",
    "# Run the spider using: scrapy crawl product_scraper"
   ]
  },
  {
   "cell_type": "markdown",
   "metadata": {},
   "source": [
    "98. Write a Python program that uses TensorFlow to implement a simple convolutional neural network (CNN) for image classification. Train the network on the CIFAR-10 dataset and evaluate its performance."
   ]
  },
  {
   "cell_type": "code",
   "execution_count": null,
   "metadata": {},
   "outputs": [],
   "source": [
    "import tensorflow as tf\n",
    "from tensorflow.keras import datasets, layers, models\n",
    "\n",
    "# Load the CIFAR-10 dataset\n",
    "(train_images, train_labels), (test_images, test_labels) = datasets.cifar10.load_data()\n",
    "\n",
    "# Normalize pixel values to be between 0 and 1\n",
    "train_images, test_images = train_images / 255.0, test_images / 255.0\n",
    "\n",
    "# Define the CNN model\n",
    "model = models.Sequential()\n",
    "model.add(layers.Conv2D(32, (3, 3), activation='relu', input_shape=(32, 32, 3)))\n",
    "model.add(layers.MaxPooling2D((2, 2)))\n",
    "model.add(layers.Conv2D(64, (3, 3), activation='relu'))\n",
    "model.add(layers.MaxPooling2D((2, 2)))\n",
    "model.add(layers.Conv2D(64, (3, 3), activation='relu'))\n",
    "model.add(layers.Flatten())\n",
    "model.add(layers.Dense(64, activation='relu'))\n",
    "model.add(layers.Dense(10))\n",
    "\n",
    "# Compile the model\n",
    "model.compile(optimizer='adam',\n",
    "              loss=tf.keras.losses.SparseCategoricalCrossentropy(from_logits=True),\n",
    "              metrics=['accuracy'])\n",
    "\n",
    "# Train the model\n",
    "model.fit(train_images, train_labels, epochs=10, validation_data=(test_images, test_labels))\n",
    "\n",
    "# Evaluate the model\n",
    "test_loss, test_acc = model.evaluate(test_images,  test_labels, verbose=2)\n",
    "print('\\nTest accuracy:', test_acc)"
   ]
  },
  {
   "cell_type": "markdown",
   "metadata": {},
   "source": [
    "99. Write a Python program that uses PyTorch to implement a simple recurrent neural network (RNN) for text classification. Train the network on a small text dataset and print the accuracy."
   ]
  },
  {
   "cell_type": "code",
   "execution_count": null,
   "metadata": {},
   "outputs": [],
   "source": [
    "import torch\n",
    "import torch.nn as nn\n",
    "import torch.optim as optim\n",
    "from torch.utils.data import Dataset, DataLoader\n",
    "import numpy as np\n",
    "\n",
    "# Define a custom dataset class for our text data\n",
    "class TextDataset(Dataset):\n",
    "    def __init__(self, texts, labels):\n",
    "        self.texts = texts\n",
    "        self.labels = labels\n",
    "\n",
    "    def __len__(self):\n",
    "        return len(self.texts)\n",
    "\n",
    "    def __getitem__(self, idx):\n",
    "        text = self.texts[idx]\n",
    "        label = self.labels[idx]\n",
    "        return {\n",
    "            'text': torch.tensor(text),\n",
    "            'label': torch.tensor(label)\n",
    "        }\n",
    "\n",
    "# Create a small text dataset\n",
    "texts = np.random.randint(0, 100, size=(100, 10))  # 100 texts, 10 words each\n",
    "labels = np.random.randint(0, 2, size=(100,))  # 100 labels (0 or 1)\n",
    "\n",
    "# Create data loaders\n",
    "dataset = TextDataset(texts, labels)\n",
    "batch_size = 32\n",
    "data_loader = DataLoader(dataset, batch_size=batch_size, shuffle=True)\n",
    "\n",
    "# Define the RNN model\n",
    "class TextRNN(nn.Module):\n",
    "    def __init__(self, input_dim, hidden_dim, output_dim):\n",
    "        super(TextRNN, self).__init__()\n",
    "        self.rnn = nn.RNN(input_dim, hidden_dim, batch_first=True)\n",
    "        self.fc = nn.Linear(hidden_dim, output_dim)\n",
    "\n",
    "    def forward(self, x):\n",
    "        h0 = torch.zeros(1, x.size(0), self.hidden_dim).to(x.device)\n",
    "        out, _ = self.rnn(x, h0)\n",
    "        out = self.fc(out[:, -1, :])\n",
    "        return out\n",
    "\n",
    "input_dim = 100\n",
    "hidden_dim = 128\n",
    "output_dim = 2\n",
    "model = TextRNN(input_dim, hidden_dim, output_dim)\n",
    "\n",
    "# Define the loss function and optimizer\n",
    "criterion = nn.CrossEntropyLoss()\n",
    "optimizer = optim.Adam(model.parameters(), lr=0.001)\n",
    "\n",
    "# Train the model\n",
    "for epoch in range(10):\n",
    "    for batch in data_loader:\n",
    "        texts = batch['text'].float()\n",
    "        labels = batch['label'].long()\n",
    "        optimizer.zero_grad()\n",
    "        outputs = model(texts)\n",
    "        loss = criterion(outputs, labels)\n",
    "        loss.backward()\n",
    "        optimizer.step()\n",
    "    print(f'Epoch {epoch+1}, Loss: {loss.item()}')\n",
    "\n",
    "# Evaluate the model\n",
    "model.eval()\n",
    "total_correct = 0\n",
    "with torch.no_grad():\n",
    "    for batch in data_loader:\n",
    "        texts = batch['text'].float()\n",
    "        labels = batch['label'].long()\n",
    "        outputs = model(texts)\n",
    "        _, predicted = torch.max(outputs, dim=1)\n",
    "        total_correct += (predicted == labels).sum().item()\n",
    "\n",
    "accuracy = total_correct / len(dataset)\n",
    "print(f'Accuracy: {accuracy:.4f}')"
   ]
  },
  {
   "cell_type": "markdown",
   "metadata": {},
   "source": [
    "100. Write a Python program that builds a recommendation system using collaborative filtering. Use a sample dataset of user-item interactions, and recommend items to a user based on similar users' preferences."
   ]
  },
  {
   "cell_type": "code",
   "execution_count": null,
   "metadata": {},
   "outputs": [],
   "source": [
    "import numpy as np\n",
    "from scipy.sparse import csr_matrix\n",
    "from sklearn.neighbors import NearestNeighbors\n",
    "\n",
    "# Sample dataset of user-item interactions\n",
    "user_item_interactions = np.array([\n",
    "    [1, 1, 0, 0, 0],\n",
    "    [0, 0, 1, 1, 0],\n",
    "    [1, 0, 1, 0, 0],\n",
    "    [0, 1, 0, 1, 0],\n",
    "    [1, 1, 1, 1, 1]\n",
    "])\n",
    "\n",
    "# Convert the interaction matrix to a sparse matrix\n",
    "sparse_matrix = csr_matrix(user_item_interactions)\n",
    "\n",
    "# Create a nearest neighbors model\n",
    "model = NearestNeighbors(n_neighbors=2, algorithm='brute', metric='cosine')\n",
    "\n",
    "# Fit the model to the sparse matrix\n",
    "model.fit(sparse_matrix)\n",
    "\n",
    "# Function to recommend items to a user\n",
    "def recommend_items(user_id, num_recommendations):\n",
    "    # Get the user's interaction vector\n",
    "    user_vector = sparse_matrix[user_id]\n",
    "\n",
    "    # Find the nearest neighbors\n",
    "    distances, indices = model.kneighbors(user_vector)\n",
    "\n",
    "    # Get the recommended items\n",
    "    recommended_items = []\n",
    "    for index in indices[0]:\n",
    "        if index != user_id:\n",
    "            recommended_items.extend(np.where(sparse_matrix[index].toarray()[0] == 1)[0].tolist())\n",
    "\n",
    "    # Remove duplicate items and exclude items the user has already interacted with\n",
    "    recommended_items = list(set(recommended_items) - set(np.where(user_vector.toarray()[0] == 1)[0].tolist()))\n",
    "\n",
    "    # Return the top N recommended items\n",
    "    return recommended_items[:num_recommendations]\n",
    "\n",
    "# Recommend items to user 0\n",
    "recommended_items = recommend_items(0, 2)\n",
    "print(\"Recommended items for user 0:\", recommended_items)"
   ]
  },
  {
   "cell_type": "markdown",
   "metadata": {},
   "source": [
    "#### MODEL : BLACKBOX AI"
   ]
  },
  {
   "cell_type": "markdown",
   "metadata": {},
   "source": [
    "1. Write a Python program that prints the string 'Hello, World!' to the console"
   ]
  },
  {
   "cell_type": "code",
   "execution_count": null,
   "metadata": {},
   "outputs": [],
   "source": [
    "print(\"Hello, World!\")"
   ]
  },
  {
   "cell_type": "markdown",
   "metadata": {},
   "source": [
    "2. Write a Python program that concatenates the strings 'Hello' and 'World' with a space in between and prints the result"
   ]
  },
  {
   "cell_type": "code",
   "execution_count": null,
   "metadata": {},
   "outputs": [],
   "source": [
    "hello = \"Hello\"\n",
    "world = \"World\"\n",
    "result = hello + \" \" + world\n",
    "print(result)"
   ]
  },
  {
   "cell_type": "markdown",
   "metadata": {},
   "source": [
    "3. Create a Python list containing the numbers 1, 2, and 3. Print the list to the console."
   ]
  },
  {
   "cell_type": "code",
   "execution_count": null,
   "metadata": {},
   "outputs": [],
   "source": [
    "my_list = [1, 2, 3]\n",
    "print(my_list)"
   ]
  },
  {
   "cell_type": "markdown",
   "metadata": {},
   "source": [
    "4. Write a Python program that adds the number 4 to the list [1, 2, 3] and prints the updated list."
   ]
  },
  {
   "cell_type": "code",
   "execution_count": null,
   "metadata": {},
   "outputs": [],
   "source": [
    "my_list = [1, 2, 3]\n",
    "my_list.append(4)\n",
    "print(my_list)"
   ]
  },
  {
   "cell_type": "markdown",
   "metadata": {},
   "source": [
    "5. Write a Python program that removes the number 2 from the list [1, 2, 3] and prints the updated list"
   ]
  },
  {
   "cell_type": "code",
   "execution_count": null,
   "metadata": {},
   "outputs": [],
   "source": [
    "my_list = [1, 2, 3]\n",
    "my_list.remove(2)\n",
    "print(my_list)"
   ]
  },
  {
   "cell_type": "code",
   "execution_count": null,
   "metadata": {},
   "outputs": [],
   "source": [
    "my_list = [1, 2, 3]\n",
    "my_list.pop(1)\n",
    "print(my_list)"
   ]
  },
  {
   "cell_type": "code",
   "execution_count": null,
   "metadata": {},
   "outputs": [],
   "source": [
    "my_list = [1, 2, 3]\n",
    "new_list = [x for x in my_list if x != 2]\n",
    "print(new_list)"
   ]
  },
  {
   "cell_type": "markdown",
   "metadata": {},
   "source": [
    "6. Write a Python program that sorts the list [3, 1, 2] in ascending order and prints the sorted list"
   ]
  },
  {
   "cell_type": "code",
   "execution_count": null,
   "metadata": {},
   "outputs": [],
   "source": [
    "my_list = [3, 1, 2]\n",
    "my_list.sort()\n",
    "print(my_list)"
   ]
  },
  {
   "cell_type": "code",
   "execution_count": null,
   "metadata": {},
   "outputs": [],
   "source": [
    "my_list = [3, 1, 2]\n",
    "sorted_list = sorted(my_list)\n",
    "print(sorted_list)"
   ]
  },
  {
   "cell_type": "code",
   "execution_count": null,
   "metadata": {},
   "outputs": [],
   "source": [
    "my_list = [3, 1, 2]\n",
    "my_list.sort(reverse=True)\n",
    "print(my_list)"
   ]
  },
  {
   "cell_type": "markdown",
   "metadata": {},
   "source": [
    "7. Write a Python program that reverses the list [1, 2, 3] and prints the reversed list."
   ]
  },
  {
   "cell_type": "code",
   "execution_count": null,
   "metadata": {},
   "outputs": [],
   "source": [
    "my_list = [1, 2, 3]\n",
    "my_list.reverse()\n",
    "print(my_list)"
   ]
  },
  {
   "cell_type": "code",
   "execution_count": null,
   "metadata": {},
   "outputs": [],
   "source": [
    "my_list = [1, 2, 3]\n",
    "reversed_list = my_list[::-1]\n",
    "print(reversed_list)"
   ]
  },
  {
   "cell_type": "code",
   "execution_count": null,
   "metadata": {},
   "outputs": [],
   "source": [
    "my_list = [1, 2, 3]\n",
    "reversed_list = list(reversed(my_list))\n",
    "print(reversed_list)"
   ]
  },
  {
   "cell_type": "markdown",
   "metadata": {},
   "source": [
    "8. Create a Python dictionary with the keys 'a', 'b', and 'c' and corresponding values 1, 2, and 3. Print the dictionary to the console."
   ]
  },
  {
   "cell_type": "code",
   "execution_count": null,
   "metadata": {},
   "outputs": [],
   "source": [
    "my_dict = {'a': 1, 'b': 2, 'c': 3}\n",
    "print(my_dict)"
   ]
  },
  {
   "cell_type": "markdown",
   "metadata": {},
   "source": [
    "9. Write a Python program that accesses the value associated with the key 'b' in the dictionary {'a': 1, 'b': 2, 'c': 3} and prints it"
   ]
  },
  {
   "cell_type": "code",
   "execution_count": null,
   "metadata": {},
   "outputs": [],
   "source": [
    "my_dict = {'a': 1, 'b': 2, 'c': 3}\n",
    "print(my_dict['b'])"
   ]
  },
  {
   "cell_type": "code",
   "execution_count": null,
   "metadata": {},
   "outputs": [],
   "source": [
    "my_dict = {'a': 1, 'b': 2, 'c': 3}\n",
    "print(my_dict['d'])  # raises KeyError: 'd'"
   ]
  },
  {
   "cell_type": "code",
   "execution_count": null,
   "metadata": {},
   "outputs": [],
   "source": [
    "my_dict = {'a': 1, 'b': 2, 'c': 3}\n",
    "print(my_dict.get('d'))  # prints None"
   ]
  },
  {
   "cell_type": "markdown",
   "metadata": {},
   "source": [
    "10. Create a tuple (1, 2, 3) and print the first element of the tuple"
   ]
  },
  {
   "cell_type": "code",
   "execution_count": null,
   "metadata": {},
   "outputs": [],
   "source": [
    "my_tuple = (1, 2, 3)\n",
    "print(my_tuple[0])"
   ]
  },
  {
   "cell_type": "markdown",
   "metadata": {},
   "source": [
    "11. Write a Python program that checks if a number is greater than 10. If it is, print 'Greater', otherwise print 'Not Greater'"
   ]
  },
  {
   "cell_type": "code",
   "execution_count": null,
   "metadata": {},
   "outputs": [],
   "source": [
    "num = 12  # replace with the number you want to check\n",
    "\n",
    "if num > 10:\n",
    "    print('Greater')\n",
    "else:\n",
    "    print('Not Greater')"
   ]
  },
  {
   "cell_type": "markdown",
   "metadata": {},
   "source": [
    "12. Write a Python program that uses a for loop to iterate over the list [1, 2, 3] and prints each element.\""
   ]
  },
  {
   "cell_type": "code",
   "execution_count": null,
   "metadata": {},
   "outputs": [],
   "source": [
    "my_list = [1, 2, 3]\n",
    "\n",
    "for element in my_list:\n",
    "    print(element)"
   ]
  },
  {
   "cell_type": "markdown",
   "metadata": {},
   "source": [
    "13. Write a Python program that uses a while loop to print the numbers from 1 to 5."
   ]
  },
  {
   "cell_type": "code",
   "execution_count": null,
   "metadata": {},
   "outputs": [],
   "source": [
    "i = 1\n",
    "while i <= 5:\n",
    "    print(i)\n",
    "    i += 1"
   ]
  },
  {
   "cell_type": "markdown",
   "metadata": {},
   "source": [
    "14. Write a Python function called greet that takes no arguments and prints 'Hello!' when called."
   ]
  },
  {
   "cell_type": "code",
   "execution_count": null,
   "metadata": {},
   "outputs": [],
   "source": [
    "def greet():\n",
    "    print('Hello!')"
   ]
  },
  {
   "cell_type": "code",
   "execution_count": null,
   "metadata": {},
   "outputs": [],
   "source": [
    ">>> greet()\n",
    "Hello!"
   ]
  },
  {
   "cell_type": "markdown",
   "metadata": {},
   "source": [
    "15. Write a Python function called add that takes two arguments and returns their sum. Call the function with the arguments 3 and 5, and print the result."
   ]
  },
  {
   "cell_type": "code",
   "execution_count": null,
   "metadata": {},
   "outputs": [],
   "source": [
    "def add(a, b):\n",
    "    return a + b\n",
    "result = add(3, 5)\n",
    "print(result)"
   ]
  },
  {
   "cell_type": "code",
   "execution_count": null,
   "metadata": {},
   "outputs": [],
   "source": [
    "print(add(3, 5))"
   ]
  },
  {
   "cell_type": "markdown",
   "metadata": {},
   "source": [
    "16. Write a Python function called square that takes a number as an argument and returns its square. Call the function with the argument 4, and print the result"
   ]
  },
  {
   "cell_type": "code",
   "execution_count": null,
   "metadata": {},
   "outputs": [],
   "source": [
    "def square(n):\n",
    "    return n ** 2\n",
    "result = square(4)\n",
    "print(result)"
   ]
  },
  {
   "cell_type": "code",
   "execution_count": null,
   "metadata": {},
   "outputs": [],
   "source": [
    "print(square(4))"
   ]
  },
  {
   "cell_type": "markdown",
   "metadata": {},
   "source": [
    "17. Write a Python program that opens a file named 'example.txt' in read mode and prints its contents to the console."
   ]
  },
  {
   "cell_type": "code",
   "execution_count": null,
   "metadata": {},
   "outputs": [],
   "source": [
    "# Open the file in read mode\n",
    "with open('example.txt', 'r') as file:\n",
    "    # Read the contents of the file\n",
    "    contents = file.read()\n",
    "    # Print the contents to the console\n",
    "    print(contents)"
   ]
  },
  {
   "cell_type": "markdown",
   "metadata": {},
   "source": [
    "18. Write a Python program that opens a file named 'output.txt' in write mode, writes the string 'Hello, World!' to the file, and then closes the file."
   ]
  },
  {
   "cell_type": "code",
   "execution_count": null,
   "metadata": {},
   "outputs": [],
   "source": [
    "# Open the file in write mode\n",
    "with open('output.txt', 'w') as file:\n",
    "    # Write the string to the file\n",
    "    file.write('Hello, World!')"
   ]
  },
  {
   "cell_type": "markdown",
   "metadata": {},
   "source": [
    "19. Write a Python program that opens a file named 'output.txt' in append mode, writes the string 'Appending this line.' to the file, and then closes the file."
   ]
  },
  {
   "cell_type": "code",
   "execution_count": null,
   "metadata": {},
   "outputs": [],
   "source": [
    "# Open the file in append mode\n",
    "with open('output.txt', 'a') as file:\n",
    "    # Write the string to the file\n",
    "    file.write('Appending this line.\\n')"
   ]
  },
  {
   "cell_type": "markdown",
   "metadata": {},
   "source": [
    "20. Write a Python program that opens a file named 'example.txt' in read mode and prints each line to the console, one by one."
   ]
  },
  {
   "cell_type": "code",
   "execution_count": null,
   "metadata": {},
   "outputs": [],
   "source": [
    "# Open the file in read mode\n",
    "with open('example.txt', 'r') as file:\n",
    "    # Read the file line by line\n",
    "    for line in file:\n",
    "        # Print the line to the console\n",
    "        print(line.strip())"
   ]
  },
  {
   "cell_type": "markdown",
   "metadata": {},
   "source": [
    "21. Write a Python program that raises a ValueError with the message 'An error occurred'."
   ]
  },
  {
   "cell_type": "code",
   "execution_count": null,
   "metadata": {},
   "outputs": [],
   "source": [
    "raise ValueError('An error occurred')"
   ]
  },
  {
   "cell_type": "code",
   "execution_count": null,
   "metadata": {},
   "outputs": [],
   "source": [
    "ValueError: An error occurred"
   ]
  },
  {
   "cell_type": "code",
   "execution_count": null,
   "metadata": {},
   "outputs": [],
   "source": [
    "def example_function():\n",
    "    # Some code here\n",
    "    if some_condition:\n",
    "        raise ValueError('An error occurred')\n",
    "    # More code here\n",
    "\n",
    "example_function()"
   ]
  },
  {
   "cell_type": "code",
   "execution_count": null,
   "metadata": {},
   "outputs": [],
   "source": [
    "try:\n",
    "    raise ValueError('An error occurred')\n",
    "except ValueError as e:\n",
    "    print(f\"Error: {e}\")"
   ]
  },
  {
   "cell_type": "markdown",
   "metadata": {},
   "source": [
    "22. Write a Python program that uses a for loop to iterate over the numbers 1 to 10. If the number is 5, break out of the loop."
   ]
  },
  {
   "cell_type": "code",
   "execution_count": null,
   "metadata": {},
   "outputs": [],
   "source": [
    "for i in range(1, 11):\n",
    "    print(i)\n",
    "    if i == 5:\n",
    "        break"
   ]
  },
  {
   "cell_type": "markdown",
   "metadata": {},
   "source": [
    "23. Write a Python program that uses a for loop to iterate over the numbers 1 to 5. If the number is 3, skip printing it and continue with the next iteration"
   ]
  },
  {
   "cell_type": "code",
   "execution_count": null,
   "metadata": {},
   "outputs": [],
   "source": [
    "for i in range(1, 6):\n",
    "    if i == 3:\n",
    "        continue\n",
    "    print(i)"
   ]
  },
  {
   "cell_type": "markdown",
   "metadata": {},
   "source": [
    "24. Write a Python program that attempts to divide 10 by 0 inside a try block, catches the resulting ZeroDivisionError in an except block, and prints 'Cannot divide by zero.'"
   ]
  },
  {
   "cell_type": "code",
   "execution_count": null,
   "metadata": {},
   "outputs": [],
   "source": [
    "try:\n",
    "    result = 10 / 0\n",
    "    print(\"The result is:\", result)\n",
    "except ZeroDivisionError:\n",
    "    print(\"Cannot divide by zero.\")"
   ]
  },
  {
   "cell_type": "markdown",
   "metadata": {},
   "source": [
    "25. Write a Python program that removes duplicates from the list [1, 2, 2, 3, 4, 4, 5] using a set, and prints the resulting list."
   ]
  },
  {
   "cell_type": "code",
   "execution_count": null,
   "metadata": {},
   "outputs": [],
   "source": [
    "original_list = [1, 2, 2, 3, 4, 4, 5]\n",
    "unique_list = list(set(original_list))\n",
    "print(\"Original list:\", original_list)\n",
    "print(\"List without duplicates:\", unique_list)"
   ]
  },
  {
   "cell_type": "markdown",
   "metadata": {},
   "source": [
    "26. Write a Python program that defines a lambda function to double a number. Use the lambda function to double the number 4 and print the result."
   ]
  },
  {
   "cell_type": "code",
   "execution_count": null,
   "metadata": {},
   "outputs": [],
   "source": [
    "# Define a lambda function to double a number\n",
    "double = lambda x: x * 2\n",
    "\n",
    "# Use the lambda function to double the number 4\n",
    "result = double(4)\n",
    "\n",
    "# Print the result\n",
    "print(\"The double of 4 is:\", result)"
   ]
  },
  {
   "cell_type": "markdown",
   "metadata": {},
   "source": [
    "27. Write a Python function called greet that takes a name as an argument and prints 'Hello, [name]!' where [name] is the argument. If no name is provided, default to 'World'. Call the function without arguments and then with the argument 'Alice'"
   ]
  },
  {
   "cell_type": "code",
   "execution_count": null,
   "metadata": {},
   "outputs": [],
   "source": [
    "def greet(name='World'):\n",
    "    print(f\"Hello, {name}!\")\n",
    "\n",
    "# Call the function without arguments\n",
    "greet()\n",
    "\n",
    "# Call the function with the argument 'Alice'\n",
    "greet('Alice')"
   ]
  },
  {
   "cell_type": "markdown",
   "metadata": {},
   "source": [
    "28. Write a Python function called apply that takes another function and a number as arguments, applies the function to the number, and returns the result. Define a separate function called square that squares a number. Pass square and 3 as arguments to apply, and print the result."
   ]
  },
  {
   "cell_type": "code",
   "execution_count": null,
   "metadata": {},
   "outputs": [],
   "source": [
    "def apply(func, num):\n",
    "    return func(num)\n",
    "\n",
    "def square(x):\n",
    "    return x ** 2\n",
    "\n",
    "result = apply(square, 3)\n",
    "print(\"The square of 3 is:\", result)"
   ]
  },
  {
   "cell_type": "markdown",
   "metadata": {},
   "source": [
    "29. Write a Python program that checks if a file named 'example.txt' exists in the current directory. If it does, print 'File exists', otherwise print 'File does not exist'"
   ]
  },
  {
   "cell_type": "code",
   "execution_count": null,
   "metadata": {},
   "outputs": [],
   "source": [
    "import os\n",
    "\n",
    "filename = 'example.txt'\n",
    "\n",
    "if os.path.isfile(filename):\n",
    "    print('File exists')\n",
    "else:\n",
    "    print('File does not exist')"
   ]
  },
  {
   "cell_type": "markdown",
   "metadata": {},
   "source": [
    "30. Write a Python program that deletes a file named 'unnecessary.txt'. If the file does not exist, print 'File not found'"
   ]
  },
  {
   "cell_type": "code",
   "execution_count": null,
   "metadata": {},
   "outputs": [],
   "source": [
    "import os\n",
    "\n",
    "filename = 'unnecessary.txt'\n",
    "\n",
    "try:\n",
    "    os.remove(filename)\n",
    "    print(f'File {filename} has been deleted')\n",
    "except FileNotFoundError:\n",
    "    print('File not found')"
   ]
  },
  {
   "cell_type": "markdown",
   "metadata": {},
   "source": [
    "31. Write a Python class called Person that has a single attribute name. Instantiate an object of the class with the name 'Alice' and print the name."
   ]
  },
  {
   "cell_type": "code",
   "execution_count": null,
   "metadata": {},
   "outputs": [],
   "source": [
    "class Person:\n",
    "    def __init__(self, name):\n",
    "        self.name = name\n",
    "\n",
    "alice = Person('Alice')\n",
    "print(alice.name)  # Output: Alice"
   ]
  },
  {
   "cell_type": "markdown",
   "metadata": {},
   "source": [
    "32. Write a Python class called Car with an attribute model. Create an instance of Car with the model 'Toyota' and print the model."
   ]
  },
  {
   "cell_type": "code",
   "execution_count": null,
   "metadata": {},
   "outputs": [],
   "source": [
    "class Car:\n",
    "    def __init__(self, model):\n",
    "        self.model = model\n",
    "\n",
    "my_car = Car('Toyota')\n",
    "print(my_car.model)  # Output: Toyota"
   ]
  },
  {
   "cell_type": "markdown",
   "metadata": {},
   "source": [
    "33. Write a Python program that uses a list comprehension to create a list of squares for the numbers 1 through 5, and prints the resulting list. "
   ]
  },
  {
   "cell_type": "code",
   "execution_count": null,
   "metadata": {},
   "outputs": [],
   "source": [
    "squares = [x**2 for x in range(1, 6)]\n",
    "print(squares)  # Output: [1, 4, 9, 16, 25]"
   ]
  },
  {
   "cell_type": "code",
   "execution_count": null,
   "metadata": {},
   "outputs": [],
   "source": [
    "numbers = [1, 2, 3, 4, 5]\n",
    "even_squares = [x**2 for x in numbers if x % 2 == 0]\n",
    "print(even_squares)  # Output: [4, 16]"
   ]
  },
  {
   "cell_type": "markdown",
   "metadata": {},
   "source": [
    "34. Write a Python program that uses a for loop to sum the numbers in the list [1, 2, 3, 4, 5] and prints the result."
   ]
  },
  {
   "cell_type": "code",
   "execution_count": null,
   "metadata": {},
   "outputs": [],
   "source": [
    "numbers = [1, 2, 3, 4, 5]\n",
    "total = 0\n",
    "\n",
    "for num in numbers:\n",
    "    total += num\n",
    "\n",
    "print(\"The sum of the numbers is:\", total)"
   ]
  },
  {
   "cell_type": "code",
   "execution_count": null,
   "metadata": {},
   "outputs": [],
   "source": [
    "numbers = [1, 2, 3, 4, 5]\n",
    "squared_numbers = []\n",
    "\n",
    "for num in numbers:\n",
    "    squared_numbers.append(num ** 2)\n",
    "\n",
    "print(squared_numbers)  # Output: [1, 4, 9, 16, 25]"
   ]
  },
  {
   "cell_type": "markdown",
   "metadata": {},
   "source": [
    "35. Write a Python program that generates a random number between 1 and 10 and prints it. "
   ]
  },
  {
   "cell_type": "code",
   "execution_count": null,
   "metadata": {},
   "outputs": [],
   "source": [
    "import random\n",
    "\n",
    "random_number = random.randint(1, 10)\n",
    "print(\"The random number is:\", random_number)"
   ]
  },
  {
   "cell_type": "code",
   "execution_count": null,
   "metadata": {},
   "outputs": [],
   "source": [
    "import random\n",
    "\n",
    "numbers = [1, 2, 3, 4, 5]\n",
    "random_choice = random.choice(numbers)\n",
    "print(\"The random choice is:\", random_choice)"
   ]
  },
  {
   "cell_type": "markdown",
   "metadata": {},
   "source": [
    "36. Write a Python program that measures and prints the time it takes to execute a for loop that sums the numbers from 1 to 1,000,000."
   ]
  },
  {
   "cell_type": "code",
   "execution_count": null,
   "metadata": {},
   "outputs": [],
   "source": [
    "import time\n",
    "\n",
    "start_time = time.time()\n",
    "\n",
    "total = 0\n",
    "for i in range(1, 1000001):\n",
    "    total += i\n",
    "\n",
    "end_time = time.time()\n",
    "\n",
    "execution_time = end_time - start_time\n",
    "\n",
    "print(\"The sum of the numbers from 1 to 1,000,000 is:\", total)\n",
    "print(\"The execution time was {:.2f} seconds\".format(execution_time))"
   ]
  },
  {
   "cell_type": "markdown",
   "metadata": {},
   "source": [
    "37. Write a Python decorator called my_decorator that prints 'Starting' before the decorated function is called, and 'Finished' after the function is called. Apply this decorator to a function that prints 'Hello!' and then call the decorated function."
   ]
  },
  {
   "cell_type": "code",
   "execution_count": null,
   "metadata": {},
   "outputs": [],
   "source": [
    "def my_decorator(func):\n",
    "    def wrapper():\n",
    "        print(\"Starting\")\n",
    "        func()\n",
    "        print(\"Finished\")\n",
    "    return wrapper\n",
    "\n",
    "@my_decorator\n",
    "def hello_function():\n",
    "    print(\"Hello!\")\n",
    "\n",
    "hello_function()"
   ]
  },
  {
   "cell_type": "code",
   "execution_count": null,
   "metadata": {},
   "outputs": [],
   "source": [
    "def my_decorator(message):\n",
    "    def decorator(func):\n",
    "        def wrapper():\n",
    "            print(message)\n",
    "            func()\n",
    "            print(\"Finished\")\n",
    "        return wrapper\n",
    "    return decorator\n",
    "\n",
    "@my_decorator(\"Beginning\")\n",
    "def hello_function():\n",
    "    print(\"Hello!\")\n",
    "\n",
    "hello_function()"
   ]
  },
  {
   "cell_type": "markdown",
   "metadata": {},
   "source": [
    "38. Write a Python class called BankAccount with a private attribute _balance. Implement methods to deposit and withdraw money, and a method to print the current balance."
   ]
  },
  {
   "cell_type": "code",
   "execution_count": null,
   "metadata": {},
   "outputs": [],
   "source": [
    "class BankAccount:\n",
    "    def __init__(self, initial_balance=0):\n",
    "        self.__balance = initial_balance\n",
    "\n",
    "    def deposit(self, amount):\n",
    "        if amount > 0:\n",
    "            self.__balance += amount\n",
    "            print(f\"Deposited ${amount:.2f}. New balance: ${self.__balance:.2f}\")\n",
    "        else:\n",
    "            print(\"Invalid deposit amount. Please try again.\")\n",
    "\n",
    "    def withdraw(self, amount):\n",
    "        if 0 < amount <= self.__balance:\n",
    "            self.__balance -= amount\n",
    "            print(f\"Withdrew ${amount:.2f}. New balance: ${self.__balance:.2f}\")\n",
    "        elif amount <= 0:\n",
    "            print(\"Invalid withdrawal amount. Please try again.\")\n",
    "        else:\n",
    "            print(\"Insufficient funds. Please try again.\")\n",
    "\n",
    "    def print_balance(self):\n",
    "        print(f\"Current balance: ${self.__balance:.2f}\")"
   ]
  },
  {
   "cell_type": "markdown",
   "metadata": {},
   "source": [
    "39. Write a Python program that creates a 2D list representing a matrix with the following values: [[1, 2], [3, 4]]. Print the element in the first row and second column."
   ]
  },
  {
   "cell_type": "code",
   "execution_count": null,
   "metadata": {},
   "outputs": [],
   "source": [
    "# Create a 2D list representing a matrix\n",
    "matrix = [[1, 2], [3, 4]]\n",
    "\n",
    "# Print the element in the first row and second column\n",
    "print(\"Element in the first row and second column:\", matrix[0][1])"
   ]
  },
  {
   "cell_type": "markdown",
   "metadata": {},
   "source": [
    "40. Write a Python decorator called log_function_call that logs the name of a function each time it is called. Apply this decorator to a function that prints 'Executing function' and then call the decorated function."
   ]
  },
  {
   "cell_type": "code",
   "execution_count": null,
   "metadata": {},
   "outputs": [],
   "source": [
    "import logging\n",
    "\n",
    "# Set up logging\n",
    "logging.basicConfig(level=logging.INFO)\n",
    "logger = logging.getLogger(__name__)\n",
    "\n",
    "def log_function_call(func):\n",
    "    def wrapper(*args, **kwargs):\n",
    "        logger.info(f\"Calling function: {func.__name__}\")\n",
    "        return func(*args, **kwargs)\n",
    "    return wrapper\n",
    "\n",
    "@log_function_call\n",
    "def execute_function():\n",
    "    print(\"Executing function\")\n",
    "\n",
    "# Call the decorated function\n",
    "execute_function()"
   ]
  },
  {
   "cell_type": "markdown",
   "metadata": {},
   "source": [
    "41. Write a Python class called Stack that implements a stack using a list. Implement methods push, pop, and is_empty. Demonstrate the stack operations by pushing and popping some elements."
   ]
  },
  {
   "cell_type": "code",
   "execution_count": null,
   "metadata": {},
   "outputs": [],
   "source": [
    "class Stack:\n",
    "    def __init__(self):\n",
    "        self.elements = []\n",
    "\n",
    "    def push(self, element):\n",
    "        self.elements.append(element)\n",
    "\n",
    "    def pop(self):\n",
    "        if self.is_empty():\n",
    "            raise ValueError(\"Stack is empty\")\n",
    "        return self.elements.pop()\n",
    "\n",
    "    def is_empty(self):\n",
    "        return len(self.elements) == 0\n",
    "\n",
    "# Demonstrate the stack operations\n",
    "stack = Stack()\n",
    "\n",
    "print(\"Is stack empty?\", stack.is_empty())  # True\n",
    "\n",
    "stack.push(1)\n",
    "stack.push(2)\n",
    "stack.push(3)\n",
    "\n",
    "print(\"Stack elements:\", stack.elements)  # [1, 2, 3]\n",
    "\n",
    "popped_element = stack.pop()\n",
    "print(\"Popped element:\", popped_element)  # 3\n",
    "print(\"Stack elements:\", stack.elements)  # [1, 2]\n",
    "\n",
    "stack.push(4)\n",
    "print(\"Stack elements:\", stack.elements)  # [1, 2, 4]\n",
    "\n",
    "print(\"Is stack empty?\", stack.is_empty())  # False\n",
    "\n",
    "while not stack.is_empty():\n",
    "    print(\"Popped element:\", stack.pop())\n",
    "\n",
    "print(\"Is stack empty?\", stack.is_empty())  # True"
   ]
  },
  {
   "cell_type": "markdown",
   "metadata": {},
   "source": [
    "42. Write a Python class called Queue that implements a queue using a list. Implement methods enqueue, dequeue, and is_empty. Demonstrate the queue operations by enqueueing and dequeueing some elements.\" "
   ]
  },
  {
   "cell_type": "code",
   "execution_count": null,
   "metadata": {},
   "outputs": [],
   "source": [
    "class Queue:\n",
    "    def __init__(self):\n",
    "        self.elements = []\n",
    "\n",
    "    def enqueue(self, element):\n",
    "        self.elements.append(element)\n",
    "\n",
    "    def dequeue(self):\n",
    "        if self.is_empty():\n",
    "            raise ValueError(\"Queue is empty\")\n",
    "        return self.elements.pop(0)\n",
    "\n",
    "    def is_empty(self):\n",
    "        return len(self.elements) == 0\n",
    "\n",
    "    def size(self):\n",
    "        return len(self.elements)\n",
    "\n",
    "# Demonstrate the queue operations\n",
    "queue = Queue()\n",
    "\n",
    "print(\"Is queue empty?\", queue.is_empty())  # True\n",
    "\n",
    "queue.enqueue(1)\n",
    "queue.enqueue(2)\n",
    "queue.enqueue(3)\n",
    "\n",
    "print(\"Queue elements:\", queue.elements)  # [1, 2, 3]\n",
    "print(\"Queue size:\", queue.size())  # 3\n",
    "\n",
    "dequeued_element = queue.dequeue()\n",
    "print(\"Dequeued element:\", dequeued_element)  # 1\n",
    "print(\"Queue elements:\", queue.elements)  # [2, 3]\n",
    "\n",
    "queue.enqueue(4)\n",
    "print(\"Queue elements:\", queue.elements)  # [2, 3, 4]\n",
    "\n",
    "print(\"Is queue empty?\", queue.is_empty())  # False\n",
    "\n",
    "while not queue.is_empty():\n",
    "    print(\"Dequeued element:\", queue.dequeue())\n",
    "\n",
    "print(\"Is queue empty?\", queue.is_empty())  # True"
   ]
  },
  {
   "cell_type": "markdown",
   "metadata": {},
   "source": [
    "43. Write a Python function called factorial that calculates the factorial of a number using recursion. Calculate the factorial of 5 and print the result."
   ]
  },
  {
   "cell_type": "code",
   "execution_count": null,
   "metadata": {},
   "outputs": [],
   "source": [
    "def factorial(n):\n",
    "    if n == 0:\n",
    "        return 1\n",
    "    else:\n",
    "        return n * factorial(n-1)\n",
    "\n",
    "# Calculate the factorial of 5\n",
    "result = factorial(5)\n",
    "print(\"The factorial of 5 is:\", result)"
   ]
  },
  {
   "cell_type": "markdown",
   "metadata": {},
   "source": [
    "44. Write a Python class called Counter with a class attribute count that tracks the number of instances created. Implement a class method increment that increments count each time a new instance is created. Demonstrate this by creating multiple instances and printing count."
   ]
  },
  {
   "cell_type": "code",
   "execution_count": null,
   "metadata": {},
   "outputs": [],
   "source": [
    "class Counter:\n",
    "    count = 0\n",
    "\n",
    "    def __init__(self):\n",
    "        Counter.increment()\n",
    "\n",
    "    @classmethod\n",
    "    def increment(cls):\n",
    "        cls.count += 1\n",
    "\n",
    "# Demonstrate the Counter class\n",
    "print(\"Initial count:\", Counter.count)  # 0\n",
    "\n",
    "counter1 = Counter()\n",
    "print(\"Count after creating counter1:\", Counter.count)  # 1\n",
    "\n",
    "counter2 = Counter()\n",
    "print(\"Count after creating counter2:\", Counter.count)  # 2\n",
    "\n",
    "counter3 = Counter()\n",
    "print(\"Count after creating counter3:\", Counter.count)  # 3\n",
    "\n",
    "print(\"Final count:\", Counter.count)  # 3"
   ]
  },
  {
   "cell_type": "markdown",
   "metadata": {},
   "source": [
    "45. Write a Python class called Animal with a method speak that prints 'Animal sound'. Create a subclass Dog that overrides speak to print 'Bark'. Instantiate Dog and call speak."
   ]
  },
  {
   "cell_type": "code",
   "execution_count": null,
   "metadata": {},
   "outputs": [],
   "source": [
    "class Animal:\n",
    "    def speak(self):\n",
    "        print(\"Animal sound\")\n",
    "\n",
    "class Dog(Animal):\n",
    "    def speak(self):\n",
    "        print(\"Bark\")\n",
    "\n",
    "# Instantiate Dog and call speak\n",
    "my_dog = Dog()\n",
    "my_dog.speak()  # Output: Bark"
   ]
  },
  {
   "cell_type": "markdown",
   "metadata": {},
   "source": [
    "46. Write a Python class called Vehicle with a method move that prints 'Moving'. Create a subclass Car that overrides move to print 'Driving'. Instantiate Car and call move."
   ]
  },
  {
   "cell_type": "code",
   "execution_count": null,
   "metadata": {},
   "outputs": [],
   "source": [
    "class Vehicle:\n",
    "    def move(self):\n",
    "        print(\"Moving\")\n",
    "\n",
    "class Car(Vehicle):\n",
    "    def move(self):\n",
    "        print(\"Driving\")\n",
    "\n",
    "# Instantiate Car and call move\n",
    "my_car = Car()\n",
    "my_car.move()  # Output: Driving"
   ]
  },
  {
   "cell_type": "markdown",
   "metadata": {},
   "source": [
    "47. Write a Python program that sorts a list of dictionaries by the key 'age'. For example, given people = [{'name': 'Alice', 'age': 25}, {'name': 'Bob', 'age': 20}], sort the list by age and print the sorted list."
   ]
  },
  {
   "cell_type": "code",
   "execution_count": null,
   "metadata": {},
   "outputs": [],
   "source": [
    "people = [{'name': 'Alice', 'age': 25}, {'name': 'Bob', 'age': 20}, {'name': 'Charlie', 'age': 30}, {'name': 'David', 'age': 22}]\n",
    "\n",
    "# Sort the list of dictionaries by the 'age' key\n",
    "sorted_people = sorted(people, key=lambda x: x['age'])\n",
    "\n",
    "# Print the sorted list\n",
    "print(sorted_people)"
   ]
  },
  {
   "cell_type": "markdown",
   "metadata": {},
   "source": [
    "48. Write a Python function called linear_search that takes a list and a target value, and returns the index of the target value if found, or -1 if not found. Use this function to search for the value 3 in the list [1, 2, 3, 4, 5]."
   ]
  },
  {
   "cell_type": "code",
   "execution_count": null,
   "metadata": {},
   "outputs": [],
   "source": [
    "def linear_search(lst, target):\n",
    "    for i, element in enumerate(lst):\n",
    "        if element == target:\n",
    "            return i\n",
    "    return -1\n",
    "\n",
    "# Example usage:\n",
    "my_list = [1, 2, 3, 4, 5]\n",
    "target_value = 3\n",
    "result = linear_search(my_list, target_value)\n",
    "\n",
    "if result != -1:\n",
    "    print(f\"Found {target_value} at index {result}\")\n",
    "else:\n",
    "    print(f\"{target_value} not found in the list\")"
   ]
  },
  {
   "cell_type": "markdown",
   "metadata": {},
   "source": [
    "49. Write a Python function called bubble_sort that implements the bubble sort algorithm to sort a list of numbers in ascending order. Use this function to sort the list [5, 3, 8, 4, 2] and print the sorted list"
   ]
  },
  {
   "cell_type": "code",
   "execution_count": null,
   "metadata": {},
   "outputs": [],
   "source": [
    "def bubble_sort(lst):\n",
    "    n = len(lst)\n",
    "    for i in range(n-1):\n",
    "        for j in range(n-i-1):\n",
    "            if lst[j] > lst[j+1]:\n",
    "                lst[j], lst[j+1] = lst[j+1], lst[j]\n",
    "    return lst\n",
    "\n",
    "# Example usage:\n",
    "unsorted_list = [5, 3, 8, 4, 2]\n",
    "sorted_list = bubble_sort(unsorted_list)\n",
    "print(\"Sorted list:\", sorted_list)"
   ]
  },
  {
   "cell_type": "markdown",
   "metadata": {},
   "source": [
    "50. Write a Python function called binary_search that implements the binary search algorithm to find a target value in a sorted list. Use this function to find the index of the value 4 in the sorted list [1, 2, 3, 4, 5]."
   ]
  },
  {
   "cell_type": "code",
   "execution_count": null,
   "metadata": {},
   "outputs": [],
   "source": [
    "def binary_search(lst, target):\n",
    "    low = 0\n",
    "    high = len(lst) - 1\n",
    "\n",
    "    while low <= high:\n",
    "        mid = (low + high) // 2\n",
    "        if lst[mid] == target:\n",
    "            return mid\n",
    "        elif lst[mid] < target:\n",
    "            low = mid + 1\n",
    "        else:\n",
    "            high = mid - 1\n",
    "\n",
    "    return -1  # not found\n",
    "\n",
    "# Example usage:\n",
    "sorted_list = [1, 2, 3, 4, 5]\n",
    "target_value = 4\n",
    "index = binary_search(sorted_list, target_value)\n",
    "\n",
    "if index != -1:\n",
    "    print(f\"Found {target_value} at index {index}\")\n",
    "else:\n",
    "    print(f\"{target_value} not found in the list\")"
   ]
  },
  {
   "cell_type": "markdown",
   "metadata": {},
   "source": [
    "51. Write a Python program that creates a dictionary representing a student's grades for different subjects, e.g., grades = {'Math': {'midterm': 90, 'final': 85}, 'Science': {'midterm': 88, 'final': 92}}. Access and print the final grade in Science."
   ]
  },
  {
   "cell_type": "code",
   "execution_count": null,
   "metadata": {},
   "outputs": [],
   "source": [
    "# Create a dictionary representing a student's grades\n",
    "grades = {\n",
    "    'Math': {'midterm': 90, 'final': 85},\n",
    "    'Science': {'midterm': 88, 'final': 92},\n",
    "    'English': {'midterm': 78, 'final': 95}\n",
    "}\n",
    "\n",
    "# Access and print the final grade in Science\n",
    "science_final_grade = grades['Science']['final']\n",
    "print(\"Final grade in Science:\", science_final_grade)"
   ]
  },
  {
   "cell_type": "markdown",
   "metadata": {},
   "source": [
    "52. Write a Python class called Node representing a node in a singly linked list, with attributes data and next_node. Implement a class called LinkedList with methods to insert a node at the beginning, end, and to print the list. Demonstrate by inserting and printing nodes."
   ]
  },
  {
   "cell_type": "code",
   "execution_count": null,
   "metadata": {},
   "outputs": [],
   "source": [
    "class Node:\n",
    "    def __init__(self, data=None):\n",
    "        self.data = data\n",
    "        self.next_node = None\n",
    "\n",
    "class LinkedList:\n",
    "    def __init__(self):\n",
    "        self.head = None\n",
    "\n",
    "    def insert_at_beginning(self, data):\n",
    "        new_node = Node(data)\n",
    "        new_node.next_node = self.head\n",
    "        self.head = new_node\n",
    "\n",
    "    def insert_at_end(self, data):\n",
    "        new_node = Node(data)\n",
    "        if self.head is None:\n",
    "            self.head = new_node\n",
    "        else:\n",
    "            current_node = self.head\n",
    "            while current_node.next_node:\n",
    "                current_node = current_node.next_node\n",
    "            current_node.next_node = new_node\n",
    "\n",
    "    def print_list(self):\n",
    "        current_node = self.head\n",
    "        while current_node:\n",
    "            print(current_node.data, end=\" \")\n",
    "            current_node = current_node.next_node\n",
    "        print()\n",
    "\n",
    "# Demonstration\n",
    "linked_list = LinkedList()\n",
    "\n",
    "linked_list.insert_at_beginning(1)\n",
    "linked_list.insert_at_beginning(2)\n",
    "linked_list.insert_at_end(3)\n",
    "linked_list.insert_at_end(4)\n",
    "\n",
    "linked_list.print_list()  # Output: 2 1 3 4"
   ]
  },
  {
   "cell_type": "markdown",
   "metadata": {},
   "source": [
    "53. Write a Python function called gcd that calculates the greatest common divisor (GCD) of two numbers using the Euclidean algorithm. Calculate the GCD of 48 and 18 and print the result."
   ]
  },
  {
   "cell_type": "code",
   "execution_count": null,
   "metadata": {},
   "outputs": [],
   "source": [
    "def gcd(a, b):\n",
    "    while b != 0:\n",
    "        a, b = b, a % b\n",
    "    return a\n",
    "\n",
    "# Calculate and print the GCD of 48 and 18\n",
    "result = gcd(48, 18)\n",
    "print(\"The GCD of 48 and 18 is:\", result)"
   ]
  },
  {
   "cell_type": "markdown",
   "metadata": {},
   "source": [
    "54. Write a Python function called is_prime that checks if a number is prime. Use this function to check if 29 is prime and print the result."
   ]
  },
  {
   "cell_type": "code",
   "execution_count": null,
   "metadata": {},
   "outputs": [],
   "source": [
    "def is_prime(n):\n",
    "    if n <= 1:\n",
    "        return False\n",
    "    if n == 2:\n",
    "        return True\n",
    "    if n % 2 == 0:\n",
    "        return False\n",
    "    max_divisor = int(n**0.5) + 1\n",
    "    for d in range(3, max_divisor, 2):\n",
    "        if n % d == 0:\n",
    "            return False\n",
    "    return True\n",
    "\n",
    "# Check if 29 is prime and print the result\n",
    "result = is_prime(29)\n",
    "print(\"Is 29 prime?\", result)"
   ]
  },
  {
   "cell_type": "markdown",
   "metadata": {},
   "source": [
    "55.Write a Python function called factorial that calculates the factorial of a number using a loop. Calculate the factorial of 6 and print the result.\""
   ]
  },
  {
   "cell_type": "code",
   "execution_count": null,
   "metadata": {},
   "outputs": [],
   "source": [
    "def factorial(n):\n",
    "    result = 1\n",
    "    for i in range(1, n + 1):\n",
    "        result *= i\n",
    "    return result\n",
    "\n",
    "# Calculate the factorial of 6 and print the result\n",
    "result = factorial(6)\n",
    "print(\"The factorial of 6 is:\", result)"
   ]
  },
  {
   "cell_type": "markdown",
   "metadata": {},
   "source": [
    "56. Write a simple Flask application with a single route that returns 'Hello, World!' when accessed. Run the Flask app and provide instructions to test the endpoint."
   ]
  },
  {
   "cell_type": "code",
   "execution_count": null,
   "metadata": {},
   "outputs": [],
   "source": [
    "from flask import Flask\n",
    "\n",
    "app = Flask(__name__)\n",
    "\n",
    "@app.route('/')\n",
    "def hello_world():\n",
    "    return 'Hello, World!'\n",
    "\n",
    "if __name__ == '__main__':\n",
    "    app.run()"
   ]
  },
  {
   "cell_type": "markdown",
   "metadata": {},
   "source": [
    "57. Write a Python program that uses nested loops to print a multiplication table (from 1 to 10). Format the output as a grid."
   ]
  },
  {
   "cell_type": "code",
   "execution_count": null,
   "metadata": {},
   "outputs": [],
   "source": [
    "# Print a multiplication table from 1 to 10\n",
    "print(\"Multiplication Table:\")\n",
    "print(\"---------------------\")\n",
    "\n",
    "for i in range(1, 11):  # outer loop: rows\n",
    "    for j in range(1, 11):  # inner loop: columns\n",
    "        print(f\"{i*j:4}\", end=\"\")  # print the product, right-justified in 4 spaces\n",
    "    print()  # newline after each row\n",
    "\n",
    "print(\"---------------------\")"
   ]
  },
  {
   "cell_type": "markdown",
   "metadata": {},
   "source": [
    "58. Write a Python class called Vector with attributes x and y. Overload the + operator to add two Vector objects by summing their x and y attributes. Demonstrate by adding two Vector objects and printing the result."
   ]
  },
  {
   "cell_type": "code",
   "execution_count": null,
   "metadata": {},
   "outputs": [],
   "source": [
    "class Vector:\n",
    "    def __init__(self, x, y):\n",
    "        self.x = x\n",
    "        self.y = y\n",
    "\n",
    "    def __add__(self, other):\n",
    "        return Vector(self.x + other.x, self.y + other.y)\n",
    "\n",
    "    def __str__(self):\n",
    "        return f\"Vector({self.x}, {self.y})\"\n",
    "\n",
    "\n",
    "# Create two Vector objects\n",
    "v1 = Vector(2, 3)\n",
    "v2 = Vector(4, 5)\n",
    "\n",
    "# Add the two Vector objects\n",
    "v3 = v1 + v2\n",
    "\n",
    "# Print the result\n",
    "print(v3)  # Output: Vector(6, 8)"
   ]
  },
  {
   "cell_type": "markdown",
   "metadata": {},
   "source": [
    "59. Write a Python function called fibonacci that generates the nth Fibonacci number using recursion. Calculate and print the 10th Fibonacci number."
   ]
  },
  {
   "cell_type": "code",
   "execution_count": null,
   "metadata": {},
   "outputs": [],
   "source": [
    "def fibonacci(n):\n",
    "    if n <= 0:\n",
    "        return \"Input should be a positive integer\"\n",
    "    elif n == 1:\n",
    "        return 0\n",
    " elif n == 2:\n",
    "        return 1\n",
    "    else:\n",
    "        return fibonacci(n-1) + fibonacci(n-2)"
   ]
  },
  {
   "cell_type": "markdown",
   "metadata": {},
   "source": [
    "60. Write a Python program that creates a list of tuples representing student names and their grades, e.g., students = [('Alice', 90), ('Bob', 85), ('Charlie', 95)]. Sort the list by grades and print the sorted list."
   ]
  },
  {
   "cell_type": "code",
   "execution_count": null,
   "metadata": {},
   "outputs": [],
   "source": [
    "# Define the list of students\n",
    "students = [('Alice', 90), ('Bob', 85), ('Charlie', 95)]\n",
    "\n",
    "# Sort the list by grades\n",
    "students.sort(key=lambda x: x[1])\n",
    "\n",
    "# Print the sorted list\n",
    "print(\"Sorted Students:\")\n",
    "for student in students:\n",
    "    print(f\"{student[0]}: {student[1]}\")"
   ]
  },
  {
   "cell_type": "markdown",
   "metadata": {},
   "source": [
    "61. Write a Python program that uses nested loops to print the following pattern:\n",
    "Markdown\n",
    "\n"
   ]
  },
  {
   "cell_type": "code",
   "execution_count": null,
   "metadata": {},
   "outputs": [],
   "source": [
    "*\n",
    "**\n",
    "***\n",
    "****\n",
    "*****\n",
    "```\"\n",
    "\n"
   ]
  },
  {
   "cell_type": "code",
   "execution_count": null,
   "metadata": {},
   "outputs": [],
   "source": [
    "for i in range(1, 6):\n",
    "    for j in range(i):\n",
    "        print(\"*\", end=\"\")\n",
    "    print()"
   ]
  },
  {
   "cell_type": "markdown",
   "metadata": {},
   "source": [
    "62. Write a Python decorator called log_call that logs the name of the function being called. Apply this decorator to a function called greet that prints 'Hello!' and call the decorated function."
   ]
  },
  {
   "cell_type": "code",
   "execution_count": null,
   "metadata": {},
   "outputs": [],
   "source": [
    "import functools\n",
    "\n",
    "def log_call(func):\n",
    "    @functools.wraps(func)\n",
    "    def wrapper(*args, **kwargs):\n",
    "        print(f\"Calling {func.__name__}\")\n",
    "        return func(*args, **kwargs)\n",
    "    return wrapper\n",
    "\n",
    "@log_call\n",
    "def greet():\n",
    "    print('Hello!')\n",
    "\n",
    "greet()"
   ]
  },
  {
   "cell_type": "markdown",
   "metadata": {},
   "source": [
    "63. Write a Python class called TreeNode representing a node in a binary tree, with attributes data, left, and right. Implement a function to perform an in-order traversal of the tree and print the node values."
   ]
  },
  {
   "cell_type": "code",
   "execution_count": null,
   "metadata": {},
   "outputs": [],
   "source": [
    "class TreeNode:\n",
    "    def __init__(self, data):\n",
    "        self.data = data\n",
    "        self.left = None\n",
    "        self.right = None\n",
    "\n",
    "    def in_order_traversal(self):\n",
    "        if self.left:\n",
    "            self.left.in_order_traversal()\n",
    "        print(self.data, end=\" \")\n",
    "        if self.right:\n",
    "            self.right.in_order_traversal()\n",
    "\n",
    "# Example usage:\n",
    "# Create the following binary tree:\n",
    "#       1\n",
    "#      / \\\n",
    "#     2   3\n",
    "#    / \\\n",
    "#   4   5\n",
    "\n",
    "root = TreeNode(1)\n",
    "root.left = TreeNode(2)\n",
    "root.right = TreeNode(3)\n",
    "root.left.left = TreeNode(4)\n",
    "root.left.right = TreeNode(5)\n",
    "\n",
    "print(\"In-order traversal: \")\n",
    "root.in_order_traversal()"
   ]
  },
  {
   "cell_type": "markdown",
   "metadata": {},
   "source": [
    "64. Write a Python function called quicksort that implements the quicksort algorithm to sort a list of numbers in ascending order. Use this function to sort the list [10, 7, 8, 9, 1, 5] and print the sorted list."
   ]
  },
  {
   "cell_type": "code",
   "execution_count": null,
   "metadata": {},
   "outputs": [],
   "source": [
    "def quicksort(arr):\n",
    "    if len(arr) <= 1:\n",
    "        return arr\n",
    "    pivot = arr[len(arr) // 2]\n",
    "    left = [x for x in arr if x < pivot]\n",
    "    middle = [x for x in arr if x == pivot]\n",
    "    right = [x for x in arr if x > pivot]\n",
    "    return quicksort(left) + middle + quicksort(right)\n",
    "\n",
    "# Example usage:\n",
    "numbers = [10, 7, 8, 9, 1, 5]\n",
    "sorted_numbers = quicksort(numbers)\n",
    "print(\"Sorted list:\", sorted_numbers)"
   ]
  },
  {
   "cell_type": "markdown",
   "metadata": {},
   "source": [
    "65. Write a Flask application that provides a simple REST API with the following endpoints: GET /items to return a list of items, POST /items to add a new item, and DELETE /items/<id> to delete an item by ID. Provide instructions to test the API."
   ]
  },
  {
   "cell_type": "code",
   "execution_count": null,
   "metadata": {},
   "outputs": [],
   "source": [
    "from flask import Flask, jsonify, request\n",
    "\n",
    "app = Flask(__name__)\n",
    "\n",
    "# Sample in-memory data store\n",
    "items = [\n",
    "    {\"id\": 1, \"name\": \"Item 1\"},\n",
    "    {\"id\": 2, \"name\": \"Item 2\"},\n",
    "    {\"id\": 3, \"name\": \"Item 3\"}\n",
    "]\n",
    "\n",
    "# GET /items\n",
    "@app.route('/items', methods=['GET'])\n",
    "def get_items():\n",
    "    return jsonify(items)\n",
    "\n",
    "# POST /items\n",
    "@app.route('/items', methods=['POST'])\n",
    "def add_item():\n",
    "    new_item = {\n",
    "        \"id\": len(items) + 1,\n",
    "        \"name\": request.json['name']\n",
    "    }\n",
    "    items.append(new_item)\n",
    "    return jsonify(new_item), 201\n",
    "\n",
    "# DELETE /items/<id>\n",
    "@app.route('/items/<int:item_id>', methods=['DELETE'])\n",
    "def delete_item(item_id):\n",
    "    for item in items:\n",
    "        if item['id'] == item_id:\n",
    "            items.remove(item)\n",
    "            return jsonify({\"message\": \"Item deleted\"})\n",
    "    return jsonify({\"message\": \"Item not found\"}), 404\n",
    "\n",
    "if __name__ == '__main__':\n",
    "    app.run(debug=True)"
   ]
  },
  {
   "cell_type": "markdown",
   "metadata": {},
   "source": [
    "66. Write a Python program that generates the current date and time using the datetime module, formats it as 'YYYY-MM-DD HH:MM', and prints it. Then calculate the date 10 days from today and print it\n"
   ]
  },
  {
   "cell_type": "code",
   "execution_count": null,
   "metadata": {},
   "outputs": [],
   "source": [
    "from datetime import datetime, timedelta\n",
    "\n",
    "# Get the current date and time\n",
    "now = datetime.now()\n",
    "\n",
    "# Format the current date and time as 'YYYY-MM-DD HH:MM'\n",
    "formatted_now = now.strftime(\"%Y-%m-%d %H:%M\")\n",
    "\n",
    "# Print the current date and time\n",
    "print(\"Current date and time: \", formatted_now)\n",
    "\n",
    "# Calculate the date 10 days from today\n",
    "ten_days_from_now = now + timedelta(days=10)\n",
    "\n",
    "# Format the date 10 days from today as 'YYYY-MM-DD HH:MM'\n",
    "formatted_ten_days_from_now = ten_days_from_now.strftime(\"%Y-%m-%d %H:%M\")\n",
    "\n",
    "# Print the date 10 days from today\n",
    "print(\"Date 10 days from today: \", formatted_ten_days_from_now)"
   ]
  },
  {
   "cell_type": "markdown",
   "metadata": {},
   "source": [
    "67. Write a Python program that uses BeautifulSoup to scrape the titles of articles from a news website's homepage and prints them."
   ]
  },
  {
   "cell_type": "code",
   "execution_count": null,
   "metadata": {},
   "outputs": [],
   "source": [
    "import requests\n",
    "from bs4 import BeautifulSoup\n",
    "\n",
    "# Send an HTTP request to the website\n",
    "url = \"https://english.elpais.com/\"  # Replace with the news website's URL\n",
    "response = requests.get(url)\n",
    "\n",
    "# Parse the HTML content\n",
    "soup = BeautifulSoup(response.content, 'html5lib')\n",
    "\n",
    "# Find the article titles\n",
    "article_titles = soup.find_all('h2', class_='articulo-titulo')\n",
    "\n",
    "# Extract the text from the tags and print them\n",
    "for title in article_titles:\n",
    "    print(title.get_text())"
   ]
  },
  {
   "cell_type": "markdown",
   "metadata": {},
   "source": [
    "68. Write a Python program that performs linear regression on a dataset using numpy. The dataset consists of input x = [1, 2, 3, 4, 5] and output y = [2, 4, 6, 8, 10]. Calculate the slope and intercept, and print the linear equation."
   ]
  },
  {
   "cell_type": "code",
   "execution_count": null,
   "metadata": {},
   "outputs": [],
   "source": [
    "import numpy as np\n",
    "\n",
    "# Define the dataset\n",
    "x = np.array([1, 2, 3, 4, 5])\n",
    "y = np.array([2, 4, 6, 8, 10])\n",
    "\n",
    "# Calculate the mean of x and y\n",
    "mean_x = np.mean(x)\n",
    "mean_y = np.mean(y)\n",
    "\n",
    "# Calculate the deviations from the mean\n",
    "dev_x = x - mean_x\n",
    "dev_y = y - mean_y\n",
    "\n",
    "# Calculate the slope (beta1) and intercept (beta0)\n",
    "beta1 = np.sum(dev_x * dev_y) / np.sum(dev_x ** 2)\n",
    "beta0 = mean_y - beta1 * mean_x\n",
    "\n",
    "# Print the linear equation\n",
    "print(f\"Linear Equation: y = {beta1:.2f}x + {beta0:.2f}\")"
   ]
  },
  {
   "cell_type": "markdown",
   "metadata": {},
   "source": [
    "69. Write a Python class called BSTNode representing a node in a binary search tree (BST), with attributes data, left, and right. Implement methods to insert a new node and search for a value in the BST. Demonstrate by inserting and searching for values."
   ]
  },
  {
   "cell_type": "code",
   "execution_count": null,
   "metadata": {},
   "outputs": [],
   "source": [
    "class BSTNode:\n",
    "    def __init__(self, data):\n",
    "        self.data = data\n",
    "        self.left = None\n",
    "        self.right = None\n",
    "\n",
    "    def insert(self, data):\n",
    "        if data < self.data:\n",
    "            if self.left is None:\n",
    "                self.left = BSTNode(data)\n",
    "            else:\n",
    "                self.left.insert(data)\n",
    "        else:\n",
    "            if self.right is None:\n",
    "                self.right = BSTNode(data)\n",
    "            else:\n",
    "                self.right.insert(data)\n",
    "\n",
    "    def search(self, data):\n",
    "        if data == self.data:\n",
    "            return True\n",
    "        elif data < self.data and self.left is not None:\n",
    "            return self.left.search(data)\n",
    "        elif data > self.data and self.right is not None:\n",
    "            return self.right.search(data)\n",
    "        else:\n",
    "            return False\n",
    "\n",
    "# Demonstration\n",
    "root = BSTNode(5)\n",
    "root.insert(3)\n",
    "root.insert(7)\n",
    "root.insert(2)\n",
    "root.insert(4)\n",
    "root.insert(6)\n",
    "root.insert(8)\n",
    "\n",
    "print(root.search(2))  # Output: True\n",
    "print(root.search(6))  # Output: True\n",
    "print(root.search(9))  # Output: False"
   ]
  },
  {
   "cell_type": "markdown",
   "metadata": {},
   "source": [
    "70. Write a Python program that creates a pandas DataFrame representing sales data with columns Product, Category, and Sales. Group the data by Category and calculate the total sales for each category."
   ]
  },
  {
   "cell_type": "code",
   "execution_count": null,
   "metadata": {},
   "outputs": [],
   "source": [
    "import pandas as pd\n",
    "\n",
    "# Create a pandas DataFrame\n",
    "data = {\n",
    "    \"Product\": [\"Product A\", \"Product B\", \"Product C\", \"Product D\", \"Product E\", \"Product F\"],\n",
    "    \"Category\": [\"Electronics\", \"Electronics\", \"Home Goods\", \"Home Goods\", \"Electronics\", \"Home Goods\"],\n",
    "    \"Sales\": [100, 200, 300, 400, 500, 600]\n",
    "}\n",
    "df = pd.DataFrame(data)\n",
    "\n",
    "print(\"Original DataFrame:\")\n",
    "print(df)\n",
    "\n",
    "# Group the data by Category and calculate the total sales for each category\n",
    "category_sales = df.groupby(\"Category\")[\"Sales\"].sum().reset_index()\n",
    "\n",
    "print(\"\\nTotal Sales by Category:\")\n",
    "print(category_sales)"
   ]
  },
  {
   "cell_type": "markdown",
   "metadata": {},
   "source": [
    "71. Write a Python program that creates two pandas DataFrames representing customer orders and their details. Merge the two DataFrames on a common OrderID column and print the merged DataFrame."
   ]
  },
  {
   "cell_type": "code",
   "execution_count": null,
   "metadata": {},
   "outputs": [],
   "source": [
    "import pandas as pd\n",
    "\n",
    "# Create the first DataFrame for customer orders\n",
    "orders_data = {\n",
    "    \"OrderID\": [1, 2, 3, 4, 5],\n",
    "    \"CustomerName\": [\"John Smith\", \"Jane Doe\", \"Bob Johnson\", \"Alice Brown\", \"Mike Davis\"],\n",
    "    \"OrderDate\": [\"2022-01-01\", \"2022-01-05\", \"2022-01-10\", \"2022-01-15\", \"2022-01-20\"]\n",
    "}\n",
    "orders_df = pd.DataFrame(orders_data)\n",
    "\n",
    "# Create the second DataFrame for order details\n",
    "order_details_data = {\n",
    "    \"OrderID\": [1, 1, 2, 3, 3, 4, 5],\n",
    "    \"Product\": [\"Product A\", \"Product B\", \"Product C\", \"Product D\", \"Product E\", \"Product F\", \"Product G\"],\n",
    "    \"Quantity\": [2, 3, 1, 4, 2, 3, 1]\n",
    "}\n",
    "order_details_df = pd.DataFrame(order_details_data)\n",
    "\n",
    "# Merge the two DataFrames on the OrderID column\n",
    "merged_df = pd.merge(orders_df, order_details_df, on=\"OrderID\")\n",
    "\n",
    "# Print the merged DataFrame\n",
    "print(merged_df)"
   ]
  },
  {
   "cell_type": "markdown",
   "metadata": {},
   "source": [
    "72. Write a Python program that creates a pandas DataFrame representing sales data with columns Product, Region, and Sales. Create a pivot table that shows the total sales for each product by region and print the pivot table."
   ]
  },
  {
   "cell_type": "code",
   "execution_count": null,
   "metadata": {},
   "outputs": [],
   "source": [
    "import pandas as pd\n",
    "\n",
    "# Create a pandas DataFrame\n",
    "data = {\n",
    "    \"Product\": [\"Product A\", \"Product B\", \"Product C\", \"Product A\", \"Product B\", \"Product C\", \"Product A\", \"Product B\", \"Product C\"],\n",
    "    \"Region\": [\"North\", \"North\", \"North\", \"South\", \"South\", \"South\", \"East\", \"East\", \"East\"],\n",
    "    \"Sales\": [100, 200, 300, 400, 500, 600, 700, 800, 900]\n",
    "}\n",
    "df = pd.DataFrame(data)\n",
    "\n",
    "print(\"Original DataFrame:\")\n",
    "print(df)\n",
    "\n",
    "# Create a pivot table that shows the total sales for each product by region\n",
    "pivot_table = pd.pivot_table(df, values=\"Sales\", index=\"Product\", columns=\"Region\", aggfunc=\"sum\")\n",
    "\n",
    "print(\"\\nPivot Table:\")\n",
    "print(pivot_table)"
   ]
  },
  {
   "cell_type": "markdown",
   "metadata": {},
   "source": [
    "73. Create a simple Django project with a single app called blog. The app should have a model Post with fields title and content. Create and run the necessary migrations, then use Django's admin interface to add a new post."
   ]
  },
  {
   "cell_type": "code",
   "execution_count": null,
   "metadata": {},
   "outputs": [],
   "source": [
    "pip install django\n",
    "django-admin startproject myproject\n",
    "python manage.py startapp blog\n",
    "from django.db import models\n",
    "\n",
    "class Post(models.Model):\n",
    "    title = models.CharField(max_length=255)\n",
    "    content = models.TextField()\n",
    "    \n",
    "    python manage.py makemigrations blog\n",
    "    python manage.py migrate\n",
    "    python manage.py createsuperuser\n",
    "    from django.contrib import admin\n",
    "from .models import Post\n",
    "\n",
    "admin.site.register(Post)\n",
    "python manage.py runserver"
   ]
  },
  {
   "cell_type": "markdown",
   "metadata": {},
   "source": [
    "74. Write a Python function called merge_sort that implements the merge sort algorithm to sort a list of numbers in ascending order. Use this function to sort the list [12, 11, 13, 5, 6, 7] and print the sorted list."
   ]
  },
  {
   "cell_type": "code",
   "execution_count": null,
   "metadata": {},
   "outputs": [],
   "source": [
    "def merge_sort(arr):\n",
    "    if len(arr) <= 1:\n",
    "        return arr\n",
    "\n",
    "    mid = len(arr) // 2\n",
    "    left_half = arr[:mid]\n",
    "    right_half = arr[mid:]\n",
    "\n",
    "    return merge(merge_sort(left_half), merge_sort(right_half))\n",
    "\n",
    "\n",
    "def merge(left, right):\n",
    "    merged = []\n",
    "    left_index = 0\n",
    "    right_index = 0\n",
    "\n",
    "    while left_index < len(left) and right_index < len(right):\n",
    "        if left[left_index] <= right[right_index]:\n",
    "            merged.append(left[left_index])\n",
    "            left_index += 1\n",
    "        else:\n",
    "            merged.append(right[right_index])\n",
    "            right_index += 1\n",
    "\n",
    "    merged.extend(left[left_index:])\n",
    "    merged.extend(right[right_index:])\n",
    "\n",
    "    return merged\n",
    "\n",
    "\n",
    "# Test the merge_sort function\n",
    "arr = [12, 11, 13, 5, 6, 7]\n",
    "sorted_arr = merge_sort(arr)\n",
    "print(\"Sorted list:\", sorted_arr)"
   ]
  },
  {
   "cell_type": "markdown",
   "metadata": {},
   "source": [
    "75. Write a Python script that uses SQLAlchemy to connect to a SQLite database. Create a table called users with columns id, name, and email. Insert a few records, then query the table to retrieve and print the records."
   ]
  },
  {
   "cell_type": "code",
   "execution_count": null,
   "metadata": {},
   "outputs": [],
   "source": [
    "from sqlalchemy import create_engine, Column, Integer, String\n",
    "from sqlalchemy.ext.declarative import declarative_base\n",
    "from sqlalchemy.orm import sessionmaker\n",
    "\n",
    "# Create a SQLite engine\n",
    "engine = create_engine('sqlite:///users.db')\n",
    "\n",
    "# Create a base class for declarative class definitions\n",
    "Base = declarative_base()\n",
    "\n",
    "# Define the User class\n",
    "class User(Base):\n",
    "    __tablename__ = 'users'\n",
    "    id = Column(Integer, primary_key=True)\n",
    "    name = Column(String)\n",
    "    email = Column(String)\n",
    "\n",
    "# Create the table\n",
    "Base.metadata.create_all(engine)\n",
    "\n",
    "# Create a session\n",
    "Session = sessionmaker(bind=engine)\n",
    "session = Session()\n",
    "\n",
    "# Insert a few records\n",
    "users = [\n",
    "    User(name='John Doe', email='john@example.com'),\n",
    "    User(name='Jane Doe', email='jane@example.com'),\n",
    "    User(name='Bob Smith', email='bob@example.com')\n",
    "]\n",
    "session.add_all(users)\n",
    "session.commit()\n",
    "\n",
    "# Query the table\n",
    "users = session.query(User).all()\n",
    "\n",
    "# Print the records\n",
    "for user in users:\n",
    "    print(f\"ID: {user.id}, Name: {user.name}, Email: {user.email}\")"
   ]
  },
  {
   "cell_type": "markdown",
   "metadata": {},
   "source": [
    "76. Write a Python class called CustomError that inherits from Exception and takes an error message as an argument. Raise this custom exception in a function called check_positive if the input is not a positive number."
   ]
  },
  {
   "cell_type": "code",
   "execution_count": null,
   "metadata": {},
   "outputs": [],
   "source": [
    "class CustomError(Exception):\n",
    "    def __init__(self, message):\n",
    "        self.message = message\n",
    "        super().__init__(self.message)\n",
    "\n",
    "def check_positive(number):\n",
    "    if number <= 0:\n",
    "        raise CustomError(\"Input must be a positive number\")\n",
    "    return number\n",
    "\n",
    "# Test the function\n",
    "try:\n",
    "    result = check_positive(-5)\n",
    "    print(result)\n",
    "except CustomError as e:\n",
    "    print(e)"
   ]
  },
  {
   "cell_type": "markdown",
   "metadata": {},
   "source": [
    "77. Write a Python class called MaxHeap that implements a max heap data structure. Include methods to insert a new element, delete the maximum element, and print the heap."
   ]
  },
  {
   "cell_type": "code",
   "execution_count": null,
   "metadata": {},
   "outputs": [],
   "source": [
    "class MaxHeap:\n",
    "    def __init__(self):\n",
    "        self.heap = []\n",
    "\n",
    "    def insert(self, val):\n",
    "        self.heap.append(val)\n",
    "        self.__percolate_up(len(self.heap) - 1)\n",
    "\n",
    "    def delete_max(self):\n",
    "        if len(self.heap) == 0:\n",
    "            return None\n",
    "        if len(self.heap) == 1:\n",
    "            return self.heap.pop()\n",
    "        max_val = self.heap[0]\n",
    "        self.heap[0] = self.heap.pop()\n",
    "        self.__max_heapify(0)\n",
    "        return max_val\n",
    "\n",
    "    def print_heap(self):\n",
    "        print(self.heap)\n",
    "\n",
    "    def __percolate_up(self, index):\n",
    "        parent = (index - 1) // 2\n",
    "        if index <= 0:\n",
    "            return\n",
    "        elif self.heap[parent] < self.heap[index]:\n",
    "            tmp = self.heap[parent]\n",
    "            self.heap[parent] = self.heap[index]\n",
    "            self.heap[index] = tmp\n",
    "            self.__percolate_up(parent)\n",
    "\n",
    "    def __max_heapify(self, index):\n",
    "        left = (index * 2) + 1\n",
    "        right = (index * 2) + 2\n",
    "        largest = index\n",
    "        if len(self.heap) > left and self.heap[largest] < self.heap[left]:\n",
    "            largest = left\n",
    "        if len(self.heap) > right and self.heap[largest] < self.heap[right]:\n",
    "            largest = right\n",
    "        if largest != index:\n",
    "            tmp = self.heap[largest]\n",
    "            self.heap[largest] = self.heap[index]\n",
    "            self.heap[index] = tmp\n",
    "            self.__max_heapify(largest)\n",
    "\n",
    "# Test the MaxHeap class\n",
    "heap = MaxHeap()\n",
    "heap.insert(12)\n",
    "heap.insert(10)\n",
    "heap.insert(-10)\n",
    "heap.insert(100)\n",
    "heap.print_heap()  # [100, 12, -10, 10]\n",
    "print(heap.delete_max())  # 100\n",
    "heap.print_heap()  # [12, 10, -10]\n",
    "print(heap.delete_max())  # 12\n",
    "heap.print_heap()  # [10, -10]\n",
    "print(heap.delete_max())  # 10\n",
    "heap.print_heap()  # [-10]\n",
    "print(heap.delete_max())  # -10\n",
    "heap.print_heap()  # []"
   ]
  },
  {
   "cell_type": "markdown",
   "metadata": {},
   "source": [
    "78.  Write a Python program that uses the threading module to run two functions concurrently. One function should print numbers from 1 to 5 with a delay of 1 second, and the other should print letters from A to E with a delay of 1.5 seconds."
   ]
  },
  {
   "cell_type": "code",
   "execution_count": null,
   "metadata": {},
   "outputs": [],
   "source": [
    "import threading\n",
    "import time\n",
    "\n",
    "def print_numbers():\n",
    "    for i in range(1, 6):\n",
    "        print(i)\n",
    "        time.sleep(1)\n",
    "\n",
    "def print_letters():\n",
    "    for letter in 'ABCDE':\n",
    "        print(letter)\n",
    "        time.sleep(1.5)\n",
    "\n",
    "# Create threads\n",
    "thread1 = threading.Thread(target=print_numbers)\n",
    "thread2 = threading.Thread(target=print_letters)\n",
    "\n",
    "# Start threads\n",
    "thread1.start()\n",
    "thread2.start()\n",
    "\n",
    "# Wait for both threads to finish\n",
    "thread1.join()\n",
    "thread2.join()"
   ]
  },
  {
   "cell_type": "markdown",
   "metadata": {},
   "source": [
    "79. Write a Python class called LRUCache that implements a least recently used (LRU) cache. The cache should have a maximum capacity, and when the capacity is reached, the least recently used item should be removed. Include methods to get and put items in the cache."
   ]
  },
  {
   "cell_type": "code",
   "execution_count": null,
   "metadata": {},
   "outputs": [],
   "source": [
    "from collections import OrderedDict\n",
    "\n",
    "class LRUCache:\n",
    "    def __init__(self, capacity):\n",
    "        self.capacity = capacity\n",
    "        self.cache = OrderedDict()\n",
    "\n",
    "    def get(self, key):\n",
    "        if key not in self.cache:\n",
    "            return -1\n",
    "        else:\n",
    "            self.cache.move_to_end(key)\n",
    "            return self.cache[key]\n",
    "\n",
    "    def put(self, key, value):\n",
    "        if key in self.cache:\n",
    "            self.cache.move_to_end(key)\n",
    "        self.cache[key] = value\n",
    "        if len(self.cache) > self.capacity:\n",
    "            self.cache.popitem(last=False)\n",
    "\n",
    "# Test the LRUCache class\n",
    "cache = LRUCache(2)  # Create an LRU cache with a capacity of 2\n",
    "\n",
    "cache.put(1, 1)\n",
    "cache.put(2, 2)\n",
    "print(cache.get(1))  # returns 1\n",
    "cache.put(3, 3)  # evicts key 2\n",
    "print(cache.get(2))  # returns -1 (not found)\n",
    "cache.put(4, 4)  # evicts key 1\n",
    "print(cache.get(1))  # returns -1 (not found)\n",
    "print(cache.get(3))  # returns 3\n",
    "print(cache.get(4))  # returns 4"
   ]
  },
  {
   "cell_type": "markdown",
   "metadata": {},
   "source": [
    "80. Write a Python class called MetaSingleton using a metaclass that ensures any class inheriting from it will be a singleton (i.e., only one instance of the class can exist). Demonstrate by creating two instances and showing they are the same."
   ]
  },
  {
   "cell_type": "code",
   "execution_count": null,
   "metadata": {},
   "outputs": [],
   "source": [
    "class SingletonMeta(type):\n",
    "    _instances = {}\n",
    "\n",
    "    def __call__(cls, *args, **kwargs):\n",
    "        if cls not in cls._instances:\n",
    "            cls._instances[cls] = super(SingletonMeta, cls).__call__(*args, **kwargs)\n",
    "        return cls._instances[cls]\n",
    "\n",
    "\n",
    "class MetaSingleton(metaclass=SingletonMeta):\n",
    "    pass\n",
    "\n",
    "\n",
    "class MyClass(MetaSingleton):\n",
    "    def __init__(self, value):\n",
    "        self.value = value\n",
    "\n",
    "\n",
    "# Create two instances of MyClass\n",
    "obj1 = MyClass(\"Instance 1\")\n",
    "obj2 = MyClass(\"Instance 2\")\n",
    "\n",
    "# Show that obj1 and obj2 are the same instance\n",
    "print(obj1 is obj2)  # Output: True\n",
    "print(obj1.value)  # Output: Instance 1\n",
    "print(obj2.value)  # Output: Instance 1"
   ]
  },
  {
   "cell_type": "markdown",
   "metadata": {},
   "source": [
    "81. Write a Python generator function called prime_generator that yields an infinite sequence of prime numbers. Use the generator to print the first 10 prime numbers."
   ]
  },
  {
   "cell_type": "code",
   "execution_count": null,
   "metadata": {},
   "outputs": [],
   "source": [
    "def prime_generator():\n",
    "    def is_prime(n):\n",
    "        if n < 2:\n",
    "            return False\n",
    "        for i in range(2, int(n ** 0.5) + 1):\n",
    "            if n % i == 0:\n",
    "                return False\n",
    "        return True\n",
    "\n",
    "    num = 2\n",
    "    while True:\n",
    "        if is_prime(num):\n",
    "            yield num\n",
    "        num += 1\n",
    "\n",
    "\n",
    "# Print the first 10 prime numbers\n",
    "generator = prime_generator()\n",
    "for _ in range(10):\n",
    "    print(next(generator))"
   ]
  },
  {
   "cell_type": "markdown",
   "metadata": {},
   "source": [
    "82. Write a Python decorator called memoize that caches the results of a function so that it doesn't have to recompute the results for the same inputs. Apply this decorator to a recursive function that calculates Fibonacci numbers."
   ]
  },
  {
   "cell_type": "code",
   "execution_count": null,
   "metadata": {},
   "outputs": [],
   "source": [
    "def memoize(func):\n",
    "    cache = dict()\n",
    "\n",
    "    def memoized_func(*args):\n",
    "        if args in cache:\n",
    "            return cache[args]\n",
    "        result = func(*args)\n",
    "        cache[args] = result\n",
    "        return result\n",
    "\n",
    "    return memoized_func\n",
    "\n",
    "\n",
    "@memoize\n",
    "def fibonacci(n):\n",
    "    if n < 2:\n",
    "        return n\n",
    "    return fibonacci(n-1) + fibonacci(n-2)\n",
    "\n",
    "\n",
    "# Test the memoized fibonacci function\n",
    "print(fibonacci(10))  # Output: 55\n",
    "print(fibonacci(20))  # Output: 6765\n",
    "print(fibonacci(30))  # Output: 832040"
   ]
  },
  {
   "cell_type": "markdown",
   "metadata": {},
   "source": [
    "83. Write a Python program that uses the asyncio module to fetch the contents of three different URLs concurrently. Print the length of the content fetched from each URL."
   ]
  },
  {
   "cell_type": "code",
   "execution_count": null,
   "metadata": {},
   "outputs": [],
   "source": [
    "import asyncio\n",
    "import aiohttp\n",
    "\n",
    "async def fetch_url(session, url):\n",
    "    async with session.get(url) as response:\n",
    "        content = await response.text()\n",
    "        print(f\"Fetched {url} with length {len(content)}\")\n",
    "\n",
    "async def main():\n",
    "    urls = [\"http://example.com\", \"http://google.com\", \"http://python.org\"]\n",
    "    async with aiohttp.ClientSession() as session:\n",
    "        tasks = [fetch_url(session, url) for url in urls]\n",
    "        await asyncio.gather(*tasks)\n",
    "\n",
    "asyncio.run(main())"
   ]
  },
  {
   "cell_type": "markdown",
   "metadata": {},
   "source": [
    "84. Write a Python function called a_star that implements the A* search algorithm to find the shortest path in a grid. Use the function to find the shortest path from the top-left corner to the bottom-right corner of a 5x5 grid with some obstacles."
   ]
  },
  {
   "cell_type": "code",
   "execution_count": null,
   "metadata": {},
   "outputs": [],
   "source": [
    "import heapq\n",
    "\n",
    "def a_star(grid, start, goal):\n",
    "    \"\"\"\n",
    "    A* search algorithm to find the shortest path in a grid.\n",
    "\n",
    "    Args:\n",
    "        grid: A 2D list of 0s and 1s, where 0 represents an empty cell and 1 represents an obstacle.\n",
    "        start: A tuple (x, y) representing the starting point.\n",
    "        goal: A tuple (x, y) representing the goal point.\n",
    "\n",
    "    Returns:\n",
    "        A list of tuples representing the shortest path from the start to the goal.\n",
    "    \"\"\"\n",
    "    # Define the possible movements (up, down, left, right, and diagonals)\n",
    "    movements = [(0, 1), (0, -1), (1, 0), (-1, 0), (1, 1), (-1, -1), (1, -1), (-1, 1)]\n",
    "\n",
    "    # Define the heuristic function (Manhattan distance)\n",
    "    def heuristic(node, goal):\n",
    "        return abs(node[0] - goal[0]) + abs(node[1] - goal[1])\n",
    "\n",
    "    # Create a priority queue to hold the nodes to be processed\n",
    "    queue = []\n",
    "    heapq.heappush(queue, (0, start))\n",
    "\n",
    "    # Create a dictionary to store the cost and parent of each node\n",
    "    cost = {start: 0}\n",
    "    parent = {start: None}\n",
    "\n",
    "    # Process the nodes in the queue\n",
    "    while queue:\n",
    "        _, node = heapq.heappop(queue)\n",
    "\n",
    "        # If the node is the goal, construct the path and return it\n",
    "        if node == goal:\n",
    "            path = []\n",
    "            while node is not None:\n",
    "                path.append(node)\n",
    "                node = parent[node]\n",
    "            return path[::-1]\n",
    "\n",
    "        # Process the neighbors of the node\n",
    "        for movement in movements:\n",
    "            x, y = node[0] + movement[0], node[1] + movement[1]\n",
    "\n",
    "            # Check if the neighbor is within the grid and is not an obstacle\n",
    "            if (0 <= x < len(grid)) and (0 <= y < len(grid[0])) and (grid[x][y] == 0):\n",
    "                neighbor = (x, y)\n",
    "                new_cost = cost[node] + 1\n",
    "\n",
    "                # If the neighbor has not been processed before, or the new cost is less than the previous cost\n",
    "                if neighbor not in cost or new_cost < cost[neighbor]:\n",
    "                    cost[neighbor] = new_cost\n",
    "                    priority = new_cost + heuristic(neighbor, goal)\n",
    "                    heapq.heappush(queue, (priority, neighbor))\n",
    "                    parent[neighbor] = node\n",
    "\n",
    "    # If the goal is not reachable, return None\n",
    "    return None\n",
    "\n",
    "# Example usage:\n",
    "grid = [\n",
    "    [0, 0, 0, 0, 0],\n",
    "    [0, 1, 1, 0, 0],\n",
    "    [0, 0, 0, 0, 0],\n",
    "    [0, 1, 0, 1, 0],\n",
    "    [0, 0, 0, 0, 0]\n",
    "]\n",
    "\n",
    "start = (0, 0)\n",
    "goal = (4, 4)\n",
    "\n",
    "path = a_star(grid, start, goal)\n",
    "if path:\n",
    "    print(\"Shortest path:\", path)\n",
    "else:\n",
    "    print(\"No path found\")"
   ]
  },
  {
   "cell_type": "markdown",
   "metadata": {},
   "source": [
    "85. Write a Python class called Timer that implements a context manager to measure the time taken by a block of code. Use this context manager to time a loop that sums numbers from 1 to 1 million."
   ]
  },
  {
   "cell_type": "code",
   "execution_count": null,
   "metadata": {},
   "outputs": [],
   "source": [
    "import time\n",
    "\n",
    "class Timer:\n",
    "    def __enter__(self):\n",
    "        self.start_time = time.time()\n",
    "        return self\n",
    "\n",
    "    def __exit__(self, exc_type, exc_val, exc_tb):\n",
    "        self.end_time = time.time()\n",
    "        self.elapsed_time = self.end_time - self.start_time\n",
    "        print(f\"Elapsed time: {self.elapsed_time:.2f} seconds\")\n",
    "\n",
    "# Example usage:\n",
    "with Timer() as timer:\n",
    "    total = sum(range(1, 1000001))\n",
    "    print(f\"Sum: {total}\")\n",
    "\n",
    "print(f\"Elapsed time: {timer.elapsed_time:.2f} seconds\")"
   ]
  },
  {
   "cell_type": "markdown",
   "metadata": {},
   "source": [
    "86. Write a Python class called Graph that implements an undirected graph using an adjacency list. Include a method to perform depth-first search (DFS) starting from a given node. Demonstrate by creating a graph and performing DFS."
   ]
  },
  {
   "cell_type": "code",
   "execution_count": null,
   "metadata": {},
   "outputs": [],
   "source": [
    "class Graph:\n",
    "    def __init__(self):\n",
    "        self.adj_list = {}\n",
    "\n",
    "    def add_vertex(self, vertex):\n",
    "        if vertex not in self.adj_list:\n",
    "            self.adj_list[vertex] = []\n",
    "\n",
    "    def add_edge(self, vertex1, vertex2):\n",
    "        if vertex1 in self.adj_list and vertex2 in self.adj_list:\n",
    "            self.adj_list[vertex1].append(vertex2)\n",
    "            self.adj_list[vertex2].append(vertex1)\n",
    "\n",
    "    def dfs(self, start_vertex):\n",
    "        visited = set()\n",
    "        self._dfs_helper(start_vertex, visited)\n",
    "\n",
    "    def _dfs_helper(self, vertex, visited):\n",
    "        visited.add(vertex)\n",
    "        print(vertex, end=\" \")\n",
    "\n",
    "        for neighbor in self.adj_list[vertex]:\n",
    "            if neighbor not in visited:\n",
    "                self._dfs_helper(neighbor, visited)\n",
    "\n",
    "# Demonstration\n",
    "g = Graph()\n",
    "for i in range(1, 7):\n",
    "    g.add_vertex(i)\n",
    "\n",
    "g.add_edge(1, 2)\n",
    "g.add_edge(1, 3)\n",
    "g.add_edge(2, 4)\n",
    "g.add_edge(2, 5)\n",
    "g.add_edge(3, 6)\n",
    "\n",
    "print(\"Depth-first search starting from vertex 1:\")\n",
    "g.dfs(1)"
   ]
  },
  {
   "cell_type": "markdown",
   "metadata": {},
   "source": [
    "87. Write a Python program that uses matplotlib to plot the sine and cosine functions on the same graph. Label the axes and add a legend to distinguish between the two functions."
   ]
  },
  {
   "cell_type": "code",
   "execution_count": null,
   "metadata": {},
   "outputs": [],
   "source": [
    "import matplotlib.pyplot as plt\n",
    "import numpy as np\n",
    "\n",
    "# Create an array of x values from 0 to 4π\n",
    "x = np.linspace(0, 4 * np.pi, 1000)\n",
    "\n",
    "# Calculate the sine and cosine values\n",
    "sine = np.sin(x)\n",
    "cosine = np.cos(x)\n",
    "\n",
    "# Create the figure and axis objects\n",
    "fig, ax = plt.subplots()\n",
    "\n",
    "# Plot the sine and cosine functions\n",
    "ax.plot(x, sine, label='Sine')\n",
    "ax.plot(x, cosine, label='Cosine')\n",
    "\n",
    "# Set the title and labels\n",
    "ax.set_title('Sine and Cosine Functions')\n",
    "ax.set_xlabel('x')\n",
    "ax.set_ylabel('y')\n",
    "\n",
    "# Add a legend\n",
    "ax.legend()\n",
    "\n",
    "# Show the plot\n",
    "plt.show()"
   ]
  },
  {
   "cell_type": "markdown",
   "metadata": {},
   "source": [
    "88. Write a Python class called PriorityQueue that implements a priority queue using a heap. Include methods to insert an item with a priority and remove the item with the highest priority. Demonstrate by inserting and removing items. "
   ]
  },
  {
   "cell_type": "code",
   "execution_count": null,
   "metadata": {},
   "outputs": [],
   "source": [
    "import heapq\n",
    "\n",
    "class PriorityQueue:\n",
    "    def __init__(self):\n",
    "        self.heap = []\n",
    "\n",
    "    def insert(self, item, priority):\n",
    "        heapq.heappush(self.heap, (-priority, item))\n",
    "\n",
    "    def remove(self):\n",
    "        if not self.heap:\n",
    "            raise ValueError(\"Priority queue is empty\")\n",
    "        priority, item = heapq.heappop(self.heap)\n",
    "        return item\n",
    "\n",
    "    def is_empty(self):\n",
    "        return not self.heap\n",
    "\n",
    "# Demonstration\n",
    "pq = PriorityQueue()\n",
    "\n",
    "# Insert items with priorities\n",
    "pq.insert(\"Task A\", 3)\n",
    "pq.insert(\"Task B\", 1)\n",
    "pq.insert(\"Task C\", 2)\n",
    "pq.insert(\"Task D\", 4)\n",
    "\n",
    "# Remove items with highest priority\n",
    "while not pq.is_empty():\n",
    "    item = pq.remove()\n",
    "    print(f\"Removed item: {item}\")\n"
   ]
  },
  {
   "cell_type": "markdown",
   "metadata": {},
   "source": [
    "89. Write a Python program that reads a JSON file containing a list of dictionaries, each representing a product with keys name, price, and quantity. Calculate the total value of the inventory and print it."
   ]
  },
  {
   "cell_type": "code",
   "execution_count": null,
   "metadata": {},
   "outputs": [],
   "source": [
    "import json\n",
    "\n",
    "def calculate_inventory_value(file_path):\n",
    "    with open(file_path, 'r') as file:\n",
    "        products = json.load(file)\n",
    "        total_value = 0\n",
    "        for product in products:\n",
    "            total_value += product['price'] * product['quantity']\n",
    "        return total_value\n",
    "\n",
    "def main():\n",
    "    file_path = 'inventory.json'  # replace with your JSON file path\n",
    "    total_value = calculate_inventory_value(file_path)\n",
    "    print(f'Total value of the inventory: ${total_value:.2f}')\n",
    "\n",
    "if __name__ == '__main__':\n",
    "    main()"
   ]
  },
  {
   "cell_type": "markdown",
   "metadata": {},
   "source": [
    "90. Write a Python program that uses the NLTK library to create a simple rule-based chatbot. The chatbot should respond to greetings and a few predefined questions. Demonstrate a conversation with the chatbot."
   ]
  },
  {
   "cell_type": "code",
   "execution_count": null,
   "metadata": {},
   "outputs": [],
   "source": [
    "import nltk\n",
    "from nltk.tokenize import word_tokenize\n",
    "\n",
    "nltk.download('punkt')  # download the Punkt tokenizer models\n",
    "\n",
    "# Define the chatbot's responses\n",
    "responses = {\n",
    "    'greetings': ['Hello!', 'Hi!', 'Hey!'],\n",
    "    'goodbye': ['Goodbye!', 'See you later!', 'Farewell!'],\n",
    "    'how_are_you': ['I\\'m doing well, thanks!', 'I\\'m good!', 'I\\'m great, thanks!'],\n",
    "    'what_is_your_name': ['My name is Chatty!', 'I\\'m Chatty!', 'Chatty is my name!'],\n",
    "}\n",
    "\n",
    "# Define the chatbot's rules\n",
    "rules = [\n",
    "    (r'hi|hello|hey', 'greetings'),\n",
    "    (r'goodbye|bye|see you later', 'goodbye'),\n",
    "    (r'how are you', 'how_are_you'),\n",
    "    (r'what is your name', 'what_is_your_name'),\n",
    "]\n",
    "\n",
    "def respond(user_input):\n",
    "    tokens = word_tokenize(user_input.lower())\n",
    "    for rule, response_key in rules:\n",
    "        if any(re.search(rule, token) for token in tokens):\n",
    "            return random.choice(responses[response_key])\n",
    "    return 'I didn\\'t understand that. Please try again!'\n",
    "\n",
    "def chat():\n",
    "    print('Welcome to Chatty!')\n",
    "    while True:\n",
    "        user_input = input('You: ')\n",
    "        response = respond(user_input)\n",
    "        print('Chatty:', response)\n",
    "        if response in responses['goodbye']:\n",
    "            break\n",
    "\n",
    "if __name__ == '__main__':\n",
    "    chat()"
   ]
  },
  {
   "cell_type": "markdown",
   "metadata": {},
   "source": [
    "91. Write a Python program that uses OpenCV to load an image, convert it to grayscale, and apply a Gaussian blur. Save and display the processed image."
   ]
  },
  {
   "cell_type": "code",
   "execution_count": null,
   "metadata": {},
   "outputs": [],
   "source": [
    "import cv2\n",
    "\n",
    "# Load the image\n",
    "image_path = 'image.jpg'  # replace with your image path\n",
    "image = cv2.imread(image_path)\n",
    "\n",
    "# Convert the image to grayscale\n",
    "gray_image = cv2.cvtColor(image, cv2.COLOR_BGR2GRAY)\n",
    "\n",
    "# Apply a Gaussian blur to the grayscale image\n",
    "blurred_image = cv2.GaussianBlur(gray_image, (5, 5), 0)\n",
    "\n",
    "# Save the processed image\n",
    "output_path = 'output.jpg'\n",
    "cv2.imwrite(output_path, blurred_image)\n",
    "\n",
    "# Display the original and processed images\n",
    "cv2.imshow('Original Image', image)\n",
    "cv2.imshow('Processed Image', blurred_image)\n",
    "cv2.waitKey(0)\n",
    "cv2.destroyAllWindows()"
   ]
  },
  {
   "cell_type": "markdown",
   "metadata": {},
   "source": [
    "92. Write a Python program that implements a simple neural network from scratch using only NumPy. The network should have one hidden layer and should be trained using the backpropagation algorithm on a small dataset."
   ]
  },
  {
   "cell_type": "code",
   "execution_count": null,
   "metadata": {},
   "outputs": [],
   "source": [
    "import numpy as np\n",
    "\n",
    "# Define the number of inputs, hidden units, and outputs\n",
    "n_inputs = 2\n",
    "n_hidden = 2\n",
    "n_outputs = 1\n",
    "\n",
    "# Define the learning rate\n",
    "learning_rate = 0.1\n",
    "\n",
    "# Initialize the weights and biases\n",
    "weights1 = np.random.rand(n_inputs, n_hidden)\n",
    "weights2 = np.random.rand(n_hidden, n_outputs)\n",
    "bias1 = np.zeros((1, n_hidden))\n",
    "bias2 = np.zeros((1, n_outputs))\n",
    "\n",
    "# Define the sigmoid function and its derivative\n",
    "def sigmoid(x):\n",
    "    return 1 / (1 + np.exp(-x))\n",
    "\n",
    "def sigmoid_derivative(x):\n",
    "    return x * (1 - x)\n",
    "\n",
    "# Define the training data\n",
    "X = np.array([[0, 0], [0, 1], [1, 0], [1, 1]])\n",
    "y = np.array([[0], [1], [1], [0]])\n",
    "\n",
    "# Train the network\n",
    "for _ in range(10000):\n",
    "    # Forward pass\n",
    "    hidden_layer = sigmoid(np.dot(X, weights1) + bias1)\n",
    "    output_layer = sigmoid(np.dot(hidden_layer, weights2) + bias2)\n",
    "\n",
    "    # Backward pass\n",
    "    output_error = y - output_layer\n",
    "    hidden_error = output_error * sigmoid_derivative(hidden_layer)\n",
    "\n",
    "    # Update the weights and biases\n",
    "    weights2 += learning_rate * np.dot(hidden_layer.T, output_error)\n",
    "    bias2 += learning_rate * output_error\n",
    "    weights1 += learning_rate * np.dot(X.T, hidden_error)\n",
    "    bias1 += learning_rate * hidden_error\n",
    "\n",
    "# Test the network\n",
    "print(\"Output from neural network after 10,000 iterations:\")\n",
    "print(output_layer)\n",
    "\n",
    "print(\"\\nOutput from neural network after training:\")\n",
    "print(\"Input: [0, 0] -> Output:\", sigmoid(np.dot(sigmoid(np.dot([0, 0], weights1) + bias1), weights2) + bias2))\n",
    "print(\"Input: [1, 0] -> Output:\", sigmoid(np.dot(sigmoid(np.dot([1, 0], weights1) + bias1), weights2) + bias2))\n",
    "print(\"Input: [0, 1] -> Output:\", sigmoid(np.dot(sigmoid(np.dot([0, 1], weights1) + bias1), weights2) + bias2))\n",
    "print(\"Input: [1, 1] -> Output:\", sigmoid(np.dot(sigmoid(np.dot([1, 1], weights1) + bias1), weights2) + bias2))"
   ]
  },
  {
   "cell_type": "markdown",
   "metadata": {},
   "source": [
    "93. Write a Flask application that connects to a SQLite database to store and retrieve user information. Implement routes to add a new user, retrieve all users, and delete a user by ID."
   ]
  },
  {
   "cell_type": "code",
   "execution_count": null,
   "metadata": {},
   "outputs": [],
   "source": [
    "from flask import Flask, jsonify, request\n",
    "import sqlite3\n",
    "\n",
    "# Initialize the Flask app\n",
    "app = Flask(__name__)\n",
    "\n",
    "# Connect to the SQLite database\n",
    "def get_db_connection():\n",
    "    conn = sqlite3.connect('users.db')\n",
    "    conn.row_factory = sqlite3.Row\n",
    "    return conn\n",
    "\n",
    "# Create the users table if it doesn't exist\n",
    "def init_db():\n",
    "    conn = get_db_connection()\n",
    "    conn.execute('''CREATE TABLE IF NOT EXISTS users (id INTEGER PRIMARY KEY AUTOINCREMENT, name TEXT NOT NULL, age INTEGER NOT NULL);''')\n",
    "    conn.commit()\n",
    "    conn.close()\n",
    "\n",
    "# Initialize the database\n",
    "init_db()\n",
    "\n",
    "# Add a new user\n",
    "@app.route('/users', methods=['POST'])\n",
    "def add_user():\n",
    "    name = request.json['name']\n",
    "    age = request.json['age']\n",
    "\n",
    "    conn = get_db_connection()\n",
    "    conn.execute('INSERT INTO users (name, age) VALUES (?, ?)', (name, age))\n",
    "    conn.commit()\n",
    "    user_id = conn.lastrowid\n",
    "    conn.close()\n",
    "\n",
    "    return jsonify({'id': user_id}), 201\n",
    "\n",
    "# Retrieve all users\n",
    "@app.route('/users', methods=['GET'])\n",
    "def get_users():\n",
    "    conn = get_db_connection()\n",
    "    users = conn.execute('SELECT * FROM users').fetchall()\n",
    "    conn.close()\n",
    "\n",
    "    return jsonify([dict(user) for user in users])\n",
    "\n",
    "# Delete a user by ID\n",
    "@app.route('/users/<int:user_id>', methods=['DELETE'])\n",
    "def delete_user(user_id):\n",
    "    conn = get_db_connection()\n",
    "    conn.execute('DELETE FROM users WHERE id = ?', (user_id,))\n",
    "    conn.commit()\n",
    "    conn.close()\n",
    "\n",
    "    return '', 204\n",
    "\n",
    "# Run the Flask app\n",
    "if __name__ == '__main__':\n",
    "    app.run(debug=True)"
   ]
  },
  {
   "cell_type": "markdown",
   "metadata": {},
   "source": [
    "94. Write a Python program that uses Selenium to automate the process of logging into a website and navigating to a specific page. Provide instructions for testing the automation."
   ]
  },
  {
   "cell_type": "code",
   "execution_count": null,
   "metadata": {},
   "outputs": [],
   "source": [
    "from selenium import webdriver\n",
    "from selenium.webdriver.common.by import By\n",
    "from selenium.webdriver.support.ui import WebDriverWait\n",
    "from selenium.webdriver.support import expected_conditions as EC\n",
    "\n",
    "# Replace with your own website credentials and page URL\n",
    "username = \"your_username\"\n",
    "password = \"your_password\"\n",
    "website_url = \"https://example.com\"\n",
    "page_url = \"https://example.com/dashboard\"\n",
    "\n",
    "# Set up the Chrome driver\n",
    "driver = webdriver.Chrome(\"/path/to/chromedriver\")\n",
    "\n",
    "# Navigate to the website\n",
    "driver.get(website_url)\n",
    "\n",
    "# Wait for the login form to load\n",
    "login_form = WebDriverWait(driver, 10).until(\n",
    "    EC.presence_of_element_located((By.ID, \"login-form\"))\n",
    ")\n",
    "\n",
    "# Enter the username and password\n",
    "username_input = driver.find_element_by_id(\"username\")\n",
    "password_input = driver.find_element_by_id(\"password\")\n",
    "username_input.send_keys(username)\n",
    "password_input.send_keys(password)\n",
    "\n",
    "# Click the login button\n",
    "login_button = driver.find_element_by_id(\"login-button\")\n",
    "login_button.click()\n",
    "\n",
    "# Wait for the page to load\n",
    "page_loaded = WebDriverWait(driver, 10).until(\n",
    "    EC.url_to_be(page_url)\n",
    ")\n",
    "\n",
    "# Print a success message\n",
    "print(\"Logged in and navigated to the page successfully!\")\n",
    "\n",
    "# Close the browser\n",
    "driver.quit()"
   ]
  },
  {
   "cell_type": "markdown",
   "metadata": {},
   "source": [
    "95. Write a Python program that uses Scikit-learn to build a logistic regression model to classify a dataset. Train the model on the Iris dataset, evaluate its accuracy, and print the results."
   ]
  },
  {
   "cell_type": "code",
   "execution_count": null,
   "metadata": {},
   "outputs": [],
   "source": [
    "# Import necessary libraries\n",
    "from sklearn.datasets import load_iris\n",
    "from sklearn.model_selection import train_test_split\n",
    "from sklearn.linear_model import LogisticRegression\n",
    "from sklearn.metrics import accuracy_score, classification_report, confusion_matrix\n",
    "\n",
    "# Load the Iris dataset\n",
    "iris = load_iris()\n",
    "X = iris.data\n",
    "y = iris.target\n",
    "\n",
    "# Split the dataset into training and testing sets\n",
    "X_train, X_test, y_train, y_test = train_test_split(X, y, test_size=0.2, random_state=42)\n",
    "\n",
    "# Create a logistic regression model\n",
    "model = LogisticRegression(max_iter=1000)\n",
    "\n",
    "# Train the model on the training data\n",
    "model.fit(X_train, y_train)\n",
    "\n",
    "# Make predictions on the testing data\n",
    "y_pred = model.predict(X_test)\n",
    "\n",
    "# Evaluate the model's accuracy\n",
    "accuracy = accuracy_score(y_test, y_pred)\n",
    "print(\"Accuracy:\", accuracy)\n",
    "\n",
    "# Print the classification report\n",
    "print(\"Classification Report:\")\n",
    "print(classification_report(y_test, y_pred))\n",
    "\n",
    "# Print the confusion matrix\n",
    "print(\"Confusion Matrix:\")\n",
    "print(confusion_matrix(y_test, y_pred))"
   ]
  },
  {
   "cell_type": "markdown",
   "metadata": {},
   "source": [
    "96. Write a Python function called knapsack that solves the 0/1 knapsack problem using dynamic programming. Given a list of items with weights and values, and a maximum weight capacity, find the maximum value that can be obtained."
   ]
  },
  {
   "cell_type": "code",
   "execution_count": null,
   "metadata": {},
   "outputs": [],
   "source": [
    "def knapsack(items, capacity):\n",
    "    \"\"\"\n",
    "    Solves the 0/1 knapsack problem using dynamic programming.\n",
    "\n",
    "    Parameters:\n",
    "    items (list of tuples): Each tuple contains the weight and value of an item.\n",
    "    capacity (int): The maximum weight capacity of the knapsack.\n",
    "\n",
    "    Returns:\n",
    "    int: The maximum value that can be obtained.\n",
    "    \"\"\"\n",
    "    n = len(items)\n",
    "    dp = [[0 for _ in range(capacity + 1)] for _ in range(n + 1)]\n",
    "\n",
    "    for i in range(1, n + 1):\n",
    "        weight, value = items[i - 1]\n",
    "        for w in range(1, capacity + 1):\n",
    "            if weight > w:\n",
    "                dp[i][w] = dp[i - 1][w]\n",
    "            else:\n",
    "                dp[i][w] = max(dp[i - 1][w], dp[i - 1][w - weight] + value)\n",
    "\n",
    "    return dp[n][capacity]\n",
    "\n",
    "# Example usage:\n",
    "items = [(2, 3), (3, 4), (1, 2), (4, 5), (5, 6)]  # weights and values\n",
    "capacity = 10\n",
    "max_value = knapsack(items, capacity)\n",
    "print(\"Maximum value:\", max_value)"
   ]
  },
  {
   "cell_type": "markdown",
   "metadata": {},
   "source": [
    "97. Write a Python program using the Scrapy framework to scrape product information (name, price, availability) from an e-commerce website and store the results in a CSV file."
   ]
  },
  {
   "cell_type": "code",
   "execution_count": null,
   "metadata": {},
   "outputs": [],
   "source": [
    "import scrapy\n",
    "import csv\n",
    "\n",
    "class ProductScraper(scrapy.Spider):\n",
    "    name = \"product_scraper\"\n",
    "    start_urls = [\n",
    "        'https://example.com/products',  # Replace with the website's product page\n",
    "    ]\n",
    "\n",
    "    def parse(self, response):\n",
    "        products = response.css('div.product')\n",
    "        for product in products:\n",
    "            name = product.css('h2.product-name::text').get()\n",
    "            price = product.css('span.price::text').get()\n",
    "            availability = product.css('p.availability::text').get()\n",
    "            yield {\n",
    "                'name': name.strip(),\n",
    "                'price': price.strip(),\n",
    "                'availability': availability.strip(),\n",
    "            }\n",
    "\n",
    "        next_page = response.css('li.next a::attr(href)').get()\n",
    "        if next_page is not None:\n",
    "            yield response.follow(next_page, callback=self.parse)\n",
    "\n",
    "class CsvWriterPipeline:\n",
    "    def __init__(self):\n",
    "        self.file = open('products.csv', 'w', newline='')\n",
    "        self.writer = csv.writer(self.file)\n",
    "        self.writer.writerow(['name', 'price', 'availability'])\n",
    "\n",
    "    def process_item(self, item, spider):\n",
    "        self.writer.writerow([item['name'], item['price'], item['availability']])\n",
    "        return item\n",
    "\n",
    "    def close_spider(self, spider):\n",
    "        self.file.close()\n",
    "\n",
    "settings = {\n",
    "    'USER_AGENT': 'Mozilla/5.0 (Windows NT 10.0; Win64; x64) AppleWebKit/537.36 (KHTML, like Gecko) Chrome/58.0.3029.110 Safari/537.3',\n",
    "    'ROBOTSTXT_OBEY': True,\n",
    "    'ITEM_PIPELINES': {'__main__.CsvWriterPipeline': 300},\n",
    "}\n",
    "\n",
    "if __name__ == '__main__':\n",
    "    from scrapy.crawler import CrawlerProcess\n",
    "    c = CrawlerProcess(settings)\n",
    "    c.crawl(ProductScraper)\n",
    "    c.start()"
   ]
  },
  {
   "cell_type": "markdown",
   "metadata": {},
   "source": [
    "98. Write a Python program that uses TensorFlow to implement a simple convolutional neural network (CNN) for image classification. Train the network on the CIFAR-10 dataset and evaluate its performance."
   ]
  },
  {
   "cell_type": "code",
   "execution_count": null,
   "metadata": {},
   "outputs": [],
   "source": [
    "import tensorflow as tf\n",
    "from tensorflow.keras.datasets import cifar10\n",
    "from tensorflow.keras.layers import Conv2D, MaxPooling2D, Flatten, Dense\n",
    "\n",
    "# Load the CIFAR-10 dataset\n",
    "(x_train, y_train), (x_test, y_test) = cifar10.load_data()\n",
    "\n",
    "# Normalize the input data\n",
    "x_train = x_train.astype('float32') / 255\n",
    "x_test = x_test.astype('float32') / 255\n",
    "\n",
    "# Define the CNN model\n",
    "model = tf.keras.models.Sequential([\n",
    "    Conv2D(32, (3, 3), activation='relu', input_shape=(32, 32, 3)),\n",
    "    MaxPooling2D((2, 2)),\n",
    "    Conv2D(64, (3, 3), activation='relu'),\n",
    "    MaxPooling2D((2, 2)),\n",
    "    Conv2D(64, (3, 3), activation='relu'),\n",
    "    Flatten(),\n",
    "    Dense(64, activation='relu'),\n",
    "    Dense(10, activation='softmax')\n",
    "])\n",
    "\n",
    "# Compile the model\n",
    "model.compile(optimizer='adam',\n",
    "              loss='sparse_categorical_crossentropy',\n",
    "              metrics=['accuracy'])\n",
    "\n",
    "# Train the model\n",
    "model.fit(x_train, y_train, epochs=10, batch_size=128, validation_data=(x_test, y_test))\n",
    "\n",
    "# Evaluate the model\n",
    "test_loss, test_acc = model.evaluate(x_test, y_test)\n",
    "print('Test accuracy:', test_acc)"
   ]
  },
  {
   "cell_type": "markdown",
   "metadata": {},
   "source": [
    "99. Write a Python program that uses PyTorch to implement a simple recurrent neural network (RNN) for text classification. Train the network on a small text dataset and print the accuracy."
   ]
  },
  {
   "cell_type": "code",
   "execution_count": null,
   "metadata": {},
   "outputs": [],
   "source": [
    "import torch\n",
    "import torch.nn as nn\n",
    "import torch.optim as optim\n",
    "from torch.utils.data import Dataset, DataLoader\n",
    "import numpy as np\n",
    "import pandas as pd\n",
    "\n",
    "# Load the dataset\n",
    "train_data = pd.read_csv('train.csv')\n",
    "test_data = pd.read_csv('test.csv')\n",
    "\n",
    "# Create a custom dataset class\n",
    "class TextDataset(Dataset):\n",
    "    def __init__(self, data, max_len):\n",
    "        self.data = data\n",
    "        self.max_len = max_len\n",
    "\n",
    "    def __len__(self):\n",
    "        return len(self.data)\n",
    "\n",
    "    def __getitem__(self, idx):\n",
    "        text = self.data.iloc[idx, 0]\n",
    "        label = self.data.iloc[idx, 1]\n",
    "\n",
    "        # Convert text to numerical representation\n",
    "        tokens = text.split()\n",
    "        tokens = tokens[:self.max_len]\n",
    "        tokens = [1] + [2] + [3] * (self.max_len - len(tokens)) + tokens\n",
    "        tokens = torch.tensor(tokens)\n",
    "\n",
    "        return {\n",
    "            'text': tokens,\n",
    "            'label': torch.tensor(label)\n",
    "        }\n",
    "\n",
    "# Create data loaders\n",
    "max_len = 50\n",
    "batch_size = 32\n",
    "\n",
    "train_dataset = TextDataset(train_data, max_len)\n",
    "test_dataset = TextDataset(test_data, max_len)\n",
    "\n",
    "train_loader = DataLoader(train_dataset, batch_size=batch_size, shuffle=True)\n",
    "test_loader = DataLoader(test_dataset, batch_size=batch_size, shuffle=False)\n",
    "\n",
    "# Define the RNN model\n",
    "class RNN(nn.Module):\n",
    "    def __init__(self, input_dim, hidden_dim, output_dim):\n",
    "        super(RNN, self).__init__()\n",
    "        self.rnn = nn.RNN(input_dim, hidden_dim, num_layers=1, batch_first=True)\n",
    "        self.fc = nn.Linear(hidden_dim, output_dim)\n",
    "\n",
    "    def forward(self, x):\n",
    "        h0 = torch.zeros(1, x.size(0), self.rnn.hidden_size).to(x.device)\n",
    "        out, _ = self.rnn(x, h0)\n",
    "        out = self.fc(out[:, -1, :])\n",
    "        return out\n",
    "\n",
    "# Initialize the model, optimizer, and loss function\n",
    "input_dim = 4\n",
    "hidden_dim = 128\n",
    "output_dim = 2\n",
    "\n",
    "model = RNN(input_dim, hidden_dim, output_dim)\n",
    "criterion = nn.CrossEntropyLoss()\n",
    "optimizer = optim.Adam(model.parameters(), lr=0.001)\n",
    "\n",
    "# Train the model\n",
    "for epoch in range(5):\n",
    "    model.train()\n",
    "    total_loss = 0\n",
    "    for batch in train_loader:\n",
    "        text = batch['text'].to(device)\n",
    "        label = batch['label'].to(device)\n",
    "\n",
    "        optimizer.zero_grad()\n",
    "\n",
    "        output = model(text)\n",
    "        loss = criterion(output, label)\n",
    "        loss.backward()\n",
    "        optimizer.step()\n",
    "\n",
    "        total_loss += loss.item()\n",
    "\n",
    "    print(f'Epoch {epoch+1}, Loss: {total_loss / len(train_loader)}')\n",
    "\n",
    "    model.eval()\n",
    "    total_correct = 0\n",
    "    with torch.no_grad():\n",
    "        for batch in test_loader:\n",
    "            text = batch['text'].to(device)\n",
    "            label = batch['label'].to(device)\n",
    "\n",
    "            output = model(text)\n",
    "            _, predicted = torch.max(output, 1)\n",
    "            total_correct += (predicted == label).sum().item()\n",
    "\n",
    "    accuracy = total_correct / len(test_data)\n",
    "    print(f'Test Accuracy: {accuracy:.4f}')"
   ]
  },
  {
   "cell_type": "markdown",
   "metadata": {},
   "source": [
    "100. Write a Python program that builds a recommendation system using collaborative filtering. Use a sample dataset of user-item interactions, and recommend items to a user based on similar users' preferences."
   ]
  },
  {
   "cell_type": "code",
   "execution_count": null,
   "metadata": {},
   "outputs": [],
   "source": [
    "import pandas as pd\n",
    "from sklearn.metrics.pairwise import cosine_similarity\n",
    "from sklearn.preprocessing import normalize\n",
    "\n",
    "# Load the sample dataset of user-item interactions\n",
    "data = {\n",
    "    'user_id': [1, 1, 1, 2, 2, 2, 3, 3, 3, 4, 4, 4],\n",
    "    'item_id': [1, 2, 3, 1, 2, 4, 2, 3, 4, 1, 3, 4],\n",
    "    'rating': [5, 4, 3, 4, 3, 2, 3, 4, 2, 5, 4, 3]\n",
    "}\n",
    "df = pd.DataFrame(data)\n",
    "\n",
    "# Create a user-item matrix\n",
    "user_item_matrix = df.pivot(index='user_id', columns='item_id', values='rating')\n",
    "\n",
    "# Fill missing ratings with 0\n",
    "user_item_matrix.fillna(0, inplace=True)\n",
    "\n",
    "# Normalize the user-item matrix\n",
    "user_item_matrix = normalize(user_item_matrix, axis=1)\n",
    "\n",
    "# Calculate the similarity between users using cosine similarity\n",
    "user_similarity = cosine_similarity(user_item_matrix)\n",
    "\n",
    "# Define a function to recommend items to a user\n",
    "def recommend_items(user_id, num_items=3):\n",
    "    # Get the similarity scores for the target user\n",
    "    similarity_scores = user_similarity[user_id-1]\n",
    "\n",
    "    # Get the top N similar users\n",
    "    top_similar_users = np.argsort(-similarity_scores)[:num_items+1]\n",
    "\n",
    "    # Get the items rated by the top similar users\n",
    "    similar_items = user_item_matrix.iloc[top_similar_users].sum(axis=0)\n",
    "\n",
    "    # Get the items not rated by the target user\n",
    "    unrated_items = similar_items[user_item_matrix.iloc[user_id-1] == 0]\n",
    "\n",
    "    # Return the top N recommended items\n",
    "    return unrated_items.nlargest(num_items).index.tolist()\n",
    "\n",
    "# Test the recommendation function\n",
    "user_id = 1\n",
    "recommended_items = recommend_items(user_id)\n",
    "print(f'Recommended items for user {user_id}: {recommended_items}')"
   ]
  },
  {
   "cell_type": "markdown",
   "metadata": {},
   "source": [
    "#### MODEL: REPLIT AI"
   ]
  },
  {
   "cell_type": "markdown",
   "metadata": {},
   "source": [
    "1. Write a Python program that prints the string 'Hello, World!' to the console"
   ]
  },
  {
   "cell_type": "code",
   "execution_count": null,
   "metadata": {},
   "outputs": [],
   "source": [
    "print(\"Hello, World!\")"
   ]
  },
  {
   "cell_type": "markdown",
   "metadata": {},
   "source": [
    "2. Write a Python program that concatenates the strings 'Hello' and 'World' with a space in between and prints the result"
   ]
  },
  {
   "cell_type": "code",
   "execution_count": null,
   "metadata": {},
   "outputs": [],
   "source": [
    "print(\"Hello\" + \" \" + \"World\")"
   ]
  },
  {
   "cell_type": "markdown",
   "metadata": {},
   "source": [
    "3. Create a Python list containing the numbers 1, 2, and 3. Print the list to the console."
   ]
  },
  {
   "cell_type": "code",
   "execution_count": null,
   "metadata": {},
   "outputs": [],
   "source": [
    "numbers = [1, 2, 3]\n",
    "print(numbers)"
   ]
  },
  {
   "cell_type": "markdown",
   "metadata": {},
   "source": [
    "4. Write a Python program that adds the number 4 to the list [1, 2, 3] and prints the updated list."
   ]
  },
  {
   "cell_type": "code",
   "execution_count": null,
   "metadata": {},
   "outputs": [],
   "source": [
    "numbers = [1, 2, 3]\n",
    "numbers.append(4)\n",
    "print(numbers)"
   ]
  },
  {
   "cell_type": "markdown",
   "metadata": {},
   "source": [
    "5. Write a Python program that removes the number 2 from the list [1, 2, 3] and prints the updated list"
   ]
  },
  {
   "cell_type": "code",
   "execution_count": null,
   "metadata": {},
   "outputs": [],
   "source": [
    "numbers = [1, 2, 3]\n",
    "numbers.remove(2)\n",
    "print(numbers)"
   ]
  },
  {
   "cell_type": "markdown",
   "metadata": {},
   "source": [
    "6. Write a Python program that sorts the list [3, 1, 2] in ascending order and prints the sorted list"
   ]
  },
  {
   "cell_type": "code",
   "execution_count": null,
   "metadata": {},
   "outputs": [],
   "source": [
    "numbers = [3, 1, 2]\n",
    "numbers.sort()\n",
    "print(numbers)"
   ]
  },
  {
   "cell_type": "markdown",
   "metadata": {},
   "source": [
    "7. Write a Python program that reverses the list [1, 2, 3] and prints the reversed list."
   ]
  },
  {
   "cell_type": "code",
   "execution_count": null,
   "metadata": {},
   "outputs": [],
   "source": [
    "numbers = [1, 2, 3]\n",
    "numbers.reverse()\n",
    "print(numbers)"
   ]
  },
  {
   "cell_type": "markdown",
   "metadata": {},
   "source": [
    "8. Create a Python dictionary with the keys 'a', 'b', and 'c' and corresponding values 1, 2, and 3. Print the dictionary to the console."
   ]
  },
  {
   "cell_type": "code",
   "execution_count": null,
   "metadata": {},
   "outputs": [],
   "source": [
    "my_dict = {'a': 1, 'b': 2, 'c': 3}\n",
    "print(my_dict)"
   ]
  },
  {
   "cell_type": "markdown",
   "metadata": {},
   "source": [
    "9. Write a Python program that accesses the value associated with the key 'b' in the dictionary {'a': 1, 'b': 2, 'c': 3} and prints it"
   ]
  },
  {
   "cell_type": "code",
   "execution_count": null,
   "metadata": {},
   "outputs": [],
   "source": [
    "my_dict = {'a': 1, 'b': 2, 'c': 3}\n",
    "print(my_dict['b'])"
   ]
  },
  {
   "cell_type": "markdown",
   "metadata": {},
   "source": [
    "10. Create a tuple (1, 2, 3) and print the first element of the tuple"
   ]
  },
  {
   "cell_type": "code",
   "execution_count": null,
   "metadata": {},
   "outputs": [],
   "source": [
    "my_tuple = (1, 2, 3)\n",
    "print(my_tuple[0])"
   ]
  },
  {
   "cell_type": "markdown",
   "metadata": {},
   "source": [
    "11. Write a Python program that checks if a number is greater than 10. If it is, print 'Greater', otherwise print 'Not Greater'"
   ]
  },
  {
   "cell_type": "code",
   "execution_count": null,
   "metadata": {},
   "outputs": [],
   "source": [
    "number = 15\n",
    "\n",
    "if number > 10:\n",
    "  print(\"Greater\")\n",
    "else:\n",
    "  print(\"Not Greater\")"
   ]
  },
  {
   "cell_type": "markdown",
   "metadata": {},
   "source": [
    "12. Write a Python program that uses a for loop to iterate over the list [1, 2, 3] and prints each element.\""
   ]
  },
  {
   "cell_type": "code",
   "execution_count": null,
   "metadata": {},
   "outputs": [],
   "source": [
    "numbers = [1, 2, 3]\n",
    "\n",
    "for number in numbers:\n",
    "  print(number)"
   ]
  },
  {
   "cell_type": "markdown",
   "metadata": {},
   "source": [
    "13. Write a Python program that uses a while loop to print the numbers from 1 to 5."
   ]
  },
  {
   "cell_type": "code",
   "execution_count": null,
   "metadata": {},
   "outputs": [],
   "source": [
    "i = 1\n",
    "while i <= 5:\n",
    "  print(i)\n",
    "  i += 1"
   ]
  },
  {
   "cell_type": "markdown",
   "metadata": {},
   "source": [
    "14. Write a Python function called greet that takes no arguments and prints 'Hello!' when called."
   ]
  },
  {
   "cell_type": "code",
   "execution_count": null,
   "metadata": {},
   "outputs": [],
   "source": [
    "def greet():\n",
    "  print(\"Hello!\")\n",
    "\n",
    "greet()"
   ]
  },
  {
   "cell_type": "markdown",
   "metadata": {},
   "source": [
    "15. Write a Python function called add that takes two arguments and returns their sum. Call the function with the arguments 3 and 5, and print the result."
   ]
  },
  {
   "cell_type": "code",
   "execution_count": null,
   "metadata": {},
   "outputs": [],
   "source": [
    "def add(a, b):\n",
    "  return a + b\n",
    "\n",
    "result = add(3, 5)\n",
    "print(result)"
   ]
  },
  {
   "cell_type": "markdown",
   "metadata": {},
   "source": [
    "16. Write a Python function called square that takes a number as an argument and returns its square. Call the function with the argument 4, and print the result"
   ]
  },
  {
   "cell_type": "code",
   "execution_count": null,
   "metadata": {},
   "outputs": [],
   "source": [
    "def square(number):\n",
    "  return number * number\n",
    "\n",
    "result = square(4)\n",
    "print(result)"
   ]
  },
  {
   "cell_type": "markdown",
   "metadata": {},
   "source": [
    "17. Write a Python program that opens a file named 'example.txt' in read mode and prints its contents to the console."
   ]
  },
  {
   "cell_type": "code",
   "execution_count": null,
   "metadata": {},
   "outputs": [],
   "source": [
    "file = open('example.txt', 'r')\n",
    "contents = file.read()\n",
    "print(contents)\n",
    "file.close()"
   ]
  },
  {
   "cell_type": "markdown",
   "metadata": {},
   "source": [
    "18. Write a Python program that opens a file named 'output.txt' in write mode, writes the string 'Hello, World!' to the file, and then closes the file."
   ]
  },
  {
   "cell_type": "code",
   "execution_count": null,
   "metadata": {},
   "outputs": [],
   "source": [
    "file = open('output.txt', 'w')\n",
    "file.write('Hello, World!')\n",
    "file.close()"
   ]
  },
  {
   "cell_type": "markdown",
   "metadata": {},
   "source": [
    "19. Write a Python program that opens a file named 'output.txt' in append mode, writes the string 'Appending this line.' to the file, and then closes the file."
   ]
  },
  {
   "cell_type": "code",
   "execution_count": null,
   "metadata": {},
   "outputs": [],
   "source": [
    "file = open('output.txt', 'a')\n",
    "file.write('Appending this line.')\n",
    "file.close()"
   ]
  },
  {
   "cell_type": "markdown",
   "metadata": {},
   "source": [
    "20. Write a Python program that opens a file named 'example.txt' in read mode and prints each line to the console, one by one."
   ]
  },
  {
   "cell_type": "code",
   "execution_count": null,
   "metadata": {},
   "outputs": [],
   "source": [
    "file = open('example.txt', 'r')\n",
    "for line in file:\n",
    "  print(line)\n",
    "file.close()"
   ]
  },
  {
   "cell_type": "markdown",
   "metadata": {},
   "source": [
    "21. Write a Python program that raises a ValueError with the message 'An error occurred'."
   ]
  },
  {
   "cell_type": "code",
   "execution_count": null,
   "metadata": {},
   "outputs": [],
   "source": [
    "raise ValueError('An error occurred')"
   ]
  },
  {
   "cell_type": "markdown",
   "metadata": {},
   "source": [
    "22. Write a Python program that uses a for loop to iterate over the numbers 1 to 10. If the number is 5, break out of the loop."
   ]
  },
  {
   "cell_type": "code",
   "execution_count": null,
   "metadata": {},
   "outputs": [],
   "source": [
    "for i in range(1, 11):\n",
    "  print(i)\n",
    "  if i == 5:\n",
    "    break"
   ]
  },
  {
   "cell_type": "markdown",
   "metadata": {},
   "source": [
    "23. Write a Python program that uses a for loop to iterate over the numbers 1 to 5. If the number is 3, skip printing it and continue with the next iteration"
   ]
  },
  {
   "cell_type": "code",
   "execution_count": null,
   "metadata": {},
   "outputs": [],
   "source": [
    "for i in range(1, 6):\n",
    "  if i == 3:\n",
    "    continue\n",
    "  print(i)"
   ]
  },
  {
   "cell_type": "markdown",
   "metadata": {},
   "source": [
    "24. Write a Python program that attempts to divide 10 by 0 inside a try block, catches the resulting ZeroDivisionError in an except block, and prints 'Cannot divide by zero.'"
   ]
  },
  {
   "cell_type": "code",
   "execution_count": null,
   "metadata": {},
   "outputs": [],
   "source": [
    "try:\n",
    "  result = 10 / 0\n",
    "except ZeroDivisionError:\n",
    "  print('Cannot divide by zero.')"
   ]
  },
  {
   "cell_type": "markdown",
   "metadata": {},
   "source": [
    "25. Write a Python program that removes duplicates from the list [1, 2, 2, 3, 4, 4, 5] using a set, and prints the resulting list."
   ]
  },
  {
   "cell_type": "code",
   "execution_count": null,
   "metadata": {},
   "outputs": [],
   "source": [
    "numbers = [1, 2, 2, 3, 4, 4, 5]\n",
    "unique_numbers = list(set(numbers))\n",
    "print(unique_numbers)"
   ]
  },
  {
   "cell_type": "markdown",
   "metadata": {},
   "source": [
    "26. Write a Python program that defines a lambda function to double a number. Use the lambda function to double the number 4 and print the result."
   ]
  },
  {
   "cell_type": "code",
   "execution_count": null,
   "metadata": {},
   "outputs": [],
   "source": [
    "double = lambda x: x * 2\n",
    "result = double(4)\n",
    "print(result)"
   ]
  },
  {
   "cell_type": "markdown",
   "metadata": {},
   "source": [
    "27. Write a Python function called greet that takes a name as an argument and prints 'Hello, [name]!' where [name] is the argument. If no name is provided, default to 'World'. Call the function without arguments and then with the argument 'Alice'"
   ]
  },
  {
   "cell_type": "code",
   "execution_count": null,
   "metadata": {},
   "outputs": [],
   "source": [
    "def greet(name=\"World\"):\n",
    "  print(\"Hello, \" + name + \"!\")\n",
    "\n",
    "greet()\n",
    "greet(\"Alice\")"
   ]
  },
  {
   "cell_type": "markdown",
   "metadata": {},
   "source": [
    "28. Write a Python function called apply that takes another function and a number as arguments, applies the function to the number, and returns the result. Define a separate function called square that squares a number. Pass square and 3 as arguments to apply, and print the result."
   ]
  },
  {
   "cell_type": "code",
   "execution_count": null,
   "metadata": {},
   "outputs": [],
   "source": [
    "def apply(func, number):\n",
    "  return func(number)\n",
    "\n",
    "def square(number):\n",
    "  return number * number\n",
    "\n",
    "result = apply(square, 3)\n",
    "print(result)"
   ]
  },
  {
   "cell_type": "markdown",
   "metadata": {},
   "source": [
    "29. Write a Python program that checks if a file named 'example.txt' exists in the current directory. If it does, print 'File exists', otherwise print 'File does not exist'"
   ]
  },
  {
   "cell_type": "code",
   "execution_count": null,
   "metadata": {},
   "outputs": [],
   "source": [
    "import os\n",
    "\n",
    "if os.path.exists(\"example.txt\"):\n",
    "  print(\"File exists\")\n",
    "else:\n",
    "  print(\"File does not exist\")"
   ]
  },
  {
   "cell_type": "markdown",
   "metadata": {},
   "source": [
    "30. Write a Python program that deletes a file named 'unnecessary.txt'. If the file does not exist, print 'File not found'"
   ]
  },
  {
   "cell_type": "code",
   "execution_count": null,
   "metadata": {},
   "outputs": [],
   "source": [
    "import os\n",
    "\n",
    "try:\n",
    "  os.remove(\"unnecessary.txt\")\n",
    "except FileNotFoundError:\n",
    "  print(\"File not found\")"
   ]
  },
  {
   "cell_type": "markdown",
   "metadata": {},
   "source": [
    "31. Write a Python class called Person that has a single attribute name. Instantiate an object of the class with the name 'Alice' and print the name."
   ]
  },
  {
   "cell_type": "code",
   "execution_count": null,
   "metadata": {},
   "outputs": [],
   "source": [
    "class Person:\n",
    "  def __init__(self, name):\n",
    "    self.name = name\n",
    "\n",
    "person = Person(\"Alice\")\n",
    "print(person.name)"
   ]
  },
  {
   "cell_type": "markdown",
   "metadata": {},
   "source": [
    "32. Write a Python class called Car with an attribute model. Create an instance of Car with the model 'Toyota' and print the model."
   ]
  },
  {
   "cell_type": "code",
   "execution_count": null,
   "metadata": {},
   "outputs": [],
   "source": [
    "class Car:\n",
    "  def __init__(self, model):\n",
    "    self.model = model\n",
    "\n",
    "my_car = Car(\"Toyota\")\n",
    "print(my_car.model)"
   ]
  },
  {
   "cell_type": "markdown",
   "metadata": {},
   "source": [
    "33. Write a Python program that uses a list comprehension to create a list of squares for the numbers 1 through 5, and prints the resulting list. "
   ]
  },
  {
   "cell_type": "code",
   "execution_count": null,
   "metadata": {},
   "outputs": [],
   "source": [
    "squares = [x**2 for x in range(1, 6)]\n",
    "print(squares)"
   ]
  },
  {
   "cell_type": "markdown",
   "metadata": {},
   "source": [
    "34. Write a Python program that uses a for loop to sum the numbers in the list [1, 2, 3, 4, 5] and prints the result."
   ]
  },
  {
   "cell_type": "code",
   "execution_count": null,
   "metadata": {},
   "outputs": [],
   "source": [
    "numbers = [1, 2, 3, 4, 5]\n",
    "sum = 0\n",
    "for number in numbers:\n",
    "  sum += number\n",
    "print(sum)"
   ]
  },
  {
   "cell_type": "markdown",
   "metadata": {},
   "source": [
    "35. Write a Python program that generates a random number between 1 and 10 and prints it. "
   ]
  },
  {
   "cell_type": "code",
   "execution_count": null,
   "metadata": {},
   "outputs": [],
   "source": [
    "import random\n",
    "\n",
    "random_number = random.randint(1, 10)\n",
    "print(random_number)"
   ]
  },
  {
   "cell_type": "markdown",
   "metadata": {},
   "source": [
    "36. Write a Python program that measures and prints the time it takes to execute a for loop that sums the numbers from 1 to 1,000,000."
   ]
  },
  {
   "cell_type": "code",
   "execution_count": null,
   "metadata": {},
   "outputs": [],
   "source": [
    "import time\n",
    "\n",
    "start_time = time.time()\n",
    "\n",
    "sum = 0\n",
    "for i in range(1, 1000001):\n",
    "  sum += i\n",
    "\n",
    "end_time = time.time()\n",
    "elapsed_time = end_time - start_time\n",
    "\n",
    "print(\"Time taken:\", elapsed_time, \"seconds\")"
   ]
  },
  {
   "cell_type": "markdown",
   "metadata": {},
   "source": [
    "37. Write a Python decorator called my_decorator that prints 'Starting' before the decorated function is called, and 'Finished' after the function is called. Apply this decorator to a function that prints 'Hello!' and then call the decorated function."
   ]
  },
  {
   "cell_type": "code",
   "execution_count": null,
   "metadata": {},
   "outputs": [],
   "source": [
    "def my_decorator(func):\n",
    "  def wrapper(*args, **kwargs):\n",
    "    print(\"Starting\")\n",
    "    result = func(*args, **kwargs)\n",
    "    print(\"Finished\")\n",
    "    return result\n",
    "  return wrapper\n",
    "\n",
    "@my_decorator\n",
    "def greet():\n",
    "  print(\"Hello!\")\n",
    "\n",
    "greet()"
   ]
  },
  {
   "cell_type": "markdown",
   "metadata": {},
   "source": [
    "38. Write a Python class called BankAccount with a private attribute _balance. Implement methods to deposit and withdraw money, and a method to print the current balance."
   ]
  },
  {
   "cell_type": "code",
   "execution_count": null,
   "metadata": {},
   "outputs": [],
   "source": [
    "class BankAccount:\n",
    "  def __init__(self, balance=0):\n",
    "    self._balance = balance\n",
    "\n",
    "  def deposit(self, amount):\n",
    "    self._balance += amount\n",
    "\n",
    "  def withdraw(self, amount):\n",
    "    if amount <= self._balance:\n",
    "      self._balance -= amount\n",
    "    else:\n",
    "      print(\"Insufficient funds\")\n",
    "\n",
    "  def get_balance(self):\n",
    "    return self._balance\n",
    "\n",
    "account = BankAccount(100)\n",
    "account.deposit(50)\n",
    "account.withdraw(20)\n",
    "print(\"Current balance:\", account.get_balance())"
   ]
  },
  {
   "cell_type": "markdown",
   "metadata": {},
   "source": [
    "39. Write a Python program that creates a 2D list representing a matrix with the following values: [[1, 2], [3, 4]]. Print the element in the first row and second column."
   ]
  },
  {
   "cell_type": "code",
   "execution_count": null,
   "metadata": {},
   "outputs": [],
   "source": [
    "matrix = [[1, 2], [3, 4]]\n",
    "print(matrix[0][1])"
   ]
  },
  {
   "cell_type": "markdown",
   "metadata": {},
   "source": [
    "40. Write a Python decorator called log_function_call that logs the name of a function each time it is called. Apply this decorator to a function that prints 'Executing function' and then call the decorated function."
   ]
  },
  {
   "cell_type": "code",
   "execution_count": null,
   "metadata": {},
   "outputs": [],
   "source": [
    "import functools\n",
    "\n",
    "def log_function_call(func):\n",
    "  @functools.wraps(func)\n",
    "  def wrapper(*args, **kwargs):\n",
    "    print(f\"Calling function: {func.__name__}\")\n",
    "    return func(*args, **kwargs)\n",
    "  return wrapper\n",
    "\n",
    "@log_function_call\n",
    "def my_function():\n",
    "  print(\"Executing function\")\n",
    "\n",
    "my_function()"
   ]
  },
  {
   "cell_type": "markdown",
   "metadata": {},
   "source": [
    "41. Write a Python class called Stack that implements a stack using a list. Implement methods push, pop, and is_empty. Demonstrate the stack operations by pushing and popping some elements."
   ]
  },
  {
   "cell_type": "code",
   "execution_count": null,
   "metadata": {},
   "outputs": [],
   "source": [
    "class Stack:\n",
    "  def __init__(self):\n",
    "    self.items = []\n",
    "\n",
    "  def push(self, item):\n",
    "    self.items.append(item)\n",
    "\n",
    "  def pop(self):\n",
    "    if not self.is_empty():\n",
    "      return self.items.pop()\n",
    "    else:\n",
    "      return None\n",
    "\n",
    "  def is_empty(self):\n",
    "    return len(self.items) == 0\n",
    "\n",
    "stack = Stack()\n",
    "stack.push(1)\n",
    "stack.push(2)\n",
    "stack.push(3)\n",
    "\n",
    "print(stack.pop())  # Output: 3\n",
    "print(stack.pop())  # Output: 2\n",
    "print(stack.pop())  # Output: 1\n",
    "print(stack.pop())  # Output: None (stack is empty)"
   ]
  },
  {
   "cell_type": "markdown",
   "metadata": {},
   "source": [
    "42. Write a Python class called Queue that implements a queue using a list. Implement methods enqueue, dequeue, and is_empty. Demonstrate the queue operations by enqueueing and dequeueing some elements.\" "
   ]
  },
  {
   "cell_type": "code",
   "execution_count": null,
   "metadata": {},
   "outputs": [],
   "source": [
    "class Queue:\n",
    "  def __init__(self):\n",
    "    self.items = []\n",
    "\n",
    "  def enqueue(self, item):\n",
    "    self.items.append(item)\n",
    "\n",
    "  def dequeue(self):\n",
    "    if not self.is_empty():\n",
    "      return self.items.pop(0)\n",
    "    else:\n",
    "      return None\n",
    "\n",
    "  def is_empty(self):\n",
    "    return len(self.items) == 0\n",
    "\n",
    "queue = Queue()\n",
    "queue.enqueue(1)\n",
    "queue.enqueue(2)\n",
    "queue.enqueue(3)\n",
    "\n",
    "print(queue.dequeue())  # Output: 1\n",
    "print(queue.dequeue())  # Output: 2\n",
    "print(queue.dequeue())  # Output: 3\n",
    "print(queue.dequeue())  # Output: None (queue is empty)"
   ]
  },
  {
   "cell_type": "markdown",
   "metadata": {},
   "source": [
    "43. Write a Python function called factorial that calculates the factorial of a number using recursion. Calculate the factorial of 5 and print the result."
   ]
  },
  {
   "cell_type": "code",
   "execution_count": null,
   "metadata": {},
   "outputs": [],
   "source": [
    "def factorial(n):\n",
    "  if n == 0:\n",
    "    return 1\n",
    "  else:\n",
    "    return n * factorial(n - 1)\n",
    "\n",
    "result = factorial(5)\n",
    "print(result)  # Output: 120"
   ]
  },
  {
   "cell_type": "markdown",
   "metadata": {},
   "source": [
    "44. Write a Python class called Counter with a class attribute count that tracks the number of instances created. Implement a class method increment that increments count each time a new instance is created. Demonstrate this by creating multiple instances and printing count."
   ]
  },
  {
   "cell_type": "code",
   "execution_count": null,
   "metadata": {},
   "outputs": [],
   "source": [
    "class Counter:\n",
    "  count = 0\n",
    "\n",
    "  def __init__(self):\n",
    "    Counter.increment()\n",
    "\n",
    "  @classmethod\n",
    "  def increment(cls):\n",
    "    cls.count += 1\n",
    "\n",
    "counter1 = Counter()\n",
    "counter2 = Counter()\n",
    "counter3 = Counter()\n",
    "\n",
    "print(Counter.count)  # Output: 3"
   ]
  },
  {
   "cell_type": "markdown",
   "metadata": {},
   "source": [
    "45. Write a Python class called Animal with a method speak that prints 'Animal sound'. Create a subclass Dog that overrides speak to print 'Bark'. Instantiate Dog and call speak."
   ]
  },
  {
   "cell_type": "code",
   "execution_count": null,
   "metadata": {},
   "outputs": [],
   "source": [
    "class Animal:\n",
    "  def speak(self):\n",
    "    print(\"Animal sound\")\n",
    "\n",
    "class Dog(Animal):\n",
    "  def speak(self):\n",
    "    print(\"Bark\")\n",
    "\n",
    "dog = Dog()\n",
    "dog.speak()  # Output: Bark"
   ]
  },
  {
   "cell_type": "markdown",
   "metadata": {},
   "source": [
    "46. Write a Python class called Vehicle with a method move that prints 'Moving'. Create a subclass Car that overrides move to print 'Driving'. Instantiate Car and call move."
   ]
  },
  {
   "cell_type": "code",
   "execution_count": null,
   "metadata": {},
   "outputs": [],
   "source": [
    "class Vehicle:\n",
    "  def move(self):\n",
    "    print(\"Moving\")\n",
    "\n",
    "class Car(Vehicle):\n",
    "  def move(self):\n",
    "    print(\"Driving\")\n",
    "\n",
    "my_car = Car()\n",
    "my_car.move()  # Output: Driving"
   ]
  },
  {
   "cell_type": "markdown",
   "metadata": {},
   "source": [
    "47. Write a Python program that sorts a list of dictionaries by the key 'age'. For example, given people = [{'name': 'Alice', 'age': 25}, {'name': 'Bob', 'age': 20}], sort the list by age and print the sorted list."
   ]
  },
  {
   "cell_type": "code",
   "execution_count": null,
   "metadata": {},
   "outputs": [],
   "source": [
    "people = [{'name': 'Alice', 'age': 25}, {'name': 'Bob', 'age': 20}]\n",
    "\n",
    "sorted_people = sorted(people, key=lambda person: person['age'])\n",
    "\n",
    "print(sorted_people)  # Output: [{'name': 'Bob', 'age': 20}, {'name': 'Alice', 'age': 25}]"
   ]
  },
  {
   "cell_type": "markdown",
   "metadata": {},
   "source": [
    "48. Write a Python function called linear_search that takes a list and a target value, and returns the index of the target value if found, or -1 if not found. Use this function to search for the value 3 in the list [1, 2, 3, 4, 5]."
   ]
  },
  {
   "cell_type": "code",
   "execution_count": null,
   "metadata": {},
   "outputs": [],
   "source": [
    "def linear_search(list, target):\n",
    "  for i in range(len(list)):\n",
    "    if list[i] == target:\n",
    "      return i\n",
    "  return -1\n",
    "\n",
    "numbers = [1, 2, 3, 4, 5]\n",
    "index = linear_search(numbers, 3)\n",
    "print(index)  # Output: 2"
   ]
  },
  {
   "cell_type": "markdown",
   "metadata": {},
   "source": [
    "49. Write a Python function called bubble_sort that implements the bubble sort algorithm to sort a list of numbers in ascending order. Use this function to sort the list [5, 3, 8, 4, 2] and print the sorted list"
   ]
  },
  {
   "cell_type": "code",
   "execution_count": null,
   "metadata": {},
   "outputs": [],
   "source": [
    "def bubble_sort(list):\n",
    "  n = len(list)\n",
    "  for i in range(n - 1):\n",
    "    for j in range(n - i - 1):\n",
    "      if list[j] > list[j + 1]:\n",
    "        list[j], list[j + 1] = list[j + 1], list[j]\n",
    "\n",
    "numbers = [5, 3, 8, 4, 2]\n",
    "bubble_sort(numbers)\n",
    "print(numbers)  # Output: [2, 3, 4, 5, 8]"
   ]
  },
  {
   "cell_type": "markdown",
   "metadata": {},
   "source": [
    "50. Write a Python function called binary_search that implements the binary search algorithm to find a target value in a sorted list. Use this function to find the index of the value 4 in the sorted list [1, 2, 3, 4, 5]."
   ]
  },
  {
   "cell_type": "code",
   "execution_count": null,
   "metadata": {},
   "outputs": [],
   "source": [
    "def binary_search(arr, target):\n",
    "  \"\"\"\n",
    "  Implements binary search to find the index of a target value in a sorted list.\n",
    "\n",
    "  Args:\n",
    "    arr: The sorted list to search.\n",
    "    target: The value to search for.\n",
    "\n",
    "  Returns:\n",
    "    The index of the target value in the list if found, otherwise -1.\n",
    "  \"\"\"\n",
    "  left = 0\n",
    "  right = len(arr) - 1\n",
    "\n",
    "  while left <= right:\n",
    "    mid = (left + right) // 2\n",
    "\n",
    "    if arr[mid] == target:\n",
    "      return mid\n",
    "    elif arr[mid] < target:\n",
    "      left = mid + 1\n",
    "    else:\n",
    "      right = mid - 1\n",
    "\n",
    "  return -1\n",
    "\n",
    "# Test the function\n",
    "sorted_list = [1, 2, 3, 4, 5]\n",
    "target_value = 4\n",
    "index = binary_search(sorted_list, target_value)\n",
    "\n",
    "if index != -1:\n",
    "  print(f\"The value {target_value} is at index {index}\")\n",
    "else:\n",
    "  print(f\"The value {target_value} is not found in the list.\")"
   ]
  },
  {
   "cell_type": "markdown",
   "metadata": {},
   "source": [
    "51. Write a Python program that creates a dictionary representing a student's grades for different subjects, e.g., grades = {'Math': {'midterm': 90, 'final': 85}, 'Science': {'midterm': 88, 'final': 92}}. Access and print the final grade in Science."
   ]
  },
  {
   "cell_type": "code",
   "execution_count": null,
   "metadata": {},
   "outputs": [],
   "source": [
    "grades = {\n",
    "  'Math': {'midterm': 90, 'final': 85},\n",
    "  'Science': {'midterm': 88, 'final': 92}\n",
    "}\n",
    "\n",
    "# Access and print the final grade in Science\n",
    "science_final_grade = grades['Science']['final']\n",
    "print(\"Final grade in Science:\", science_final_grade)"
   ]
  },
  {
   "cell_type": "markdown",
   "metadata": {},
   "source": [
    "52. Write a Python class called Node representing a node in a singly linked list, with attributes data and next_node. Implement a class called LinkedList with methods to insert a node at the beginning, end, and to print the list. Demonstrate by inserting and printing nodes."
   ]
  },
  {
   "cell_type": "code",
   "execution_count": null,
   "metadata": {},
   "outputs": [],
   "source": [
    "class Node:\n",
    "  def __init__(self, data):\n",
    "    self.data = data\n",
    "    self.next_node = None\n",
    "\n",
    "class LinkedList:\n",
    "  def __init__(self):\n",
    "    self.head = None\n",
    "\n",
    "  def insert_at_beginning(self, data):\n",
    "    new_node = Node(data)\n",
    "    new_node.next_node = self.head\n",
    "    self.head = new_node\n",
    "\n",
    "  def insert_at_end(self, data):\n",
    "    new_node = Node(data)\n",
    "    if self.head is None:\n",
    "      self.head = new_node\n",
    "      return\n",
    "\n",
    "    last_node = self.head\n",
    "    while last_node.next_node:\n",
    "      last_node = last_node.next_node\n",
    "    last_node.next_node = new_node\n",
    "\n",
    "  def print_list(self):\n",
    "    current_node = self.head\n",
    "    while current_node:\n",
    "      print(current_node.data, end=\" \")\n",
    "      current_node = current_node.next_node\n",
    "    print()\n",
    "\n",
    "# Create a linked list\n",
    "linked_list = LinkedList()\n",
    "\n",
    "# Insert nodes at the beginning\n",
    "linked_list.insert_at_beginning(5)\n",
    "linked_list.insert_at_beginning(3)\n",
    "linked_list.insert_at_beginning(1)\n",
    "\n",
    "# Insert nodes at the end\n",
    "linked_list.insert_at_end(7)\n",
    "linked_list.insert_at_end(9)\n",
    "\n",
    "# Print the linked list\n",
    "print(\"Linked list:\")\n",
    "linked_list.print_list()"
   ]
  },
  {
   "cell_type": "markdown",
   "metadata": {},
   "source": [
    "53. Write a Python function called gcd that calculates the greatest common divisor (GCD) of two numbers using the Euclidean algorithm. Calculate the GCD of 48 and 18 and print the result."
   ]
  },
  {
   "cell_type": "code",
   "execution_count": null,
   "metadata": {},
   "outputs": [],
   "source": [
    "def gcd(a, b):\n",
    "  \"\"\"\n",
    "  Calculates the greatest common divisor (GCD) of two numbers using the Euclidean algorithm.\n",
    "\n",
    "  Args:\n",
    "    a: The first number.\n",
    "    b: The second number.\n",
    "\n",
    "  Returns:\n",
    "    The GCD of a and b.\n",
    "  \"\"\"\n",
    "  while b:\n",
    "    a, b = b, a % b\n",
    "  return a\n",
    "\n",
    "# Calculate the GCD of 48 and 18\n",
    "gcd_result = gcd(48, 18)\n",
    "\n",
    "# Print the result\n",
    "print(\"GCD of 48 and 18:\", gcd_result)"
   ]
  },
  {
   "cell_type": "markdown",
   "metadata": {},
   "source": [
    "54. Write a Python function called is_prime that checks if a number is prime. Use this function to check if 29 is prime and print the result."
   ]
  },
  {
   "cell_type": "code",
   "execution_count": null,
   "metadata": {},
   "outputs": [],
   "source": [
    "def is_prime(n):\n",
    "  \"\"\"\n",
    "  Checks if a number is prime.\n",
    "\n",
    "  Args:\n",
    "    n: The number to check.\n",
    "\n",
    "  Returns:\n",
    "    True if the number is prime, False otherwise.\n",
    "  \"\"\"\n",
    "  if n <= 1:\n",
    "    return False\n",
    "  for i in range(2, int(n**0.5) + 1):\n",
    "    if n % i == 0:\n",
    "      return False\n",
    "  return True\n",
    "\n",
    "# Check if 29 is prime\n",
    "is_prime_result = is_prime(29)\n",
    "\n",
    "# Print the result\n",
    "print(\"Is 29 prime?\", is_prime_result)"
   ]
  },
  {
   "cell_type": "markdown",
   "metadata": {},
   "source": [
    "55.Write a Python function called factorial that calculates the factorial of a number using a loop. Calculate the factorial of 6 and print the result.\""
   ]
  },
  {
   "cell_type": "code",
   "execution_count": null,
   "metadata": {},
   "outputs": [],
   "source": [
    "def factorial(n):\n",
    "  \"\"\"\n",
    "  Calculates the factorial of a number using a loop.\n",
    "\n",
    "  Args:\n",
    "    n: The number to calculate the factorial of.\n",
    "\n",
    "  Returns:\n",
    "    The factorial of n.\n",
    "  \"\"\"\n",
    "  if n == 0:\n",
    "    return 1\n",
    "  fact = 1\n",
    "  for i in range(1, n + 1):\n",
    "    fact *= i\n",
    "  return fact\n",
    "\n",
    "# Calculate the factorial of 6\n",
    "factorial_result = factorial(6)\n",
    "\n",
    "# Print the result\n",
    "print(\"Factorial of 6:\", factorial_result)"
   ]
  },
  {
   "cell_type": "markdown",
   "metadata": {},
   "source": [
    "56. Write a simple Flask application with a single route that returns 'Hello, World!' when accessed. Run the Flask app and provide instructions to test the endpoint."
   ]
  },
  {
   "cell_type": "code",
   "execution_count": null,
   "metadata": {},
   "outputs": [],
   "source": [
    "from flask import Flask\n",
    "\n",
    "app = Flask(__name__)\n",
    "\n",
    "@app.route('/')\n",
    "def hello_world():\n",
    "  return 'Hello, World!'\n",
    "\n",
    "if __name__ == '__main__':\n",
    "  app.run(debug=True)"
   ]
  },
  {
   "cell_type": "markdown",
   "metadata": {},
   "source": [
    "57. Write a Python program that uses nested loops to print a multiplication table (from 1 to 10). Format the output as a grid."
   ]
  },
  {
   "cell_type": "code",
   "execution_count": null,
   "metadata": {},
   "outputs": [],
   "source": [
    "for i in range(1, 11):\n",
    "  for j in range(1, 11):\n",
    "    print(f\"{i * j:3}\", end=\" \")\n",
    "  print()"
   ]
  },
  {
   "cell_type": "markdown",
   "metadata": {},
   "source": [
    "58. Write a Python class called Vector with attributes x and y. Overload the + operator to add two Vector objects by summing their x and y attributes. Demonstrate by adding two Vector objects and printing the result."
   ]
  },
  {
   "cell_type": "code",
   "execution_count": null,
   "metadata": {},
   "outputs": [],
   "source": [
    "class Vector:\n",
    "  def __init__(self, x, y):\n",
    "    self.x = x\n",
    "    self.y = y\n",
    "\n",
    "  def __add__(self, other):\n",
    "    return Vector(self.x + other.x, self.y + other.y)\n",
    "\n",
    "  def __str__(self):\n",
    "    return f\"({self.x}, {self.y})\"\n",
    "\n",
    "# Create two Vector objects\n",
    "v1 = Vector(2, 3)\n",
    "v2 = Vector(4, 1)\n",
    "\n",
    "# Add the vectors\n",
    "v3 = v1 + v2\n",
    "\n",
    "# Print the result\n",
    "print(\"v1:\", v1)\n",
    "print(\"v2:\", v2)\n",
    "print(\"v1 + v2:\", v3)"
   ]
  },
  {
   "cell_type": "markdown",
   "metadata": {},
   "source": [
    "59. Write a Python function called fibonacci that generates the nth Fibonacci number using recursion. Calculate and print the 10th Fibonacci number."
   ]
  },
  {
   "cell_type": "code",
   "execution_count": null,
   "metadata": {},
   "outputs": [],
   "source": [
    "def fibonacci(n):\n",
    "  \"\"\"\n",
    "  Generates the nth Fibonacci number using recursion.\n",
    "\n",
    "  Args:\n",
    "    n: The index of the Fibonacci number to calculate (starting from 0).\n",
    "\n",
    "  Returns:\n",
    "    The nth Fibonacci number.\n",
    "  \"\"\"\n",
    "  if n <= 1:\n",
    "    return n\n",
    "  else:\n",
    "    return fibonacci(n-1) + fibonacci(n-2)\n",
    "\n",
    "# Calculate the 10th Fibonacci number\n",
    "fib_10 = fibonacci(10)\n",
    "\n",
    "# Print the result\n",
    "print(\"The 10th Fibonacci number is:\", fib_10)"
   ]
  },
  {
   "cell_type": "markdown",
   "metadata": {},
   "source": [
    "60. Write a Python program that creates a list of tuples representing student names and their grades, e.g., students = [('Alice', 90), ('Bob', 85), ('Charlie', 95)]. Sort the list by grades and print the sorted list."
   ]
  },
  {
   "cell_type": "code",
   "execution_count": null,
   "metadata": {},
   "outputs": [],
   "source": [
    "students = [('Alice', 90), ('Bob', 85), ('Charlie', 95)]\n",
    "\n",
    "# Sort the list by grades (second element of each tuple)\n",
    "sorted_students = sorted(students, key=lambda student: student[1])\n",
    "\n",
    "# Print the sorted list\n",
    "print(\"Sorted students by grades:\")\n",
    "for student in sorted_students:\n",
    "  print(f\"{student[0]}: {student[1]}\")"
   ]
  },
  {
   "cell_type": "markdown",
   "metadata": {},
   "source": [
    "61. Write a Python program that uses nested loops to print the following pattern:\n",
    "Markdown\n",
    "\n"
   ]
  },
  {
   "cell_type": "code",
   "execution_count": null,
   "metadata": {},
   "outputs": [],
   "source": [
    "*\n",
    "**\n",
    "***\n",
    "****\n",
    "*****\n",
    "```\"\n",
    "\n"
   ]
  },
  {
   "cell_type": "code",
   "execution_count": null,
   "metadata": {},
   "outputs": [],
   "source": [
    "for i in range(1, 6):\n",
    "  for j in range(i):\n",
    "    print(\"*\", end=\"\")\n",
    "  print()"
   ]
  },
  {
   "cell_type": "markdown",
   "metadata": {},
   "source": [
    "62. Write a Python decorator called log_call that logs the name of the function being called. Apply this decorator to a function called greet that prints 'Hello!' and call the decorated function."
   ]
  },
  {
   "cell_type": "code",
   "execution_count": null,
   "metadata": {},
   "outputs": [],
   "source": [
    "import functools\n",
    "\n",
    "def log_call(func):\n",
    "  \"\"\"\n",
    "  A decorator that logs the name of the function being called.\n",
    "  \"\"\"\n",
    "  @functools.wraps(func)\n",
    "  def wrapper(*args, **kwargs):\n",
    "    print(f\"Calling function: {func.__name__}\")\n",
    "    return func(*args, **kwargs)\n",
    "  return wrapper\n",
    "\n",
    "@log_call\n",
    "def greet():\n",
    "  \"\"\"\n",
    "  Prints 'Hello!'.\n",
    "  \"\"\"\n",
    "  print(\"Hello!\")\n",
    "\n",
    "# Call the decorated function\n",
    "greet()"
   ]
  },
  {
   "cell_type": "markdown",
   "metadata": {},
   "source": [
    "63. Write a Python class called TreeNode representing a node in a binary tree, with attributes data, left, and right. Implement a function to perform an in-order traversal of the tree and print the node values."
   ]
  },
  {
   "cell_type": "code",
   "execution_count": null,
   "metadata": {},
   "outputs": [],
   "source": [
    "class TreeNode:\n",
    "  def __init__(self, data):\n",
    "    self.data = data\n",
    "    self.left = None\n",
    "    self.right = None\n",
    "\n",
    "  def inorder_traversal(self):\n",
    "    \"\"\"\n",
    "    Performs an in-order traversal of the binary tree.\n",
    "    \"\"\"\n",
    "    if self.left:\n",
    "      self.left.inorder_traversal()\n",
    "    print(self.data, end=\" \")\n",
    "    if self.right:\n",
    "      self.right.inorder_traversal()\n",
    "\n",
    "# Create a sample binary tree\n",
    "root = TreeNode(1)\n",
    "root.left = TreeNode(2)\n",
    "root.right = TreeNode(3)\n",
    "root.left.left = TreeNode(4)\n",
    "root.left.right = TreeNode(5)\n",
    "\n",
    "# Perform in-order traversal and print the node values\n",
    "print(\"In-order traversal:\")\n",
    "root.inorder_traversal()"
   ]
  },
  {
   "cell_type": "markdown",
   "metadata": {},
   "source": [
    "64. Write a Python function called quicksort that implements the quicksort algorithm to sort a list of numbers in ascending order. Use this function to sort the list [10, 7, 8, 9, 1, 5] and print the sorted list."
   ]
  },
  {
   "cell_type": "code",
   "execution_count": null,
   "metadata": {},
   "outputs": [],
   "source": [
    "def quicksort(arr):\n",
    "  \"\"\"\n",
    "  Sorts a list of numbers in ascending order using the quicksort algorithm.\n",
    "\n",
    "  Args:\n",
    "    arr: The list to sort.\n",
    "\n",
    "  Returns:\n",
    "    The sorted list.\n",
    "  \"\"\"\n",
    "  if len(arr) <= 1:\n",
    "    return arr\n",
    "  else:\n",
    "    pivot = arr[0]\n",
    "    less = [i for i in arr[1:] if i <= pivot]\n",
    "    greater = [i for i in arr[1:] if i > pivot]\n",
    "    return quicksort(less) + [pivot] + quicksort(greater)\n",
    "\n",
    "# Sort the list [10, 7, 8, 9, 1, 5]\n",
    "numbers = [10, 7, 8, 9, 1, 5]\n",
    "sorted_numbers = quicksort(numbers)\n",
    "\n",
    "# Print the sorted list\n",
    "print(\"Sorted list:\", sorted_numbers)"
   ]
  },
  {
   "cell_type": "markdown",
   "metadata": {},
   "source": [
    "65. Write a Flask application that provides a simple REST API with the following endpoints: GET /items to return a list of items, POST /items to add a new item, and DELETE /items/<id> to delete an item by ID. Provide instructions to test the API."
   ]
  },
  {
   "cell_type": "code",
   "execution_count": null,
   "metadata": {},
   "outputs": [],
   "source": [
    "from flask import Flask, jsonify, request\n",
    "\n",
    "app = Flask(__name__)\n",
    "\n",
    "items = [\n",
    "  {\"id\": 1, \"name\": \"Item 1\"},\n",
    "  {\"id\": 2, \"name\": \"Item 2\"}\n",
    "]\n",
    "\n",
    "@app.route('/items', methods=['GET'])\n",
    "def get_items():\n",
    "  return jsonify(items)\n",
    "\n",
    "@app.route('/items', methods=['POST'])\n",
    "def add_item():\n",
    "  data = request.get_json()\n",
    "  new_id = max([item['id'] for item in items]) + 1\n",
    "  new_item = {\"id\": new_id, \"name\": data['name']}\n",
    "  items.append(new_item)\n",
    "  return jsonify(new_item), 201\n",
    "\n",
    "@app.route('/items/<int:item_id>', methods=['DELETE'])\n",
    "def delete_item(item_id):\n",
    "  for i, item in enumerate(items):\n",
    "    if item['id'] == item_id:\n",
    "      del items[i]\n",
    "      return jsonify({\"message\": \"Item deleted successfully\"}), 204\n",
    "  return jsonify({\"message\": \"Item not found\"}), 404\n",
    "\n",
    "if __name__ == '__main__':\n",
    "  app.run(debug=True)"
   ]
  },
  {
   "cell_type": "markdown",
   "metadata": {},
   "source": [
    "66. Write a Python program that generates the current date and time using the datetime module, formats it as 'YYYY-MM-DD HH:MM', and prints it. Then calculate the date 10 days from today and print it\n"
   ]
  },
  {
   "cell_type": "code",
   "execution_count": null,
   "metadata": {},
   "outputs": [],
   "source": [
    "import datetime\n",
    "\n",
    "# Get current date and time\n",
    "now = datetime.datetime.now()\n",
    "\n",
    "# Format the date and time as 'YYYY-MM-DD HH:MM'\n",
    "formatted_datetime = now.strftime('%Y-%m-%d %H:%M')\n",
    "\n",
    "# Print the formatted date and time\n",
    "print(\"Current date and time:\", formatted_datetime)\n",
    "\n",
    "# Calculate the date 10 days from today\n",
    "future_date = now + datetime.timedelta(days=10)\n",
    "\n",
    "# Format the future date as 'YYYY-MM-DD'\n",
    "formatted_future_date = future_date.strftime('%Y-%m-%d')\n",
    "\n",
    "# Print the future date\n",
    "print(\"Date 10 days from today:\", formatted_future_date)"
   ]
  },
  {
   "cell_type": "markdown",
   "metadata": {},
   "source": [
    "67. Write a Python program that uses BeautifulSoup to scrape the titles of articles from a news website's homepage and prints them."
   ]
  },
  {
   "cell_type": "code",
   "execution_count": null,
   "metadata": {},
   "outputs": [],
   "source": [
    "from bs4 import BeautifulSoup\n",
    "import requests\n",
    "\n",
    "# Replace with the actual URL of the news website's homepage\n",
    "url = \"https://www.example.com/news\"\n",
    "\n",
    "# Fetch the HTML content of the website\n",
    "response = requests.get(url)\n",
    "response.raise_for_status()  # Raise an exception if there's an HTTP error\n",
    "\n",
    "# Parse the HTML content with BeautifulSoup\n",
    "soup = BeautifulSoup(response.content, 'html.parser')\n",
    "\n",
    "# Find all article titles (adjust the selector if needed)\n",
    "titles = soup.find_all('h2', class_='article-title')\n",
    "\n",
    "# Print the article titles\n",
    "for title in titles:\n",
    "  print(title.text.strip())"
   ]
  },
  {
   "cell_type": "markdown",
   "metadata": {},
   "source": [
    "68. Write a Python program that performs linear regression on a dataset using numpy. The dataset consists of input x = [1, 2, 3, 4, 5] and output y = [2, 4, 6, 8, 10]. Calculate the slope and intercept, and print the linear equation."
   ]
  },
  {
   "cell_type": "code",
   "execution_count": null,
   "metadata": {},
   "outputs": [],
   "source": [
    "import numpy as np\n",
    "\n",
    "# Input data\n",
    "x = np.array([1, 2, 3, 4, 5])\n",
    "y = np.array([2, 4, 6, 8, 10])\n",
    "\n",
    "# Calculate the slope and intercept using numpy's polyfit function\n",
    "slope, intercept = np.polyfit(x, y, 1)\n",
    "\n",
    "# Print the linear equation\n",
    "print(\"Linear equation: y = {:.2f}x + {:.2f}\".format(slope, intercept))"
   ]
  },
  {
   "cell_type": "markdown",
   "metadata": {},
   "source": [
    "69. Write a Python class called BSTNode representing a node in a binary search tree (BST), with attributes data, left, and right. Implement methods to insert a new node and search for a value in the BST. Demonstrate by inserting and searching for values."
   ]
  },
  {
   "cell_type": "code",
   "execution_count": null,
   "metadata": {},
   "outputs": [],
   "source": [
    "class BSTNode:\n",
    "  def __init__(self, data):\n",
    "    self.data = data\n",
    "    self.left = None\n",
    "    self.right = None\n",
    "\n",
    "  def insert(self, data):\n",
    "    \"\"\"\n",
    "    Inserts a new node with the given data into the BST.\n",
    "    \"\"\"\n",
    "    if data < self.data:\n",
    "      if self.left is None:\n",
    "        self.left = BSTNode(data)\n",
    "      else:\n",
    "        self.left.insert(data)\n",
    "    else:\n",
    "      if self.right is None:\n",
    "        self.right = BSTNode(data)\n",
    "      else:\n",
    "        self.right.insert(data)\n",
    "\n",
    "  def search(self, data):\n",
    "    \"\"\"\n",
    "    Searches for a node with the given data in the BST.\n",
    "    \"\"\"\n",
    "    if data == self.data:\n",
    "      return True\n",
    "    elif data < self.data:\n",
    "      if self.left is None:\n",
    "        return False\n",
    "      else:\n",
    "        return self.left.search(data)\n",
    "    else:\n",
    "      if self.right is None:\n",
    "        return False\n",
    "      else:\n",
    "        return self.right.search(data)\n",
    "\n",
    "# Create a BST\n",
    "root = BSTNode(5)\n",
    "\n",
    "# Insert some values\n",
    "root.insert(3)\n",
    "root.insert(8)\n",
    "root.insert(1)\n",
    "root.insert(4)\n",
    "root.insert(7)\n",
    "\n",
    "# Search for values\n",
    "print(f\"Found 3: {root.search(3)}\")\n",
    "print(f\"Found 10: {root.search(10)}\")"
   ]
  },
  {
   "cell_type": "markdown",
   "metadata": {},
   "source": [
    "70. Write a Python program that creates a pandas DataFrame representing sales data with columns Product, Category, and Sales. Group the data by Category and calculate the total sales for each category."
   ]
  },
  {
   "cell_type": "code",
   "execution_count": null,
   "metadata": {},
   "outputs": [],
   "source": [
    "import pandas as pd\n",
    "\n",
    "# Sample sales data\n",
    "data = {\n",
    "  'Product': ['Laptop', 'Keyboard', 'Mouse', 'Monitor', 'Webcam', 'Headphones', 'Speaker'],\n",
    "  'Category': ['Electronics', 'Electronics', 'Electronics', 'Electronics', 'Electronics', 'Electronics', 'Electronics'],\n",
    "  'Sales': [1500, 50, 25, 300, 75, 100, 150]\n",
    "}\n",
    "\n",
    "# Create a Pandas DataFrame\n",
    "df = pd.DataFrame(data)\n",
    "\n",
    "# Group the data by Category and calculate total sales\n",
    "total_sales_by_category = df.groupby('Category')['Sales'].sum()\n",
    "\n",
    "# Print the total sales for each category\n",
    "print(total_sales_by_category)"
   ]
  },
  {
   "cell_type": "markdown",
   "metadata": {},
   "source": [
    "71. Write a Python program that creates two pandas DataFrames representing customer orders and their details. Merge the two DataFrames on a common OrderID column and print the merged DataFrame."
   ]
  },
  {
   "cell_type": "code",
   "execution_count": null,
   "metadata": {},
   "outputs": [],
   "source": [
    "import pandas as pd\n",
    "\n",
    "# Customer orders DataFrame\n",
    "orders_df = pd.DataFrame({\n",
    "  'OrderID': [101, 102, 103, 104],\n",
    "  'CustomerID': [1, 2, 3, 4],\n",
    "  'OrderDate': ['2023-03-10', '2023-03-15', '2023-03-20', '2023-03-25']\n",
    "})\n",
    "\n",
    "# Order details DataFrame\n",
    "details_df = pd.DataFrame({\n",
    "  'OrderID': [101, 102, 103, 105],\n",
    "  'ProductID': [1, 2, 3, 4],\n",
    "  'Quantity': [2, 1, 3, 1]\n",
    "})\n",
    "\n",
    "# Merge the DataFrames on the OrderID column\n",
    "merged_df = pd.merge(orders_df, details_df, on='OrderID')\n",
    "\n",
    "# Print the merged DataFrame\n",
    "print(merged_df)"
   ]
  },
  {
   "cell_type": "markdown",
   "metadata": {},
   "source": [
    "72. Write a Python program that creates a pandas DataFrame representing sales data with columns Product, Region, and Sales. Create a pivot table that shows the total sales for each product by region and print the pivot table."
   ]
  },
  {
   "cell_type": "code",
   "execution_count": null,
   "metadata": {},
   "outputs": [],
   "source": [
    "import pandas as pd\n",
    "\n",
    "# Sample sales data\n",
    "data = {\n",
    "  'Product': ['Laptop', 'Keyboard', 'Mouse', 'Monitor', 'Webcam', 'Headphones', 'Speaker', 'Laptop', 'Keyboard', 'Mouse', 'Monitor', 'Webcam', 'Headphones', 'Speaker'],\n",
    "  'Region': ['North', 'North', 'North', 'North', 'North', 'North', 'North', 'South', 'South', 'South', 'South', 'South', 'South', 'South'],\n",
    "  'Sales': [1500, 50, 25, 300, 75, 100, 150, 1200, 45, 20, 280, 65, 90, 140]\n",
    "}\n",
    "\n",
    "# Create a Pandas DataFrame\n",
    "df = pd.DataFrame(data)\n",
    "\n",
    "# Create a pivot table\n",
    "pivot_table = pd.pivot_table(df, values='Sales', index='Product', columns='Region', aggfunc=np.sum)\n",
    "\n",
    "# Print the pivot table\n",
    "print(pivot_table)"
   ]
  },
  {
   "cell_type": "markdown",
   "metadata": {},
   "source": [
    "73. Create a simple Django project with a single app called blog. The app should have a model Post with fields title and content. Create and run the necessary migrations, then use Django's admin interface to add a new post."
   ]
  },
  {
   "cell_type": "code",
   "execution_count": null,
   "metadata": {},
   "outputs": [],
   "source": [
    "# In your project directory:\n",
    "django-admin startproject myproject\n",
    "\n",
    "# In the myproject directory:\n",
    "python manage.py startapp blog\n",
    "from django.db import models\n",
    "\n",
    "class Post(models.Model):\n",
    "    title = models.CharField(max_length=200)\n",
    "    content = models.TextField()\n",
    "\n",
    "    def __str__(self):\n",
    "        return self.title\n",
    "    python manage.py makemigrations\n",
    "python manage.py migrate\n",
    "from django.contrib import admin\n",
    "from .models import Post\n",
    "\n",
    "admin.site.register(Post)\n",
    "python manage.py runserver"
   ]
  },
  {
   "cell_type": "markdown",
   "metadata": {},
   "source": [
    "74. Write a Python function called merge_sort that implements the merge sort algorithm to sort a list of numbers in ascending order. Use this function to sort the list [12, 11, 13, 5, 6, 7] and print the sorted list."
   ]
  },
  {
   "cell_type": "code",
   "execution_count": null,
   "metadata": {},
   "outputs": [],
   "source": [
    "def merge_sort(arr):\n",
    "    \"\"\"\n",
    "    Sorts a list of numbers in ascending order using merge sort algorithm.\n",
    "\n",
    "    Args:\n",
    "        arr: The list to be sorted.\n",
    "\n",
    "    Returns:\n",
    "        The sorted list.\n",
    "    \"\"\"\n",
    "    if len(arr) > 1:\n",
    "        mid = len(arr) // 2\n",
    "        left_half = arr[:mid]\n",
    "        right_half = arr[mid:]\n",
    "\n",
    "        merge_sort(left_half)\n",
    "        merge_sort(right_half)\n",
    "\n",
    "        i = j = k = 0\n",
    "        while i < len(left_half) and j < len(right"
   ]
  },
  {
   "cell_type": "markdown",
   "metadata": {},
   "source": [
    "75. Write a Python script that uses SQLAlchemy to connect to a SQLite database. Create a table called users with columns id, name, and email. Insert a few records, then query the table to retrieve and print the records."
   ]
  },
  {
   "cell_type": "code",
   "execution_count": null,
   "metadata": {},
   "outputs": [],
   "source": [
    "from sqlalchemy import create_engine, Column, Integer, String\n",
    "from sqlalchemy.ext.declarative import declarative_base\n",
    "from sqlalchemy.orm import sessionmaker\n",
    "\n",
    "# Create an engine instance\n",
    "engine = create_engine('sqlite:///users.db')\n",
    "\n",
    "# Create a declarative base\n",
    "Base = declarative_base()\n",
    "\n",
    "# Define the User model\n",
    "class User(Base):\n",
    "    __tablename__ = 'users'\n",
    "    id = Column(Integer, primary_key=True)\n",
    "    name = Column(String)\n",
    "    email = Column(String)\n",
    "\n",
    "# Create the table\n",
    "Base.metadata.create_all(engine)\n",
    "\n",
    "# Create a session factory\n",
    "Session = sessionmaker(bind=engine)\n",
    "\n",
    "# Create a session\n",
    "session = Session()\n",
    "\n",
    "# Insert some records\n",
    "user1 = User(name='Alice', email='alice@example.com')\n",
    "user2 = User(name='Bob', email='bob@example.com')\n",
    "user3 = User(name='Charlie', email='charlie@example.com')\n",
    "\n",
    "session.add_all([user1, user2, user3])\n",
    "session.commit()\n",
    "\n",
    "# Query the table\n",
    "users = session.query(User).all()\n",
    "\n",
    "# Print the records\n",
    "for user in users:\n",
    "    print(f\"ID: {user.id}, Name: {user.name}, Email: {user.email}\")\n",
    "\n",
    "# Close the session\n",
    "session.close()"
   ]
  },
  {
   "cell_type": "markdown",
   "metadata": {},
   "source": [
    "76. Write a Python class called CustomError that inherits from Exception and takes an error message as an argument. Raise this custom exception in a function called check_positive if the input is not a positive number."
   ]
  },
  {
   "cell_type": "code",
   "execution_count": null,
   "metadata": {},
   "outputs": [],
   "source": [
    "class CustomError(Exception):\n",
    "    \"\"\"Custom exception class.\"\"\"\n",
    "    def __init__(self, message):\n",
    "        super().__init__(message)\n",
    "\n",
    "def check_positive(num):\n",
    "    \"\"\"Raises a CustomError if the input is not a positive number.\"\"\"\n",
    "    if num <= 0:\n",
    "        raise CustomError(\"Input must be a positive number.\")\n",
    "    else:\n",
    "        print(\"Input is positive.\")\n",
    "\n",
    "try:\n",
    "    check_positive(-5)\n",
    "except CustomError as e:\n",
    "    print(f\"Error: {e}\")\n",
    "\n",
    "try:\n",
    "    check_positive(10)\n",
    "except CustomError as e:\n",
    "    print(f\"Error: {e}\")"
   ]
  },
  {
   "cell_type": "markdown",
   "metadata": {},
   "source": [
    "77. Write a Python class called MaxHeap that implements a max heap data structure. Include methods to insert a new element, delete the maximum element, and print the heap."
   ]
  },
  {
   "cell_type": "code",
   "execution_count": null,
   "metadata": {},
   "outputs": [],
   "source": [
    "class MaxHeap:\n",
    "    def __init__(self):\n",
    "        self.heap = [0]  # Initialize with a dummy element at index 0\n",
    "        self.size = 0\n",
    "\n",
    "    def insert(self, key):\n",
    "        \"\"\"Inserts a new element into the heap.\"\"\"\n",
    "        self.heap.append(key)\n",
    "        self.size += 1\n",
    "        self._heapify_up(self.size)\n",
    "\n",
    "    def delete_max(self):\n",
    "        \"\"\"Deletes the maximum element from the heap.\"\"\"\n",
    "        if self.size == 0:\n",
    "            return None\n",
    "        max_value = self.heap[1]\n",
    "        self.heap[1] = self.heap[self.size]\n",
    "        self.heap.pop(self.size)\n",
    "        self.size -= 1\n",
    "        self._heapify_down(1)\n",
    "        return max_value\n",
    "\n",
    "    def print_heap(self):\n",
    "        \"\"\"Prints the heap.\"\"\"\n",
    "        print(self.heap[1:])  # Skip the dummy element\n",
    "\n",
    "    def _heapify_up(self, index):\n",
    "        \"\"\"Heapifies up from the given index.\"\"\"\n",
    "        while index // 2 > 0:\n",
    "            if self.heap[index] > self.heap[index // 2]:\n",
    "                self.heap[index], self.heap[index // 2] = self.heap[index // 2], self.heap[index]\n",
    "            index //= 2\n",
    "\n",
    "    def _heapify_down(self, index):\n",
    "        \"\"\"Heapifies down from the given index.\"\"\"\n",
    "        while (index * 2) <= self.size:\n",
    "            mc = self._max_child(index)\n",
    "            if self.heap[index] < self.heap[mc]:\n",
    "                self.heap[index], self.heap[mc] = self.heap[mc], self.heap[index]\n",
    "            index = mc\n",
    "\n",
    "    def _max_child(self, index):\n",
    "        \"\"\"Returns the index of the max child.\"\"\"\n",
    "        if (index * 2) + 1 > self.size:\n",
    "            return index * 2\n",
    "        else:\n",
    "            if self.heap[index * 2] > self.heap[(index * 2) + 1]:\n",
    "                return index * 2\n",
    "            else:\n",
    "                return (index * 2) + 1\n",
    "\n",
    "# Example usage\n",
    "heap = MaxHeap()\n",
    "heap.insert(10)\n",
    "heap.insert(5)\n",
    "heap.insert(15)\n",
    "heap.insert(20)\n",
    "heap.insert(8)\n",
    "\n",
    "heap.print_heap()  # Output: [20, 15, 10, 5, 8]\n",
    "\n",
    "print(heap.delete_max())  # Output: 20\n",
    "\n",
    "heap.print_heap()  # Output: [15, 10, 8, 5]"
   ]
  },
  {
   "cell_type": "markdown",
   "metadata": {},
   "source": [
    "78.  Write a Python program that uses the threading module to run two functions concurrently. One function should print numbers from 1 to 5 with a delay of 1 second, and the other should print letters from A to E with a delay of 1.5 seconds."
   ]
  },
  {
   "cell_type": "code",
   "execution_count": null,
   "metadata": {},
   "outputs": [],
   "source": [
    "import threading\n",
    "import time\n",
    "\n",
    "def print_numbers():\n",
    "    \"\"\"Prints numbers from 1 to 5 with a delay.\"\"\"\n",
    "    for i in range(1, 6):\n",
    "        print(i)\n",
    "        time.sleep(1)\n",
    "\n",
    "def print_letters():\n",
    "    \"\"\"Prints letters from A to E with a delay.\"\"\"\n",
    "    for letter in \"ABCDE\":\n",
    "        print(letter)\n",
    "        time.sleep(1.5)\n",
    "\n",
    "# Create threads for each function\n",
    "thread1 = threading.Thread(target=print_numbers)\n",
    "thread2 = threading.Thread(target=print_letters)\n",
    "\n",
    "# Start the threads\n",
    "thread1.start()\n",
    "thread2.start()\n",
    "\n",
    "# Wait for both threads to finish\n",
    "thread1.join()\n",
    "thread2.join()"
   ]
  },
  {
   "cell_type": "markdown",
   "metadata": {},
   "source": [
    "79. Write a Python class called LRUCache that implements a least recently used (LRU) cache. The cache should have a maximum capacity, and when the capacity is reached, the least recently used item should be removed. Include methods to get and put items in the cache."
   ]
  },
  {
   "cell_type": "code",
   "execution_count": null,
   "metadata": {},
   "outputs": [],
   "source": [
    "from collections import OrderedDict\n",
    "\n",
    "class LRUCache:\n",
    "    def __init__(self, capacity):\n",
    "        self.capacity = capacity\n",
    "        self"
   ]
  },
  {
   "cell_type": "markdown",
   "metadata": {},
   "source": [
    "80. Write a Python class called MetaSingleton using a metaclass that ensures any class inheriting from it will be a singleton (i.e., only one instance of the class can exist). Demonstrate by creating two instances and showing they are the same."
   ]
  },
  {
   "cell_type": "code",
   "execution_count": null,
   "metadata": {},
   "outputs": [],
   "source": [
    "class MetaSingleton(type):\n",
    "    \"\"\"Metaclass for ensuring singleton behavior.\"\"\"\n",
    "    _instances = {}\n",
    "\n",
    "    def __call__(cls, *args, **kwargs):\n",
    "        \"\"\"\n",
    "        Overrides class instantiation to ensure only one instance exists.\n",
    "        \"\"\"\n",
    "        if cls not in cls._instances:\n",
    "            cls._instances[cls] = super(MetaSingleton, cls).__call__(*args, **kwargs)\n",
    "        return cls._instances[cls]\n",
    "\n",
    "class MySingleton(metaclass=MetaSingleton):\n",
    "    \"\"\"A class using the MetaSingleton metaclass to enforce singleton behavior.\"\"\"\n",
    "    def __init__(self, value):\n",
    "        self.value = value\n",
    "\n",
    "    def __str__(self):\n",
    "        return f\"MySingleton instance with value: {self.value}\"\n",
    "\n",
    "# Create two instances\n",
    "instance1 = MySingleton(10)\n",
    "instance2 = MySingleton(20)\n",
    "\n",
    "# Check if they are the same object\n",
    "print(f\"Instance 1: {instance1}\")\n",
    "print(f\"Instance 2: {instance2}\")\n",
    "print(f\"Are instances the same? {instance1 is instance2}\")"
   ]
  },
  {
   "cell_type": "markdown",
   "metadata": {},
   "source": [
    "81. Write a Python generator function called prime_generator that yields an infinite sequence of prime numbers. Use the generator to print the first 10 prime numbers."
   ]
  },
  {
   "cell_type": "code",
   "execution_count": null,
   "metadata": {},
   "outputs": [],
   "source": [
    "def prime_generator():\n",
    "    \"\"\"Generates an infinite sequence of prime numbers.\"\"\"\n",
    "    yield 2  # 2 is the first prime number\n",
    "    primes = [2]\n",
    "    num = 3\n",
    "    while True:\n",
    "        is_prime = True\n",
    "        for prime in primes:\n",
    "            if num % prime == 0:\n",
    "                is_prime = False\n",
    "                break\n",
    "        if is_prime:\n",
    "            primes.append(num)\n",
    "            yield num\n",
    "        num += 2\n",
    "\n",
    "# Print the first 10 prime numbers\n",
    "prime_gen = prime_generator()\n",
    "for i in range(10):\n",
    "    print(next(prime_gen))"
   ]
  },
  {
   "cell_type": "markdown",
   "metadata": {},
   "source": [
    "82. Write a Python decorator called memoize that caches the results of a function so that it doesn't have to recompute the results for the same inputs. Apply this decorator to a recursive function that calculates Fibonacci numbers."
   ]
  },
  {
   "cell_type": "code",
   "execution_count": null,
   "metadata": {},
   "outputs": [],
   "source": [
    "def memoize(func):\n",
    "    \"\"\"Decorator that caches the results of a function.\"\"\"\n",
    "    cache = {}\n",
    "\n",
    "    @functools.wraps(func)\n",
    "    def wrapper(*args):\n",
    "        if args not in cache:\n",
    "            cache[args] = func(*args)\n",
    "        return cache[args]\n",
    "    return wrapper\n",
    "\n",
    "@memoize\n",
    "def fibonacci(n):\n",
    "    \"\"\"Recursive function to calculate Fibonacci numbers with memoization.\"\"\"\n",
    "    if n <= 1:\n",
    "        return n\n",
    "    else:\n",
    "        return fibonacci(n - 1) + fibonacci(n - 2)\n",
    "\n",
    "# Calculate Fibonacci numbers using the memoized function\n",
    "for i in range(10):\n",
    "    print(f\"Fibonacci({i}): {fibonacci(i)}\")"
   ]
  },
  {
   "cell_type": "markdown",
   "metadata": {},
   "source": [
    "83. Write a Python program that uses the asyncio module to fetch the contents of three different URLs concurrently. Print the length of the content fetched from each URL."
   ]
  },
  {
   "cell_type": "code",
   "execution_count": null,
   "metadata": {},
   "outputs": [],
   "source": [
    "import asyncio\n",
    "import aiohttp\n",
    "\n",
    "async def fetch_content(session, url):\n",
    "    \"\"\"Fetches the content of a URL using aiohttp.\"\"\"\n",
    "    async with session.get(url) as response:\n",
    "        content = await response.text()\n",
    "        return len(content)\n",
    "\n",
    "async def main():\n",
    "    \"\"\"Fetches content from three URLs concurrently.\"\"\"\n",
    "    async with aiohttp.ClientSession() as session:\n",
    "        urls = [\n",
    "            'https://www.example.com/',\n",
    "            'https://www.google.com/',\n",
    "            'https://www.facebook.com/'\n",
    "        ]\n",
    "        tasks = [fetch_content(session, url) for url in urls]\n",
    "        results = await asyncio.gather(*tasks)\n",
    "        for i, result in enumerate(results):\n",
    "            print(f\"URL {i+1}: Content length: {result}\")\n",
    "\n",
    "if __name__ == \"__main__\":\n",
    "    asyncio.run(main())"
   ]
  },
  {
   "cell_type": "markdown",
   "metadata": {},
   "source": [
    "84. Write a Python function called a_star that implements the A* search algorithm to find the shortest path in a grid. Use the function to find the shortest path from the top-left corner to the bottom-right corner of a 5x5 grid with some obstacles."
   ]
  },
  {
   "cell_type": "code",
   "execution_count": null,
   "metadata": {},
   "outputs": [],
   "source": [
    "import heapq\n",
    "\n",
    "def a_star(grid, start, goal):\n",
    "    \"\"\"\n",
    "    Implements the A* search algorithm to find the shortest path in a grid.\n",
    "\n",
    "    Args:\n",
    "        grid: A 2D list representing the grid, where 0 represents an open cell and 1 represents an obstacle.\n",
    "        start: A tuple representing the starting cell (row, col).\n",
    "        goal: A tuple representing the goal cell (row, col).\n",
    "\n",
    "    Returns:\n",
    "        A list of tuples representing the shortest path from start to goal, or None if no path exists.\n",
    "    \"\"\"\n",
    "    rows, cols = len(grid), len(grid[0])\n",
    "    open_set = [(0, start)]  # (f_score, node)\n",
    "    came_from = {}\n",
    "    g_score = {node: float('inf') for row in grid for node in (row, col) for col in range(cols)}\n",
    "    g_score[start] = 0\n",
    "    f_score = {node: float('inf') for row in grid for node in (row, col) for col in range(cols)}\n",
    "    f_score[start] = manhattan_distance(start, goal)\n",
    "\n",
    "    while open_set:\n",
    "        _, current = heapq.heappop(open_set)\n",
    "        if current == goal:\n",
    "            return reconstruct_path(came_from, current)\n",
    "\n",
    "        for neighbor in get_neighbors(grid, current):\n",
    "            tentative_g_score = g_score[current] + 1\n",
    "            if tentative_g_score < g_score[neighbor]:\n",
    "                came_from[neighbor] = current\n",
    "                g_score[neighbor] = tentative_g_score\n",
    "                f_score[neighbor] = g_score[neighbor] + manhattan_distance(neighbor, goal)\n",
    "                if neighbor not in [node for _, node in open_set]:\n",
    "                    heapq.heappush(open_set, (f_score[neighbor], neighbor))\n",
    "\n",
    "    return None  # No path found\n",
    "\n",
    "def get_neighbors(grid, node):\n",
    "    \"\"\"Returns the valid neighbors of a node in the grid.\"\"\"\n",
    "    rows, cols = len(grid), len(grid[0])\n",
    "    row, col = node\n",
    "    neighbors = [(row - 1, col), (row + 1, col), (row, col - 1), (row, col + 1)]\n",
    "    valid_neighbors = [(r, c) for r, c in neighbors if 0 <= r < rows and 0 <= c < cols and grid[r][c] == 0]\n",
    "    return valid_neighbors\n",
    "\n",
    "def manhattan_distance(node1, node2):\n",
    "    \"\"\"Calculates the Manhattan distance between two nodes.\"\"\"\n",
    "    return abs(node1[0] - node2[0]) + abs(node1[1] - node2[1])\n",
    "\n",
    "def reconstruct_path(came_from, current):\n",
    "    \"\"\"Reconstructs the path from start to goal.\"\"\"\n",
    "    total_path = [current]\n",
    "    while current in came_from:\n",
    "        current = came_from[current]\n",
    "        total_path.insert(0, current)\n",
    "    return total_path\n",
    "\n",
    "# Example grid with"
   ]
  },
  {
   "cell_type": "markdown",
   "metadata": {},
   "source": [
    "85. Write a Python class called Timer that implements a context manager to measure the time taken by a block of code. Use this context manager to time a loop that sums numbers from 1 to 1 million."
   ]
  },
  {
   "cell_type": "code",
   "execution_count": null,
   "metadata": {},
   "outputs": [],
   "source": [
    "import time\n",
    "\n",
    "class Timer:\n",
    "    \"\"\"Context manager to measure the execution time of a code block.\"\"\"\n",
    "    def __enter__(self):\n",
    "        self.start_time = time.time()\n",
    "        return self\n",
    "\n",
    "    def __exit__(self, exc_type, exc_val, exc_tb):\n",
    "        self.end_time = time.time()\n",
    "        self.elapsed_time = self.end_time - self.start_time\n",
    "        print(f\"Time taken: {self.elapsed_time:.4f} seconds\")\n",
    "\n",
    "# Time the loop using the Timer context manager\n",
    "with Timer():\n",
    "    total = 0\n",
    "    for i in range(1, 1000001):\n",
    "        total += i\n",
    "\n",
    "# Output:\n",
    "# Time taken: 0.0781 seconds"
   ]
  },
  {
   "cell_type": "markdown",
   "metadata": {},
   "source": [
    "86. Write a Python class called Graph that implements an undirected graph using an adjacency list. Include a method to perform depth-first search (DFS) starting from a given node. Demonstrate by creating a graph and performing DFS."
   ]
  },
  {
   "cell_type": "code",
   "execution_count": null,
   "metadata": {},
   "outputs": [],
   "source": [
    "class Graph:\n",
    "    def __init__(self):\n",
    "        self.adj_list = {}\n",
    "\n",
    "    def add_vertex(self, vertex):\n",
    "        \"\"\"Adds a vertex to the graph.\"\"\"\n",
    "        if vertex not in self.adj_list:\n",
    "            self.adj_list[vertex] = []\n",
    "\n",
    "    def add_edge(self, vertex1, vertex2):\n",
    "        \"\"\"Adds an undirected edge between two vertices.\"\"\"\n",
    "        self.add_vertex(vertex1)\n",
    "        self.add_vertex(vertex2)\n",
    "        self.adj_list[vertex1].append(vertex2)\n",
    "        self.adj_list[vertex2].append(vertex1)\n",
    "\n",
    "    def dfs(self, start_vertex):\n",
    "        \"\"\"Performs depth-first search starting from a given vertex.\"\"\"\n",
    "        visited = set()\n",
    "        stack = [start_vertex]\n",
    "        while stack:\n",
    "            vertex = stack.pop()\n",
    "            if vertex not in visited:\n",
    "                visited.add(vertex)\n",
    "                print(vertex, end=\" \")\n",
    "                for neighbor in self.adj_list[vertex]:\n",
    "                    if neighbor not in visited:\n",
    "                        stack.append(neighbor)\n",
    "\n",
    "# Create a graph\n",
    "graph = Graph()\n",
    "graph.add_vertex('A')\n",
    "graph.add_vertex('B')\n",
    "graph.add_vertex('C')\n",
    "graph.add_vertex('D')\n",
    "graph.add_vertex('E')\n",
    "graph.add_edge('A', 'B')\n",
    "graph.add_edge('A', 'C')\n",
    "graph.add_edge('B', 'D')\n",
    "graph.add_edge('C', 'E')\n",
    "\n",
    "# Perform DFS starting from vertex 'A'\n",
    "print(\"DFS traversal starting from A:\")\n",
    "graph.dfs('A')"
   ]
  },
  {
   "cell_type": "markdown",
   "metadata": {},
   "source": [
    "87. Write a Python program that uses matplotlib to plot the sine and cosine functions on the same graph. Label the axes and add a legend to distinguish between the two functions."
   ]
  },
  {
   "cell_type": "code",
   "execution_count": null,
   "metadata": {},
   "outputs": [],
   "source": [
    "import numpy as np\n",
    "import matplotlib.pyplot as plt\n",
    "\n",
    "# Generate x values from 0 to 2π\n",
    "x = np.linspace(0, 2 * np.pi, 100)\n",
    "\n",
    "# Calculate sine and cosine values\n",
    "y_sin = np.sin(x)\n",
    "y_cos = np.cos(x)\n",
    "\n",
    "# Plot the sine and cosine functions\n",
    "plt.plot(x, y_sin, label='Sine')\n",
    "plt.plot(x, y_cos, label='Cosine')\n",
    "\n",
    "# Add labels to the axes\n",
    "plt.xlabel('x')\n",
    "plt.ylabel('y')\n",
    "\n",
    "# Add a legend\n",
    "plt.legend()\n",
    "\n",
    "# Display the plot\n",
    "plt.show()"
   ]
  },
  {
   "cell_type": "markdown",
   "metadata": {},
   "source": [
    "88. Write a Python class called PriorityQueue that implements a priority queue using a heap. Include methods to insert an item with a priority and remove the item with the highest priority. Demonstrate by inserting and removing items. "
   ]
  },
  {
   "cell_type": "code",
   "execution_count": null,
   "metadata": {},
   "outputs": [],
   "source": [
    "import heapq\n",
    "\n",
    "class PriorityQueue:\n",
    "    \"\"\"\n",
    "    Implements a priority queue using a heap.\n",
    "    \"\"\"\n",
    "\n",
    "    def __init__(self):\n",
    "        \"\"\"Initializes an empty priority queue.\"\"\"\n",
    "        self._heap = []\n",
    "\n",
    "    def insert(self, item, priority):\n",
    "        \"\"\"Inserts an item with a given priority into the queue.\"\"\"\n",
    "        heapq.heappush(self._heap, (priority, item))\n",
    "\n",
    "    def remove_highest_priority(self):\n",
    "        \"\"\"Removes and returns the item with the highest priority.\"\"\"\n",
    "        if self._heap:\n",
    "            return heapq.heappop(self._heap)[1]  # Return the item, not the priority\n",
    "        else:\n",
    "            return None\n",
    "\n",
    "# Example usage:\n",
    "pq = PriorityQueue()\n",
    "pq.insert('Task A', 1)  # High priority\n",
    "pq.insert('Task B', 3)\n",
    "pq.insert('Task C', 2)\n",
    "\n",
    "print(f\"Removed: {pq.remove_highest_priority()}\")  # Output: Task A\n",
    "print(f\"Removed: {pq.remove_highest_priority()}\")  # Output: Task C\n",
    "print(f\"Removed: {pq.remove_highest_priority()}\")  # Output: Task B\n",
    "print(f\"Removed: {pq.remove_highest_priority()}\")  # Output: None (queue is empty)"
   ]
  },
  {
   "cell_type": "markdown",
   "metadata": {},
   "source": [
    "89. Write a Python program that reads a JSON file containing a list of dictionaries, each representing a product with keys name, price, and quantity. Calculate the total value of the inventory and print it."
   ]
  },
  {
   "cell_type": "code",
   "execution_count": null,
   "metadata": {},
   "outputs": [],
   "source": [
    "import json\n",
    "\n",
    "def calculate_inventory_value(filename):\n",
    "    \"\"\"\n",
    "    Calculates the total value of the inventory from a JSON file.\n",
    "\n",
    "    Args:\n",
    "        filename: The path to the JSON file.\n",
    "\n",
    "    Returns:\n",
    "        The total value of the inventory.\n",
    "    \"\"\"\n",
    "    with open(filename, 'r') as f:\n",
    "        data = json.load(f)\n",
    "\n",
    "    total_value = 0\n",
    "    for product in data:\n",
    "        total_value += product['price'] * product['quantity']\n",
    "    return total_value\n",
    "\n",
    "# Example usage\n",
    "filename = 'inventory.json'  # Replace with the actual filename\n",
    "total_value = calculate_inventory_value(filename)\n",
    "print(f\"Total inventory value: ${total_value:.2f}\")"
   ]
  },
  {
   "cell_type": "markdown",
   "metadata": {},
   "source": [
    "90. Write a Python program that uses the NLTK library to create a simple rule-based chatbot. The chatbot should respond to greetings and a few predefined questions. Demonstrate a conversation with the chatbot."
   ]
  },
  {
   "cell_type": "code",
   "execution_count": null,
   "metadata": {},
   "outputs": [],
   "source": [
    "import nltk\n",
    "from nltk.chat.util import Chat, reflections\n",
    "\n",
    "# Define a list of pairs, where each pair is a pattern and a response\n",
    "pairs = [\n",
    "    [\n",
    "        r\"my name is (.*)\",\n",
    "        [\"Hello %1, how can I help you today?\",]\n",
    "    ],\n",
    "    [\n",
    "        r\"what is your name ?\",\n",
    "        [\"My name is ChatBot, how can I help you today?\",]\n",
    "    ],\n",
    "    [\n",
    "        r\"how are you ?\",\n",
    "        [\"I am doing well, thank you for asking.\", \"I am a chatbot, I don't have feelings but I'm here to help.\",]\n",
    "    ],\n",
    "    [\n",
    "        r\"what is the weather like today ?\",\n",
    "        [\"I'm sorry, I don't have access to real-time information, including weather.\",]\n",
    "    ],\n",
    "    [\n",
    "        r\"quit\",\n",
    "        [\"Bye! Take care.\", \"It was nice talking to you, goodbye.\",]\n",
    "    ],\n",
    "]\n",
    "\n",
    "# Define the reflection dictionary\n",
    "reflections = {\n",
    "    \"i am\": \"you are\",\n",
    "    \"i was\": \"you were\",\n",
    "    \"i\": \"you\",\n",
    "    \"my\": \"your\",\n",
    "    \"yours\": \"mine\",\n",
    "    \"you've\": \"I've\",\n",
    "    \"you are\": \"I am\",\n",
    "    \"you\": \"me\",\n",
    "}\n",
    "\n",
    "# Create a Chat object and start the conversation\n",
    "chat = Chat(pairs, reflections)\n",
    "chat.converse()"
   ]
  },
  {
   "cell_type": "markdown",
   "metadata": {},
   "source": [
    "91. Write a Python program that uses OpenCV to load an image, convert it to grayscale, and apply a Gaussian blur. Save and display the processed image."
   ]
  },
  {
   "cell_type": "code",
   "execution_count": null,
   "metadata": {},
   "outputs": [],
   "source": [
    "import cv2\n",
    "\n",
    "# Load the image\n",
    "image = cv2.imread('image.jpg')  # Replace 'image.jpg' with your image file\n",
    "\n",
    "# Convert to grayscale\n",
    "gray = cv2.cvtColor(image, cv2.COLOR_BGR2GRAY)\n",
    "\n",
    "# Apply Gaussian blur\n",
    "blurred = cv2.GaussianBlur(gray, (5, 5), 0)  # Kernel size (5, 5), standard deviation 0\n",
    "\n",
    "# Save the blurred image\n",
    "cv2.imwrite('blurred_image.jpg', blurred)\n",
    "\n",
    "# Display the blurred image\n",
    "cv2.imshow('Blurred Image', blurred)\n",
    "cv2.waitKey(0)\n",
    "cv2.destroyAllWindows()"
   ]
  },
  {
   "cell_type": "markdown",
   "metadata": {},
   "source": [
    "92. Write a Python program that implements a simple neural network from scratch using only NumPy. The network should have one hidden layer and should be trained using the backpropagation algorithm on a small dataset."
   ]
  },
  {
   "cell_type": "code",
   "execution_count": null,
   "metadata": {},
   "outputs": [],
   "source": [
    "import numpy as np\n",
    "\n",
    "# Define the sigmoid activation function\n",
    "def sigmoid(x):\n",
    "    return 1 / (1 + np.exp(-x))\n",
    "\n",
    "# Define the derivative of the sigmoid function\n",
    "def sigmoid_derivative(x):\n",
    "    return sigmoid(x) * (1 - sigmoid(x))\n",
    "\n",
    "# Define the neural network class\n",
    "class NeuralNetwork:\n",
    "    def __init__(self, input_size, hidden_size, output_size):\n",
    "        # Initialize weights and biases\n",
    "        self.weights_1 = np.random.randn(input_size, hidden_size)\n",
    "        self.bias_1 = np.zeros((1, hidden_size))\n",
    "        self.weights_2 = np.random.randn(hidden_size, output_size)\n",
    "        self.bias_2 = np.zeros((1, output_size))\n",
    "\n",
    "    def forward_propagation(self, X):\n",
    "        # Calculate the output of the hidden layer\n",
    "        self.z_1 = np.dot(X, self.weights_1) + self.bias_1\n",
    "        self.a_1 = sigmoid(self.z_1)\n",
    "\n",
    "        # Calculate the output of the output layer\n",
    "        self.z_2 = np.dot(self.a_1, self.weights_2) + self.bias_2\n",
    "        self.a_2 = sigmoid(self.z_2)\n",
    "\n",
    "        return self.a_2\n",
    "\n",
    "    def backward_propagation(self, X, y, learning_rate):\n",
    "        # Calculate the error at the output layer\n",
    "        self.error_2 = self.a_2 - y\n",
    "\n",
    "        # Calculate the derivative of the output layer\n",
    "        self.delta_2 = self.error_2 * sigmoid_derivative(self.z_2)\n",
    "\n",
    "        # Calculate the error at the hidden layer\n",
    "        self.error_1 = np.dot(self.delta_2, self.weights_2.T)\n",
    "\n",
    "        # Calculate the derivative of the hidden layer\n",
    "        self.delta_1 = self.error_1 * sigmoid_derivative(self.z_1)\n",
    "\n",
    "        # Update weights and biases\n",
    "        self.weights_2 -= learning_rate * np.dot(self.a_1.T, self.delta_2)\n",
    "        self.bias_2 -= learning_rate * np.sum(self.delta_2, axis=0, keepdims=True)\n",
    "        self.weights_1 -= learning_rate * np.dot(X.T, self.delta_1)\n",
    "        self.bias_1 -= learning_rate * np.sum(self.delta_1, axis=0, keepdims=True)\n",
    "\n",
    "    def train(self, X, y, learning_rate, epochs):\n",
    "        for i in range(epochs):\n",
    "            self.forward_propagation(X)\n",
    "            self.backward_propagation(X, y, learning_rate)\n",
    "\n",
    "    def predict(self, X):\n",
    "        return self.forward_propagation(X)\n",
    "\n",
    "# Define the training dataset\n",
    "X = np.array([[0, 0], [0, 1], [1, 0], [1, 1]])\n",
    "y = np.array([[0], [1], [1], [0]])\n",
    "\n",
    "# Create the neural network\n",
    "nn = NeuralNetwork(input_size=2, hidden_size=4, output_size=1)\n",
    "\n",
    "# Train the network\n",
    "nn.train(X, y, learning_rate=0.1, epochs=1000)"
   ]
  },
  {
   "cell_type": "markdown",
   "metadata": {},
   "source": [
    "93. Write a Flask application that connects to a SQLite database to store and retrieve user information. Implement routes to add a new user, retrieve all users, and delete a user by ID."
   ]
  },
  {
   "cell_type": "code",
   "execution_count": null,
   "metadata": {},
   "outputs": [],
   "source": [
    "from flask import Flask, request, jsonify\n",
    "from sqlalchemy import create_engine, Column, Integer, String\n",
    "from sqlalchemy.ext.declarative import declarative_base\n",
    "from sqlalchemy.orm import sessionmaker\n",
    "\n",
    "app = Flask(__name__)\n",
    "\n",
    "# Database setup\n",
    "engine = create_engine('sqlite:///users.db')\n",
    "Base = declarative_base()\n",
    "\n",
    "class User(Base):\n",
    "    __tablename__ = 'users'\n",
    "    id = Column(Integer, primary_key=True)\n",
    "    name = Column(String)\n",
    "    email = Column(String)\n",
    "\n",
    "Base.metadata.create_all(engine)\n",
    "Session = sessionmaker(bind=engine)\n",
    "\n",
    "# Route to add a new user\n",
    "@app.route('/users', methods=['POST'])\n",
    "def add_user():\n",
    "    data = request.get_json()\n",
    "    name = data.get('name')\n",
    "    email = data.get('email')\n",
    "    if not name or not email:\n",
    "        return jsonify({'error': 'Name and email are required'}), 400\n",
    "    session = Session()\n",
    "    new_user = User(name=name, email=email)\n",
    "    session.add(new_user)\n",
    "    session.commit()\n",
    "    session.close()\n",
    "    return jsonify({'message': 'User added successfully'}), 201\n",
    "\n",
    "# Route to retrieve all users\n",
    "@app.route('/users', methods=['GET'])\n",
    "def get_users():\n",
    "    session = Session()\n",
    "    users = session.query(User).all()\n",
    "    session.close()\n",
    "    return jsonify([{'id': user.id, 'name': user.name, 'email': user.email} for user in users])\n",
    "\n",
    "# Route to delete a user by ID\n",
    "@app.route('/users/<int:user_id>', methods=['DELETE'])\n",
    "def delete_user(user_id):\n",
    "    session = Session()\n",
    "    user = session.query(User).filter(User.id == user_id).first()\n",
    "    if not user:\n",
    "        return jsonify({'error': 'User not found'}), 4"
   ]
  },
  {
   "cell_type": "markdown",
   "metadata": {},
   "source": [
    "94. Write a Python program that uses Selenium to automate the process of logging into a website and navigating to a specific page. Provide instructions for testing the automation."
   ]
  },
  {
   "cell_type": "code",
   "execution_count": null,
   "metadata": {},
   "outputs": [],
   "source": [
    "from selenium import webdriver\n",
    "from selenium.webdriver.common.by import By\n",
    "from selenium.webdriver.support.ui import WebDriverWait\n",
    "from selenium.webdriver.support import expected_conditions as EC\n",
    "\n",
    "# Replace with your website URL and login credentials\n",
    "website_url = \"https://www.example.com\"\n",
    "username = \"your_username\"\n",
    "password = \"your_password\"\n",
    "target_page_url = \"https://www.example.com/target_page\"\n",
    "\n",
    "# Initialize WebDriver (Chrome in this case)\n",
    "driver = webdriver.Chrome()\n",
    "\n",
    "# Navigate to the website\n",
    "driver.get(website_url)\n",
    "\n",
    "# Find the username input field and enter the username\n",
    "username_field = WebDriverWait(driver, 10).until(\n",
    "    EC.presence_of_element_located((By.ID, \"username\"))\n",
    ")\n",
    "username_field.send_keys(username)\n",
    "\n",
    "# Find the password input field and enter the password\n",
    "password_field = WebDriverWait(driver, 10).until(\n",
    "    EC.presence_of_element_located((By.ID, \"password\"))\n",
    ")\n",
    "password_field.send_keys(password)\n",
    "\n",
    "# Find the login button and click it\n",
    "login_button = WebDriverWait(driver, 10).until(\n",
    "    EC.element_to_be_clickable((By.XPATH, \"//button[contains(text(), 'Login')]\"))\n",
    ")\n",
    "login_button.click()\n",
    "\n",
    "# Wait for the target page to load\n",
    "WebDriverWait(driver, 10).until(EC.url_to_be(target_page_url))\n",
    "\n",
    "# Print a confirmation message\n",
    "print(\"Successfully logged in and navigated to:\", target_page_url)\n",
    "\n",
    "# Close the browser\n",
    "driver.quit()"
   ]
  },
  {
   "cell_type": "markdown",
   "metadata": {},
   "source": [
    "95. Write a Python program that uses Scikit-learn to build a logistic regression model to classify a dataset. Train the model on the Iris dataset, evaluate its accuracy, and print the results."
   ]
  },
  {
   "cell_type": "code",
   "execution_count": null,
   "metadata": {},
   "outputs": [],
   "source": [
    "from sklearn.datasets import load_iris\n",
    "from sklearn.model_selection import train_test_split\n",
    "from sklearn.linear_model import LogisticRegression\n",
    "from sklearn.metrics import accuracy_score\n",
    "\n",
    "# Load the Iris dataset\n",
    "iris = load_iris()\n",
    "X = iris.data  # Features\n",
    "y = iris.target  # Target labels\n",
    "\n",
    "# Split the dataset into training and testing sets\n",
    "X_train, X_test, y_train, y_test = train_test_split(X, y, test_size=0.2, random_state=42)\n",
    "\n",
    "# Create a logistic regression model\n",
    "model = LogisticRegression(random_state=42)\n",
    "\n",
    "# Train the model\n",
    "model.fit(X_train, y_train)\n",
    "\n",
    "# Make predictions on the test set\n",
    "y_pred = model.predict(X_test)\n",
    "\n",
    "# Evaluate the model accuracy\n",
    "accuracy = accuracy_score(y_test, y_pred)\n",
    "\n",
    "# Print the results\n",
    "print(f\"Accuracy: {accuracy:.2f}\")"
   ]
  },
  {
   "cell_type": "markdown",
   "metadata": {},
   "source": [
    "96. Write a Python function called knapsack that solves the 0/1 knapsack problem using dynamic programming. Given a list of items with weights and values, and a maximum weight capacity, find the maximum value that can be obtained."
   ]
  },
  {
   "cell_type": "code",
   "execution_count": null,
   "metadata": {},
   "outputs": [],
   "source": [
    "def knapsack(capacity, weights, values):\n",
    "    \"\"\"\n",
    "    Solves the 0/1 knapsack problem using dynamic programming.\n",
    "\n",
    "    Args:\n",
    "        capacity: The maximum weight capacity of the knapsack.\n",
    "        weights: A list of weights for each item.\n",
    "        values: A list of values for each item.\n",
    "\n",
    "    Returns:\n",
    "        The maximum value that can be obtained.\n",
    "    \"\"\"\n",
    "    n = len(weights)\n",
    "    dp = [[0 for _ in range(capacity + 1)] for _ in range(n + 1)]\n",
    "\n",
    "    # Iterate through each item\n",
    "    for i in range(1, n + 1):\n",
    "        # Iterate through each weight capacity\n",
    "        for w in range(1, capacity + 1):\n",
    "            # If the current item's weight is less than or equal to the current capacity\n",
    "            if weights[i - 1] <= w:\n",
    "                # Choose the maximum value: either including the current item or excluding it\n",
    "                dp[i][w] = max(\n",
    "                    values[i - 1] + dp[i - 1][w - weights[i - 1]], dp[i - 1][w]\n",
    "                )\n",
    "            # Otherwise, exclude the current item\n",
    "            else:\n",
    "                dp[i][w] = dp[i - 1][w]\n",
    "\n",
    "    # The maximum value is at the bottom-right corner of the DP table\n",
    "    return dp[n][capacity]\n",
    "\n",
    "\n",
    "# Example usage:\n",
    "weights = [10, 20, 30]\n",
    "values = [60, 100, 120]\n",
    "capacity = 50\n",
    "max_value = knapsack(capacity, weights, values)\n",
    "print(f\"Maximum value: {max_value}\")"
   ]
  },
  {
   "cell_type": "markdown",
   "metadata": {},
   "source": [
    "97. Write a Python program using the Scrapy framework to scrape product information (name, price, availability) from an e-commerce website and store the results in a CSV file."
   ]
  },
  {
   "cell_type": "code",
   "execution_count": null,
   "metadata": {},
   "outputs": [],
   "source": [
    "import scrapy\n",
    "\n",
    "class ProductSpider(scrapy.Spider):\n",
    "    name = \"product_spider\"\n",
    "    allowed_domains = [\"www.example.com\"]  # Replace with your target domain\n",
    "    start_urls = [\"https://www.example.com/products\"]  # Replace with the product list URL\n",
    "\n",
    "    def parse(self, response):\n",
    "        for product in response.css(\"div.product\"):  # Replace with your product selector\n",
    "            yield {\n",
    "                \"name\": product.css(\"h3.product-name::text\").get().strip(),  # Replace with your product name selector\n",
    "                \"price\": product.css(\"span.product-price::text\").get().strip(),  # Replace with your product price selector\n",
    "                \"availability\": product.css(\"span.availability::text\").get().strip(),  # Replace with your product availability selector\n",
    "            }\n",
    "\n",
    "        # Follow pagination links if any\n",
    "        next_page = response.css(\"a.next-page::attr(href)\").get()\n",
    "        if next_page is not None:\n",
    "            yield response.follow(next_page, callback=self.parse)\n",
    "\n",
    "# Run the spider\n",
    "from scrapy.crawler import CrawlerProcess\n",
    "\n",
    "process = CrawlerProcess({\n",
    "    'FEED_FORMAT': 'csv',\n",
    "    'FEED_URI': 'products.csv',\n",
    "})\n",
    "process.crawl(ProductSpider)\n",
    "process.start()"
   ]
  },
  {
   "cell_type": "markdown",
   "metadata": {},
   "source": [
    "98. Write a Python program that uses TensorFlow to implement a simple convolutional neural network (CNN) for image classification. Train the network on the CIFAR-10 dataset and evaluate its performance."
   ]
  },
  {
   "cell_type": "code",
   "execution_count": null,
   "metadata": {},
   "outputs": [],
   "source": [
    "import tensorflow as tf\n",
    "from tensorflow.keras.datasets import cifar10\n",
    "from tensorflow.keras.models import Sequential\n",
    "from tensorflow.keras.layers import Conv2D, MaxPooling2D, Flatten, Dense\n",
    "from tensorflow.keras.utils import to_categorical\n",
    "\n",
    "# Load the CIFAR-10 dataset\n",
    "(x_train, y_train), (x_test, y_test) = cifar10.load_data()\n",
    "\n",
    "# Preprocess the data\n",
    "x_train = x_train.astype('float32') / 255.0\n",
    "x_test = x_test.astype('float32') / 255.0\n",
    "y_train = to_categorical(y_train, num_classes=10)\n",
    "y_test = to_categorical(y_test, num_classes=10)\n",
    "\n",
    "# Define the CNN model\n",
    "model = Sequential()\n",
    "model.add(Conv2D(32, (3, 3), activation='relu', input_shape=(32, 32, 3)))\n",
    "model.add(MaxPooling2D((2, 2)))\n",
    "model.add(Conv2D(64, (3, 3), activation='relu'))\n",
    "model.add(MaxPooling2D((2, 2)))\n",
    "model.add(Flatten())\n",
    "model.add(Dense(10, activation='softmax'))\n",
    "\n",
    "# Compile the model\n",
    "model.compile(optimizer='adam', loss='categorical_crossentropy', metrics=['accuracy'])\n",
    "\n",
    "# Train the model\n",
    "model.fit(x_train, y_train, epochs=10, batch_size=32, validation_data=(x_test, y_test))\n",
    "\n",
    "# Evaluate the model\n",
    "loss, accuracy = model.evaluate(x_test, y_test, verbose=0)\n",
    "print(f'Test Loss: {loss:.4f}')\n",
    "print(f'Test Accuracy: {accuracy:.4f}')"
   ]
  },
  {
   "cell_type": "markdown",
   "metadata": {},
   "source": [
    "99. Write a Python program that uses PyTorch to implement a simple recurrent neural network (RNN) for text classification. Train the network on a small text dataset and print the accuracy."
   ]
  },
  {
   "cell_type": "code",
   "execution_count": null,
   "metadata": {},
   "outputs": [],
   "source": [
    "import torch\n",
    "import torch.nn as nn\n",
    "import torch.optim as optim\n",
    "from torch.utils.data import Dataset, DataLoader\n",
    "\n",
    "# Define a simple text dataset\n",
    "class TextDataset(Dataset):\n",
    "    def __init__(self, sentences, labels):\n",
    "        self.sentences = sentences\n",
    "        self.labels = labels\n",
    "\n",
    "    def __len__(self):\n",
    "        return len(self.sentences)\n",
    "\n",
    "    def __getitem__(self, idx):\n",
    "        return self.sentences[idx], self.labels[idx]\n",
    "\n",
    "# Define a simple RNN model\n",
    "class RNN(nn.Module):\n",
    "    def __init__(self, input_size, hidden_size, output_size):\n",
    "        super(RNN, self).__init__()\n",
    "        self.rnn = nn.RNN(input_size, hidden_size)\n",
    "        self.fc = nn.Linear(hidden_size, output_size)\n",
    "\n",
    "    def forward(self, x):\n",
    "        # Reshape input to (seq_len, batch_size, input_size)\n",
    "        x = x.view(1, 1, -1)\n",
    "        # Pass through RNN\n",
    "        output, hidden = self.rnn(x)\n",
    "        # Extract last hidden state\n",
    "        output = output[-1, :, :]\n",
    "        # Pass through fully connected layer\n",
    "        output = self.fc(output)\n",
    "        return output\n",
    "\n",
    "# Create a small text dataset\n",
    "sentences = [\n",
    "    \"This is a positive sentence.\",\n",
    "    \"This is a negative sentence.\",\n",
    "    \"This is another positive sentence.\",\n",
    "    \"This is another negative sentence.\",\n",
    "]\n",
    "labels = [1, 0, 1, 0]\n",
    "\n",
    "# Create a DataLoader\n",
    "dataset = TextDataset(sentences, labels)\n",
    "dataloader = DataLoader(dataset, batch_size=1, shuffle=True)\n",
    "\n",
    "# Initialize the model, optimizer, and loss function\n",
    "input_size = len(sentences[0].split())\n",
    "hidden_size = 10\n",
    "output_size = 2\n",
    "model = RNN(input_size, hidden_size, output_size)\n",
    "optimizer = optim.Adam(model.parameters())\n",
    "criterion = nn.CrossEntropyLoss()\n",
    "\n",
    "# Train the model\n",
    "num_epochs = 10\n",
    "for epoch in range(num_epochs):\n",
    "    for sentence, label in dataloader:\n",
    "        # Forward pass\n",
    "        output = model(sentence)\n",
    "        # Calculate loss\n",
    "        loss = criterion(output, torch.tensor([label]))\n",
    "        # Backward pass\n",
    "        optimizer.zero_grad()\n",
    "        loss.backward()\n",
    "        # Update weights\n",
    "        optimizer.step()\n",
    "\n",
    "    # Print epoch loss\n",
    "    print(f\"Epoch {epoch+1}, Loss: {loss.item():.4f}\")\n",
    "\n",
    "# Evaluate the model\n",
    "model.eval()\n",
    "correct = 0\n",
    "total = 0\n",
    "with torch.no_grad():\n",
    "    for sentence, label in dataloader:\n",
    "        output = model(sentence)\n",
    "        predicted = torch.argmax(output).item()\n",
    "        total += 1\n",
    "        if predicted == label:\n",
    "            correct += 1\n",
    "\n",
    "# Print accuracy\n",
    "accuracy = correct / total\n",
    "print(f\"Accuracy: {accuracy:.4f}\")"
   ]
  },
  {
   "cell_type": "markdown",
   "metadata": {},
   "source": [
    "100. Write a Python program that builds a recommendation system using collaborative filtering. Use a sample dataset of user-item interactions, and recommend items to a user based on similar users' preferences."
   ]
  },
  {
   "cell_type": "code",
   "execution_count": null,
   "metadata": {},
   "outputs": [],
   "source": [
    "import pandas as pd\n",
    "from sklearn.metrics.pairwise import cosine_similarity\n",
    "\n",
    "# Sample user-item interaction data\n",
    "data = {\n",
    "    'user_id': [1, 1, 1, 2, 2, 2, 3, 3, 3, 4, 4, 4],\n",
    "    'item_id': [1, 2, 3, 1, 4, 5, 2, 3, 5, 1, 2, 3],\n",
    "    'rating': [5, 4, 3, 4, 5, 2, 3, 5, 4, 2, 3, 4]\n",
    "}\n",
    "df = pd.DataFrame(data)\n",
    "\n",
    "# Create a user-item matrix\n",
    "user_item_matrix = df.pivot_table(index='user_id', columns='item_id', values='rating', fill_value=0)\n",
    "\n",
    "# Calculate cosine similarity between users\n",
    "similarity_matrix = cosine_similarity(user_item_matrix)\n",
    "\n",
    "# Function to get recommendations for a user\n",
    "def get_recommendations(user_id, num_recommendations):\n",
    "    # Get similarity scores for the target user\n",
    "    similarity_scores = similarity_matrix[user_id - 1]\n",
    "\n",
    "    # Get the indices of the most similar users (excluding the target user)\n",
    "    top_similar_users = similarity_scores.argsort()[:-2:-1]\n",
    "\n",
    "    # Create a list to store recommendations\n",
    "    recommendations = []\n",
    "\n",
    "    # Iterate through the top similar users\n",
    "    for similar_user in top_similar_users:\n",
    "        # Get the items rated by the similar user\n",
    "        similar_user_ratings = user_item_matrix.iloc[similar_user]\n",
    "\n",
    "        # Get the items not rated by the target user\n",
    "        unrated_items = similar_user_ratings[user_item_matrix.iloc[user_id - 1] == 0].index\n",
    "\n",
    "        # Sort the unrated items by rating in descending order\n",
    "        sorted_unrated_items = similar_user_ratings[unrated_items].sort_values(ascending=False)\n",
    "\n",
    "        # Add the top recommendations to the list\n",
    "        recommendations.extend(sorted_unrated_items.index[:num_recommendations])\n",
    "\n",
    "    # Remove duplicates and return the recommendations\n",
    "    return list(set(recommendations))\n",
    "\n",
    "# Get recommendations for user 1\n",
    "recommendations = get_recommendations(1, 3)\n",
    "\n",
    "# Print the recommendations\n",
    "print(f\"Recommendations for user 1: {recommendations}\")"
   ]
  },
  {
   "cell_type": "markdown",
   "metadata": {},
   "source": [
    "#### ANALYSIS"
   ]
  },
  {
   "cell_type": "markdown",
   "metadata": {},
   "source": [
    "Analysis has been submitted in the research paper published. "
   ]
  }
 ],
 "metadata": {
  "kernelspec": {
   "display_name": "Python 3",
   "language": "python",
   "name": "python3"
  },
  "language_info": {
   "codemirror_mode": {
    "name": "ipython",
    "version": 3
   },
   "file_extension": ".py",
   "mimetype": "text/x-python",
   "name": "python",
   "nbconvert_exporter": "python",
   "pygments_lexer": "ipython3",
   "version": "3.11.9"
  }
 },
 "nbformat": 4,
 "nbformat_minor": 2
}
